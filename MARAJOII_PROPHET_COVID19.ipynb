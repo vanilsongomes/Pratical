{
  "nbformat": 4,
  "nbformat_minor": 0,
  "metadata": {
    "kernelspec": {
      "display_name": "Python 3",
      "language": "python",
      "name": "python3"
    },
    "language_info": {
      "codemirror_mode": {
        "name": "ipython",
        "version": 3
      },
      "file_extension": ".py",
      "mimetype": "text/x-python",
      "name": "python",
      "nbconvert_exporter": "python",
      "pygments_lexer": "ipython3",
      "version": "3.7.6"
    },
    "colab": {
      "name": "MARAJOII_PROPHET_COVID19.ipynb",
      "provenance": [],
      "include_colab_link": true
    }
  },
  "cells": [
    {
      "cell_type": "markdown",
      "metadata": {
        "id": "view-in-github",
        "colab_type": "text"
      },
      "source": [
        "<a href=\"https://colab.research.google.com/github/vanilsongomes/Pratical/blob/master/MARAJOII_PROPHET_COVID19.ipynb\" target=\"_parent\"><img src=\"https://colab.research.google.com/assets/colab-badge.svg\" alt=\"Open In Colab\"/></a>"
      ]
    },
    {
      "cell_type": "markdown",
      "metadata": {
        "id": "V029pmFaRwTA",
        "colab_type": "text"
      },
      "source": [
        "# **FACULDADE DE MATEMÁTICA - UFPA/CUMB**\n",
        "## **PREVISÃO DO COVID-19 NO MARAJÓ**\n",
        "\n",
        "### <center>Analysis of the COVID-19 Pandemic Machine Learning Technics for Forecasting</center>"
      ]
    },
    {
      "cell_type": "code",
      "metadata": {
        "id": "woCx1Y0iRwTB",
        "colab_type": "code",
        "colab": {
          "base_uri": "https://localhost:8080/",
          "height": 70
        },
        "outputId": "1665023d-28d1-441f-fc0e-1cbd9b2b51e7"
      },
      "source": [
        "import numpy as np \n",
        "import matplotlib.pyplot as plt\n",
        "import matplotlib.colors as mcolors\n",
        "import pandas as pd \n",
        "import random\n",
        "import math\n",
        "import time\n",
        "import re\n",
        "import seaborn as sns\n",
        "import plotly.express as px\n",
        "import plotly.graph_objects as go\n",
        "pd.set_option('display.max_rows',1000, 'display.max_columns',50)\n",
        "from collections import Counter\n",
        "\n",
        "#######################PROPHET PREDICTION #######################\n",
        "\n",
        "from fbprophet import Prophet\n",
        "import warnings\n",
        "warnings.filterwarnings('ignore')\n",
        "\n",
        "##################################################################\n",
        "from sklearn.linear_model import LinearRegression, BayesianRidge\n",
        "from sklearn.model_selection import RandomizedSearchCV, train_test_split\n",
        "from sklearn.preprocessing import PolynomialFeatures\n",
        "from sklearn.svm import SVR\n",
        "from sklearn.metrics import mean_squared_error, mean_absolute_error\n",
        "import datetime\n",
        "import operator \n",
        "plt.style.use('fivethirtyeight')\n",
        "%matplotlib inline"
      ],
      "execution_count": 1,
      "outputs": [
        {
          "output_type": "stream",
          "text": [
            "/usr/local/lib/python3.6/dist-packages/statsmodels/tools/_testing.py:19: FutureWarning: pandas.util.testing is deprecated. Use the functions in the public API at pandas.testing instead.\n",
            "  import pandas.util.testing as tm\n"
          ],
          "name": "stderr"
        }
      ]
    },
    {
      "cell_type": "code",
      "metadata": {
        "id": "X0CJQxqbRwTE",
        "colab_type": "code",
        "colab": {
          "base_uri": "https://localhost:8080/",
          "height": 299
        },
        "outputId": "930be37f-445a-4263-f098-519687e6b54c"
      },
      "source": [
        "df_total_brazil =\"https://raw.githubusercontent.com/wcota/covid19br/master/cases-brazil-cities-time.csv\"\n",
        "##df_total_brazil =\"https://raw.githubusercontent.com/wcota/covid19br/master/cases-brazil-cities.csv\"\n",
        "df_brasil = pd.read_csv(df_total_brazil)\n",
        "df_brasil.head()"
      ],
      "execution_count": 2,
      "outputs": [
        {
          "output_type": "execute_result",
          "data": {
            "text/html": [
              "<div>\n",
              "<style scoped>\n",
              "    .dataframe tbody tr th:only-of-type {\n",
              "        vertical-align: middle;\n",
              "    }\n",
              "\n",
              "    .dataframe tbody tr th {\n",
              "        vertical-align: top;\n",
              "    }\n",
              "\n",
              "    .dataframe thead th {\n",
              "        text-align: right;\n",
              "    }\n",
              "</style>\n",
              "<table border=\"1\" class=\"dataframe\">\n",
              "  <thead>\n",
              "    <tr style=\"text-align: right;\">\n",
              "      <th></th>\n",
              "      <th>epi_week</th>\n",
              "      <th>date</th>\n",
              "      <th>country</th>\n",
              "      <th>state</th>\n",
              "      <th>city</th>\n",
              "      <th>ibgeID</th>\n",
              "      <th>cod_RegiaoDeSaude</th>\n",
              "      <th>name_RegiaoDeSaude</th>\n",
              "      <th>newDeaths</th>\n",
              "      <th>deaths</th>\n",
              "      <th>newCases</th>\n",
              "      <th>totalCases</th>\n",
              "      <th>deaths_per_100k_inhabitants</th>\n",
              "      <th>totalCases_per_100k_inhabitants</th>\n",
              "      <th>deaths_by_totalCases</th>\n",
              "      <th>_source</th>\n",
              "    </tr>\n",
              "  </thead>\n",
              "  <tbody>\n",
              "    <tr>\n",
              "      <th>0</th>\n",
              "      <td>9</td>\n",
              "      <td>2020-02-25</td>\n",
              "      <td>Brazil</td>\n",
              "      <td>SP</td>\n",
              "      <td>São Paulo/SP</td>\n",
              "      <td>3550308</td>\n",
              "      <td>35016.0</td>\n",
              "      <td>São Paulo</td>\n",
              "      <td>0</td>\n",
              "      <td>0</td>\n",
              "      <td>1</td>\n",
              "      <td>1</td>\n",
              "      <td>0.0</td>\n",
              "      <td>0.00816</td>\n",
              "      <td>0.0</td>\n",
              "      <td>SES</td>\n",
              "    </tr>\n",
              "    <tr>\n",
              "      <th>1</th>\n",
              "      <td>9</td>\n",
              "      <td>2020-02-25</td>\n",
              "      <td>Brazil</td>\n",
              "      <td>TOTAL</td>\n",
              "      <td>TOTAL</td>\n",
              "      <td>0</td>\n",
              "      <td>NaN</td>\n",
              "      <td>NaN</td>\n",
              "      <td>0</td>\n",
              "      <td>0</td>\n",
              "      <td>1</td>\n",
              "      <td>1</td>\n",
              "      <td>0.0</td>\n",
              "      <td>0.00048</td>\n",
              "      <td>0.0</td>\n",
              "      <td>NaN</td>\n",
              "    </tr>\n",
              "    <tr>\n",
              "      <th>2</th>\n",
              "      <td>9</td>\n",
              "      <td>2020-02-26</td>\n",
              "      <td>Brazil</td>\n",
              "      <td>SP</td>\n",
              "      <td>São Paulo/SP</td>\n",
              "      <td>3550308</td>\n",
              "      <td>35016.0</td>\n",
              "      <td>São Paulo</td>\n",
              "      <td>0</td>\n",
              "      <td>0</td>\n",
              "      <td>0</td>\n",
              "      <td>1</td>\n",
              "      <td>0.0</td>\n",
              "      <td>0.00816</td>\n",
              "      <td>0.0</td>\n",
              "      <td>SES</td>\n",
              "    </tr>\n",
              "    <tr>\n",
              "      <th>3</th>\n",
              "      <td>9</td>\n",
              "      <td>2020-02-26</td>\n",
              "      <td>Brazil</td>\n",
              "      <td>TOTAL</td>\n",
              "      <td>TOTAL</td>\n",
              "      <td>0</td>\n",
              "      <td>NaN</td>\n",
              "      <td>NaN</td>\n",
              "      <td>0</td>\n",
              "      <td>0</td>\n",
              "      <td>0</td>\n",
              "      <td>1</td>\n",
              "      <td>0.0</td>\n",
              "      <td>0.00048</td>\n",
              "      <td>0.0</td>\n",
              "      <td>NaN</td>\n",
              "    </tr>\n",
              "    <tr>\n",
              "      <th>4</th>\n",
              "      <td>9</td>\n",
              "      <td>2020-02-27</td>\n",
              "      <td>Brazil</td>\n",
              "      <td>SP</td>\n",
              "      <td>São Paulo/SP</td>\n",
              "      <td>3550308</td>\n",
              "      <td>35016.0</td>\n",
              "      <td>São Paulo</td>\n",
              "      <td>0</td>\n",
              "      <td>0</td>\n",
              "      <td>0</td>\n",
              "      <td>1</td>\n",
              "      <td>0.0</td>\n",
              "      <td>0.00816</td>\n",
              "      <td>0.0</td>\n",
              "      <td>SES</td>\n",
              "    </tr>\n",
              "  </tbody>\n",
              "</table>\n",
              "</div>"
            ],
            "text/plain": [
              "   epi_week        date country  state          city   ibgeID  \\\n",
              "0         9  2020-02-25  Brazil     SP  São Paulo/SP  3550308   \n",
              "1         9  2020-02-25  Brazil  TOTAL         TOTAL        0   \n",
              "2         9  2020-02-26  Brazil     SP  São Paulo/SP  3550308   \n",
              "3         9  2020-02-26  Brazil  TOTAL         TOTAL        0   \n",
              "4         9  2020-02-27  Brazil     SP  São Paulo/SP  3550308   \n",
              "\n",
              "   cod_RegiaoDeSaude name_RegiaoDeSaude  newDeaths  deaths  newCases  \\\n",
              "0            35016.0          São Paulo          0       0         1   \n",
              "1                NaN                NaN          0       0         1   \n",
              "2            35016.0          São Paulo          0       0         0   \n",
              "3                NaN                NaN          0       0         0   \n",
              "4            35016.0          São Paulo          0       0         0   \n",
              "\n",
              "   totalCases  deaths_per_100k_inhabitants  totalCases_per_100k_inhabitants  \\\n",
              "0           1                          0.0                          0.00816   \n",
              "1           1                          0.0                          0.00048   \n",
              "2           1                          0.0                          0.00816   \n",
              "3           1                          0.0                          0.00048   \n",
              "4           1                          0.0                          0.00816   \n",
              "\n",
              "   deaths_by_totalCases _source  \n",
              "0                   0.0     SES  \n",
              "1                   0.0     NaN  \n",
              "2                   0.0     SES  \n",
              "3                   0.0     NaN  \n",
              "4                   0.0     SES  "
            ]
          },
          "metadata": {
            "tags": []
          },
          "execution_count": 2
        }
      ]
    },
    {
      "cell_type": "code",
      "metadata": {
        "id": "uwvKzUdMRwTI",
        "colab_type": "code",
        "colab": {
          "base_uri": "https://localhost:8080/",
          "height": 160
        },
        "outputId": "0a1ffb4d-29d0-48bf-c6e3-367185b3b4ee"
      },
      "source": [
        "marajo_PA = df_brasil[df_brasil['name_RegiaoDeSaude'] == 'Marajó II']\n",
        "marajo_PA.head(2)"
      ],
      "execution_count": 3,
      "outputs": [
        {
          "output_type": "execute_result",
          "data": {
            "text/html": [
              "<div>\n",
              "<style scoped>\n",
              "    .dataframe tbody tr th:only-of-type {\n",
              "        vertical-align: middle;\n",
              "    }\n",
              "\n",
              "    .dataframe tbody tr th {\n",
              "        vertical-align: top;\n",
              "    }\n",
              "\n",
              "    .dataframe thead th {\n",
              "        text-align: right;\n",
              "    }\n",
              "</style>\n",
              "<table border=\"1\" class=\"dataframe\">\n",
              "  <thead>\n",
              "    <tr style=\"text-align: right;\">\n",
              "      <th></th>\n",
              "      <th>epi_week</th>\n",
              "      <th>date</th>\n",
              "      <th>country</th>\n",
              "      <th>state</th>\n",
              "      <th>city</th>\n",
              "      <th>ibgeID</th>\n",
              "      <th>cod_RegiaoDeSaude</th>\n",
              "      <th>name_RegiaoDeSaude</th>\n",
              "      <th>newDeaths</th>\n",
              "      <th>deaths</th>\n",
              "      <th>newCases</th>\n",
              "      <th>totalCases</th>\n",
              "      <th>deaths_per_100k_inhabitants</th>\n",
              "      <th>totalCases_per_100k_inhabitants</th>\n",
              "      <th>deaths_by_totalCases</th>\n",
              "      <th>_source</th>\n",
              "    </tr>\n",
              "  </thead>\n",
              "  <tbody>\n",
              "    <tr>\n",
              "      <th>14847</th>\n",
              "      <td>16</td>\n",
              "      <td>2020-04-15</td>\n",
              "      <td>Brazil</td>\n",
              "      <td>PA</td>\n",
              "      <td>Curralinho/PA</td>\n",
              "      <td>1502806</td>\n",
              "      <td>15014.0</td>\n",
              "      <td>Marajó II</td>\n",
              "      <td>0</td>\n",
              "      <td>0</td>\n",
              "      <td>1</td>\n",
              "      <td>1</td>\n",
              "      <td>0.0</td>\n",
              "      <td>2.90293</td>\n",
              "      <td>0.0</td>\n",
              "      <td>SES</td>\n",
              "    </tr>\n",
              "    <tr>\n",
              "      <th>16047</th>\n",
              "      <td>16</td>\n",
              "      <td>2020-04-16</td>\n",
              "      <td>Brazil</td>\n",
              "      <td>PA</td>\n",
              "      <td>Curralinho/PA</td>\n",
              "      <td>1502806</td>\n",
              "      <td>15014.0</td>\n",
              "      <td>Marajó II</td>\n",
              "      <td>0</td>\n",
              "      <td>0</td>\n",
              "      <td>0</td>\n",
              "      <td>1</td>\n",
              "      <td>0.0</td>\n",
              "      <td>2.90293</td>\n",
              "      <td>0.0</td>\n",
              "      <td>SES</td>\n",
              "    </tr>\n",
              "  </tbody>\n",
              "</table>\n",
              "</div>"
            ],
            "text/plain": [
              "       epi_week        date country state           city   ibgeID  \\\n",
              "14847        16  2020-04-15  Brazil    PA  Curralinho/PA  1502806   \n",
              "16047        16  2020-04-16  Brazil    PA  Curralinho/PA  1502806   \n",
              "\n",
              "       cod_RegiaoDeSaude name_RegiaoDeSaude  newDeaths  deaths  newCases  \\\n",
              "14847            15014.0          Marajó II          0       0         1   \n",
              "16047            15014.0          Marajó II          0       0         0   \n",
              "\n",
              "       totalCases  deaths_per_100k_inhabitants  \\\n",
              "14847           1                          0.0   \n",
              "16047           1                          0.0   \n",
              "\n",
              "       totalCases_per_100k_inhabitants  deaths_by_totalCases _source  \n",
              "14847                          2.90293                   0.0     SES  \n",
              "16047                          2.90293                   0.0     SES  "
            ]
          },
          "metadata": {
            "tags": []
          },
          "execution_count": 3
        }
      ]
    },
    {
      "cell_type": "code",
      "metadata": {
        "id": "_FEQX49MRwTK",
        "colab_type": "code",
        "colab": {
          "base_uri": "https://localhost:8080/",
          "height": 617
        },
        "outputId": "31cd1e51-4d89-46fd-e112-ddd8d835c2ea"
      },
      "source": [
        "#Till 15th April Cases in Marajo\n",
        "df1= marajo_PA[marajo_PA['name_RegiaoDeSaude']=='Marajó II']\n",
        "fig = px.bar(df1, x='city', y='totalCases', color='totalCases', height=600)\n",
        "fig.update_layout(\n",
        "    title='Till 28th April Total Cases in Marajó II')\n",
        "fig.show()\n"
      ],
      "execution_count": 4,
      "outputs": [
        {
          "output_type": "display_data",
          "data": {
            "text/html": [
              "<html>\n",
              "<head><meta charset=\"utf-8\" /></head>\n",
              "<body>\n",
              "    <div>\n",
              "            <script src=\"https://cdnjs.cloudflare.com/ajax/libs/mathjax/2.7.5/MathJax.js?config=TeX-AMS-MML_SVG\"></script><script type=\"text/javascript\">if (window.MathJax) {MathJax.Hub.Config({SVG: {font: \"STIX-Web\"}});}</script>\n",
              "                <script type=\"text/javascript\">window.PlotlyConfig = {MathJaxConfig: 'local'};</script>\n",
              "        <script src=\"https://cdn.plot.ly/plotly-latest.min.js\"></script>    \n",
              "            <div id=\"0a3fee03-309f-4baf-ae32-58fdef1f4cbd\" class=\"plotly-graph-div\" style=\"height:600px; width:100%;\"></div>\n",
              "            <script type=\"text/javascript\">\n",
              "                \n",
              "                    window.PLOTLYENV=window.PLOTLYENV || {};\n",
              "                    \n",
              "                if (document.getElementById(\"0a3fee03-309f-4baf-ae32-58fdef1f4cbd\")) {\n",
              "                    Plotly.newPlot(\n",
              "                        '0a3fee03-309f-4baf-ae32-58fdef1f4cbd',\n",
              "                        [{\"alignmentgroup\": \"True\", \"hoverlabel\": {\"namelength\": 0}, \"hovertemplate\": \"city=%{x}<br>totalCases=%{marker.color}\", \"legendgroup\": \"\", \"marker\": {\"color\": [1, 1, 1, 1, 1, 3, 1, 4, 1, 4, 0, 1, 4, 0, 0, 11, 3, 0, 11, 3, 0, 2, 15, 4, 0, 2, 24, 4, 1, 0, 2, 27, 4, 1, 0, 2, 31, 5, 1, 0, 3, 35, 5, 1, 0, 3, 42, 5, 3, 0, 3, 42, 5, 3, 0, 3, 71, 7, 6, 0, 4, 89, 7, 6, 1, 4, 94, 7, 6, 1, 1, 4, 111, 8, 6, 6, 1, 4, 132, 9, 6, 6, 1, 4, 143, 13, 6, 11, 1, 5, 187, 13, 2, 13, 12, 1, 7, 196, 19, 5, 13, 16, 1, 7, 224, 19, 5, 25, 17, 1, 8, 247, 19, 5, 26, 19, 1, 8, 292, 27, 6, 36, 31, 6, 9, 309, 29, 6, 36, 38, 12, 9, 321, 29, 6, 40, 43, 12, 11, 350, 29, 6, 40, 46, 12, 22, 366, 36, 6, 45, 55, 22, 24, 374, 36, 6, 45, 63, 22, 24, 374, 36, 6, 45, 63, 72, 32, 407, 36, 6, 45, 77, 72, 33, 420, 41, 6, 45, 89, 72, 34, 432, 41, 11, 48, 144, 90, 34, 432, 41, 11, 48, 159, 90, 41, 439, 41, 11, 48, 160, 91, 45, 460, 41, 11, 65, 179, 106, 50, 472, 41, 11, 65, 244, 106, 54, 485, 41, 11, 67, 261, 113, 65, 491, 86, 13, 67, 319, 119, 79, 492, 86, 14, 68, 336, 120, 80, 495, 86, 14, 69, 351, 120, 80, 495, 87, 14, 74, 351, 126, 87, 498, 96, 15, 91, 387, 131, 96, 531, 96, 15, 102, 424, 146, 96, 568, 96, 26, 109, 448, 146, 98, 585, 96, 48, 129, 454, 165, 98, 632, 96, 49, 150, 465, 165, 98, 632, 96, 49, 150, 465, 165, 98, 632, 102, 49, 150, 476, 173, 106, 634, 104, 59, 151, 503, 181, 115, 649, 104, 60, 168, 514, 190, 116, 768, 105, 60, 169, 519, 190, 116, 769, 105, 65, 169, 523, 190, 117, 769, 105, 115, 169, 531, 200, 120, 789, 105, 118, 169, 541, 211, 120, 789, 105, 139, 169, 567, 211, 122, 813, 105, 149, 169, 578, 211, 124, 885, 105, 206, 172, 591, 225, 138, 904, 105, 258, 172, 597, 225, 145, 916, 105, 324, 173, 607, 228, 148, 928, 107, 326, 176, 616, 228, 148, 929, 107, 326, 176, 626, 242, 148, 929, 108, 326, 176, 636, 243, 148, 991, 110, 401, 177, 650, 246, 160, 1029, 110, 484, 184, 662, 246, 178, 1047, 131, 514, 185, 667, 260, 183, 1072, 160, 514, 185, 672, 260, 184, 1092, 172, 584, 185, 684, 260, 184, 1092, 172, 584, 188, 695, 260, 184, 1092, 172, 584, 188, 701, 270, 184, 1114, 172, 651, 188, 701, 313, 184, 1280, 179, 743, 188, 701, 313, 184, 1283, 193, 752, 188, 739, 314, 184, 1298, 209, 857, 188, 749, 314, 184, 1322, 209, 908, 188, 761, 331, 184, 1323, 209, 950, 189, 769, 332, 184, 1323, 209, 950, 190, 772, 347, 184, 1336, 209, 950, 190, 782, 390, 203, 1364, 209, 964, 190, 800, 391, 203, 1376, 209, 986, 192, 832, 392, 203, 1389, 209, 996, 192, 844, 392, 203, 1389, 209, 996, 192, 844], \"coloraxis\": \"coloraxis\"}, \"name\": \"\", \"offsetgroup\": \"\", \"orientation\": \"v\", \"showlegend\": false, \"textposition\": \"auto\", \"type\": \"bar\", \"x\": [\"Curralinho/PA\", \"Curralinho/PA\", \"Curralinho/PA\", \"Curralinho/PA\", \"Curralinho/PA\", \"Breves/PA\", \"Curralinho/PA\", \"Breves/PA\", \"Curralinho/PA\", \"Breves/PA\", \"Curralinho/PA\", \"Anaj\\u00e1s/PA\", \"Breves/PA\", \"Curralinho/PA\", \"Anaj\\u00e1s/PA\", \"Breves/PA\", \"Curralinho/PA\", \"Anaj\\u00e1s/PA\", \"Breves/PA\", \"Curralinho/PA\", \"Anaj\\u00e1s/PA\", \"Bagre/PA\", \"Breves/PA\", \"Curralinho/PA\", \"Anaj\\u00e1s/PA\", \"Bagre/PA\", \"Breves/PA\", \"Curralinho/PA\", \"Melga\\u00e7o/PA\", \"Anaj\\u00e1s/PA\", \"Bagre/PA\", \"Breves/PA\", \"Curralinho/PA\", \"Melga\\u00e7o/PA\", \"Anaj\\u00e1s/PA\", \"Bagre/PA\", \"Breves/PA\", \"Curralinho/PA\", \"Melga\\u00e7o/PA\", \"Anaj\\u00e1s/PA\", \"Bagre/PA\", \"Breves/PA\", \"Curralinho/PA\", \"Melga\\u00e7o/PA\", \"Anaj\\u00e1s/PA\", \"Bagre/PA\", \"Breves/PA\", \"Curralinho/PA\", \"Melga\\u00e7o/PA\", \"Anaj\\u00e1s/PA\", \"Bagre/PA\", \"Breves/PA\", \"Curralinho/PA\", \"Melga\\u00e7o/PA\", \"Anaj\\u00e1s/PA\", \"Bagre/PA\", \"Breves/PA\", \"Curralinho/PA\", \"Melga\\u00e7o/PA\", \"Anaj\\u00e1s/PA\", \"Bagre/PA\", \"Breves/PA\", \"Curralinho/PA\", \"Melga\\u00e7o/PA\", \"Anaj\\u00e1s/PA\", \"Bagre/PA\", \"Breves/PA\", \"Curralinho/PA\", \"Melga\\u00e7o/PA\", \"Portel/PA\", \"Anaj\\u00e1s/PA\", \"Bagre/PA\", \"Breves/PA\", \"Curralinho/PA\", \"Melga\\u00e7o/PA\", \"Portel/PA\", \"Anaj\\u00e1s/PA\", \"Bagre/PA\", \"Breves/PA\", \"Curralinho/PA\", \"Melga\\u00e7o/PA\", \"Portel/PA\", \"Anaj\\u00e1s/PA\", \"Bagre/PA\", \"Breves/PA\", \"Curralinho/PA\", \"Melga\\u00e7o/PA\", \"Portel/PA\", \"Anaj\\u00e1s/PA\", \"Bagre/PA\", \"Breves/PA\", \"Curralinho/PA\", \"Gurup\\u00e1/PA\", \"Melga\\u00e7o/PA\", \"Portel/PA\", \"Anaj\\u00e1s/PA\", \"Bagre/PA\", \"Breves/PA\", \"Curralinho/PA\", \"Gurup\\u00e1/PA\", \"Melga\\u00e7o/PA\", \"Portel/PA\", \"Anaj\\u00e1s/PA\", \"Bagre/PA\", \"Breves/PA\", \"Curralinho/PA\", \"Gurup\\u00e1/PA\", \"Melga\\u00e7o/PA\", \"Portel/PA\", \"Anaj\\u00e1s/PA\", \"Bagre/PA\", \"Breves/PA\", \"Curralinho/PA\", \"Gurup\\u00e1/PA\", \"Melga\\u00e7o/PA\", \"Portel/PA\", \"Anaj\\u00e1s/PA\", \"Bagre/PA\", \"Breves/PA\", \"Curralinho/PA\", \"Gurup\\u00e1/PA\", \"Melga\\u00e7o/PA\", \"Portel/PA\", \"Anaj\\u00e1s/PA\", \"Bagre/PA\", \"Breves/PA\", \"Curralinho/PA\", \"Gurup\\u00e1/PA\", \"Melga\\u00e7o/PA\", \"Portel/PA\", \"Anaj\\u00e1s/PA\", \"Bagre/PA\", \"Breves/PA\", \"Curralinho/PA\", \"Gurup\\u00e1/PA\", \"Melga\\u00e7o/PA\", \"Portel/PA\", \"Anaj\\u00e1s/PA\", \"Bagre/PA\", \"Breves/PA\", \"Curralinho/PA\", \"Gurup\\u00e1/PA\", \"Melga\\u00e7o/PA\", \"Portel/PA\", \"Anaj\\u00e1s/PA\", \"Bagre/PA\", \"Breves/PA\", \"Curralinho/PA\", \"Gurup\\u00e1/PA\", \"Melga\\u00e7o/PA\", \"Portel/PA\", \"Anaj\\u00e1s/PA\", \"Bagre/PA\", \"Breves/PA\", \"Curralinho/PA\", \"Gurup\\u00e1/PA\", \"Melga\\u00e7o/PA\", \"Portel/PA\", \"Anaj\\u00e1s/PA\", \"Bagre/PA\", \"Breves/PA\", \"Curralinho/PA\", \"Gurup\\u00e1/PA\", \"Melga\\u00e7o/PA\", \"Portel/PA\", \"Anaj\\u00e1s/PA\", \"Bagre/PA\", \"Breves/PA\", \"Curralinho/PA\", \"Gurup\\u00e1/PA\", \"Melga\\u00e7o/PA\", \"Portel/PA\", \"Anaj\\u00e1s/PA\", \"Bagre/PA\", \"Breves/PA\", \"Curralinho/PA\", \"Gurup\\u00e1/PA\", \"Melga\\u00e7o/PA\", \"Portel/PA\", \"Anaj\\u00e1s/PA\", \"Bagre/PA\", \"Breves/PA\", \"Curralinho/PA\", \"Gurup\\u00e1/PA\", \"Melga\\u00e7o/PA\", \"Portel/PA\", \"Anaj\\u00e1s/PA\", \"Bagre/PA\", \"Breves/PA\", \"Curralinho/PA\", \"Gurup\\u00e1/PA\", \"Melga\\u00e7o/PA\", \"Portel/PA\", \"Anaj\\u00e1s/PA\", \"Bagre/PA\", \"Breves/PA\", \"Curralinho/PA\", \"Gurup\\u00e1/PA\", \"Melga\\u00e7o/PA\", \"Portel/PA\", \"Anaj\\u00e1s/PA\", \"Bagre/PA\", \"Breves/PA\", \"Curralinho/PA\", \"Gurup\\u00e1/PA\", \"Melga\\u00e7o/PA\", \"Portel/PA\", \"Anaj\\u00e1s/PA\", \"Bagre/PA\", \"Breves/PA\", \"Curralinho/PA\", \"Gurup\\u00e1/PA\", \"Melga\\u00e7o/PA\", \"Portel/PA\", \"Anaj\\u00e1s/PA\", \"Bagre/PA\", \"Breves/PA\", \"Curralinho/PA\", \"Gurup\\u00e1/PA\", \"Melga\\u00e7o/PA\", \"Portel/PA\", \"Anaj\\u00e1s/PA\", \"Bagre/PA\", \"Breves/PA\", \"Curralinho/PA\", \"Gurup\\u00e1/PA\", \"Melga\\u00e7o/PA\", \"Portel/PA\", \"Anaj\\u00e1s/PA\", \"Bagre/PA\", \"Breves/PA\", \"Curralinho/PA\", \"Gurup\\u00e1/PA\", \"Melga\\u00e7o/PA\", \"Portel/PA\", \"Anaj\\u00e1s/PA\", \"Bagre/PA\", \"Breves/PA\", \"Curralinho/PA\", \"Gurup\\u00e1/PA\", \"Melga\\u00e7o/PA\", \"Portel/PA\", \"Anaj\\u00e1s/PA\", \"Bagre/PA\", \"Breves/PA\", \"Curralinho/PA\", \"Gurup\\u00e1/PA\", \"Melga\\u00e7o/PA\", \"Portel/PA\", \"Anaj\\u00e1s/PA\", \"Bagre/PA\", \"Breves/PA\", \"Curralinho/PA\", \"Gurup\\u00e1/PA\", \"Melga\\u00e7o/PA\", \"Portel/PA\", \"Anaj\\u00e1s/PA\", \"Bagre/PA\", \"Breves/PA\", \"Curralinho/PA\", \"Gurup\\u00e1/PA\", \"Melga\\u00e7o/PA\", \"Portel/PA\", \"Anaj\\u00e1s/PA\", \"Bagre/PA\", \"Breves/PA\", \"Curralinho/PA\", \"Gurup\\u00e1/PA\", \"Melga\\u00e7o/PA\", \"Portel/PA\", \"Anaj\\u00e1s/PA\", \"Bagre/PA\", \"Breves/PA\", \"Curralinho/PA\", \"Gurup\\u00e1/PA\", \"Melga\\u00e7o/PA\", \"Portel/PA\", \"Anaj\\u00e1s/PA\", \"Bagre/PA\", \"Breves/PA\", \"Curralinho/PA\", \"Gurup\\u00e1/PA\", \"Melga\\u00e7o/PA\", \"Portel/PA\", \"Anaj\\u00e1s/PA\", \"Bagre/PA\", \"Breves/PA\", \"Curralinho/PA\", \"Gurup\\u00e1/PA\", \"Melga\\u00e7o/PA\", \"Portel/PA\", \"Anaj\\u00e1s/PA\", \"Bagre/PA\", \"Breves/PA\", \"Curralinho/PA\", \"Gurup\\u00e1/PA\", \"Melga\\u00e7o/PA\", \"Portel/PA\", \"Anaj\\u00e1s/PA\", \"Bagre/PA\", \"Breves/PA\", \"Curralinho/PA\", \"Gurup\\u00e1/PA\", \"Melga\\u00e7o/PA\", \"Portel/PA\", \"Anaj\\u00e1s/PA\", \"Bagre/PA\", \"Breves/PA\", \"Curralinho/PA\", \"Gurup\\u00e1/PA\", \"Melga\\u00e7o/PA\", \"Portel/PA\", \"Anaj\\u00e1s/PA\", \"Bagre/PA\", \"Breves/PA\", \"Curralinho/PA\", \"Gurup\\u00e1/PA\", \"Melga\\u00e7o/PA\", \"Portel/PA\", \"Anaj\\u00e1s/PA\", \"Bagre/PA\", \"Breves/PA\", \"Curralinho/PA\", \"Gurup\\u00e1/PA\", \"Melga\\u00e7o/PA\", \"Portel/PA\", \"Anaj\\u00e1s/PA\", \"Bagre/PA\", \"Breves/PA\", \"Curralinho/PA\", \"Gurup\\u00e1/PA\", \"Melga\\u00e7o/PA\", \"Portel/PA\", \"Anaj\\u00e1s/PA\", \"Bagre/PA\", \"Breves/PA\", \"Curralinho/PA\", \"Gurup\\u00e1/PA\", \"Melga\\u00e7o/PA\", \"Portel/PA\", \"Anaj\\u00e1s/PA\", \"Bagre/PA\", \"Breves/PA\", \"Curralinho/PA\", \"Gurup\\u00e1/PA\", \"Melga\\u00e7o/PA\", \"Portel/PA\", \"Anaj\\u00e1s/PA\", \"Bagre/PA\", \"Breves/PA\", \"Curralinho/PA\", \"Gurup\\u00e1/PA\", \"Melga\\u00e7o/PA\", \"Portel/PA\", \"Anaj\\u00e1s/PA\", \"Bagre/PA\", \"Breves/PA\", \"Curralinho/PA\", \"Gurup\\u00e1/PA\", \"Melga\\u00e7o/PA\", \"Portel/PA\", \"Anaj\\u00e1s/PA\", \"Bagre/PA\", \"Breves/PA\", \"Curralinho/PA\", \"Gurup\\u00e1/PA\", \"Melga\\u00e7o/PA\", \"Portel/PA\", \"Anaj\\u00e1s/PA\", \"Bagre/PA\", \"Breves/PA\", \"Curralinho/PA\", \"Gurup\\u00e1/PA\", \"Melga\\u00e7o/PA\", \"Portel/PA\", \"Anaj\\u00e1s/PA\", \"Bagre/PA\", \"Breves/PA\", \"Curralinho/PA\", \"Gurup\\u00e1/PA\", \"Melga\\u00e7o/PA\", \"Portel/PA\", \"Anaj\\u00e1s/PA\", \"Bagre/PA\", \"Breves/PA\", \"Curralinho/PA\", \"Gurup\\u00e1/PA\", \"Melga\\u00e7o/PA\", \"Portel/PA\", \"Anaj\\u00e1s/PA\", \"Bagre/PA\", \"Breves/PA\", \"Curralinho/PA\", \"Gurup\\u00e1/PA\", \"Melga\\u00e7o/PA\", \"Portel/PA\", \"Anaj\\u00e1s/PA\", \"Bagre/PA\", \"Breves/PA\", \"Curralinho/PA\", \"Gurup\\u00e1/PA\", \"Melga\\u00e7o/PA\", \"Portel/PA\", \"Anaj\\u00e1s/PA\", \"Bagre/PA\", \"Breves/PA\", \"Curralinho/PA\", \"Gurup\\u00e1/PA\", \"Melga\\u00e7o/PA\", \"Portel/PA\", \"Anaj\\u00e1s/PA\", \"Bagre/PA\", \"Breves/PA\", \"Curralinho/PA\", \"Gurup\\u00e1/PA\", \"Melga\\u00e7o/PA\", \"Portel/PA\", \"Anaj\\u00e1s/PA\", \"Bagre/PA\", \"Breves/PA\", \"Curralinho/PA\", \"Gurup\\u00e1/PA\", \"Melga\\u00e7o/PA\", \"Portel/PA\", \"Anaj\\u00e1s/PA\", \"Bagre/PA\", \"Breves/PA\", \"Curralinho/PA\", \"Gurup\\u00e1/PA\", \"Melga\\u00e7o/PA\", \"Portel/PA\", \"Anaj\\u00e1s/PA\", \"Bagre/PA\", \"Breves/PA\", \"Curralinho/PA\", \"Gurup\\u00e1/PA\", \"Melga\\u00e7o/PA\", \"Portel/PA\", \"Anaj\\u00e1s/PA\", \"Bagre/PA\", \"Breves/PA\", \"Curralinho/PA\", \"Gurup\\u00e1/PA\", \"Melga\\u00e7o/PA\", \"Portel/PA\", \"Anaj\\u00e1s/PA\", \"Bagre/PA\", \"Breves/PA\", \"Curralinho/PA\", \"Gurup\\u00e1/PA\", \"Melga\\u00e7o/PA\", \"Portel/PA\", \"Anaj\\u00e1s/PA\", \"Bagre/PA\", \"Breves/PA\", \"Curralinho/PA\", \"Gurup\\u00e1/PA\", \"Melga\\u00e7o/PA\", \"Portel/PA\", \"Anaj\\u00e1s/PA\", \"Bagre/PA\", \"Breves/PA\", \"Curralinho/PA\", \"Gurup\\u00e1/PA\", \"Melga\\u00e7o/PA\", \"Portel/PA\", \"Anaj\\u00e1s/PA\", \"Bagre/PA\", \"Breves/PA\", \"Curralinho/PA\", \"Gurup\\u00e1/PA\", \"Melga\\u00e7o/PA\", \"Portel/PA\", \"Anaj\\u00e1s/PA\", \"Bagre/PA\", \"Breves/PA\", \"Curralinho/PA\", \"Gurup\\u00e1/PA\", \"Melga\\u00e7o/PA\", \"Portel/PA\", \"Anaj\\u00e1s/PA\", \"Bagre/PA\", \"Breves/PA\", \"Curralinho/PA\", \"Gurup\\u00e1/PA\", \"Melga\\u00e7o/PA\", \"Portel/PA\", \"Anaj\\u00e1s/PA\", \"Bagre/PA\", \"Breves/PA\", \"Curralinho/PA\", \"Gurup\\u00e1/PA\", \"Melga\\u00e7o/PA\", \"Portel/PA\", \"Anaj\\u00e1s/PA\", \"Bagre/PA\", \"Breves/PA\", \"Curralinho/PA\", \"Gurup\\u00e1/PA\", \"Melga\\u00e7o/PA\", \"Portel/PA\", \"Anaj\\u00e1s/PA\", \"Bagre/PA\", \"Breves/PA\", \"Curralinho/PA\", \"Gurup\\u00e1/PA\", \"Melga\\u00e7o/PA\", \"Portel/PA\", \"Anaj\\u00e1s/PA\", \"Bagre/PA\", \"Breves/PA\", \"Curralinho/PA\", \"Gurup\\u00e1/PA\", \"Melga\\u00e7o/PA\", \"Portel/PA\", \"Anaj\\u00e1s/PA\", \"Bagre/PA\", \"Breves/PA\", \"Curralinho/PA\", \"Gurup\\u00e1/PA\", \"Melga\\u00e7o/PA\", \"Portel/PA\", \"Anaj\\u00e1s/PA\", \"Bagre/PA\", \"Breves/PA\", \"Curralinho/PA\", \"Gurup\\u00e1/PA\", \"Melga\\u00e7o/PA\", \"Portel/PA\"], \"xaxis\": \"x\", \"y\": [1, 1, 1, 1, 1, 3, 1, 4, 1, 4, 0, 1, 4, 0, 0, 11, 3, 0, 11, 3, 0, 2, 15, 4, 0, 2, 24, 4, 1, 0, 2, 27, 4, 1, 0, 2, 31, 5, 1, 0, 3, 35, 5, 1, 0, 3, 42, 5, 3, 0, 3, 42, 5, 3, 0, 3, 71, 7, 6, 0, 4, 89, 7, 6, 1, 4, 94, 7, 6, 1, 1, 4, 111, 8, 6, 6, 1, 4, 132, 9, 6, 6, 1, 4, 143, 13, 6, 11, 1, 5, 187, 13, 2, 13, 12, 1, 7, 196, 19, 5, 13, 16, 1, 7, 224, 19, 5, 25, 17, 1, 8, 247, 19, 5, 26, 19, 1, 8, 292, 27, 6, 36, 31, 6, 9, 309, 29, 6, 36, 38, 12, 9, 321, 29, 6, 40, 43, 12, 11, 350, 29, 6, 40, 46, 12, 22, 366, 36, 6, 45, 55, 22, 24, 374, 36, 6, 45, 63, 22, 24, 374, 36, 6, 45, 63, 72, 32, 407, 36, 6, 45, 77, 72, 33, 420, 41, 6, 45, 89, 72, 34, 432, 41, 11, 48, 144, 90, 34, 432, 41, 11, 48, 159, 90, 41, 439, 41, 11, 48, 160, 91, 45, 460, 41, 11, 65, 179, 106, 50, 472, 41, 11, 65, 244, 106, 54, 485, 41, 11, 67, 261, 113, 65, 491, 86, 13, 67, 319, 119, 79, 492, 86, 14, 68, 336, 120, 80, 495, 86, 14, 69, 351, 120, 80, 495, 87, 14, 74, 351, 126, 87, 498, 96, 15, 91, 387, 131, 96, 531, 96, 15, 102, 424, 146, 96, 568, 96, 26, 109, 448, 146, 98, 585, 96, 48, 129, 454, 165, 98, 632, 96, 49, 150, 465, 165, 98, 632, 96, 49, 150, 465, 165, 98, 632, 102, 49, 150, 476, 173, 106, 634, 104, 59, 151, 503, 181, 115, 649, 104, 60, 168, 514, 190, 116, 768, 105, 60, 169, 519, 190, 116, 769, 105, 65, 169, 523, 190, 117, 769, 105, 115, 169, 531, 200, 120, 789, 105, 118, 169, 541, 211, 120, 789, 105, 139, 169, 567, 211, 122, 813, 105, 149, 169, 578, 211, 124, 885, 105, 206, 172, 591, 225, 138, 904, 105, 258, 172, 597, 225, 145, 916, 105, 324, 173, 607, 228, 148, 928, 107, 326, 176, 616, 228, 148, 929, 107, 326, 176, 626, 242, 148, 929, 108, 326, 176, 636, 243, 148, 991, 110, 401, 177, 650, 246, 160, 1029, 110, 484, 184, 662, 246, 178, 1047, 131, 514, 185, 667, 260, 183, 1072, 160, 514, 185, 672, 260, 184, 1092, 172, 584, 185, 684, 260, 184, 1092, 172, 584, 188, 695, 260, 184, 1092, 172, 584, 188, 701, 270, 184, 1114, 172, 651, 188, 701, 313, 184, 1280, 179, 743, 188, 701, 313, 184, 1283, 193, 752, 188, 739, 314, 184, 1298, 209, 857, 188, 749, 314, 184, 1322, 209, 908, 188, 761, 331, 184, 1323, 209, 950, 189, 769, 332, 184, 1323, 209, 950, 190, 772, 347, 184, 1336, 209, 950, 190, 782, 390, 203, 1364, 209, 964, 190, 800, 391, 203, 1376, 209, 986, 192, 832, 392, 203, 1389, 209, 996, 192, 844, 392, 203, 1389, 209, 996, 192, 844], \"yaxis\": \"y\"}],\n",
              "                        {\"barmode\": \"relative\", \"coloraxis\": {\"colorbar\": {\"title\": {\"text\": \"totalCases\"}}, \"colorscale\": [[0.0, \"#0d0887\"], [0.1111111111111111, \"#46039f\"], [0.2222222222222222, \"#7201a8\"], [0.3333333333333333, \"#9c179e\"], [0.4444444444444444, \"#bd3786\"], [0.5555555555555556, \"#d8576b\"], [0.6666666666666666, \"#ed7953\"], [0.7777777777777778, \"#fb9f3a\"], [0.8888888888888888, \"#fdca26\"], [1.0, \"#f0f921\"]]}, \"height\": 600, \"legend\": {\"tracegroupgap\": 0}, \"margin\": {\"t\": 60}, \"template\": {\"data\": {\"bar\": [{\"error_x\": {\"color\": \"#2a3f5f\"}, \"error_y\": {\"color\": \"#2a3f5f\"}, \"marker\": {\"line\": {\"color\": \"#E5ECF6\", \"width\": 0.5}}, \"type\": \"bar\"}], \"barpolar\": [{\"marker\": {\"line\": {\"color\": \"#E5ECF6\", \"width\": 0.5}}, \"type\": \"barpolar\"}], \"carpet\": [{\"aaxis\": {\"endlinecolor\": \"#2a3f5f\", \"gridcolor\": \"white\", \"linecolor\": \"white\", \"minorgridcolor\": \"white\", \"startlinecolor\": \"#2a3f5f\"}, \"baxis\": {\"endlinecolor\": \"#2a3f5f\", \"gridcolor\": \"white\", \"linecolor\": \"white\", \"minorgridcolor\": \"white\", \"startlinecolor\": \"#2a3f5f\"}, \"type\": \"carpet\"}], \"choropleth\": [{\"colorbar\": {\"outlinewidth\": 0, \"ticks\": \"\"}, \"type\": \"choropleth\"}], \"contour\": [{\"colorbar\": {\"outlinewidth\": 0, \"ticks\": \"\"}, \"colorscale\": [[0.0, \"#0d0887\"], [0.1111111111111111, \"#46039f\"], [0.2222222222222222, \"#7201a8\"], [0.3333333333333333, \"#9c179e\"], [0.4444444444444444, \"#bd3786\"], [0.5555555555555556, \"#d8576b\"], [0.6666666666666666, \"#ed7953\"], [0.7777777777777778, \"#fb9f3a\"], [0.8888888888888888, \"#fdca26\"], [1.0, \"#f0f921\"]], \"type\": \"contour\"}], \"contourcarpet\": [{\"colorbar\": {\"outlinewidth\": 0, \"ticks\": \"\"}, \"type\": \"contourcarpet\"}], \"heatmap\": [{\"colorbar\": {\"outlinewidth\": 0, \"ticks\": \"\"}, \"colorscale\": [[0.0, \"#0d0887\"], [0.1111111111111111, \"#46039f\"], [0.2222222222222222, \"#7201a8\"], [0.3333333333333333, \"#9c179e\"], [0.4444444444444444, \"#bd3786\"], [0.5555555555555556, \"#d8576b\"], [0.6666666666666666, \"#ed7953\"], [0.7777777777777778, \"#fb9f3a\"], [0.8888888888888888, \"#fdca26\"], [1.0, \"#f0f921\"]], \"type\": \"heatmap\"}], \"heatmapgl\": [{\"colorbar\": {\"outlinewidth\": 0, \"ticks\": \"\"}, \"colorscale\": [[0.0, \"#0d0887\"], [0.1111111111111111, \"#46039f\"], [0.2222222222222222, \"#7201a8\"], [0.3333333333333333, \"#9c179e\"], [0.4444444444444444, \"#bd3786\"], [0.5555555555555556, \"#d8576b\"], [0.6666666666666666, \"#ed7953\"], [0.7777777777777778, \"#fb9f3a\"], [0.8888888888888888, \"#fdca26\"], [1.0, \"#f0f921\"]], \"type\": \"heatmapgl\"}], \"histogram\": [{\"marker\": {\"colorbar\": {\"outlinewidth\": 0, \"ticks\": \"\"}}, \"type\": \"histogram\"}], \"histogram2d\": [{\"colorbar\": {\"outlinewidth\": 0, \"ticks\": \"\"}, \"colorscale\": [[0.0, \"#0d0887\"], [0.1111111111111111, \"#46039f\"], [0.2222222222222222, \"#7201a8\"], [0.3333333333333333, \"#9c179e\"], [0.4444444444444444, \"#bd3786\"], [0.5555555555555556, \"#d8576b\"], [0.6666666666666666, \"#ed7953\"], [0.7777777777777778, \"#fb9f3a\"], [0.8888888888888888, \"#fdca26\"], [1.0, \"#f0f921\"]], \"type\": \"histogram2d\"}], \"histogram2dcontour\": [{\"colorbar\": {\"outlinewidth\": 0, \"ticks\": \"\"}, \"colorscale\": [[0.0, \"#0d0887\"], [0.1111111111111111, \"#46039f\"], [0.2222222222222222, \"#7201a8\"], [0.3333333333333333, \"#9c179e\"], [0.4444444444444444, \"#bd3786\"], [0.5555555555555556, \"#d8576b\"], [0.6666666666666666, \"#ed7953\"], [0.7777777777777778, \"#fb9f3a\"], [0.8888888888888888, \"#fdca26\"], [1.0, \"#f0f921\"]], \"type\": \"histogram2dcontour\"}], \"mesh3d\": [{\"colorbar\": {\"outlinewidth\": 0, \"ticks\": \"\"}, \"type\": \"mesh3d\"}], \"parcoords\": [{\"line\": {\"colorbar\": {\"outlinewidth\": 0, \"ticks\": \"\"}}, \"type\": \"parcoords\"}], \"pie\": [{\"automargin\": true, \"type\": \"pie\"}], \"scatter\": [{\"marker\": {\"colorbar\": {\"outlinewidth\": 0, \"ticks\": \"\"}}, \"type\": \"scatter\"}], \"scatter3d\": [{\"line\": {\"colorbar\": {\"outlinewidth\": 0, \"ticks\": \"\"}}, \"marker\": {\"colorbar\": {\"outlinewidth\": 0, \"ticks\": \"\"}}, \"type\": \"scatter3d\"}], \"scattercarpet\": [{\"marker\": {\"colorbar\": {\"outlinewidth\": 0, \"ticks\": \"\"}}, \"type\": \"scattercarpet\"}], \"scattergeo\": [{\"marker\": {\"colorbar\": {\"outlinewidth\": 0, \"ticks\": \"\"}}, \"type\": \"scattergeo\"}], \"scattergl\": [{\"marker\": {\"colorbar\": {\"outlinewidth\": 0, \"ticks\": \"\"}}, \"type\": \"scattergl\"}], \"scattermapbox\": [{\"marker\": {\"colorbar\": {\"outlinewidth\": 0, \"ticks\": \"\"}}, \"type\": \"scattermapbox\"}], \"scatterpolar\": [{\"marker\": {\"colorbar\": {\"outlinewidth\": 0, \"ticks\": \"\"}}, \"type\": \"scatterpolar\"}], \"scatterpolargl\": [{\"marker\": {\"colorbar\": {\"outlinewidth\": 0, \"ticks\": \"\"}}, \"type\": \"scatterpolargl\"}], \"scatterternary\": [{\"marker\": {\"colorbar\": {\"outlinewidth\": 0, \"ticks\": \"\"}}, \"type\": \"scatterternary\"}], \"surface\": [{\"colorbar\": {\"outlinewidth\": 0, \"ticks\": \"\"}, \"colorscale\": [[0.0, \"#0d0887\"], [0.1111111111111111, \"#46039f\"], [0.2222222222222222, \"#7201a8\"], [0.3333333333333333, \"#9c179e\"], [0.4444444444444444, \"#bd3786\"], [0.5555555555555556, \"#d8576b\"], [0.6666666666666666, \"#ed7953\"], [0.7777777777777778, \"#fb9f3a\"], [0.8888888888888888, \"#fdca26\"], [1.0, \"#f0f921\"]], \"type\": \"surface\"}], \"table\": [{\"cells\": {\"fill\": {\"color\": \"#EBF0F8\"}, \"line\": {\"color\": \"white\"}}, \"header\": {\"fill\": {\"color\": \"#C8D4E3\"}, \"line\": {\"color\": \"white\"}}, \"type\": \"table\"}]}, \"layout\": {\"annotationdefaults\": {\"arrowcolor\": \"#2a3f5f\", \"arrowhead\": 0, \"arrowwidth\": 1}, \"coloraxis\": {\"colorbar\": {\"outlinewidth\": 0, \"ticks\": \"\"}}, \"colorscale\": {\"diverging\": [[0, \"#8e0152\"], [0.1, \"#c51b7d\"], [0.2, \"#de77ae\"], [0.3, \"#f1b6da\"], [0.4, \"#fde0ef\"], [0.5, \"#f7f7f7\"], [0.6, \"#e6f5d0\"], [0.7, \"#b8e186\"], [0.8, \"#7fbc41\"], [0.9, \"#4d9221\"], [1, \"#276419\"]], \"sequential\": [[0.0, \"#0d0887\"], [0.1111111111111111, \"#46039f\"], [0.2222222222222222, \"#7201a8\"], [0.3333333333333333, \"#9c179e\"], [0.4444444444444444, \"#bd3786\"], [0.5555555555555556, \"#d8576b\"], [0.6666666666666666, \"#ed7953\"], [0.7777777777777778, \"#fb9f3a\"], [0.8888888888888888, \"#fdca26\"], [1.0, \"#f0f921\"]], \"sequentialminus\": [[0.0, \"#0d0887\"], [0.1111111111111111, \"#46039f\"], [0.2222222222222222, \"#7201a8\"], [0.3333333333333333, \"#9c179e\"], [0.4444444444444444, \"#bd3786\"], [0.5555555555555556, \"#d8576b\"], [0.6666666666666666, \"#ed7953\"], [0.7777777777777778, \"#fb9f3a\"], [0.8888888888888888, \"#fdca26\"], [1.0, \"#f0f921\"]]}, \"colorway\": [\"#636efa\", \"#EF553B\", \"#00cc96\", \"#ab63fa\", \"#FFA15A\", \"#19d3f3\", \"#FF6692\", \"#B6E880\", \"#FF97FF\", \"#FECB52\"], \"font\": {\"color\": \"#2a3f5f\"}, \"geo\": {\"bgcolor\": \"white\", \"lakecolor\": \"white\", \"landcolor\": \"#E5ECF6\", \"showlakes\": true, \"showland\": true, \"subunitcolor\": \"white\"}, \"hoverlabel\": {\"align\": \"left\"}, \"hovermode\": \"closest\", \"mapbox\": {\"style\": \"light\"}, \"paper_bgcolor\": \"white\", \"plot_bgcolor\": \"#E5ECF6\", \"polar\": {\"angularaxis\": {\"gridcolor\": \"white\", \"linecolor\": \"white\", \"ticks\": \"\"}, \"bgcolor\": \"#E5ECF6\", \"radialaxis\": {\"gridcolor\": \"white\", \"linecolor\": \"white\", \"ticks\": \"\"}}, \"scene\": {\"xaxis\": {\"backgroundcolor\": \"#E5ECF6\", \"gridcolor\": \"white\", \"gridwidth\": 2, \"linecolor\": \"white\", \"showbackground\": true, \"ticks\": \"\", \"zerolinecolor\": \"white\"}, \"yaxis\": {\"backgroundcolor\": \"#E5ECF6\", \"gridcolor\": \"white\", \"gridwidth\": 2, \"linecolor\": \"white\", \"showbackground\": true, \"ticks\": \"\", \"zerolinecolor\": \"white\"}, \"zaxis\": {\"backgroundcolor\": \"#E5ECF6\", \"gridcolor\": \"white\", \"gridwidth\": 2, \"linecolor\": \"white\", \"showbackground\": true, \"ticks\": \"\", \"zerolinecolor\": \"white\"}}, \"shapedefaults\": {\"line\": {\"color\": \"#2a3f5f\"}}, \"ternary\": {\"aaxis\": {\"gridcolor\": \"white\", \"linecolor\": \"white\", \"ticks\": \"\"}, \"baxis\": {\"gridcolor\": \"white\", \"linecolor\": \"white\", \"ticks\": \"\"}, \"bgcolor\": \"#E5ECF6\", \"caxis\": {\"gridcolor\": \"white\", \"linecolor\": \"white\", \"ticks\": \"\"}}, \"title\": {\"x\": 0.05}, \"xaxis\": {\"automargin\": true, \"gridcolor\": \"white\", \"linecolor\": \"white\", \"ticks\": \"\", \"title\": {\"standoff\": 15}, \"zerolinecolor\": \"white\", \"zerolinewidth\": 2}, \"yaxis\": {\"automargin\": true, \"gridcolor\": \"white\", \"linecolor\": \"white\", \"ticks\": \"\", \"title\": {\"standoff\": 15}, \"zerolinecolor\": \"white\", \"zerolinewidth\": 2}}}, \"title\": {\"text\": \"Till 28th April Total Cases in Maraj\\u00f3 II\"}, \"xaxis\": {\"anchor\": \"y\", \"domain\": [0.0, 1.0], \"title\": {\"text\": \"city\"}}, \"yaxis\": {\"anchor\": \"x\", \"domain\": [0.0, 1.0], \"title\": {\"text\": \"totalCases\"}}},\n",
              "                        {\"responsive\": true}\n",
              "                    ).then(function(){\n",
              "                            \n",
              "var gd = document.getElementById('0a3fee03-309f-4baf-ae32-58fdef1f4cbd');\n",
              "var x = new MutationObserver(function (mutations, observer) {{\n",
              "        var display = window.getComputedStyle(gd).display;\n",
              "        if (!display || display === 'none') {{\n",
              "            console.log([gd, 'removed!']);\n",
              "            Plotly.purge(gd);\n",
              "            observer.disconnect();\n",
              "        }}\n",
              "}});\n",
              "\n",
              "// Listen for the removal of the full notebook cells\n",
              "var notebookContainer = gd.closest('#notebook-container');\n",
              "if (notebookContainer) {{\n",
              "    x.observe(notebookContainer, {childList: true});\n",
              "}}\n",
              "\n",
              "// Listen for the clearing of the current output cell\n",
              "var outputEl = gd.closest('.output');\n",
              "if (outputEl) {{\n",
              "    x.observe(outputEl, {childList: true});\n",
              "}}\n",
              "\n",
              "                        })\n",
              "                };\n",
              "                \n",
              "            </script>\n",
              "        </div>\n",
              "</body>\n",
              "</html>"
            ]
          },
          "metadata": {
            "tags": []
          }
        }
      ]
    },
    {
      "cell_type": "code",
      "metadata": {
        "id": "RmKxdoxyRwTQ",
        "colab_type": "code",
        "colab": {
          "base_uri": "https://localhost:8080/",
          "height": 517
        },
        "outputId": "17244c2b-98b4-4b0b-f3a9-2f8b1546400c"
      },
      "source": [
        "#Daily Deaths in Italy\n",
        "carona_data = df1.groupby(['date'])['deaths'].sum().reset_index().sort_values('deaths',ascending = True)\n",
        "carona_data['Daily Deaths'] = carona_data['deaths'].sub(carona_data['deaths'].shift())\n",
        "carona_data['Daily Deaths'].iloc[0] = carona_data['deaths'].iloc[0]\n",
        "carona_data['Daily Deaths'] = carona_data['Daily Deaths'].astype(int)\n",
        "fig = px.bar(carona_data, y='Daily Deaths', x='date',hover_data =['Daily Deaths'], color='Daily Deaths', height=500)\n",
        "fig.update_layout(\n",
        "    title='DAILY DEATHS IN MARAJÓ II')\n",
        "fig.show()"
      ],
      "execution_count": 5,
      "outputs": [
        {
          "output_type": "display_data",
          "data": {
            "text/html": [
              "<html>\n",
              "<head><meta charset=\"utf-8\" /></head>\n",
              "<body>\n",
              "    <div>\n",
              "            <script src=\"https://cdnjs.cloudflare.com/ajax/libs/mathjax/2.7.5/MathJax.js?config=TeX-AMS-MML_SVG\"></script><script type=\"text/javascript\">if (window.MathJax) {MathJax.Hub.Config({SVG: {font: \"STIX-Web\"}});}</script>\n",
              "                <script type=\"text/javascript\">window.PlotlyConfig = {MathJaxConfig: 'local'};</script>\n",
              "        <script src=\"https://cdn.plot.ly/plotly-latest.min.js\"></script>    \n",
              "            <div id=\"59e59fc2-e406-4dda-841c-653bbc2d6c44\" class=\"plotly-graph-div\" style=\"height:500px; width:100%;\"></div>\n",
              "            <script type=\"text/javascript\">\n",
              "                \n",
              "                    window.PLOTLYENV=window.PLOTLYENV || {};\n",
              "                    \n",
              "                if (document.getElementById(\"59e59fc2-e406-4dda-841c-653bbc2d6c44\")) {\n",
              "                    Plotly.newPlot(\n",
              "                        '59e59fc2-e406-4dda-841c-653bbc2d6c44',\n",
              "                        [{\"alignmentgroup\": \"True\", \"customdata\": [[0], [0], [0], [0], [0], [0], [1], [0], [0], [0], [0], [0], [2], [0], [0], [3], [3], [2], [0], [3], [0], [5], [7], [6], [0], [6], [1], [2], [5], [3], [3], [4], [3], [1], [0], [11], [5], [1], [3], [1], [7], [3], [1], [4], [1], [2], [0], [5], [4], [3], [2], [2], [0], [0], [5], [1], [1], [2], [1], [2], [0], [1], [2], [1], [4], [2], [1], [3], [0], [1], [1], [1], [0], [0], [0], [5], [0], [0], [0], [0], [1], [0], [1], [0], [0], [0], [0]], \"hoverlabel\": {\"namelength\": 0}, \"hovertemplate\": \"date=%{x}<br>Daily Deaths=%{marker.color}\", \"legendgroup\": \"\", \"marker\": {\"color\": [0, 0, 0, 0, 0, 0, 1, 0, 0, 0, 0, 0, 2, 0, 0, 3, 3, 2, 0, 3, 0, 5, 7, 6, 0, 6, 1, 2, 5, 3, 3, 4, 3, 1, 0, 11, 5, 1, 3, 1, 7, 3, 1, 4, 1, 2, 0, 5, 4, 3, 2, 2, 0, 0, 5, 1, 1, 2, 1, 2, 0, 1, 2, 1, 4, 2, 1, 3, 0, 1, 1, 1, 0, 0, 0, 5, 0, 0, 0, 0, 1, 0, 1, 0, 0, 0, 0], \"coloraxis\": \"coloraxis\"}, \"name\": \"\", \"offsetgroup\": \"\", \"orientation\": \"v\", \"showlegend\": false, \"textposition\": \"auto\", \"type\": \"bar\", \"x\": [\"2020-04-15\", \"2020-04-16\", \"2020-04-17\", \"2020-04-18\", \"2020-04-19\", \"2020-04-20\", \"2020-04-26\", \"2020-04-24\", \"2020-04-25\", \"2020-04-22\", \"2020-04-21\", \"2020-04-23\", \"2020-04-27\", \"2020-04-28\", \"2020-04-29\", \"2020-04-30\", \"2020-05-01\", \"2020-05-02\", \"2020-05-03\", \"2020-05-04\", \"2020-05-05\", \"2020-05-06\", \"2020-05-07\", \"2020-05-08\", \"2020-05-09\", \"2020-05-10\", \"2020-05-11\", \"2020-05-12\", \"2020-05-13\", \"2020-05-14\", \"2020-05-15\", \"2020-05-16\", \"2020-05-17\", \"2020-05-18\", \"2020-05-19\", \"2020-05-20\", \"2020-05-21\", \"2020-05-22\", \"2020-05-23\", \"2020-05-24\", \"2020-05-25\", \"2020-05-26\", \"2020-05-27\", \"2020-05-28\", \"2020-05-29\", \"2020-05-30\", \"2020-05-31\", \"2020-06-01\", \"2020-06-02\", \"2020-06-03\", \"2020-06-04\", \"2020-06-05\", \"2020-06-06\", \"2020-06-07\", \"2020-06-08\", \"2020-06-09\", \"2020-06-10\", \"2020-06-11\", \"2020-06-12\", \"2020-06-13\", \"2020-06-14\", \"2020-06-15\", \"2020-06-16\", \"2020-06-17\", \"2020-06-18\", \"2020-06-19\", \"2020-06-20\", \"2020-06-21\", \"2020-06-22\", \"2020-06-23\", \"2020-06-24\", \"2020-06-25\", \"2020-06-26\", \"2020-06-27\", \"2020-06-28\", \"2020-07-03\", \"2020-07-02\", \"2020-06-30\", \"2020-06-29\", \"2020-07-01\", \"2020-07-04\", \"2020-07-05\", \"2020-07-09\", \"2020-07-06\", \"2020-07-07\", \"2020-07-08\", \"2020-07-10\"], \"xaxis\": \"x\", \"y\": [0, 0, 0, 0, 0, 0, 1, 0, 0, 0, 0, 0, 2, 0, 0, 3, 3, 2, 0, 3, 0, 5, 7, 6, 0, 6, 1, 2, 5, 3, 3, 4, 3, 1, 0, 11, 5, 1, 3, 1, 7, 3, 1, 4, 1, 2, 0, 5, 4, 3, 2, 2, 0, 0, 5, 1, 1, 2, 1, 2, 0, 1, 2, 1, 4, 2, 1, 3, 0, 1, 1, 1, 0, 0, 0, 5, 0, 0, 0, 0, 1, 0, 1, 0, 0, 0, 0], \"yaxis\": \"y\"}],\n",
              "                        {\"barmode\": \"relative\", \"coloraxis\": {\"colorbar\": {\"title\": {\"text\": \"Daily Deaths\"}}, \"colorscale\": [[0.0, \"#0d0887\"], [0.1111111111111111, \"#46039f\"], [0.2222222222222222, \"#7201a8\"], [0.3333333333333333, \"#9c179e\"], [0.4444444444444444, \"#bd3786\"], [0.5555555555555556, \"#d8576b\"], [0.6666666666666666, \"#ed7953\"], [0.7777777777777778, \"#fb9f3a\"], [0.8888888888888888, \"#fdca26\"], [1.0, \"#f0f921\"]]}, \"height\": 500, \"legend\": {\"tracegroupgap\": 0}, \"margin\": {\"t\": 60}, \"template\": {\"data\": {\"bar\": [{\"error_x\": {\"color\": \"#2a3f5f\"}, \"error_y\": {\"color\": \"#2a3f5f\"}, \"marker\": {\"line\": {\"color\": \"#E5ECF6\", \"width\": 0.5}}, \"type\": \"bar\"}], \"barpolar\": [{\"marker\": {\"line\": {\"color\": \"#E5ECF6\", \"width\": 0.5}}, \"type\": \"barpolar\"}], \"carpet\": [{\"aaxis\": {\"endlinecolor\": \"#2a3f5f\", \"gridcolor\": \"white\", \"linecolor\": \"white\", \"minorgridcolor\": \"white\", \"startlinecolor\": \"#2a3f5f\"}, \"baxis\": {\"endlinecolor\": \"#2a3f5f\", \"gridcolor\": \"white\", \"linecolor\": \"white\", \"minorgridcolor\": \"white\", \"startlinecolor\": \"#2a3f5f\"}, \"type\": \"carpet\"}], \"choropleth\": [{\"colorbar\": {\"outlinewidth\": 0, \"ticks\": \"\"}, \"type\": \"choropleth\"}], \"contour\": [{\"colorbar\": {\"outlinewidth\": 0, \"ticks\": \"\"}, \"colorscale\": [[0.0, \"#0d0887\"], [0.1111111111111111, \"#46039f\"], [0.2222222222222222, \"#7201a8\"], [0.3333333333333333, \"#9c179e\"], [0.4444444444444444, \"#bd3786\"], [0.5555555555555556, \"#d8576b\"], [0.6666666666666666, \"#ed7953\"], [0.7777777777777778, \"#fb9f3a\"], [0.8888888888888888, \"#fdca26\"], [1.0, \"#f0f921\"]], \"type\": \"contour\"}], \"contourcarpet\": [{\"colorbar\": {\"outlinewidth\": 0, \"ticks\": \"\"}, \"type\": \"contourcarpet\"}], \"heatmap\": [{\"colorbar\": {\"outlinewidth\": 0, \"ticks\": \"\"}, \"colorscale\": [[0.0, \"#0d0887\"], [0.1111111111111111, \"#46039f\"], [0.2222222222222222, \"#7201a8\"], [0.3333333333333333, \"#9c179e\"], [0.4444444444444444, \"#bd3786\"], [0.5555555555555556, \"#d8576b\"], [0.6666666666666666, \"#ed7953\"], [0.7777777777777778, \"#fb9f3a\"], [0.8888888888888888, \"#fdca26\"], [1.0, \"#f0f921\"]], \"type\": \"heatmap\"}], \"heatmapgl\": [{\"colorbar\": {\"outlinewidth\": 0, \"ticks\": \"\"}, \"colorscale\": [[0.0, \"#0d0887\"], [0.1111111111111111, \"#46039f\"], [0.2222222222222222, \"#7201a8\"], [0.3333333333333333, \"#9c179e\"], [0.4444444444444444, \"#bd3786\"], [0.5555555555555556, \"#d8576b\"], [0.6666666666666666, \"#ed7953\"], [0.7777777777777778, \"#fb9f3a\"], [0.8888888888888888, \"#fdca26\"], [1.0, \"#f0f921\"]], \"type\": \"heatmapgl\"}], \"histogram\": [{\"marker\": {\"colorbar\": {\"outlinewidth\": 0, \"ticks\": \"\"}}, \"type\": \"histogram\"}], \"histogram2d\": [{\"colorbar\": {\"outlinewidth\": 0, \"ticks\": \"\"}, \"colorscale\": [[0.0, \"#0d0887\"], [0.1111111111111111, \"#46039f\"], [0.2222222222222222, \"#7201a8\"], [0.3333333333333333, \"#9c179e\"], [0.4444444444444444, \"#bd3786\"], [0.5555555555555556, \"#d8576b\"], [0.6666666666666666, \"#ed7953\"], [0.7777777777777778, \"#fb9f3a\"], [0.8888888888888888, \"#fdca26\"], [1.0, \"#f0f921\"]], \"type\": \"histogram2d\"}], \"histogram2dcontour\": [{\"colorbar\": {\"outlinewidth\": 0, \"ticks\": \"\"}, \"colorscale\": [[0.0, \"#0d0887\"], [0.1111111111111111, \"#46039f\"], [0.2222222222222222, \"#7201a8\"], [0.3333333333333333, \"#9c179e\"], [0.4444444444444444, \"#bd3786\"], [0.5555555555555556, \"#d8576b\"], [0.6666666666666666, \"#ed7953\"], [0.7777777777777778, \"#fb9f3a\"], [0.8888888888888888, \"#fdca26\"], [1.0, \"#f0f921\"]], \"type\": \"histogram2dcontour\"}], \"mesh3d\": [{\"colorbar\": {\"outlinewidth\": 0, \"ticks\": \"\"}, \"type\": \"mesh3d\"}], \"parcoords\": [{\"line\": {\"colorbar\": {\"outlinewidth\": 0, \"ticks\": \"\"}}, \"type\": \"parcoords\"}], \"pie\": [{\"automargin\": true, \"type\": \"pie\"}], \"scatter\": [{\"marker\": {\"colorbar\": {\"outlinewidth\": 0, \"ticks\": \"\"}}, \"type\": \"scatter\"}], \"scatter3d\": [{\"line\": {\"colorbar\": {\"outlinewidth\": 0, \"ticks\": \"\"}}, \"marker\": {\"colorbar\": {\"outlinewidth\": 0, \"ticks\": \"\"}}, \"type\": \"scatter3d\"}], \"scattercarpet\": [{\"marker\": {\"colorbar\": {\"outlinewidth\": 0, \"ticks\": \"\"}}, \"type\": \"scattercarpet\"}], \"scattergeo\": [{\"marker\": {\"colorbar\": {\"outlinewidth\": 0, \"ticks\": \"\"}}, \"type\": \"scattergeo\"}], \"scattergl\": [{\"marker\": {\"colorbar\": {\"outlinewidth\": 0, \"ticks\": \"\"}}, \"type\": \"scattergl\"}], \"scattermapbox\": [{\"marker\": {\"colorbar\": {\"outlinewidth\": 0, \"ticks\": \"\"}}, \"type\": \"scattermapbox\"}], \"scatterpolar\": [{\"marker\": {\"colorbar\": {\"outlinewidth\": 0, \"ticks\": \"\"}}, \"type\": \"scatterpolar\"}], \"scatterpolargl\": [{\"marker\": {\"colorbar\": {\"outlinewidth\": 0, \"ticks\": \"\"}}, \"type\": \"scatterpolargl\"}], \"scatterternary\": [{\"marker\": {\"colorbar\": {\"outlinewidth\": 0, \"ticks\": \"\"}}, \"type\": \"scatterternary\"}], \"surface\": [{\"colorbar\": {\"outlinewidth\": 0, \"ticks\": \"\"}, \"colorscale\": [[0.0, \"#0d0887\"], [0.1111111111111111, \"#46039f\"], [0.2222222222222222, \"#7201a8\"], [0.3333333333333333, \"#9c179e\"], [0.4444444444444444, \"#bd3786\"], [0.5555555555555556, \"#d8576b\"], [0.6666666666666666, \"#ed7953\"], [0.7777777777777778, \"#fb9f3a\"], [0.8888888888888888, \"#fdca26\"], [1.0, \"#f0f921\"]], \"type\": \"surface\"}], \"table\": [{\"cells\": {\"fill\": {\"color\": \"#EBF0F8\"}, \"line\": {\"color\": \"white\"}}, \"header\": {\"fill\": {\"color\": \"#C8D4E3\"}, \"line\": {\"color\": \"white\"}}, \"type\": \"table\"}]}, \"layout\": {\"annotationdefaults\": {\"arrowcolor\": \"#2a3f5f\", \"arrowhead\": 0, \"arrowwidth\": 1}, \"coloraxis\": {\"colorbar\": {\"outlinewidth\": 0, \"ticks\": \"\"}}, \"colorscale\": {\"diverging\": [[0, \"#8e0152\"], [0.1, \"#c51b7d\"], [0.2, \"#de77ae\"], [0.3, \"#f1b6da\"], [0.4, \"#fde0ef\"], [0.5, \"#f7f7f7\"], [0.6, \"#e6f5d0\"], [0.7, \"#b8e186\"], [0.8, \"#7fbc41\"], [0.9, \"#4d9221\"], [1, \"#276419\"]], \"sequential\": [[0.0, \"#0d0887\"], [0.1111111111111111, \"#46039f\"], [0.2222222222222222, \"#7201a8\"], [0.3333333333333333, \"#9c179e\"], [0.4444444444444444, \"#bd3786\"], [0.5555555555555556, \"#d8576b\"], [0.6666666666666666, \"#ed7953\"], [0.7777777777777778, \"#fb9f3a\"], [0.8888888888888888, \"#fdca26\"], [1.0, \"#f0f921\"]], \"sequentialminus\": [[0.0, \"#0d0887\"], [0.1111111111111111, \"#46039f\"], [0.2222222222222222, \"#7201a8\"], [0.3333333333333333, \"#9c179e\"], [0.4444444444444444, \"#bd3786\"], [0.5555555555555556, \"#d8576b\"], [0.6666666666666666, \"#ed7953\"], [0.7777777777777778, \"#fb9f3a\"], [0.8888888888888888, \"#fdca26\"], [1.0, \"#f0f921\"]]}, \"colorway\": [\"#636efa\", \"#EF553B\", \"#00cc96\", \"#ab63fa\", \"#FFA15A\", \"#19d3f3\", \"#FF6692\", \"#B6E880\", \"#FF97FF\", \"#FECB52\"], \"font\": {\"color\": \"#2a3f5f\"}, \"geo\": {\"bgcolor\": \"white\", \"lakecolor\": \"white\", \"landcolor\": \"#E5ECF6\", \"showlakes\": true, \"showland\": true, \"subunitcolor\": \"white\"}, \"hoverlabel\": {\"align\": \"left\"}, \"hovermode\": \"closest\", \"mapbox\": {\"style\": \"light\"}, \"paper_bgcolor\": \"white\", \"plot_bgcolor\": \"#E5ECF6\", \"polar\": {\"angularaxis\": {\"gridcolor\": \"white\", \"linecolor\": \"white\", \"ticks\": \"\"}, \"bgcolor\": \"#E5ECF6\", \"radialaxis\": {\"gridcolor\": \"white\", \"linecolor\": \"white\", \"ticks\": \"\"}}, \"scene\": {\"xaxis\": {\"backgroundcolor\": \"#E5ECF6\", \"gridcolor\": \"white\", \"gridwidth\": 2, \"linecolor\": \"white\", \"showbackground\": true, \"ticks\": \"\", \"zerolinecolor\": \"white\"}, \"yaxis\": {\"backgroundcolor\": \"#E5ECF6\", \"gridcolor\": \"white\", \"gridwidth\": 2, \"linecolor\": \"white\", \"showbackground\": true, \"ticks\": \"\", \"zerolinecolor\": \"white\"}, \"zaxis\": {\"backgroundcolor\": \"#E5ECF6\", \"gridcolor\": \"white\", \"gridwidth\": 2, \"linecolor\": \"white\", \"showbackground\": true, \"ticks\": \"\", \"zerolinecolor\": \"white\"}}, \"shapedefaults\": {\"line\": {\"color\": \"#2a3f5f\"}}, \"ternary\": {\"aaxis\": {\"gridcolor\": \"white\", \"linecolor\": \"white\", \"ticks\": \"\"}, \"baxis\": {\"gridcolor\": \"white\", \"linecolor\": \"white\", \"ticks\": \"\"}, \"bgcolor\": \"#E5ECF6\", \"caxis\": {\"gridcolor\": \"white\", \"linecolor\": \"white\", \"ticks\": \"\"}}, \"title\": {\"x\": 0.05}, \"xaxis\": {\"automargin\": true, \"gridcolor\": \"white\", \"linecolor\": \"white\", \"ticks\": \"\", \"title\": {\"standoff\": 15}, \"zerolinecolor\": \"white\", \"zerolinewidth\": 2}, \"yaxis\": {\"automargin\": true, \"gridcolor\": \"white\", \"linecolor\": \"white\", \"ticks\": \"\", \"title\": {\"standoff\": 15}, \"zerolinecolor\": \"white\", \"zerolinewidth\": 2}}}, \"title\": {\"text\": \"DAILY DEATHS IN MARAJ\\u00d3 II\"}, \"xaxis\": {\"anchor\": \"y\", \"domain\": [0.0, 1.0], \"title\": {\"text\": \"date\"}}, \"yaxis\": {\"anchor\": \"x\", \"domain\": [0.0, 1.0], \"title\": {\"text\": \"Daily Deaths\"}}},\n",
              "                        {\"responsive\": true}\n",
              "                    ).then(function(){\n",
              "                            \n",
              "var gd = document.getElementById('59e59fc2-e406-4dda-841c-653bbc2d6c44');\n",
              "var x = new MutationObserver(function (mutations, observer) {{\n",
              "        var display = window.getComputedStyle(gd).display;\n",
              "        if (!display || display === 'none') {{\n",
              "            console.log([gd, 'removed!']);\n",
              "            Plotly.purge(gd);\n",
              "            observer.disconnect();\n",
              "        }}\n",
              "}});\n",
              "\n",
              "// Listen for the removal of the full notebook cells\n",
              "var notebookContainer = gd.closest('#notebook-container');\n",
              "if (notebookContainer) {{\n",
              "    x.observe(notebookContainer, {childList: true});\n",
              "}}\n",
              "\n",
              "// Listen for the clearing of the current output cell\n",
              "var outputEl = gd.closest('.output');\n",
              "if (outputEl) {{\n",
              "    x.observe(outputEl, {childList: true});\n",
              "}}\n",
              "\n",
              "                        })\n",
              "                };\n",
              "                \n",
              "            </script>\n",
              "        </div>\n",
              "</body>\n",
              "</html>"
            ]
          },
          "metadata": {
            "tags": []
          }
        }
      ]
    },
    {
      "cell_type": "code",
      "metadata": {
        "id": "lwIF_HsORwTS",
        "colab_type": "code",
        "colab": {
          "base_uri": "https://localhost:8080/",
          "height": 542
        },
        "outputId": "678af76c-f9cd-4238-a3b7-f2ac3e0d5484"
      },
      "source": [
        "#Pie chart visualization of states effected by caronavirus\n",
        "fig = px.pie(df1, values='totalCases', names='city')\n",
        "fig.update_layout(\n",
        "    title='Pie chart visualization of city effected by caronavirus')\n",
        "fig.show()"
      ],
      "execution_count": 6,
      "outputs": [
        {
          "output_type": "display_data",
          "data": {
            "text/html": [
              "<html>\n",
              "<head><meta charset=\"utf-8\" /></head>\n",
              "<body>\n",
              "    <div>\n",
              "            <script src=\"https://cdnjs.cloudflare.com/ajax/libs/mathjax/2.7.5/MathJax.js?config=TeX-AMS-MML_SVG\"></script><script type=\"text/javascript\">if (window.MathJax) {MathJax.Hub.Config({SVG: {font: \"STIX-Web\"}});}</script>\n",
              "                <script type=\"text/javascript\">window.PlotlyConfig = {MathJaxConfig: 'local'};</script>\n",
              "        <script src=\"https://cdn.plot.ly/plotly-latest.min.js\"></script>    \n",
              "            <div id=\"366437ea-80ee-42b2-a3ce-7b41c91497e6\" class=\"plotly-graph-div\" style=\"height:525px; width:100%;\"></div>\n",
              "            <script type=\"text/javascript\">\n",
              "                \n",
              "                    window.PLOTLYENV=window.PLOTLYENV || {};\n",
              "                    \n",
              "                if (document.getElementById(\"366437ea-80ee-42b2-a3ce-7b41c91497e6\")) {\n",
              "                    Plotly.newPlot(\n",
              "                        '366437ea-80ee-42b2-a3ce-7b41c91497e6',\n",
              "                        [{\"domain\": {\"x\": [0.0, 1.0], \"y\": [0.0, 1.0]}, \"hoverlabel\": {\"namelength\": 0}, \"hovertemplate\": \"city=%{label}<br>totalCases=%{value}\", \"labels\": [\"Curralinho/PA\", \"Curralinho/PA\", \"Curralinho/PA\", \"Curralinho/PA\", \"Curralinho/PA\", \"Breves/PA\", \"Curralinho/PA\", \"Breves/PA\", \"Curralinho/PA\", \"Breves/PA\", \"Curralinho/PA\", \"Anaj\\u00e1s/PA\", \"Breves/PA\", \"Curralinho/PA\", \"Anaj\\u00e1s/PA\", \"Breves/PA\", \"Curralinho/PA\", \"Anaj\\u00e1s/PA\", \"Breves/PA\", \"Curralinho/PA\", \"Anaj\\u00e1s/PA\", \"Bagre/PA\", \"Breves/PA\", \"Curralinho/PA\", \"Anaj\\u00e1s/PA\", \"Bagre/PA\", \"Breves/PA\", \"Curralinho/PA\", \"Melga\\u00e7o/PA\", \"Anaj\\u00e1s/PA\", \"Bagre/PA\", \"Breves/PA\", \"Curralinho/PA\", \"Melga\\u00e7o/PA\", \"Anaj\\u00e1s/PA\", \"Bagre/PA\", \"Breves/PA\", \"Curralinho/PA\", \"Melga\\u00e7o/PA\", \"Anaj\\u00e1s/PA\", \"Bagre/PA\", \"Breves/PA\", \"Curralinho/PA\", \"Melga\\u00e7o/PA\", \"Anaj\\u00e1s/PA\", \"Bagre/PA\", \"Breves/PA\", \"Curralinho/PA\", \"Melga\\u00e7o/PA\", \"Anaj\\u00e1s/PA\", \"Bagre/PA\", \"Breves/PA\", \"Curralinho/PA\", \"Melga\\u00e7o/PA\", \"Anaj\\u00e1s/PA\", \"Bagre/PA\", \"Breves/PA\", \"Curralinho/PA\", \"Melga\\u00e7o/PA\", \"Anaj\\u00e1s/PA\", \"Bagre/PA\", \"Breves/PA\", \"Curralinho/PA\", \"Melga\\u00e7o/PA\", \"Anaj\\u00e1s/PA\", \"Bagre/PA\", \"Breves/PA\", \"Curralinho/PA\", \"Melga\\u00e7o/PA\", \"Portel/PA\", \"Anaj\\u00e1s/PA\", \"Bagre/PA\", \"Breves/PA\", \"Curralinho/PA\", \"Melga\\u00e7o/PA\", \"Portel/PA\", \"Anaj\\u00e1s/PA\", \"Bagre/PA\", \"Breves/PA\", \"Curralinho/PA\", \"Melga\\u00e7o/PA\", \"Portel/PA\", \"Anaj\\u00e1s/PA\", \"Bagre/PA\", \"Breves/PA\", \"Curralinho/PA\", \"Melga\\u00e7o/PA\", \"Portel/PA\", \"Anaj\\u00e1s/PA\", \"Bagre/PA\", \"Breves/PA\", \"Curralinho/PA\", \"Gurup\\u00e1/PA\", \"Melga\\u00e7o/PA\", \"Portel/PA\", \"Anaj\\u00e1s/PA\", \"Bagre/PA\", \"Breves/PA\", \"Curralinho/PA\", \"Gurup\\u00e1/PA\", \"Melga\\u00e7o/PA\", \"Portel/PA\", \"Anaj\\u00e1s/PA\", \"Bagre/PA\", \"Breves/PA\", \"Curralinho/PA\", \"Gurup\\u00e1/PA\", \"Melga\\u00e7o/PA\", \"Portel/PA\", \"Anaj\\u00e1s/PA\", \"Bagre/PA\", \"Breves/PA\", \"Curralinho/PA\", \"Gurup\\u00e1/PA\", \"Melga\\u00e7o/PA\", \"Portel/PA\", \"Anaj\\u00e1s/PA\", \"Bagre/PA\", \"Breves/PA\", \"Curralinho/PA\", \"Gurup\\u00e1/PA\", \"Melga\\u00e7o/PA\", \"Portel/PA\", \"Anaj\\u00e1s/PA\", \"Bagre/PA\", \"Breves/PA\", \"Curralinho/PA\", \"Gurup\\u00e1/PA\", \"Melga\\u00e7o/PA\", \"Portel/PA\", \"Anaj\\u00e1s/PA\", \"Bagre/PA\", \"Breves/PA\", \"Curralinho/PA\", \"Gurup\\u00e1/PA\", \"Melga\\u00e7o/PA\", \"Portel/PA\", \"Anaj\\u00e1s/PA\", \"Bagre/PA\", \"Breves/PA\", \"Curralinho/PA\", \"Gurup\\u00e1/PA\", \"Melga\\u00e7o/PA\", \"Portel/PA\", \"Anaj\\u00e1s/PA\", \"Bagre/PA\", \"Breves/PA\", \"Curralinho/PA\", \"Gurup\\u00e1/PA\", \"Melga\\u00e7o/PA\", \"Portel/PA\", \"Anaj\\u00e1s/PA\", \"Bagre/PA\", \"Breves/PA\", \"Curralinho/PA\", \"Gurup\\u00e1/PA\", \"Melga\\u00e7o/PA\", \"Portel/PA\", \"Anaj\\u00e1s/PA\", \"Bagre/PA\", \"Breves/PA\", \"Curralinho/PA\", \"Gurup\\u00e1/PA\", \"Melga\\u00e7o/PA\", \"Portel/PA\", \"Anaj\\u00e1s/PA\", \"Bagre/PA\", \"Breves/PA\", \"Curralinho/PA\", \"Gurup\\u00e1/PA\", \"Melga\\u00e7o/PA\", \"Portel/PA\", \"Anaj\\u00e1s/PA\", \"Bagre/PA\", \"Breves/PA\", \"Curralinho/PA\", \"Gurup\\u00e1/PA\", \"Melga\\u00e7o/PA\", \"Portel/PA\", \"Anaj\\u00e1s/PA\", \"Bagre/PA\", \"Breves/PA\", \"Curralinho/PA\", \"Gurup\\u00e1/PA\", \"Melga\\u00e7o/PA\", \"Portel/PA\", \"Anaj\\u00e1s/PA\", \"Bagre/PA\", \"Breves/PA\", \"Curralinho/PA\", \"Gurup\\u00e1/PA\", \"Melga\\u00e7o/PA\", \"Portel/PA\", \"Anaj\\u00e1s/PA\", \"Bagre/PA\", \"Breves/PA\", \"Curralinho/PA\", \"Gurup\\u00e1/PA\", \"Melga\\u00e7o/PA\", \"Portel/PA\", \"Anaj\\u00e1s/PA\", \"Bagre/PA\", \"Breves/PA\", \"Curralinho/PA\", \"Gurup\\u00e1/PA\", \"Melga\\u00e7o/PA\", \"Portel/PA\", \"Anaj\\u00e1s/PA\", \"Bagre/PA\", \"Breves/PA\", \"Curralinho/PA\", \"Gurup\\u00e1/PA\", \"Melga\\u00e7o/PA\", \"Portel/PA\", \"Anaj\\u00e1s/PA\", \"Bagre/PA\", \"Breves/PA\", \"Curralinho/PA\", \"Gurup\\u00e1/PA\", \"Melga\\u00e7o/PA\", \"Portel/PA\", \"Anaj\\u00e1s/PA\", \"Bagre/PA\", \"Breves/PA\", \"Curralinho/PA\", \"Gurup\\u00e1/PA\", \"Melga\\u00e7o/PA\", \"Portel/PA\", \"Anaj\\u00e1s/PA\", \"Bagre/PA\", \"Breves/PA\", \"Curralinho/PA\", \"Gurup\\u00e1/PA\", \"Melga\\u00e7o/PA\", \"Portel/PA\", \"Anaj\\u00e1s/PA\", \"Bagre/PA\", \"Breves/PA\", \"Curralinho/PA\", \"Gurup\\u00e1/PA\", \"Melga\\u00e7o/PA\", \"Portel/PA\", \"Anaj\\u00e1s/PA\", \"Bagre/PA\", \"Breves/PA\", \"Curralinho/PA\", \"Gurup\\u00e1/PA\", \"Melga\\u00e7o/PA\", \"Portel/PA\", \"Anaj\\u00e1s/PA\", \"Bagre/PA\", \"Breves/PA\", \"Curralinho/PA\", \"Gurup\\u00e1/PA\", \"Melga\\u00e7o/PA\", \"Portel/PA\", \"Anaj\\u00e1s/PA\", \"Bagre/PA\", \"Breves/PA\", \"Curralinho/PA\", \"Gurup\\u00e1/PA\", \"Melga\\u00e7o/PA\", \"Portel/PA\", \"Anaj\\u00e1s/PA\", \"Bagre/PA\", \"Breves/PA\", \"Curralinho/PA\", \"Gurup\\u00e1/PA\", \"Melga\\u00e7o/PA\", \"Portel/PA\", \"Anaj\\u00e1s/PA\", \"Bagre/PA\", \"Breves/PA\", \"Curralinho/PA\", \"Gurup\\u00e1/PA\", \"Melga\\u00e7o/PA\", \"Portel/PA\", \"Anaj\\u00e1s/PA\", \"Bagre/PA\", \"Breves/PA\", \"Curralinho/PA\", \"Gurup\\u00e1/PA\", \"Melga\\u00e7o/PA\", \"Portel/PA\", \"Anaj\\u00e1s/PA\", \"Bagre/PA\", \"Breves/PA\", \"Curralinho/PA\", \"Gurup\\u00e1/PA\", \"Melga\\u00e7o/PA\", \"Portel/PA\", \"Anaj\\u00e1s/PA\", \"Bagre/PA\", \"Breves/PA\", \"Curralinho/PA\", \"Gurup\\u00e1/PA\", \"Melga\\u00e7o/PA\", \"Portel/PA\", \"Anaj\\u00e1s/PA\", \"Bagre/PA\", \"Breves/PA\", \"Curralinho/PA\", \"Gurup\\u00e1/PA\", \"Melga\\u00e7o/PA\", \"Portel/PA\", \"Anaj\\u00e1s/PA\", \"Bagre/PA\", \"Breves/PA\", \"Curralinho/PA\", \"Gurup\\u00e1/PA\", \"Melga\\u00e7o/PA\", \"Portel/PA\", \"Anaj\\u00e1s/PA\", \"Bagre/PA\", \"Breves/PA\", \"Curralinho/PA\", \"Gurup\\u00e1/PA\", \"Melga\\u00e7o/PA\", \"Portel/PA\", \"Anaj\\u00e1s/PA\", \"Bagre/PA\", \"Breves/PA\", \"Curralinho/PA\", \"Gurup\\u00e1/PA\", \"Melga\\u00e7o/PA\", \"Portel/PA\", \"Anaj\\u00e1s/PA\", \"Bagre/PA\", \"Breves/PA\", \"Curralinho/PA\", \"Gurup\\u00e1/PA\", \"Melga\\u00e7o/PA\", \"Portel/PA\", \"Anaj\\u00e1s/PA\", \"Bagre/PA\", \"Breves/PA\", \"Curralinho/PA\", \"Gurup\\u00e1/PA\", \"Melga\\u00e7o/PA\", \"Portel/PA\", \"Anaj\\u00e1s/PA\", \"Bagre/PA\", \"Breves/PA\", \"Curralinho/PA\", \"Gurup\\u00e1/PA\", \"Melga\\u00e7o/PA\", \"Portel/PA\", \"Anaj\\u00e1s/PA\", \"Bagre/PA\", \"Breves/PA\", \"Curralinho/PA\", \"Gurup\\u00e1/PA\", \"Melga\\u00e7o/PA\", \"Portel/PA\", \"Anaj\\u00e1s/PA\", \"Bagre/PA\", \"Breves/PA\", \"Curralinho/PA\", \"Gurup\\u00e1/PA\", \"Melga\\u00e7o/PA\", \"Portel/PA\", \"Anaj\\u00e1s/PA\", \"Bagre/PA\", \"Breves/PA\", \"Curralinho/PA\", \"Gurup\\u00e1/PA\", \"Melga\\u00e7o/PA\", \"Portel/PA\", \"Anaj\\u00e1s/PA\", \"Bagre/PA\", \"Breves/PA\", \"Curralinho/PA\", \"Gurup\\u00e1/PA\", \"Melga\\u00e7o/PA\", \"Portel/PA\", \"Anaj\\u00e1s/PA\", \"Bagre/PA\", \"Breves/PA\", \"Curralinho/PA\", \"Gurup\\u00e1/PA\", \"Melga\\u00e7o/PA\", \"Portel/PA\", \"Anaj\\u00e1s/PA\", \"Bagre/PA\", \"Breves/PA\", \"Curralinho/PA\", \"Gurup\\u00e1/PA\", \"Melga\\u00e7o/PA\", \"Portel/PA\", \"Anaj\\u00e1s/PA\", \"Bagre/PA\", \"Breves/PA\", \"Curralinho/PA\", \"Gurup\\u00e1/PA\", \"Melga\\u00e7o/PA\", \"Portel/PA\", \"Anaj\\u00e1s/PA\", \"Bagre/PA\", \"Breves/PA\", \"Curralinho/PA\", \"Gurup\\u00e1/PA\", \"Melga\\u00e7o/PA\", \"Portel/PA\", \"Anaj\\u00e1s/PA\", \"Bagre/PA\", \"Breves/PA\", \"Curralinho/PA\", \"Gurup\\u00e1/PA\", \"Melga\\u00e7o/PA\", \"Portel/PA\", \"Anaj\\u00e1s/PA\", \"Bagre/PA\", \"Breves/PA\", \"Curralinho/PA\", \"Gurup\\u00e1/PA\", \"Melga\\u00e7o/PA\", \"Portel/PA\", \"Anaj\\u00e1s/PA\", \"Bagre/PA\", \"Breves/PA\", \"Curralinho/PA\", \"Gurup\\u00e1/PA\", \"Melga\\u00e7o/PA\", \"Portel/PA\", \"Anaj\\u00e1s/PA\", \"Bagre/PA\", \"Breves/PA\", \"Curralinho/PA\", \"Gurup\\u00e1/PA\", \"Melga\\u00e7o/PA\", \"Portel/PA\", \"Anaj\\u00e1s/PA\", \"Bagre/PA\", \"Breves/PA\", \"Curralinho/PA\", \"Gurup\\u00e1/PA\", \"Melga\\u00e7o/PA\", \"Portel/PA\", \"Anaj\\u00e1s/PA\", \"Bagre/PA\", \"Breves/PA\", \"Curralinho/PA\", \"Gurup\\u00e1/PA\", \"Melga\\u00e7o/PA\", \"Portel/PA\", \"Anaj\\u00e1s/PA\", \"Bagre/PA\", \"Breves/PA\", \"Curralinho/PA\", \"Gurup\\u00e1/PA\", \"Melga\\u00e7o/PA\", \"Portel/PA\", \"Anaj\\u00e1s/PA\", \"Bagre/PA\", \"Breves/PA\", \"Curralinho/PA\", \"Gurup\\u00e1/PA\", \"Melga\\u00e7o/PA\", \"Portel/PA\", \"Anaj\\u00e1s/PA\", \"Bagre/PA\", \"Breves/PA\", \"Curralinho/PA\", \"Gurup\\u00e1/PA\", \"Melga\\u00e7o/PA\", \"Portel/PA\", \"Anaj\\u00e1s/PA\", \"Bagre/PA\", \"Breves/PA\", \"Curralinho/PA\", \"Gurup\\u00e1/PA\", \"Melga\\u00e7o/PA\", \"Portel/PA\", \"Anaj\\u00e1s/PA\", \"Bagre/PA\", \"Breves/PA\", \"Curralinho/PA\", \"Gurup\\u00e1/PA\", \"Melga\\u00e7o/PA\", \"Portel/PA\", \"Anaj\\u00e1s/PA\", \"Bagre/PA\", \"Breves/PA\", \"Curralinho/PA\", \"Gurup\\u00e1/PA\", \"Melga\\u00e7o/PA\", \"Portel/PA\", \"Anaj\\u00e1s/PA\", \"Bagre/PA\", \"Breves/PA\", \"Curralinho/PA\", \"Gurup\\u00e1/PA\", \"Melga\\u00e7o/PA\", \"Portel/PA\", \"Anaj\\u00e1s/PA\", \"Bagre/PA\", \"Breves/PA\", \"Curralinho/PA\", \"Gurup\\u00e1/PA\", \"Melga\\u00e7o/PA\", \"Portel/PA\", \"Anaj\\u00e1s/PA\", \"Bagre/PA\", \"Breves/PA\", \"Curralinho/PA\", \"Gurup\\u00e1/PA\", \"Melga\\u00e7o/PA\", \"Portel/PA\", \"Anaj\\u00e1s/PA\", \"Bagre/PA\", \"Breves/PA\", \"Curralinho/PA\", \"Gurup\\u00e1/PA\", \"Melga\\u00e7o/PA\", \"Portel/PA\", \"Anaj\\u00e1s/PA\", \"Bagre/PA\", \"Breves/PA\", \"Curralinho/PA\", \"Gurup\\u00e1/PA\", \"Melga\\u00e7o/PA\", \"Portel/PA\", \"Anaj\\u00e1s/PA\", \"Bagre/PA\", \"Breves/PA\", \"Curralinho/PA\", \"Gurup\\u00e1/PA\", \"Melga\\u00e7o/PA\", \"Portel/PA\"], \"legendgroup\": \"\", \"name\": \"\", \"showlegend\": true, \"type\": \"pie\", \"values\": [1, 1, 1, 1, 1, 3, 1, 4, 1, 4, 0, 1, 4, 0, 0, 11, 3, 0, 11, 3, 0, 2, 15, 4, 0, 2, 24, 4, 1, 0, 2, 27, 4, 1, 0, 2, 31, 5, 1, 0, 3, 35, 5, 1, 0, 3, 42, 5, 3, 0, 3, 42, 5, 3, 0, 3, 71, 7, 6, 0, 4, 89, 7, 6, 1, 4, 94, 7, 6, 1, 1, 4, 111, 8, 6, 6, 1, 4, 132, 9, 6, 6, 1, 4, 143, 13, 6, 11, 1, 5, 187, 13, 2, 13, 12, 1, 7, 196, 19, 5, 13, 16, 1, 7, 224, 19, 5, 25, 17, 1, 8, 247, 19, 5, 26, 19, 1, 8, 292, 27, 6, 36, 31, 6, 9, 309, 29, 6, 36, 38, 12, 9, 321, 29, 6, 40, 43, 12, 11, 350, 29, 6, 40, 46, 12, 22, 366, 36, 6, 45, 55, 22, 24, 374, 36, 6, 45, 63, 22, 24, 374, 36, 6, 45, 63, 72, 32, 407, 36, 6, 45, 77, 72, 33, 420, 41, 6, 45, 89, 72, 34, 432, 41, 11, 48, 144, 90, 34, 432, 41, 11, 48, 159, 90, 41, 439, 41, 11, 48, 160, 91, 45, 460, 41, 11, 65, 179, 106, 50, 472, 41, 11, 65, 244, 106, 54, 485, 41, 11, 67, 261, 113, 65, 491, 86, 13, 67, 319, 119, 79, 492, 86, 14, 68, 336, 120, 80, 495, 86, 14, 69, 351, 120, 80, 495, 87, 14, 74, 351, 126, 87, 498, 96, 15, 91, 387, 131, 96, 531, 96, 15, 102, 424, 146, 96, 568, 96, 26, 109, 448, 146, 98, 585, 96, 48, 129, 454, 165, 98, 632, 96, 49, 150, 465, 165, 98, 632, 96, 49, 150, 465, 165, 98, 632, 102, 49, 150, 476, 173, 106, 634, 104, 59, 151, 503, 181, 115, 649, 104, 60, 168, 514, 190, 116, 768, 105, 60, 169, 519, 190, 116, 769, 105, 65, 169, 523, 190, 117, 769, 105, 115, 169, 531, 200, 120, 789, 105, 118, 169, 541, 211, 120, 789, 105, 139, 169, 567, 211, 122, 813, 105, 149, 169, 578, 211, 124, 885, 105, 206, 172, 591, 225, 138, 904, 105, 258, 172, 597, 225, 145, 916, 105, 324, 173, 607, 228, 148, 928, 107, 326, 176, 616, 228, 148, 929, 107, 326, 176, 626, 242, 148, 929, 108, 326, 176, 636, 243, 148, 991, 110, 401, 177, 650, 246, 160, 1029, 110, 484, 184, 662, 246, 178, 1047, 131, 514, 185, 667, 260, 183, 1072, 160, 514, 185, 672, 260, 184, 1092, 172, 584, 185, 684, 260, 184, 1092, 172, 584, 188, 695, 260, 184, 1092, 172, 584, 188, 701, 270, 184, 1114, 172, 651, 188, 701, 313, 184, 1280, 179, 743, 188, 701, 313, 184, 1283, 193, 752, 188, 739, 314, 184, 1298, 209, 857, 188, 749, 314, 184, 1322, 209, 908, 188, 761, 331, 184, 1323, 209, 950, 189, 769, 332, 184, 1323, 209, 950, 190, 772, 347, 184, 1336, 209, 950, 190, 782, 390, 203, 1364, 209, 964, 190, 800, 391, 203, 1376, 209, 986, 192, 832, 392, 203, 1389, 209, 996, 192, 844, 392, 203, 1389, 209, 996, 192, 844]}],\n",
              "                        {\"legend\": {\"tracegroupgap\": 0}, \"margin\": {\"t\": 60}, \"template\": {\"data\": {\"bar\": [{\"error_x\": {\"color\": \"#2a3f5f\"}, \"error_y\": {\"color\": \"#2a3f5f\"}, \"marker\": {\"line\": {\"color\": \"#E5ECF6\", \"width\": 0.5}}, \"type\": \"bar\"}], \"barpolar\": [{\"marker\": {\"line\": {\"color\": \"#E5ECF6\", \"width\": 0.5}}, \"type\": \"barpolar\"}], \"carpet\": [{\"aaxis\": {\"endlinecolor\": \"#2a3f5f\", \"gridcolor\": \"white\", \"linecolor\": \"white\", \"minorgridcolor\": \"white\", \"startlinecolor\": \"#2a3f5f\"}, \"baxis\": {\"endlinecolor\": \"#2a3f5f\", \"gridcolor\": \"white\", \"linecolor\": \"white\", \"minorgridcolor\": \"white\", \"startlinecolor\": \"#2a3f5f\"}, \"type\": \"carpet\"}], \"choropleth\": [{\"colorbar\": {\"outlinewidth\": 0, \"ticks\": \"\"}, \"type\": \"choropleth\"}], \"contour\": [{\"colorbar\": {\"outlinewidth\": 0, \"ticks\": \"\"}, \"colorscale\": [[0.0, \"#0d0887\"], [0.1111111111111111, \"#46039f\"], [0.2222222222222222, \"#7201a8\"], [0.3333333333333333, \"#9c179e\"], [0.4444444444444444, \"#bd3786\"], [0.5555555555555556, \"#d8576b\"], [0.6666666666666666, \"#ed7953\"], [0.7777777777777778, \"#fb9f3a\"], [0.8888888888888888, \"#fdca26\"], [1.0, \"#f0f921\"]], \"type\": \"contour\"}], \"contourcarpet\": [{\"colorbar\": {\"outlinewidth\": 0, \"ticks\": \"\"}, \"type\": \"contourcarpet\"}], \"heatmap\": [{\"colorbar\": {\"outlinewidth\": 0, \"ticks\": \"\"}, \"colorscale\": [[0.0, \"#0d0887\"], [0.1111111111111111, \"#46039f\"], [0.2222222222222222, \"#7201a8\"], [0.3333333333333333, \"#9c179e\"], [0.4444444444444444, \"#bd3786\"], [0.5555555555555556, \"#d8576b\"], [0.6666666666666666, \"#ed7953\"], [0.7777777777777778, \"#fb9f3a\"], [0.8888888888888888, \"#fdca26\"], [1.0, \"#f0f921\"]], \"type\": \"heatmap\"}], \"heatmapgl\": [{\"colorbar\": {\"outlinewidth\": 0, \"ticks\": \"\"}, \"colorscale\": [[0.0, \"#0d0887\"], [0.1111111111111111, \"#46039f\"], [0.2222222222222222, \"#7201a8\"], [0.3333333333333333, \"#9c179e\"], [0.4444444444444444, \"#bd3786\"], [0.5555555555555556, \"#d8576b\"], [0.6666666666666666, \"#ed7953\"], [0.7777777777777778, \"#fb9f3a\"], [0.8888888888888888, \"#fdca26\"], [1.0, \"#f0f921\"]], \"type\": \"heatmapgl\"}], \"histogram\": [{\"marker\": {\"colorbar\": {\"outlinewidth\": 0, \"ticks\": \"\"}}, \"type\": \"histogram\"}], \"histogram2d\": [{\"colorbar\": {\"outlinewidth\": 0, \"ticks\": \"\"}, \"colorscale\": [[0.0, \"#0d0887\"], [0.1111111111111111, \"#46039f\"], [0.2222222222222222, \"#7201a8\"], [0.3333333333333333, \"#9c179e\"], [0.4444444444444444, \"#bd3786\"], [0.5555555555555556, \"#d8576b\"], [0.6666666666666666, \"#ed7953\"], [0.7777777777777778, \"#fb9f3a\"], [0.8888888888888888, \"#fdca26\"], [1.0, \"#f0f921\"]], \"type\": \"histogram2d\"}], \"histogram2dcontour\": [{\"colorbar\": {\"outlinewidth\": 0, \"ticks\": \"\"}, \"colorscale\": [[0.0, \"#0d0887\"], [0.1111111111111111, \"#46039f\"], [0.2222222222222222, \"#7201a8\"], [0.3333333333333333, \"#9c179e\"], [0.4444444444444444, \"#bd3786\"], [0.5555555555555556, \"#d8576b\"], [0.6666666666666666, \"#ed7953\"], [0.7777777777777778, \"#fb9f3a\"], [0.8888888888888888, \"#fdca26\"], [1.0, \"#f0f921\"]], \"type\": \"histogram2dcontour\"}], \"mesh3d\": [{\"colorbar\": {\"outlinewidth\": 0, \"ticks\": \"\"}, \"type\": \"mesh3d\"}], \"parcoords\": [{\"line\": {\"colorbar\": {\"outlinewidth\": 0, \"ticks\": \"\"}}, \"type\": \"parcoords\"}], \"pie\": [{\"automargin\": true, \"type\": \"pie\"}], \"scatter\": [{\"marker\": {\"colorbar\": {\"outlinewidth\": 0, \"ticks\": \"\"}}, \"type\": \"scatter\"}], \"scatter3d\": [{\"line\": {\"colorbar\": {\"outlinewidth\": 0, \"ticks\": \"\"}}, \"marker\": {\"colorbar\": {\"outlinewidth\": 0, \"ticks\": \"\"}}, \"type\": \"scatter3d\"}], \"scattercarpet\": [{\"marker\": {\"colorbar\": {\"outlinewidth\": 0, \"ticks\": \"\"}}, \"type\": \"scattercarpet\"}], \"scattergeo\": [{\"marker\": {\"colorbar\": {\"outlinewidth\": 0, \"ticks\": \"\"}}, \"type\": \"scattergeo\"}], \"scattergl\": [{\"marker\": {\"colorbar\": {\"outlinewidth\": 0, \"ticks\": \"\"}}, \"type\": \"scattergl\"}], \"scattermapbox\": [{\"marker\": {\"colorbar\": {\"outlinewidth\": 0, \"ticks\": \"\"}}, \"type\": \"scattermapbox\"}], \"scatterpolar\": [{\"marker\": {\"colorbar\": {\"outlinewidth\": 0, \"ticks\": \"\"}}, \"type\": \"scatterpolar\"}], \"scatterpolargl\": [{\"marker\": {\"colorbar\": {\"outlinewidth\": 0, \"ticks\": \"\"}}, \"type\": \"scatterpolargl\"}], \"scatterternary\": [{\"marker\": {\"colorbar\": {\"outlinewidth\": 0, \"ticks\": \"\"}}, \"type\": \"scatterternary\"}], \"surface\": [{\"colorbar\": {\"outlinewidth\": 0, \"ticks\": \"\"}, \"colorscale\": [[0.0, \"#0d0887\"], [0.1111111111111111, \"#46039f\"], [0.2222222222222222, \"#7201a8\"], [0.3333333333333333, \"#9c179e\"], [0.4444444444444444, \"#bd3786\"], [0.5555555555555556, \"#d8576b\"], [0.6666666666666666, \"#ed7953\"], [0.7777777777777778, \"#fb9f3a\"], [0.8888888888888888, \"#fdca26\"], [1.0, \"#f0f921\"]], \"type\": \"surface\"}], \"table\": [{\"cells\": {\"fill\": {\"color\": \"#EBF0F8\"}, \"line\": {\"color\": \"white\"}}, \"header\": {\"fill\": {\"color\": \"#C8D4E3\"}, \"line\": {\"color\": \"white\"}}, \"type\": \"table\"}]}, \"layout\": {\"annotationdefaults\": {\"arrowcolor\": \"#2a3f5f\", \"arrowhead\": 0, \"arrowwidth\": 1}, \"coloraxis\": {\"colorbar\": {\"outlinewidth\": 0, \"ticks\": \"\"}}, \"colorscale\": {\"diverging\": [[0, \"#8e0152\"], [0.1, \"#c51b7d\"], [0.2, \"#de77ae\"], [0.3, \"#f1b6da\"], [0.4, \"#fde0ef\"], [0.5, \"#f7f7f7\"], [0.6, \"#e6f5d0\"], [0.7, \"#b8e186\"], [0.8, \"#7fbc41\"], [0.9, \"#4d9221\"], [1, \"#276419\"]], \"sequential\": [[0.0, \"#0d0887\"], [0.1111111111111111, \"#46039f\"], [0.2222222222222222, \"#7201a8\"], [0.3333333333333333, \"#9c179e\"], [0.4444444444444444, \"#bd3786\"], [0.5555555555555556, \"#d8576b\"], [0.6666666666666666, \"#ed7953\"], [0.7777777777777778, \"#fb9f3a\"], [0.8888888888888888, \"#fdca26\"], [1.0, \"#f0f921\"]], \"sequentialminus\": [[0.0, \"#0d0887\"], [0.1111111111111111, \"#46039f\"], [0.2222222222222222, \"#7201a8\"], [0.3333333333333333, \"#9c179e\"], [0.4444444444444444, \"#bd3786\"], [0.5555555555555556, \"#d8576b\"], [0.6666666666666666, \"#ed7953\"], [0.7777777777777778, \"#fb9f3a\"], [0.8888888888888888, \"#fdca26\"], [1.0, \"#f0f921\"]]}, \"colorway\": [\"#636efa\", \"#EF553B\", \"#00cc96\", \"#ab63fa\", \"#FFA15A\", \"#19d3f3\", \"#FF6692\", \"#B6E880\", \"#FF97FF\", \"#FECB52\"], \"font\": {\"color\": \"#2a3f5f\"}, \"geo\": {\"bgcolor\": \"white\", \"lakecolor\": \"white\", \"landcolor\": \"#E5ECF6\", \"showlakes\": true, \"showland\": true, \"subunitcolor\": \"white\"}, \"hoverlabel\": {\"align\": \"left\"}, \"hovermode\": \"closest\", \"mapbox\": {\"style\": \"light\"}, \"paper_bgcolor\": \"white\", \"plot_bgcolor\": \"#E5ECF6\", \"polar\": {\"angularaxis\": {\"gridcolor\": \"white\", \"linecolor\": \"white\", \"ticks\": \"\"}, \"bgcolor\": \"#E5ECF6\", \"radialaxis\": {\"gridcolor\": \"white\", \"linecolor\": \"white\", \"ticks\": \"\"}}, \"scene\": {\"xaxis\": {\"backgroundcolor\": \"#E5ECF6\", \"gridcolor\": \"white\", \"gridwidth\": 2, \"linecolor\": \"white\", \"showbackground\": true, \"ticks\": \"\", \"zerolinecolor\": \"white\"}, \"yaxis\": {\"backgroundcolor\": \"#E5ECF6\", \"gridcolor\": \"white\", \"gridwidth\": 2, \"linecolor\": \"white\", \"showbackground\": true, \"ticks\": \"\", \"zerolinecolor\": \"white\"}, \"zaxis\": {\"backgroundcolor\": \"#E5ECF6\", \"gridcolor\": \"white\", \"gridwidth\": 2, \"linecolor\": \"white\", \"showbackground\": true, \"ticks\": \"\", \"zerolinecolor\": \"white\"}}, \"shapedefaults\": {\"line\": {\"color\": \"#2a3f5f\"}}, \"ternary\": {\"aaxis\": {\"gridcolor\": \"white\", \"linecolor\": \"white\", \"ticks\": \"\"}, \"baxis\": {\"gridcolor\": \"white\", \"linecolor\": \"white\", \"ticks\": \"\"}, \"bgcolor\": \"#E5ECF6\", \"caxis\": {\"gridcolor\": \"white\", \"linecolor\": \"white\", \"ticks\": \"\"}}, \"title\": {\"x\": 0.05}, \"xaxis\": {\"automargin\": true, \"gridcolor\": \"white\", \"linecolor\": \"white\", \"ticks\": \"\", \"title\": {\"standoff\": 15}, \"zerolinecolor\": \"white\", \"zerolinewidth\": 2}, \"yaxis\": {\"automargin\": true, \"gridcolor\": \"white\", \"linecolor\": \"white\", \"ticks\": \"\", \"title\": {\"standoff\": 15}, \"zerolinecolor\": \"white\", \"zerolinewidth\": 2}}}, \"title\": {\"text\": \"Pie chart visualization of city effected by caronavirus\"}},\n",
              "                        {\"responsive\": true}\n",
              "                    ).then(function(){\n",
              "                            \n",
              "var gd = document.getElementById('366437ea-80ee-42b2-a3ce-7b41c91497e6');\n",
              "var x = new MutationObserver(function (mutations, observer) {{\n",
              "        var display = window.getComputedStyle(gd).display;\n",
              "        if (!display || display === 'none') {{\n",
              "            console.log([gd, 'removed!']);\n",
              "            Plotly.purge(gd);\n",
              "            observer.disconnect();\n",
              "        }}\n",
              "}});\n",
              "\n",
              "// Listen for the removal of the full notebook cells\n",
              "var notebookContainer = gd.closest('#notebook-container');\n",
              "if (notebookContainer) {{\n",
              "    x.observe(notebookContainer, {childList: true});\n",
              "}}\n",
              "\n",
              "// Listen for the clearing of the current output cell\n",
              "var outputEl = gd.closest('.output');\n",
              "if (outputEl) {{\n",
              "    x.observe(outputEl, {childList: true});\n",
              "}}\n",
              "\n",
              "                        })\n",
              "                };\n",
              "                \n",
              "            </script>\n",
              "        </div>\n",
              "</body>\n",
              "</html>"
            ]
          },
          "metadata": {
            "tags": []
          }
        }
      ]
    },
    {
      "cell_type": "code",
      "metadata": {
        "id": "7VBN9b4zRwTV",
        "colab_type": "code",
        "colab": {
          "base_uri": "https://localhost:8080/",
          "height": 593
        },
        "outputId": "57f9a658-66d0-475e-dd58-15456f913fc8"
      },
      "source": [
        "#Forecasting of Total Cases for Next 30 Days\n",
        "df = df1.groupby('date')['totalCases'].sum().reset_index()\n",
        "df.columns = ['ds','y']\n",
        "df['ds'] = pd.to_datetime(df['ds'])\n",
        "m = Prophet()\n",
        "m.fit(df)\n",
        "future = m.make_future_dataframe(periods=30)\n",
        "forecast = m.predict(future)\n",
        "fig = go.Figure()\n",
        "fig.add_trace(go.Scatter(x=forecast['ds'], y=forecast['yhat'],\n",
        "                    mode='lines+markers',name='Predicted Cases',marker_color='Black'))\n",
        "fig.add_trace(go.Scatter(x=df['ds'], y=df['y'],\n",
        "                    mode='lines+markers',name='Actual Cases',marker_color='red'))\n",
        "fig.update_layout(\n",
        "    title='Forecasting of Total Cases in Marajó I for Next 30 Days')\n",
        "fig.show()"
      ],
      "execution_count": 7,
      "outputs": [
        {
          "output_type": "stream",
          "text": [
            "INFO:numexpr.utils:NumExpr defaulting to 2 threads.\n",
            "INFO:fbprophet:Disabling yearly seasonality. Run prophet with yearly_seasonality=True to override this.\n",
            "INFO:fbprophet:Disabling daily seasonality. Run prophet with daily_seasonality=True to override this.\n"
          ],
          "name": "stderr"
        },
        {
          "output_type": "display_data",
          "data": {
            "text/html": [
              "<html>\n",
              "<head><meta charset=\"utf-8\" /></head>\n",
              "<body>\n",
              "    <div>\n",
              "            <script src=\"https://cdnjs.cloudflare.com/ajax/libs/mathjax/2.7.5/MathJax.js?config=TeX-AMS-MML_SVG\"></script><script type=\"text/javascript\">if (window.MathJax) {MathJax.Hub.Config({SVG: {font: \"STIX-Web\"}});}</script>\n",
              "                <script type=\"text/javascript\">window.PlotlyConfig = {MathJaxConfig: 'local'};</script>\n",
              "        <script src=\"https://cdn.plot.ly/plotly-latest.min.js\"></script>    \n",
              "            <div id=\"07b84d7a-eb12-4f2c-851c-fa602f815604\" class=\"plotly-graph-div\" style=\"height:525px; width:100%;\"></div>\n",
              "            <script type=\"text/javascript\">\n",
              "                \n",
              "                    window.PLOTLYENV=window.PLOTLYENV || {};\n",
              "                    \n",
              "                if (document.getElementById(\"07b84d7a-eb12-4f2c-851c-fa602f815604\")) {\n",
              "                    Plotly.newPlot(\n",
              "                        '07b84d7a-eb12-4f2c-851c-fa602f815604',\n",
              "                        [{\"marker\": {\"color\": \"Black\"}, \"mode\": \"lines+markers\", \"name\": \"Predicted Cases\", \"type\": \"scatter\", \"x\": [\"2020-04-15T00:00:00\", \"2020-04-16T00:00:00\", \"2020-04-17T00:00:00\", \"2020-04-18T00:00:00\", \"2020-04-19T00:00:00\", \"2020-04-20T00:00:00\", \"2020-04-21T00:00:00\", \"2020-04-22T00:00:00\", \"2020-04-23T00:00:00\", \"2020-04-24T00:00:00\", \"2020-04-25T00:00:00\", \"2020-04-26T00:00:00\", \"2020-04-27T00:00:00\", \"2020-04-28T00:00:00\", \"2020-04-29T00:00:00\", \"2020-04-30T00:00:00\", \"2020-05-01T00:00:00\", \"2020-05-02T00:00:00\", \"2020-05-03T00:00:00\", \"2020-05-04T00:00:00\", \"2020-05-05T00:00:00\", \"2020-05-06T00:00:00\", \"2020-05-07T00:00:00\", \"2020-05-08T00:00:00\", \"2020-05-09T00:00:00\", \"2020-05-10T00:00:00\", \"2020-05-11T00:00:00\", \"2020-05-12T00:00:00\", \"2020-05-13T00:00:00\", \"2020-05-14T00:00:00\", \"2020-05-15T00:00:00\", \"2020-05-16T00:00:00\", \"2020-05-17T00:00:00\", \"2020-05-18T00:00:00\", \"2020-05-19T00:00:00\", \"2020-05-20T00:00:00\", \"2020-05-21T00:00:00\", \"2020-05-22T00:00:00\", \"2020-05-23T00:00:00\", \"2020-05-24T00:00:00\", \"2020-05-25T00:00:00\", \"2020-05-26T00:00:00\", \"2020-05-27T00:00:00\", \"2020-05-28T00:00:00\", \"2020-05-29T00:00:00\", \"2020-05-30T00:00:00\", \"2020-05-31T00:00:00\", \"2020-06-01T00:00:00\", \"2020-06-02T00:00:00\", \"2020-06-03T00:00:00\", \"2020-06-04T00:00:00\", \"2020-06-05T00:00:00\", \"2020-06-06T00:00:00\", \"2020-06-07T00:00:00\", \"2020-06-08T00:00:00\", \"2020-06-09T00:00:00\", \"2020-06-10T00:00:00\", \"2020-06-11T00:00:00\", \"2020-06-12T00:00:00\", \"2020-06-13T00:00:00\", \"2020-06-14T00:00:00\", \"2020-06-15T00:00:00\", \"2020-06-16T00:00:00\", \"2020-06-17T00:00:00\", \"2020-06-18T00:00:00\", \"2020-06-19T00:00:00\", \"2020-06-20T00:00:00\", \"2020-06-21T00:00:00\", \"2020-06-22T00:00:00\", \"2020-06-23T00:00:00\", \"2020-06-24T00:00:00\", \"2020-06-25T00:00:00\", \"2020-06-26T00:00:00\", \"2020-06-27T00:00:00\", \"2020-06-28T00:00:00\", \"2020-06-29T00:00:00\", \"2020-06-30T00:00:00\", \"2020-07-01T00:00:00\", \"2020-07-02T00:00:00\", \"2020-07-03T00:00:00\", \"2020-07-04T00:00:00\", \"2020-07-05T00:00:00\", \"2020-07-06T00:00:00\", \"2020-07-07T00:00:00\", \"2020-07-08T00:00:00\", \"2020-07-09T00:00:00\", \"2020-07-10T00:00:00\", \"2020-07-11T00:00:00\", \"2020-07-12T00:00:00\", \"2020-07-13T00:00:00\", \"2020-07-14T00:00:00\", \"2020-07-15T00:00:00\", \"2020-07-16T00:00:00\", \"2020-07-17T00:00:00\", \"2020-07-18T00:00:00\", \"2020-07-19T00:00:00\", \"2020-07-20T00:00:00\", \"2020-07-21T00:00:00\", \"2020-07-22T00:00:00\", \"2020-07-23T00:00:00\", \"2020-07-24T00:00:00\", \"2020-07-25T00:00:00\", \"2020-07-26T00:00:00\", \"2020-07-27T00:00:00\", \"2020-07-28T00:00:00\", \"2020-07-29T00:00:00\", \"2020-07-30T00:00:00\", \"2020-07-31T00:00:00\", \"2020-08-01T00:00:00\", \"2020-08-02T00:00:00\", \"2020-08-03T00:00:00\", \"2020-08-04T00:00:00\", \"2020-08-05T00:00:00\", \"2020-08-06T00:00:00\", \"2020-08-07T00:00:00\", \"2020-08-08T00:00:00\", \"2020-08-09T00:00:00\"], \"y\": [-8.691562970999154, -2.6486384126694915, -4.473948849517988, -12.503521762358933, -37.37294188456438, -30.993544649483187, 7.376777959950029, 28.386290151717667, 34.42921442245472, 32.6099552780268, 24.586433657606662, -0.2769351021308708, 6.112375389564448, 44.49261147330875, 65.51203713927512, 71.57683093415923, 69.77338973389976, 71.80040677185086, 56.98757667032146, 73.42356392613902, 121.85838637208359, 152.93239840019774, 169.03982250732076, 200.52669485474513, 225.80930472621054, 234.2703481874147, 273.9802090060037, 345.6809954165892, 400.03499584759646, 439.4224083576539, 470.94158587256123, 496.2731216002862, 504.7648101885711, 544.5053161341688, 616.2740843785898, 670.6820422050451, 722.9741715706203, 767.3980659410487, 805.6176978354813, 835.0938719140047, 895.8188633497132, 988.5347803776318, 1063.897171920377, 1124.2929755422188, 1176.8205441689101, 1223.1608631035997, 1252.6613348989772, 1313.4297082545204, 1406.1890072022609, 1481.5874957319818, 1542.0205402065571, 1594.5853496859856, 1640.9458966893587, 1670.473592903646, 1731.25010647515, 1824.0379209942062, 1899.4649250954558, 1959.925341275712, 2012.5508418121447, 2058.972079872512, 2088.55347079369, 2168.3749112465503, 2280.1872772915103, 2374.638832918658, 2454.124512774049, 2525.741957634303, 2600.722043090602, 2658.862281407532, 2748.2513370816764, 2869.674556652022, 2973.736965804514, 3062.8327870360445, 3144.0603732724135, 3219.0836970328082, 3277.267173653851, 3366.6994676321506, 3488.122687202497, 3592.18509635496, 3681.2809175865023, 3762.508503822866, 3837.5318275832474, 3895.715304204288, 3985.1475981825342, 4106.570817752985, 4210.633226905421, 4299.729048136957, 4380.956634373328, 4455.979958133694, 4514.163434754749, 4603.5957287330075, 4725.018948303471, 4829.081357455884, 4918.177178687414, 4999.404764923804, 5074.428088684243, 5132.611565305185, 5222.043859283494, 5343.467078853956, 5447.529488006336, 5536.625309237873, 5617.8528954742615, 5692.876219234681, 5751.059695855633, 5840.491989833955, 5961.915209404302, 6065.977618556791, 6155.073439788329, 6236.301026024718, 6311.32434978512, 6369.507826406151, 6458.940120384443, 6580.36333995479, 6684.425749107259, 6773.521570338786, 6854.749156575173, 6929.772480335568, 6987.95595695661]}, {\"marker\": {\"color\": \"red\"}, \"mode\": \"lines+markers\", \"name\": \"Actual Cases\", \"type\": \"scatter\", \"x\": [\"2020-04-15T00:00:00\", \"2020-04-16T00:00:00\", \"2020-04-17T00:00:00\", \"2020-04-18T00:00:00\", \"2020-04-19T00:00:00\", \"2020-04-20T00:00:00\", \"2020-04-21T00:00:00\", \"2020-04-22T00:00:00\", \"2020-04-23T00:00:00\", \"2020-04-24T00:00:00\", \"2020-04-25T00:00:00\", \"2020-04-26T00:00:00\", \"2020-04-27T00:00:00\", \"2020-04-28T00:00:00\", \"2020-04-29T00:00:00\", \"2020-04-30T00:00:00\", \"2020-05-01T00:00:00\", \"2020-05-02T00:00:00\", \"2020-05-03T00:00:00\", \"2020-05-04T00:00:00\", \"2020-05-05T00:00:00\", \"2020-05-06T00:00:00\", \"2020-05-07T00:00:00\", \"2020-05-08T00:00:00\", \"2020-05-09T00:00:00\", \"2020-05-10T00:00:00\", \"2020-05-11T00:00:00\", \"2020-05-12T00:00:00\", \"2020-05-13T00:00:00\", \"2020-05-14T00:00:00\", \"2020-05-15T00:00:00\", \"2020-05-16T00:00:00\", \"2020-05-17T00:00:00\", \"2020-05-18T00:00:00\", \"2020-05-19T00:00:00\", \"2020-05-20T00:00:00\", \"2020-05-21T00:00:00\", \"2020-05-22T00:00:00\", \"2020-05-23T00:00:00\", \"2020-05-24T00:00:00\", \"2020-05-25T00:00:00\", \"2020-05-26T00:00:00\", \"2020-05-27T00:00:00\", \"2020-05-28T00:00:00\", \"2020-05-29T00:00:00\", \"2020-05-30T00:00:00\", \"2020-05-31T00:00:00\", \"2020-06-01T00:00:00\", \"2020-06-02T00:00:00\", \"2020-06-03T00:00:00\", \"2020-06-04T00:00:00\", \"2020-06-05T00:00:00\", \"2020-06-06T00:00:00\", \"2020-06-07T00:00:00\", \"2020-06-08T00:00:00\", \"2020-06-09T00:00:00\", \"2020-06-10T00:00:00\", \"2020-06-11T00:00:00\", \"2020-06-12T00:00:00\", \"2020-06-13T00:00:00\", \"2020-06-14T00:00:00\", \"2020-06-15T00:00:00\", \"2020-06-16T00:00:00\", \"2020-06-17T00:00:00\", \"2020-06-18T00:00:00\", \"2020-06-19T00:00:00\", \"2020-06-20T00:00:00\", \"2020-06-21T00:00:00\", \"2020-06-22T00:00:00\", \"2020-06-23T00:00:00\", \"2020-06-24T00:00:00\", \"2020-06-25T00:00:00\", \"2020-06-26T00:00:00\", \"2020-06-27T00:00:00\", \"2020-06-28T00:00:00\", \"2020-06-29T00:00:00\", \"2020-06-30T00:00:00\", \"2020-07-01T00:00:00\", \"2020-07-02T00:00:00\", \"2020-07-03T00:00:00\", \"2020-07-04T00:00:00\", \"2020-07-05T00:00:00\", \"2020-07-06T00:00:00\", \"2020-07-07T00:00:00\", \"2020-07-08T00:00:00\", \"2020-07-09T00:00:00\", \"2020-07-10T00:00:00\"], \"y\": [1, 1, 1, 1, 1, 4, 5, 4, 5, 14, 14, 21, 31, 34, 39, 44, 53, 53, 87, 106, 113, 136, 158, 178, 233, 257, 298, 325, 401, 433, 460, 494, 542, 570, 570, 675, 706, 782, 815, 830, 892, 989, 1025, 1154, 1194, 1215, 1221, 1300, 1395, 1489, 1556, 1655, 1655, 1672, 1730, 1791, 1927, 1937, 1996, 2042, 2100, 2147, 2294, 2399, 2495, 2529, 2540, 2565, 2720, 2875, 2968, 3046, 3161, 3175, 3181, 3280, 3588, 3652, 3799, 3886, 3955, 3960, 3998, 4120, 4189, 4225, 4225]}],\n",
              "                        {\"template\": {\"data\": {\"bar\": [{\"error_x\": {\"color\": \"#2a3f5f\"}, \"error_y\": {\"color\": \"#2a3f5f\"}, \"marker\": {\"line\": {\"color\": \"#E5ECF6\", \"width\": 0.5}}, \"type\": \"bar\"}], \"barpolar\": [{\"marker\": {\"line\": {\"color\": \"#E5ECF6\", \"width\": 0.5}}, \"type\": \"barpolar\"}], \"carpet\": [{\"aaxis\": {\"endlinecolor\": \"#2a3f5f\", \"gridcolor\": \"white\", \"linecolor\": \"white\", \"minorgridcolor\": \"white\", \"startlinecolor\": \"#2a3f5f\"}, \"baxis\": {\"endlinecolor\": \"#2a3f5f\", \"gridcolor\": \"white\", \"linecolor\": \"white\", \"minorgridcolor\": \"white\", \"startlinecolor\": \"#2a3f5f\"}, \"type\": \"carpet\"}], \"choropleth\": [{\"colorbar\": {\"outlinewidth\": 0, \"ticks\": \"\"}, \"type\": \"choropleth\"}], \"contour\": [{\"colorbar\": {\"outlinewidth\": 0, \"ticks\": \"\"}, \"colorscale\": [[0.0, \"#0d0887\"], [0.1111111111111111, \"#46039f\"], [0.2222222222222222, \"#7201a8\"], [0.3333333333333333, \"#9c179e\"], [0.4444444444444444, \"#bd3786\"], [0.5555555555555556, \"#d8576b\"], [0.6666666666666666, \"#ed7953\"], [0.7777777777777778, \"#fb9f3a\"], [0.8888888888888888, \"#fdca26\"], [1.0, \"#f0f921\"]], \"type\": \"contour\"}], \"contourcarpet\": [{\"colorbar\": {\"outlinewidth\": 0, \"ticks\": \"\"}, \"type\": \"contourcarpet\"}], \"heatmap\": [{\"colorbar\": {\"outlinewidth\": 0, \"ticks\": \"\"}, \"colorscale\": [[0.0, \"#0d0887\"], [0.1111111111111111, \"#46039f\"], [0.2222222222222222, \"#7201a8\"], [0.3333333333333333, \"#9c179e\"], [0.4444444444444444, \"#bd3786\"], [0.5555555555555556, \"#d8576b\"], [0.6666666666666666, \"#ed7953\"], [0.7777777777777778, \"#fb9f3a\"], [0.8888888888888888, \"#fdca26\"], [1.0, \"#f0f921\"]], \"type\": \"heatmap\"}], \"heatmapgl\": [{\"colorbar\": {\"outlinewidth\": 0, \"ticks\": \"\"}, \"colorscale\": [[0.0, \"#0d0887\"], [0.1111111111111111, \"#46039f\"], [0.2222222222222222, \"#7201a8\"], [0.3333333333333333, \"#9c179e\"], [0.4444444444444444, \"#bd3786\"], [0.5555555555555556, \"#d8576b\"], [0.6666666666666666, \"#ed7953\"], [0.7777777777777778, \"#fb9f3a\"], [0.8888888888888888, \"#fdca26\"], [1.0, \"#f0f921\"]], \"type\": \"heatmapgl\"}], \"histogram\": [{\"marker\": {\"colorbar\": {\"outlinewidth\": 0, \"ticks\": \"\"}}, \"type\": \"histogram\"}], \"histogram2d\": [{\"colorbar\": {\"outlinewidth\": 0, \"ticks\": \"\"}, \"colorscale\": [[0.0, \"#0d0887\"], [0.1111111111111111, \"#46039f\"], [0.2222222222222222, \"#7201a8\"], [0.3333333333333333, \"#9c179e\"], [0.4444444444444444, \"#bd3786\"], [0.5555555555555556, \"#d8576b\"], [0.6666666666666666, \"#ed7953\"], [0.7777777777777778, \"#fb9f3a\"], [0.8888888888888888, \"#fdca26\"], [1.0, \"#f0f921\"]], \"type\": \"histogram2d\"}], \"histogram2dcontour\": [{\"colorbar\": {\"outlinewidth\": 0, \"ticks\": \"\"}, \"colorscale\": [[0.0, \"#0d0887\"], [0.1111111111111111, \"#46039f\"], [0.2222222222222222, \"#7201a8\"], [0.3333333333333333, \"#9c179e\"], [0.4444444444444444, \"#bd3786\"], [0.5555555555555556, \"#d8576b\"], [0.6666666666666666, \"#ed7953\"], [0.7777777777777778, \"#fb9f3a\"], [0.8888888888888888, \"#fdca26\"], [1.0, \"#f0f921\"]], \"type\": \"histogram2dcontour\"}], \"mesh3d\": [{\"colorbar\": {\"outlinewidth\": 0, \"ticks\": \"\"}, \"type\": \"mesh3d\"}], \"parcoords\": [{\"line\": {\"colorbar\": {\"outlinewidth\": 0, \"ticks\": \"\"}}, \"type\": \"parcoords\"}], \"pie\": [{\"automargin\": true, \"type\": \"pie\"}], \"scatter\": [{\"marker\": {\"colorbar\": {\"outlinewidth\": 0, \"ticks\": \"\"}}, \"type\": \"scatter\"}], \"scatter3d\": [{\"line\": {\"colorbar\": {\"outlinewidth\": 0, \"ticks\": \"\"}}, \"marker\": {\"colorbar\": {\"outlinewidth\": 0, \"ticks\": \"\"}}, \"type\": \"scatter3d\"}], \"scattercarpet\": [{\"marker\": {\"colorbar\": {\"outlinewidth\": 0, \"ticks\": \"\"}}, \"type\": \"scattercarpet\"}], \"scattergeo\": [{\"marker\": {\"colorbar\": {\"outlinewidth\": 0, \"ticks\": \"\"}}, \"type\": \"scattergeo\"}], \"scattergl\": [{\"marker\": {\"colorbar\": {\"outlinewidth\": 0, \"ticks\": \"\"}}, \"type\": \"scattergl\"}], \"scattermapbox\": [{\"marker\": {\"colorbar\": {\"outlinewidth\": 0, \"ticks\": \"\"}}, \"type\": \"scattermapbox\"}], \"scatterpolar\": [{\"marker\": {\"colorbar\": {\"outlinewidth\": 0, \"ticks\": \"\"}}, \"type\": \"scatterpolar\"}], \"scatterpolargl\": [{\"marker\": {\"colorbar\": {\"outlinewidth\": 0, \"ticks\": \"\"}}, \"type\": \"scatterpolargl\"}], \"scatterternary\": [{\"marker\": {\"colorbar\": {\"outlinewidth\": 0, \"ticks\": \"\"}}, \"type\": \"scatterternary\"}], \"surface\": [{\"colorbar\": {\"outlinewidth\": 0, \"ticks\": \"\"}, \"colorscale\": [[0.0, \"#0d0887\"], [0.1111111111111111, \"#46039f\"], [0.2222222222222222, \"#7201a8\"], [0.3333333333333333, \"#9c179e\"], [0.4444444444444444, \"#bd3786\"], [0.5555555555555556, \"#d8576b\"], [0.6666666666666666, \"#ed7953\"], [0.7777777777777778, \"#fb9f3a\"], [0.8888888888888888, \"#fdca26\"], [1.0, \"#f0f921\"]], \"type\": \"surface\"}], \"table\": [{\"cells\": {\"fill\": {\"color\": \"#EBF0F8\"}, \"line\": {\"color\": \"white\"}}, \"header\": {\"fill\": {\"color\": \"#C8D4E3\"}, \"line\": {\"color\": \"white\"}}, \"type\": \"table\"}]}, \"layout\": {\"annotationdefaults\": {\"arrowcolor\": \"#2a3f5f\", \"arrowhead\": 0, \"arrowwidth\": 1}, \"coloraxis\": {\"colorbar\": {\"outlinewidth\": 0, \"ticks\": \"\"}}, \"colorscale\": {\"diverging\": [[0, \"#8e0152\"], [0.1, \"#c51b7d\"], [0.2, \"#de77ae\"], [0.3, \"#f1b6da\"], [0.4, \"#fde0ef\"], [0.5, \"#f7f7f7\"], [0.6, \"#e6f5d0\"], [0.7, \"#b8e186\"], [0.8, \"#7fbc41\"], [0.9, \"#4d9221\"], [1, \"#276419\"]], \"sequential\": [[0.0, \"#0d0887\"], [0.1111111111111111, \"#46039f\"], [0.2222222222222222, \"#7201a8\"], [0.3333333333333333, \"#9c179e\"], [0.4444444444444444, \"#bd3786\"], [0.5555555555555556, \"#d8576b\"], [0.6666666666666666, \"#ed7953\"], [0.7777777777777778, \"#fb9f3a\"], [0.8888888888888888, \"#fdca26\"], [1.0, \"#f0f921\"]], \"sequentialminus\": [[0.0, \"#0d0887\"], [0.1111111111111111, \"#46039f\"], [0.2222222222222222, \"#7201a8\"], [0.3333333333333333, \"#9c179e\"], [0.4444444444444444, \"#bd3786\"], [0.5555555555555556, \"#d8576b\"], [0.6666666666666666, \"#ed7953\"], [0.7777777777777778, \"#fb9f3a\"], [0.8888888888888888, \"#fdca26\"], [1.0, \"#f0f921\"]]}, \"colorway\": [\"#636efa\", \"#EF553B\", \"#00cc96\", \"#ab63fa\", \"#FFA15A\", \"#19d3f3\", \"#FF6692\", \"#B6E880\", \"#FF97FF\", \"#FECB52\"], \"font\": {\"color\": \"#2a3f5f\"}, \"geo\": {\"bgcolor\": \"white\", \"lakecolor\": \"white\", \"landcolor\": \"#E5ECF6\", \"showlakes\": true, \"showland\": true, \"subunitcolor\": \"white\"}, \"hoverlabel\": {\"align\": \"left\"}, \"hovermode\": \"closest\", \"mapbox\": {\"style\": \"light\"}, \"paper_bgcolor\": \"white\", \"plot_bgcolor\": \"#E5ECF6\", \"polar\": {\"angularaxis\": {\"gridcolor\": \"white\", \"linecolor\": \"white\", \"ticks\": \"\"}, \"bgcolor\": \"#E5ECF6\", \"radialaxis\": {\"gridcolor\": \"white\", \"linecolor\": \"white\", \"ticks\": \"\"}}, \"scene\": {\"xaxis\": {\"backgroundcolor\": \"#E5ECF6\", \"gridcolor\": \"white\", \"gridwidth\": 2, \"linecolor\": \"white\", \"showbackground\": true, \"ticks\": \"\", \"zerolinecolor\": \"white\"}, \"yaxis\": {\"backgroundcolor\": \"#E5ECF6\", \"gridcolor\": \"white\", \"gridwidth\": 2, \"linecolor\": \"white\", \"showbackground\": true, \"ticks\": \"\", \"zerolinecolor\": \"white\"}, \"zaxis\": {\"backgroundcolor\": \"#E5ECF6\", \"gridcolor\": \"white\", \"gridwidth\": 2, \"linecolor\": \"white\", \"showbackground\": true, \"ticks\": \"\", \"zerolinecolor\": \"white\"}}, \"shapedefaults\": {\"line\": {\"color\": \"#2a3f5f\"}}, \"ternary\": {\"aaxis\": {\"gridcolor\": \"white\", \"linecolor\": \"white\", \"ticks\": \"\"}, \"baxis\": {\"gridcolor\": \"white\", \"linecolor\": \"white\", \"ticks\": \"\"}, \"bgcolor\": \"#E5ECF6\", \"caxis\": {\"gridcolor\": \"white\", \"linecolor\": \"white\", \"ticks\": \"\"}}, \"title\": {\"x\": 0.05}, \"xaxis\": {\"automargin\": true, \"gridcolor\": \"white\", \"linecolor\": \"white\", \"ticks\": \"\", \"title\": {\"standoff\": 15}, \"zerolinecolor\": \"white\", \"zerolinewidth\": 2}, \"yaxis\": {\"automargin\": true, \"gridcolor\": \"white\", \"linecolor\": \"white\", \"ticks\": \"\", \"title\": {\"standoff\": 15}, \"zerolinecolor\": \"white\", \"zerolinewidth\": 2}}}, \"title\": {\"text\": \"Forecasting of Total Cases in Maraj\\u00f3 I for Next 30 Days\"}},\n",
              "                        {\"responsive\": true}\n",
              "                    ).then(function(){\n",
              "                            \n",
              "var gd = document.getElementById('07b84d7a-eb12-4f2c-851c-fa602f815604');\n",
              "var x = new MutationObserver(function (mutations, observer) {{\n",
              "        var display = window.getComputedStyle(gd).display;\n",
              "        if (!display || display === 'none') {{\n",
              "            console.log([gd, 'removed!']);\n",
              "            Plotly.purge(gd);\n",
              "            observer.disconnect();\n",
              "        }}\n",
              "}});\n",
              "\n",
              "// Listen for the removal of the full notebook cells\n",
              "var notebookContainer = gd.closest('#notebook-container');\n",
              "if (notebookContainer) {{\n",
              "    x.observe(notebookContainer, {childList: true});\n",
              "}}\n",
              "\n",
              "// Listen for the clearing of the current output cell\n",
              "var outputEl = gd.closest('.output');\n",
              "if (outputEl) {{\n",
              "    x.observe(outputEl, {childList: true});\n",
              "}}\n",
              "\n",
              "                        })\n",
              "                };\n",
              "                \n",
              "            </script>\n",
              "        </div>\n",
              "</body>\n",
              "</html>"
            ]
          },
          "metadata": {
            "tags": []
          }
        }
      ]
    },
    {
      "cell_type": "code",
      "metadata": {
        "id": "kQq8E6KIRwTX",
        "colab_type": "code",
        "colab": {
          "base_uri": "https://localhost:8080/",
          "height": 576
        },
        "outputId": "ae788741-0bfe-4e53-c5f1-54874b7a2319"
      },
      "source": [
        "#Forecasting of Deaths for Next 30 Days\n",
        "df = df1.groupby('date')['deaths'].sum().reset_index()\n",
        "df.columns = ['ds','y']\n",
        "df['ds'] = pd.to_datetime(df['ds'])\n",
        "m = Prophet()\n",
        "m.fit(df)\n",
        "future = m.make_future_dataframe(periods=30)\n",
        "forecast = m.predict(future)\n",
        "fig = go.Figure()\n",
        "fig.add_trace(go.Scatter(x=forecast['ds'], y=forecast['yhat'],\n",
        "                    mode='lines+markers',name='Predicted Cases',marker_color='red'))\n",
        "fig.add_trace(go.Scatter(x=df['ds'], y=df['y'],\n",
        "                    mode='lines+markers',name='Actual Cases',marker_color='blue'))\n",
        "fig.update_layout(\n",
        "    title='Forecasting of Deaths in MARAJÓ II for Next 30 Days')\n",
        "fig.show()\n"
      ],
      "execution_count": 8,
      "outputs": [
        {
          "output_type": "stream",
          "text": [
            "INFO:fbprophet:Disabling yearly seasonality. Run prophet with yearly_seasonality=True to override this.\n",
            "INFO:fbprophet:Disabling daily seasonality. Run prophet with daily_seasonality=True to override this.\n"
          ],
          "name": "stderr"
        },
        {
          "output_type": "display_data",
          "data": {
            "text/html": [
              "<html>\n",
              "<head><meta charset=\"utf-8\" /></head>\n",
              "<body>\n",
              "    <div>\n",
              "            <script src=\"https://cdnjs.cloudflare.com/ajax/libs/mathjax/2.7.5/MathJax.js?config=TeX-AMS-MML_SVG\"></script><script type=\"text/javascript\">if (window.MathJax) {MathJax.Hub.Config({SVG: {font: \"STIX-Web\"}});}</script>\n",
              "                <script type=\"text/javascript\">window.PlotlyConfig = {MathJaxConfig: 'local'};</script>\n",
              "        <script src=\"https://cdn.plot.ly/plotly-latest.min.js\"></script>    \n",
              "            <div id=\"27e45112-cd83-4505-9dc5-848f40ac69d5\" class=\"plotly-graph-div\" style=\"height:525px; width:100%;\"></div>\n",
              "            <script type=\"text/javascript\">\n",
              "                \n",
              "                    window.PLOTLYENV=window.PLOTLYENV || {};\n",
              "                    \n",
              "                if (document.getElementById(\"27e45112-cd83-4505-9dc5-848f40ac69d5\")) {\n",
              "                    Plotly.newPlot(\n",
              "                        '27e45112-cd83-4505-9dc5-848f40ac69d5',\n",
              "                        [{\"marker\": {\"color\": \"red\"}, \"mode\": \"lines+markers\", \"name\": \"Predicted Cases\", \"type\": \"scatter\", \"x\": [\"2020-04-15T00:00:00\", \"2020-04-16T00:00:00\", \"2020-04-17T00:00:00\", \"2020-04-18T00:00:00\", \"2020-04-19T00:00:00\", \"2020-04-20T00:00:00\", \"2020-04-21T00:00:00\", \"2020-04-22T00:00:00\", \"2020-04-23T00:00:00\", \"2020-04-24T00:00:00\", \"2020-04-25T00:00:00\", \"2020-04-26T00:00:00\", \"2020-04-27T00:00:00\", \"2020-04-28T00:00:00\", \"2020-04-29T00:00:00\", \"2020-04-30T00:00:00\", \"2020-05-01T00:00:00\", \"2020-05-02T00:00:00\", \"2020-05-03T00:00:00\", \"2020-05-04T00:00:00\", \"2020-05-05T00:00:00\", \"2020-05-06T00:00:00\", \"2020-05-07T00:00:00\", \"2020-05-08T00:00:00\", \"2020-05-09T00:00:00\", \"2020-05-10T00:00:00\", \"2020-05-11T00:00:00\", \"2020-05-12T00:00:00\", \"2020-05-13T00:00:00\", \"2020-05-14T00:00:00\", \"2020-05-15T00:00:00\", \"2020-05-16T00:00:00\", \"2020-05-17T00:00:00\", \"2020-05-18T00:00:00\", \"2020-05-19T00:00:00\", \"2020-05-20T00:00:00\", \"2020-05-21T00:00:00\", \"2020-05-22T00:00:00\", \"2020-05-23T00:00:00\", \"2020-05-24T00:00:00\", \"2020-05-25T00:00:00\", \"2020-05-26T00:00:00\", \"2020-05-27T00:00:00\", \"2020-05-28T00:00:00\", \"2020-05-29T00:00:00\", \"2020-05-30T00:00:00\", \"2020-05-31T00:00:00\", \"2020-06-01T00:00:00\", \"2020-06-02T00:00:00\", \"2020-06-03T00:00:00\", \"2020-06-04T00:00:00\", \"2020-06-05T00:00:00\", \"2020-06-06T00:00:00\", \"2020-06-07T00:00:00\", \"2020-06-08T00:00:00\", \"2020-06-09T00:00:00\", \"2020-06-10T00:00:00\", \"2020-06-11T00:00:00\", \"2020-06-12T00:00:00\", \"2020-06-13T00:00:00\", \"2020-06-14T00:00:00\", \"2020-06-15T00:00:00\", \"2020-06-16T00:00:00\", \"2020-06-17T00:00:00\", \"2020-06-18T00:00:00\", \"2020-06-19T00:00:00\", \"2020-06-20T00:00:00\", \"2020-06-21T00:00:00\", \"2020-06-22T00:00:00\", \"2020-06-23T00:00:00\", \"2020-06-24T00:00:00\", \"2020-06-25T00:00:00\", \"2020-06-26T00:00:00\", \"2020-06-27T00:00:00\", \"2020-06-28T00:00:00\", \"2020-06-29T00:00:00\", \"2020-06-30T00:00:00\", \"2020-07-01T00:00:00\", \"2020-07-02T00:00:00\", \"2020-07-03T00:00:00\", \"2020-07-04T00:00:00\", \"2020-07-05T00:00:00\", \"2020-07-06T00:00:00\", \"2020-07-07T00:00:00\", \"2020-07-08T00:00:00\", \"2020-07-09T00:00:00\", \"2020-07-10T00:00:00\", \"2020-07-11T00:00:00\", \"2020-07-12T00:00:00\", \"2020-07-13T00:00:00\", \"2020-07-14T00:00:00\", \"2020-07-15T00:00:00\", \"2020-07-16T00:00:00\", \"2020-07-17T00:00:00\", \"2020-07-18T00:00:00\", \"2020-07-19T00:00:00\", \"2020-07-20T00:00:00\", \"2020-07-21T00:00:00\", \"2020-07-22T00:00:00\", \"2020-07-23T00:00:00\", \"2020-07-24T00:00:00\", \"2020-07-25T00:00:00\", \"2020-07-26T00:00:00\", \"2020-07-27T00:00:00\", \"2020-07-28T00:00:00\", \"2020-07-29T00:00:00\", \"2020-07-30T00:00:00\", \"2020-07-31T00:00:00\", \"2020-08-01T00:00:00\", \"2020-08-02T00:00:00\", \"2020-08-03T00:00:00\", \"2020-08-04T00:00:00\", \"2020-08-05T00:00:00\", \"2020-08-06T00:00:00\", \"2020-08-07T00:00:00\", \"2020-08-08T00:00:00\", \"2020-08-09T00:00:00\"], \"y\": [-1.3272983602041037, -0.3427236150302374, -0.2812451850960622, -0.3018088270366562, -0.7090974625344288, 0.38350282954255954, 0.051699966889793614, 1.0673016665491075, 2.0518764205126825, 2.113616891847433, 2.093315291304714, 1.6862886976328413, 2.780879051259874, 2.4510662409410626, 3.4686579929346624, 6.3855604153211445, 8.379366522469878, 10.291976683984243, 11.817861852364647, 14.843635948320303, 17.568548750270303, 21.640866114531068, 25.68215653309599, 28.800350639508647, 31.836502674042535, 34.48592971366567, 38.63524568086299, 41.360158484114535, 45.43247584820952, 49.473766266614, 52.59196036977664, 55.628112399624285, 58.27753943633909, 62.426855400627765, 65.1517681983746, 69.22408555843408, 73.26536877050596, 76.3835556673333, 79.41970049228712, 82.06842156826191, 86.21703157181081, 88.94123841141321, 92.17129275717704, 95.37032015724677, 97.64625124208058, 99.83989403246535, 101.64681182972338, 104.9532239459002, 106.8352328981312, 110.0646464126762, 112.39315329466804, 113.79856386142087, 115.12193235629405, 116.0571835746932, 118.49232372066572, 119.46265717213, 121.78039518590488, 124.06710625398806, 125.43071073510623, 126.71227314434378, 127.60711056045506, 130.00183689813304, 130.97216007186495, 133.28988780791192, 135.5765885999056, 136.94019307665945, 138.22173458016516, 139.1165510905387, 141.51125652848788, 141.49125828869845, 142.81866461122297, 144.11504398804763, 144.48832704963593, 144.77956803934927, 144.68408403593017, 146.08848896008564, 146.06849072029513, 147.3958970428181, 148.69227641964645, 149.0655594812349, 149.3568004709471, 149.26131646752853, 150.66572139168355, 150.6457231518934, 151.97312947441606, 153.269508851243, 153.6427919128299, 153.93403290254355, 153.83854889912615, 155.24295382328134, 155.22295558349163, 156.55036190601407, 157.84674128283953, 158.2200243444316, 158.51126533414381, 158.4157813307245, 159.82018625487973, 159.80018801508987, 161.12759433761127, 162.42397371444068, 162.7972567760286, 163.0884977657416, 162.9930137623225, 164.3974186864769, 164.37742044668687, 165.70482676920716, 167.0012061460372, 167.3744892076256, 167.6657301973394, 167.57024619392018, 168.97465111807534, 168.95465287828512, 170.28205920080725, 171.578438577636, 171.9517216392226, 172.24296262893589, 172.1474786255178]}, {\"marker\": {\"color\": \"blue\"}, \"mode\": \"lines+markers\", \"name\": \"Actual Cases\", \"type\": \"scatter\", \"x\": [\"2020-04-15T00:00:00\", \"2020-04-16T00:00:00\", \"2020-04-17T00:00:00\", \"2020-04-18T00:00:00\", \"2020-04-19T00:00:00\", \"2020-04-20T00:00:00\", \"2020-04-21T00:00:00\", \"2020-04-22T00:00:00\", \"2020-04-23T00:00:00\", \"2020-04-24T00:00:00\", \"2020-04-25T00:00:00\", \"2020-04-26T00:00:00\", \"2020-04-27T00:00:00\", \"2020-04-28T00:00:00\", \"2020-04-29T00:00:00\", \"2020-04-30T00:00:00\", \"2020-05-01T00:00:00\", \"2020-05-02T00:00:00\", \"2020-05-03T00:00:00\", \"2020-05-04T00:00:00\", \"2020-05-05T00:00:00\", \"2020-05-06T00:00:00\", \"2020-05-07T00:00:00\", \"2020-05-08T00:00:00\", \"2020-05-09T00:00:00\", \"2020-05-10T00:00:00\", \"2020-05-11T00:00:00\", \"2020-05-12T00:00:00\", \"2020-05-13T00:00:00\", \"2020-05-14T00:00:00\", \"2020-05-15T00:00:00\", \"2020-05-16T00:00:00\", \"2020-05-17T00:00:00\", \"2020-05-18T00:00:00\", \"2020-05-19T00:00:00\", \"2020-05-20T00:00:00\", \"2020-05-21T00:00:00\", \"2020-05-22T00:00:00\", \"2020-05-23T00:00:00\", \"2020-05-24T00:00:00\", \"2020-05-25T00:00:00\", \"2020-05-26T00:00:00\", \"2020-05-27T00:00:00\", \"2020-05-28T00:00:00\", \"2020-05-29T00:00:00\", \"2020-05-30T00:00:00\", \"2020-05-31T00:00:00\", \"2020-06-01T00:00:00\", \"2020-06-02T00:00:00\", \"2020-06-03T00:00:00\", \"2020-06-04T00:00:00\", \"2020-06-05T00:00:00\", \"2020-06-06T00:00:00\", \"2020-06-07T00:00:00\", \"2020-06-08T00:00:00\", \"2020-06-09T00:00:00\", \"2020-06-10T00:00:00\", \"2020-06-11T00:00:00\", \"2020-06-12T00:00:00\", \"2020-06-13T00:00:00\", \"2020-06-14T00:00:00\", \"2020-06-15T00:00:00\", \"2020-06-16T00:00:00\", \"2020-06-17T00:00:00\", \"2020-06-18T00:00:00\", \"2020-06-19T00:00:00\", \"2020-06-20T00:00:00\", \"2020-06-21T00:00:00\", \"2020-06-22T00:00:00\", \"2020-06-23T00:00:00\", \"2020-06-24T00:00:00\", \"2020-06-25T00:00:00\", \"2020-06-26T00:00:00\", \"2020-06-27T00:00:00\", \"2020-06-28T00:00:00\", \"2020-06-29T00:00:00\", \"2020-06-30T00:00:00\", \"2020-07-01T00:00:00\", \"2020-07-02T00:00:00\", \"2020-07-03T00:00:00\", \"2020-07-04T00:00:00\", \"2020-07-05T00:00:00\", \"2020-07-06T00:00:00\", \"2020-07-07T00:00:00\", \"2020-07-08T00:00:00\", \"2020-07-09T00:00:00\", \"2020-07-10T00:00:00\"], \"y\": [0, 0, 0, 0, 0, 0, 1, 1, 1, 1, 1, 1, 3, 3, 3, 6, 9, 11, 11, 14, 14, 19, 26, 32, 32, 38, 39, 41, 46, 49, 52, 56, 59, 60, 60, 71, 76, 77, 80, 81, 88, 91, 92, 96, 97, 99, 99, 104, 108, 111, 113, 115, 115, 115, 120, 121, 122, 124, 125, 127, 127, 128, 130, 131, 135, 137, 138, 141, 141, 142, 143, 144, 144, 144, 144, 149, 149, 149, 149, 149, 150, 150, 151, 151, 151, 151, 151]}],\n",
              "                        {\"template\": {\"data\": {\"bar\": [{\"error_x\": {\"color\": \"#2a3f5f\"}, \"error_y\": {\"color\": \"#2a3f5f\"}, \"marker\": {\"line\": {\"color\": \"#E5ECF6\", \"width\": 0.5}}, \"type\": \"bar\"}], \"barpolar\": [{\"marker\": {\"line\": {\"color\": \"#E5ECF6\", \"width\": 0.5}}, \"type\": \"barpolar\"}], \"carpet\": [{\"aaxis\": {\"endlinecolor\": \"#2a3f5f\", \"gridcolor\": \"white\", \"linecolor\": \"white\", \"minorgridcolor\": \"white\", \"startlinecolor\": \"#2a3f5f\"}, \"baxis\": {\"endlinecolor\": \"#2a3f5f\", \"gridcolor\": \"white\", \"linecolor\": \"white\", \"minorgridcolor\": \"white\", \"startlinecolor\": \"#2a3f5f\"}, \"type\": \"carpet\"}], \"choropleth\": [{\"colorbar\": {\"outlinewidth\": 0, \"ticks\": \"\"}, \"type\": \"choropleth\"}], \"contour\": [{\"colorbar\": {\"outlinewidth\": 0, \"ticks\": \"\"}, \"colorscale\": [[0.0, \"#0d0887\"], [0.1111111111111111, \"#46039f\"], [0.2222222222222222, \"#7201a8\"], [0.3333333333333333, \"#9c179e\"], [0.4444444444444444, \"#bd3786\"], [0.5555555555555556, \"#d8576b\"], [0.6666666666666666, \"#ed7953\"], [0.7777777777777778, \"#fb9f3a\"], [0.8888888888888888, \"#fdca26\"], [1.0, \"#f0f921\"]], \"type\": \"contour\"}], \"contourcarpet\": [{\"colorbar\": {\"outlinewidth\": 0, \"ticks\": \"\"}, \"type\": \"contourcarpet\"}], \"heatmap\": [{\"colorbar\": {\"outlinewidth\": 0, \"ticks\": \"\"}, \"colorscale\": [[0.0, \"#0d0887\"], [0.1111111111111111, \"#46039f\"], [0.2222222222222222, \"#7201a8\"], [0.3333333333333333, \"#9c179e\"], [0.4444444444444444, \"#bd3786\"], [0.5555555555555556, \"#d8576b\"], [0.6666666666666666, \"#ed7953\"], [0.7777777777777778, \"#fb9f3a\"], [0.8888888888888888, \"#fdca26\"], [1.0, \"#f0f921\"]], \"type\": \"heatmap\"}], \"heatmapgl\": [{\"colorbar\": {\"outlinewidth\": 0, \"ticks\": \"\"}, \"colorscale\": [[0.0, \"#0d0887\"], [0.1111111111111111, \"#46039f\"], [0.2222222222222222, \"#7201a8\"], [0.3333333333333333, \"#9c179e\"], [0.4444444444444444, \"#bd3786\"], [0.5555555555555556, \"#d8576b\"], [0.6666666666666666, \"#ed7953\"], [0.7777777777777778, \"#fb9f3a\"], [0.8888888888888888, \"#fdca26\"], [1.0, \"#f0f921\"]], \"type\": \"heatmapgl\"}], \"histogram\": [{\"marker\": {\"colorbar\": {\"outlinewidth\": 0, \"ticks\": \"\"}}, \"type\": \"histogram\"}], \"histogram2d\": [{\"colorbar\": {\"outlinewidth\": 0, \"ticks\": \"\"}, \"colorscale\": [[0.0, \"#0d0887\"], [0.1111111111111111, \"#46039f\"], [0.2222222222222222, \"#7201a8\"], [0.3333333333333333, \"#9c179e\"], [0.4444444444444444, \"#bd3786\"], [0.5555555555555556, \"#d8576b\"], [0.6666666666666666, \"#ed7953\"], [0.7777777777777778, \"#fb9f3a\"], [0.8888888888888888, \"#fdca26\"], [1.0, \"#f0f921\"]], \"type\": \"histogram2d\"}], \"histogram2dcontour\": [{\"colorbar\": {\"outlinewidth\": 0, \"ticks\": \"\"}, \"colorscale\": [[0.0, \"#0d0887\"], [0.1111111111111111, \"#46039f\"], [0.2222222222222222, \"#7201a8\"], [0.3333333333333333, \"#9c179e\"], [0.4444444444444444, \"#bd3786\"], [0.5555555555555556, \"#d8576b\"], [0.6666666666666666, \"#ed7953\"], [0.7777777777777778, \"#fb9f3a\"], [0.8888888888888888, \"#fdca26\"], [1.0, \"#f0f921\"]], \"type\": \"histogram2dcontour\"}], \"mesh3d\": [{\"colorbar\": {\"outlinewidth\": 0, \"ticks\": \"\"}, \"type\": \"mesh3d\"}], \"parcoords\": [{\"line\": {\"colorbar\": {\"outlinewidth\": 0, \"ticks\": \"\"}}, \"type\": \"parcoords\"}], \"pie\": [{\"automargin\": true, \"type\": \"pie\"}], \"scatter\": [{\"marker\": {\"colorbar\": {\"outlinewidth\": 0, \"ticks\": \"\"}}, \"type\": \"scatter\"}], \"scatter3d\": [{\"line\": {\"colorbar\": {\"outlinewidth\": 0, \"ticks\": \"\"}}, \"marker\": {\"colorbar\": {\"outlinewidth\": 0, \"ticks\": \"\"}}, \"type\": \"scatter3d\"}], \"scattercarpet\": [{\"marker\": {\"colorbar\": {\"outlinewidth\": 0, \"ticks\": \"\"}}, \"type\": \"scattercarpet\"}], \"scattergeo\": [{\"marker\": {\"colorbar\": {\"outlinewidth\": 0, \"ticks\": \"\"}}, \"type\": \"scattergeo\"}], \"scattergl\": [{\"marker\": {\"colorbar\": {\"outlinewidth\": 0, \"ticks\": \"\"}}, \"type\": \"scattergl\"}], \"scattermapbox\": [{\"marker\": {\"colorbar\": {\"outlinewidth\": 0, \"ticks\": \"\"}}, \"type\": \"scattermapbox\"}], \"scatterpolar\": [{\"marker\": {\"colorbar\": {\"outlinewidth\": 0, \"ticks\": \"\"}}, \"type\": \"scatterpolar\"}], \"scatterpolargl\": [{\"marker\": {\"colorbar\": {\"outlinewidth\": 0, \"ticks\": \"\"}}, \"type\": \"scatterpolargl\"}], \"scatterternary\": [{\"marker\": {\"colorbar\": {\"outlinewidth\": 0, \"ticks\": \"\"}}, \"type\": \"scatterternary\"}], \"surface\": [{\"colorbar\": {\"outlinewidth\": 0, \"ticks\": \"\"}, \"colorscale\": [[0.0, \"#0d0887\"], [0.1111111111111111, \"#46039f\"], [0.2222222222222222, \"#7201a8\"], [0.3333333333333333, \"#9c179e\"], [0.4444444444444444, \"#bd3786\"], [0.5555555555555556, \"#d8576b\"], [0.6666666666666666, \"#ed7953\"], [0.7777777777777778, \"#fb9f3a\"], [0.8888888888888888, \"#fdca26\"], [1.0, \"#f0f921\"]], \"type\": \"surface\"}], \"table\": [{\"cells\": {\"fill\": {\"color\": \"#EBF0F8\"}, \"line\": {\"color\": \"white\"}}, \"header\": {\"fill\": {\"color\": \"#C8D4E3\"}, \"line\": {\"color\": \"white\"}}, \"type\": \"table\"}]}, \"layout\": {\"annotationdefaults\": {\"arrowcolor\": \"#2a3f5f\", \"arrowhead\": 0, \"arrowwidth\": 1}, \"coloraxis\": {\"colorbar\": {\"outlinewidth\": 0, \"ticks\": \"\"}}, \"colorscale\": {\"diverging\": [[0, \"#8e0152\"], [0.1, \"#c51b7d\"], [0.2, \"#de77ae\"], [0.3, \"#f1b6da\"], [0.4, \"#fde0ef\"], [0.5, \"#f7f7f7\"], [0.6, \"#e6f5d0\"], [0.7, \"#b8e186\"], [0.8, \"#7fbc41\"], [0.9, \"#4d9221\"], [1, \"#276419\"]], \"sequential\": [[0.0, \"#0d0887\"], [0.1111111111111111, \"#46039f\"], [0.2222222222222222, \"#7201a8\"], [0.3333333333333333, \"#9c179e\"], [0.4444444444444444, \"#bd3786\"], [0.5555555555555556, \"#d8576b\"], [0.6666666666666666, \"#ed7953\"], [0.7777777777777778, \"#fb9f3a\"], [0.8888888888888888, \"#fdca26\"], [1.0, \"#f0f921\"]], \"sequentialminus\": [[0.0, \"#0d0887\"], [0.1111111111111111, \"#46039f\"], [0.2222222222222222, \"#7201a8\"], [0.3333333333333333, \"#9c179e\"], [0.4444444444444444, \"#bd3786\"], [0.5555555555555556, \"#d8576b\"], [0.6666666666666666, \"#ed7953\"], [0.7777777777777778, \"#fb9f3a\"], [0.8888888888888888, \"#fdca26\"], [1.0, \"#f0f921\"]]}, \"colorway\": [\"#636efa\", \"#EF553B\", \"#00cc96\", \"#ab63fa\", \"#FFA15A\", \"#19d3f3\", \"#FF6692\", \"#B6E880\", \"#FF97FF\", \"#FECB52\"], \"font\": {\"color\": \"#2a3f5f\"}, \"geo\": {\"bgcolor\": \"white\", \"lakecolor\": \"white\", \"landcolor\": \"#E5ECF6\", \"showlakes\": true, \"showland\": true, \"subunitcolor\": \"white\"}, \"hoverlabel\": {\"align\": \"left\"}, \"hovermode\": \"closest\", \"mapbox\": {\"style\": \"light\"}, \"paper_bgcolor\": \"white\", \"plot_bgcolor\": \"#E5ECF6\", \"polar\": {\"angularaxis\": {\"gridcolor\": \"white\", \"linecolor\": \"white\", \"ticks\": \"\"}, \"bgcolor\": \"#E5ECF6\", \"radialaxis\": {\"gridcolor\": \"white\", \"linecolor\": \"white\", \"ticks\": \"\"}}, \"scene\": {\"xaxis\": {\"backgroundcolor\": \"#E5ECF6\", \"gridcolor\": \"white\", \"gridwidth\": 2, \"linecolor\": \"white\", \"showbackground\": true, \"ticks\": \"\", \"zerolinecolor\": \"white\"}, \"yaxis\": {\"backgroundcolor\": \"#E5ECF6\", \"gridcolor\": \"white\", \"gridwidth\": 2, \"linecolor\": \"white\", \"showbackground\": true, \"ticks\": \"\", \"zerolinecolor\": \"white\"}, \"zaxis\": {\"backgroundcolor\": \"#E5ECF6\", \"gridcolor\": \"white\", \"gridwidth\": 2, \"linecolor\": \"white\", \"showbackground\": true, \"ticks\": \"\", \"zerolinecolor\": \"white\"}}, \"shapedefaults\": {\"line\": {\"color\": \"#2a3f5f\"}}, \"ternary\": {\"aaxis\": {\"gridcolor\": \"white\", \"linecolor\": \"white\", \"ticks\": \"\"}, \"baxis\": {\"gridcolor\": \"white\", \"linecolor\": \"white\", \"ticks\": \"\"}, \"bgcolor\": \"#E5ECF6\", \"caxis\": {\"gridcolor\": \"white\", \"linecolor\": \"white\", \"ticks\": \"\"}}, \"title\": {\"x\": 0.05}, \"xaxis\": {\"automargin\": true, \"gridcolor\": \"white\", \"linecolor\": \"white\", \"ticks\": \"\", \"title\": {\"standoff\": 15}, \"zerolinecolor\": \"white\", \"zerolinewidth\": 2}, \"yaxis\": {\"automargin\": true, \"gridcolor\": \"white\", \"linecolor\": \"white\", \"ticks\": \"\", \"title\": {\"standoff\": 15}, \"zerolinecolor\": \"white\", \"zerolinewidth\": 2}}}, \"title\": {\"text\": \"Forecasting of Deaths in MARAJ\\u00d3 II for Next 30 Days\"}},\n",
              "                        {\"responsive\": true}\n",
              "                    ).then(function(){\n",
              "                            \n",
              "var gd = document.getElementById('27e45112-cd83-4505-9dc5-848f40ac69d5');\n",
              "var x = new MutationObserver(function (mutations, observer) {{\n",
              "        var display = window.getComputedStyle(gd).display;\n",
              "        if (!display || display === 'none') {{\n",
              "            console.log([gd, 'removed!']);\n",
              "            Plotly.purge(gd);\n",
              "            observer.disconnect();\n",
              "        }}\n",
              "}});\n",
              "\n",
              "// Listen for the removal of the full notebook cells\n",
              "var notebookContainer = gd.closest('#notebook-container');\n",
              "if (notebookContainer) {{\n",
              "    x.observe(notebookContainer, {childList: true});\n",
              "}}\n",
              "\n",
              "// Listen for the clearing of the current output cell\n",
              "var outputEl = gd.closest('.output');\n",
              "if (outputEl) {{\n",
              "    x.observe(outputEl, {childList: true});\n",
              "}}\n",
              "\n",
              "                        })\n",
              "                };\n",
              "                \n",
              "            </script>\n",
              "        </div>\n",
              "</body>\n",
              "</html>"
            ]
          },
          "metadata": {
            "tags": []
          }
        }
      ]
    },
    {
      "cell_type": "markdown",
      "metadata": {
        "id": "Gvgr8KymRwTa",
        "colab_type": "text"
      },
      "source": [
        "### CASO METROPOLITANA I"
      ]
    },
    {
      "cell_type": "code",
      "metadata": {
        "id": "5VxOR7KfRwTa",
        "colab_type": "code",
        "colab": {
          "base_uri": "https://localhost:8080/",
          "height": 160
        },
        "outputId": "fb9bec18-407c-4c13-9903-a2844a61b63a"
      },
      "source": [
        "df_PA = df_brasil[df_brasil['state'] == 'PA']\n",
        "df_PA.head(2)"
      ],
      "execution_count": 9,
      "outputs": [
        {
          "output_type": "execute_result",
          "data": {
            "text/html": [
              "<div>\n",
              "<style scoped>\n",
              "    .dataframe tbody tr th:only-of-type {\n",
              "        vertical-align: middle;\n",
              "    }\n",
              "\n",
              "    .dataframe tbody tr th {\n",
              "        vertical-align: top;\n",
              "    }\n",
              "\n",
              "    .dataframe thead th {\n",
              "        text-align: right;\n",
              "    }\n",
              "</style>\n",
              "<table border=\"1\" class=\"dataframe\">\n",
              "  <thead>\n",
              "    <tr style=\"text-align: right;\">\n",
              "      <th></th>\n",
              "      <th>epi_week</th>\n",
              "      <th>date</th>\n",
              "      <th>country</th>\n",
              "      <th>state</th>\n",
              "      <th>city</th>\n",
              "      <th>ibgeID</th>\n",
              "      <th>cod_RegiaoDeSaude</th>\n",
              "      <th>name_RegiaoDeSaude</th>\n",
              "      <th>newDeaths</th>\n",
              "      <th>deaths</th>\n",
              "      <th>newCases</th>\n",
              "      <th>totalCases</th>\n",
              "      <th>deaths_per_100k_inhabitants</th>\n",
              "      <th>totalCases_per_100k_inhabitants</th>\n",
              "      <th>deaths_by_totalCases</th>\n",
              "      <th>_source</th>\n",
              "    </tr>\n",
              "  </thead>\n",
              "  <tbody>\n",
              "    <tr>\n",
              "      <th>323</th>\n",
              "      <td>12</td>\n",
              "      <td>2020-03-18</td>\n",
              "      <td>Brazil</td>\n",
              "      <td>PA</td>\n",
              "      <td>Belém/PA</td>\n",
              "      <td>1501402</td>\n",
              "      <td>15006.0</td>\n",
              "      <td>Metropolitana I</td>\n",
              "      <td>0</td>\n",
              "      <td>0</td>\n",
              "      <td>1</td>\n",
              "      <td>1</td>\n",
              "      <td>0.0</td>\n",
              "      <td>0.06699</td>\n",
              "      <td>0.0</td>\n",
              "      <td>SES</td>\n",
              "    </tr>\n",
              "    <tr>\n",
              "      <th>401</th>\n",
              "      <td>12</td>\n",
              "      <td>2020-03-19</td>\n",
              "      <td>Brazil</td>\n",
              "      <td>PA</td>\n",
              "      <td>Belém/PA</td>\n",
              "      <td>1501402</td>\n",
              "      <td>15006.0</td>\n",
              "      <td>Metropolitana I</td>\n",
              "      <td>0</td>\n",
              "      <td>0</td>\n",
              "      <td>0</td>\n",
              "      <td>1</td>\n",
              "      <td>0.0</td>\n",
              "      <td>0.06699</td>\n",
              "      <td>0.0</td>\n",
              "      <td>SES</td>\n",
              "    </tr>\n",
              "  </tbody>\n",
              "</table>\n",
              "</div>"
            ],
            "text/plain": [
              "     epi_week        date country state      city   ibgeID  cod_RegiaoDeSaude  \\\n",
              "323        12  2020-03-18  Brazil    PA  Belém/PA  1501402            15006.0   \n",
              "401        12  2020-03-19  Brazil    PA  Belém/PA  1501402            15006.0   \n",
              "\n",
              "    name_RegiaoDeSaude  newDeaths  deaths  newCases  totalCases  \\\n",
              "323    Metropolitana I          0       0         1           1   \n",
              "401    Metropolitana I          0       0         0           1   \n",
              "\n",
              "     deaths_per_100k_inhabitants  totalCases_per_100k_inhabitants  \\\n",
              "323                          0.0                          0.06699   \n",
              "401                          0.0                          0.06699   \n",
              "\n",
              "     deaths_by_totalCases _source  \n",
              "323                   0.0     SES  \n",
              "401                   0.0     SES  "
            ]
          },
          "metadata": {
            "tags": []
          },
          "execution_count": 9
        }
      ]
    },
    {
      "cell_type": "code",
      "metadata": {
        "id": "KIvdLNmLRwTc",
        "colab_type": "code",
        "colab": {
          "base_uri": "https://localhost:8080/",
          "height": 160
        },
        "outputId": "ce8e6f65-4279-4f25-ee18-a4b4cbe47224"
      },
      "source": [
        "df_metropolitana1_PA = df_PA[df_PA['name_RegiaoDeSaude'] == 'Metropolitana I']\n",
        "df_metropolitana1_PA .head(2)"
      ],
      "execution_count": 10,
      "outputs": [
        {
          "output_type": "execute_result",
          "data": {
            "text/html": [
              "<div>\n",
              "<style scoped>\n",
              "    .dataframe tbody tr th:only-of-type {\n",
              "        vertical-align: middle;\n",
              "    }\n",
              "\n",
              "    .dataframe tbody tr th {\n",
              "        vertical-align: top;\n",
              "    }\n",
              "\n",
              "    .dataframe thead th {\n",
              "        text-align: right;\n",
              "    }\n",
              "</style>\n",
              "<table border=\"1\" class=\"dataframe\">\n",
              "  <thead>\n",
              "    <tr style=\"text-align: right;\">\n",
              "      <th></th>\n",
              "      <th>epi_week</th>\n",
              "      <th>date</th>\n",
              "      <th>country</th>\n",
              "      <th>state</th>\n",
              "      <th>city</th>\n",
              "      <th>ibgeID</th>\n",
              "      <th>cod_RegiaoDeSaude</th>\n",
              "      <th>name_RegiaoDeSaude</th>\n",
              "      <th>newDeaths</th>\n",
              "      <th>deaths</th>\n",
              "      <th>newCases</th>\n",
              "      <th>totalCases</th>\n",
              "      <th>deaths_per_100k_inhabitants</th>\n",
              "      <th>totalCases_per_100k_inhabitants</th>\n",
              "      <th>deaths_by_totalCases</th>\n",
              "      <th>_source</th>\n",
              "    </tr>\n",
              "  </thead>\n",
              "  <tbody>\n",
              "    <tr>\n",
              "      <th>323</th>\n",
              "      <td>12</td>\n",
              "      <td>2020-03-18</td>\n",
              "      <td>Brazil</td>\n",
              "      <td>PA</td>\n",
              "      <td>Belém/PA</td>\n",
              "      <td>1501402</td>\n",
              "      <td>15006.0</td>\n",
              "      <td>Metropolitana I</td>\n",
              "      <td>0</td>\n",
              "      <td>0</td>\n",
              "      <td>1</td>\n",
              "      <td>1</td>\n",
              "      <td>0.0</td>\n",
              "      <td>0.06699</td>\n",
              "      <td>0.0</td>\n",
              "      <td>SES</td>\n",
              "    </tr>\n",
              "    <tr>\n",
              "      <th>401</th>\n",
              "      <td>12</td>\n",
              "      <td>2020-03-19</td>\n",
              "      <td>Brazil</td>\n",
              "      <td>PA</td>\n",
              "      <td>Belém/PA</td>\n",
              "      <td>1501402</td>\n",
              "      <td>15006.0</td>\n",
              "      <td>Metropolitana I</td>\n",
              "      <td>0</td>\n",
              "      <td>0</td>\n",
              "      <td>0</td>\n",
              "      <td>1</td>\n",
              "      <td>0.0</td>\n",
              "      <td>0.06699</td>\n",
              "      <td>0.0</td>\n",
              "      <td>SES</td>\n",
              "    </tr>\n",
              "  </tbody>\n",
              "</table>\n",
              "</div>"
            ],
            "text/plain": [
              "     epi_week        date country state      city   ibgeID  cod_RegiaoDeSaude  \\\n",
              "323        12  2020-03-18  Brazil    PA  Belém/PA  1501402            15006.0   \n",
              "401        12  2020-03-19  Brazil    PA  Belém/PA  1501402            15006.0   \n",
              "\n",
              "    name_RegiaoDeSaude  newDeaths  deaths  newCases  totalCases  \\\n",
              "323    Metropolitana I          0       0         1           1   \n",
              "401    Metropolitana I          0       0         0           1   \n",
              "\n",
              "     deaths_per_100k_inhabitants  totalCases_per_100k_inhabitants  \\\n",
              "323                          0.0                          0.06699   \n",
              "401                          0.0                          0.06699   \n",
              "\n",
              "     deaths_by_totalCases _source  \n",
              "323                   0.0     SES  \n",
              "401                   0.0     SES  "
            ]
          },
          "metadata": {
            "tags": []
          },
          "execution_count": 10
        }
      ]
    },
    {
      "cell_type": "code",
      "metadata": {
        "id": "637g1ovYRwTf",
        "colab_type": "code",
        "colab": {
          "base_uri": "https://localhost:8080/",
          "height": 542
        },
        "outputId": "c592d940-592b-438f-8dd5-858f0d3f5673"
      },
      "source": [
        "#Pie chart visualization of states effected by caronavirus\n",
        "fig = px.pie(df_metropolitana1_PA, values='totalCases', names='city')\n",
        "fig.update_layout(\n",
        "    title='Pie chart visualization of city effected by caronavirus')\n",
        "fig.show()"
      ],
      "execution_count": 11,
      "outputs": [
        {
          "output_type": "display_data",
          "data": {
            "text/html": [
              "<html>\n",
              "<head><meta charset=\"utf-8\" /></head>\n",
              "<body>\n",
              "    <div>\n",
              "            <script src=\"https://cdnjs.cloudflare.com/ajax/libs/mathjax/2.7.5/MathJax.js?config=TeX-AMS-MML_SVG\"></script><script type=\"text/javascript\">if (window.MathJax) {MathJax.Hub.Config({SVG: {font: \"STIX-Web\"}});}</script>\n",
              "                <script type=\"text/javascript\">window.PlotlyConfig = {MathJaxConfig: 'local'};</script>\n",
              "        <script src=\"https://cdn.plot.ly/plotly-latest.min.js\"></script>    \n",
              "            <div id=\"beb42c8c-7052-4040-b2c9-dd4044e9515b\" class=\"plotly-graph-div\" style=\"height:525px; width:100%;\"></div>\n",
              "            <script type=\"text/javascript\">\n",
              "                \n",
              "                    window.PLOTLYENV=window.PLOTLYENV || {};\n",
              "                    \n",
              "                if (document.getElementById(\"beb42c8c-7052-4040-b2c9-dd4044e9515b\")) {\n",
              "                    Plotly.newPlot(\n",
              "                        'beb42c8c-7052-4040-b2c9-dd4044e9515b',\n",
              "                        [{\"domain\": {\"x\": [0.0, 1.0], \"y\": [0.0, 1.0]}, \"hoverlabel\": {\"namelength\": 0}, \"hovertemplate\": \"city=%{label}<br>totalCases=%{value}\", \"labels\": [\"Bel\\u00e9m/PA\", \"Bel\\u00e9m/PA\", \"Bel\\u00e9m/PA\", \"Bel\\u00e9m/PA\", \"Bel\\u00e9m/PA\", \"Bel\\u00e9m/PA\", \"Bel\\u00e9m/PA\", \"Ananindeua/PA\", \"Bel\\u00e9m/PA\", \"Ananindeua/PA\", \"Bel\\u00e9m/PA\", \"Ananindeua/PA\", \"Bel\\u00e9m/PA\", \"Ananindeua/PA\", \"Bel\\u00e9m/PA\", \"Ananindeua/PA\", \"Bel\\u00e9m/PA\", \"Ananindeua/PA\", \"Bel\\u00e9m/PA\", \"Ananindeua/PA\", \"Bel\\u00e9m/PA\", \"Marituba/PA\", \"Ananindeua/PA\", \"Bel\\u00e9m/PA\", \"Marituba/PA\", \"Ananindeua/PA\", \"Bel\\u00e9m/PA\", \"Marituba/PA\", \"Ananindeua/PA\", \"Bel\\u00e9m/PA\", \"Benevides/PA\", \"Marituba/PA\", \"Ananindeua/PA\", \"Bel\\u00e9m/PA\", \"Benevides/PA\", \"Marituba/PA\", \"Ananindeua/PA\", \"Bel\\u00e9m/PA\", \"Benevides/PA\", \"Marituba/PA\", \"Ananindeua/PA\", \"Bel\\u00e9m/PA\", \"Benevides/PA\", \"Marituba/PA\", \"Ananindeua/PA\", \"Bel\\u00e9m/PA\", \"Benevides/PA\", \"Marituba/PA\", \"Ananindeua/PA\", \"Bel\\u00e9m/PA\", \"Benevides/PA\", \"Marituba/PA\", \"Ananindeua/PA\", \"Bel\\u00e9m/PA\", \"Benevides/PA\", \"Marituba/PA\", \"Ananindeua/PA\", \"Bel\\u00e9m/PA\", \"Benevides/PA\", \"Marituba/PA\", \"Ananindeua/PA\", \"Bel\\u00e9m/PA\", \"Benevides/PA\", \"Marituba/PA\", \"Ananindeua/PA\", \"Bel\\u00e9m/PA\", \"Benevides/PA\", \"Marituba/PA\", \"Ananindeua/PA\", \"Bel\\u00e9m/PA\", \"Benevides/PA\", \"Marituba/PA\", \"Ananindeua/PA\", \"Bel\\u00e9m/PA\", \"Benevides/PA\", \"Marituba/PA\", \"Santa B\\u00e1rbara do Par\\u00e1/PA\", \"Ananindeua/PA\", \"Bel\\u00e9m/PA\", \"Benevides/PA\", \"Marituba/PA\", \"Santa B\\u00e1rbara do Par\\u00e1/PA\", \"Ananindeua/PA\", \"Bel\\u00e9m/PA\", \"Benevides/PA\", \"Marituba/PA\", \"Santa B\\u00e1rbara do Par\\u00e1/PA\", \"Ananindeua/PA\", \"Bel\\u00e9m/PA\", \"Benevides/PA\", \"Marituba/PA\", \"Santa B\\u00e1rbara do Par\\u00e1/PA\", \"Ananindeua/PA\", \"Bel\\u00e9m/PA\", \"Benevides/PA\", \"Marituba/PA\", \"Santa B\\u00e1rbara do Par\\u00e1/PA\", \"Ananindeua/PA\", \"Bel\\u00e9m/PA\", \"Benevides/PA\", \"Marituba/PA\", \"Santa B\\u00e1rbara do Par\\u00e1/PA\", \"Ananindeua/PA\", \"Bel\\u00e9m/PA\", \"Benevides/PA\", \"Marituba/PA\", \"Santa B\\u00e1rbara do Par\\u00e1/PA\", \"Ananindeua/PA\", \"Bel\\u00e9m/PA\", \"Benevides/PA\", \"Marituba/PA\", \"Santa B\\u00e1rbara do Par\\u00e1/PA\", \"Ananindeua/PA\", \"Bel\\u00e9m/PA\", \"Benevides/PA\", \"Marituba/PA\", \"Santa B\\u00e1rbara do Par\\u00e1/PA\", \"Ananindeua/PA\", \"Bel\\u00e9m/PA\", \"Benevides/PA\", \"Marituba/PA\", \"Santa B\\u00e1rbara do Par\\u00e1/PA\", \"Ananindeua/PA\", \"Bel\\u00e9m/PA\", \"Benevides/PA\", \"Marituba/PA\", \"Santa B\\u00e1rbara do Par\\u00e1/PA\", \"Ananindeua/PA\", \"Bel\\u00e9m/PA\", \"Benevides/PA\", \"Marituba/PA\", \"Santa B\\u00e1rbara do Par\\u00e1/PA\", \"Ananindeua/PA\", \"Bel\\u00e9m/PA\", \"Benevides/PA\", \"Marituba/PA\", \"Santa B\\u00e1rbara do Par\\u00e1/PA\", \"Ananindeua/PA\", \"Bel\\u00e9m/PA\", \"Benevides/PA\", \"Marituba/PA\", \"Santa B\\u00e1rbara do Par\\u00e1/PA\", \"Ananindeua/PA\", \"Bel\\u00e9m/PA\", \"Benevides/PA\", \"Marituba/PA\", \"Santa B\\u00e1rbara do Par\\u00e1/PA\", \"Ananindeua/PA\", \"Bel\\u00e9m/PA\", \"Benevides/PA\", \"Marituba/PA\", \"Santa B\\u00e1rbara do Par\\u00e1/PA\", \"Ananindeua/PA\", \"Bel\\u00e9m/PA\", \"Benevides/PA\", \"Marituba/PA\", \"Santa B\\u00e1rbara do Par\\u00e1/PA\", \"Ananindeua/PA\", \"Bel\\u00e9m/PA\", \"Benevides/PA\", \"Marituba/PA\", \"Santa B\\u00e1rbara do Par\\u00e1/PA\", \"Ananindeua/PA\", \"Bel\\u00e9m/PA\", \"Benevides/PA\", \"Marituba/PA\", \"Santa B\\u00e1rbara do Par\\u00e1/PA\", \"Ananindeua/PA\", \"Bel\\u00e9m/PA\", \"Benevides/PA\", \"Marituba/PA\", \"Santa B\\u00e1rbara do Par\\u00e1/PA\", \"Ananindeua/PA\", \"Bel\\u00e9m/PA\", \"Benevides/PA\", \"Marituba/PA\", \"Santa B\\u00e1rbara do Par\\u00e1/PA\", \"Ananindeua/PA\", \"Bel\\u00e9m/PA\", \"Benevides/PA\", \"Marituba/PA\", \"Santa B\\u00e1rbara do Par\\u00e1/PA\", \"Ananindeua/PA\", \"Bel\\u00e9m/PA\", \"Benevides/PA\", \"Marituba/PA\", \"Santa B\\u00e1rbara do Par\\u00e1/PA\", \"Ananindeua/PA\", \"Bel\\u00e9m/PA\", \"Benevides/PA\", \"Marituba/PA\", \"Santa B\\u00e1rbara do Par\\u00e1/PA\", \"Ananindeua/PA\", \"Bel\\u00e9m/PA\", \"Benevides/PA\", \"Marituba/PA\", \"Santa B\\u00e1rbara do Par\\u00e1/PA\", \"Ananindeua/PA\", \"Bel\\u00e9m/PA\", \"Benevides/PA\", \"Marituba/PA\", \"Santa B\\u00e1rbara do Par\\u00e1/PA\", \"Ananindeua/PA\", \"Bel\\u00e9m/PA\", \"Benevides/PA\", \"Marituba/PA\", \"Santa B\\u00e1rbara do Par\\u00e1/PA\", \"Ananindeua/PA\", \"Bel\\u00e9m/PA\", \"Benevides/PA\", \"Marituba/PA\", \"Santa B\\u00e1rbara do Par\\u00e1/PA\", \"Ananindeua/PA\", \"Bel\\u00e9m/PA\", \"Benevides/PA\", \"Marituba/PA\", \"Santa B\\u00e1rbara do Par\\u00e1/PA\", \"Ananindeua/PA\", \"Bel\\u00e9m/PA\", \"Benevides/PA\", \"Marituba/PA\", \"Santa B\\u00e1rbara do Par\\u00e1/PA\", \"Ananindeua/PA\", \"Bel\\u00e9m/PA\", \"Benevides/PA\", \"Marituba/PA\", \"Santa B\\u00e1rbara do Par\\u00e1/PA\", \"Ananindeua/PA\", \"Bel\\u00e9m/PA\", \"Benevides/PA\", \"Marituba/PA\", \"Santa B\\u00e1rbara do Par\\u00e1/PA\", \"Ananindeua/PA\", \"Bel\\u00e9m/PA\", \"Benevides/PA\", \"Marituba/PA\", \"Santa B\\u00e1rbara do Par\\u00e1/PA\", \"Ananindeua/PA\", \"Bel\\u00e9m/PA\", \"Benevides/PA\", \"Marituba/PA\", \"Santa B\\u00e1rbara do Par\\u00e1/PA\", \"Ananindeua/PA\", \"Bel\\u00e9m/PA\", \"Benevides/PA\", \"Marituba/PA\", \"Santa B\\u00e1rbara do Par\\u00e1/PA\", \"Ananindeua/PA\", \"Bel\\u00e9m/PA\", \"Benevides/PA\", \"Marituba/PA\", \"Santa B\\u00e1rbara do Par\\u00e1/PA\", \"Ananindeua/PA\", \"Bel\\u00e9m/PA\", \"Benevides/PA\", \"Marituba/PA\", \"Santa B\\u00e1rbara do Par\\u00e1/PA\", \"Ananindeua/PA\", \"Bel\\u00e9m/PA\", \"Benevides/PA\", \"Marituba/PA\", \"Santa B\\u00e1rbara do Par\\u00e1/PA\", \"Ananindeua/PA\", \"Bel\\u00e9m/PA\", \"Benevides/PA\", \"Marituba/PA\", \"Santa B\\u00e1rbara do Par\\u00e1/PA\", \"Ananindeua/PA\", \"Bel\\u00e9m/PA\", \"Benevides/PA\", \"Marituba/PA\", \"Santa B\\u00e1rbara do Par\\u00e1/PA\", \"Ananindeua/PA\", \"Bel\\u00e9m/PA\", \"Benevides/PA\", \"Marituba/PA\", \"Santa B\\u00e1rbara do Par\\u00e1/PA\", \"Ananindeua/PA\", \"Bel\\u00e9m/PA\", \"Benevides/PA\", \"Marituba/PA\", \"Santa B\\u00e1rbara do Par\\u00e1/PA\", \"Ananindeua/PA\", \"Bel\\u00e9m/PA\", \"Benevides/PA\", \"Marituba/PA\", \"Santa B\\u00e1rbara do Par\\u00e1/PA\", \"Ananindeua/PA\", \"Bel\\u00e9m/PA\", \"Benevides/PA\", \"Marituba/PA\", \"Santa B\\u00e1rbara do Par\\u00e1/PA\", \"Ananindeua/PA\", \"Bel\\u00e9m/PA\", \"Benevides/PA\", \"Marituba/PA\", \"Santa B\\u00e1rbara do Par\\u00e1/PA\", \"Ananindeua/PA\", \"Bel\\u00e9m/PA\", \"Benevides/PA\", \"Marituba/PA\", \"Santa B\\u00e1rbara do Par\\u00e1/PA\", \"Ananindeua/PA\", \"Bel\\u00e9m/PA\", \"Benevides/PA\", \"Marituba/PA\", \"Santa B\\u00e1rbara do Par\\u00e1/PA\", \"Ananindeua/PA\", \"Bel\\u00e9m/PA\", \"Benevides/PA\", \"Marituba/PA\", \"Santa B\\u00e1rbara do Par\\u00e1/PA\", \"Ananindeua/PA\", \"Bel\\u00e9m/PA\", \"Benevides/PA\", \"Marituba/PA\", \"Santa B\\u00e1rbara do Par\\u00e1/PA\", \"Ananindeua/PA\", \"Bel\\u00e9m/PA\", \"Benevides/PA\", \"Marituba/PA\", \"Santa B\\u00e1rbara do Par\\u00e1/PA\", \"Ananindeua/PA\", \"Bel\\u00e9m/PA\", \"Benevides/PA\", \"Marituba/PA\", \"Santa B\\u00e1rbara do Par\\u00e1/PA\", \"Ananindeua/PA\", \"Bel\\u00e9m/PA\", \"Benevides/PA\", \"Marituba/PA\", \"Santa B\\u00e1rbara do Par\\u00e1/PA\", \"Ananindeua/PA\", \"Bel\\u00e9m/PA\", \"Benevides/PA\", \"Marituba/PA\", \"Santa B\\u00e1rbara do Par\\u00e1/PA\", \"Ananindeua/PA\", \"Bel\\u00e9m/PA\", \"Benevides/PA\", \"Marituba/PA\", \"Santa B\\u00e1rbara do Par\\u00e1/PA\", \"Ananindeua/PA\", \"Bel\\u00e9m/PA\", \"Benevides/PA\", \"Marituba/PA\", \"Santa B\\u00e1rbara do Par\\u00e1/PA\", \"Ananindeua/PA\", \"Bel\\u00e9m/PA\", \"Benevides/PA\", \"Marituba/PA\", \"Santa B\\u00e1rbara do Par\\u00e1/PA\", \"Ananindeua/PA\", \"Bel\\u00e9m/PA\", \"Benevides/PA\", \"Marituba/PA\", \"Santa B\\u00e1rbara do Par\\u00e1/PA\", \"Ananindeua/PA\", \"Bel\\u00e9m/PA\", \"Benevides/PA\", \"Marituba/PA\", \"Santa B\\u00e1rbara do Par\\u00e1/PA\", \"Ananindeua/PA\", \"Bel\\u00e9m/PA\", \"Benevides/PA\", \"Marituba/PA\", \"Santa B\\u00e1rbara do Par\\u00e1/PA\", \"Ananindeua/PA\", \"Bel\\u00e9m/PA\", \"Benevides/PA\", \"Marituba/PA\", \"Santa B\\u00e1rbara do Par\\u00e1/PA\", \"Ananindeua/PA\", \"Bel\\u00e9m/PA\", \"Benevides/PA\", \"Marituba/PA\", \"Santa B\\u00e1rbara do Par\\u00e1/PA\", \"Ananindeua/PA\", \"Bel\\u00e9m/PA\", \"Benevides/PA\", \"Marituba/PA\", \"Santa B\\u00e1rbara do Par\\u00e1/PA\", \"Ananindeua/PA\", \"Bel\\u00e9m/PA\", \"Benevides/PA\", \"Marituba/PA\", \"Santa B\\u00e1rbara do Par\\u00e1/PA\", \"Ananindeua/PA\", \"Bel\\u00e9m/PA\", \"Benevides/PA\", \"Marituba/PA\", \"Santa B\\u00e1rbara do Par\\u00e1/PA\", \"Ananindeua/PA\", \"Bel\\u00e9m/PA\", \"Benevides/PA\", \"Marituba/PA\", \"Santa B\\u00e1rbara do Par\\u00e1/PA\", \"Ananindeua/PA\", \"Bel\\u00e9m/PA\", \"Benevides/PA\", \"Marituba/PA\", \"Santa B\\u00e1rbara do Par\\u00e1/PA\", \"Ananindeua/PA\", \"Bel\\u00e9m/PA\", \"Benevides/PA\", \"Marituba/PA\", \"Santa B\\u00e1rbara do Par\\u00e1/PA\", \"Ananindeua/PA\", \"Bel\\u00e9m/PA\", \"Benevides/PA\", \"Marituba/PA\", \"Santa B\\u00e1rbara do Par\\u00e1/PA\", \"Ananindeua/PA\", \"Bel\\u00e9m/PA\", \"Benevides/PA\", \"Marituba/PA\", \"Santa B\\u00e1rbara do Par\\u00e1/PA\", \"Ananindeua/PA\", \"Bel\\u00e9m/PA\", \"Benevides/PA\", \"Marituba/PA\", \"Santa B\\u00e1rbara do Par\\u00e1/PA\", \"Ananindeua/PA\", \"Bel\\u00e9m/PA\", \"Benevides/PA\", \"Marituba/PA\", \"Santa B\\u00e1rbara do Par\\u00e1/PA\", \"Ananindeua/PA\", \"Bel\\u00e9m/PA\", \"Benevides/PA\", \"Marituba/PA\", \"Santa B\\u00e1rbara do Par\\u00e1/PA\", \"Ananindeua/PA\", \"Bel\\u00e9m/PA\", \"Benevides/PA\", \"Marituba/PA\", \"Santa B\\u00e1rbara do Par\\u00e1/PA\", \"Ananindeua/PA\", \"Bel\\u00e9m/PA\", \"Benevides/PA\", \"Marituba/PA\", \"Santa B\\u00e1rbara do Par\\u00e1/PA\", \"Ananindeua/PA\", \"Bel\\u00e9m/PA\", \"Benevides/PA\", \"Marituba/PA\", \"Santa B\\u00e1rbara do Par\\u00e1/PA\", \"Ananindeua/PA\", \"Bel\\u00e9m/PA\", \"Benevides/PA\", \"Marituba/PA\", \"Santa B\\u00e1rbara do Par\\u00e1/PA\", \"Ananindeua/PA\", \"Bel\\u00e9m/PA\", \"Benevides/PA\", \"Marituba/PA\", \"Santa B\\u00e1rbara do Par\\u00e1/PA\", \"Ananindeua/PA\", \"Bel\\u00e9m/PA\", \"Benevides/PA\", \"Marituba/PA\", \"Santa B\\u00e1rbara do Par\\u00e1/PA\", \"Ananindeua/PA\", \"Bel\\u00e9m/PA\", \"Benevides/PA\", \"Marituba/PA\", \"Santa B\\u00e1rbara do Par\\u00e1/PA\", \"Ananindeua/PA\", \"Bel\\u00e9m/PA\", \"Benevides/PA\", \"Marituba/PA\", \"Santa B\\u00e1rbara do Par\\u00e1/PA\", \"Ananindeua/PA\", \"Bel\\u00e9m/PA\", \"Benevides/PA\", \"Marituba/PA\", \"Santa B\\u00e1rbara do Par\\u00e1/PA\", \"Ananindeua/PA\", \"Bel\\u00e9m/PA\", \"Benevides/PA\", \"Marituba/PA\", \"Santa B\\u00e1rbara do Par\\u00e1/PA\", \"Ananindeua/PA\", \"Bel\\u00e9m/PA\", \"Benevides/PA\", \"Marituba/PA\", \"Santa B\\u00e1rbara do Par\\u00e1/PA\", \"Ananindeua/PA\", \"Bel\\u00e9m/PA\", \"Benevides/PA\", \"Marituba/PA\", \"Santa B\\u00e1rbara do Par\\u00e1/PA\", \"Ananindeua/PA\", \"Bel\\u00e9m/PA\", \"Benevides/PA\", \"Marituba/PA\", \"Santa B\\u00e1rbara do Par\\u00e1/PA\", \"Ananindeua/PA\", \"Bel\\u00e9m/PA\", \"Benevides/PA\", \"Marituba/PA\", \"Santa B\\u00e1rbara do Par\\u00e1/PA\", \"Ananindeua/PA\", \"Bel\\u00e9m/PA\", \"Benevides/PA\", \"Marituba/PA\", \"Santa B\\u00e1rbara do Par\\u00e1/PA\", \"Ananindeua/PA\", \"Bel\\u00e9m/PA\", \"Benevides/PA\", \"Marituba/PA\", \"Santa B\\u00e1rbara do Par\\u00e1/PA\"], \"legendgroup\": \"\", \"name\": \"\", \"showlegend\": true, \"type\": \"pie\", \"values\": [1, 1, 2, 2, 4, 4, 4, 2, 4, 4, 6, 4, 9, 4, 10, 4, 12, 5, 17, 6, 21, 1, 7, 25, 1, 9, 28, 1, 9, 42, 1, 1, 10, 45, 1, 2, 10, 49, 1, 2, 14, 75, 1, 2, 16, 100, 1, 3, 16, 111, 1, 3, 16, 114, 1, 3, 21, 147, 1, 3, 25, 161, 1, 3, 26, 180, 1, 3, 28, 218, 1, 5, 33, 272, 4, 6, 1, 45, 328, 6, 8, 2, 50, 389, 6, 10, 2, 67, 435, 6, 11, 2, 68, 446, 6, 11, 2, 74, 467, 6, 11, 2, 88, 610, 8, 17, 2, 111, 674, 8, 18, 4, 120, 776, 7, 19, 7, 125, 804, 9, 19, 7, 164, 981, 10, 23, 7, 172, 1095, 11, 25, 7, 216, 1243, 12, 32, 7, 237, 1301, 12, 34, 7, 240, 1344, 12, 36, 7, 260, 1487, 12, 40, 7, 306, 1658, 32, 45, 8, 384, 1792, 36, 48, 8, 403, 1980, 37, 50, 12, 410, 2022, 39, 51, 12, 431, 2192, 39, 51, 17, 486, 2433, 41, 53, 18, 566, 2898, 43, 56, 18, 609, 3074, 43, 57, 18, 666, 3282, 56, 64, 18, 705, 3441, 59, 73, 20, 723, 3512, 59, 78, 21, 761, 3745, 60, 84, 23, 865, 4138, 62, 96, 28, 969, 4612, 62, 106, 32, 1088, 5055, 64, 125, 50, 1174, 5591, 64, 143, 52, 1229, 5843, 68, 155, 56, 1298, 6178, 71, 168, 59, 1449, 6607, 76, 185, 60, 1449, 6607, 76, 185, 60, 1679, 7485, 84, 208, 63, 1823, 7954, 105, 259, 68, 1966, 8627, 198, 287, 108, 2131, 9227, 250, 301, 120, 2171, 9337, 331, 309, 124, 2282, 9867, 411, 327, 152, 2366, 10233, 514, 358, 164, 2461, 10614, 560, 376, 164, 2567, 11295, 665, 393, 167, 2624, 11509, 751, 409, 170, 2639, 11587, 783, 409, 170, 2641, 11591, 796, 409, 170, 2759, 11885, 858, 420, 171, 2880, 12688, 895, 446, 175, 2918, 13032, 904, 451, 182, 2987, 13339, 916, 455, 185, 3112, 14040, 954, 478, 188, 3112, 14040, 954, 478, 188, 3141, 14091, 955, 486, 188, 3250, 14506, 1034, 497, 189, 3320, 14880, 1083, 510, 191, 3411, 15251, 1094, 513, 197, 3416, 15313, 1101, 514, 197, 3468, 15524, 1167, 520, 197, 3549, 16033, 1171, 530, 198, 3552, 16055, 1178, 530, 198, 3598, 16255, 1178, 541, 198, 3665, 16477, 1186, 548, 203, 3703, 16701, 1190, 550, 203, 3769, 17082, 1190, 565, 209, 3816, 17339, 1196, 573, 209, 3862, 17499, 1200, 573, 211, 3877, 17581, 1203, 574, 211, 3955, 17834, 1237, 578, 215, 3983, 18110, 1243, 583, 220, 4019, 18387, 1250, 589, 220, 4053, 18619, 1253, 598, 220, 4085, 18751, 1272, 616, 220, 4106, 18908, 1273, 619, 220, 4129, 19133, 1273, 622, 220, 4261, 19364, 1275, 632, 223, 4288, 19498, 1279, 644, 225, 4375, 19621, 1292, 649, 228, 4435, 19967, 1295, 666, 230, 4521, 20257, 1297, 670, 230, 4605, 20639, 1298, 678, 230, 4612, 20724, 1299, 680, 231, 4659, 20982, 1302, 684, 231, 4688, 21236, 1309, 687, 231, 4739, 21373, 1321, 687, 231, 4749, 21507, 1334, 688, 237, 4749, 21507, 1334, 688, 237]}],\n",
              "                        {\"legend\": {\"tracegroupgap\": 0}, \"margin\": {\"t\": 60}, \"template\": {\"data\": {\"bar\": [{\"error_x\": {\"color\": \"#2a3f5f\"}, \"error_y\": {\"color\": \"#2a3f5f\"}, \"marker\": {\"line\": {\"color\": \"#E5ECF6\", \"width\": 0.5}}, \"type\": \"bar\"}], \"barpolar\": [{\"marker\": {\"line\": {\"color\": \"#E5ECF6\", \"width\": 0.5}}, \"type\": \"barpolar\"}], \"carpet\": [{\"aaxis\": {\"endlinecolor\": \"#2a3f5f\", \"gridcolor\": \"white\", \"linecolor\": \"white\", \"minorgridcolor\": \"white\", \"startlinecolor\": \"#2a3f5f\"}, \"baxis\": {\"endlinecolor\": \"#2a3f5f\", \"gridcolor\": \"white\", \"linecolor\": \"white\", \"minorgridcolor\": \"white\", \"startlinecolor\": \"#2a3f5f\"}, \"type\": \"carpet\"}], \"choropleth\": [{\"colorbar\": {\"outlinewidth\": 0, \"ticks\": \"\"}, \"type\": \"choropleth\"}], \"contour\": [{\"colorbar\": {\"outlinewidth\": 0, \"ticks\": \"\"}, \"colorscale\": [[0.0, \"#0d0887\"], [0.1111111111111111, \"#46039f\"], [0.2222222222222222, \"#7201a8\"], [0.3333333333333333, \"#9c179e\"], [0.4444444444444444, \"#bd3786\"], [0.5555555555555556, \"#d8576b\"], [0.6666666666666666, \"#ed7953\"], [0.7777777777777778, \"#fb9f3a\"], [0.8888888888888888, \"#fdca26\"], [1.0, \"#f0f921\"]], \"type\": \"contour\"}], \"contourcarpet\": [{\"colorbar\": {\"outlinewidth\": 0, \"ticks\": \"\"}, \"type\": \"contourcarpet\"}], \"heatmap\": [{\"colorbar\": {\"outlinewidth\": 0, \"ticks\": \"\"}, \"colorscale\": [[0.0, \"#0d0887\"], [0.1111111111111111, \"#46039f\"], [0.2222222222222222, \"#7201a8\"], [0.3333333333333333, \"#9c179e\"], [0.4444444444444444, \"#bd3786\"], [0.5555555555555556, \"#d8576b\"], [0.6666666666666666, \"#ed7953\"], [0.7777777777777778, \"#fb9f3a\"], [0.8888888888888888, \"#fdca26\"], [1.0, \"#f0f921\"]], \"type\": \"heatmap\"}], \"heatmapgl\": [{\"colorbar\": {\"outlinewidth\": 0, \"ticks\": \"\"}, \"colorscale\": [[0.0, \"#0d0887\"], [0.1111111111111111, \"#46039f\"], [0.2222222222222222, \"#7201a8\"], [0.3333333333333333, \"#9c179e\"], [0.4444444444444444, \"#bd3786\"], [0.5555555555555556, \"#d8576b\"], [0.6666666666666666, \"#ed7953\"], [0.7777777777777778, \"#fb9f3a\"], [0.8888888888888888, \"#fdca26\"], [1.0, \"#f0f921\"]], \"type\": \"heatmapgl\"}], \"histogram\": [{\"marker\": {\"colorbar\": {\"outlinewidth\": 0, \"ticks\": \"\"}}, \"type\": \"histogram\"}], \"histogram2d\": [{\"colorbar\": {\"outlinewidth\": 0, \"ticks\": \"\"}, \"colorscale\": [[0.0, \"#0d0887\"], [0.1111111111111111, \"#46039f\"], [0.2222222222222222, \"#7201a8\"], [0.3333333333333333, \"#9c179e\"], [0.4444444444444444, \"#bd3786\"], [0.5555555555555556, \"#d8576b\"], [0.6666666666666666, \"#ed7953\"], [0.7777777777777778, \"#fb9f3a\"], [0.8888888888888888, \"#fdca26\"], [1.0, \"#f0f921\"]], \"type\": \"histogram2d\"}], \"histogram2dcontour\": [{\"colorbar\": {\"outlinewidth\": 0, \"ticks\": \"\"}, \"colorscale\": [[0.0, \"#0d0887\"], [0.1111111111111111, \"#46039f\"], [0.2222222222222222, \"#7201a8\"], [0.3333333333333333, \"#9c179e\"], [0.4444444444444444, \"#bd3786\"], [0.5555555555555556, \"#d8576b\"], [0.6666666666666666, \"#ed7953\"], [0.7777777777777778, \"#fb9f3a\"], [0.8888888888888888, \"#fdca26\"], [1.0, \"#f0f921\"]], \"type\": \"histogram2dcontour\"}], \"mesh3d\": [{\"colorbar\": {\"outlinewidth\": 0, \"ticks\": \"\"}, \"type\": \"mesh3d\"}], \"parcoords\": [{\"line\": {\"colorbar\": {\"outlinewidth\": 0, \"ticks\": \"\"}}, \"type\": \"parcoords\"}], \"pie\": [{\"automargin\": true, \"type\": \"pie\"}], \"scatter\": [{\"marker\": {\"colorbar\": {\"outlinewidth\": 0, \"ticks\": \"\"}}, \"type\": \"scatter\"}], \"scatter3d\": [{\"line\": {\"colorbar\": {\"outlinewidth\": 0, \"ticks\": \"\"}}, \"marker\": {\"colorbar\": {\"outlinewidth\": 0, \"ticks\": \"\"}}, \"type\": \"scatter3d\"}], \"scattercarpet\": [{\"marker\": {\"colorbar\": {\"outlinewidth\": 0, \"ticks\": \"\"}}, \"type\": \"scattercarpet\"}], \"scattergeo\": [{\"marker\": {\"colorbar\": {\"outlinewidth\": 0, \"ticks\": \"\"}}, \"type\": \"scattergeo\"}], \"scattergl\": [{\"marker\": {\"colorbar\": {\"outlinewidth\": 0, \"ticks\": \"\"}}, \"type\": \"scattergl\"}], \"scattermapbox\": [{\"marker\": {\"colorbar\": {\"outlinewidth\": 0, \"ticks\": \"\"}}, \"type\": \"scattermapbox\"}], \"scatterpolar\": [{\"marker\": {\"colorbar\": {\"outlinewidth\": 0, \"ticks\": \"\"}}, \"type\": \"scatterpolar\"}], \"scatterpolargl\": [{\"marker\": {\"colorbar\": {\"outlinewidth\": 0, \"ticks\": \"\"}}, \"type\": \"scatterpolargl\"}], \"scatterternary\": [{\"marker\": {\"colorbar\": {\"outlinewidth\": 0, \"ticks\": \"\"}}, \"type\": \"scatterternary\"}], \"surface\": [{\"colorbar\": {\"outlinewidth\": 0, \"ticks\": \"\"}, \"colorscale\": [[0.0, \"#0d0887\"], [0.1111111111111111, \"#46039f\"], [0.2222222222222222, \"#7201a8\"], [0.3333333333333333, \"#9c179e\"], [0.4444444444444444, \"#bd3786\"], [0.5555555555555556, \"#d8576b\"], [0.6666666666666666, \"#ed7953\"], [0.7777777777777778, \"#fb9f3a\"], [0.8888888888888888, \"#fdca26\"], [1.0, \"#f0f921\"]], \"type\": \"surface\"}], \"table\": [{\"cells\": {\"fill\": {\"color\": \"#EBF0F8\"}, \"line\": {\"color\": \"white\"}}, \"header\": {\"fill\": {\"color\": \"#C8D4E3\"}, \"line\": {\"color\": \"white\"}}, \"type\": \"table\"}]}, \"layout\": {\"annotationdefaults\": {\"arrowcolor\": \"#2a3f5f\", \"arrowhead\": 0, \"arrowwidth\": 1}, \"coloraxis\": {\"colorbar\": {\"outlinewidth\": 0, \"ticks\": \"\"}}, \"colorscale\": {\"diverging\": [[0, \"#8e0152\"], [0.1, \"#c51b7d\"], [0.2, \"#de77ae\"], [0.3, \"#f1b6da\"], [0.4, \"#fde0ef\"], [0.5, \"#f7f7f7\"], [0.6, \"#e6f5d0\"], [0.7, \"#b8e186\"], [0.8, \"#7fbc41\"], [0.9, \"#4d9221\"], [1, \"#276419\"]], \"sequential\": [[0.0, \"#0d0887\"], [0.1111111111111111, \"#46039f\"], [0.2222222222222222, \"#7201a8\"], [0.3333333333333333, \"#9c179e\"], [0.4444444444444444, \"#bd3786\"], [0.5555555555555556, \"#d8576b\"], [0.6666666666666666, \"#ed7953\"], [0.7777777777777778, \"#fb9f3a\"], [0.8888888888888888, \"#fdca26\"], [1.0, \"#f0f921\"]], \"sequentialminus\": [[0.0, \"#0d0887\"], [0.1111111111111111, \"#46039f\"], [0.2222222222222222, \"#7201a8\"], [0.3333333333333333, \"#9c179e\"], [0.4444444444444444, \"#bd3786\"], [0.5555555555555556, \"#d8576b\"], [0.6666666666666666, \"#ed7953\"], [0.7777777777777778, \"#fb9f3a\"], [0.8888888888888888, \"#fdca26\"], [1.0, \"#f0f921\"]]}, \"colorway\": [\"#636efa\", \"#EF553B\", \"#00cc96\", \"#ab63fa\", \"#FFA15A\", \"#19d3f3\", \"#FF6692\", \"#B6E880\", \"#FF97FF\", \"#FECB52\"], \"font\": {\"color\": \"#2a3f5f\"}, \"geo\": {\"bgcolor\": \"white\", \"lakecolor\": \"white\", \"landcolor\": \"#E5ECF6\", \"showlakes\": true, \"showland\": true, \"subunitcolor\": \"white\"}, \"hoverlabel\": {\"align\": \"left\"}, \"hovermode\": \"closest\", \"mapbox\": {\"style\": \"light\"}, \"paper_bgcolor\": \"white\", \"plot_bgcolor\": \"#E5ECF6\", \"polar\": {\"angularaxis\": {\"gridcolor\": \"white\", \"linecolor\": \"white\", \"ticks\": \"\"}, \"bgcolor\": \"#E5ECF6\", \"radialaxis\": {\"gridcolor\": \"white\", \"linecolor\": \"white\", \"ticks\": \"\"}}, \"scene\": {\"xaxis\": {\"backgroundcolor\": \"#E5ECF6\", \"gridcolor\": \"white\", \"gridwidth\": 2, \"linecolor\": \"white\", \"showbackground\": true, \"ticks\": \"\", \"zerolinecolor\": \"white\"}, \"yaxis\": {\"backgroundcolor\": \"#E5ECF6\", \"gridcolor\": \"white\", \"gridwidth\": 2, \"linecolor\": \"white\", \"showbackground\": true, \"ticks\": \"\", \"zerolinecolor\": \"white\"}, \"zaxis\": {\"backgroundcolor\": \"#E5ECF6\", \"gridcolor\": \"white\", \"gridwidth\": 2, \"linecolor\": \"white\", \"showbackground\": true, \"ticks\": \"\", \"zerolinecolor\": \"white\"}}, \"shapedefaults\": {\"line\": {\"color\": \"#2a3f5f\"}}, \"ternary\": {\"aaxis\": {\"gridcolor\": \"white\", \"linecolor\": \"white\", \"ticks\": \"\"}, \"baxis\": {\"gridcolor\": \"white\", \"linecolor\": \"white\", \"ticks\": \"\"}, \"bgcolor\": \"#E5ECF6\", \"caxis\": {\"gridcolor\": \"white\", \"linecolor\": \"white\", \"ticks\": \"\"}}, \"title\": {\"x\": 0.05}, \"xaxis\": {\"automargin\": true, \"gridcolor\": \"white\", \"linecolor\": \"white\", \"ticks\": \"\", \"title\": {\"standoff\": 15}, \"zerolinecolor\": \"white\", \"zerolinewidth\": 2}, \"yaxis\": {\"automargin\": true, \"gridcolor\": \"white\", \"linecolor\": \"white\", \"ticks\": \"\", \"title\": {\"standoff\": 15}, \"zerolinecolor\": \"white\", \"zerolinewidth\": 2}}}, \"title\": {\"text\": \"Pie chart visualization of city effected by caronavirus\"}},\n",
              "                        {\"responsive\": true}\n",
              "                    ).then(function(){\n",
              "                            \n",
              "var gd = document.getElementById('beb42c8c-7052-4040-b2c9-dd4044e9515b');\n",
              "var x = new MutationObserver(function (mutations, observer) {{\n",
              "        var display = window.getComputedStyle(gd).display;\n",
              "        if (!display || display === 'none') {{\n",
              "            console.log([gd, 'removed!']);\n",
              "            Plotly.purge(gd);\n",
              "            observer.disconnect();\n",
              "        }}\n",
              "}});\n",
              "\n",
              "// Listen for the removal of the full notebook cells\n",
              "var notebookContainer = gd.closest('#notebook-container');\n",
              "if (notebookContainer) {{\n",
              "    x.observe(notebookContainer, {childList: true});\n",
              "}}\n",
              "\n",
              "// Listen for the clearing of the current output cell\n",
              "var outputEl = gd.closest('.output');\n",
              "if (outputEl) {{\n",
              "    x.observe(outputEl, {childList: true});\n",
              "}}\n",
              "\n",
              "                        })\n",
              "                };\n",
              "                \n",
              "            </script>\n",
              "        </div>\n",
              "</body>\n",
              "</html>"
            ]
          },
          "metadata": {
            "tags": []
          }
        }
      ]
    },
    {
      "cell_type": "markdown",
      "metadata": {
        "id": "03OoAHSYRwTh",
        "colab_type": "text"
      },
      "source": [
        "### Comparar Marajó I vs Metropolitana I"
      ]
    },
    {
      "cell_type": "code",
      "metadata": {
        "id": "5M4mcRhQRwTi",
        "colab_type": "code",
        "colab": {
          "base_uri": "https://localhost:8080/",
          "height": 542
        },
        "outputId": "843fcbc7-79ef-4a38-ba13-f806b19da3ba"
      },
      "source": [
        "carona_data_Metropolitana1 = df_metropolitana1_PA.groupby(['date'])['totalCases'].sum().reset_index().sort_values('totalCases',ascending = True)\n",
        "carona_data_Marajo =df1.groupby(['date'])['totalCases'].sum().reset_index().sort_values('date',ascending = True)\n",
        "\n",
        "fig = go.Figure()\n",
        "fig.add_trace(go.Scatter(x=carona_data_Metropolitana1['date'], y=carona_data_Metropolitana1['totalCases'],\n",
        "                    mode='lines+markers',name='Metropolitana I'))\n",
        "fig.add_trace(go.Scatter(x=carona_data_Marajo['date'], y=carona_data_Marajo['totalCases'],\n",
        "                    mode='lines+markers',name='Marajo II'))\n",
        "fig.update_layout(title_text='Total Confirmed Cases METROPOLITANA I vs MARAJÓ II',plot_bgcolor='rgb(225,230,255)')\n",
        "fig.show()"
      ],
      "execution_count": 12,
      "outputs": [
        {
          "output_type": "display_data",
          "data": {
            "text/html": [
              "<html>\n",
              "<head><meta charset=\"utf-8\" /></head>\n",
              "<body>\n",
              "    <div>\n",
              "            <script src=\"https://cdnjs.cloudflare.com/ajax/libs/mathjax/2.7.5/MathJax.js?config=TeX-AMS-MML_SVG\"></script><script type=\"text/javascript\">if (window.MathJax) {MathJax.Hub.Config({SVG: {font: \"STIX-Web\"}});}</script>\n",
              "                <script type=\"text/javascript\">window.PlotlyConfig = {MathJaxConfig: 'local'};</script>\n",
              "        <script src=\"https://cdn.plot.ly/plotly-latest.min.js\"></script>    \n",
              "            <div id=\"a3ef6257-0345-468a-b1b6-9bc93cd4a0b7\" class=\"plotly-graph-div\" style=\"height:525px; width:100%;\"></div>\n",
              "            <script type=\"text/javascript\">\n",
              "                \n",
              "                    window.PLOTLYENV=window.PLOTLYENV || {};\n",
              "                    \n",
              "                if (document.getElementById(\"a3ef6257-0345-468a-b1b6-9bc93cd4a0b7\")) {\n",
              "                    Plotly.newPlot(\n",
              "                        'a3ef6257-0345-468a-b1b6-9bc93cd4a0b7',\n",
              "                        [{\"mode\": \"lines+markers\", \"name\": \"Metropolitana I\", \"type\": \"scatter\", \"x\": [\"2020-03-18\", \"2020-03-19\", \"2020-03-20\", \"2020-03-21\", \"2020-03-22\", \"2020-03-23\", \"2020-03-24\", \"2020-03-25\", \"2020-03-26\", \"2020-03-27\", \"2020-03-28\", \"2020-03-29\", \"2020-03-30\", \"2020-03-31\", \"2020-04-01\", \"2020-04-02\", \"2020-04-03\", \"2020-04-04\", \"2020-04-05\", \"2020-04-06\", \"2020-04-07\", \"2020-04-08\", \"2020-04-09\", \"2020-04-10\", \"2020-04-11\", \"2020-04-12\", \"2020-04-13\", \"2020-04-14\", \"2020-04-15\", \"2020-04-16\", \"2020-04-17\", \"2020-04-18\", \"2020-04-19\", \"2020-04-20\", \"2020-04-21\", \"2020-04-22\", \"2020-04-23\", \"2020-04-24\", \"2020-04-25\", \"2020-04-26\", \"2020-04-27\", \"2020-04-28\", \"2020-04-29\", \"2020-04-30\", \"2020-05-01\", \"2020-05-02\", \"2020-05-03\", \"2020-05-04\", \"2020-05-05\", \"2020-05-06\", \"2020-05-07\", \"2020-05-08\", \"2020-05-09\", \"2020-05-10\", \"2020-05-11\", \"2020-05-12\", \"2020-05-13\", \"2020-05-14\", \"2020-05-15\", \"2020-05-16\", \"2020-05-17\", \"2020-05-18\", \"2020-05-19\", \"2020-05-20\", \"2020-05-21\", \"2020-05-22\", \"2020-05-23\", \"2020-05-24\", \"2020-05-25\", \"2020-05-26\", \"2020-05-27\", \"2020-05-28\", \"2020-05-29\", \"2020-05-30\", \"2020-05-31\", \"2020-06-01\", \"2020-06-02\", \"2020-06-03\", \"2020-06-04\", \"2020-06-05\", \"2020-06-06\", \"2020-06-07\", \"2020-06-08\", \"2020-06-09\", \"2020-06-10\", \"2020-06-11\", \"2020-06-12\", \"2020-06-13\", \"2020-06-14\", \"2020-06-15\", \"2020-06-16\", \"2020-06-17\", \"2020-06-18\", \"2020-06-19\", \"2020-06-20\", \"2020-06-21\", \"2020-06-22\", \"2020-06-23\", \"2020-06-24\", \"2020-06-25\", \"2020-06-26\", \"2020-06-27\", \"2020-06-28\", \"2020-06-29\", \"2020-06-30\", \"2020-07-01\", \"2020-07-02\", \"2020-07-03\", \"2020-07-04\", \"2020-07-05\", \"2020-07-06\", \"2020-07-07\", \"2020-07-08\", \"2020-07-09\", \"2020-07-10\"], \"y\": [1, 1, 2, 2, 4, 4, 4, 6, 10, 13, 14, 16, 22, 28, 33, 38, 53, 58, 62, 92, 120, 131, 134, 172, 190, 210, 252, 316, 389, 457, 521, 533, 560, 725, 815, 929, 964, 1185, 1310, 1510, 1591, 1639, 1806, 2049, 2268, 2482, 2534, 2730, 3031, 3581, 3801, 4086, 4298, 4393, 4673, 5189, 5781, 6382, 7024, 7351, 7774, 8377, 8377, 9519, 10209, 11186, 12029, 12272, 13039, 13635, 14175, 15087, 15463, 15588, 15607, 16093, 17084, 17487, 17882, 18772, 18772, 18861, 19476, 19984, 20466, 20541, 20876, 21481, 21513, 21770, 22079, 22347, 22815, 23133, 23345, 23446, 23819, 24139, 24465, 24743, 24944, 25126, 25377, 25755, 25934, 26165, 26593, 26975, 27450, 27546, 27858, 28151, 28351, 28515, 28515]}, {\"mode\": \"lines+markers\", \"name\": \"Marajo II\", \"type\": \"scatter\", \"x\": [\"2020-04-15\", \"2020-04-16\", \"2020-04-17\", \"2020-04-18\", \"2020-04-19\", \"2020-04-20\", \"2020-04-21\", \"2020-04-22\", \"2020-04-23\", \"2020-04-24\", \"2020-04-25\", \"2020-04-26\", \"2020-04-27\", \"2020-04-28\", \"2020-04-29\", \"2020-04-30\", \"2020-05-01\", \"2020-05-02\", \"2020-05-03\", \"2020-05-04\", \"2020-05-05\", \"2020-05-06\", \"2020-05-07\", \"2020-05-08\", \"2020-05-09\", \"2020-05-10\", \"2020-05-11\", \"2020-05-12\", \"2020-05-13\", \"2020-05-14\", \"2020-05-15\", \"2020-05-16\", \"2020-05-17\", \"2020-05-18\", \"2020-05-19\", \"2020-05-20\", \"2020-05-21\", \"2020-05-22\", \"2020-05-23\", \"2020-05-24\", \"2020-05-25\", \"2020-05-26\", \"2020-05-27\", \"2020-05-28\", \"2020-05-29\", \"2020-05-30\", \"2020-05-31\", \"2020-06-01\", \"2020-06-02\", \"2020-06-03\", \"2020-06-04\", \"2020-06-05\", \"2020-06-06\", \"2020-06-07\", \"2020-06-08\", \"2020-06-09\", \"2020-06-10\", \"2020-06-11\", \"2020-06-12\", \"2020-06-13\", \"2020-06-14\", \"2020-06-15\", \"2020-06-16\", \"2020-06-17\", \"2020-06-18\", \"2020-06-19\", \"2020-06-20\", \"2020-06-21\", \"2020-06-22\", \"2020-06-23\", \"2020-06-24\", \"2020-06-25\", \"2020-06-26\", \"2020-06-27\", \"2020-06-28\", \"2020-06-29\", \"2020-06-30\", \"2020-07-01\", \"2020-07-02\", \"2020-07-03\", \"2020-07-04\", \"2020-07-05\", \"2020-07-06\", \"2020-07-07\", \"2020-07-08\", \"2020-07-09\", \"2020-07-10\"], \"y\": [1, 1, 1, 1, 1, 4, 5, 4, 5, 14, 14, 21, 31, 34, 39, 44, 53, 53, 87, 106, 113, 136, 158, 178, 233, 257, 298, 325, 401, 433, 460, 494, 542, 570, 570, 675, 706, 782, 815, 830, 892, 989, 1025, 1154, 1194, 1215, 1221, 1300, 1395, 1489, 1556, 1655, 1655, 1672, 1730, 1791, 1927, 1937, 1996, 2042, 2100, 2147, 2294, 2399, 2495, 2529, 2540, 2565, 2720, 2875, 2968, 3046, 3161, 3175, 3181, 3280, 3588, 3652, 3799, 3886, 3955, 3960, 3998, 4120, 4189, 4225, 4225]}],\n",
              "                        {\"plot_bgcolor\": \"rgb(225,230,255)\", \"template\": {\"data\": {\"bar\": [{\"error_x\": {\"color\": \"#2a3f5f\"}, \"error_y\": {\"color\": \"#2a3f5f\"}, \"marker\": {\"line\": {\"color\": \"#E5ECF6\", \"width\": 0.5}}, \"type\": \"bar\"}], \"barpolar\": [{\"marker\": {\"line\": {\"color\": \"#E5ECF6\", \"width\": 0.5}}, \"type\": \"barpolar\"}], \"carpet\": [{\"aaxis\": {\"endlinecolor\": \"#2a3f5f\", \"gridcolor\": \"white\", \"linecolor\": \"white\", \"minorgridcolor\": \"white\", \"startlinecolor\": \"#2a3f5f\"}, \"baxis\": {\"endlinecolor\": \"#2a3f5f\", \"gridcolor\": \"white\", \"linecolor\": \"white\", \"minorgridcolor\": \"white\", \"startlinecolor\": \"#2a3f5f\"}, \"type\": \"carpet\"}], \"choropleth\": [{\"colorbar\": {\"outlinewidth\": 0, \"ticks\": \"\"}, \"type\": \"choropleth\"}], \"contour\": [{\"colorbar\": {\"outlinewidth\": 0, \"ticks\": \"\"}, \"colorscale\": [[0.0, \"#0d0887\"], [0.1111111111111111, \"#46039f\"], [0.2222222222222222, \"#7201a8\"], [0.3333333333333333, \"#9c179e\"], [0.4444444444444444, \"#bd3786\"], [0.5555555555555556, \"#d8576b\"], [0.6666666666666666, \"#ed7953\"], [0.7777777777777778, \"#fb9f3a\"], [0.8888888888888888, \"#fdca26\"], [1.0, \"#f0f921\"]], \"type\": \"contour\"}], \"contourcarpet\": [{\"colorbar\": {\"outlinewidth\": 0, \"ticks\": \"\"}, \"type\": \"contourcarpet\"}], \"heatmap\": [{\"colorbar\": {\"outlinewidth\": 0, \"ticks\": \"\"}, \"colorscale\": [[0.0, \"#0d0887\"], [0.1111111111111111, \"#46039f\"], [0.2222222222222222, \"#7201a8\"], [0.3333333333333333, \"#9c179e\"], [0.4444444444444444, \"#bd3786\"], [0.5555555555555556, \"#d8576b\"], [0.6666666666666666, \"#ed7953\"], [0.7777777777777778, \"#fb9f3a\"], [0.8888888888888888, \"#fdca26\"], [1.0, \"#f0f921\"]], \"type\": \"heatmap\"}], \"heatmapgl\": [{\"colorbar\": {\"outlinewidth\": 0, \"ticks\": \"\"}, \"colorscale\": [[0.0, \"#0d0887\"], [0.1111111111111111, \"#46039f\"], [0.2222222222222222, \"#7201a8\"], [0.3333333333333333, \"#9c179e\"], [0.4444444444444444, \"#bd3786\"], [0.5555555555555556, \"#d8576b\"], [0.6666666666666666, \"#ed7953\"], [0.7777777777777778, \"#fb9f3a\"], [0.8888888888888888, \"#fdca26\"], [1.0, \"#f0f921\"]], \"type\": \"heatmapgl\"}], \"histogram\": [{\"marker\": {\"colorbar\": {\"outlinewidth\": 0, \"ticks\": \"\"}}, \"type\": \"histogram\"}], \"histogram2d\": [{\"colorbar\": {\"outlinewidth\": 0, \"ticks\": \"\"}, \"colorscale\": [[0.0, \"#0d0887\"], [0.1111111111111111, \"#46039f\"], [0.2222222222222222, \"#7201a8\"], [0.3333333333333333, \"#9c179e\"], [0.4444444444444444, \"#bd3786\"], [0.5555555555555556, \"#d8576b\"], [0.6666666666666666, \"#ed7953\"], [0.7777777777777778, \"#fb9f3a\"], [0.8888888888888888, \"#fdca26\"], [1.0, \"#f0f921\"]], \"type\": \"histogram2d\"}], \"histogram2dcontour\": [{\"colorbar\": {\"outlinewidth\": 0, \"ticks\": \"\"}, \"colorscale\": [[0.0, \"#0d0887\"], [0.1111111111111111, \"#46039f\"], [0.2222222222222222, \"#7201a8\"], [0.3333333333333333, \"#9c179e\"], [0.4444444444444444, \"#bd3786\"], [0.5555555555555556, \"#d8576b\"], [0.6666666666666666, \"#ed7953\"], [0.7777777777777778, \"#fb9f3a\"], [0.8888888888888888, \"#fdca26\"], [1.0, \"#f0f921\"]], \"type\": \"histogram2dcontour\"}], \"mesh3d\": [{\"colorbar\": {\"outlinewidth\": 0, \"ticks\": \"\"}, \"type\": \"mesh3d\"}], \"parcoords\": [{\"line\": {\"colorbar\": {\"outlinewidth\": 0, \"ticks\": \"\"}}, \"type\": \"parcoords\"}], \"pie\": [{\"automargin\": true, \"type\": \"pie\"}], \"scatter\": [{\"marker\": {\"colorbar\": {\"outlinewidth\": 0, \"ticks\": \"\"}}, \"type\": \"scatter\"}], \"scatter3d\": [{\"line\": {\"colorbar\": {\"outlinewidth\": 0, \"ticks\": \"\"}}, \"marker\": {\"colorbar\": {\"outlinewidth\": 0, \"ticks\": \"\"}}, \"type\": \"scatter3d\"}], \"scattercarpet\": [{\"marker\": {\"colorbar\": {\"outlinewidth\": 0, \"ticks\": \"\"}}, \"type\": \"scattercarpet\"}], \"scattergeo\": [{\"marker\": {\"colorbar\": {\"outlinewidth\": 0, \"ticks\": \"\"}}, \"type\": \"scattergeo\"}], \"scattergl\": [{\"marker\": {\"colorbar\": {\"outlinewidth\": 0, \"ticks\": \"\"}}, \"type\": \"scattergl\"}], \"scattermapbox\": [{\"marker\": {\"colorbar\": {\"outlinewidth\": 0, \"ticks\": \"\"}}, \"type\": \"scattermapbox\"}], \"scatterpolar\": [{\"marker\": {\"colorbar\": {\"outlinewidth\": 0, \"ticks\": \"\"}}, \"type\": \"scatterpolar\"}], \"scatterpolargl\": [{\"marker\": {\"colorbar\": {\"outlinewidth\": 0, \"ticks\": \"\"}}, \"type\": \"scatterpolargl\"}], \"scatterternary\": [{\"marker\": {\"colorbar\": {\"outlinewidth\": 0, \"ticks\": \"\"}}, \"type\": \"scatterternary\"}], \"surface\": [{\"colorbar\": {\"outlinewidth\": 0, \"ticks\": \"\"}, \"colorscale\": [[0.0, \"#0d0887\"], [0.1111111111111111, \"#46039f\"], [0.2222222222222222, \"#7201a8\"], [0.3333333333333333, \"#9c179e\"], [0.4444444444444444, \"#bd3786\"], [0.5555555555555556, \"#d8576b\"], [0.6666666666666666, \"#ed7953\"], [0.7777777777777778, \"#fb9f3a\"], [0.8888888888888888, \"#fdca26\"], [1.0, \"#f0f921\"]], \"type\": \"surface\"}], \"table\": [{\"cells\": {\"fill\": {\"color\": \"#EBF0F8\"}, \"line\": {\"color\": \"white\"}}, \"header\": {\"fill\": {\"color\": \"#C8D4E3\"}, \"line\": {\"color\": \"white\"}}, \"type\": \"table\"}]}, \"layout\": {\"annotationdefaults\": {\"arrowcolor\": \"#2a3f5f\", \"arrowhead\": 0, \"arrowwidth\": 1}, \"coloraxis\": {\"colorbar\": {\"outlinewidth\": 0, \"ticks\": \"\"}}, \"colorscale\": {\"diverging\": [[0, \"#8e0152\"], [0.1, \"#c51b7d\"], [0.2, \"#de77ae\"], [0.3, \"#f1b6da\"], [0.4, \"#fde0ef\"], [0.5, \"#f7f7f7\"], [0.6, \"#e6f5d0\"], [0.7, \"#b8e186\"], [0.8, \"#7fbc41\"], [0.9, \"#4d9221\"], [1, \"#276419\"]], \"sequential\": [[0.0, \"#0d0887\"], [0.1111111111111111, \"#46039f\"], [0.2222222222222222, \"#7201a8\"], [0.3333333333333333, \"#9c179e\"], [0.4444444444444444, \"#bd3786\"], [0.5555555555555556, \"#d8576b\"], [0.6666666666666666, \"#ed7953\"], [0.7777777777777778, \"#fb9f3a\"], [0.8888888888888888, \"#fdca26\"], [1.0, \"#f0f921\"]], \"sequentialminus\": [[0.0, \"#0d0887\"], [0.1111111111111111, \"#46039f\"], [0.2222222222222222, \"#7201a8\"], [0.3333333333333333, \"#9c179e\"], [0.4444444444444444, \"#bd3786\"], [0.5555555555555556, \"#d8576b\"], [0.6666666666666666, \"#ed7953\"], [0.7777777777777778, \"#fb9f3a\"], [0.8888888888888888, \"#fdca26\"], [1.0, \"#f0f921\"]]}, \"colorway\": [\"#636efa\", \"#EF553B\", \"#00cc96\", \"#ab63fa\", \"#FFA15A\", \"#19d3f3\", \"#FF6692\", \"#B6E880\", \"#FF97FF\", \"#FECB52\"], \"font\": {\"color\": \"#2a3f5f\"}, \"geo\": {\"bgcolor\": \"white\", \"lakecolor\": \"white\", \"landcolor\": \"#E5ECF6\", \"showlakes\": true, \"showland\": true, \"subunitcolor\": \"white\"}, \"hoverlabel\": {\"align\": \"left\"}, \"hovermode\": \"closest\", \"mapbox\": {\"style\": \"light\"}, \"paper_bgcolor\": \"white\", \"plot_bgcolor\": \"#E5ECF6\", \"polar\": {\"angularaxis\": {\"gridcolor\": \"white\", \"linecolor\": \"white\", \"ticks\": \"\"}, \"bgcolor\": \"#E5ECF6\", \"radialaxis\": {\"gridcolor\": \"white\", \"linecolor\": \"white\", \"ticks\": \"\"}}, \"scene\": {\"xaxis\": {\"backgroundcolor\": \"#E5ECF6\", \"gridcolor\": \"white\", \"gridwidth\": 2, \"linecolor\": \"white\", \"showbackground\": true, \"ticks\": \"\", \"zerolinecolor\": \"white\"}, \"yaxis\": {\"backgroundcolor\": \"#E5ECF6\", \"gridcolor\": \"white\", \"gridwidth\": 2, \"linecolor\": \"white\", \"showbackground\": true, \"ticks\": \"\", \"zerolinecolor\": \"white\"}, \"zaxis\": {\"backgroundcolor\": \"#E5ECF6\", \"gridcolor\": \"white\", \"gridwidth\": 2, \"linecolor\": \"white\", \"showbackground\": true, \"ticks\": \"\", \"zerolinecolor\": \"white\"}}, \"shapedefaults\": {\"line\": {\"color\": \"#2a3f5f\"}}, \"ternary\": {\"aaxis\": {\"gridcolor\": \"white\", \"linecolor\": \"white\", \"ticks\": \"\"}, \"baxis\": {\"gridcolor\": \"white\", \"linecolor\": \"white\", \"ticks\": \"\"}, \"bgcolor\": \"#E5ECF6\", \"caxis\": {\"gridcolor\": \"white\", \"linecolor\": \"white\", \"ticks\": \"\"}}, \"title\": {\"x\": 0.05}, \"xaxis\": {\"automargin\": true, \"gridcolor\": \"white\", \"linecolor\": \"white\", \"ticks\": \"\", \"title\": {\"standoff\": 15}, \"zerolinecolor\": \"white\", \"zerolinewidth\": 2}, \"yaxis\": {\"automargin\": true, \"gridcolor\": \"white\", \"linecolor\": \"white\", \"ticks\": \"\", \"title\": {\"standoff\": 15}, \"zerolinecolor\": \"white\", \"zerolinewidth\": 2}}}, \"title\": {\"text\": \"Total Confirmed Cases METROPOLITANA I vs MARAJ\\u00d3 II\"}},\n",
              "                        {\"responsive\": true}\n",
              "                    ).then(function(){\n",
              "                            \n",
              "var gd = document.getElementById('a3ef6257-0345-468a-b1b6-9bc93cd4a0b7');\n",
              "var x = new MutationObserver(function (mutations, observer) {{\n",
              "        var display = window.getComputedStyle(gd).display;\n",
              "        if (!display || display === 'none') {{\n",
              "            console.log([gd, 'removed!']);\n",
              "            Plotly.purge(gd);\n",
              "            observer.disconnect();\n",
              "        }}\n",
              "}});\n",
              "\n",
              "// Listen for the removal of the full notebook cells\n",
              "var notebookContainer = gd.closest('#notebook-container');\n",
              "if (notebookContainer) {{\n",
              "    x.observe(notebookContainer, {childList: true});\n",
              "}}\n",
              "\n",
              "// Listen for the clearing of the current output cell\n",
              "var outputEl = gd.closest('.output');\n",
              "if (outputEl) {{\n",
              "    x.observe(outputEl, {childList: true});\n",
              "}}\n",
              "\n",
              "                        })\n",
              "                };\n",
              "                \n",
              "            </script>\n",
              "        </div>\n",
              "</body>\n",
              "</html>"
            ]
          },
          "metadata": {
            "tags": []
          }
        }
      ]
    },
    {
      "cell_type": "markdown",
      "metadata": {
        "id": "vQXz86bXRwTk",
        "colab_type": "text"
      },
      "source": [
        "# Referências\n",
        "[Scikit-Learning](https://scikit-learn.org/)\n",
        "\n",
        "[Time series prediction using Prophet in Python](https://towardsdatascience.com/time-series-prediction-using-prophet-in-python-35d65f626236)\n",
        "\n",
        "[Observatório de Dados :: COVID-19 no Brasil  - UFPA](http://ccsl.ufpa.br/covid-19/)\n",
        "\n",
        "[dataset: Número de casos confirmados de COVID-19 no Brasil](https://covid19br.wcota.me/)"
      ]
    }
  ]
}