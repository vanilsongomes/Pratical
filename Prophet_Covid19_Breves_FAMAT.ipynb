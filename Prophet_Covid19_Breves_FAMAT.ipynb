{
  "nbformat": 4,
  "nbformat_minor": 0,
  "metadata": {
    "colab": {
      "name": "Prophet_Covid19_Breves_FAMAT.ipynb",
      "provenance": [],
      "collapsed_sections": [],
      "include_colab_link": true
    },
    "kernelspec": {
      "display_name": "Python 3",
      "language": "python",
      "name": "python3"
    },
    "language_info": {
      "codemirror_mode": {
        "name": "ipython",
        "version": 3
      },
      "file_extension": ".py",
      "mimetype": "text/x-python",
      "name": "python",
      "nbconvert_exporter": "python",
      "pygments_lexer": "ipython3",
      "version": "3.7.6"
    }
  },
  "cells": [
    {
      "cell_type": "markdown",
      "metadata": {
        "id": "view-in-github",
        "colab_type": "text"
      },
      "source": [
        "<a href=\"https://colab.research.google.com/github/vanilsongomes/Pratical/blob/master/Prophet_Covid19_Breves_FAMAT.ipynb\" target=\"_parent\"><img src=\"https://colab.research.google.com/assets/colab-badge.svg\" alt=\"Open In Colab\"/></a>"
      ]
    },
    {
      "cell_type": "markdown",
      "metadata": {
        "id": "pbqkJpoucw6G",
        "colab_type": "text"
      },
      "source": [
        "![](https://media.giphy.com/media/dVuyBgq2z5gVBkFtDc/giphy.gif)"
      ]
    },
    {
      "cell_type": "markdown",
      "metadata": {
        "colab_type": "text",
        "id": "6uheyAhEXNWn"
      },
      "source": [
        "# **FACULDADE DE MATEMÁTICA - UFPA/CUMB**\n",
        "## **PREVISÃO DO COVID-19 EM BREVES-PA**\n",
        "\n",
        "### <center>Analysis of the COVID-19 Pandemic Machine Learning Technics for Forecasting</center>"
      ]
    },
    {
      "cell_type": "markdown",
      "metadata": {
        "id": "mp8IOCnjcw6I",
        "colab_type": "text"
      },
      "source": [
        "## Coronavirus (COVID-19) "
      ]
    },
    {
      "cell_type": "markdown",
      "metadata": {
        "id": "8hJQYoaWcw6J",
        "colab_type": "text"
      },
      "source": [
        "O coronavírus é uma família de vírus com o nome da coroa pontiaguda. O novo coronavírus, \n",
        "também conhecido como SARS-CoV-2, é um vírus respiratório contagioso que foi relatado pela \n",
        "primeira vez em Wuhan, na China. Em 11/2/2020, a Organização Mundial de Saúde designou o \n",
        "nome COVID(COrona VIrus Disease)-19 para a doença causada pelo novo coronavírus. Este notebook tem como objetivo \n",
        "explorar o COVID-19 através de análises e projeções de dados.\n"
      ]
    },
    {
      "cell_type": "code",
      "metadata": {
        "colab_type": "code",
        "id": "xZeC7wkZGyZD",
        "colab": {}
      },
      "source": [
        "################# importa bibliotecas para o projeto ######################\n",
        "import numpy as np \n",
        "import pandas as pd ## bibliotecas para preparação dos dataset\n",
        "######################### bibliotecas gráficas##############################\n",
        "import seaborn as sns\n",
        "import matplotlib.pyplot as plt \n",
        "import matplotlib.colors as mcolors\n",
        "from matplotlib.dates import DateFormatter\n",
        "import matplotlib.dates as mdates\n",
        "######################## Prediction Prophet ##################################\n",
        "from fbprophet import Prophet\n",
        "import warnings\n",
        "warnings.filterwarnings('ignore')\n",
        "###################### Gráficos iterativos ##################################\n",
        "import plotly.express as px\n",
        "import plotly.graph_objects as go\n",
        "pd.set_option('display.max_rows',20000, 'display.max_columns',100)\n",
        "#############################################################################\n",
        "from datetime import datetime, timedelta\n",
        "import datetime\n",
        "# template para gráfico \n",
        "plt.style.use('fivethirtyeight')\n",
        "%matplotlib inline"
      ],
      "execution_count": null,
      "outputs": []
    },
    {
      "cell_type": "markdown",
      "metadata": {
        "id": "oBR2x263cw6N",
        "colab_type": "text"
      },
      "source": [
        "### 1 - PROCESSAMENTO DOS DADOS"
      ]
    },
    {
      "cell_type": "code",
      "metadata": {
        "colab_type": "code",
        "id": "dZDA1H5i5_BU",
        "colab": {}
      },
      "source": [
        "###CARREGA MANUALMENTE\n",
        "##df_breves=pd.read_excel('Atual_Dados_Breves_COVID19.xlsx')\n",
        "#df_breves.head(3)"
      ],
      "execution_count": null,
      "outputs": []
    },
    {
      "cell_type": "code",
      "metadata": {
        "id": "CAXXBgoEcw6S",
        "colab_type": "code",
        "colab": {},
        "outputId": "2a07c444-2d95-4a54-a891-21445ad25fe1"
      },
      "source": [
        "url = \"https://github.com/vanilsongomes/Pratical/blob/master/Atual_Dados_Breves_COVID19.xlsx?raw=true\"\n",
        "df_breves = pd.read_excel(url,sheet_name='Planilha1')\n",
        "df_breves.tail()"
      ],
      "execution_count": null,
      "outputs": [
        {
          "output_type": "execute_result",
          "data": {
            "text/html": [
              "<div>\n",
              "<style scoped>\n",
              "    .dataframe tbody tr th:only-of-type {\n",
              "        vertical-align: middle;\n",
              "    }\n",
              "\n",
              "    .dataframe tbody tr th {\n",
              "        vertical-align: top;\n",
              "    }\n",
              "\n",
              "    .dataframe thead th {\n",
              "        text-align: right;\n",
              "    }\n",
              "</style>\n",
              "<table border=\"1\" class=\"dataframe\">\n",
              "  <thead>\n",
              "    <tr style=\"text-align: right;\">\n",
              "      <th></th>\n",
              "      <th>Date</th>\n",
              "      <th>Daily Cases</th>\n",
              "      <th>Confirmed</th>\n",
              "      <th>Deaths</th>\n",
              "      <th>Recovered</th>\n",
              "      <th>Discarded</th>\n",
              "      <th>Analyze</th>\n",
              "    </tr>\n",
              "  </thead>\n",
              "  <tbody>\n",
              "    <tr>\n",
              "      <th>98</th>\n",
              "      <td>2020-07-09</td>\n",
              "      <td>15</td>\n",
              "      <td>1392</td>\n",
              "      <td>73</td>\n",
              "      <td>1038</td>\n",
              "      <td>850</td>\n",
              "      <td>5</td>\n",
              "    </tr>\n",
              "    <tr>\n",
              "      <th>99</th>\n",
              "      <td>2020-07-10</td>\n",
              "      <td>18</td>\n",
              "      <td>1410</td>\n",
              "      <td>74</td>\n",
              "      <td>1055</td>\n",
              "      <td>855</td>\n",
              "      <td>5</td>\n",
              "    </tr>\n",
              "    <tr>\n",
              "      <th>100</th>\n",
              "      <td>2020-07-11</td>\n",
              "      <td>11</td>\n",
              "      <td>1424</td>\n",
              "      <td>74</td>\n",
              "      <td>1073</td>\n",
              "      <td>862</td>\n",
              "      <td>2</td>\n",
              "    </tr>\n",
              "    <tr>\n",
              "      <th>101</th>\n",
              "      <td>2020-07-12</td>\n",
              "      <td>11</td>\n",
              "      <td>1435</td>\n",
              "      <td>74</td>\n",
              "      <td>1085</td>\n",
              "      <td>870</td>\n",
              "      <td>4</td>\n",
              "    </tr>\n",
              "    <tr>\n",
              "      <th>102</th>\n",
              "      <td>2020-07-13</td>\n",
              "      <td>10</td>\n",
              "      <td>1445</td>\n",
              "      <td>74</td>\n",
              "      <td>1100</td>\n",
              "      <td>877</td>\n",
              "      <td>4</td>\n",
              "    </tr>\n",
              "  </tbody>\n",
              "</table>\n",
              "</div>"
            ],
            "text/plain": [
              "          Date  Daily Cases  Confirmed  Deaths  Recovered  Discarded  Analyze\n",
              "98  2020-07-09           15       1392      73       1038        850        5\n",
              "99  2020-07-10           18       1410      74       1055        855        5\n",
              "100 2020-07-11           11       1424      74       1073        862        2\n",
              "101 2020-07-12           11       1435      74       1085        870        4\n",
              "102 2020-07-13           10       1445      74       1100        877        4"
            ]
          },
          "metadata": {
            "tags": []
          },
          "execution_count": 28
        }
      ]
    },
    {
      "cell_type": "code",
      "metadata": {
        "colab_type": "code",
        "id": "DOgNtC0_mVav",
        "colab": {
          "base_uri": "https://localhost:8080/",
          "height": 195
        },
        "outputId": "ac31a1e7-9c50-47cb-a3db-2be19edb2489"
      },
      "source": [
        "##BuGn\n",
        "##Wistia\n",
        "df_breves.tail(14).style.background_gradient(cmap='BuGn')"
      ],
      "execution_count": null,
      "outputs": [
        {
          "output_type": "execute_result",
          "data": {
            "text/html": [
              "<style  type=\"text/css\" >\n",
              "    #T_1cb5ce74_c620_11ea_8786_847bebfdef03row0_col1 {\n",
              "            background-color:  #026f2e;\n",
              "            color:  #f1f1f1;\n",
              "        }    #T_1cb5ce74_c620_11ea_8786_847bebfdef03row0_col2 {\n",
              "            background-color:  #f7fcfd;\n",
              "            color:  #000000;\n",
              "        }    #T_1cb5ce74_c620_11ea_8786_847bebfdef03row0_col3 {\n",
              "            background-color:  #f7fcfd;\n",
              "            color:  #000000;\n",
              "        }    #T_1cb5ce74_c620_11ea_8786_847bebfdef03row0_col4 {\n",
              "            background-color:  #f7fcfd;\n",
              "            color:  #000000;\n",
              "        }    #T_1cb5ce74_c620_11ea_8786_847bebfdef03row0_col5 {\n",
              "            background-color:  #f7fcfd;\n",
              "            color:  #000000;\n",
              "        }    #T_1cb5ce74_c620_11ea_8786_847bebfdef03row0_col6 {\n",
              "            background-color:  #f7fcfd;\n",
              "            color:  #000000;\n",
              "        }    #T_1cb5ce74_c620_11ea_8786_847bebfdef03row1_col1 {\n",
              "            background-color:  #005a24;\n",
              "            color:  #f1f1f1;\n",
              "        }    #T_1cb5ce74_c620_11ea_8786_847bebfdef03row1_col2 {\n",
              "            background-color:  #e7f6f9;\n",
              "            color:  #000000;\n",
              "        }    #T_1cb5ce74_c620_11ea_8786_847bebfdef03row1_col3 {\n",
              "            background-color:  #f7fcfd;\n",
              "            color:  #000000;\n",
              "        }    #T_1cb5ce74_c620_11ea_8786_847bebfdef03row1_col4 {\n",
              "            background-color:  #e9f7fa;\n",
              "            color:  #000000;\n",
              "        }    #T_1cb5ce74_c620_11ea_8786_847bebfdef03row1_col5 {\n",
              "            background-color:  #edf8fb;\n",
              "            color:  #000000;\n",
              "        }    #T_1cb5ce74_c620_11ea_8786_847bebfdef03row1_col6 {\n",
              "            background-color:  #f7fcfd;\n",
              "            color:  #000000;\n",
              "        }    #T_1cb5ce74_c620_11ea_8786_847bebfdef03row2_col1 {\n",
              "            background-color:  #005a24;\n",
              "            color:  #f1f1f1;\n",
              "        }    #T_1cb5ce74_c620_11ea_8786_847bebfdef03row2_col2 {\n",
              "            background-color:  #d1eee9;\n",
              "            color:  #000000;\n",
              "        }    #T_1cb5ce74_c620_11ea_8786_847bebfdef03row2_col3 {\n",
              "            background-color:  #f7fcfd;\n",
              "            color:  #000000;\n",
              "        }    #T_1cb5ce74_c620_11ea_8786_847bebfdef03row2_col4 {\n",
              "            background-color:  #d8f0ef;\n",
              "            color:  #000000;\n",
              "        }    #T_1cb5ce74_c620_11ea_8786_847bebfdef03row2_col5 {\n",
              "            background-color:  #d6f0ee;\n",
              "            color:  #000000;\n",
              "        }    #T_1cb5ce74_c620_11ea_8786_847bebfdef03row2_col6 {\n",
              "            background-color:  #f7fcfd;\n",
              "            color:  #000000;\n",
              "        }    #T_1cb5ce74_c620_11ea_8786_847bebfdef03row3_col1 {\n",
              "            background-color:  #00441b;\n",
              "            color:  #f1f1f1;\n",
              "        }    #T_1cb5ce74_c620_11ea_8786_847bebfdef03row3_col2 {\n",
              "            background-color:  #a5ddd0;\n",
              "            color:  #000000;\n",
              "        }    #T_1cb5ce74_c620_11ea_8786_847bebfdef03row3_col3 {\n",
              "            background-color:  #f7fcfd;\n",
              "            color:  #000000;\n",
              "        }    #T_1cb5ce74_c620_11ea_8786_847bebfdef03row3_col4 {\n",
              "            background-color:  #c0e7df;\n",
              "            color:  #000000;\n",
              "        }    #T_1cb5ce74_c620_11ea_8786_847bebfdef03row3_col5 {\n",
              "            background-color:  #afe1d5;\n",
              "            color:  #000000;\n",
              "        }    #T_1cb5ce74_c620_11ea_8786_847bebfdef03row3_col6 {\n",
              "            background-color:  #aadfd3;\n",
              "            color:  #000000;\n",
              "        }    #T_1cb5ce74_c620_11ea_8786_847bebfdef03row4_col1 {\n",
              "            background-color:  #37a266;\n",
              "            color:  #000000;\n",
              "        }    #T_1cb5ce74_c620_11ea_8786_847bebfdef03row4_col2 {\n",
              "            background-color:  #7fcdb6;\n",
              "            color:  #000000;\n",
              "        }    #T_1cb5ce74_c620_11ea_8786_847bebfdef03row4_col3 {\n",
              "            background-color:  #f7fcfd;\n",
              "            color:  #000000;\n",
              "        }    #T_1cb5ce74_c620_11ea_8786_847bebfdef03row4_col4 {\n",
              "            background-color:  #95d6c6;\n",
              "            color:  #000000;\n",
              "        }    #T_1cb5ce74_c620_11ea_8786_847bebfdef03row4_col5 {\n",
              "            background-color:  #8dd3c0;\n",
              "            color:  #000000;\n",
              "        }    #T_1cb5ce74_c620_11ea_8786_847bebfdef03row4_col6 {\n",
              "            background-color:  #aadfd3;\n",
              "            color:  #000000;\n",
              "        }    #T_1cb5ce74_c620_11ea_8786_847bebfdef03row5_col1 {\n",
              "            background-color:  #d6f0ee;\n",
              "            color:  #000000;\n",
              "        }    #T_1cb5ce74_c620_11ea_8786_847bebfdef03row5_col2 {\n",
              "            background-color:  #68c3a6;\n",
              "            color:  #000000;\n",
              "        }    #T_1cb5ce74_c620_11ea_8786_847bebfdef03row5_col3 {\n",
              "            background-color:  #f7fcfd;\n",
              "            color:  #000000;\n",
              "        }    #T_1cb5ce74_c620_11ea_8786_847bebfdef03row5_col4 {\n",
              "            background-color:  #72c7ad;\n",
              "            color:  #000000;\n",
              "        }    #T_1cb5ce74_c620_11ea_8786_847bebfdef03row5_col5 {\n",
              "            background-color:  #78cab1;\n",
              "            color:  #000000;\n",
              "        }    #T_1cb5ce74_c620_11ea_8786_847bebfdef03row5_col6 {\n",
              "            background-color:  #f7fcfd;\n",
              "            color:  #000000;\n",
              "        }    #T_1cb5ce74_c620_11ea_8786_847bebfdef03row6_col1 {\n",
              "            background-color:  #f7fcfd;\n",
              "            color:  #000000;\n",
              "        }    #T_1cb5ce74_c620_11ea_8786_847bebfdef03row6_col2 {\n",
              "            background-color:  #5bbc96;\n",
              "            color:  #000000;\n",
              "        }    #T_1cb5ce74_c620_11ea_8786_847bebfdef03row6_col3 {\n",
              "            background-color:  #f7fcfd;\n",
              "            color:  #000000;\n",
              "        }    #T_1cb5ce74_c620_11ea_8786_847bebfdef03row6_col4 {\n",
              "            background-color:  #59bb93;\n",
              "            color:  #000000;\n",
              "        }    #T_1cb5ce74_c620_11ea_8786_847bebfdef03row6_col5 {\n",
              "            background-color:  #8dd3c0;\n",
              "            color:  #000000;\n",
              "        }    #T_1cb5ce74_c620_11ea_8786_847bebfdef03row6_col6 {\n",
              "            background-color:  #f7fcfd;\n",
              "            color:  #000000;\n",
              "        }    #T_1cb5ce74_c620_11ea_8786_847bebfdef03row7_col1 {\n",
              "            background-color:  #edf8fb;\n",
              "            color:  #000000;\n",
              "        }    #T_1cb5ce74_c620_11ea_8786_847bebfdef03row7_col2 {\n",
              "            background-color:  #4db585;\n",
              "            color:  #000000;\n",
              "        }    #T_1cb5ce74_c620_11ea_8786_847bebfdef03row7_col3 {\n",
              "            background-color:  #f7fcfd;\n",
              "            color:  #000000;\n",
              "        }    #T_1cb5ce74_c620_11ea_8786_847bebfdef03row7_col4 {\n",
              "            background-color:  #48b27f;\n",
              "            color:  #000000;\n",
              "        }    #T_1cb5ce74_c620_11ea_8786_847bebfdef03row7_col5 {\n",
              "            background-color:  #4fb688;\n",
              "            color:  #000000;\n",
              "        }    #T_1cb5ce74_c620_11ea_8786_847bebfdef03row7_col6 {\n",
              "            background-color:  #f7fcfd;\n",
              "            color:  #000000;\n",
              "        }    #T_1cb5ce74_c620_11ea_8786_847bebfdef03row8_col1 {\n",
              "            background-color:  #aadfd3;\n",
              "            color:  #000000;\n",
              "        }    #T_1cb5ce74_c620_11ea_8786_847bebfdef03row8_col2 {\n",
              "            background-color:  #3ba76c;\n",
              "            color:  #000000;\n",
              "        }    #T_1cb5ce74_c620_11ea_8786_847bebfdef03row8_col3 {\n",
              "            background-color:  #f7fcfd;\n",
              "            color:  #000000;\n",
              "        }    #T_1cb5ce74_c620_11ea_8786_847bebfdef03row8_col4 {\n",
              "            background-color:  #3ba76c;\n",
              "            color:  #000000;\n",
              "        }    #T_1cb5ce74_c620_11ea_8786_847bebfdef03row8_col5 {\n",
              "            background-color:  #3ca86d;\n",
              "            color:  #000000;\n",
              "        }    #T_1cb5ce74_c620_11ea_8786_847bebfdef03row8_col6 {\n",
              "            background-color:  #00441b;\n",
              "            color:  #f1f1f1;\n",
              "        }    #T_1cb5ce74_c620_11ea_8786_847bebfdef03row9_col1 {\n",
              "            background-color:  #74c8ae;\n",
              "            color:  #000000;\n",
              "        }    #T_1cb5ce74_c620_11ea_8786_847bebfdef03row9_col2 {\n",
              "            background-color:  #28914d;\n",
              "            color:  #000000;\n",
              "        }    #T_1cb5ce74_c620_11ea_8786_847bebfdef03row9_col3 {\n",
              "            background-color:  #f7fcfd;\n",
              "            color:  #000000;\n",
              "        }    #T_1cb5ce74_c620_11ea_8786_847bebfdef03row9_col4 {\n",
              "            background-color:  #2c9553;\n",
              "            color:  #000000;\n",
              "        }    #T_1cb5ce74_c620_11ea_8786_847bebfdef03row9_col5 {\n",
              "            background-color:  #28914d;\n",
              "            color:  #000000;\n",
              "        }    #T_1cb5ce74_c620_11ea_8786_847bebfdef03row9_col6 {\n",
              "            background-color:  #00441b;\n",
              "            color:  #f1f1f1;\n",
              "        }    #T_1cb5ce74_c620_11ea_8786_847bebfdef03row10_col1 {\n",
              "            background-color:  #37a266;\n",
              "            color:  #000000;\n",
              "        }    #T_1cb5ce74_c620_11ea_8786_847bebfdef03row10_col2 {\n",
              "            background-color:  #107a37;\n",
              "            color:  #f1f1f1;\n",
              "        }    #T_1cb5ce74_c620_11ea_8786_847bebfdef03row10_col3 {\n",
              "            background-color:  #00441b;\n",
              "            color:  #f1f1f1;\n",
              "        }    #T_1cb5ce74_c620_11ea_8786_847bebfdef03row10_col4 {\n",
              "            background-color:  #17813d;\n",
              "            color:  #f1f1f1;\n",
              "        }    #T_1cb5ce74_c620_11ea_8786_847bebfdef03row10_col5 {\n",
              "            background-color:  #1a843f;\n",
              "            color:  #000000;\n",
              "        }    #T_1cb5ce74_c620_11ea_8786_847bebfdef03row10_col6 {\n",
              "            background-color:  #00441b;\n",
              "            color:  #f1f1f1;\n",
              "        }    #T_1cb5ce74_c620_11ea_8786_847bebfdef03row11_col1 {\n",
              "            background-color:  #d6f0ee;\n",
              "            color:  #000000;\n",
              "        }    #T_1cb5ce74_c620_11ea_8786_847bebfdef03row11_col2 {\n",
              "            background-color:  #006729;\n",
              "            color:  #f1f1f1;\n",
              "        }    #T_1cb5ce74_c620_11ea_8786_847bebfdef03row11_col3 {\n",
              "            background-color:  #00441b;\n",
              "            color:  #f1f1f1;\n",
              "        }    #T_1cb5ce74_c620_11ea_8786_847bebfdef03row11_col4 {\n",
              "            background-color:  #006d2c;\n",
              "            color:  #f1f1f1;\n",
              "        }    #T_1cb5ce74_c620_11ea_8786_847bebfdef03row11_col5 {\n",
              "            background-color:  #077331;\n",
              "            color:  #f1f1f1;\n",
              "        }    #T_1cb5ce74_c620_11ea_8786_847bebfdef03row11_col6 {\n",
              "            background-color:  #f7fcfd;\n",
              "            color:  #000000;\n",
              "        }    #T_1cb5ce74_c620_11ea_8786_847bebfdef03row12_col1 {\n",
              "            background-color:  #d6f0ee;\n",
              "            color:  #000000;\n",
              "        }    #T_1cb5ce74_c620_11ea_8786_847bebfdef03row12_col2 {\n",
              "            background-color:  #005522;\n",
              "            color:  #f1f1f1;\n",
              "        }    #T_1cb5ce74_c620_11ea_8786_847bebfdef03row12_col3 {\n",
              "            background-color:  #00441b;\n",
              "            color:  #f1f1f1;\n",
              "        }    #T_1cb5ce74_c620_11ea_8786_847bebfdef03row12_col4 {\n",
              "            background-color:  #005a24;\n",
              "            color:  #f1f1f1;\n",
              "        }    #T_1cb5ce74_c620_11ea_8786_847bebfdef03row12_col5 {\n",
              "            background-color:  #005b25;\n",
              "            color:  #f1f1f1;\n",
              "        }    #T_1cb5ce74_c620_11ea_8786_847bebfdef03row12_col6 {\n",
              "            background-color:  #37a266;\n",
              "            color:  #000000;\n",
              "        }    #T_1cb5ce74_c620_11ea_8786_847bebfdef03row13_col1 {\n",
              "            background-color:  #e3f4f8;\n",
              "            color:  #000000;\n",
              "        }    #T_1cb5ce74_c620_11ea_8786_847bebfdef03row13_col2 {\n",
              "            background-color:  #00441b;\n",
              "            color:  #f1f1f1;\n",
              "        }    #T_1cb5ce74_c620_11ea_8786_847bebfdef03row13_col3 {\n",
              "            background-color:  #00441b;\n",
              "            color:  #f1f1f1;\n",
              "        }    #T_1cb5ce74_c620_11ea_8786_847bebfdef03row13_col4 {\n",
              "            background-color:  #00441b;\n",
              "            color:  #f1f1f1;\n",
              "        }    #T_1cb5ce74_c620_11ea_8786_847bebfdef03row13_col5 {\n",
              "            background-color:  #00441b;\n",
              "            color:  #f1f1f1;\n",
              "        }    #T_1cb5ce74_c620_11ea_8786_847bebfdef03row13_col6 {\n",
              "            background-color:  #37a266;\n",
              "            color:  #000000;\n",
              "        }</style><table id=\"T_1cb5ce74_c620_11ea_8786_847bebfdef03\" ><thead>    <tr>        <th class=\"blank level0\" ></th>        <th class=\"col_heading level0 col0\" >Date</th>        <th class=\"col_heading level0 col1\" >Daily Cases</th>        <th class=\"col_heading level0 col2\" >Confirmed</th>        <th class=\"col_heading level0 col3\" >Deaths</th>        <th class=\"col_heading level0 col4\" >Recovered</th>        <th class=\"col_heading level0 col5\" >Discarded</th>        <th class=\"col_heading level0 col6\" >Analyze</th>    </tr></thead><tbody>\n",
              "                <tr>\n",
              "                        <th id=\"T_1cb5ce74_c620_11ea_8786_847bebfdef03level0_row0\" class=\"row_heading level0 row0\" >89</th>\n",
              "                        <td id=\"T_1cb5ce74_c620_11ea_8786_847bebfdef03row0_col0\" class=\"data row0 col0\" >2020-06-30 00:00:00</td>\n",
              "                        <td id=\"T_1cb5ce74_c620_11ea_8786_847bebfdef03row0_col1\" class=\"data row0 col1\" >21</td>\n",
              "                        <td id=\"T_1cb5ce74_c620_11ea_8786_847bebfdef03row0_col2\" class=\"data row0 col2\" >1251</td>\n",
              "                        <td id=\"T_1cb5ce74_c620_11ea_8786_847bebfdef03row0_col3\" class=\"data row0 col3\" >73</td>\n",
              "                        <td id=\"T_1cb5ce74_c620_11ea_8786_847bebfdef03row0_col4\" class=\"data row0 col4\" >885</td>\n",
              "                        <td id=\"T_1cb5ce74_c620_11ea_8786_847bebfdef03row0_col5\" class=\"data row0 col5\" >778</td>\n",
              "                        <td id=\"T_1cb5ce74_c620_11ea_8786_847bebfdef03row0_col6\" class=\"data row0 col6\" >2</td>\n",
              "            </tr>\n",
              "            <tr>\n",
              "                        <th id=\"T_1cb5ce74_c620_11ea_8786_847bebfdef03level0_row1\" class=\"row_heading level0 row1\" >90</th>\n",
              "                        <td id=\"T_1cb5ce74_c620_11ea_8786_847bebfdef03row1_col0\" class=\"data row1 col0\" >2020-07-01 00:00:00</td>\n",
              "                        <td id=\"T_1cb5ce74_c620_11ea_8786_847bebfdef03row1_col1\" class=\"data row1 col1\" >22</td>\n",
              "                        <td id=\"T_1cb5ce74_c620_11ea_8786_847bebfdef03row1_col2\" class=\"data row1 col2\" >1273</td>\n",
              "                        <td id=\"T_1cb5ce74_c620_11ea_8786_847bebfdef03row1_col3\" class=\"data row1 col3\" >73</td>\n",
              "                        <td id=\"T_1cb5ce74_c620_11ea_8786_847bebfdef03row1_col4\" class=\"data row1 col4\" >906</td>\n",
              "                        <td id=\"T_1cb5ce74_c620_11ea_8786_847bebfdef03row1_col5\" class=\"data row1 col5\" >785</td>\n",
              "                        <td id=\"T_1cb5ce74_c620_11ea_8786_847bebfdef03row1_col6\" class=\"data row1 col6\" >2</td>\n",
              "            </tr>\n",
              "            <tr>\n",
              "                        <th id=\"T_1cb5ce74_c620_11ea_8786_847bebfdef03level0_row2\" class=\"row_heading level0 row2\" >91</th>\n",
              "                        <td id=\"T_1cb5ce74_c620_11ea_8786_847bebfdef03row2_col0\" class=\"data row2 col0\" >2020-07-02 00:00:00</td>\n",
              "                        <td id=\"T_1cb5ce74_c620_11ea_8786_847bebfdef03row2_col1\" class=\"data row2 col1\" >22</td>\n",
              "                        <td id=\"T_1cb5ce74_c620_11ea_8786_847bebfdef03row2_col2\" class=\"data row2 col2\" >1295</td>\n",
              "                        <td id=\"T_1cb5ce74_c620_11ea_8786_847bebfdef03row2_col3\" class=\"data row2 col3\" >73</td>\n",
              "                        <td id=\"T_1cb5ce74_c620_11ea_8786_847bebfdef03row2_col4\" class=\"data row2 col4\" >926</td>\n",
              "                        <td id=\"T_1cb5ce74_c620_11ea_8786_847bebfdef03row2_col5\" class=\"data row2 col5\" >798</td>\n",
              "                        <td id=\"T_1cb5ce74_c620_11ea_8786_847bebfdef03row2_col6\" class=\"data row2 col6\" >2</td>\n",
              "            </tr>\n",
              "            <tr>\n",
              "                        <th id=\"T_1cb5ce74_c620_11ea_8786_847bebfdef03level0_row3\" class=\"row_heading level0 row3\" >92</th>\n",
              "                        <td id=\"T_1cb5ce74_c620_11ea_8786_847bebfdef03row3_col0\" class=\"data row3 col0\" >2020-07-03 00:00:00</td>\n",
              "                        <td id=\"T_1cb5ce74_c620_11ea_8786_847bebfdef03row3_col1\" class=\"data row3 col1\" >23</td>\n",
              "                        <td id=\"T_1cb5ce74_c620_11ea_8786_847bebfdef03row3_col2\" class=\"data row3 col2\" >1318</td>\n",
              "                        <td id=\"T_1cb5ce74_c620_11ea_8786_847bebfdef03row3_col3\" class=\"data row3 col3\" >73</td>\n",
              "                        <td id=\"T_1cb5ce74_c620_11ea_8786_847bebfdef03row3_col4\" class=\"data row3 col4\" >945</td>\n",
              "                        <td id=\"T_1cb5ce74_c620_11ea_8786_847bebfdef03row3_col5\" class=\"data row3 col5\" >810</td>\n",
              "                        <td id=\"T_1cb5ce74_c620_11ea_8786_847bebfdef03row3_col6\" class=\"data row3 col6\" >3</td>\n",
              "            </tr>\n",
              "            <tr>\n",
              "                        <th id=\"T_1cb5ce74_c620_11ea_8786_847bebfdef03level0_row4\" class=\"row_heading level0 row4\" >93</th>\n",
              "                        <td id=\"T_1cb5ce74_c620_11ea_8786_847bebfdef03row4_col0\" class=\"data row4 col0\" >2020-07-04 00:00:00</td>\n",
              "                        <td id=\"T_1cb5ce74_c620_11ea_8786_847bebfdef03row4_col1\" class=\"data row4 col1\" >18</td>\n",
              "                        <td id=\"T_1cb5ce74_c620_11ea_8786_847bebfdef03row4_col2\" class=\"data row4 col2\" >1336</td>\n",
              "                        <td id=\"T_1cb5ce74_c620_11ea_8786_847bebfdef03row4_col3\" class=\"data row4 col3\" >73</td>\n",
              "                        <td id=\"T_1cb5ce74_c620_11ea_8786_847bebfdef03row4_col4\" class=\"data row4 col4\" >968</td>\n",
              "                        <td id=\"T_1cb5ce74_c620_11ea_8786_847bebfdef03row4_col5\" class=\"data row4 col5\" >818</td>\n",
              "                        <td id=\"T_1cb5ce74_c620_11ea_8786_847bebfdef03row4_col6\" class=\"data row4 col6\" >3</td>\n",
              "            </tr>\n",
              "            <tr>\n",
              "                        <th id=\"T_1cb5ce74_c620_11ea_8786_847bebfdef03level0_row5\" class=\"row_heading level0 row5\" >94</th>\n",
              "                        <td id=\"T_1cb5ce74_c620_11ea_8786_847bebfdef03row5_col0\" class=\"data row5 col0\" >2020-07-05 00:00:00</td>\n",
              "                        <td id=\"T_1cb5ce74_c620_11ea_8786_847bebfdef03row5_col1\" class=\"data row5 col1\" >11</td>\n",
              "                        <td id=\"T_1cb5ce74_c620_11ea_8786_847bebfdef03row5_col2\" class=\"data row5 col2\" >1347</td>\n",
              "                        <td id=\"T_1cb5ce74_c620_11ea_8786_847bebfdef03row5_col3\" class=\"data row5 col3\" >73</td>\n",
              "                        <td id=\"T_1cb5ce74_c620_11ea_8786_847bebfdef03row5_col4\" class=\"data row5 col4\" >986</td>\n",
              "                        <td id=\"T_1cb5ce74_c620_11ea_8786_847bebfdef03row5_col5\" class=\"data row5 col5\" >823</td>\n",
              "                        <td id=\"T_1cb5ce74_c620_11ea_8786_847bebfdef03row5_col6\" class=\"data row5 col6\" >2</td>\n",
              "            </tr>\n",
              "            <tr>\n",
              "                        <th id=\"T_1cb5ce74_c620_11ea_8786_847bebfdef03level0_row6\" class=\"row_heading level0 row6\" >95</th>\n",
              "                        <td id=\"T_1cb5ce74_c620_11ea_8786_847bebfdef03row6_col0\" class=\"data row6 col0\" >2020-07-06 00:00:00</td>\n",
              "                        <td id=\"T_1cb5ce74_c620_11ea_8786_847bebfdef03row6_col1\" class=\"data row6 col1\" >8</td>\n",
              "                        <td id=\"T_1cb5ce74_c620_11ea_8786_847bebfdef03row6_col2\" class=\"data row6 col2\" >1355</td>\n",
              "                        <td id=\"T_1cb5ce74_c620_11ea_8786_847bebfdef03row6_col3\" class=\"data row6 col3\" >73</td>\n",
              "                        <td id=\"T_1cb5ce74_c620_11ea_8786_847bebfdef03row6_col4\" class=\"data row6 col4\" >1002</td>\n",
              "                        <td id=\"T_1cb5ce74_c620_11ea_8786_847bebfdef03row6_col5\" class=\"data row6 col5\" >818</td>\n",
              "                        <td id=\"T_1cb5ce74_c620_11ea_8786_847bebfdef03row6_col6\" class=\"data row6 col6\" >2</td>\n",
              "            </tr>\n",
              "            <tr>\n",
              "                        <th id=\"T_1cb5ce74_c620_11ea_8786_847bebfdef03level0_row7\" class=\"row_heading level0 row7\" >96</th>\n",
              "                        <td id=\"T_1cb5ce74_c620_11ea_8786_847bebfdef03row7_col0\" class=\"data row7 col0\" >2020-07-07 00:00:00</td>\n",
              "                        <td id=\"T_1cb5ce74_c620_11ea_8786_847bebfdef03row7_col1\" class=\"data row7 col1\" >9</td>\n",
              "                        <td id=\"T_1cb5ce74_c620_11ea_8786_847bebfdef03row7_col2\" class=\"data row7 col2\" >1364</td>\n",
              "                        <td id=\"T_1cb5ce74_c620_11ea_8786_847bebfdef03row7_col3\" class=\"data row7 col3\" >73</td>\n",
              "                        <td id=\"T_1cb5ce74_c620_11ea_8786_847bebfdef03row7_col4\" class=\"data row7 col4\" >1014</td>\n",
              "                        <td id=\"T_1cb5ce74_c620_11ea_8786_847bebfdef03row7_col5\" class=\"data row7 col5\" >835</td>\n",
              "                        <td id=\"T_1cb5ce74_c620_11ea_8786_847bebfdef03row7_col6\" class=\"data row7 col6\" >2</td>\n",
              "            </tr>\n",
              "            <tr>\n",
              "                        <th id=\"T_1cb5ce74_c620_11ea_8786_847bebfdef03level0_row8\" class=\"row_heading level0 row8\" >97</th>\n",
              "                        <td id=\"T_1cb5ce74_c620_11ea_8786_847bebfdef03row8_col0\" class=\"data row8 col0\" >2020-07-08 00:00:00</td>\n",
              "                        <td id=\"T_1cb5ce74_c620_11ea_8786_847bebfdef03row8_col1\" class=\"data row8 col1\" >13</td>\n",
              "                        <td id=\"T_1cb5ce74_c620_11ea_8786_847bebfdef03row8_col2\" class=\"data row8 col2\" >1377</td>\n",
              "                        <td id=\"T_1cb5ce74_c620_11ea_8786_847bebfdef03row8_col3\" class=\"data row8 col3\" >73</td>\n",
              "                        <td id=\"T_1cb5ce74_c620_11ea_8786_847bebfdef03row8_col4\" class=\"data row8 col4\" >1025</td>\n",
              "                        <td id=\"T_1cb5ce74_c620_11ea_8786_847bebfdef03row8_col5\" class=\"data row8 col5\" >842</td>\n",
              "                        <td id=\"T_1cb5ce74_c620_11ea_8786_847bebfdef03row8_col6\" class=\"data row8 col6\" >5</td>\n",
              "            </tr>\n",
              "            <tr>\n",
              "                        <th id=\"T_1cb5ce74_c620_11ea_8786_847bebfdef03level0_row9\" class=\"row_heading level0 row9\" >98</th>\n",
              "                        <td id=\"T_1cb5ce74_c620_11ea_8786_847bebfdef03row9_col0\" class=\"data row9 col0\" >2020-07-09 00:00:00</td>\n",
              "                        <td id=\"T_1cb5ce74_c620_11ea_8786_847bebfdef03row9_col1\" class=\"data row9 col1\" >15</td>\n",
              "                        <td id=\"T_1cb5ce74_c620_11ea_8786_847bebfdef03row9_col2\" class=\"data row9 col2\" >1392</td>\n",
              "                        <td id=\"T_1cb5ce74_c620_11ea_8786_847bebfdef03row9_col3\" class=\"data row9 col3\" >73</td>\n",
              "                        <td id=\"T_1cb5ce74_c620_11ea_8786_847bebfdef03row9_col4\" class=\"data row9 col4\" >1038</td>\n",
              "                        <td id=\"T_1cb5ce74_c620_11ea_8786_847bebfdef03row9_col5\" class=\"data row9 col5\" >850</td>\n",
              "                        <td id=\"T_1cb5ce74_c620_11ea_8786_847bebfdef03row9_col6\" class=\"data row9 col6\" >5</td>\n",
              "            </tr>\n",
              "            <tr>\n",
              "                        <th id=\"T_1cb5ce74_c620_11ea_8786_847bebfdef03level0_row10\" class=\"row_heading level0 row10\" >99</th>\n",
              "                        <td id=\"T_1cb5ce74_c620_11ea_8786_847bebfdef03row10_col0\" class=\"data row10 col0\" >2020-07-10 00:00:00</td>\n",
              "                        <td id=\"T_1cb5ce74_c620_11ea_8786_847bebfdef03row10_col1\" class=\"data row10 col1\" >18</td>\n",
              "                        <td id=\"T_1cb5ce74_c620_11ea_8786_847bebfdef03row10_col2\" class=\"data row10 col2\" >1410</td>\n",
              "                        <td id=\"T_1cb5ce74_c620_11ea_8786_847bebfdef03row10_col3\" class=\"data row10 col3\" >74</td>\n",
              "                        <td id=\"T_1cb5ce74_c620_11ea_8786_847bebfdef03row10_col4\" class=\"data row10 col4\" >1055</td>\n",
              "                        <td id=\"T_1cb5ce74_c620_11ea_8786_847bebfdef03row10_col5\" class=\"data row10 col5\" >855</td>\n",
              "                        <td id=\"T_1cb5ce74_c620_11ea_8786_847bebfdef03row10_col6\" class=\"data row10 col6\" >5</td>\n",
              "            </tr>\n",
              "            <tr>\n",
              "                        <th id=\"T_1cb5ce74_c620_11ea_8786_847bebfdef03level0_row11\" class=\"row_heading level0 row11\" >100</th>\n",
              "                        <td id=\"T_1cb5ce74_c620_11ea_8786_847bebfdef03row11_col0\" class=\"data row11 col0\" >2020-07-11 00:00:00</td>\n",
              "                        <td id=\"T_1cb5ce74_c620_11ea_8786_847bebfdef03row11_col1\" class=\"data row11 col1\" >11</td>\n",
              "                        <td id=\"T_1cb5ce74_c620_11ea_8786_847bebfdef03row11_col2\" class=\"data row11 col2\" >1424</td>\n",
              "                        <td id=\"T_1cb5ce74_c620_11ea_8786_847bebfdef03row11_col3\" class=\"data row11 col3\" >74</td>\n",
              "                        <td id=\"T_1cb5ce74_c620_11ea_8786_847bebfdef03row11_col4\" class=\"data row11 col4\" >1073</td>\n",
              "                        <td id=\"T_1cb5ce74_c620_11ea_8786_847bebfdef03row11_col5\" class=\"data row11 col5\" >862</td>\n",
              "                        <td id=\"T_1cb5ce74_c620_11ea_8786_847bebfdef03row11_col6\" class=\"data row11 col6\" >2</td>\n",
              "            </tr>\n",
              "            <tr>\n",
              "                        <th id=\"T_1cb5ce74_c620_11ea_8786_847bebfdef03level0_row12\" class=\"row_heading level0 row12\" >101</th>\n",
              "                        <td id=\"T_1cb5ce74_c620_11ea_8786_847bebfdef03row12_col0\" class=\"data row12 col0\" >2020-07-12 00:00:00</td>\n",
              "                        <td id=\"T_1cb5ce74_c620_11ea_8786_847bebfdef03row12_col1\" class=\"data row12 col1\" >11</td>\n",
              "                        <td id=\"T_1cb5ce74_c620_11ea_8786_847bebfdef03row12_col2\" class=\"data row12 col2\" >1435</td>\n",
              "                        <td id=\"T_1cb5ce74_c620_11ea_8786_847bebfdef03row12_col3\" class=\"data row12 col3\" >74</td>\n",
              "                        <td id=\"T_1cb5ce74_c620_11ea_8786_847bebfdef03row12_col4\" class=\"data row12 col4\" >1085</td>\n",
              "                        <td id=\"T_1cb5ce74_c620_11ea_8786_847bebfdef03row12_col5\" class=\"data row12 col5\" >870</td>\n",
              "                        <td id=\"T_1cb5ce74_c620_11ea_8786_847bebfdef03row12_col6\" class=\"data row12 col6\" >4</td>\n",
              "            </tr>\n",
              "            <tr>\n",
              "                        <th id=\"T_1cb5ce74_c620_11ea_8786_847bebfdef03level0_row13\" class=\"row_heading level0 row13\" >102</th>\n",
              "                        <td id=\"T_1cb5ce74_c620_11ea_8786_847bebfdef03row13_col0\" class=\"data row13 col0\" >2020-07-13 00:00:00</td>\n",
              "                        <td id=\"T_1cb5ce74_c620_11ea_8786_847bebfdef03row13_col1\" class=\"data row13 col1\" >10</td>\n",
              "                        <td id=\"T_1cb5ce74_c620_11ea_8786_847bebfdef03row13_col2\" class=\"data row13 col2\" >1445</td>\n",
              "                        <td id=\"T_1cb5ce74_c620_11ea_8786_847bebfdef03row13_col3\" class=\"data row13 col3\" >74</td>\n",
              "                        <td id=\"T_1cb5ce74_c620_11ea_8786_847bebfdef03row13_col4\" class=\"data row13 col4\" >1100</td>\n",
              "                        <td id=\"T_1cb5ce74_c620_11ea_8786_847bebfdef03row13_col5\" class=\"data row13 col5\" >877</td>\n",
              "                        <td id=\"T_1cb5ce74_c620_11ea_8786_847bebfdef03row13_col6\" class=\"data row13 col6\" >4</td>\n",
              "            </tr>\n",
              "    </tbody></table>"
            ],
            "text/plain": [
              "<pandas.io.formats.style.Styler at 0x24edd5117c8>"
            ]
          },
          "metadata": {
            "tags": []
          },
          "execution_count": 29
        }
      ]
    },
    {
      "cell_type": "markdown",
      "metadata": {
        "id": "quFVqYxacw6Z",
        "colab_type": "text"
      },
      "source": [
        "* Creating new feature \"Active\" \n",
        "* Active = Confirmed - Deaths - Recovered"
      ]
    },
    {
      "cell_type": "code",
      "metadata": {
        "id": "dd7dItJCcw6a",
        "colab_type": "code",
        "colab": {},
        "outputId": "b28c7211-8cbe-468f-90fb-232de24bac34"
      },
      "source": [
        "#Total cases of carona in Breves\n",
        "###df_breves['Total Cases'] = df_breves['Recovered'] + df_breves['Deaths'] + df_breves['Confirmed']\n",
        "###Active cases of carona in Breves\n",
        "df_breves['Active Cases'] = df_breves['Confirmed'] - df_breves['Recovered'] - df_breves['Deaths']\n",
        "df_breves.tail().style.background_gradient(cmap='Blues')"
      ],
      "execution_count": null,
      "outputs": [
        {
          "output_type": "execute_result",
          "data": {
            "text/html": [
              "<style  type=\"text/css\" >\n",
              "    #T_20850b50_c620_11ea_a0a0_847bebfdef03row0_col1 {\n",
              "            background-color:  #4191c6;\n",
              "            color:  #000000;\n",
              "        }    #T_20850b50_c620_11ea_a0a0_847bebfdef03row0_col2 {\n",
              "            background-color:  #f7fbff;\n",
              "            color:  #000000;\n",
              "        }    #T_20850b50_c620_11ea_a0a0_847bebfdef03row0_col3 {\n",
              "            background-color:  #f7fbff;\n",
              "            color:  #000000;\n",
              "        }    #T_20850b50_c620_11ea_a0a0_847bebfdef03row0_col4 {\n",
              "            background-color:  #f7fbff;\n",
              "            color:  #000000;\n",
              "        }    #T_20850b50_c620_11ea_a0a0_847bebfdef03row0_col5 {\n",
              "            background-color:  #f7fbff;\n",
              "            color:  #000000;\n",
              "        }    #T_20850b50_c620_11ea_a0a0_847bebfdef03row0_col6 {\n",
              "            background-color:  #08306b;\n",
              "            color:  #f1f1f1;\n",
              "        }    #T_20850b50_c620_11ea_a0a0_847bebfdef03row0_col7 {\n",
              "            background-color:  #08306b;\n",
              "            color:  #f1f1f1;\n",
              "        }    #T_20850b50_c620_11ea_a0a0_847bebfdef03row1_col1 {\n",
              "            background-color:  #08306b;\n",
              "            color:  #f1f1f1;\n",
              "        }    #T_20850b50_c620_11ea_a0a0_847bebfdef03row1_col2 {\n",
              "            background-color:  #aacfe5;\n",
              "            color:  #000000;\n",
              "        }    #T_20850b50_c620_11ea_a0a0_847bebfdef03row1_col3 {\n",
              "            background-color:  #08306b;\n",
              "            color:  #f1f1f1;\n",
              "        }    #T_20850b50_c620_11ea_a0a0_847bebfdef03row1_col4 {\n",
              "            background-color:  #bed8ec;\n",
              "            color:  #000000;\n",
              "        }    #T_20850b50_c620_11ea_a0a0_847bebfdef03row1_col5 {\n",
              "            background-color:  #d3e3f3;\n",
              "            color:  #000000;\n",
              "        }    #T_20850b50_c620_11ea_a0a0_847bebfdef03row1_col6 {\n",
              "            background-color:  #08306b;\n",
              "            color:  #f1f1f1;\n",
              "        }    #T_20850b50_c620_11ea_a0a0_847bebfdef03row1_col7 {\n",
              "            background-color:  #08306b;\n",
              "            color:  #f1f1f1;\n",
              "        }    #T_20850b50_c620_11ea_a0a0_847bebfdef03row2_col1 {\n",
              "            background-color:  #deebf7;\n",
              "            color:  #000000;\n",
              "        }    #T_20850b50_c620_11ea_a0a0_847bebfdef03row2_col2 {\n",
              "            background-color:  #4997c9;\n",
              "            color:  #000000;\n",
              "        }    #T_20850b50_c620_11ea_a0a0_847bebfdef03row2_col3 {\n",
              "            background-color:  #08306b;\n",
              "            color:  #f1f1f1;\n",
              "        }    #T_20850b50_c620_11ea_a0a0_847bebfdef03row2_col4 {\n",
              "            background-color:  #56a0ce;\n",
              "            color:  #000000;\n",
              "        }    #T_20850b50_c620_11ea_a0a0_847bebfdef03row2_col5 {\n",
              "            background-color:  #82bbdb;\n",
              "            color:  #000000;\n",
              "        }    #T_20850b50_c620_11ea_a0a0_847bebfdef03row2_col6 {\n",
              "            background-color:  #f7fbff;\n",
              "            color:  #000000;\n",
              "        }    #T_20850b50_c620_11ea_a0a0_847bebfdef03row2_col7 {\n",
              "            background-color:  #4a98c9;\n",
              "            color:  #000000;\n",
              "        }    #T_20850b50_c620_11ea_a0a0_847bebfdef03row3_col1 {\n",
              "            background-color:  #deebf7;\n",
              "            color:  #000000;\n",
              "        }    #T_20850b50_c620_11ea_a0a0_847bebfdef03row3_col2 {\n",
              "            background-color:  #1561a9;\n",
              "            color:  #f1f1f1;\n",
              "        }    #T_20850b50_c620_11ea_a0a0_847bebfdef03row3_col3 {\n",
              "            background-color:  #08306b;\n",
              "            color:  #f1f1f1;\n",
              "        }    #T_20850b50_c620_11ea_a0a0_847bebfdef03row3_col4 {\n",
              "            background-color:  #1f6eb3;\n",
              "            color:  #f1f1f1;\n",
              "        }    #T_20850b50_c620_11ea_a0a0_847bebfdef03row3_col5 {\n",
              "            background-color:  #2373b6;\n",
              "            color:  #f1f1f1;\n",
              "        }    #T_20850b50_c620_11ea_a0a0_847bebfdef03row3_col6 {\n",
              "            background-color:  #3787c0;\n",
              "            color:  #000000;\n",
              "        }    #T_20850b50_c620_11ea_a0a0_847bebfdef03row3_col7 {\n",
              "            background-color:  #6aaed6;\n",
              "            color:  #000000;\n",
              "        }    #T_20850b50_c620_11ea_a0a0_847bebfdef03row4_col1 {\n",
              "            background-color:  #f7fbff;\n",
              "            color:  #000000;\n",
              "        }    #T_20850b50_c620_11ea_a0a0_847bebfdef03row4_col2 {\n",
              "            background-color:  #08306b;\n",
              "            color:  #f1f1f1;\n",
              "        }    #T_20850b50_c620_11ea_a0a0_847bebfdef03row4_col3 {\n",
              "            background-color:  #08306b;\n",
              "            color:  #f1f1f1;\n",
              "        }    #T_20850b50_c620_11ea_a0a0_847bebfdef03row4_col4 {\n",
              "            background-color:  #08306b;\n",
              "            color:  #f1f1f1;\n",
              "        }    #T_20850b50_c620_11ea_a0a0_847bebfdef03row4_col5 {\n",
              "            background-color:  #08306b;\n",
              "            color:  #f1f1f1;\n",
              "        }    #T_20850b50_c620_11ea_a0a0_847bebfdef03row4_col6 {\n",
              "            background-color:  #3787c0;\n",
              "            color:  #000000;\n",
              "        }    #T_20850b50_c620_11ea_a0a0_847bebfdef03row4_col7 {\n",
              "            background-color:  #f7fbff;\n",
              "            color:  #000000;\n",
              "        }</style><table id=\"T_20850b50_c620_11ea_a0a0_847bebfdef03\" ><thead>    <tr>        <th class=\"blank level0\" ></th>        <th class=\"col_heading level0 col0\" >Date</th>        <th class=\"col_heading level0 col1\" >Daily Cases</th>        <th class=\"col_heading level0 col2\" >Confirmed</th>        <th class=\"col_heading level0 col3\" >Deaths</th>        <th class=\"col_heading level0 col4\" >Recovered</th>        <th class=\"col_heading level0 col5\" >Discarded</th>        <th class=\"col_heading level0 col6\" >Analyze</th>        <th class=\"col_heading level0 col7\" >Active Cases</th>    </tr></thead><tbody>\n",
              "                <tr>\n",
              "                        <th id=\"T_20850b50_c620_11ea_a0a0_847bebfdef03level0_row0\" class=\"row_heading level0 row0\" >98</th>\n",
              "                        <td id=\"T_20850b50_c620_11ea_a0a0_847bebfdef03row0_col0\" class=\"data row0 col0\" >2020-07-09 00:00:00</td>\n",
              "                        <td id=\"T_20850b50_c620_11ea_a0a0_847bebfdef03row0_col1\" class=\"data row0 col1\" >15</td>\n",
              "                        <td id=\"T_20850b50_c620_11ea_a0a0_847bebfdef03row0_col2\" class=\"data row0 col2\" >1392</td>\n",
              "                        <td id=\"T_20850b50_c620_11ea_a0a0_847bebfdef03row0_col3\" class=\"data row0 col3\" >73</td>\n",
              "                        <td id=\"T_20850b50_c620_11ea_a0a0_847bebfdef03row0_col4\" class=\"data row0 col4\" >1038</td>\n",
              "                        <td id=\"T_20850b50_c620_11ea_a0a0_847bebfdef03row0_col5\" class=\"data row0 col5\" >850</td>\n",
              "                        <td id=\"T_20850b50_c620_11ea_a0a0_847bebfdef03row0_col6\" class=\"data row0 col6\" >5</td>\n",
              "                        <td id=\"T_20850b50_c620_11ea_a0a0_847bebfdef03row0_col7\" class=\"data row0 col7\" >281</td>\n",
              "            </tr>\n",
              "            <tr>\n",
              "                        <th id=\"T_20850b50_c620_11ea_a0a0_847bebfdef03level0_row1\" class=\"row_heading level0 row1\" >99</th>\n",
              "                        <td id=\"T_20850b50_c620_11ea_a0a0_847bebfdef03row1_col0\" class=\"data row1 col0\" >2020-07-10 00:00:00</td>\n",
              "                        <td id=\"T_20850b50_c620_11ea_a0a0_847bebfdef03row1_col1\" class=\"data row1 col1\" >18</td>\n",
              "                        <td id=\"T_20850b50_c620_11ea_a0a0_847bebfdef03row1_col2\" class=\"data row1 col2\" >1410</td>\n",
              "                        <td id=\"T_20850b50_c620_11ea_a0a0_847bebfdef03row1_col3\" class=\"data row1 col3\" >74</td>\n",
              "                        <td id=\"T_20850b50_c620_11ea_a0a0_847bebfdef03row1_col4\" class=\"data row1 col4\" >1055</td>\n",
              "                        <td id=\"T_20850b50_c620_11ea_a0a0_847bebfdef03row1_col5\" class=\"data row1 col5\" >855</td>\n",
              "                        <td id=\"T_20850b50_c620_11ea_a0a0_847bebfdef03row1_col6\" class=\"data row1 col6\" >5</td>\n",
              "                        <td id=\"T_20850b50_c620_11ea_a0a0_847bebfdef03row1_col7\" class=\"data row1 col7\" >281</td>\n",
              "            </tr>\n",
              "            <tr>\n",
              "                        <th id=\"T_20850b50_c620_11ea_a0a0_847bebfdef03level0_row2\" class=\"row_heading level0 row2\" >100</th>\n",
              "                        <td id=\"T_20850b50_c620_11ea_a0a0_847bebfdef03row2_col0\" class=\"data row2 col0\" >2020-07-11 00:00:00</td>\n",
              "                        <td id=\"T_20850b50_c620_11ea_a0a0_847bebfdef03row2_col1\" class=\"data row2 col1\" >11</td>\n",
              "                        <td id=\"T_20850b50_c620_11ea_a0a0_847bebfdef03row2_col2\" class=\"data row2 col2\" >1424</td>\n",
              "                        <td id=\"T_20850b50_c620_11ea_a0a0_847bebfdef03row2_col3\" class=\"data row2 col3\" >74</td>\n",
              "                        <td id=\"T_20850b50_c620_11ea_a0a0_847bebfdef03row2_col4\" class=\"data row2 col4\" >1073</td>\n",
              "                        <td id=\"T_20850b50_c620_11ea_a0a0_847bebfdef03row2_col5\" class=\"data row2 col5\" >862</td>\n",
              "                        <td id=\"T_20850b50_c620_11ea_a0a0_847bebfdef03row2_col6\" class=\"data row2 col6\" >2</td>\n",
              "                        <td id=\"T_20850b50_c620_11ea_a0a0_847bebfdef03row2_col7\" class=\"data row2 col7\" >277</td>\n",
              "            </tr>\n",
              "            <tr>\n",
              "                        <th id=\"T_20850b50_c620_11ea_a0a0_847bebfdef03level0_row3\" class=\"row_heading level0 row3\" >101</th>\n",
              "                        <td id=\"T_20850b50_c620_11ea_a0a0_847bebfdef03row3_col0\" class=\"data row3 col0\" >2020-07-12 00:00:00</td>\n",
              "                        <td id=\"T_20850b50_c620_11ea_a0a0_847bebfdef03row3_col1\" class=\"data row3 col1\" >11</td>\n",
              "                        <td id=\"T_20850b50_c620_11ea_a0a0_847bebfdef03row3_col2\" class=\"data row3 col2\" >1435</td>\n",
              "                        <td id=\"T_20850b50_c620_11ea_a0a0_847bebfdef03row3_col3\" class=\"data row3 col3\" >74</td>\n",
              "                        <td id=\"T_20850b50_c620_11ea_a0a0_847bebfdef03row3_col4\" class=\"data row3 col4\" >1085</td>\n",
              "                        <td id=\"T_20850b50_c620_11ea_a0a0_847bebfdef03row3_col5\" class=\"data row3 col5\" >870</td>\n",
              "                        <td id=\"T_20850b50_c620_11ea_a0a0_847bebfdef03row3_col6\" class=\"data row3 col6\" >4</td>\n",
              "                        <td id=\"T_20850b50_c620_11ea_a0a0_847bebfdef03row3_col7\" class=\"data row3 col7\" >276</td>\n",
              "            </tr>\n",
              "            <tr>\n",
              "                        <th id=\"T_20850b50_c620_11ea_a0a0_847bebfdef03level0_row4\" class=\"row_heading level0 row4\" >102</th>\n",
              "                        <td id=\"T_20850b50_c620_11ea_a0a0_847bebfdef03row4_col0\" class=\"data row4 col0\" >2020-07-13 00:00:00</td>\n",
              "                        <td id=\"T_20850b50_c620_11ea_a0a0_847bebfdef03row4_col1\" class=\"data row4 col1\" >10</td>\n",
              "                        <td id=\"T_20850b50_c620_11ea_a0a0_847bebfdef03row4_col2\" class=\"data row4 col2\" >1445</td>\n",
              "                        <td id=\"T_20850b50_c620_11ea_a0a0_847bebfdef03row4_col3\" class=\"data row4 col3\" >74</td>\n",
              "                        <td id=\"T_20850b50_c620_11ea_a0a0_847bebfdef03row4_col4\" class=\"data row4 col4\" >1100</td>\n",
              "                        <td id=\"T_20850b50_c620_11ea_a0a0_847bebfdef03row4_col5\" class=\"data row4 col5\" >877</td>\n",
              "                        <td id=\"T_20850b50_c620_11ea_a0a0_847bebfdef03row4_col6\" class=\"data row4 col6\" >4</td>\n",
              "                        <td id=\"T_20850b50_c620_11ea_a0a0_847bebfdef03row4_col7\" class=\"data row4 col7\" >271</td>\n",
              "            </tr>\n",
              "    </tbody></table>"
            ],
            "text/plain": [
              "<pandas.io.formats.style.Styler at 0x24edd5333c8>"
            ]
          },
          "metadata": {
            "tags": []
          },
          "execution_count": 30
        }
      ]
    },
    {
      "cell_type": "markdown",
      "metadata": {
        "id": "G-m5LGxRcw6d",
        "colab_type": "text"
      },
      "source": [
        "### 2 - VISUALIZAÇÃO GRÁFICA "
      ]
    },
    {
      "cell_type": "code",
      "metadata": {
        "id": "4ztA2eVocw6f",
        "colab_type": "code",
        "colab": {},
        "outputId": "1869b81e-b8d7-4f83-bbf1-5dc361eff55e"
      },
      "source": [
        "carona_data = df_breves.groupby(['Date'])['Active Cases','Recovered'].sum().reset_index()\n",
        "labels = ['Active Cases','Recovered']\n",
        "values = [carona_data['Active Cases'].iloc[-1], carona_data['Recovered'].iloc[-1]]\n",
        "# Use `hole` to create a donut-like pie chart\n",
        "fig = go.Figure(data=[go.Pie(labels=labels, values=values, hole=.3)])\n",
        "fig.update_traces(hoverinfo='label+percent', textinfo='value',textfont_size=15,\n",
        "                  marker=dict(colors=['#ff3300','#00ff00'], line=dict(color='#FFFFFF', width=2.5)))\n",
        "fig.update_layout(\n",
        "    title='COVID-19 ACTIVE CASES VS RECOVERED')\n",
        "fig.show()"
      ],
      "execution_count": null,
      "outputs": [
        {
          "output_type": "display_data",
          "data": {
            "application/vnd.plotly.v1+json": {
              "config": {
                "plotlyServerURL": "https://plot.ly"
              },
              "data": [
                {
                  "hole": 0.3,
                  "hoverinfo": "label+percent",
                  "labels": [
                    "Active Cases",
                    "Recovered"
                  ],
                  "marker": {
                    "colors": [
                      "#ff3300",
                      "#00ff00"
                    ],
                    "line": {
                      "color": "#FFFFFF",
                      "width": 2.5
                    }
                  },
                  "textfont": {
                    "size": 15
                  },
                  "textinfo": "value",
                  "type": "pie",
                  "values": [
                    271,
                    1100
                  ]
                }
              ],
              "layout": {
                "template": {
                  "data": {
                    "bar": [
                      {
                        "error_x": {
                          "color": "#2a3f5f"
                        },
                        "error_y": {
                          "color": "#2a3f5f"
                        },
                        "marker": {
                          "line": {
                            "color": "#E5ECF6",
                            "width": 0.5
                          }
                        },
                        "type": "bar"
                      }
                    ],
                    "barpolar": [
                      {
                        "marker": {
                          "line": {
                            "color": "#E5ECF6",
                            "width": 0.5
                          }
                        },
                        "type": "barpolar"
                      }
                    ],
                    "carpet": [
                      {
                        "aaxis": {
                          "endlinecolor": "#2a3f5f",
                          "gridcolor": "white",
                          "linecolor": "white",
                          "minorgridcolor": "white",
                          "startlinecolor": "#2a3f5f"
                        },
                        "baxis": {
                          "endlinecolor": "#2a3f5f",
                          "gridcolor": "white",
                          "linecolor": "white",
                          "minorgridcolor": "white",
                          "startlinecolor": "#2a3f5f"
                        },
                        "type": "carpet"
                      }
                    ],
                    "choropleth": [
                      {
                        "colorbar": {
                          "outlinewidth": 0,
                          "ticks": ""
                        },
                        "type": "choropleth"
                      }
                    ],
                    "contour": [
                      {
                        "colorbar": {
                          "outlinewidth": 0,
                          "ticks": ""
                        },
                        "colorscale": [
                          [
                            0,
                            "#0d0887"
                          ],
                          [
                            0.1111111111111111,
                            "#46039f"
                          ],
                          [
                            0.2222222222222222,
                            "#7201a8"
                          ],
                          [
                            0.3333333333333333,
                            "#9c179e"
                          ],
                          [
                            0.4444444444444444,
                            "#bd3786"
                          ],
                          [
                            0.5555555555555556,
                            "#d8576b"
                          ],
                          [
                            0.6666666666666666,
                            "#ed7953"
                          ],
                          [
                            0.7777777777777778,
                            "#fb9f3a"
                          ],
                          [
                            0.8888888888888888,
                            "#fdca26"
                          ],
                          [
                            1,
                            "#f0f921"
                          ]
                        ],
                        "type": "contour"
                      }
                    ],
                    "contourcarpet": [
                      {
                        "colorbar": {
                          "outlinewidth": 0,
                          "ticks": ""
                        },
                        "type": "contourcarpet"
                      }
                    ],
                    "heatmap": [
                      {
                        "colorbar": {
                          "outlinewidth": 0,
                          "ticks": ""
                        },
                        "colorscale": [
                          [
                            0,
                            "#0d0887"
                          ],
                          [
                            0.1111111111111111,
                            "#46039f"
                          ],
                          [
                            0.2222222222222222,
                            "#7201a8"
                          ],
                          [
                            0.3333333333333333,
                            "#9c179e"
                          ],
                          [
                            0.4444444444444444,
                            "#bd3786"
                          ],
                          [
                            0.5555555555555556,
                            "#d8576b"
                          ],
                          [
                            0.6666666666666666,
                            "#ed7953"
                          ],
                          [
                            0.7777777777777778,
                            "#fb9f3a"
                          ],
                          [
                            0.8888888888888888,
                            "#fdca26"
                          ],
                          [
                            1,
                            "#f0f921"
                          ]
                        ],
                        "type": "heatmap"
                      }
                    ],
                    "heatmapgl": [
                      {
                        "colorbar": {
                          "outlinewidth": 0,
                          "ticks": ""
                        },
                        "colorscale": [
                          [
                            0,
                            "#0d0887"
                          ],
                          [
                            0.1111111111111111,
                            "#46039f"
                          ],
                          [
                            0.2222222222222222,
                            "#7201a8"
                          ],
                          [
                            0.3333333333333333,
                            "#9c179e"
                          ],
                          [
                            0.4444444444444444,
                            "#bd3786"
                          ],
                          [
                            0.5555555555555556,
                            "#d8576b"
                          ],
                          [
                            0.6666666666666666,
                            "#ed7953"
                          ],
                          [
                            0.7777777777777778,
                            "#fb9f3a"
                          ],
                          [
                            0.8888888888888888,
                            "#fdca26"
                          ],
                          [
                            1,
                            "#f0f921"
                          ]
                        ],
                        "type": "heatmapgl"
                      }
                    ],
                    "histogram": [
                      {
                        "marker": {
                          "colorbar": {
                            "outlinewidth": 0,
                            "ticks": ""
                          }
                        },
                        "type": "histogram"
                      }
                    ],
                    "histogram2d": [
                      {
                        "colorbar": {
                          "outlinewidth": 0,
                          "ticks": ""
                        },
                        "colorscale": [
                          [
                            0,
                            "#0d0887"
                          ],
                          [
                            0.1111111111111111,
                            "#46039f"
                          ],
                          [
                            0.2222222222222222,
                            "#7201a8"
                          ],
                          [
                            0.3333333333333333,
                            "#9c179e"
                          ],
                          [
                            0.4444444444444444,
                            "#bd3786"
                          ],
                          [
                            0.5555555555555556,
                            "#d8576b"
                          ],
                          [
                            0.6666666666666666,
                            "#ed7953"
                          ],
                          [
                            0.7777777777777778,
                            "#fb9f3a"
                          ],
                          [
                            0.8888888888888888,
                            "#fdca26"
                          ],
                          [
                            1,
                            "#f0f921"
                          ]
                        ],
                        "type": "histogram2d"
                      }
                    ],
                    "histogram2dcontour": [
                      {
                        "colorbar": {
                          "outlinewidth": 0,
                          "ticks": ""
                        },
                        "colorscale": [
                          [
                            0,
                            "#0d0887"
                          ],
                          [
                            0.1111111111111111,
                            "#46039f"
                          ],
                          [
                            0.2222222222222222,
                            "#7201a8"
                          ],
                          [
                            0.3333333333333333,
                            "#9c179e"
                          ],
                          [
                            0.4444444444444444,
                            "#bd3786"
                          ],
                          [
                            0.5555555555555556,
                            "#d8576b"
                          ],
                          [
                            0.6666666666666666,
                            "#ed7953"
                          ],
                          [
                            0.7777777777777778,
                            "#fb9f3a"
                          ],
                          [
                            0.8888888888888888,
                            "#fdca26"
                          ],
                          [
                            1,
                            "#f0f921"
                          ]
                        ],
                        "type": "histogram2dcontour"
                      }
                    ],
                    "mesh3d": [
                      {
                        "colorbar": {
                          "outlinewidth": 0,
                          "ticks": ""
                        },
                        "type": "mesh3d"
                      }
                    ],
                    "parcoords": [
                      {
                        "line": {
                          "colorbar": {
                            "outlinewidth": 0,
                            "ticks": ""
                          }
                        },
                        "type": "parcoords"
                      }
                    ],
                    "pie": [
                      {
                        "automargin": true,
                        "type": "pie"
                      }
                    ],
                    "scatter": [
                      {
                        "marker": {
                          "colorbar": {
                            "outlinewidth": 0,
                            "ticks": ""
                          }
                        },
                        "type": "scatter"
                      }
                    ],
                    "scatter3d": [
                      {
                        "line": {
                          "colorbar": {
                            "outlinewidth": 0,
                            "ticks": ""
                          }
                        },
                        "marker": {
                          "colorbar": {
                            "outlinewidth": 0,
                            "ticks": ""
                          }
                        },
                        "type": "scatter3d"
                      }
                    ],
                    "scattercarpet": [
                      {
                        "marker": {
                          "colorbar": {
                            "outlinewidth": 0,
                            "ticks": ""
                          }
                        },
                        "type": "scattercarpet"
                      }
                    ],
                    "scattergeo": [
                      {
                        "marker": {
                          "colorbar": {
                            "outlinewidth": 0,
                            "ticks": ""
                          }
                        },
                        "type": "scattergeo"
                      }
                    ],
                    "scattergl": [
                      {
                        "marker": {
                          "colorbar": {
                            "outlinewidth": 0,
                            "ticks": ""
                          }
                        },
                        "type": "scattergl"
                      }
                    ],
                    "scattermapbox": [
                      {
                        "marker": {
                          "colorbar": {
                            "outlinewidth": 0,
                            "ticks": ""
                          }
                        },
                        "type": "scattermapbox"
                      }
                    ],
                    "scatterpolar": [
                      {
                        "marker": {
                          "colorbar": {
                            "outlinewidth": 0,
                            "ticks": ""
                          }
                        },
                        "type": "scatterpolar"
                      }
                    ],
                    "scatterpolargl": [
                      {
                        "marker": {
                          "colorbar": {
                            "outlinewidth": 0,
                            "ticks": ""
                          }
                        },
                        "type": "scatterpolargl"
                      }
                    ],
                    "scatterternary": [
                      {
                        "marker": {
                          "colorbar": {
                            "outlinewidth": 0,
                            "ticks": ""
                          }
                        },
                        "type": "scatterternary"
                      }
                    ],
                    "surface": [
                      {
                        "colorbar": {
                          "outlinewidth": 0,
                          "ticks": ""
                        },
                        "colorscale": [
                          [
                            0,
                            "#0d0887"
                          ],
                          [
                            0.1111111111111111,
                            "#46039f"
                          ],
                          [
                            0.2222222222222222,
                            "#7201a8"
                          ],
                          [
                            0.3333333333333333,
                            "#9c179e"
                          ],
                          [
                            0.4444444444444444,
                            "#bd3786"
                          ],
                          [
                            0.5555555555555556,
                            "#d8576b"
                          ],
                          [
                            0.6666666666666666,
                            "#ed7953"
                          ],
                          [
                            0.7777777777777778,
                            "#fb9f3a"
                          ],
                          [
                            0.8888888888888888,
                            "#fdca26"
                          ],
                          [
                            1,
                            "#f0f921"
                          ]
                        ],
                        "type": "surface"
                      }
                    ],
                    "table": [
                      {
                        "cells": {
                          "fill": {
                            "color": "#EBF0F8"
                          },
                          "line": {
                            "color": "white"
                          }
                        },
                        "header": {
                          "fill": {
                            "color": "#C8D4E3"
                          },
                          "line": {
                            "color": "white"
                          }
                        },
                        "type": "table"
                      }
                    ]
                  },
                  "layout": {
                    "annotationdefaults": {
                      "arrowcolor": "#2a3f5f",
                      "arrowhead": 0,
                      "arrowwidth": 1
                    },
                    "coloraxis": {
                      "colorbar": {
                        "outlinewidth": 0,
                        "ticks": ""
                      }
                    },
                    "colorscale": {
                      "diverging": [
                        [
                          0,
                          "#8e0152"
                        ],
                        [
                          0.1,
                          "#c51b7d"
                        ],
                        [
                          0.2,
                          "#de77ae"
                        ],
                        [
                          0.3,
                          "#f1b6da"
                        ],
                        [
                          0.4,
                          "#fde0ef"
                        ],
                        [
                          0.5,
                          "#f7f7f7"
                        ],
                        [
                          0.6,
                          "#e6f5d0"
                        ],
                        [
                          0.7,
                          "#b8e186"
                        ],
                        [
                          0.8,
                          "#7fbc41"
                        ],
                        [
                          0.9,
                          "#4d9221"
                        ],
                        [
                          1,
                          "#276419"
                        ]
                      ],
                      "sequential": [
                        [
                          0,
                          "#0d0887"
                        ],
                        [
                          0.1111111111111111,
                          "#46039f"
                        ],
                        [
                          0.2222222222222222,
                          "#7201a8"
                        ],
                        [
                          0.3333333333333333,
                          "#9c179e"
                        ],
                        [
                          0.4444444444444444,
                          "#bd3786"
                        ],
                        [
                          0.5555555555555556,
                          "#d8576b"
                        ],
                        [
                          0.6666666666666666,
                          "#ed7953"
                        ],
                        [
                          0.7777777777777778,
                          "#fb9f3a"
                        ],
                        [
                          0.8888888888888888,
                          "#fdca26"
                        ],
                        [
                          1,
                          "#f0f921"
                        ]
                      ],
                      "sequentialminus": [
                        [
                          0,
                          "#0d0887"
                        ],
                        [
                          0.1111111111111111,
                          "#46039f"
                        ],
                        [
                          0.2222222222222222,
                          "#7201a8"
                        ],
                        [
                          0.3333333333333333,
                          "#9c179e"
                        ],
                        [
                          0.4444444444444444,
                          "#bd3786"
                        ],
                        [
                          0.5555555555555556,
                          "#d8576b"
                        ],
                        [
                          0.6666666666666666,
                          "#ed7953"
                        ],
                        [
                          0.7777777777777778,
                          "#fb9f3a"
                        ],
                        [
                          0.8888888888888888,
                          "#fdca26"
                        ],
                        [
                          1,
                          "#f0f921"
                        ]
                      ]
                    },
                    "colorway": [
                      "#636efa",
                      "#EF553B",
                      "#00cc96",
                      "#ab63fa",
                      "#FFA15A",
                      "#19d3f3",
                      "#FF6692",
                      "#B6E880",
                      "#FF97FF",
                      "#FECB52"
                    ],
                    "font": {
                      "color": "#2a3f5f"
                    },
                    "geo": {
                      "bgcolor": "white",
                      "lakecolor": "white",
                      "landcolor": "#E5ECF6",
                      "showlakes": true,
                      "showland": true,
                      "subunitcolor": "white"
                    },
                    "hoverlabel": {
                      "align": "left"
                    },
                    "hovermode": "closest",
                    "mapbox": {
                      "style": "light"
                    },
                    "paper_bgcolor": "white",
                    "plot_bgcolor": "#E5ECF6",
                    "polar": {
                      "angularaxis": {
                        "gridcolor": "white",
                        "linecolor": "white",
                        "ticks": ""
                      },
                      "bgcolor": "#E5ECF6",
                      "radialaxis": {
                        "gridcolor": "white",
                        "linecolor": "white",
                        "ticks": ""
                      }
                    },
                    "scene": {
                      "xaxis": {
                        "backgroundcolor": "#E5ECF6",
                        "gridcolor": "white",
                        "gridwidth": 2,
                        "linecolor": "white",
                        "showbackground": true,
                        "ticks": "",
                        "zerolinecolor": "white"
                      },
                      "yaxis": {
                        "backgroundcolor": "#E5ECF6",
                        "gridcolor": "white",
                        "gridwidth": 2,
                        "linecolor": "white",
                        "showbackground": true,
                        "ticks": "",
                        "zerolinecolor": "white"
                      },
                      "zaxis": {
                        "backgroundcolor": "#E5ECF6",
                        "gridcolor": "white",
                        "gridwidth": 2,
                        "linecolor": "white",
                        "showbackground": true,
                        "ticks": "",
                        "zerolinecolor": "white"
                      }
                    },
                    "shapedefaults": {
                      "line": {
                        "color": "#2a3f5f"
                      }
                    },
                    "ternary": {
                      "aaxis": {
                        "gridcolor": "white",
                        "linecolor": "white",
                        "ticks": ""
                      },
                      "baxis": {
                        "gridcolor": "white",
                        "linecolor": "white",
                        "ticks": ""
                      },
                      "bgcolor": "#E5ECF6",
                      "caxis": {
                        "gridcolor": "white",
                        "linecolor": "white",
                        "ticks": ""
                      }
                    },
                    "title": {
                      "x": 0.05
                    },
                    "xaxis": {
                      "automargin": true,
                      "gridcolor": "white",
                      "linecolor": "white",
                      "ticks": "",
                      "title": {
                        "standoff": 15
                      },
                      "zerolinecolor": "white",
                      "zerolinewidth": 2
                    },
                    "yaxis": {
                      "automargin": true,
                      "gridcolor": "white",
                      "linecolor": "white",
                      "ticks": "",
                      "title": {
                        "standoff": 15
                      },
                      "zerolinecolor": "white",
                      "zerolinewidth": 2
                    }
                  }
                },
                "title": {
                  "text": "COVID-19 ACTIVE CASES VS RECOVERED"
                }
              }
            },
            "text/html": [
              "<div>\n",
              "        \n",
              "        \n",
              "            <div id=\"95815304-9255-46ad-b2b9-1d6391d2d7ca\" class=\"plotly-graph-div\" style=\"height:525px; width:100%;\"></div>\n",
              "            <script type=\"text/javascript\">\n",
              "                require([\"plotly\"], function(Plotly) {\n",
              "                    window.PLOTLYENV=window.PLOTLYENV || {};\n",
              "                    \n",
              "                if (document.getElementById(\"95815304-9255-46ad-b2b9-1d6391d2d7ca\")) {\n",
              "                    Plotly.newPlot(\n",
              "                        '95815304-9255-46ad-b2b9-1d6391d2d7ca',\n",
              "                        [{\"hole\": 0.3, \"hoverinfo\": \"label+percent\", \"labels\": [\"Active Cases\", \"Recovered\"], \"marker\": {\"colors\": [\"#ff3300\", \"#00ff00\"], \"line\": {\"color\": \"#FFFFFF\", \"width\": 2.5}}, \"textfont\": {\"size\": 15}, \"textinfo\": \"value\", \"type\": \"pie\", \"values\": [271, 1100]}],\n",
              "                        {\"template\": {\"data\": {\"bar\": [{\"error_x\": {\"color\": \"#2a3f5f\"}, \"error_y\": {\"color\": \"#2a3f5f\"}, \"marker\": {\"line\": {\"color\": \"#E5ECF6\", \"width\": 0.5}}, \"type\": \"bar\"}], \"barpolar\": [{\"marker\": {\"line\": {\"color\": \"#E5ECF6\", \"width\": 0.5}}, \"type\": \"barpolar\"}], \"carpet\": [{\"aaxis\": {\"endlinecolor\": \"#2a3f5f\", \"gridcolor\": \"white\", \"linecolor\": \"white\", \"minorgridcolor\": \"white\", \"startlinecolor\": \"#2a3f5f\"}, \"baxis\": {\"endlinecolor\": \"#2a3f5f\", \"gridcolor\": \"white\", \"linecolor\": \"white\", \"minorgridcolor\": \"white\", \"startlinecolor\": \"#2a3f5f\"}, \"type\": \"carpet\"}], \"choropleth\": [{\"colorbar\": {\"outlinewidth\": 0, \"ticks\": \"\"}, \"type\": \"choropleth\"}], \"contour\": [{\"colorbar\": {\"outlinewidth\": 0, \"ticks\": \"\"}, \"colorscale\": [[0.0, \"#0d0887\"], [0.1111111111111111, \"#46039f\"], [0.2222222222222222, \"#7201a8\"], [0.3333333333333333, \"#9c179e\"], [0.4444444444444444, \"#bd3786\"], [0.5555555555555556, \"#d8576b\"], [0.6666666666666666, \"#ed7953\"], [0.7777777777777778, \"#fb9f3a\"], [0.8888888888888888, \"#fdca26\"], [1.0, \"#f0f921\"]], \"type\": \"contour\"}], \"contourcarpet\": [{\"colorbar\": {\"outlinewidth\": 0, \"ticks\": \"\"}, \"type\": \"contourcarpet\"}], \"heatmap\": [{\"colorbar\": {\"outlinewidth\": 0, \"ticks\": \"\"}, \"colorscale\": [[0.0, \"#0d0887\"], [0.1111111111111111, \"#46039f\"], [0.2222222222222222, \"#7201a8\"], [0.3333333333333333, \"#9c179e\"], [0.4444444444444444, \"#bd3786\"], [0.5555555555555556, \"#d8576b\"], [0.6666666666666666, \"#ed7953\"], [0.7777777777777778, \"#fb9f3a\"], [0.8888888888888888, \"#fdca26\"], [1.0, \"#f0f921\"]], \"type\": \"heatmap\"}], \"heatmapgl\": [{\"colorbar\": {\"outlinewidth\": 0, \"ticks\": \"\"}, \"colorscale\": [[0.0, \"#0d0887\"], [0.1111111111111111, \"#46039f\"], [0.2222222222222222, \"#7201a8\"], [0.3333333333333333, \"#9c179e\"], [0.4444444444444444, \"#bd3786\"], [0.5555555555555556, \"#d8576b\"], [0.6666666666666666, \"#ed7953\"], [0.7777777777777778, \"#fb9f3a\"], [0.8888888888888888, \"#fdca26\"], [1.0, \"#f0f921\"]], \"type\": \"heatmapgl\"}], \"histogram\": [{\"marker\": {\"colorbar\": {\"outlinewidth\": 0, \"ticks\": \"\"}}, \"type\": \"histogram\"}], \"histogram2d\": [{\"colorbar\": {\"outlinewidth\": 0, \"ticks\": \"\"}, \"colorscale\": [[0.0, \"#0d0887\"], [0.1111111111111111, \"#46039f\"], [0.2222222222222222, \"#7201a8\"], [0.3333333333333333, \"#9c179e\"], [0.4444444444444444, \"#bd3786\"], [0.5555555555555556, \"#d8576b\"], [0.6666666666666666, \"#ed7953\"], [0.7777777777777778, \"#fb9f3a\"], [0.8888888888888888, \"#fdca26\"], [1.0, \"#f0f921\"]], \"type\": \"histogram2d\"}], \"histogram2dcontour\": [{\"colorbar\": {\"outlinewidth\": 0, \"ticks\": \"\"}, \"colorscale\": [[0.0, \"#0d0887\"], [0.1111111111111111, \"#46039f\"], [0.2222222222222222, \"#7201a8\"], [0.3333333333333333, \"#9c179e\"], [0.4444444444444444, \"#bd3786\"], [0.5555555555555556, \"#d8576b\"], [0.6666666666666666, \"#ed7953\"], [0.7777777777777778, \"#fb9f3a\"], [0.8888888888888888, \"#fdca26\"], [1.0, \"#f0f921\"]], \"type\": \"histogram2dcontour\"}], \"mesh3d\": [{\"colorbar\": {\"outlinewidth\": 0, \"ticks\": \"\"}, \"type\": \"mesh3d\"}], \"parcoords\": [{\"line\": {\"colorbar\": {\"outlinewidth\": 0, \"ticks\": \"\"}}, \"type\": \"parcoords\"}], \"pie\": [{\"automargin\": true, \"type\": \"pie\"}], \"scatter\": [{\"marker\": {\"colorbar\": {\"outlinewidth\": 0, \"ticks\": \"\"}}, \"type\": \"scatter\"}], \"scatter3d\": [{\"line\": {\"colorbar\": {\"outlinewidth\": 0, \"ticks\": \"\"}}, \"marker\": {\"colorbar\": {\"outlinewidth\": 0, \"ticks\": \"\"}}, \"type\": \"scatter3d\"}], \"scattercarpet\": [{\"marker\": {\"colorbar\": {\"outlinewidth\": 0, \"ticks\": \"\"}}, \"type\": \"scattercarpet\"}], \"scattergeo\": [{\"marker\": {\"colorbar\": {\"outlinewidth\": 0, \"ticks\": \"\"}}, \"type\": \"scattergeo\"}], \"scattergl\": [{\"marker\": {\"colorbar\": {\"outlinewidth\": 0, \"ticks\": \"\"}}, \"type\": \"scattergl\"}], \"scattermapbox\": [{\"marker\": {\"colorbar\": {\"outlinewidth\": 0, \"ticks\": \"\"}}, \"type\": \"scattermapbox\"}], \"scatterpolar\": [{\"marker\": {\"colorbar\": {\"outlinewidth\": 0, \"ticks\": \"\"}}, \"type\": \"scatterpolar\"}], \"scatterpolargl\": [{\"marker\": {\"colorbar\": {\"outlinewidth\": 0, \"ticks\": \"\"}}, \"type\": \"scatterpolargl\"}], \"scatterternary\": [{\"marker\": {\"colorbar\": {\"outlinewidth\": 0, \"ticks\": \"\"}}, \"type\": \"scatterternary\"}], \"surface\": [{\"colorbar\": {\"outlinewidth\": 0, \"ticks\": \"\"}, \"colorscale\": [[0.0, \"#0d0887\"], [0.1111111111111111, \"#46039f\"], [0.2222222222222222, \"#7201a8\"], [0.3333333333333333, \"#9c179e\"], [0.4444444444444444, \"#bd3786\"], [0.5555555555555556, \"#d8576b\"], [0.6666666666666666, \"#ed7953\"], [0.7777777777777778, \"#fb9f3a\"], [0.8888888888888888, \"#fdca26\"], [1.0, \"#f0f921\"]], \"type\": \"surface\"}], \"table\": [{\"cells\": {\"fill\": {\"color\": \"#EBF0F8\"}, \"line\": {\"color\": \"white\"}}, \"header\": {\"fill\": {\"color\": \"#C8D4E3\"}, \"line\": {\"color\": \"white\"}}, \"type\": \"table\"}]}, \"layout\": {\"annotationdefaults\": {\"arrowcolor\": \"#2a3f5f\", \"arrowhead\": 0, \"arrowwidth\": 1}, \"coloraxis\": {\"colorbar\": {\"outlinewidth\": 0, \"ticks\": \"\"}}, \"colorscale\": {\"diverging\": [[0, \"#8e0152\"], [0.1, \"#c51b7d\"], [0.2, \"#de77ae\"], [0.3, \"#f1b6da\"], [0.4, \"#fde0ef\"], [0.5, \"#f7f7f7\"], [0.6, \"#e6f5d0\"], [0.7, \"#b8e186\"], [0.8, \"#7fbc41\"], [0.9, \"#4d9221\"], [1, \"#276419\"]], \"sequential\": [[0.0, \"#0d0887\"], [0.1111111111111111, \"#46039f\"], [0.2222222222222222, \"#7201a8\"], [0.3333333333333333, \"#9c179e\"], [0.4444444444444444, \"#bd3786\"], [0.5555555555555556, \"#d8576b\"], [0.6666666666666666, \"#ed7953\"], [0.7777777777777778, \"#fb9f3a\"], [0.8888888888888888, \"#fdca26\"], [1.0, \"#f0f921\"]], \"sequentialminus\": [[0.0, \"#0d0887\"], [0.1111111111111111, \"#46039f\"], [0.2222222222222222, \"#7201a8\"], [0.3333333333333333, \"#9c179e\"], [0.4444444444444444, \"#bd3786\"], [0.5555555555555556, \"#d8576b\"], [0.6666666666666666, \"#ed7953\"], [0.7777777777777778, \"#fb9f3a\"], [0.8888888888888888, \"#fdca26\"], [1.0, \"#f0f921\"]]}, \"colorway\": [\"#636efa\", \"#EF553B\", \"#00cc96\", \"#ab63fa\", \"#FFA15A\", \"#19d3f3\", \"#FF6692\", \"#B6E880\", \"#FF97FF\", \"#FECB52\"], \"font\": {\"color\": \"#2a3f5f\"}, \"geo\": {\"bgcolor\": \"white\", \"lakecolor\": \"white\", \"landcolor\": \"#E5ECF6\", \"showlakes\": true, \"showland\": true, \"subunitcolor\": \"white\"}, \"hoverlabel\": {\"align\": \"left\"}, \"hovermode\": \"closest\", \"mapbox\": {\"style\": \"light\"}, \"paper_bgcolor\": \"white\", \"plot_bgcolor\": \"#E5ECF6\", \"polar\": {\"angularaxis\": {\"gridcolor\": \"white\", \"linecolor\": \"white\", \"ticks\": \"\"}, \"bgcolor\": \"#E5ECF6\", \"radialaxis\": {\"gridcolor\": \"white\", \"linecolor\": \"white\", \"ticks\": \"\"}}, \"scene\": {\"xaxis\": {\"backgroundcolor\": \"#E5ECF6\", \"gridcolor\": \"white\", \"gridwidth\": 2, \"linecolor\": \"white\", \"showbackground\": true, \"ticks\": \"\", \"zerolinecolor\": \"white\"}, \"yaxis\": {\"backgroundcolor\": \"#E5ECF6\", \"gridcolor\": \"white\", \"gridwidth\": 2, \"linecolor\": \"white\", \"showbackground\": true, \"ticks\": \"\", \"zerolinecolor\": \"white\"}, \"zaxis\": {\"backgroundcolor\": \"#E5ECF6\", \"gridcolor\": \"white\", \"gridwidth\": 2, \"linecolor\": \"white\", \"showbackground\": true, \"ticks\": \"\", \"zerolinecolor\": \"white\"}}, \"shapedefaults\": {\"line\": {\"color\": \"#2a3f5f\"}}, \"ternary\": {\"aaxis\": {\"gridcolor\": \"white\", \"linecolor\": \"white\", \"ticks\": \"\"}, \"baxis\": {\"gridcolor\": \"white\", \"linecolor\": \"white\", \"ticks\": \"\"}, \"bgcolor\": \"#E5ECF6\", \"caxis\": {\"gridcolor\": \"white\", \"linecolor\": \"white\", \"ticks\": \"\"}}, \"title\": {\"x\": 0.05}, \"xaxis\": {\"automargin\": true, \"gridcolor\": \"white\", \"linecolor\": \"white\", \"ticks\": \"\", \"title\": {\"standoff\": 15}, \"zerolinecolor\": \"white\", \"zerolinewidth\": 2}, \"yaxis\": {\"automargin\": true, \"gridcolor\": \"white\", \"linecolor\": \"white\", \"ticks\": \"\", \"title\": {\"standoff\": 15}, \"zerolinecolor\": \"white\", \"zerolinewidth\": 2}}}, \"title\": {\"text\": \"COVID-19 ACTIVE CASES VS RECOVERED\"}},\n",
              "                        {\"responsive\": true}\n",
              "                    ).then(function(){\n",
              "                            \n",
              "var gd = document.getElementById('95815304-9255-46ad-b2b9-1d6391d2d7ca');\n",
              "var x = new MutationObserver(function (mutations, observer) {{\n",
              "        var display = window.getComputedStyle(gd).display;\n",
              "        if (!display || display === 'none') {{\n",
              "            console.log([gd, 'removed!']);\n",
              "            Plotly.purge(gd);\n",
              "            observer.disconnect();\n",
              "        }}\n",
              "}});\n",
              "\n",
              "// Listen for the removal of the full notebook cells\n",
              "var notebookContainer = gd.closest('#notebook-container');\n",
              "if (notebookContainer) {{\n",
              "    x.observe(notebookContainer, {childList: true});\n",
              "}}\n",
              "\n",
              "// Listen for the clearing of the current output cell\n",
              "var outputEl = gd.closest('.output');\n",
              "if (outputEl) {{\n",
              "    x.observe(outputEl, {childList: true});\n",
              "}}\n",
              "\n",
              "                        })\n",
              "                };\n",
              "                });\n",
              "            </script>\n",
              "        </div>"
            ]
          },
          "metadata": {
            "tags": []
          }
        }
      ]
    },
    {
      "cell_type": "code",
      "metadata": {
        "id": "r2717Hgkcw6k",
        "colab_type": "code",
        "colab": {},
        "outputId": "9ee7e8c5-964c-49d4-b8e2-94fa926bc98c"
      },
      "source": [
        "#ax = df_breves['Confirmed'].diff(1).plot()\n",
        "#df_breves['Confirmed'].diff(1).rolling(7).mean().plot(ax=ax, label='7 Day Average')\n",
        "#carona_data['Daily Cases_mean'] = carona_data['Confirmed'].diff(1).rolling(7).mean()\n",
        "#Daily Cases in Breves Datewise\n",
        "carona_data = df_breves.groupby(['Date'])['Confirmed'].sum().reset_index().sort_values('Confirmed',ascending = True)\n",
        "carona_data['Daily Cases'] = carona_data['Confirmed'].sub(carona_data['Confirmed'].shift())\n",
        "carona_data['Daily Cases'].iloc[0] = carona_data['Confirmed'].iloc[0]\n",
        "carona_data['Daily Cases'] = carona_data['Daily Cases'].astype(int)\n",
        "fig = px.bar(carona_data, y='Daily Cases', x='Date',hover_data =['Daily Cases'], color='Daily Cases', height=500)\n",
        "fig.update_layout(\n",
        "    title='Daily Cases in Breves Datewise')\n",
        "fig.show()"
      ],
      "execution_count": null,
      "outputs": [
        {
          "output_type": "display_data",
          "data": {
            "application/vnd.plotly.v1+json": {
              "config": {
                "plotlyServerURL": "https://plot.ly"
              },
              "data": [
                {
                  "alignmentgroup": "True",
                  "customdata": [
                    [
                      0
                    ],
                    [
                      0
                    ],
                    [
                      0
                    ],
                    [
                      0
                    ],
                    [
                      0
                    ],
                    [
                      0
                    ],
                    [
                      0
                    ],
                    [
                      0
                    ],
                    [
                      0
                    ],
                    [
                      0
                    ],
                    [
                      0
                    ],
                    [
                      0
                    ],
                    [
                      0
                    ],
                    [
                      0
                    ],
                    [
                      0
                    ],
                    [
                      0
                    ],
                    [
                      2
                    ],
                    [
                      0
                    ],
                    [
                      0
                    ],
                    [
                      0
                    ],
                    [
                      5
                    ],
                    [
                      2
                    ],
                    [
                      4
                    ],
                    [
                      0
                    ],
                    [
                      4
                    ],
                    [
                      10
                    ],
                    [
                      5
                    ],
                    [
                      5
                    ],
                    [
                      16
                    ],
                    [
                      14
                    ],
                    [
                      7
                    ],
                    [
                      16
                    ],
                    [
                      16
                    ],
                    [
                      10
                    ],
                    [
                      26
                    ],
                    [
                      8
                    ],
                    [
                      24
                    ],
                    [
                      30
                    ],
                    [
                      18
                    ],
                    [
                      20
                    ],
                    [
                      30
                    ],
                    [
                      23
                    ],
                    [
                      23
                    ],
                    [
                      14
                    ],
                    [
                      14
                    ],
                    [
                      28
                    ],
                    [
                      12
                    ],
                    [
                      21
                    ],
                    [
                      14
                    ],
                    [
                      4
                    ],
                    [
                      11
                    ],
                    [
                      8
                    ],
                    [
                      3
                    ],
                    [
                      12
                    ],
                    [
                      15
                    ],
                    [
                      10
                    ],
                    [
                      4
                    ],
                    [
                      8
                    ],
                    [
                      17
                    ],
                    [
                      10
                    ],
                    [
                      14
                    ],
                    [
                      14
                    ],
                    [
                      16
                    ],
                    [
                      18
                    ],
                    [
                      44
                    ],
                    [
                      24
                    ],
                    [
                      39
                    ],
                    [
                      17
                    ],
                    [
                      32
                    ],
                    [
                      23
                    ],
                    [
                      18
                    ],
                    [
                      12
                    ],
                    [
                      11
                    ],
                    [
                      15
                    ],
                    [
                      43
                    ],
                    [
                      22
                    ],
                    [
                      22
                    ],
                    [
                      12
                    ],
                    [
                      14
                    ],
                    [
                      14
                    ],
                    [
                      19
                    ],
                    [
                      49
                    ],
                    [
                      75
                    ],
                    [
                      35
                    ],
                    [
                      33
                    ],
                    [
                      20
                    ],
                    [
                      16
                    ],
                    [
                      14
                    ],
                    [
                      22
                    ],
                    [
                      21
                    ],
                    [
                      22
                    ],
                    [
                      22
                    ],
                    [
                      23
                    ],
                    [
                      18
                    ],
                    [
                      11
                    ],
                    [
                      8
                    ],
                    [
                      9
                    ],
                    [
                      13
                    ],
                    [
                      15
                    ],
                    [
                      18
                    ],
                    [
                      14
                    ],
                    [
                      11
                    ],
                    [
                      10
                    ]
                  ],
                  "hovertemplate": "Date=%{x}<br>Daily Cases=%{marker.color}<extra></extra>",
                  "legendgroup": "",
                  "marker": {
                    "color": [
                      0,
                      0,
                      0,
                      0,
                      0,
                      0,
                      0,
                      0,
                      0,
                      0,
                      0,
                      0,
                      0,
                      0,
                      0,
                      0,
                      2,
                      0,
                      0,
                      0,
                      5,
                      2,
                      4,
                      0,
                      4,
                      10,
                      5,
                      5,
                      16,
                      14,
                      7,
                      16,
                      16,
                      10,
                      26,
                      8,
                      24,
                      30,
                      18,
                      20,
                      30,
                      23,
                      23,
                      14,
                      14,
                      28,
                      12,
                      21,
                      14,
                      4,
                      11,
                      8,
                      3,
                      12,
                      15,
                      10,
                      4,
                      8,
                      17,
                      10,
                      14,
                      14,
                      16,
                      18,
                      44,
                      24,
                      39,
                      17,
                      32,
                      23,
                      18,
                      12,
                      11,
                      15,
                      43,
                      22,
                      22,
                      12,
                      14,
                      14,
                      19,
                      49,
                      75,
                      35,
                      33,
                      20,
                      16,
                      14,
                      22,
                      21,
                      22,
                      22,
                      23,
                      18,
                      11,
                      8,
                      9,
                      13,
                      15,
                      18,
                      14,
                      11,
                      10
                    ],
                    "coloraxis": "coloraxis"
                  },
                  "name": "",
                  "offsetgroup": "",
                  "orientation": "v",
                  "showlegend": false,
                  "textposition": "auto",
                  "type": "bar",
                  "x": [
                    "2020-04-02T00:00:00",
                    "2020-04-17T00:00:00",
                    "2020-04-16T00:00:00",
                    "2020-04-15T00:00:00",
                    "2020-04-13T00:00:00",
                    "2020-04-12T00:00:00",
                    "2020-04-11T00:00:00",
                    "2020-04-10T00:00:00",
                    "2020-04-14T00:00:00",
                    "2020-04-08T00:00:00",
                    "2020-04-07T00:00:00",
                    "2020-04-06T00:00:00",
                    "2020-04-05T00:00:00",
                    "2020-04-04T00:00:00",
                    "2020-04-03T00:00:00",
                    "2020-04-09T00:00:00",
                    "2020-04-18T00:00:00",
                    "2020-04-19T00:00:00",
                    "2020-04-20T00:00:00",
                    "2020-04-21T00:00:00",
                    "2020-04-22T00:00:00",
                    "2020-04-23T00:00:00",
                    "2020-04-25T00:00:00",
                    "2020-04-24T00:00:00",
                    "2020-04-26T00:00:00",
                    "2020-04-27T00:00:00",
                    "2020-04-28T00:00:00",
                    "2020-04-29T00:00:00",
                    "2020-04-30T00:00:00",
                    "2020-05-01T00:00:00",
                    "2020-05-02T00:00:00",
                    "2020-05-03T00:00:00",
                    "2020-05-04T00:00:00",
                    "2020-05-05T00:00:00",
                    "2020-05-06T00:00:00",
                    "2020-05-07T00:00:00",
                    "2020-05-08T00:00:00",
                    "2020-05-09T00:00:00",
                    "2020-05-10T00:00:00",
                    "2020-05-11T00:00:00",
                    "2020-05-12T00:00:00",
                    "2020-05-13T00:00:00",
                    "2020-05-14T00:00:00",
                    "2020-05-15T00:00:00",
                    "2020-05-16T00:00:00",
                    "2020-05-17T00:00:00",
                    "2020-05-18T00:00:00",
                    "2020-05-19T00:00:00",
                    "2020-05-20T00:00:00",
                    "2020-05-21T00:00:00",
                    "2020-05-22T00:00:00",
                    "2020-05-23T00:00:00",
                    "2020-05-24T00:00:00",
                    "2020-05-25T00:00:00",
                    "2020-05-26T00:00:00",
                    "2020-05-27T00:00:00",
                    "2020-05-28T00:00:00",
                    "2020-05-29T00:00:00",
                    "2020-05-30T00:00:00",
                    "2020-05-31T00:00:00",
                    "2020-06-01T00:00:00",
                    "2020-06-02T00:00:00",
                    "2020-06-03T00:00:00",
                    "2020-06-04T00:00:00",
                    "2020-06-05T00:00:00",
                    "2020-06-06T00:00:00",
                    "2020-06-07T00:00:00",
                    "2020-06-08T00:00:00",
                    "2020-06-09T00:00:00",
                    "2020-06-10T00:00:00",
                    "2020-06-11T00:00:00",
                    "2020-06-12T00:00:00",
                    "2020-06-13T00:00:00",
                    "2020-06-14T00:00:00",
                    "2020-06-15T00:00:00",
                    "2020-06-16T00:00:00",
                    "2020-06-17T00:00:00",
                    "2020-06-18T00:00:00",
                    "2020-06-19T00:00:00",
                    "2020-06-20T00:00:00",
                    "2020-06-21T00:00:00",
                    "2020-06-22T00:00:00",
                    "2020-06-23T00:00:00",
                    "2020-06-24T00:00:00",
                    "2020-06-25T00:00:00",
                    "2020-06-26T00:00:00",
                    "2020-06-27T00:00:00",
                    "2020-06-28T00:00:00",
                    "2020-06-29T00:00:00",
                    "2020-06-30T00:00:00",
                    "2020-07-01T00:00:00",
                    "2020-07-02T00:00:00",
                    "2020-07-03T00:00:00",
                    "2020-07-04T00:00:00",
                    "2020-07-05T00:00:00",
                    "2020-07-06T00:00:00",
                    "2020-07-07T00:00:00",
                    "2020-07-08T00:00:00",
                    "2020-07-09T00:00:00",
                    "2020-07-10T00:00:00",
                    "2020-07-11T00:00:00",
                    "2020-07-12T00:00:00",
                    "2020-07-13T00:00:00"
                  ],
                  "xaxis": "x",
                  "y": [
                    0,
                    0,
                    0,
                    0,
                    0,
                    0,
                    0,
                    0,
                    0,
                    0,
                    0,
                    0,
                    0,
                    0,
                    0,
                    0,
                    2,
                    0,
                    0,
                    0,
                    5,
                    2,
                    4,
                    0,
                    4,
                    10,
                    5,
                    5,
                    16,
                    14,
                    7,
                    16,
                    16,
                    10,
                    26,
                    8,
                    24,
                    30,
                    18,
                    20,
                    30,
                    23,
                    23,
                    14,
                    14,
                    28,
                    12,
                    21,
                    14,
                    4,
                    11,
                    8,
                    3,
                    12,
                    15,
                    10,
                    4,
                    8,
                    17,
                    10,
                    14,
                    14,
                    16,
                    18,
                    44,
                    24,
                    39,
                    17,
                    32,
                    23,
                    18,
                    12,
                    11,
                    15,
                    43,
                    22,
                    22,
                    12,
                    14,
                    14,
                    19,
                    49,
                    75,
                    35,
                    33,
                    20,
                    16,
                    14,
                    22,
                    21,
                    22,
                    22,
                    23,
                    18,
                    11,
                    8,
                    9,
                    13,
                    15,
                    18,
                    14,
                    11,
                    10
                  ],
                  "yaxis": "y"
                }
              ],
              "layout": {
                "barmode": "relative",
                "coloraxis": {
                  "colorbar": {
                    "title": {
                      "text": "Daily Cases"
                    }
                  },
                  "colorscale": [
                    [
                      0,
                      "#0d0887"
                    ],
                    [
                      0.1111111111111111,
                      "#46039f"
                    ],
                    [
                      0.2222222222222222,
                      "#7201a8"
                    ],
                    [
                      0.3333333333333333,
                      "#9c179e"
                    ],
                    [
                      0.4444444444444444,
                      "#bd3786"
                    ],
                    [
                      0.5555555555555556,
                      "#d8576b"
                    ],
                    [
                      0.6666666666666666,
                      "#ed7953"
                    ],
                    [
                      0.7777777777777778,
                      "#fb9f3a"
                    ],
                    [
                      0.8888888888888888,
                      "#fdca26"
                    ],
                    [
                      1,
                      "#f0f921"
                    ]
                  ]
                },
                "height": 500,
                "legend": {
                  "tracegroupgap": 0
                },
                "margin": {
                  "t": 60
                },
                "template": {
                  "data": {
                    "bar": [
                      {
                        "error_x": {
                          "color": "#2a3f5f"
                        },
                        "error_y": {
                          "color": "#2a3f5f"
                        },
                        "marker": {
                          "line": {
                            "color": "#E5ECF6",
                            "width": 0.5
                          }
                        },
                        "type": "bar"
                      }
                    ],
                    "barpolar": [
                      {
                        "marker": {
                          "line": {
                            "color": "#E5ECF6",
                            "width": 0.5
                          }
                        },
                        "type": "barpolar"
                      }
                    ],
                    "carpet": [
                      {
                        "aaxis": {
                          "endlinecolor": "#2a3f5f",
                          "gridcolor": "white",
                          "linecolor": "white",
                          "minorgridcolor": "white",
                          "startlinecolor": "#2a3f5f"
                        },
                        "baxis": {
                          "endlinecolor": "#2a3f5f",
                          "gridcolor": "white",
                          "linecolor": "white",
                          "minorgridcolor": "white",
                          "startlinecolor": "#2a3f5f"
                        },
                        "type": "carpet"
                      }
                    ],
                    "choropleth": [
                      {
                        "colorbar": {
                          "outlinewidth": 0,
                          "ticks": ""
                        },
                        "type": "choropleth"
                      }
                    ],
                    "contour": [
                      {
                        "colorbar": {
                          "outlinewidth": 0,
                          "ticks": ""
                        },
                        "colorscale": [
                          [
                            0,
                            "#0d0887"
                          ],
                          [
                            0.1111111111111111,
                            "#46039f"
                          ],
                          [
                            0.2222222222222222,
                            "#7201a8"
                          ],
                          [
                            0.3333333333333333,
                            "#9c179e"
                          ],
                          [
                            0.4444444444444444,
                            "#bd3786"
                          ],
                          [
                            0.5555555555555556,
                            "#d8576b"
                          ],
                          [
                            0.6666666666666666,
                            "#ed7953"
                          ],
                          [
                            0.7777777777777778,
                            "#fb9f3a"
                          ],
                          [
                            0.8888888888888888,
                            "#fdca26"
                          ],
                          [
                            1,
                            "#f0f921"
                          ]
                        ],
                        "type": "contour"
                      }
                    ],
                    "contourcarpet": [
                      {
                        "colorbar": {
                          "outlinewidth": 0,
                          "ticks": ""
                        },
                        "type": "contourcarpet"
                      }
                    ],
                    "heatmap": [
                      {
                        "colorbar": {
                          "outlinewidth": 0,
                          "ticks": ""
                        },
                        "colorscale": [
                          [
                            0,
                            "#0d0887"
                          ],
                          [
                            0.1111111111111111,
                            "#46039f"
                          ],
                          [
                            0.2222222222222222,
                            "#7201a8"
                          ],
                          [
                            0.3333333333333333,
                            "#9c179e"
                          ],
                          [
                            0.4444444444444444,
                            "#bd3786"
                          ],
                          [
                            0.5555555555555556,
                            "#d8576b"
                          ],
                          [
                            0.6666666666666666,
                            "#ed7953"
                          ],
                          [
                            0.7777777777777778,
                            "#fb9f3a"
                          ],
                          [
                            0.8888888888888888,
                            "#fdca26"
                          ],
                          [
                            1,
                            "#f0f921"
                          ]
                        ],
                        "type": "heatmap"
                      }
                    ],
                    "heatmapgl": [
                      {
                        "colorbar": {
                          "outlinewidth": 0,
                          "ticks": ""
                        },
                        "colorscale": [
                          [
                            0,
                            "#0d0887"
                          ],
                          [
                            0.1111111111111111,
                            "#46039f"
                          ],
                          [
                            0.2222222222222222,
                            "#7201a8"
                          ],
                          [
                            0.3333333333333333,
                            "#9c179e"
                          ],
                          [
                            0.4444444444444444,
                            "#bd3786"
                          ],
                          [
                            0.5555555555555556,
                            "#d8576b"
                          ],
                          [
                            0.6666666666666666,
                            "#ed7953"
                          ],
                          [
                            0.7777777777777778,
                            "#fb9f3a"
                          ],
                          [
                            0.8888888888888888,
                            "#fdca26"
                          ],
                          [
                            1,
                            "#f0f921"
                          ]
                        ],
                        "type": "heatmapgl"
                      }
                    ],
                    "histogram": [
                      {
                        "marker": {
                          "colorbar": {
                            "outlinewidth": 0,
                            "ticks": ""
                          }
                        },
                        "type": "histogram"
                      }
                    ],
                    "histogram2d": [
                      {
                        "colorbar": {
                          "outlinewidth": 0,
                          "ticks": ""
                        },
                        "colorscale": [
                          [
                            0,
                            "#0d0887"
                          ],
                          [
                            0.1111111111111111,
                            "#46039f"
                          ],
                          [
                            0.2222222222222222,
                            "#7201a8"
                          ],
                          [
                            0.3333333333333333,
                            "#9c179e"
                          ],
                          [
                            0.4444444444444444,
                            "#bd3786"
                          ],
                          [
                            0.5555555555555556,
                            "#d8576b"
                          ],
                          [
                            0.6666666666666666,
                            "#ed7953"
                          ],
                          [
                            0.7777777777777778,
                            "#fb9f3a"
                          ],
                          [
                            0.8888888888888888,
                            "#fdca26"
                          ],
                          [
                            1,
                            "#f0f921"
                          ]
                        ],
                        "type": "histogram2d"
                      }
                    ],
                    "histogram2dcontour": [
                      {
                        "colorbar": {
                          "outlinewidth": 0,
                          "ticks": ""
                        },
                        "colorscale": [
                          [
                            0,
                            "#0d0887"
                          ],
                          [
                            0.1111111111111111,
                            "#46039f"
                          ],
                          [
                            0.2222222222222222,
                            "#7201a8"
                          ],
                          [
                            0.3333333333333333,
                            "#9c179e"
                          ],
                          [
                            0.4444444444444444,
                            "#bd3786"
                          ],
                          [
                            0.5555555555555556,
                            "#d8576b"
                          ],
                          [
                            0.6666666666666666,
                            "#ed7953"
                          ],
                          [
                            0.7777777777777778,
                            "#fb9f3a"
                          ],
                          [
                            0.8888888888888888,
                            "#fdca26"
                          ],
                          [
                            1,
                            "#f0f921"
                          ]
                        ],
                        "type": "histogram2dcontour"
                      }
                    ],
                    "mesh3d": [
                      {
                        "colorbar": {
                          "outlinewidth": 0,
                          "ticks": ""
                        },
                        "type": "mesh3d"
                      }
                    ],
                    "parcoords": [
                      {
                        "line": {
                          "colorbar": {
                            "outlinewidth": 0,
                            "ticks": ""
                          }
                        },
                        "type": "parcoords"
                      }
                    ],
                    "pie": [
                      {
                        "automargin": true,
                        "type": "pie"
                      }
                    ],
                    "scatter": [
                      {
                        "marker": {
                          "colorbar": {
                            "outlinewidth": 0,
                            "ticks": ""
                          }
                        },
                        "type": "scatter"
                      }
                    ],
                    "scatter3d": [
                      {
                        "line": {
                          "colorbar": {
                            "outlinewidth": 0,
                            "ticks": ""
                          }
                        },
                        "marker": {
                          "colorbar": {
                            "outlinewidth": 0,
                            "ticks": ""
                          }
                        },
                        "type": "scatter3d"
                      }
                    ],
                    "scattercarpet": [
                      {
                        "marker": {
                          "colorbar": {
                            "outlinewidth": 0,
                            "ticks": ""
                          }
                        },
                        "type": "scattercarpet"
                      }
                    ],
                    "scattergeo": [
                      {
                        "marker": {
                          "colorbar": {
                            "outlinewidth": 0,
                            "ticks": ""
                          }
                        },
                        "type": "scattergeo"
                      }
                    ],
                    "scattergl": [
                      {
                        "marker": {
                          "colorbar": {
                            "outlinewidth": 0,
                            "ticks": ""
                          }
                        },
                        "type": "scattergl"
                      }
                    ],
                    "scattermapbox": [
                      {
                        "marker": {
                          "colorbar": {
                            "outlinewidth": 0,
                            "ticks": ""
                          }
                        },
                        "type": "scattermapbox"
                      }
                    ],
                    "scatterpolar": [
                      {
                        "marker": {
                          "colorbar": {
                            "outlinewidth": 0,
                            "ticks": ""
                          }
                        },
                        "type": "scatterpolar"
                      }
                    ],
                    "scatterpolargl": [
                      {
                        "marker": {
                          "colorbar": {
                            "outlinewidth": 0,
                            "ticks": ""
                          }
                        },
                        "type": "scatterpolargl"
                      }
                    ],
                    "scatterternary": [
                      {
                        "marker": {
                          "colorbar": {
                            "outlinewidth": 0,
                            "ticks": ""
                          }
                        },
                        "type": "scatterternary"
                      }
                    ],
                    "surface": [
                      {
                        "colorbar": {
                          "outlinewidth": 0,
                          "ticks": ""
                        },
                        "colorscale": [
                          [
                            0,
                            "#0d0887"
                          ],
                          [
                            0.1111111111111111,
                            "#46039f"
                          ],
                          [
                            0.2222222222222222,
                            "#7201a8"
                          ],
                          [
                            0.3333333333333333,
                            "#9c179e"
                          ],
                          [
                            0.4444444444444444,
                            "#bd3786"
                          ],
                          [
                            0.5555555555555556,
                            "#d8576b"
                          ],
                          [
                            0.6666666666666666,
                            "#ed7953"
                          ],
                          [
                            0.7777777777777778,
                            "#fb9f3a"
                          ],
                          [
                            0.8888888888888888,
                            "#fdca26"
                          ],
                          [
                            1,
                            "#f0f921"
                          ]
                        ],
                        "type": "surface"
                      }
                    ],
                    "table": [
                      {
                        "cells": {
                          "fill": {
                            "color": "#EBF0F8"
                          },
                          "line": {
                            "color": "white"
                          }
                        },
                        "header": {
                          "fill": {
                            "color": "#C8D4E3"
                          },
                          "line": {
                            "color": "white"
                          }
                        },
                        "type": "table"
                      }
                    ]
                  },
                  "layout": {
                    "annotationdefaults": {
                      "arrowcolor": "#2a3f5f",
                      "arrowhead": 0,
                      "arrowwidth": 1
                    },
                    "coloraxis": {
                      "colorbar": {
                        "outlinewidth": 0,
                        "ticks": ""
                      }
                    },
                    "colorscale": {
                      "diverging": [
                        [
                          0,
                          "#8e0152"
                        ],
                        [
                          0.1,
                          "#c51b7d"
                        ],
                        [
                          0.2,
                          "#de77ae"
                        ],
                        [
                          0.3,
                          "#f1b6da"
                        ],
                        [
                          0.4,
                          "#fde0ef"
                        ],
                        [
                          0.5,
                          "#f7f7f7"
                        ],
                        [
                          0.6,
                          "#e6f5d0"
                        ],
                        [
                          0.7,
                          "#b8e186"
                        ],
                        [
                          0.8,
                          "#7fbc41"
                        ],
                        [
                          0.9,
                          "#4d9221"
                        ],
                        [
                          1,
                          "#276419"
                        ]
                      ],
                      "sequential": [
                        [
                          0,
                          "#0d0887"
                        ],
                        [
                          0.1111111111111111,
                          "#46039f"
                        ],
                        [
                          0.2222222222222222,
                          "#7201a8"
                        ],
                        [
                          0.3333333333333333,
                          "#9c179e"
                        ],
                        [
                          0.4444444444444444,
                          "#bd3786"
                        ],
                        [
                          0.5555555555555556,
                          "#d8576b"
                        ],
                        [
                          0.6666666666666666,
                          "#ed7953"
                        ],
                        [
                          0.7777777777777778,
                          "#fb9f3a"
                        ],
                        [
                          0.8888888888888888,
                          "#fdca26"
                        ],
                        [
                          1,
                          "#f0f921"
                        ]
                      ],
                      "sequentialminus": [
                        [
                          0,
                          "#0d0887"
                        ],
                        [
                          0.1111111111111111,
                          "#46039f"
                        ],
                        [
                          0.2222222222222222,
                          "#7201a8"
                        ],
                        [
                          0.3333333333333333,
                          "#9c179e"
                        ],
                        [
                          0.4444444444444444,
                          "#bd3786"
                        ],
                        [
                          0.5555555555555556,
                          "#d8576b"
                        ],
                        [
                          0.6666666666666666,
                          "#ed7953"
                        ],
                        [
                          0.7777777777777778,
                          "#fb9f3a"
                        ],
                        [
                          0.8888888888888888,
                          "#fdca26"
                        ],
                        [
                          1,
                          "#f0f921"
                        ]
                      ]
                    },
                    "colorway": [
                      "#636efa",
                      "#EF553B",
                      "#00cc96",
                      "#ab63fa",
                      "#FFA15A",
                      "#19d3f3",
                      "#FF6692",
                      "#B6E880",
                      "#FF97FF",
                      "#FECB52"
                    ],
                    "font": {
                      "color": "#2a3f5f"
                    },
                    "geo": {
                      "bgcolor": "white",
                      "lakecolor": "white",
                      "landcolor": "#E5ECF6",
                      "showlakes": true,
                      "showland": true,
                      "subunitcolor": "white"
                    },
                    "hoverlabel": {
                      "align": "left"
                    },
                    "hovermode": "closest",
                    "mapbox": {
                      "style": "light"
                    },
                    "paper_bgcolor": "white",
                    "plot_bgcolor": "#E5ECF6",
                    "polar": {
                      "angularaxis": {
                        "gridcolor": "white",
                        "linecolor": "white",
                        "ticks": ""
                      },
                      "bgcolor": "#E5ECF6",
                      "radialaxis": {
                        "gridcolor": "white",
                        "linecolor": "white",
                        "ticks": ""
                      }
                    },
                    "scene": {
                      "xaxis": {
                        "backgroundcolor": "#E5ECF6",
                        "gridcolor": "white",
                        "gridwidth": 2,
                        "linecolor": "white",
                        "showbackground": true,
                        "ticks": "",
                        "zerolinecolor": "white"
                      },
                      "yaxis": {
                        "backgroundcolor": "#E5ECF6",
                        "gridcolor": "white",
                        "gridwidth": 2,
                        "linecolor": "white",
                        "showbackground": true,
                        "ticks": "",
                        "zerolinecolor": "white"
                      },
                      "zaxis": {
                        "backgroundcolor": "#E5ECF6",
                        "gridcolor": "white",
                        "gridwidth": 2,
                        "linecolor": "white",
                        "showbackground": true,
                        "ticks": "",
                        "zerolinecolor": "white"
                      }
                    },
                    "shapedefaults": {
                      "line": {
                        "color": "#2a3f5f"
                      }
                    },
                    "ternary": {
                      "aaxis": {
                        "gridcolor": "white",
                        "linecolor": "white",
                        "ticks": ""
                      },
                      "baxis": {
                        "gridcolor": "white",
                        "linecolor": "white",
                        "ticks": ""
                      },
                      "bgcolor": "#E5ECF6",
                      "caxis": {
                        "gridcolor": "white",
                        "linecolor": "white",
                        "ticks": ""
                      }
                    },
                    "title": {
                      "x": 0.05
                    },
                    "xaxis": {
                      "automargin": true,
                      "gridcolor": "white",
                      "linecolor": "white",
                      "ticks": "",
                      "title": {
                        "standoff": 15
                      },
                      "zerolinecolor": "white",
                      "zerolinewidth": 2
                    },
                    "yaxis": {
                      "automargin": true,
                      "gridcolor": "white",
                      "linecolor": "white",
                      "ticks": "",
                      "title": {
                        "standoff": 15
                      },
                      "zerolinecolor": "white",
                      "zerolinewidth": 2
                    }
                  }
                },
                "title": {
                  "text": "Daily Cases in Breves Datewise"
                },
                "xaxis": {
                  "anchor": "y",
                  "domain": [
                    0,
                    1
                  ],
                  "title": {
                    "text": "Date"
                  }
                },
                "yaxis": {
                  "anchor": "x",
                  "domain": [
                    0,
                    1
                  ],
                  "title": {
                    "text": "Daily Cases"
                  }
                }
              }
            },
            "text/html": [
              "<div>\n",
              "        \n",
              "        \n",
              "            <div id=\"777c50d2-ffdb-4e5e-9867-dee7b8903fa4\" class=\"plotly-graph-div\" style=\"height:500px; width:100%;\"></div>\n",
              "            <script type=\"text/javascript\">\n",
              "                require([\"plotly\"], function(Plotly) {\n",
              "                    window.PLOTLYENV=window.PLOTLYENV || {};\n",
              "                    \n",
              "                if (document.getElementById(\"777c50d2-ffdb-4e5e-9867-dee7b8903fa4\")) {\n",
              "                    Plotly.newPlot(\n",
              "                        '777c50d2-ffdb-4e5e-9867-dee7b8903fa4',\n",
              "                        [{\"alignmentgroup\": \"True\", \"customdata\": [[0], [0], [0], [0], [0], [0], [0], [0], [0], [0], [0], [0], [0], [0], [0], [0], [2], [0], [0], [0], [5], [2], [4], [0], [4], [10], [5], [5], [16], [14], [7], [16], [16], [10], [26], [8], [24], [30], [18], [20], [30], [23], [23], [14], [14], [28], [12], [21], [14], [4], [11], [8], [3], [12], [15], [10], [4], [8], [17], [10], [14], [14], [16], [18], [44], [24], [39], [17], [32], [23], [18], [12], [11], [15], [43], [22], [22], [12], [14], [14], [19], [49], [75], [35], [33], [20], [16], [14], [22], [21], [22], [22], [23], [18], [11], [8], [9], [13], [15], [18], [14], [11], [10]], \"hovertemplate\": \"Date=%{x}<br>Daily Cases=%{marker.color}<extra></extra>\", \"legendgroup\": \"\", \"marker\": {\"color\": [0, 0, 0, 0, 0, 0, 0, 0, 0, 0, 0, 0, 0, 0, 0, 0, 2, 0, 0, 0, 5, 2, 4, 0, 4, 10, 5, 5, 16, 14, 7, 16, 16, 10, 26, 8, 24, 30, 18, 20, 30, 23, 23, 14, 14, 28, 12, 21, 14, 4, 11, 8, 3, 12, 15, 10, 4, 8, 17, 10, 14, 14, 16, 18, 44, 24, 39, 17, 32, 23, 18, 12, 11, 15, 43, 22, 22, 12, 14, 14, 19, 49, 75, 35, 33, 20, 16, 14, 22, 21, 22, 22, 23, 18, 11, 8, 9, 13, 15, 18, 14, 11, 10], \"coloraxis\": \"coloraxis\"}, \"name\": \"\", \"offsetgroup\": \"\", \"orientation\": \"v\", \"showlegend\": false, \"textposition\": \"auto\", \"type\": \"bar\", \"x\": [\"2020-04-02T00:00:00\", \"2020-04-17T00:00:00\", \"2020-04-16T00:00:00\", \"2020-04-15T00:00:00\", \"2020-04-13T00:00:00\", \"2020-04-12T00:00:00\", \"2020-04-11T00:00:00\", \"2020-04-10T00:00:00\", \"2020-04-14T00:00:00\", \"2020-04-08T00:00:00\", \"2020-04-07T00:00:00\", \"2020-04-06T00:00:00\", \"2020-04-05T00:00:00\", \"2020-04-04T00:00:00\", \"2020-04-03T00:00:00\", \"2020-04-09T00:00:00\", \"2020-04-18T00:00:00\", \"2020-04-19T00:00:00\", \"2020-04-20T00:00:00\", \"2020-04-21T00:00:00\", \"2020-04-22T00:00:00\", \"2020-04-23T00:00:00\", \"2020-04-25T00:00:00\", \"2020-04-24T00:00:00\", \"2020-04-26T00:00:00\", \"2020-04-27T00:00:00\", \"2020-04-28T00:00:00\", \"2020-04-29T00:00:00\", \"2020-04-30T00:00:00\", \"2020-05-01T00:00:00\", \"2020-05-02T00:00:00\", \"2020-05-03T00:00:00\", \"2020-05-04T00:00:00\", \"2020-05-05T00:00:00\", \"2020-05-06T00:00:00\", \"2020-05-07T00:00:00\", \"2020-05-08T00:00:00\", \"2020-05-09T00:00:00\", \"2020-05-10T00:00:00\", \"2020-05-11T00:00:00\", \"2020-05-12T00:00:00\", \"2020-05-13T00:00:00\", \"2020-05-14T00:00:00\", \"2020-05-15T00:00:00\", \"2020-05-16T00:00:00\", \"2020-05-17T00:00:00\", \"2020-05-18T00:00:00\", \"2020-05-19T00:00:00\", \"2020-05-20T00:00:00\", \"2020-05-21T00:00:00\", \"2020-05-22T00:00:00\", \"2020-05-23T00:00:00\", \"2020-05-24T00:00:00\", \"2020-05-25T00:00:00\", \"2020-05-26T00:00:00\", \"2020-05-27T00:00:00\", \"2020-05-28T00:00:00\", \"2020-05-29T00:00:00\", \"2020-05-30T00:00:00\", \"2020-05-31T00:00:00\", \"2020-06-01T00:00:00\", \"2020-06-02T00:00:00\", \"2020-06-03T00:00:00\", \"2020-06-04T00:00:00\", \"2020-06-05T00:00:00\", \"2020-06-06T00:00:00\", \"2020-06-07T00:00:00\", \"2020-06-08T00:00:00\", \"2020-06-09T00:00:00\", \"2020-06-10T00:00:00\", \"2020-06-11T00:00:00\", \"2020-06-12T00:00:00\", \"2020-06-13T00:00:00\", \"2020-06-14T00:00:00\", \"2020-06-15T00:00:00\", \"2020-06-16T00:00:00\", \"2020-06-17T00:00:00\", \"2020-06-18T00:00:00\", \"2020-06-19T00:00:00\", \"2020-06-20T00:00:00\", \"2020-06-21T00:00:00\", \"2020-06-22T00:00:00\", \"2020-06-23T00:00:00\", \"2020-06-24T00:00:00\", \"2020-06-25T00:00:00\", \"2020-06-26T00:00:00\", \"2020-06-27T00:00:00\", \"2020-06-28T00:00:00\", \"2020-06-29T00:00:00\", \"2020-06-30T00:00:00\", \"2020-07-01T00:00:00\", \"2020-07-02T00:00:00\", \"2020-07-03T00:00:00\", \"2020-07-04T00:00:00\", \"2020-07-05T00:00:00\", \"2020-07-06T00:00:00\", \"2020-07-07T00:00:00\", \"2020-07-08T00:00:00\", \"2020-07-09T00:00:00\", \"2020-07-10T00:00:00\", \"2020-07-11T00:00:00\", \"2020-07-12T00:00:00\", \"2020-07-13T00:00:00\"], \"xaxis\": \"x\", \"y\": [0, 0, 0, 0, 0, 0, 0, 0, 0, 0, 0, 0, 0, 0, 0, 0, 2, 0, 0, 0, 5, 2, 4, 0, 4, 10, 5, 5, 16, 14, 7, 16, 16, 10, 26, 8, 24, 30, 18, 20, 30, 23, 23, 14, 14, 28, 12, 21, 14, 4, 11, 8, 3, 12, 15, 10, 4, 8, 17, 10, 14, 14, 16, 18, 44, 24, 39, 17, 32, 23, 18, 12, 11, 15, 43, 22, 22, 12, 14, 14, 19, 49, 75, 35, 33, 20, 16, 14, 22, 21, 22, 22, 23, 18, 11, 8, 9, 13, 15, 18, 14, 11, 10], \"yaxis\": \"y\"}],\n",
              "                        {\"barmode\": \"relative\", \"coloraxis\": {\"colorbar\": {\"title\": {\"text\": \"Daily Cases\"}}, \"colorscale\": [[0.0, \"#0d0887\"], [0.1111111111111111, \"#46039f\"], [0.2222222222222222, \"#7201a8\"], [0.3333333333333333, \"#9c179e\"], [0.4444444444444444, \"#bd3786\"], [0.5555555555555556, \"#d8576b\"], [0.6666666666666666, \"#ed7953\"], [0.7777777777777778, \"#fb9f3a\"], [0.8888888888888888, \"#fdca26\"], [1.0, \"#f0f921\"]]}, \"height\": 500, \"legend\": {\"tracegroupgap\": 0}, \"margin\": {\"t\": 60}, \"template\": {\"data\": {\"bar\": [{\"error_x\": {\"color\": \"#2a3f5f\"}, \"error_y\": {\"color\": \"#2a3f5f\"}, \"marker\": {\"line\": {\"color\": \"#E5ECF6\", \"width\": 0.5}}, \"type\": \"bar\"}], \"barpolar\": [{\"marker\": {\"line\": {\"color\": \"#E5ECF6\", \"width\": 0.5}}, \"type\": \"barpolar\"}], \"carpet\": [{\"aaxis\": {\"endlinecolor\": \"#2a3f5f\", \"gridcolor\": \"white\", \"linecolor\": \"white\", \"minorgridcolor\": \"white\", \"startlinecolor\": \"#2a3f5f\"}, \"baxis\": {\"endlinecolor\": \"#2a3f5f\", \"gridcolor\": \"white\", \"linecolor\": \"white\", \"minorgridcolor\": \"white\", \"startlinecolor\": \"#2a3f5f\"}, \"type\": \"carpet\"}], \"choropleth\": [{\"colorbar\": {\"outlinewidth\": 0, \"ticks\": \"\"}, \"type\": \"choropleth\"}], \"contour\": [{\"colorbar\": {\"outlinewidth\": 0, \"ticks\": \"\"}, \"colorscale\": [[0.0, \"#0d0887\"], [0.1111111111111111, \"#46039f\"], [0.2222222222222222, \"#7201a8\"], [0.3333333333333333, \"#9c179e\"], [0.4444444444444444, \"#bd3786\"], [0.5555555555555556, \"#d8576b\"], [0.6666666666666666, \"#ed7953\"], [0.7777777777777778, \"#fb9f3a\"], [0.8888888888888888, \"#fdca26\"], [1.0, \"#f0f921\"]], \"type\": \"contour\"}], \"contourcarpet\": [{\"colorbar\": {\"outlinewidth\": 0, \"ticks\": \"\"}, \"type\": \"contourcarpet\"}], \"heatmap\": [{\"colorbar\": {\"outlinewidth\": 0, \"ticks\": \"\"}, \"colorscale\": [[0.0, \"#0d0887\"], [0.1111111111111111, \"#46039f\"], [0.2222222222222222, \"#7201a8\"], [0.3333333333333333, \"#9c179e\"], [0.4444444444444444, \"#bd3786\"], [0.5555555555555556, \"#d8576b\"], [0.6666666666666666, \"#ed7953\"], [0.7777777777777778, \"#fb9f3a\"], [0.8888888888888888, \"#fdca26\"], [1.0, \"#f0f921\"]], \"type\": \"heatmap\"}], \"heatmapgl\": [{\"colorbar\": {\"outlinewidth\": 0, \"ticks\": \"\"}, \"colorscale\": [[0.0, \"#0d0887\"], [0.1111111111111111, \"#46039f\"], [0.2222222222222222, \"#7201a8\"], [0.3333333333333333, \"#9c179e\"], [0.4444444444444444, \"#bd3786\"], [0.5555555555555556, \"#d8576b\"], [0.6666666666666666, \"#ed7953\"], [0.7777777777777778, \"#fb9f3a\"], [0.8888888888888888, \"#fdca26\"], [1.0, \"#f0f921\"]], \"type\": \"heatmapgl\"}], \"histogram\": [{\"marker\": {\"colorbar\": {\"outlinewidth\": 0, \"ticks\": \"\"}}, \"type\": \"histogram\"}], \"histogram2d\": [{\"colorbar\": {\"outlinewidth\": 0, \"ticks\": \"\"}, \"colorscale\": [[0.0, \"#0d0887\"], [0.1111111111111111, \"#46039f\"], [0.2222222222222222, \"#7201a8\"], [0.3333333333333333, \"#9c179e\"], [0.4444444444444444, \"#bd3786\"], [0.5555555555555556, \"#d8576b\"], [0.6666666666666666, \"#ed7953\"], [0.7777777777777778, \"#fb9f3a\"], [0.8888888888888888, \"#fdca26\"], [1.0, \"#f0f921\"]], \"type\": \"histogram2d\"}], \"histogram2dcontour\": [{\"colorbar\": {\"outlinewidth\": 0, \"ticks\": \"\"}, \"colorscale\": [[0.0, \"#0d0887\"], [0.1111111111111111, \"#46039f\"], [0.2222222222222222, \"#7201a8\"], [0.3333333333333333, \"#9c179e\"], [0.4444444444444444, \"#bd3786\"], [0.5555555555555556, \"#d8576b\"], [0.6666666666666666, \"#ed7953\"], [0.7777777777777778, \"#fb9f3a\"], [0.8888888888888888, \"#fdca26\"], [1.0, \"#f0f921\"]], \"type\": \"histogram2dcontour\"}], \"mesh3d\": [{\"colorbar\": {\"outlinewidth\": 0, \"ticks\": \"\"}, \"type\": \"mesh3d\"}], \"parcoords\": [{\"line\": {\"colorbar\": {\"outlinewidth\": 0, \"ticks\": \"\"}}, \"type\": \"parcoords\"}], \"pie\": [{\"automargin\": true, \"type\": \"pie\"}], \"scatter\": [{\"marker\": {\"colorbar\": {\"outlinewidth\": 0, \"ticks\": \"\"}}, \"type\": \"scatter\"}], \"scatter3d\": [{\"line\": {\"colorbar\": {\"outlinewidth\": 0, \"ticks\": \"\"}}, \"marker\": {\"colorbar\": {\"outlinewidth\": 0, \"ticks\": \"\"}}, \"type\": \"scatter3d\"}], \"scattercarpet\": [{\"marker\": {\"colorbar\": {\"outlinewidth\": 0, \"ticks\": \"\"}}, \"type\": \"scattercarpet\"}], \"scattergeo\": [{\"marker\": {\"colorbar\": {\"outlinewidth\": 0, \"ticks\": \"\"}}, \"type\": \"scattergeo\"}], \"scattergl\": [{\"marker\": {\"colorbar\": {\"outlinewidth\": 0, \"ticks\": \"\"}}, \"type\": \"scattergl\"}], \"scattermapbox\": [{\"marker\": {\"colorbar\": {\"outlinewidth\": 0, \"ticks\": \"\"}}, \"type\": \"scattermapbox\"}], \"scatterpolar\": [{\"marker\": {\"colorbar\": {\"outlinewidth\": 0, \"ticks\": \"\"}}, \"type\": \"scatterpolar\"}], \"scatterpolargl\": [{\"marker\": {\"colorbar\": {\"outlinewidth\": 0, \"ticks\": \"\"}}, \"type\": \"scatterpolargl\"}], \"scatterternary\": [{\"marker\": {\"colorbar\": {\"outlinewidth\": 0, \"ticks\": \"\"}}, \"type\": \"scatterternary\"}], \"surface\": [{\"colorbar\": {\"outlinewidth\": 0, \"ticks\": \"\"}, \"colorscale\": [[0.0, \"#0d0887\"], [0.1111111111111111, \"#46039f\"], [0.2222222222222222, \"#7201a8\"], [0.3333333333333333, \"#9c179e\"], [0.4444444444444444, \"#bd3786\"], [0.5555555555555556, \"#d8576b\"], [0.6666666666666666, \"#ed7953\"], [0.7777777777777778, \"#fb9f3a\"], [0.8888888888888888, \"#fdca26\"], [1.0, \"#f0f921\"]], \"type\": \"surface\"}], \"table\": [{\"cells\": {\"fill\": {\"color\": \"#EBF0F8\"}, \"line\": {\"color\": \"white\"}}, \"header\": {\"fill\": {\"color\": \"#C8D4E3\"}, \"line\": {\"color\": \"white\"}}, \"type\": \"table\"}]}, \"layout\": {\"annotationdefaults\": {\"arrowcolor\": \"#2a3f5f\", \"arrowhead\": 0, \"arrowwidth\": 1}, \"coloraxis\": {\"colorbar\": {\"outlinewidth\": 0, \"ticks\": \"\"}}, \"colorscale\": {\"diverging\": [[0, \"#8e0152\"], [0.1, \"#c51b7d\"], [0.2, \"#de77ae\"], [0.3, \"#f1b6da\"], [0.4, \"#fde0ef\"], [0.5, \"#f7f7f7\"], [0.6, \"#e6f5d0\"], [0.7, \"#b8e186\"], [0.8, \"#7fbc41\"], [0.9, \"#4d9221\"], [1, \"#276419\"]], \"sequential\": [[0.0, \"#0d0887\"], [0.1111111111111111, \"#46039f\"], [0.2222222222222222, \"#7201a8\"], [0.3333333333333333, \"#9c179e\"], [0.4444444444444444, \"#bd3786\"], [0.5555555555555556, \"#d8576b\"], [0.6666666666666666, \"#ed7953\"], [0.7777777777777778, \"#fb9f3a\"], [0.8888888888888888, \"#fdca26\"], [1.0, \"#f0f921\"]], \"sequentialminus\": [[0.0, \"#0d0887\"], [0.1111111111111111, \"#46039f\"], [0.2222222222222222, \"#7201a8\"], [0.3333333333333333, \"#9c179e\"], [0.4444444444444444, \"#bd3786\"], [0.5555555555555556, \"#d8576b\"], [0.6666666666666666, \"#ed7953\"], [0.7777777777777778, \"#fb9f3a\"], [0.8888888888888888, \"#fdca26\"], [1.0, \"#f0f921\"]]}, \"colorway\": [\"#636efa\", \"#EF553B\", \"#00cc96\", \"#ab63fa\", \"#FFA15A\", \"#19d3f3\", \"#FF6692\", \"#B6E880\", \"#FF97FF\", \"#FECB52\"], \"font\": {\"color\": \"#2a3f5f\"}, \"geo\": {\"bgcolor\": \"white\", \"lakecolor\": \"white\", \"landcolor\": \"#E5ECF6\", \"showlakes\": true, \"showland\": true, \"subunitcolor\": \"white\"}, \"hoverlabel\": {\"align\": \"left\"}, \"hovermode\": \"closest\", \"mapbox\": {\"style\": \"light\"}, \"paper_bgcolor\": \"white\", \"plot_bgcolor\": \"#E5ECF6\", \"polar\": {\"angularaxis\": {\"gridcolor\": \"white\", \"linecolor\": \"white\", \"ticks\": \"\"}, \"bgcolor\": \"#E5ECF6\", \"radialaxis\": {\"gridcolor\": \"white\", \"linecolor\": \"white\", \"ticks\": \"\"}}, \"scene\": {\"xaxis\": {\"backgroundcolor\": \"#E5ECF6\", \"gridcolor\": \"white\", \"gridwidth\": 2, \"linecolor\": \"white\", \"showbackground\": true, \"ticks\": \"\", \"zerolinecolor\": \"white\"}, \"yaxis\": {\"backgroundcolor\": \"#E5ECF6\", \"gridcolor\": \"white\", \"gridwidth\": 2, \"linecolor\": \"white\", \"showbackground\": true, \"ticks\": \"\", \"zerolinecolor\": \"white\"}, \"zaxis\": {\"backgroundcolor\": \"#E5ECF6\", \"gridcolor\": \"white\", \"gridwidth\": 2, \"linecolor\": \"white\", \"showbackground\": true, \"ticks\": \"\", \"zerolinecolor\": \"white\"}}, \"shapedefaults\": {\"line\": {\"color\": \"#2a3f5f\"}}, \"ternary\": {\"aaxis\": {\"gridcolor\": \"white\", \"linecolor\": \"white\", \"ticks\": \"\"}, \"baxis\": {\"gridcolor\": \"white\", \"linecolor\": \"white\", \"ticks\": \"\"}, \"bgcolor\": \"#E5ECF6\", \"caxis\": {\"gridcolor\": \"white\", \"linecolor\": \"white\", \"ticks\": \"\"}}, \"title\": {\"x\": 0.05}, \"xaxis\": {\"automargin\": true, \"gridcolor\": \"white\", \"linecolor\": \"white\", \"ticks\": \"\", \"title\": {\"standoff\": 15}, \"zerolinecolor\": \"white\", \"zerolinewidth\": 2}, \"yaxis\": {\"automargin\": true, \"gridcolor\": \"white\", \"linecolor\": \"white\", \"ticks\": \"\", \"title\": {\"standoff\": 15}, \"zerolinecolor\": \"white\", \"zerolinewidth\": 2}}}, \"title\": {\"text\": \"Daily Cases in Breves Datewise\"}, \"xaxis\": {\"anchor\": \"y\", \"domain\": [0.0, 1.0], \"title\": {\"text\": \"Date\"}}, \"yaxis\": {\"anchor\": \"x\", \"domain\": [0.0, 1.0], \"title\": {\"text\": \"Daily Cases\"}}},\n",
              "                        {\"responsive\": true}\n",
              "                    ).then(function(){\n",
              "                            \n",
              "var gd = document.getElementById('777c50d2-ffdb-4e5e-9867-dee7b8903fa4');\n",
              "var x = new MutationObserver(function (mutations, observer) {{\n",
              "        var display = window.getComputedStyle(gd).display;\n",
              "        if (!display || display === 'none') {{\n",
              "            console.log([gd, 'removed!']);\n",
              "            Plotly.purge(gd);\n",
              "            observer.disconnect();\n",
              "        }}\n",
              "}});\n",
              "\n",
              "// Listen for the removal of the full notebook cells\n",
              "var notebookContainer = gd.closest('#notebook-container');\n",
              "if (notebookContainer) {{\n",
              "    x.observe(notebookContainer, {childList: true});\n",
              "}}\n",
              "\n",
              "// Listen for the clearing of the current output cell\n",
              "var outputEl = gd.closest('.output');\n",
              "if (outputEl) {{\n",
              "    x.observe(outputEl, {childList: true});\n",
              "}}\n",
              "\n",
              "                        })\n",
              "                };\n",
              "                });\n",
              "            </script>\n",
              "        </div>"
            ]
          },
          "metadata": {
            "tags": []
          }
        }
      ]
    },
    {
      "cell_type": "code",
      "metadata": {
        "id": "2XTVbIIbcw6p",
        "colab_type": "code",
        "colab": {},
        "outputId": "f166f86d-82eb-405a-d8f9-55e57f4327f8"
      },
      "source": [
        "carona_data['Corona Growth Rate'] = carona_data['Confirmed'].pct_change().mul(100).round(2)\n",
        "#Corona Growth Rate Comparison with Previous Day\n",
        "fig = px.bar(carona_data, y='Corona Growth Rate', x='Date',hover_data =['Corona Growth Rate','Confirmed'], height=600)\n",
        "fig.update_layout(\n",
        "    title='Corona Growth Rate(in Percentage) Comparison with Previous Day')\n",
        "fig.show()"
      ],
      "execution_count": null,
      "outputs": [
        {
          "output_type": "display_data",
          "data": {
            "application/vnd.plotly.v1+json": {
              "config": {
                "plotlyServerURL": "https://plot.ly"
              },
              "data": [
                {
                  "alignmentgroup": "True",
                  "customdata": [
                    [
                      null,
                      0
                    ],
                    [
                      null,
                      0
                    ],
                    [
                      null,
                      0
                    ],
                    [
                      null,
                      0
                    ],
                    [
                      null,
                      0
                    ],
                    [
                      null,
                      0
                    ],
                    [
                      null,
                      0
                    ],
                    [
                      null,
                      0
                    ],
                    [
                      null,
                      0
                    ],
                    [
                      null,
                      0
                    ],
                    [
                      null,
                      0
                    ],
                    [
                      null,
                      0
                    ],
                    [
                      null,
                      0
                    ],
                    [
                      null,
                      0
                    ],
                    [
                      null,
                      0
                    ],
                    [
                      null,
                      0
                    ],
                    [
                      null,
                      2
                    ],
                    [
                      0,
                      2
                    ],
                    [
                      0,
                      2
                    ],
                    [
                      0,
                      2
                    ],
                    [
                      250,
                      7
                    ],
                    [
                      28.57,
                      9
                    ],
                    [
                      44.44,
                      13
                    ],
                    [
                      0,
                      13
                    ],
                    [
                      30.77,
                      17
                    ],
                    [
                      58.82,
                      27
                    ],
                    [
                      18.52,
                      32
                    ],
                    [
                      15.62,
                      37
                    ],
                    [
                      43.24,
                      53
                    ],
                    [
                      26.42,
                      67
                    ],
                    [
                      10.45,
                      74
                    ],
                    [
                      21.62,
                      90
                    ],
                    [
                      17.78,
                      106
                    ],
                    [
                      9.43,
                      116
                    ],
                    [
                      22.41,
                      142
                    ],
                    [
                      5.63,
                      150
                    ],
                    [
                      16,
                      174
                    ],
                    [
                      17.24,
                      204
                    ],
                    [
                      8.82,
                      222
                    ],
                    [
                      9.01,
                      242
                    ],
                    [
                      12.4,
                      272
                    ],
                    [
                      8.46,
                      295
                    ],
                    [
                      7.8,
                      318
                    ],
                    [
                      4.4,
                      332
                    ],
                    [
                      4.22,
                      346
                    ],
                    [
                      8.09,
                      374
                    ],
                    [
                      3.21,
                      386
                    ],
                    [
                      5.44,
                      407
                    ],
                    [
                      3.44,
                      421
                    ],
                    [
                      0.95,
                      425
                    ],
                    [
                      2.59,
                      436
                    ],
                    [
                      1.83,
                      444
                    ],
                    [
                      0.68,
                      447
                    ],
                    [
                      2.68,
                      459
                    ],
                    [
                      3.27,
                      474
                    ],
                    [
                      2.11,
                      484
                    ],
                    [
                      0.83,
                      488
                    ],
                    [
                      1.64,
                      496
                    ],
                    [
                      3.43,
                      513
                    ],
                    [
                      1.95,
                      523
                    ],
                    [
                      2.68,
                      537
                    ],
                    [
                      2.61,
                      551
                    ],
                    [
                      2.9,
                      567
                    ],
                    [
                      3.17,
                      585
                    ],
                    [
                      7.52,
                      629
                    ],
                    [
                      3.82,
                      653
                    ],
                    [
                      5.97,
                      692
                    ],
                    [
                      2.46,
                      709
                    ],
                    [
                      4.51,
                      741
                    ],
                    [
                      3.1,
                      764
                    ],
                    [
                      2.36,
                      782
                    ],
                    [
                      1.53,
                      794
                    ],
                    [
                      1.39,
                      805
                    ],
                    [
                      1.86,
                      820
                    ],
                    [
                      5.24,
                      863
                    ],
                    [
                      2.55,
                      885
                    ],
                    [
                      2.49,
                      907
                    ],
                    [
                      1.32,
                      919
                    ],
                    [
                      1.52,
                      933
                    ],
                    [
                      1.5,
                      947
                    ],
                    [
                      2.01,
                      966
                    ],
                    [
                      5.07,
                      1015
                    ],
                    [
                      7.39,
                      1090
                    ],
                    [
                      3.21,
                      1125
                    ],
                    [
                      2.93,
                      1158
                    ],
                    [
                      1.73,
                      1178
                    ],
                    [
                      1.36,
                      1194
                    ],
                    [
                      1.17,
                      1208
                    ],
                    [
                      1.82,
                      1230
                    ],
                    [
                      1.71,
                      1251
                    ],
                    [
                      1.76,
                      1273
                    ],
                    [
                      1.73,
                      1295
                    ],
                    [
                      1.78,
                      1318
                    ],
                    [
                      1.37,
                      1336
                    ],
                    [
                      0.82,
                      1347
                    ],
                    [
                      0.59,
                      1355
                    ],
                    [
                      0.66,
                      1364
                    ],
                    [
                      0.95,
                      1377
                    ],
                    [
                      1.09,
                      1392
                    ],
                    [
                      1.29,
                      1410
                    ],
                    [
                      0.99,
                      1424
                    ],
                    [
                      0.77,
                      1435
                    ],
                    [
                      0.7,
                      1445
                    ]
                  ],
                  "hovertemplate": "Date=%{x}<br>Corona Growth Rate=%{customdata[0]}<br>Confirmed=%{customdata[1]}<extra></extra>",
                  "legendgroup": "",
                  "marker": {
                    "color": "#636efa"
                  },
                  "name": "",
                  "offsetgroup": "",
                  "orientation": "v",
                  "showlegend": false,
                  "textposition": "auto",
                  "type": "bar",
                  "x": [
                    "2020-04-02T00:00:00",
                    "2020-04-17T00:00:00",
                    "2020-04-16T00:00:00",
                    "2020-04-15T00:00:00",
                    "2020-04-13T00:00:00",
                    "2020-04-12T00:00:00",
                    "2020-04-11T00:00:00",
                    "2020-04-10T00:00:00",
                    "2020-04-14T00:00:00",
                    "2020-04-08T00:00:00",
                    "2020-04-07T00:00:00",
                    "2020-04-06T00:00:00",
                    "2020-04-05T00:00:00",
                    "2020-04-04T00:00:00",
                    "2020-04-03T00:00:00",
                    "2020-04-09T00:00:00",
                    "2020-04-18T00:00:00",
                    "2020-04-19T00:00:00",
                    "2020-04-20T00:00:00",
                    "2020-04-21T00:00:00",
                    "2020-04-22T00:00:00",
                    "2020-04-23T00:00:00",
                    "2020-04-25T00:00:00",
                    "2020-04-24T00:00:00",
                    "2020-04-26T00:00:00",
                    "2020-04-27T00:00:00",
                    "2020-04-28T00:00:00",
                    "2020-04-29T00:00:00",
                    "2020-04-30T00:00:00",
                    "2020-05-01T00:00:00",
                    "2020-05-02T00:00:00",
                    "2020-05-03T00:00:00",
                    "2020-05-04T00:00:00",
                    "2020-05-05T00:00:00",
                    "2020-05-06T00:00:00",
                    "2020-05-07T00:00:00",
                    "2020-05-08T00:00:00",
                    "2020-05-09T00:00:00",
                    "2020-05-10T00:00:00",
                    "2020-05-11T00:00:00",
                    "2020-05-12T00:00:00",
                    "2020-05-13T00:00:00",
                    "2020-05-14T00:00:00",
                    "2020-05-15T00:00:00",
                    "2020-05-16T00:00:00",
                    "2020-05-17T00:00:00",
                    "2020-05-18T00:00:00",
                    "2020-05-19T00:00:00",
                    "2020-05-20T00:00:00",
                    "2020-05-21T00:00:00",
                    "2020-05-22T00:00:00",
                    "2020-05-23T00:00:00",
                    "2020-05-24T00:00:00",
                    "2020-05-25T00:00:00",
                    "2020-05-26T00:00:00",
                    "2020-05-27T00:00:00",
                    "2020-05-28T00:00:00",
                    "2020-05-29T00:00:00",
                    "2020-05-30T00:00:00",
                    "2020-05-31T00:00:00",
                    "2020-06-01T00:00:00",
                    "2020-06-02T00:00:00",
                    "2020-06-03T00:00:00",
                    "2020-06-04T00:00:00",
                    "2020-06-05T00:00:00",
                    "2020-06-06T00:00:00",
                    "2020-06-07T00:00:00",
                    "2020-06-08T00:00:00",
                    "2020-06-09T00:00:00",
                    "2020-06-10T00:00:00",
                    "2020-06-11T00:00:00",
                    "2020-06-12T00:00:00",
                    "2020-06-13T00:00:00",
                    "2020-06-14T00:00:00",
                    "2020-06-15T00:00:00",
                    "2020-06-16T00:00:00",
                    "2020-06-17T00:00:00",
                    "2020-06-18T00:00:00",
                    "2020-06-19T00:00:00",
                    "2020-06-20T00:00:00",
                    "2020-06-21T00:00:00",
                    "2020-06-22T00:00:00",
                    "2020-06-23T00:00:00",
                    "2020-06-24T00:00:00",
                    "2020-06-25T00:00:00",
                    "2020-06-26T00:00:00",
                    "2020-06-27T00:00:00",
                    "2020-06-28T00:00:00",
                    "2020-06-29T00:00:00",
                    "2020-06-30T00:00:00",
                    "2020-07-01T00:00:00",
                    "2020-07-02T00:00:00",
                    "2020-07-03T00:00:00",
                    "2020-07-04T00:00:00",
                    "2020-07-05T00:00:00",
                    "2020-07-06T00:00:00",
                    "2020-07-07T00:00:00",
                    "2020-07-08T00:00:00",
                    "2020-07-09T00:00:00",
                    "2020-07-10T00:00:00",
                    "2020-07-11T00:00:00",
                    "2020-07-12T00:00:00",
                    "2020-07-13T00:00:00"
                  ],
                  "xaxis": "x",
                  "y": [
                    null,
                    null,
                    null,
                    null,
                    null,
                    null,
                    null,
                    null,
                    null,
                    null,
                    null,
                    null,
                    null,
                    null,
                    null,
                    null,
                    null,
                    0,
                    0,
                    0,
                    250,
                    28.57,
                    44.44,
                    0,
                    30.77,
                    58.82,
                    18.52,
                    15.62,
                    43.24,
                    26.42,
                    10.45,
                    21.62,
                    17.78,
                    9.43,
                    22.41,
                    5.63,
                    16,
                    17.24,
                    8.82,
                    9.01,
                    12.4,
                    8.46,
                    7.8,
                    4.4,
                    4.22,
                    8.09,
                    3.21,
                    5.44,
                    3.44,
                    0.95,
                    2.59,
                    1.83,
                    0.68,
                    2.68,
                    3.27,
                    2.11,
                    0.83,
                    1.64,
                    3.43,
                    1.95,
                    2.68,
                    2.61,
                    2.9,
                    3.17,
                    7.52,
                    3.82,
                    5.97,
                    2.46,
                    4.51,
                    3.1,
                    2.36,
                    1.53,
                    1.39,
                    1.86,
                    5.24,
                    2.55,
                    2.49,
                    1.32,
                    1.52,
                    1.5,
                    2.01,
                    5.07,
                    7.39,
                    3.21,
                    2.93,
                    1.73,
                    1.36,
                    1.17,
                    1.82,
                    1.71,
                    1.76,
                    1.73,
                    1.78,
                    1.37,
                    0.82,
                    0.59,
                    0.66,
                    0.95,
                    1.09,
                    1.29,
                    0.99,
                    0.77,
                    0.7
                  ],
                  "yaxis": "y"
                }
              ],
              "layout": {
                "barmode": "relative",
                "height": 600,
                "legend": {
                  "tracegroupgap": 0
                },
                "margin": {
                  "t": 60
                },
                "template": {
                  "data": {
                    "bar": [
                      {
                        "error_x": {
                          "color": "#2a3f5f"
                        },
                        "error_y": {
                          "color": "#2a3f5f"
                        },
                        "marker": {
                          "line": {
                            "color": "#E5ECF6",
                            "width": 0.5
                          }
                        },
                        "type": "bar"
                      }
                    ],
                    "barpolar": [
                      {
                        "marker": {
                          "line": {
                            "color": "#E5ECF6",
                            "width": 0.5
                          }
                        },
                        "type": "barpolar"
                      }
                    ],
                    "carpet": [
                      {
                        "aaxis": {
                          "endlinecolor": "#2a3f5f",
                          "gridcolor": "white",
                          "linecolor": "white",
                          "minorgridcolor": "white",
                          "startlinecolor": "#2a3f5f"
                        },
                        "baxis": {
                          "endlinecolor": "#2a3f5f",
                          "gridcolor": "white",
                          "linecolor": "white",
                          "minorgridcolor": "white",
                          "startlinecolor": "#2a3f5f"
                        },
                        "type": "carpet"
                      }
                    ],
                    "choropleth": [
                      {
                        "colorbar": {
                          "outlinewidth": 0,
                          "ticks": ""
                        },
                        "type": "choropleth"
                      }
                    ],
                    "contour": [
                      {
                        "colorbar": {
                          "outlinewidth": 0,
                          "ticks": ""
                        },
                        "colorscale": [
                          [
                            0,
                            "#0d0887"
                          ],
                          [
                            0.1111111111111111,
                            "#46039f"
                          ],
                          [
                            0.2222222222222222,
                            "#7201a8"
                          ],
                          [
                            0.3333333333333333,
                            "#9c179e"
                          ],
                          [
                            0.4444444444444444,
                            "#bd3786"
                          ],
                          [
                            0.5555555555555556,
                            "#d8576b"
                          ],
                          [
                            0.6666666666666666,
                            "#ed7953"
                          ],
                          [
                            0.7777777777777778,
                            "#fb9f3a"
                          ],
                          [
                            0.8888888888888888,
                            "#fdca26"
                          ],
                          [
                            1,
                            "#f0f921"
                          ]
                        ],
                        "type": "contour"
                      }
                    ],
                    "contourcarpet": [
                      {
                        "colorbar": {
                          "outlinewidth": 0,
                          "ticks": ""
                        },
                        "type": "contourcarpet"
                      }
                    ],
                    "heatmap": [
                      {
                        "colorbar": {
                          "outlinewidth": 0,
                          "ticks": ""
                        },
                        "colorscale": [
                          [
                            0,
                            "#0d0887"
                          ],
                          [
                            0.1111111111111111,
                            "#46039f"
                          ],
                          [
                            0.2222222222222222,
                            "#7201a8"
                          ],
                          [
                            0.3333333333333333,
                            "#9c179e"
                          ],
                          [
                            0.4444444444444444,
                            "#bd3786"
                          ],
                          [
                            0.5555555555555556,
                            "#d8576b"
                          ],
                          [
                            0.6666666666666666,
                            "#ed7953"
                          ],
                          [
                            0.7777777777777778,
                            "#fb9f3a"
                          ],
                          [
                            0.8888888888888888,
                            "#fdca26"
                          ],
                          [
                            1,
                            "#f0f921"
                          ]
                        ],
                        "type": "heatmap"
                      }
                    ],
                    "heatmapgl": [
                      {
                        "colorbar": {
                          "outlinewidth": 0,
                          "ticks": ""
                        },
                        "colorscale": [
                          [
                            0,
                            "#0d0887"
                          ],
                          [
                            0.1111111111111111,
                            "#46039f"
                          ],
                          [
                            0.2222222222222222,
                            "#7201a8"
                          ],
                          [
                            0.3333333333333333,
                            "#9c179e"
                          ],
                          [
                            0.4444444444444444,
                            "#bd3786"
                          ],
                          [
                            0.5555555555555556,
                            "#d8576b"
                          ],
                          [
                            0.6666666666666666,
                            "#ed7953"
                          ],
                          [
                            0.7777777777777778,
                            "#fb9f3a"
                          ],
                          [
                            0.8888888888888888,
                            "#fdca26"
                          ],
                          [
                            1,
                            "#f0f921"
                          ]
                        ],
                        "type": "heatmapgl"
                      }
                    ],
                    "histogram": [
                      {
                        "marker": {
                          "colorbar": {
                            "outlinewidth": 0,
                            "ticks": ""
                          }
                        },
                        "type": "histogram"
                      }
                    ],
                    "histogram2d": [
                      {
                        "colorbar": {
                          "outlinewidth": 0,
                          "ticks": ""
                        },
                        "colorscale": [
                          [
                            0,
                            "#0d0887"
                          ],
                          [
                            0.1111111111111111,
                            "#46039f"
                          ],
                          [
                            0.2222222222222222,
                            "#7201a8"
                          ],
                          [
                            0.3333333333333333,
                            "#9c179e"
                          ],
                          [
                            0.4444444444444444,
                            "#bd3786"
                          ],
                          [
                            0.5555555555555556,
                            "#d8576b"
                          ],
                          [
                            0.6666666666666666,
                            "#ed7953"
                          ],
                          [
                            0.7777777777777778,
                            "#fb9f3a"
                          ],
                          [
                            0.8888888888888888,
                            "#fdca26"
                          ],
                          [
                            1,
                            "#f0f921"
                          ]
                        ],
                        "type": "histogram2d"
                      }
                    ],
                    "histogram2dcontour": [
                      {
                        "colorbar": {
                          "outlinewidth": 0,
                          "ticks": ""
                        },
                        "colorscale": [
                          [
                            0,
                            "#0d0887"
                          ],
                          [
                            0.1111111111111111,
                            "#46039f"
                          ],
                          [
                            0.2222222222222222,
                            "#7201a8"
                          ],
                          [
                            0.3333333333333333,
                            "#9c179e"
                          ],
                          [
                            0.4444444444444444,
                            "#bd3786"
                          ],
                          [
                            0.5555555555555556,
                            "#d8576b"
                          ],
                          [
                            0.6666666666666666,
                            "#ed7953"
                          ],
                          [
                            0.7777777777777778,
                            "#fb9f3a"
                          ],
                          [
                            0.8888888888888888,
                            "#fdca26"
                          ],
                          [
                            1,
                            "#f0f921"
                          ]
                        ],
                        "type": "histogram2dcontour"
                      }
                    ],
                    "mesh3d": [
                      {
                        "colorbar": {
                          "outlinewidth": 0,
                          "ticks": ""
                        },
                        "type": "mesh3d"
                      }
                    ],
                    "parcoords": [
                      {
                        "line": {
                          "colorbar": {
                            "outlinewidth": 0,
                            "ticks": ""
                          }
                        },
                        "type": "parcoords"
                      }
                    ],
                    "pie": [
                      {
                        "automargin": true,
                        "type": "pie"
                      }
                    ],
                    "scatter": [
                      {
                        "marker": {
                          "colorbar": {
                            "outlinewidth": 0,
                            "ticks": ""
                          }
                        },
                        "type": "scatter"
                      }
                    ],
                    "scatter3d": [
                      {
                        "line": {
                          "colorbar": {
                            "outlinewidth": 0,
                            "ticks": ""
                          }
                        },
                        "marker": {
                          "colorbar": {
                            "outlinewidth": 0,
                            "ticks": ""
                          }
                        },
                        "type": "scatter3d"
                      }
                    ],
                    "scattercarpet": [
                      {
                        "marker": {
                          "colorbar": {
                            "outlinewidth": 0,
                            "ticks": ""
                          }
                        },
                        "type": "scattercarpet"
                      }
                    ],
                    "scattergeo": [
                      {
                        "marker": {
                          "colorbar": {
                            "outlinewidth": 0,
                            "ticks": ""
                          }
                        },
                        "type": "scattergeo"
                      }
                    ],
                    "scattergl": [
                      {
                        "marker": {
                          "colorbar": {
                            "outlinewidth": 0,
                            "ticks": ""
                          }
                        },
                        "type": "scattergl"
                      }
                    ],
                    "scattermapbox": [
                      {
                        "marker": {
                          "colorbar": {
                            "outlinewidth": 0,
                            "ticks": ""
                          }
                        },
                        "type": "scattermapbox"
                      }
                    ],
                    "scatterpolar": [
                      {
                        "marker": {
                          "colorbar": {
                            "outlinewidth": 0,
                            "ticks": ""
                          }
                        },
                        "type": "scatterpolar"
                      }
                    ],
                    "scatterpolargl": [
                      {
                        "marker": {
                          "colorbar": {
                            "outlinewidth": 0,
                            "ticks": ""
                          }
                        },
                        "type": "scatterpolargl"
                      }
                    ],
                    "scatterternary": [
                      {
                        "marker": {
                          "colorbar": {
                            "outlinewidth": 0,
                            "ticks": ""
                          }
                        },
                        "type": "scatterternary"
                      }
                    ],
                    "surface": [
                      {
                        "colorbar": {
                          "outlinewidth": 0,
                          "ticks": ""
                        },
                        "colorscale": [
                          [
                            0,
                            "#0d0887"
                          ],
                          [
                            0.1111111111111111,
                            "#46039f"
                          ],
                          [
                            0.2222222222222222,
                            "#7201a8"
                          ],
                          [
                            0.3333333333333333,
                            "#9c179e"
                          ],
                          [
                            0.4444444444444444,
                            "#bd3786"
                          ],
                          [
                            0.5555555555555556,
                            "#d8576b"
                          ],
                          [
                            0.6666666666666666,
                            "#ed7953"
                          ],
                          [
                            0.7777777777777778,
                            "#fb9f3a"
                          ],
                          [
                            0.8888888888888888,
                            "#fdca26"
                          ],
                          [
                            1,
                            "#f0f921"
                          ]
                        ],
                        "type": "surface"
                      }
                    ],
                    "table": [
                      {
                        "cells": {
                          "fill": {
                            "color": "#EBF0F8"
                          },
                          "line": {
                            "color": "white"
                          }
                        },
                        "header": {
                          "fill": {
                            "color": "#C8D4E3"
                          },
                          "line": {
                            "color": "white"
                          }
                        },
                        "type": "table"
                      }
                    ]
                  },
                  "layout": {
                    "annotationdefaults": {
                      "arrowcolor": "#2a3f5f",
                      "arrowhead": 0,
                      "arrowwidth": 1
                    },
                    "coloraxis": {
                      "colorbar": {
                        "outlinewidth": 0,
                        "ticks": ""
                      }
                    },
                    "colorscale": {
                      "diverging": [
                        [
                          0,
                          "#8e0152"
                        ],
                        [
                          0.1,
                          "#c51b7d"
                        ],
                        [
                          0.2,
                          "#de77ae"
                        ],
                        [
                          0.3,
                          "#f1b6da"
                        ],
                        [
                          0.4,
                          "#fde0ef"
                        ],
                        [
                          0.5,
                          "#f7f7f7"
                        ],
                        [
                          0.6,
                          "#e6f5d0"
                        ],
                        [
                          0.7,
                          "#b8e186"
                        ],
                        [
                          0.8,
                          "#7fbc41"
                        ],
                        [
                          0.9,
                          "#4d9221"
                        ],
                        [
                          1,
                          "#276419"
                        ]
                      ],
                      "sequential": [
                        [
                          0,
                          "#0d0887"
                        ],
                        [
                          0.1111111111111111,
                          "#46039f"
                        ],
                        [
                          0.2222222222222222,
                          "#7201a8"
                        ],
                        [
                          0.3333333333333333,
                          "#9c179e"
                        ],
                        [
                          0.4444444444444444,
                          "#bd3786"
                        ],
                        [
                          0.5555555555555556,
                          "#d8576b"
                        ],
                        [
                          0.6666666666666666,
                          "#ed7953"
                        ],
                        [
                          0.7777777777777778,
                          "#fb9f3a"
                        ],
                        [
                          0.8888888888888888,
                          "#fdca26"
                        ],
                        [
                          1,
                          "#f0f921"
                        ]
                      ],
                      "sequentialminus": [
                        [
                          0,
                          "#0d0887"
                        ],
                        [
                          0.1111111111111111,
                          "#46039f"
                        ],
                        [
                          0.2222222222222222,
                          "#7201a8"
                        ],
                        [
                          0.3333333333333333,
                          "#9c179e"
                        ],
                        [
                          0.4444444444444444,
                          "#bd3786"
                        ],
                        [
                          0.5555555555555556,
                          "#d8576b"
                        ],
                        [
                          0.6666666666666666,
                          "#ed7953"
                        ],
                        [
                          0.7777777777777778,
                          "#fb9f3a"
                        ],
                        [
                          0.8888888888888888,
                          "#fdca26"
                        ],
                        [
                          1,
                          "#f0f921"
                        ]
                      ]
                    },
                    "colorway": [
                      "#636efa",
                      "#EF553B",
                      "#00cc96",
                      "#ab63fa",
                      "#FFA15A",
                      "#19d3f3",
                      "#FF6692",
                      "#B6E880",
                      "#FF97FF",
                      "#FECB52"
                    ],
                    "font": {
                      "color": "#2a3f5f"
                    },
                    "geo": {
                      "bgcolor": "white",
                      "lakecolor": "white",
                      "landcolor": "#E5ECF6",
                      "showlakes": true,
                      "showland": true,
                      "subunitcolor": "white"
                    },
                    "hoverlabel": {
                      "align": "left"
                    },
                    "hovermode": "closest",
                    "mapbox": {
                      "style": "light"
                    },
                    "paper_bgcolor": "white",
                    "plot_bgcolor": "#E5ECF6",
                    "polar": {
                      "angularaxis": {
                        "gridcolor": "white",
                        "linecolor": "white",
                        "ticks": ""
                      },
                      "bgcolor": "#E5ECF6",
                      "radialaxis": {
                        "gridcolor": "white",
                        "linecolor": "white",
                        "ticks": ""
                      }
                    },
                    "scene": {
                      "xaxis": {
                        "backgroundcolor": "#E5ECF6",
                        "gridcolor": "white",
                        "gridwidth": 2,
                        "linecolor": "white",
                        "showbackground": true,
                        "ticks": "",
                        "zerolinecolor": "white"
                      },
                      "yaxis": {
                        "backgroundcolor": "#E5ECF6",
                        "gridcolor": "white",
                        "gridwidth": 2,
                        "linecolor": "white",
                        "showbackground": true,
                        "ticks": "",
                        "zerolinecolor": "white"
                      },
                      "zaxis": {
                        "backgroundcolor": "#E5ECF6",
                        "gridcolor": "white",
                        "gridwidth": 2,
                        "linecolor": "white",
                        "showbackground": true,
                        "ticks": "",
                        "zerolinecolor": "white"
                      }
                    },
                    "shapedefaults": {
                      "line": {
                        "color": "#2a3f5f"
                      }
                    },
                    "ternary": {
                      "aaxis": {
                        "gridcolor": "white",
                        "linecolor": "white",
                        "ticks": ""
                      },
                      "baxis": {
                        "gridcolor": "white",
                        "linecolor": "white",
                        "ticks": ""
                      },
                      "bgcolor": "#E5ECF6",
                      "caxis": {
                        "gridcolor": "white",
                        "linecolor": "white",
                        "ticks": ""
                      }
                    },
                    "title": {
                      "x": 0.05
                    },
                    "xaxis": {
                      "automargin": true,
                      "gridcolor": "white",
                      "linecolor": "white",
                      "ticks": "",
                      "title": {
                        "standoff": 15
                      },
                      "zerolinecolor": "white",
                      "zerolinewidth": 2
                    },
                    "yaxis": {
                      "automargin": true,
                      "gridcolor": "white",
                      "linecolor": "white",
                      "ticks": "",
                      "title": {
                        "standoff": 15
                      },
                      "zerolinecolor": "white",
                      "zerolinewidth": 2
                    }
                  }
                },
                "title": {
                  "text": "Corona Growth Rate(in Percentage) Comparison with Previous Day"
                },
                "xaxis": {
                  "anchor": "y",
                  "domain": [
                    0,
                    1
                  ],
                  "title": {
                    "text": "Date"
                  }
                },
                "yaxis": {
                  "anchor": "x",
                  "domain": [
                    0,
                    1
                  ],
                  "title": {
                    "text": "Corona Growth Rate"
                  }
                }
              }
            },
            "text/html": [
              "<div>\n",
              "        \n",
              "        \n",
              "            <div id=\"5430d279-cfd6-4568-83ab-6e781873e628\" class=\"plotly-graph-div\" style=\"height:600px; width:100%;\"></div>\n",
              "            <script type=\"text/javascript\">\n",
              "                require([\"plotly\"], function(Plotly) {\n",
              "                    window.PLOTLYENV=window.PLOTLYENV || {};\n",
              "                    \n",
              "                if (document.getElementById(\"5430d279-cfd6-4568-83ab-6e781873e628\")) {\n",
              "                    Plotly.newPlot(\n",
              "                        '5430d279-cfd6-4568-83ab-6e781873e628',\n",
              "                        [{\"alignmentgroup\": \"True\", \"customdata\": [[null, 0.0], [null, 0.0], [null, 0.0], [null, 0.0], [null, 0.0], [null, 0.0], [null, 0.0], [null, 0.0], [null, 0.0], [null, 0.0], [null, 0.0], [null, 0.0], [null, 0.0], [null, 0.0], [null, 0.0], [null, 0.0], [null, 2.0], [0.0, 2.0], [0.0, 2.0], [0.0, 2.0], [250.0, 7.0], [28.57, 9.0], [44.44, 13.0], [0.0, 13.0], [30.77, 17.0], [58.82, 27.0], [18.52, 32.0], [15.62, 37.0], [43.24, 53.0], [26.42, 67.0], [10.45, 74.0], [21.62, 90.0], [17.78, 106.0], [9.43, 116.0], [22.41, 142.0], [5.63, 150.0], [16.0, 174.0], [17.24, 204.0], [8.82, 222.0], [9.01, 242.0], [12.4, 272.0], [8.46, 295.0], [7.8, 318.0], [4.4, 332.0], [4.22, 346.0], [8.09, 374.0], [3.21, 386.0], [5.44, 407.0], [3.44, 421.0], [0.95, 425.0], [2.59, 436.0], [1.83, 444.0], [0.68, 447.0], [2.68, 459.0], [3.27, 474.0], [2.11, 484.0], [0.83, 488.0], [1.64, 496.0], [3.43, 513.0], [1.95, 523.0], [2.68, 537.0], [2.61, 551.0], [2.9, 567.0], [3.17, 585.0], [7.52, 629.0], [3.82, 653.0], [5.97, 692.0], [2.46, 709.0], [4.51, 741.0], [3.1, 764.0], [2.36, 782.0], [1.53, 794.0], [1.39, 805.0], [1.86, 820.0], [5.24, 863.0], [2.55, 885.0], [2.49, 907.0], [1.32, 919.0], [1.52, 933.0], [1.5, 947.0], [2.01, 966.0], [5.07, 1015.0], [7.39, 1090.0], [3.21, 1125.0], [2.93, 1158.0], [1.73, 1178.0], [1.36, 1194.0], [1.17, 1208.0], [1.82, 1230.0], [1.71, 1251.0], [1.76, 1273.0], [1.73, 1295.0], [1.78, 1318.0], [1.37, 1336.0], [0.82, 1347.0], [0.59, 1355.0], [0.66, 1364.0], [0.95, 1377.0], [1.09, 1392.0], [1.29, 1410.0], [0.99, 1424.0], [0.77, 1435.0], [0.7, 1445.0]], \"hovertemplate\": \"Date=%{x}<br>Corona Growth Rate=%{customdata[0]}<br>Confirmed=%{customdata[1]}<extra></extra>\", \"legendgroup\": \"\", \"marker\": {\"color\": \"#636efa\"}, \"name\": \"\", \"offsetgroup\": \"\", \"orientation\": \"v\", \"showlegend\": false, \"textposition\": \"auto\", \"type\": \"bar\", \"x\": [\"2020-04-02T00:00:00\", \"2020-04-17T00:00:00\", \"2020-04-16T00:00:00\", \"2020-04-15T00:00:00\", \"2020-04-13T00:00:00\", \"2020-04-12T00:00:00\", \"2020-04-11T00:00:00\", \"2020-04-10T00:00:00\", \"2020-04-14T00:00:00\", \"2020-04-08T00:00:00\", \"2020-04-07T00:00:00\", \"2020-04-06T00:00:00\", \"2020-04-05T00:00:00\", \"2020-04-04T00:00:00\", \"2020-04-03T00:00:00\", \"2020-04-09T00:00:00\", \"2020-04-18T00:00:00\", \"2020-04-19T00:00:00\", \"2020-04-20T00:00:00\", \"2020-04-21T00:00:00\", \"2020-04-22T00:00:00\", \"2020-04-23T00:00:00\", \"2020-04-25T00:00:00\", \"2020-04-24T00:00:00\", \"2020-04-26T00:00:00\", \"2020-04-27T00:00:00\", \"2020-04-28T00:00:00\", \"2020-04-29T00:00:00\", \"2020-04-30T00:00:00\", \"2020-05-01T00:00:00\", \"2020-05-02T00:00:00\", \"2020-05-03T00:00:00\", \"2020-05-04T00:00:00\", \"2020-05-05T00:00:00\", \"2020-05-06T00:00:00\", \"2020-05-07T00:00:00\", \"2020-05-08T00:00:00\", \"2020-05-09T00:00:00\", \"2020-05-10T00:00:00\", \"2020-05-11T00:00:00\", \"2020-05-12T00:00:00\", \"2020-05-13T00:00:00\", \"2020-05-14T00:00:00\", \"2020-05-15T00:00:00\", \"2020-05-16T00:00:00\", \"2020-05-17T00:00:00\", \"2020-05-18T00:00:00\", \"2020-05-19T00:00:00\", \"2020-05-20T00:00:00\", \"2020-05-21T00:00:00\", \"2020-05-22T00:00:00\", \"2020-05-23T00:00:00\", \"2020-05-24T00:00:00\", \"2020-05-25T00:00:00\", \"2020-05-26T00:00:00\", \"2020-05-27T00:00:00\", \"2020-05-28T00:00:00\", \"2020-05-29T00:00:00\", \"2020-05-30T00:00:00\", \"2020-05-31T00:00:00\", \"2020-06-01T00:00:00\", \"2020-06-02T00:00:00\", \"2020-06-03T00:00:00\", \"2020-06-04T00:00:00\", \"2020-06-05T00:00:00\", \"2020-06-06T00:00:00\", \"2020-06-07T00:00:00\", \"2020-06-08T00:00:00\", \"2020-06-09T00:00:00\", \"2020-06-10T00:00:00\", \"2020-06-11T00:00:00\", \"2020-06-12T00:00:00\", \"2020-06-13T00:00:00\", \"2020-06-14T00:00:00\", \"2020-06-15T00:00:00\", \"2020-06-16T00:00:00\", \"2020-06-17T00:00:00\", \"2020-06-18T00:00:00\", \"2020-06-19T00:00:00\", \"2020-06-20T00:00:00\", \"2020-06-21T00:00:00\", \"2020-06-22T00:00:00\", \"2020-06-23T00:00:00\", \"2020-06-24T00:00:00\", \"2020-06-25T00:00:00\", \"2020-06-26T00:00:00\", \"2020-06-27T00:00:00\", \"2020-06-28T00:00:00\", \"2020-06-29T00:00:00\", \"2020-06-30T00:00:00\", \"2020-07-01T00:00:00\", \"2020-07-02T00:00:00\", \"2020-07-03T00:00:00\", \"2020-07-04T00:00:00\", \"2020-07-05T00:00:00\", \"2020-07-06T00:00:00\", \"2020-07-07T00:00:00\", \"2020-07-08T00:00:00\", \"2020-07-09T00:00:00\", \"2020-07-10T00:00:00\", \"2020-07-11T00:00:00\", \"2020-07-12T00:00:00\", \"2020-07-13T00:00:00\"], \"xaxis\": \"x\", \"y\": [null, null, null, null, null, null, null, null, null, null, null, null, null, null, null, null, null, 0.0, 0.0, 0.0, 250.0, 28.57, 44.44, 0.0, 30.77, 58.82, 18.52, 15.62, 43.24, 26.42, 10.45, 21.62, 17.78, 9.43, 22.41, 5.63, 16.0, 17.24, 8.82, 9.01, 12.4, 8.46, 7.8, 4.4, 4.22, 8.09, 3.21, 5.44, 3.44, 0.95, 2.59, 1.83, 0.68, 2.68, 3.27, 2.11, 0.83, 1.64, 3.43, 1.95, 2.68, 2.61, 2.9, 3.17, 7.52, 3.82, 5.97, 2.46, 4.51, 3.1, 2.36, 1.53, 1.39, 1.86, 5.24, 2.55, 2.49, 1.32, 1.52, 1.5, 2.01, 5.07, 7.39, 3.21, 2.93, 1.73, 1.36, 1.17, 1.82, 1.71, 1.76, 1.73, 1.78, 1.37, 0.82, 0.59, 0.66, 0.95, 1.09, 1.29, 0.99, 0.77, 0.7], \"yaxis\": \"y\"}],\n",
              "                        {\"barmode\": \"relative\", \"height\": 600, \"legend\": {\"tracegroupgap\": 0}, \"margin\": {\"t\": 60}, \"template\": {\"data\": {\"bar\": [{\"error_x\": {\"color\": \"#2a3f5f\"}, \"error_y\": {\"color\": \"#2a3f5f\"}, \"marker\": {\"line\": {\"color\": \"#E5ECF6\", \"width\": 0.5}}, \"type\": \"bar\"}], \"barpolar\": [{\"marker\": {\"line\": {\"color\": \"#E5ECF6\", \"width\": 0.5}}, \"type\": \"barpolar\"}], \"carpet\": [{\"aaxis\": {\"endlinecolor\": \"#2a3f5f\", \"gridcolor\": \"white\", \"linecolor\": \"white\", \"minorgridcolor\": \"white\", \"startlinecolor\": \"#2a3f5f\"}, \"baxis\": {\"endlinecolor\": \"#2a3f5f\", \"gridcolor\": \"white\", \"linecolor\": \"white\", \"minorgridcolor\": \"white\", \"startlinecolor\": \"#2a3f5f\"}, \"type\": \"carpet\"}], \"choropleth\": [{\"colorbar\": {\"outlinewidth\": 0, \"ticks\": \"\"}, \"type\": \"choropleth\"}], \"contour\": [{\"colorbar\": {\"outlinewidth\": 0, \"ticks\": \"\"}, \"colorscale\": [[0.0, \"#0d0887\"], [0.1111111111111111, \"#46039f\"], [0.2222222222222222, \"#7201a8\"], [0.3333333333333333, \"#9c179e\"], [0.4444444444444444, \"#bd3786\"], [0.5555555555555556, \"#d8576b\"], [0.6666666666666666, \"#ed7953\"], [0.7777777777777778, \"#fb9f3a\"], [0.8888888888888888, \"#fdca26\"], [1.0, \"#f0f921\"]], \"type\": \"contour\"}], \"contourcarpet\": [{\"colorbar\": {\"outlinewidth\": 0, \"ticks\": \"\"}, \"type\": \"contourcarpet\"}], \"heatmap\": [{\"colorbar\": {\"outlinewidth\": 0, \"ticks\": \"\"}, \"colorscale\": [[0.0, \"#0d0887\"], [0.1111111111111111, \"#46039f\"], [0.2222222222222222, \"#7201a8\"], [0.3333333333333333, \"#9c179e\"], [0.4444444444444444, \"#bd3786\"], [0.5555555555555556, \"#d8576b\"], [0.6666666666666666, \"#ed7953\"], [0.7777777777777778, \"#fb9f3a\"], [0.8888888888888888, \"#fdca26\"], [1.0, \"#f0f921\"]], \"type\": \"heatmap\"}], \"heatmapgl\": [{\"colorbar\": {\"outlinewidth\": 0, \"ticks\": \"\"}, \"colorscale\": [[0.0, \"#0d0887\"], [0.1111111111111111, \"#46039f\"], [0.2222222222222222, \"#7201a8\"], [0.3333333333333333, \"#9c179e\"], [0.4444444444444444, \"#bd3786\"], [0.5555555555555556, \"#d8576b\"], [0.6666666666666666, \"#ed7953\"], [0.7777777777777778, \"#fb9f3a\"], [0.8888888888888888, \"#fdca26\"], [1.0, \"#f0f921\"]], \"type\": \"heatmapgl\"}], \"histogram\": [{\"marker\": {\"colorbar\": {\"outlinewidth\": 0, \"ticks\": \"\"}}, \"type\": \"histogram\"}], \"histogram2d\": [{\"colorbar\": {\"outlinewidth\": 0, \"ticks\": \"\"}, \"colorscale\": [[0.0, \"#0d0887\"], [0.1111111111111111, \"#46039f\"], [0.2222222222222222, \"#7201a8\"], [0.3333333333333333, \"#9c179e\"], [0.4444444444444444, \"#bd3786\"], [0.5555555555555556, \"#d8576b\"], [0.6666666666666666, \"#ed7953\"], [0.7777777777777778, \"#fb9f3a\"], [0.8888888888888888, \"#fdca26\"], [1.0, \"#f0f921\"]], \"type\": \"histogram2d\"}], \"histogram2dcontour\": [{\"colorbar\": {\"outlinewidth\": 0, \"ticks\": \"\"}, \"colorscale\": [[0.0, \"#0d0887\"], [0.1111111111111111, \"#46039f\"], [0.2222222222222222, \"#7201a8\"], [0.3333333333333333, \"#9c179e\"], [0.4444444444444444, \"#bd3786\"], [0.5555555555555556, \"#d8576b\"], [0.6666666666666666, \"#ed7953\"], [0.7777777777777778, \"#fb9f3a\"], [0.8888888888888888, \"#fdca26\"], [1.0, \"#f0f921\"]], \"type\": \"histogram2dcontour\"}], \"mesh3d\": [{\"colorbar\": {\"outlinewidth\": 0, \"ticks\": \"\"}, \"type\": \"mesh3d\"}], \"parcoords\": [{\"line\": {\"colorbar\": {\"outlinewidth\": 0, \"ticks\": \"\"}}, \"type\": \"parcoords\"}], \"pie\": [{\"automargin\": true, \"type\": \"pie\"}], \"scatter\": [{\"marker\": {\"colorbar\": {\"outlinewidth\": 0, \"ticks\": \"\"}}, \"type\": \"scatter\"}], \"scatter3d\": [{\"line\": {\"colorbar\": {\"outlinewidth\": 0, \"ticks\": \"\"}}, \"marker\": {\"colorbar\": {\"outlinewidth\": 0, \"ticks\": \"\"}}, \"type\": \"scatter3d\"}], \"scattercarpet\": [{\"marker\": {\"colorbar\": {\"outlinewidth\": 0, \"ticks\": \"\"}}, \"type\": \"scattercarpet\"}], \"scattergeo\": [{\"marker\": {\"colorbar\": {\"outlinewidth\": 0, \"ticks\": \"\"}}, \"type\": \"scattergeo\"}], \"scattergl\": [{\"marker\": {\"colorbar\": {\"outlinewidth\": 0, \"ticks\": \"\"}}, \"type\": \"scattergl\"}], \"scattermapbox\": [{\"marker\": {\"colorbar\": {\"outlinewidth\": 0, \"ticks\": \"\"}}, \"type\": \"scattermapbox\"}], \"scatterpolar\": [{\"marker\": {\"colorbar\": {\"outlinewidth\": 0, \"ticks\": \"\"}}, \"type\": \"scatterpolar\"}], \"scatterpolargl\": [{\"marker\": {\"colorbar\": {\"outlinewidth\": 0, \"ticks\": \"\"}}, \"type\": \"scatterpolargl\"}], \"scatterternary\": [{\"marker\": {\"colorbar\": {\"outlinewidth\": 0, \"ticks\": \"\"}}, \"type\": \"scatterternary\"}], \"surface\": [{\"colorbar\": {\"outlinewidth\": 0, \"ticks\": \"\"}, \"colorscale\": [[0.0, \"#0d0887\"], [0.1111111111111111, \"#46039f\"], [0.2222222222222222, \"#7201a8\"], [0.3333333333333333, \"#9c179e\"], [0.4444444444444444, \"#bd3786\"], [0.5555555555555556, \"#d8576b\"], [0.6666666666666666, \"#ed7953\"], [0.7777777777777778, \"#fb9f3a\"], [0.8888888888888888, \"#fdca26\"], [1.0, \"#f0f921\"]], \"type\": \"surface\"}], \"table\": [{\"cells\": {\"fill\": {\"color\": \"#EBF0F8\"}, \"line\": {\"color\": \"white\"}}, \"header\": {\"fill\": {\"color\": \"#C8D4E3\"}, \"line\": {\"color\": \"white\"}}, \"type\": \"table\"}]}, \"layout\": {\"annotationdefaults\": {\"arrowcolor\": \"#2a3f5f\", \"arrowhead\": 0, \"arrowwidth\": 1}, \"coloraxis\": {\"colorbar\": {\"outlinewidth\": 0, \"ticks\": \"\"}}, \"colorscale\": {\"diverging\": [[0, \"#8e0152\"], [0.1, \"#c51b7d\"], [0.2, \"#de77ae\"], [0.3, \"#f1b6da\"], [0.4, \"#fde0ef\"], [0.5, \"#f7f7f7\"], [0.6, \"#e6f5d0\"], [0.7, \"#b8e186\"], [0.8, \"#7fbc41\"], [0.9, \"#4d9221\"], [1, \"#276419\"]], \"sequential\": [[0.0, \"#0d0887\"], [0.1111111111111111, \"#46039f\"], [0.2222222222222222, \"#7201a8\"], [0.3333333333333333, \"#9c179e\"], [0.4444444444444444, \"#bd3786\"], [0.5555555555555556, \"#d8576b\"], [0.6666666666666666, \"#ed7953\"], [0.7777777777777778, \"#fb9f3a\"], [0.8888888888888888, \"#fdca26\"], [1.0, \"#f0f921\"]], \"sequentialminus\": [[0.0, \"#0d0887\"], [0.1111111111111111, \"#46039f\"], [0.2222222222222222, \"#7201a8\"], [0.3333333333333333, \"#9c179e\"], [0.4444444444444444, \"#bd3786\"], [0.5555555555555556, \"#d8576b\"], [0.6666666666666666, \"#ed7953\"], [0.7777777777777778, \"#fb9f3a\"], [0.8888888888888888, \"#fdca26\"], [1.0, \"#f0f921\"]]}, \"colorway\": [\"#636efa\", \"#EF553B\", \"#00cc96\", \"#ab63fa\", \"#FFA15A\", \"#19d3f3\", \"#FF6692\", \"#B6E880\", \"#FF97FF\", \"#FECB52\"], \"font\": {\"color\": \"#2a3f5f\"}, \"geo\": {\"bgcolor\": \"white\", \"lakecolor\": \"white\", \"landcolor\": \"#E5ECF6\", \"showlakes\": true, \"showland\": true, \"subunitcolor\": \"white\"}, \"hoverlabel\": {\"align\": \"left\"}, \"hovermode\": \"closest\", \"mapbox\": {\"style\": \"light\"}, \"paper_bgcolor\": \"white\", \"plot_bgcolor\": \"#E5ECF6\", \"polar\": {\"angularaxis\": {\"gridcolor\": \"white\", \"linecolor\": \"white\", \"ticks\": \"\"}, \"bgcolor\": \"#E5ECF6\", \"radialaxis\": {\"gridcolor\": \"white\", \"linecolor\": \"white\", \"ticks\": \"\"}}, \"scene\": {\"xaxis\": {\"backgroundcolor\": \"#E5ECF6\", \"gridcolor\": \"white\", \"gridwidth\": 2, \"linecolor\": \"white\", \"showbackground\": true, \"ticks\": \"\", \"zerolinecolor\": \"white\"}, \"yaxis\": {\"backgroundcolor\": \"#E5ECF6\", \"gridcolor\": \"white\", \"gridwidth\": 2, \"linecolor\": \"white\", \"showbackground\": true, \"ticks\": \"\", \"zerolinecolor\": \"white\"}, \"zaxis\": {\"backgroundcolor\": \"#E5ECF6\", \"gridcolor\": \"white\", \"gridwidth\": 2, \"linecolor\": \"white\", \"showbackground\": true, \"ticks\": \"\", \"zerolinecolor\": \"white\"}}, \"shapedefaults\": {\"line\": {\"color\": \"#2a3f5f\"}}, \"ternary\": {\"aaxis\": {\"gridcolor\": \"white\", \"linecolor\": \"white\", \"ticks\": \"\"}, \"baxis\": {\"gridcolor\": \"white\", \"linecolor\": \"white\", \"ticks\": \"\"}, \"bgcolor\": \"#E5ECF6\", \"caxis\": {\"gridcolor\": \"white\", \"linecolor\": \"white\", \"ticks\": \"\"}}, \"title\": {\"x\": 0.05}, \"xaxis\": {\"automargin\": true, \"gridcolor\": \"white\", \"linecolor\": \"white\", \"ticks\": \"\", \"title\": {\"standoff\": 15}, \"zerolinecolor\": \"white\", \"zerolinewidth\": 2}, \"yaxis\": {\"automargin\": true, \"gridcolor\": \"white\", \"linecolor\": \"white\", \"ticks\": \"\", \"title\": {\"standoff\": 15}, \"zerolinecolor\": \"white\", \"zerolinewidth\": 2}}}, \"title\": {\"text\": \"Corona Growth Rate(in Percentage) Comparison with Previous Day\"}, \"xaxis\": {\"anchor\": \"y\", \"domain\": [0.0, 1.0], \"title\": {\"text\": \"Date\"}}, \"yaxis\": {\"anchor\": \"x\", \"domain\": [0.0, 1.0], \"title\": {\"text\": \"Corona Growth Rate\"}}},\n",
              "                        {\"responsive\": true}\n",
              "                    ).then(function(){\n",
              "                            \n",
              "var gd = document.getElementById('5430d279-cfd6-4568-83ab-6e781873e628');\n",
              "var x = new MutationObserver(function (mutations, observer) {{\n",
              "        var display = window.getComputedStyle(gd).display;\n",
              "        if (!display || display === 'none') {{\n",
              "            console.log([gd, 'removed!']);\n",
              "            Plotly.purge(gd);\n",
              "            observer.disconnect();\n",
              "        }}\n",
              "}});\n",
              "\n",
              "// Listen for the removal of the full notebook cells\n",
              "var notebookContainer = gd.closest('#notebook-container');\n",
              "if (notebookContainer) {{\n",
              "    x.observe(notebookContainer, {childList: true});\n",
              "}}\n",
              "\n",
              "// Listen for the clearing of the current output cell\n",
              "var outputEl = gd.closest('.output');\n",
              "if (outputEl) {{\n",
              "    x.observe(outputEl, {childList: true});\n",
              "}}\n",
              "\n",
              "                        })\n",
              "                };\n",
              "                });\n",
              "            </script>\n",
              "        </div>"
            ]
          },
          "metadata": {
            "tags": []
          }
        }
      ]
    },
    {
      "cell_type": "code",
      "metadata": {
        "id": "OmVxFRgecw6t",
        "colab_type": "code",
        "colab": {},
        "outputId": "c6f6871f-8e33-443a-b470-ab55e61ae37b"
      },
      "source": [
        "#Moratality Rate\n",
        "carona_data = df_breves.groupby(['Date'])['Confirmed','Active Cases','Deaths'].sum().reset_index().sort_values('Date',ascending=False)\n",
        "\n",
        "carona_data['Mortality Rate'] = ((carona_data['Deaths']/carona_data['Confirmed'])*100)\n",
        "\n",
        "fig = go.Figure()\n",
        "fig.add_trace(go.Scatter(x=carona_data['Date'], y=carona_data['Mortality Rate'],\n",
        "                    mode='lines+markers',name='Cases',marker_color='red'))\n",
        "fig.update_layout(title_text='COVID-19 Mortality Rate in BREVES',plot_bgcolor='rgb(225,230,255)')\n",
        "fig.show()"
      ],
      "execution_count": null,
      "outputs": [
        {
          "output_type": "display_data",
          "data": {
            "application/vnd.plotly.v1+json": {
              "config": {
                "plotlyServerURL": "https://plot.ly"
              },
              "data": [
                {
                  "marker": {
                    "color": "red"
                  },
                  "mode": "lines+markers",
                  "name": "Cases",
                  "type": "scatter",
                  "x": [
                    "2020-07-13T00:00:00",
                    "2020-07-12T00:00:00",
                    "2020-07-11T00:00:00",
                    "2020-07-10T00:00:00",
                    "2020-07-09T00:00:00",
                    "2020-07-08T00:00:00",
                    "2020-07-07T00:00:00",
                    "2020-07-06T00:00:00",
                    "2020-07-05T00:00:00",
                    "2020-07-04T00:00:00",
                    "2020-07-03T00:00:00",
                    "2020-07-02T00:00:00",
                    "2020-07-01T00:00:00",
                    "2020-06-30T00:00:00",
                    "2020-06-29T00:00:00",
                    "2020-06-28T00:00:00",
                    "2020-06-27T00:00:00",
                    "2020-06-26T00:00:00",
                    "2020-06-25T00:00:00",
                    "2020-06-24T00:00:00",
                    "2020-06-23T00:00:00",
                    "2020-06-22T00:00:00",
                    "2020-06-21T00:00:00",
                    "2020-06-20T00:00:00",
                    "2020-06-19T00:00:00",
                    "2020-06-18T00:00:00",
                    "2020-06-17T00:00:00",
                    "2020-06-16T00:00:00",
                    "2020-06-15T00:00:00",
                    "2020-06-14T00:00:00",
                    "2020-06-13T00:00:00",
                    "2020-06-12T00:00:00",
                    "2020-06-11T00:00:00",
                    "2020-06-10T00:00:00",
                    "2020-06-09T00:00:00",
                    "2020-06-08T00:00:00",
                    "2020-06-07T00:00:00",
                    "2020-06-06T00:00:00",
                    "2020-06-05T00:00:00",
                    "2020-06-04T00:00:00",
                    "2020-06-03T00:00:00",
                    "2020-06-02T00:00:00",
                    "2020-06-01T00:00:00",
                    "2020-05-31T00:00:00",
                    "2020-05-30T00:00:00",
                    "2020-05-29T00:00:00",
                    "2020-05-28T00:00:00",
                    "2020-05-27T00:00:00",
                    "2020-05-26T00:00:00",
                    "2020-05-25T00:00:00",
                    "2020-05-24T00:00:00",
                    "2020-05-23T00:00:00",
                    "2020-05-22T00:00:00",
                    "2020-05-21T00:00:00",
                    "2020-05-20T00:00:00",
                    "2020-05-19T00:00:00",
                    "2020-05-18T00:00:00",
                    "2020-05-17T00:00:00",
                    "2020-05-16T00:00:00",
                    "2020-05-15T00:00:00",
                    "2020-05-14T00:00:00",
                    "2020-05-13T00:00:00",
                    "2020-05-12T00:00:00",
                    "2020-05-11T00:00:00",
                    "2020-05-10T00:00:00",
                    "2020-05-09T00:00:00",
                    "2020-05-08T00:00:00",
                    "2020-05-07T00:00:00",
                    "2020-05-06T00:00:00",
                    "2020-05-05T00:00:00",
                    "2020-05-04T00:00:00",
                    "2020-05-03T00:00:00",
                    "2020-05-02T00:00:00",
                    "2020-05-01T00:00:00",
                    "2020-04-30T00:00:00",
                    "2020-04-29T00:00:00",
                    "2020-04-28T00:00:00",
                    "2020-04-27T00:00:00",
                    "2020-04-26T00:00:00",
                    "2020-04-25T00:00:00",
                    "2020-04-24T00:00:00",
                    "2020-04-23T00:00:00",
                    "2020-04-22T00:00:00",
                    "2020-04-21T00:00:00",
                    "2020-04-20T00:00:00",
                    "2020-04-19T00:00:00",
                    "2020-04-18T00:00:00",
                    "2020-04-17T00:00:00",
                    "2020-04-16T00:00:00",
                    "2020-04-15T00:00:00",
                    "2020-04-14T00:00:00",
                    "2020-04-13T00:00:00",
                    "2020-04-12T00:00:00",
                    "2020-04-11T00:00:00",
                    "2020-04-10T00:00:00",
                    "2020-04-09T00:00:00",
                    "2020-04-08T00:00:00",
                    "2020-04-07T00:00:00",
                    "2020-04-06T00:00:00",
                    "2020-04-05T00:00:00",
                    "2020-04-04T00:00:00",
                    "2020-04-03T00:00:00",
                    "2020-04-02T00:00:00"
                  ],
                  "y": [
                    5.1211072664359865,
                    5.156794425087108,
                    5.196629213483146,
                    5.24822695035461,
                    5.244252873563219,
                    5.3013798111837325,
                    5.351906158357771,
                    5.387453874538745,
                    5.419450631031922,
                    5.4640718562874255,
                    5.538694992412747,
                    5.637065637065637,
                    5.734485467399843,
                    5.835331734612311,
                    5.934959349593496,
                    6.043046357615895,
                    6.113902847571189,
                    6.196943972835315,
                    6.303972366148532,
                    6.4,
                    6.605504587155964,
                    7.093596059113301,
                    7.349896480331262,
                    7.497360084477296,
                    7.609860664523044,
                    7.616974972796518,
                    7.6074972436604185,
                    7.68361581920904,
                    7.879490150637311,
                    8.048780487804878,
                    8.074534161490684,
                    8.18639798488665,
                    8.312020460358056,
                    8.37696335078534,
                    8.63697705802969,
                    9.026798307475318,
                    9.104046242774565,
                    9.647779479326186,
                    10.01589825119237,
                    10.598290598290598,
                    10.758377425044092,
                    11.070780399274046,
                    11.359404096834265,
                    11.281070745697896,
                    11.500974658869396,
                    11.29032258064516,
                    11.475409836065573,
                    11.363636363636363,
                    11.39240506329114,
                    11.546840958605664,
                    11.6331096196868,
                    11.486486486486488,
                    11.697247706422019,
                    11.76470588235294,
                    11.87648456057007,
                    12.039312039312039,
                    12.694300518134716,
                    12.566844919786096,
                    13.005780346820808,
                    12.048192771084338,
                    12.578616352201259,
                    12.54237288135593,
                    13.23529411764706,
                    13.636363636363635,
                    14.864864864864865,
                    16.176470588235293,
                    16.666666666666664,
                    18,
                    16.901408450704224,
                    16.379310344827587,
                    14.150943396226415,
                    14.444444444444443,
                    13.513513513513514,
                    11.940298507462686,
                    15.09433962264151,
                    16.216216216216218,
                    9.375,
                    11.11111111111111,
                    5.88235294117647,
                    7.6923076923076925,
                    7.6923076923076925,
                    11.11111111111111,
                    14.285714285714285,
                    50,
                    50,
                    0,
                    0,
                    null,
                    null,
                    null,
                    null,
                    null,
                    null,
                    null,
                    null,
                    null,
                    null,
                    null,
                    null,
                    null,
                    null,
                    null,
                    null
                  ]
                }
              ],
              "layout": {
                "plot_bgcolor": "rgb(225,230,255)",
                "template": {
                  "data": {
                    "bar": [
                      {
                        "error_x": {
                          "color": "#2a3f5f"
                        },
                        "error_y": {
                          "color": "#2a3f5f"
                        },
                        "marker": {
                          "line": {
                            "color": "#E5ECF6",
                            "width": 0.5
                          }
                        },
                        "type": "bar"
                      }
                    ],
                    "barpolar": [
                      {
                        "marker": {
                          "line": {
                            "color": "#E5ECF6",
                            "width": 0.5
                          }
                        },
                        "type": "barpolar"
                      }
                    ],
                    "carpet": [
                      {
                        "aaxis": {
                          "endlinecolor": "#2a3f5f",
                          "gridcolor": "white",
                          "linecolor": "white",
                          "minorgridcolor": "white",
                          "startlinecolor": "#2a3f5f"
                        },
                        "baxis": {
                          "endlinecolor": "#2a3f5f",
                          "gridcolor": "white",
                          "linecolor": "white",
                          "minorgridcolor": "white",
                          "startlinecolor": "#2a3f5f"
                        },
                        "type": "carpet"
                      }
                    ],
                    "choropleth": [
                      {
                        "colorbar": {
                          "outlinewidth": 0,
                          "ticks": ""
                        },
                        "type": "choropleth"
                      }
                    ],
                    "contour": [
                      {
                        "colorbar": {
                          "outlinewidth": 0,
                          "ticks": ""
                        },
                        "colorscale": [
                          [
                            0,
                            "#0d0887"
                          ],
                          [
                            0.1111111111111111,
                            "#46039f"
                          ],
                          [
                            0.2222222222222222,
                            "#7201a8"
                          ],
                          [
                            0.3333333333333333,
                            "#9c179e"
                          ],
                          [
                            0.4444444444444444,
                            "#bd3786"
                          ],
                          [
                            0.5555555555555556,
                            "#d8576b"
                          ],
                          [
                            0.6666666666666666,
                            "#ed7953"
                          ],
                          [
                            0.7777777777777778,
                            "#fb9f3a"
                          ],
                          [
                            0.8888888888888888,
                            "#fdca26"
                          ],
                          [
                            1,
                            "#f0f921"
                          ]
                        ],
                        "type": "contour"
                      }
                    ],
                    "contourcarpet": [
                      {
                        "colorbar": {
                          "outlinewidth": 0,
                          "ticks": ""
                        },
                        "type": "contourcarpet"
                      }
                    ],
                    "heatmap": [
                      {
                        "colorbar": {
                          "outlinewidth": 0,
                          "ticks": ""
                        },
                        "colorscale": [
                          [
                            0,
                            "#0d0887"
                          ],
                          [
                            0.1111111111111111,
                            "#46039f"
                          ],
                          [
                            0.2222222222222222,
                            "#7201a8"
                          ],
                          [
                            0.3333333333333333,
                            "#9c179e"
                          ],
                          [
                            0.4444444444444444,
                            "#bd3786"
                          ],
                          [
                            0.5555555555555556,
                            "#d8576b"
                          ],
                          [
                            0.6666666666666666,
                            "#ed7953"
                          ],
                          [
                            0.7777777777777778,
                            "#fb9f3a"
                          ],
                          [
                            0.8888888888888888,
                            "#fdca26"
                          ],
                          [
                            1,
                            "#f0f921"
                          ]
                        ],
                        "type": "heatmap"
                      }
                    ],
                    "heatmapgl": [
                      {
                        "colorbar": {
                          "outlinewidth": 0,
                          "ticks": ""
                        },
                        "colorscale": [
                          [
                            0,
                            "#0d0887"
                          ],
                          [
                            0.1111111111111111,
                            "#46039f"
                          ],
                          [
                            0.2222222222222222,
                            "#7201a8"
                          ],
                          [
                            0.3333333333333333,
                            "#9c179e"
                          ],
                          [
                            0.4444444444444444,
                            "#bd3786"
                          ],
                          [
                            0.5555555555555556,
                            "#d8576b"
                          ],
                          [
                            0.6666666666666666,
                            "#ed7953"
                          ],
                          [
                            0.7777777777777778,
                            "#fb9f3a"
                          ],
                          [
                            0.8888888888888888,
                            "#fdca26"
                          ],
                          [
                            1,
                            "#f0f921"
                          ]
                        ],
                        "type": "heatmapgl"
                      }
                    ],
                    "histogram": [
                      {
                        "marker": {
                          "colorbar": {
                            "outlinewidth": 0,
                            "ticks": ""
                          }
                        },
                        "type": "histogram"
                      }
                    ],
                    "histogram2d": [
                      {
                        "colorbar": {
                          "outlinewidth": 0,
                          "ticks": ""
                        },
                        "colorscale": [
                          [
                            0,
                            "#0d0887"
                          ],
                          [
                            0.1111111111111111,
                            "#46039f"
                          ],
                          [
                            0.2222222222222222,
                            "#7201a8"
                          ],
                          [
                            0.3333333333333333,
                            "#9c179e"
                          ],
                          [
                            0.4444444444444444,
                            "#bd3786"
                          ],
                          [
                            0.5555555555555556,
                            "#d8576b"
                          ],
                          [
                            0.6666666666666666,
                            "#ed7953"
                          ],
                          [
                            0.7777777777777778,
                            "#fb9f3a"
                          ],
                          [
                            0.8888888888888888,
                            "#fdca26"
                          ],
                          [
                            1,
                            "#f0f921"
                          ]
                        ],
                        "type": "histogram2d"
                      }
                    ],
                    "histogram2dcontour": [
                      {
                        "colorbar": {
                          "outlinewidth": 0,
                          "ticks": ""
                        },
                        "colorscale": [
                          [
                            0,
                            "#0d0887"
                          ],
                          [
                            0.1111111111111111,
                            "#46039f"
                          ],
                          [
                            0.2222222222222222,
                            "#7201a8"
                          ],
                          [
                            0.3333333333333333,
                            "#9c179e"
                          ],
                          [
                            0.4444444444444444,
                            "#bd3786"
                          ],
                          [
                            0.5555555555555556,
                            "#d8576b"
                          ],
                          [
                            0.6666666666666666,
                            "#ed7953"
                          ],
                          [
                            0.7777777777777778,
                            "#fb9f3a"
                          ],
                          [
                            0.8888888888888888,
                            "#fdca26"
                          ],
                          [
                            1,
                            "#f0f921"
                          ]
                        ],
                        "type": "histogram2dcontour"
                      }
                    ],
                    "mesh3d": [
                      {
                        "colorbar": {
                          "outlinewidth": 0,
                          "ticks": ""
                        },
                        "type": "mesh3d"
                      }
                    ],
                    "parcoords": [
                      {
                        "line": {
                          "colorbar": {
                            "outlinewidth": 0,
                            "ticks": ""
                          }
                        },
                        "type": "parcoords"
                      }
                    ],
                    "pie": [
                      {
                        "automargin": true,
                        "type": "pie"
                      }
                    ],
                    "scatter": [
                      {
                        "marker": {
                          "colorbar": {
                            "outlinewidth": 0,
                            "ticks": ""
                          }
                        },
                        "type": "scatter"
                      }
                    ],
                    "scatter3d": [
                      {
                        "line": {
                          "colorbar": {
                            "outlinewidth": 0,
                            "ticks": ""
                          }
                        },
                        "marker": {
                          "colorbar": {
                            "outlinewidth": 0,
                            "ticks": ""
                          }
                        },
                        "type": "scatter3d"
                      }
                    ],
                    "scattercarpet": [
                      {
                        "marker": {
                          "colorbar": {
                            "outlinewidth": 0,
                            "ticks": ""
                          }
                        },
                        "type": "scattercarpet"
                      }
                    ],
                    "scattergeo": [
                      {
                        "marker": {
                          "colorbar": {
                            "outlinewidth": 0,
                            "ticks": ""
                          }
                        },
                        "type": "scattergeo"
                      }
                    ],
                    "scattergl": [
                      {
                        "marker": {
                          "colorbar": {
                            "outlinewidth": 0,
                            "ticks": ""
                          }
                        },
                        "type": "scattergl"
                      }
                    ],
                    "scattermapbox": [
                      {
                        "marker": {
                          "colorbar": {
                            "outlinewidth": 0,
                            "ticks": ""
                          }
                        },
                        "type": "scattermapbox"
                      }
                    ],
                    "scatterpolar": [
                      {
                        "marker": {
                          "colorbar": {
                            "outlinewidth": 0,
                            "ticks": ""
                          }
                        },
                        "type": "scatterpolar"
                      }
                    ],
                    "scatterpolargl": [
                      {
                        "marker": {
                          "colorbar": {
                            "outlinewidth": 0,
                            "ticks": ""
                          }
                        },
                        "type": "scatterpolargl"
                      }
                    ],
                    "scatterternary": [
                      {
                        "marker": {
                          "colorbar": {
                            "outlinewidth": 0,
                            "ticks": ""
                          }
                        },
                        "type": "scatterternary"
                      }
                    ],
                    "surface": [
                      {
                        "colorbar": {
                          "outlinewidth": 0,
                          "ticks": ""
                        },
                        "colorscale": [
                          [
                            0,
                            "#0d0887"
                          ],
                          [
                            0.1111111111111111,
                            "#46039f"
                          ],
                          [
                            0.2222222222222222,
                            "#7201a8"
                          ],
                          [
                            0.3333333333333333,
                            "#9c179e"
                          ],
                          [
                            0.4444444444444444,
                            "#bd3786"
                          ],
                          [
                            0.5555555555555556,
                            "#d8576b"
                          ],
                          [
                            0.6666666666666666,
                            "#ed7953"
                          ],
                          [
                            0.7777777777777778,
                            "#fb9f3a"
                          ],
                          [
                            0.8888888888888888,
                            "#fdca26"
                          ],
                          [
                            1,
                            "#f0f921"
                          ]
                        ],
                        "type": "surface"
                      }
                    ],
                    "table": [
                      {
                        "cells": {
                          "fill": {
                            "color": "#EBF0F8"
                          },
                          "line": {
                            "color": "white"
                          }
                        },
                        "header": {
                          "fill": {
                            "color": "#C8D4E3"
                          },
                          "line": {
                            "color": "white"
                          }
                        },
                        "type": "table"
                      }
                    ]
                  },
                  "layout": {
                    "annotationdefaults": {
                      "arrowcolor": "#2a3f5f",
                      "arrowhead": 0,
                      "arrowwidth": 1
                    },
                    "coloraxis": {
                      "colorbar": {
                        "outlinewidth": 0,
                        "ticks": ""
                      }
                    },
                    "colorscale": {
                      "diverging": [
                        [
                          0,
                          "#8e0152"
                        ],
                        [
                          0.1,
                          "#c51b7d"
                        ],
                        [
                          0.2,
                          "#de77ae"
                        ],
                        [
                          0.3,
                          "#f1b6da"
                        ],
                        [
                          0.4,
                          "#fde0ef"
                        ],
                        [
                          0.5,
                          "#f7f7f7"
                        ],
                        [
                          0.6,
                          "#e6f5d0"
                        ],
                        [
                          0.7,
                          "#b8e186"
                        ],
                        [
                          0.8,
                          "#7fbc41"
                        ],
                        [
                          0.9,
                          "#4d9221"
                        ],
                        [
                          1,
                          "#276419"
                        ]
                      ],
                      "sequential": [
                        [
                          0,
                          "#0d0887"
                        ],
                        [
                          0.1111111111111111,
                          "#46039f"
                        ],
                        [
                          0.2222222222222222,
                          "#7201a8"
                        ],
                        [
                          0.3333333333333333,
                          "#9c179e"
                        ],
                        [
                          0.4444444444444444,
                          "#bd3786"
                        ],
                        [
                          0.5555555555555556,
                          "#d8576b"
                        ],
                        [
                          0.6666666666666666,
                          "#ed7953"
                        ],
                        [
                          0.7777777777777778,
                          "#fb9f3a"
                        ],
                        [
                          0.8888888888888888,
                          "#fdca26"
                        ],
                        [
                          1,
                          "#f0f921"
                        ]
                      ],
                      "sequentialminus": [
                        [
                          0,
                          "#0d0887"
                        ],
                        [
                          0.1111111111111111,
                          "#46039f"
                        ],
                        [
                          0.2222222222222222,
                          "#7201a8"
                        ],
                        [
                          0.3333333333333333,
                          "#9c179e"
                        ],
                        [
                          0.4444444444444444,
                          "#bd3786"
                        ],
                        [
                          0.5555555555555556,
                          "#d8576b"
                        ],
                        [
                          0.6666666666666666,
                          "#ed7953"
                        ],
                        [
                          0.7777777777777778,
                          "#fb9f3a"
                        ],
                        [
                          0.8888888888888888,
                          "#fdca26"
                        ],
                        [
                          1,
                          "#f0f921"
                        ]
                      ]
                    },
                    "colorway": [
                      "#636efa",
                      "#EF553B",
                      "#00cc96",
                      "#ab63fa",
                      "#FFA15A",
                      "#19d3f3",
                      "#FF6692",
                      "#B6E880",
                      "#FF97FF",
                      "#FECB52"
                    ],
                    "font": {
                      "color": "#2a3f5f"
                    },
                    "geo": {
                      "bgcolor": "white",
                      "lakecolor": "white",
                      "landcolor": "#E5ECF6",
                      "showlakes": true,
                      "showland": true,
                      "subunitcolor": "white"
                    },
                    "hoverlabel": {
                      "align": "left"
                    },
                    "hovermode": "closest",
                    "mapbox": {
                      "style": "light"
                    },
                    "paper_bgcolor": "white",
                    "plot_bgcolor": "#E5ECF6",
                    "polar": {
                      "angularaxis": {
                        "gridcolor": "white",
                        "linecolor": "white",
                        "ticks": ""
                      },
                      "bgcolor": "#E5ECF6",
                      "radialaxis": {
                        "gridcolor": "white",
                        "linecolor": "white",
                        "ticks": ""
                      }
                    },
                    "scene": {
                      "xaxis": {
                        "backgroundcolor": "#E5ECF6",
                        "gridcolor": "white",
                        "gridwidth": 2,
                        "linecolor": "white",
                        "showbackground": true,
                        "ticks": "",
                        "zerolinecolor": "white"
                      },
                      "yaxis": {
                        "backgroundcolor": "#E5ECF6",
                        "gridcolor": "white",
                        "gridwidth": 2,
                        "linecolor": "white",
                        "showbackground": true,
                        "ticks": "",
                        "zerolinecolor": "white"
                      },
                      "zaxis": {
                        "backgroundcolor": "#E5ECF6",
                        "gridcolor": "white",
                        "gridwidth": 2,
                        "linecolor": "white",
                        "showbackground": true,
                        "ticks": "",
                        "zerolinecolor": "white"
                      }
                    },
                    "shapedefaults": {
                      "line": {
                        "color": "#2a3f5f"
                      }
                    },
                    "ternary": {
                      "aaxis": {
                        "gridcolor": "white",
                        "linecolor": "white",
                        "ticks": ""
                      },
                      "baxis": {
                        "gridcolor": "white",
                        "linecolor": "white",
                        "ticks": ""
                      },
                      "bgcolor": "#E5ECF6",
                      "caxis": {
                        "gridcolor": "white",
                        "linecolor": "white",
                        "ticks": ""
                      }
                    },
                    "title": {
                      "x": 0.05
                    },
                    "xaxis": {
                      "automargin": true,
                      "gridcolor": "white",
                      "linecolor": "white",
                      "ticks": "",
                      "title": {
                        "standoff": 15
                      },
                      "zerolinecolor": "white",
                      "zerolinewidth": 2
                    },
                    "yaxis": {
                      "automargin": true,
                      "gridcolor": "white",
                      "linecolor": "white",
                      "ticks": "",
                      "title": {
                        "standoff": 15
                      },
                      "zerolinecolor": "white",
                      "zerolinewidth": 2
                    }
                  }
                },
                "title": {
                  "text": "COVID-19 Mortality Rate in BREVES"
                }
              }
            },
            "text/html": [
              "<div>\n",
              "        \n",
              "        \n",
              "            <div id=\"891db0fe-5b52-4c40-bfb2-46a4c8d5289f\" class=\"plotly-graph-div\" style=\"height:525px; width:100%;\"></div>\n",
              "            <script type=\"text/javascript\">\n",
              "                require([\"plotly\"], function(Plotly) {\n",
              "                    window.PLOTLYENV=window.PLOTLYENV || {};\n",
              "                    \n",
              "                if (document.getElementById(\"891db0fe-5b52-4c40-bfb2-46a4c8d5289f\")) {\n",
              "                    Plotly.newPlot(\n",
              "                        '891db0fe-5b52-4c40-bfb2-46a4c8d5289f',\n",
              "                        [{\"marker\": {\"color\": \"red\"}, \"mode\": \"lines+markers\", \"name\": \"Cases\", \"type\": \"scatter\", \"x\": [\"2020-07-13T00:00:00\", \"2020-07-12T00:00:00\", \"2020-07-11T00:00:00\", \"2020-07-10T00:00:00\", \"2020-07-09T00:00:00\", \"2020-07-08T00:00:00\", \"2020-07-07T00:00:00\", \"2020-07-06T00:00:00\", \"2020-07-05T00:00:00\", \"2020-07-04T00:00:00\", \"2020-07-03T00:00:00\", \"2020-07-02T00:00:00\", \"2020-07-01T00:00:00\", \"2020-06-30T00:00:00\", \"2020-06-29T00:00:00\", \"2020-06-28T00:00:00\", \"2020-06-27T00:00:00\", \"2020-06-26T00:00:00\", \"2020-06-25T00:00:00\", \"2020-06-24T00:00:00\", \"2020-06-23T00:00:00\", \"2020-06-22T00:00:00\", \"2020-06-21T00:00:00\", \"2020-06-20T00:00:00\", \"2020-06-19T00:00:00\", \"2020-06-18T00:00:00\", \"2020-06-17T00:00:00\", \"2020-06-16T00:00:00\", \"2020-06-15T00:00:00\", \"2020-06-14T00:00:00\", \"2020-06-13T00:00:00\", \"2020-06-12T00:00:00\", \"2020-06-11T00:00:00\", \"2020-06-10T00:00:00\", \"2020-06-09T00:00:00\", \"2020-06-08T00:00:00\", \"2020-06-07T00:00:00\", \"2020-06-06T00:00:00\", \"2020-06-05T00:00:00\", \"2020-06-04T00:00:00\", \"2020-06-03T00:00:00\", \"2020-06-02T00:00:00\", \"2020-06-01T00:00:00\", \"2020-05-31T00:00:00\", \"2020-05-30T00:00:00\", \"2020-05-29T00:00:00\", \"2020-05-28T00:00:00\", \"2020-05-27T00:00:00\", \"2020-05-26T00:00:00\", \"2020-05-25T00:00:00\", \"2020-05-24T00:00:00\", \"2020-05-23T00:00:00\", \"2020-05-22T00:00:00\", \"2020-05-21T00:00:00\", \"2020-05-20T00:00:00\", \"2020-05-19T00:00:00\", \"2020-05-18T00:00:00\", \"2020-05-17T00:00:00\", \"2020-05-16T00:00:00\", \"2020-05-15T00:00:00\", \"2020-05-14T00:00:00\", \"2020-05-13T00:00:00\", \"2020-05-12T00:00:00\", \"2020-05-11T00:00:00\", \"2020-05-10T00:00:00\", \"2020-05-09T00:00:00\", \"2020-05-08T00:00:00\", \"2020-05-07T00:00:00\", \"2020-05-06T00:00:00\", \"2020-05-05T00:00:00\", \"2020-05-04T00:00:00\", \"2020-05-03T00:00:00\", \"2020-05-02T00:00:00\", \"2020-05-01T00:00:00\", \"2020-04-30T00:00:00\", \"2020-04-29T00:00:00\", \"2020-04-28T00:00:00\", \"2020-04-27T00:00:00\", \"2020-04-26T00:00:00\", \"2020-04-25T00:00:00\", \"2020-04-24T00:00:00\", \"2020-04-23T00:00:00\", \"2020-04-22T00:00:00\", \"2020-04-21T00:00:00\", \"2020-04-20T00:00:00\", \"2020-04-19T00:00:00\", \"2020-04-18T00:00:00\", \"2020-04-17T00:00:00\", \"2020-04-16T00:00:00\", \"2020-04-15T00:00:00\", \"2020-04-14T00:00:00\", \"2020-04-13T00:00:00\", \"2020-04-12T00:00:00\", \"2020-04-11T00:00:00\", \"2020-04-10T00:00:00\", \"2020-04-09T00:00:00\", \"2020-04-08T00:00:00\", \"2020-04-07T00:00:00\", \"2020-04-06T00:00:00\", \"2020-04-05T00:00:00\", \"2020-04-04T00:00:00\", \"2020-04-03T00:00:00\", \"2020-04-02T00:00:00\"], \"y\": [5.1211072664359865, 5.156794425087108, 5.196629213483146, 5.24822695035461, 5.244252873563219, 5.3013798111837325, 5.351906158357771, 5.387453874538745, 5.419450631031922, 5.4640718562874255, 5.538694992412747, 5.637065637065637, 5.734485467399843, 5.835331734612311, 5.934959349593496, 6.043046357615895, 6.113902847571189, 6.196943972835315, 6.303972366148532, 6.4, 6.605504587155964, 7.093596059113301, 7.349896480331262, 7.497360084477296, 7.609860664523044, 7.616974972796518, 7.6074972436604185, 7.68361581920904, 7.879490150637311, 8.048780487804878, 8.074534161490684, 8.18639798488665, 8.312020460358056, 8.37696335078534, 8.63697705802969, 9.026798307475318, 9.104046242774565, 9.647779479326186, 10.01589825119237, 10.598290598290598, 10.758377425044092, 11.070780399274046, 11.359404096834265, 11.281070745697896, 11.500974658869396, 11.29032258064516, 11.475409836065573, 11.363636363636363, 11.39240506329114, 11.546840958605664, 11.6331096196868, 11.486486486486488, 11.697247706422019, 11.76470588235294, 11.87648456057007, 12.039312039312039, 12.694300518134716, 12.566844919786096, 13.005780346820808, 12.048192771084338, 12.578616352201259, 12.54237288135593, 13.23529411764706, 13.636363636363635, 14.864864864864865, 16.176470588235293, 16.666666666666664, 18.0, 16.901408450704224, 16.379310344827587, 14.150943396226415, 14.444444444444443, 13.513513513513514, 11.940298507462686, 15.09433962264151, 16.216216216216218, 9.375, 11.11111111111111, 5.88235294117647, 7.6923076923076925, 7.6923076923076925, 11.11111111111111, 14.285714285714285, 50.0, 50.0, 0.0, 0.0, null, null, null, null, null, null, null, null, null, null, null, null, null, null, null, null]}],\n",
              "                        {\"plot_bgcolor\": \"rgb(225,230,255)\", \"template\": {\"data\": {\"bar\": [{\"error_x\": {\"color\": \"#2a3f5f\"}, \"error_y\": {\"color\": \"#2a3f5f\"}, \"marker\": {\"line\": {\"color\": \"#E5ECF6\", \"width\": 0.5}}, \"type\": \"bar\"}], \"barpolar\": [{\"marker\": {\"line\": {\"color\": \"#E5ECF6\", \"width\": 0.5}}, \"type\": \"barpolar\"}], \"carpet\": [{\"aaxis\": {\"endlinecolor\": \"#2a3f5f\", \"gridcolor\": \"white\", \"linecolor\": \"white\", \"minorgridcolor\": \"white\", \"startlinecolor\": \"#2a3f5f\"}, \"baxis\": {\"endlinecolor\": \"#2a3f5f\", \"gridcolor\": \"white\", \"linecolor\": \"white\", \"minorgridcolor\": \"white\", \"startlinecolor\": \"#2a3f5f\"}, \"type\": \"carpet\"}], \"choropleth\": [{\"colorbar\": {\"outlinewidth\": 0, \"ticks\": \"\"}, \"type\": \"choropleth\"}], \"contour\": [{\"colorbar\": {\"outlinewidth\": 0, \"ticks\": \"\"}, \"colorscale\": [[0.0, \"#0d0887\"], [0.1111111111111111, \"#46039f\"], [0.2222222222222222, \"#7201a8\"], [0.3333333333333333, \"#9c179e\"], [0.4444444444444444, \"#bd3786\"], [0.5555555555555556, \"#d8576b\"], [0.6666666666666666, \"#ed7953\"], [0.7777777777777778, \"#fb9f3a\"], [0.8888888888888888, \"#fdca26\"], [1.0, \"#f0f921\"]], \"type\": \"contour\"}], \"contourcarpet\": [{\"colorbar\": {\"outlinewidth\": 0, \"ticks\": \"\"}, \"type\": \"contourcarpet\"}], \"heatmap\": [{\"colorbar\": {\"outlinewidth\": 0, \"ticks\": \"\"}, \"colorscale\": [[0.0, \"#0d0887\"], [0.1111111111111111, \"#46039f\"], [0.2222222222222222, \"#7201a8\"], [0.3333333333333333, \"#9c179e\"], [0.4444444444444444, \"#bd3786\"], [0.5555555555555556, \"#d8576b\"], [0.6666666666666666, \"#ed7953\"], [0.7777777777777778, \"#fb9f3a\"], [0.8888888888888888, \"#fdca26\"], [1.0, \"#f0f921\"]], \"type\": \"heatmap\"}], \"heatmapgl\": [{\"colorbar\": {\"outlinewidth\": 0, \"ticks\": \"\"}, \"colorscale\": [[0.0, \"#0d0887\"], [0.1111111111111111, \"#46039f\"], [0.2222222222222222, \"#7201a8\"], [0.3333333333333333, \"#9c179e\"], [0.4444444444444444, \"#bd3786\"], [0.5555555555555556, \"#d8576b\"], [0.6666666666666666, \"#ed7953\"], [0.7777777777777778, \"#fb9f3a\"], [0.8888888888888888, \"#fdca26\"], [1.0, \"#f0f921\"]], \"type\": \"heatmapgl\"}], \"histogram\": [{\"marker\": {\"colorbar\": {\"outlinewidth\": 0, \"ticks\": \"\"}}, \"type\": \"histogram\"}], \"histogram2d\": [{\"colorbar\": {\"outlinewidth\": 0, \"ticks\": \"\"}, \"colorscale\": [[0.0, \"#0d0887\"], [0.1111111111111111, \"#46039f\"], [0.2222222222222222, \"#7201a8\"], [0.3333333333333333, \"#9c179e\"], [0.4444444444444444, \"#bd3786\"], [0.5555555555555556, \"#d8576b\"], [0.6666666666666666, \"#ed7953\"], [0.7777777777777778, \"#fb9f3a\"], [0.8888888888888888, \"#fdca26\"], [1.0, \"#f0f921\"]], \"type\": \"histogram2d\"}], \"histogram2dcontour\": [{\"colorbar\": {\"outlinewidth\": 0, \"ticks\": \"\"}, \"colorscale\": [[0.0, \"#0d0887\"], [0.1111111111111111, \"#46039f\"], [0.2222222222222222, \"#7201a8\"], [0.3333333333333333, \"#9c179e\"], [0.4444444444444444, \"#bd3786\"], [0.5555555555555556, \"#d8576b\"], [0.6666666666666666, \"#ed7953\"], [0.7777777777777778, \"#fb9f3a\"], [0.8888888888888888, \"#fdca26\"], [1.0, \"#f0f921\"]], \"type\": \"histogram2dcontour\"}], \"mesh3d\": [{\"colorbar\": {\"outlinewidth\": 0, \"ticks\": \"\"}, \"type\": \"mesh3d\"}], \"parcoords\": [{\"line\": {\"colorbar\": {\"outlinewidth\": 0, \"ticks\": \"\"}}, \"type\": \"parcoords\"}], \"pie\": [{\"automargin\": true, \"type\": \"pie\"}], \"scatter\": [{\"marker\": {\"colorbar\": {\"outlinewidth\": 0, \"ticks\": \"\"}}, \"type\": \"scatter\"}], \"scatter3d\": [{\"line\": {\"colorbar\": {\"outlinewidth\": 0, \"ticks\": \"\"}}, \"marker\": {\"colorbar\": {\"outlinewidth\": 0, \"ticks\": \"\"}}, \"type\": \"scatter3d\"}], \"scattercarpet\": [{\"marker\": {\"colorbar\": {\"outlinewidth\": 0, \"ticks\": \"\"}}, \"type\": \"scattercarpet\"}], \"scattergeo\": [{\"marker\": {\"colorbar\": {\"outlinewidth\": 0, \"ticks\": \"\"}}, \"type\": \"scattergeo\"}], \"scattergl\": [{\"marker\": {\"colorbar\": {\"outlinewidth\": 0, \"ticks\": \"\"}}, \"type\": \"scattergl\"}], \"scattermapbox\": [{\"marker\": {\"colorbar\": {\"outlinewidth\": 0, \"ticks\": \"\"}}, \"type\": \"scattermapbox\"}], \"scatterpolar\": [{\"marker\": {\"colorbar\": {\"outlinewidth\": 0, \"ticks\": \"\"}}, \"type\": \"scatterpolar\"}], \"scatterpolargl\": [{\"marker\": {\"colorbar\": {\"outlinewidth\": 0, \"ticks\": \"\"}}, \"type\": \"scatterpolargl\"}], \"scatterternary\": [{\"marker\": {\"colorbar\": {\"outlinewidth\": 0, \"ticks\": \"\"}}, \"type\": \"scatterternary\"}], \"surface\": [{\"colorbar\": {\"outlinewidth\": 0, \"ticks\": \"\"}, \"colorscale\": [[0.0, \"#0d0887\"], [0.1111111111111111, \"#46039f\"], [0.2222222222222222, \"#7201a8\"], [0.3333333333333333, \"#9c179e\"], [0.4444444444444444, \"#bd3786\"], [0.5555555555555556, \"#d8576b\"], [0.6666666666666666, \"#ed7953\"], [0.7777777777777778, \"#fb9f3a\"], [0.8888888888888888, \"#fdca26\"], [1.0, \"#f0f921\"]], \"type\": \"surface\"}], \"table\": [{\"cells\": {\"fill\": {\"color\": \"#EBF0F8\"}, \"line\": {\"color\": \"white\"}}, \"header\": {\"fill\": {\"color\": \"#C8D4E3\"}, \"line\": {\"color\": \"white\"}}, \"type\": \"table\"}]}, \"layout\": {\"annotationdefaults\": {\"arrowcolor\": \"#2a3f5f\", \"arrowhead\": 0, \"arrowwidth\": 1}, \"coloraxis\": {\"colorbar\": {\"outlinewidth\": 0, \"ticks\": \"\"}}, \"colorscale\": {\"diverging\": [[0, \"#8e0152\"], [0.1, \"#c51b7d\"], [0.2, \"#de77ae\"], [0.3, \"#f1b6da\"], [0.4, \"#fde0ef\"], [0.5, \"#f7f7f7\"], [0.6, \"#e6f5d0\"], [0.7, \"#b8e186\"], [0.8, \"#7fbc41\"], [0.9, \"#4d9221\"], [1, \"#276419\"]], \"sequential\": [[0.0, \"#0d0887\"], [0.1111111111111111, \"#46039f\"], [0.2222222222222222, \"#7201a8\"], [0.3333333333333333, \"#9c179e\"], [0.4444444444444444, \"#bd3786\"], [0.5555555555555556, \"#d8576b\"], [0.6666666666666666, \"#ed7953\"], [0.7777777777777778, \"#fb9f3a\"], [0.8888888888888888, \"#fdca26\"], [1.0, \"#f0f921\"]], \"sequentialminus\": [[0.0, \"#0d0887\"], [0.1111111111111111, \"#46039f\"], [0.2222222222222222, \"#7201a8\"], [0.3333333333333333, \"#9c179e\"], [0.4444444444444444, \"#bd3786\"], [0.5555555555555556, \"#d8576b\"], [0.6666666666666666, \"#ed7953\"], [0.7777777777777778, \"#fb9f3a\"], [0.8888888888888888, \"#fdca26\"], [1.0, \"#f0f921\"]]}, \"colorway\": [\"#636efa\", \"#EF553B\", \"#00cc96\", \"#ab63fa\", \"#FFA15A\", \"#19d3f3\", \"#FF6692\", \"#B6E880\", \"#FF97FF\", \"#FECB52\"], \"font\": {\"color\": \"#2a3f5f\"}, \"geo\": {\"bgcolor\": \"white\", \"lakecolor\": \"white\", \"landcolor\": \"#E5ECF6\", \"showlakes\": true, \"showland\": true, \"subunitcolor\": \"white\"}, \"hoverlabel\": {\"align\": \"left\"}, \"hovermode\": \"closest\", \"mapbox\": {\"style\": \"light\"}, \"paper_bgcolor\": \"white\", \"plot_bgcolor\": \"#E5ECF6\", \"polar\": {\"angularaxis\": {\"gridcolor\": \"white\", \"linecolor\": \"white\", \"ticks\": \"\"}, \"bgcolor\": \"#E5ECF6\", \"radialaxis\": {\"gridcolor\": \"white\", \"linecolor\": \"white\", \"ticks\": \"\"}}, \"scene\": {\"xaxis\": {\"backgroundcolor\": \"#E5ECF6\", \"gridcolor\": \"white\", \"gridwidth\": 2, \"linecolor\": \"white\", \"showbackground\": true, \"ticks\": \"\", \"zerolinecolor\": \"white\"}, \"yaxis\": {\"backgroundcolor\": \"#E5ECF6\", \"gridcolor\": \"white\", \"gridwidth\": 2, \"linecolor\": \"white\", \"showbackground\": true, \"ticks\": \"\", \"zerolinecolor\": \"white\"}, \"zaxis\": {\"backgroundcolor\": \"#E5ECF6\", \"gridcolor\": \"white\", \"gridwidth\": 2, \"linecolor\": \"white\", \"showbackground\": true, \"ticks\": \"\", \"zerolinecolor\": \"white\"}}, \"shapedefaults\": {\"line\": {\"color\": \"#2a3f5f\"}}, \"ternary\": {\"aaxis\": {\"gridcolor\": \"white\", \"linecolor\": \"white\", \"ticks\": \"\"}, \"baxis\": {\"gridcolor\": \"white\", \"linecolor\": \"white\", \"ticks\": \"\"}, \"bgcolor\": \"#E5ECF6\", \"caxis\": {\"gridcolor\": \"white\", \"linecolor\": \"white\", \"ticks\": \"\"}}, \"title\": {\"x\": 0.05}, \"xaxis\": {\"automargin\": true, \"gridcolor\": \"white\", \"linecolor\": \"white\", \"ticks\": \"\", \"title\": {\"standoff\": 15}, \"zerolinecolor\": \"white\", \"zerolinewidth\": 2}, \"yaxis\": {\"automargin\": true, \"gridcolor\": \"white\", \"linecolor\": \"white\", \"ticks\": \"\", \"title\": {\"standoff\": 15}, \"zerolinecolor\": \"white\", \"zerolinewidth\": 2}}}, \"title\": {\"text\": \"COVID-19 Mortality Rate in BREVES\"}},\n",
              "                        {\"responsive\": true}\n",
              "                    ).then(function(){\n",
              "                            \n",
              "var gd = document.getElementById('891db0fe-5b52-4c40-bfb2-46a4c8d5289f');\n",
              "var x = new MutationObserver(function (mutations, observer) {{\n",
              "        var display = window.getComputedStyle(gd).display;\n",
              "        if (!display || display === 'none') {{\n",
              "            console.log([gd, 'removed!']);\n",
              "            Plotly.purge(gd);\n",
              "            observer.disconnect();\n",
              "        }}\n",
              "}});\n",
              "\n",
              "// Listen for the removal of the full notebook cells\n",
              "var notebookContainer = gd.closest('#notebook-container');\n",
              "if (notebookContainer) {{\n",
              "    x.observe(notebookContainer, {childList: true});\n",
              "}}\n",
              "\n",
              "// Listen for the clearing of the current output cell\n",
              "var outputEl = gd.closest('.output');\n",
              "if (outputEl) {{\n",
              "    x.observe(outputEl, {childList: true});\n",
              "}}\n",
              "\n",
              "                        })\n",
              "                };\n",
              "                });\n",
              "            </script>\n",
              "        </div>"
            ]
          },
          "metadata": {
            "tags": []
          }
        }
      ]
    },
    {
      "cell_type": "code",
      "metadata": {
        "id": "1k4DoUq9cw6z",
        "colab_type": "code",
        "colab": {},
        "outputId": "9c540fb3-d14d-4fc7-dfea-bb7e8b1b4787"
      },
      "source": [
        "#DAILY DEATHS IN BREVES\n",
        "carona_data = df_breves.groupby(['Date'])['Deaths'].sum().reset_index().sort_values('Deaths',ascending = True)\n",
        "carona_data['DAILY DEATHS'] = carona_data['Deaths'].sub(carona_data['Deaths'].shift())\n",
        "carona_data['DAILY DEATHS'].iloc[0] = carona_data['Deaths'].iloc[0]\n",
        "carona_data['DAILY DEATHS'] = carona_data['DAILY DEATHS'].astype(int)\n",
        "fig = px.bar(carona_data, y='DAILY DEATHS', x='Date',hover_data =['DAILY DEATHS'], color='DAILY DEATHS', height=500)\n",
        "fig.update_layout(\n",
        "    title='DAILY DEATHS IN BREVES')\n",
        "fig.show()"
      ],
      "execution_count": null,
      "outputs": [
        {
          "output_type": "display_data",
          "data": {
            "application/vnd.plotly.v1+json": {
              "config": {
                "plotlyServerURL": "https://plot.ly"
              },
              "data": [
                {
                  "alignmentgroup": "True",
                  "customdata": [
                    [
                      0
                    ],
                    [
                      0
                    ],
                    [
                      0
                    ],
                    [
                      0
                    ],
                    [
                      0
                    ],
                    [
                      0
                    ],
                    [
                      0
                    ],
                    [
                      0
                    ],
                    [
                      0
                    ],
                    [
                      0
                    ],
                    [
                      0
                    ],
                    [
                      0
                    ],
                    [
                      0
                    ],
                    [
                      0
                    ],
                    [
                      0
                    ],
                    [
                      0
                    ],
                    [
                      0
                    ],
                    [
                      0
                    ],
                    [
                      1
                    ],
                    [
                      0
                    ],
                    [
                      0
                    ],
                    [
                      0
                    ],
                    [
                      0
                    ],
                    [
                      0
                    ],
                    [
                      0
                    ],
                    [
                      2
                    ],
                    [
                      0
                    ],
                    [
                      3
                    ],
                    [
                      2
                    ],
                    [
                      0
                    ],
                    [
                      2
                    ],
                    [
                      3
                    ],
                    [
                      2
                    ],
                    [
                      4
                    ],
                    [
                      5
                    ],
                    [
                      3
                    ],
                    [
                      2
                    ],
                    [
                      4
                    ],
                    [
                      0
                    ],
                    [
                      0
                    ],
                    [
                      3
                    ],
                    [
                      1
                    ],
                    [
                      3
                    ],
                    [
                      0
                    ],
                    [
                      5
                    ],
                    [
                      2
                    ],
                    [
                      2
                    ],
                    [
                      0
                    ],
                    [
                      1
                    ],
                    [
                      0
                    ],
                    [
                      1
                    ],
                    [
                      0
                    ],
                    [
                      1
                    ],
                    [
                      1
                    ],
                    [
                      1
                    ],
                    [
                      1
                    ],
                    [
                      1
                    ],
                    [
                      0
                    ],
                    [
                      3
                    ],
                    [
                      0
                    ],
                    [
                      2
                    ],
                    [
                      0
                    ],
                    [
                      0
                    ],
                    [
                      1
                    ],
                    [
                      1
                    ],
                    [
                      0
                    ],
                    [
                      0
                    ],
                    [
                      1
                    ],
                    [
                      0
                    ],
                    [
                      0
                    ],
                    [
                      1
                    ],
                    [
                      0
                    ],
                    [
                      0
                    ],
                    [
                      1
                    ],
                    [
                      2
                    ],
                    [
                      0
                    ],
                    [
                      1
                    ],
                    [
                      1
                    ],
                    [
                      1
                    ],
                    [
                      0
                    ],
                    [
                      0
                    ],
                    [
                      1
                    ],
                    [
                      0
                    ],
                    [
                      0
                    ],
                    [
                      1
                    ],
                    [
                      0
                    ],
                    [
                      0
                    ],
                    [
                      0
                    ],
                    [
                      0
                    ],
                    [
                      0
                    ],
                    [
                      0
                    ],
                    [
                      0
                    ],
                    [
                      0
                    ],
                    [
                      0
                    ],
                    [
                      0
                    ],
                    [
                      0
                    ],
                    [
                      0
                    ],
                    [
                      0
                    ],
                    [
                      0
                    ],
                    [
                      1
                    ],
                    [
                      0
                    ],
                    [
                      0
                    ],
                    [
                      0
                    ]
                  ],
                  "hovertemplate": "Date=%{x}<br>DAILY DEATHS=%{marker.color}<extra></extra>",
                  "legendgroup": "",
                  "marker": {
                    "color": [
                      0,
                      0,
                      0,
                      0,
                      0,
                      0,
                      0,
                      0,
                      0,
                      0,
                      0,
                      0,
                      0,
                      0,
                      0,
                      0,
                      0,
                      0,
                      1,
                      0,
                      0,
                      0,
                      0,
                      0,
                      0,
                      2,
                      0,
                      3,
                      2,
                      0,
                      2,
                      3,
                      2,
                      4,
                      5,
                      3,
                      2,
                      4,
                      0,
                      0,
                      3,
                      1,
                      3,
                      0,
                      5,
                      2,
                      2,
                      0,
                      1,
                      0,
                      1,
                      0,
                      1,
                      1,
                      1,
                      1,
                      1,
                      0,
                      3,
                      0,
                      2,
                      0,
                      0,
                      1,
                      1,
                      0,
                      0,
                      1,
                      0,
                      0,
                      1,
                      0,
                      0,
                      1,
                      2,
                      0,
                      1,
                      1,
                      1,
                      0,
                      0,
                      1,
                      0,
                      0,
                      1,
                      0,
                      0,
                      0,
                      0,
                      0,
                      0,
                      0,
                      0,
                      0,
                      0,
                      0,
                      0,
                      0,
                      0,
                      1,
                      0,
                      0,
                      0
                    ],
                    "coloraxis": "coloraxis"
                  },
                  "name": "",
                  "offsetgroup": "",
                  "orientation": "v",
                  "showlegend": false,
                  "textposition": "auto",
                  "type": "bar",
                  "x": [
                    "2020-04-02T00:00:00",
                    "2020-04-19T00:00:00",
                    "2020-04-18T00:00:00",
                    "2020-04-17T00:00:00",
                    "2020-04-16T00:00:00",
                    "2020-04-15T00:00:00",
                    "2020-04-14T00:00:00",
                    "2020-04-13T00:00:00",
                    "2020-04-11T00:00:00",
                    "2020-04-12T00:00:00",
                    "2020-04-09T00:00:00",
                    "2020-04-08T00:00:00",
                    "2020-04-07T00:00:00",
                    "2020-04-06T00:00:00",
                    "2020-04-05T00:00:00",
                    "2020-04-04T00:00:00",
                    "2020-04-03T00:00:00",
                    "2020-04-10T00:00:00",
                    "2020-04-24T00:00:00",
                    "2020-04-25T00:00:00",
                    "2020-04-23T00:00:00",
                    "2020-04-26T00:00:00",
                    "2020-04-21T00:00:00",
                    "2020-04-20T00:00:00",
                    "2020-04-22T00:00:00",
                    "2020-04-27T00:00:00",
                    "2020-04-28T00:00:00",
                    "2020-04-29T00:00:00",
                    "2020-04-30T00:00:00",
                    "2020-05-01T00:00:00",
                    "2020-05-02T00:00:00",
                    "2020-05-03T00:00:00",
                    "2020-05-04T00:00:00",
                    "2020-05-05T00:00:00",
                    "2020-05-06T00:00:00",
                    "2020-05-07T00:00:00",
                    "2020-05-08T00:00:00",
                    "2020-05-09T00:00:00",
                    "2020-05-10T00:00:00",
                    "2020-05-11T00:00:00",
                    "2020-05-12T00:00:00",
                    "2020-05-13T00:00:00",
                    "2020-05-14T00:00:00",
                    "2020-05-15T00:00:00",
                    "2020-05-16T00:00:00",
                    "2020-05-17T00:00:00",
                    "2020-05-18T00:00:00",
                    "2020-05-19T00:00:00",
                    "2020-05-20T00:00:00",
                    "2020-05-21T00:00:00",
                    "2020-05-23T00:00:00",
                    "2020-05-22T00:00:00",
                    "2020-05-24T00:00:00",
                    "2020-05-25T00:00:00",
                    "2020-05-26T00:00:00",
                    "2020-05-27T00:00:00",
                    "2020-05-28T00:00:00",
                    "2020-05-29T00:00:00",
                    "2020-05-30T00:00:00",
                    "2020-05-31T00:00:00",
                    "2020-06-01T00:00:00",
                    "2020-06-02T00:00:00",
                    "2020-06-03T00:00:00",
                    "2020-06-04T00:00:00",
                    "2020-06-05T00:00:00",
                    "2020-06-06T00:00:00",
                    "2020-06-07T00:00:00",
                    "2020-06-08T00:00:00",
                    "2020-06-09T00:00:00",
                    "2020-06-10T00:00:00",
                    "2020-06-11T00:00:00",
                    "2020-06-12T00:00:00",
                    "2020-06-13T00:00:00",
                    "2020-06-14T00:00:00",
                    "2020-06-15T00:00:00",
                    "2020-06-16T00:00:00",
                    "2020-06-17T00:00:00",
                    "2020-06-18T00:00:00",
                    "2020-06-19T00:00:00",
                    "2020-06-20T00:00:00",
                    "2020-06-21T00:00:00",
                    "2020-06-22T00:00:00",
                    "2020-06-23T00:00:00",
                    "2020-06-24T00:00:00",
                    "2020-07-08T00:00:00",
                    "2020-07-07T00:00:00",
                    "2020-07-06T00:00:00",
                    "2020-07-05T00:00:00",
                    "2020-07-04T00:00:00",
                    "2020-07-03T00:00:00",
                    "2020-07-02T00:00:00",
                    "2020-06-29T00:00:00",
                    "2020-06-30T00:00:00",
                    "2020-07-09T00:00:00",
                    "2020-06-28T00:00:00",
                    "2020-06-27T00:00:00",
                    "2020-06-26T00:00:00",
                    "2020-06-25T00:00:00",
                    "2020-07-01T00:00:00",
                    "2020-07-11T00:00:00",
                    "2020-07-12T00:00:00",
                    "2020-07-10T00:00:00",
                    "2020-07-13T00:00:00"
                  ],
                  "xaxis": "x",
                  "y": [
                    0,
                    0,
                    0,
                    0,
                    0,
                    0,
                    0,
                    0,
                    0,
                    0,
                    0,
                    0,
                    0,
                    0,
                    0,
                    0,
                    0,
                    0,
                    1,
                    0,
                    0,
                    0,
                    0,
                    0,
                    0,
                    2,
                    0,
                    3,
                    2,
                    0,
                    2,
                    3,
                    2,
                    4,
                    5,
                    3,
                    2,
                    4,
                    0,
                    0,
                    3,
                    1,
                    3,
                    0,
                    5,
                    2,
                    2,
                    0,
                    1,
                    0,
                    1,
                    0,
                    1,
                    1,
                    1,
                    1,
                    1,
                    0,
                    3,
                    0,
                    2,
                    0,
                    0,
                    1,
                    1,
                    0,
                    0,
                    1,
                    0,
                    0,
                    1,
                    0,
                    0,
                    1,
                    2,
                    0,
                    1,
                    1,
                    1,
                    0,
                    0,
                    1,
                    0,
                    0,
                    1,
                    0,
                    0,
                    0,
                    0,
                    0,
                    0,
                    0,
                    0,
                    0,
                    0,
                    0,
                    0,
                    0,
                    0,
                    1,
                    0,
                    0,
                    0
                  ],
                  "yaxis": "y"
                }
              ],
              "layout": {
                "barmode": "relative",
                "coloraxis": {
                  "colorbar": {
                    "title": {
                      "text": "DAILY DEATHS"
                    }
                  },
                  "colorscale": [
                    [
                      0,
                      "#0d0887"
                    ],
                    [
                      0.1111111111111111,
                      "#46039f"
                    ],
                    [
                      0.2222222222222222,
                      "#7201a8"
                    ],
                    [
                      0.3333333333333333,
                      "#9c179e"
                    ],
                    [
                      0.4444444444444444,
                      "#bd3786"
                    ],
                    [
                      0.5555555555555556,
                      "#d8576b"
                    ],
                    [
                      0.6666666666666666,
                      "#ed7953"
                    ],
                    [
                      0.7777777777777778,
                      "#fb9f3a"
                    ],
                    [
                      0.8888888888888888,
                      "#fdca26"
                    ],
                    [
                      1,
                      "#f0f921"
                    ]
                  ]
                },
                "height": 500,
                "legend": {
                  "tracegroupgap": 0
                },
                "margin": {
                  "t": 60
                },
                "template": {
                  "data": {
                    "bar": [
                      {
                        "error_x": {
                          "color": "#2a3f5f"
                        },
                        "error_y": {
                          "color": "#2a3f5f"
                        },
                        "marker": {
                          "line": {
                            "color": "#E5ECF6",
                            "width": 0.5
                          }
                        },
                        "type": "bar"
                      }
                    ],
                    "barpolar": [
                      {
                        "marker": {
                          "line": {
                            "color": "#E5ECF6",
                            "width": 0.5
                          }
                        },
                        "type": "barpolar"
                      }
                    ],
                    "carpet": [
                      {
                        "aaxis": {
                          "endlinecolor": "#2a3f5f",
                          "gridcolor": "white",
                          "linecolor": "white",
                          "minorgridcolor": "white",
                          "startlinecolor": "#2a3f5f"
                        },
                        "baxis": {
                          "endlinecolor": "#2a3f5f",
                          "gridcolor": "white",
                          "linecolor": "white",
                          "minorgridcolor": "white",
                          "startlinecolor": "#2a3f5f"
                        },
                        "type": "carpet"
                      }
                    ],
                    "choropleth": [
                      {
                        "colorbar": {
                          "outlinewidth": 0,
                          "ticks": ""
                        },
                        "type": "choropleth"
                      }
                    ],
                    "contour": [
                      {
                        "colorbar": {
                          "outlinewidth": 0,
                          "ticks": ""
                        },
                        "colorscale": [
                          [
                            0,
                            "#0d0887"
                          ],
                          [
                            0.1111111111111111,
                            "#46039f"
                          ],
                          [
                            0.2222222222222222,
                            "#7201a8"
                          ],
                          [
                            0.3333333333333333,
                            "#9c179e"
                          ],
                          [
                            0.4444444444444444,
                            "#bd3786"
                          ],
                          [
                            0.5555555555555556,
                            "#d8576b"
                          ],
                          [
                            0.6666666666666666,
                            "#ed7953"
                          ],
                          [
                            0.7777777777777778,
                            "#fb9f3a"
                          ],
                          [
                            0.8888888888888888,
                            "#fdca26"
                          ],
                          [
                            1,
                            "#f0f921"
                          ]
                        ],
                        "type": "contour"
                      }
                    ],
                    "contourcarpet": [
                      {
                        "colorbar": {
                          "outlinewidth": 0,
                          "ticks": ""
                        },
                        "type": "contourcarpet"
                      }
                    ],
                    "heatmap": [
                      {
                        "colorbar": {
                          "outlinewidth": 0,
                          "ticks": ""
                        },
                        "colorscale": [
                          [
                            0,
                            "#0d0887"
                          ],
                          [
                            0.1111111111111111,
                            "#46039f"
                          ],
                          [
                            0.2222222222222222,
                            "#7201a8"
                          ],
                          [
                            0.3333333333333333,
                            "#9c179e"
                          ],
                          [
                            0.4444444444444444,
                            "#bd3786"
                          ],
                          [
                            0.5555555555555556,
                            "#d8576b"
                          ],
                          [
                            0.6666666666666666,
                            "#ed7953"
                          ],
                          [
                            0.7777777777777778,
                            "#fb9f3a"
                          ],
                          [
                            0.8888888888888888,
                            "#fdca26"
                          ],
                          [
                            1,
                            "#f0f921"
                          ]
                        ],
                        "type": "heatmap"
                      }
                    ],
                    "heatmapgl": [
                      {
                        "colorbar": {
                          "outlinewidth": 0,
                          "ticks": ""
                        },
                        "colorscale": [
                          [
                            0,
                            "#0d0887"
                          ],
                          [
                            0.1111111111111111,
                            "#46039f"
                          ],
                          [
                            0.2222222222222222,
                            "#7201a8"
                          ],
                          [
                            0.3333333333333333,
                            "#9c179e"
                          ],
                          [
                            0.4444444444444444,
                            "#bd3786"
                          ],
                          [
                            0.5555555555555556,
                            "#d8576b"
                          ],
                          [
                            0.6666666666666666,
                            "#ed7953"
                          ],
                          [
                            0.7777777777777778,
                            "#fb9f3a"
                          ],
                          [
                            0.8888888888888888,
                            "#fdca26"
                          ],
                          [
                            1,
                            "#f0f921"
                          ]
                        ],
                        "type": "heatmapgl"
                      }
                    ],
                    "histogram": [
                      {
                        "marker": {
                          "colorbar": {
                            "outlinewidth": 0,
                            "ticks": ""
                          }
                        },
                        "type": "histogram"
                      }
                    ],
                    "histogram2d": [
                      {
                        "colorbar": {
                          "outlinewidth": 0,
                          "ticks": ""
                        },
                        "colorscale": [
                          [
                            0,
                            "#0d0887"
                          ],
                          [
                            0.1111111111111111,
                            "#46039f"
                          ],
                          [
                            0.2222222222222222,
                            "#7201a8"
                          ],
                          [
                            0.3333333333333333,
                            "#9c179e"
                          ],
                          [
                            0.4444444444444444,
                            "#bd3786"
                          ],
                          [
                            0.5555555555555556,
                            "#d8576b"
                          ],
                          [
                            0.6666666666666666,
                            "#ed7953"
                          ],
                          [
                            0.7777777777777778,
                            "#fb9f3a"
                          ],
                          [
                            0.8888888888888888,
                            "#fdca26"
                          ],
                          [
                            1,
                            "#f0f921"
                          ]
                        ],
                        "type": "histogram2d"
                      }
                    ],
                    "histogram2dcontour": [
                      {
                        "colorbar": {
                          "outlinewidth": 0,
                          "ticks": ""
                        },
                        "colorscale": [
                          [
                            0,
                            "#0d0887"
                          ],
                          [
                            0.1111111111111111,
                            "#46039f"
                          ],
                          [
                            0.2222222222222222,
                            "#7201a8"
                          ],
                          [
                            0.3333333333333333,
                            "#9c179e"
                          ],
                          [
                            0.4444444444444444,
                            "#bd3786"
                          ],
                          [
                            0.5555555555555556,
                            "#d8576b"
                          ],
                          [
                            0.6666666666666666,
                            "#ed7953"
                          ],
                          [
                            0.7777777777777778,
                            "#fb9f3a"
                          ],
                          [
                            0.8888888888888888,
                            "#fdca26"
                          ],
                          [
                            1,
                            "#f0f921"
                          ]
                        ],
                        "type": "histogram2dcontour"
                      }
                    ],
                    "mesh3d": [
                      {
                        "colorbar": {
                          "outlinewidth": 0,
                          "ticks": ""
                        },
                        "type": "mesh3d"
                      }
                    ],
                    "parcoords": [
                      {
                        "line": {
                          "colorbar": {
                            "outlinewidth": 0,
                            "ticks": ""
                          }
                        },
                        "type": "parcoords"
                      }
                    ],
                    "pie": [
                      {
                        "automargin": true,
                        "type": "pie"
                      }
                    ],
                    "scatter": [
                      {
                        "marker": {
                          "colorbar": {
                            "outlinewidth": 0,
                            "ticks": ""
                          }
                        },
                        "type": "scatter"
                      }
                    ],
                    "scatter3d": [
                      {
                        "line": {
                          "colorbar": {
                            "outlinewidth": 0,
                            "ticks": ""
                          }
                        },
                        "marker": {
                          "colorbar": {
                            "outlinewidth": 0,
                            "ticks": ""
                          }
                        },
                        "type": "scatter3d"
                      }
                    ],
                    "scattercarpet": [
                      {
                        "marker": {
                          "colorbar": {
                            "outlinewidth": 0,
                            "ticks": ""
                          }
                        },
                        "type": "scattercarpet"
                      }
                    ],
                    "scattergeo": [
                      {
                        "marker": {
                          "colorbar": {
                            "outlinewidth": 0,
                            "ticks": ""
                          }
                        },
                        "type": "scattergeo"
                      }
                    ],
                    "scattergl": [
                      {
                        "marker": {
                          "colorbar": {
                            "outlinewidth": 0,
                            "ticks": ""
                          }
                        },
                        "type": "scattergl"
                      }
                    ],
                    "scattermapbox": [
                      {
                        "marker": {
                          "colorbar": {
                            "outlinewidth": 0,
                            "ticks": ""
                          }
                        },
                        "type": "scattermapbox"
                      }
                    ],
                    "scatterpolar": [
                      {
                        "marker": {
                          "colorbar": {
                            "outlinewidth": 0,
                            "ticks": ""
                          }
                        },
                        "type": "scatterpolar"
                      }
                    ],
                    "scatterpolargl": [
                      {
                        "marker": {
                          "colorbar": {
                            "outlinewidth": 0,
                            "ticks": ""
                          }
                        },
                        "type": "scatterpolargl"
                      }
                    ],
                    "scatterternary": [
                      {
                        "marker": {
                          "colorbar": {
                            "outlinewidth": 0,
                            "ticks": ""
                          }
                        },
                        "type": "scatterternary"
                      }
                    ],
                    "surface": [
                      {
                        "colorbar": {
                          "outlinewidth": 0,
                          "ticks": ""
                        },
                        "colorscale": [
                          [
                            0,
                            "#0d0887"
                          ],
                          [
                            0.1111111111111111,
                            "#46039f"
                          ],
                          [
                            0.2222222222222222,
                            "#7201a8"
                          ],
                          [
                            0.3333333333333333,
                            "#9c179e"
                          ],
                          [
                            0.4444444444444444,
                            "#bd3786"
                          ],
                          [
                            0.5555555555555556,
                            "#d8576b"
                          ],
                          [
                            0.6666666666666666,
                            "#ed7953"
                          ],
                          [
                            0.7777777777777778,
                            "#fb9f3a"
                          ],
                          [
                            0.8888888888888888,
                            "#fdca26"
                          ],
                          [
                            1,
                            "#f0f921"
                          ]
                        ],
                        "type": "surface"
                      }
                    ],
                    "table": [
                      {
                        "cells": {
                          "fill": {
                            "color": "#EBF0F8"
                          },
                          "line": {
                            "color": "white"
                          }
                        },
                        "header": {
                          "fill": {
                            "color": "#C8D4E3"
                          },
                          "line": {
                            "color": "white"
                          }
                        },
                        "type": "table"
                      }
                    ]
                  },
                  "layout": {
                    "annotationdefaults": {
                      "arrowcolor": "#2a3f5f",
                      "arrowhead": 0,
                      "arrowwidth": 1
                    },
                    "coloraxis": {
                      "colorbar": {
                        "outlinewidth": 0,
                        "ticks": ""
                      }
                    },
                    "colorscale": {
                      "diverging": [
                        [
                          0,
                          "#8e0152"
                        ],
                        [
                          0.1,
                          "#c51b7d"
                        ],
                        [
                          0.2,
                          "#de77ae"
                        ],
                        [
                          0.3,
                          "#f1b6da"
                        ],
                        [
                          0.4,
                          "#fde0ef"
                        ],
                        [
                          0.5,
                          "#f7f7f7"
                        ],
                        [
                          0.6,
                          "#e6f5d0"
                        ],
                        [
                          0.7,
                          "#b8e186"
                        ],
                        [
                          0.8,
                          "#7fbc41"
                        ],
                        [
                          0.9,
                          "#4d9221"
                        ],
                        [
                          1,
                          "#276419"
                        ]
                      ],
                      "sequential": [
                        [
                          0,
                          "#0d0887"
                        ],
                        [
                          0.1111111111111111,
                          "#46039f"
                        ],
                        [
                          0.2222222222222222,
                          "#7201a8"
                        ],
                        [
                          0.3333333333333333,
                          "#9c179e"
                        ],
                        [
                          0.4444444444444444,
                          "#bd3786"
                        ],
                        [
                          0.5555555555555556,
                          "#d8576b"
                        ],
                        [
                          0.6666666666666666,
                          "#ed7953"
                        ],
                        [
                          0.7777777777777778,
                          "#fb9f3a"
                        ],
                        [
                          0.8888888888888888,
                          "#fdca26"
                        ],
                        [
                          1,
                          "#f0f921"
                        ]
                      ],
                      "sequentialminus": [
                        [
                          0,
                          "#0d0887"
                        ],
                        [
                          0.1111111111111111,
                          "#46039f"
                        ],
                        [
                          0.2222222222222222,
                          "#7201a8"
                        ],
                        [
                          0.3333333333333333,
                          "#9c179e"
                        ],
                        [
                          0.4444444444444444,
                          "#bd3786"
                        ],
                        [
                          0.5555555555555556,
                          "#d8576b"
                        ],
                        [
                          0.6666666666666666,
                          "#ed7953"
                        ],
                        [
                          0.7777777777777778,
                          "#fb9f3a"
                        ],
                        [
                          0.8888888888888888,
                          "#fdca26"
                        ],
                        [
                          1,
                          "#f0f921"
                        ]
                      ]
                    },
                    "colorway": [
                      "#636efa",
                      "#EF553B",
                      "#00cc96",
                      "#ab63fa",
                      "#FFA15A",
                      "#19d3f3",
                      "#FF6692",
                      "#B6E880",
                      "#FF97FF",
                      "#FECB52"
                    ],
                    "font": {
                      "color": "#2a3f5f"
                    },
                    "geo": {
                      "bgcolor": "white",
                      "lakecolor": "white",
                      "landcolor": "#E5ECF6",
                      "showlakes": true,
                      "showland": true,
                      "subunitcolor": "white"
                    },
                    "hoverlabel": {
                      "align": "left"
                    },
                    "hovermode": "closest",
                    "mapbox": {
                      "style": "light"
                    },
                    "paper_bgcolor": "white",
                    "plot_bgcolor": "#E5ECF6",
                    "polar": {
                      "angularaxis": {
                        "gridcolor": "white",
                        "linecolor": "white",
                        "ticks": ""
                      },
                      "bgcolor": "#E5ECF6",
                      "radialaxis": {
                        "gridcolor": "white",
                        "linecolor": "white",
                        "ticks": ""
                      }
                    },
                    "scene": {
                      "xaxis": {
                        "backgroundcolor": "#E5ECF6",
                        "gridcolor": "white",
                        "gridwidth": 2,
                        "linecolor": "white",
                        "showbackground": true,
                        "ticks": "",
                        "zerolinecolor": "white"
                      },
                      "yaxis": {
                        "backgroundcolor": "#E5ECF6",
                        "gridcolor": "white",
                        "gridwidth": 2,
                        "linecolor": "white",
                        "showbackground": true,
                        "ticks": "",
                        "zerolinecolor": "white"
                      },
                      "zaxis": {
                        "backgroundcolor": "#E5ECF6",
                        "gridcolor": "white",
                        "gridwidth": 2,
                        "linecolor": "white",
                        "showbackground": true,
                        "ticks": "",
                        "zerolinecolor": "white"
                      }
                    },
                    "shapedefaults": {
                      "line": {
                        "color": "#2a3f5f"
                      }
                    },
                    "ternary": {
                      "aaxis": {
                        "gridcolor": "white",
                        "linecolor": "white",
                        "ticks": ""
                      },
                      "baxis": {
                        "gridcolor": "white",
                        "linecolor": "white",
                        "ticks": ""
                      },
                      "bgcolor": "#E5ECF6",
                      "caxis": {
                        "gridcolor": "white",
                        "linecolor": "white",
                        "ticks": ""
                      }
                    },
                    "title": {
                      "x": 0.05
                    },
                    "xaxis": {
                      "automargin": true,
                      "gridcolor": "white",
                      "linecolor": "white",
                      "ticks": "",
                      "title": {
                        "standoff": 15
                      },
                      "zerolinecolor": "white",
                      "zerolinewidth": 2
                    },
                    "yaxis": {
                      "automargin": true,
                      "gridcolor": "white",
                      "linecolor": "white",
                      "ticks": "",
                      "title": {
                        "standoff": 15
                      },
                      "zerolinecolor": "white",
                      "zerolinewidth": 2
                    }
                  }
                },
                "title": {
                  "text": "DAILY DEATHS IN BREVES"
                },
                "xaxis": {
                  "anchor": "y",
                  "domain": [
                    0,
                    1
                  ],
                  "title": {
                    "text": "Date"
                  }
                },
                "yaxis": {
                  "anchor": "x",
                  "domain": [
                    0,
                    1
                  ],
                  "title": {
                    "text": "DAILY DEATHS"
                  }
                }
              }
            },
            "text/html": [
              "<div>\n",
              "        \n",
              "        \n",
              "            <div id=\"8bad9a62-aef3-4b80-aeb6-ad1089ef05bc\" class=\"plotly-graph-div\" style=\"height:500px; width:100%;\"></div>\n",
              "            <script type=\"text/javascript\">\n",
              "                require([\"plotly\"], function(Plotly) {\n",
              "                    window.PLOTLYENV=window.PLOTLYENV || {};\n",
              "                    \n",
              "                if (document.getElementById(\"8bad9a62-aef3-4b80-aeb6-ad1089ef05bc\")) {\n",
              "                    Plotly.newPlot(\n",
              "                        '8bad9a62-aef3-4b80-aeb6-ad1089ef05bc',\n",
              "                        [{\"alignmentgroup\": \"True\", \"customdata\": [[0], [0], [0], [0], [0], [0], [0], [0], [0], [0], [0], [0], [0], [0], [0], [0], [0], [0], [1], [0], [0], [0], [0], [0], [0], [2], [0], [3], [2], [0], [2], [3], [2], [4], [5], [3], [2], [4], [0], [0], [3], [1], [3], [0], [5], [2], [2], [0], [1], [0], [1], [0], [1], [1], [1], [1], [1], [0], [3], [0], [2], [0], [0], [1], [1], [0], [0], [1], [0], [0], [1], [0], [0], [1], [2], [0], [1], [1], [1], [0], [0], [1], [0], [0], [1], [0], [0], [0], [0], [0], [0], [0], [0], [0], [0], [0], [0], [0], [0], [1], [0], [0], [0]], \"hovertemplate\": \"Date=%{x}<br>DAILY DEATHS=%{marker.color}<extra></extra>\", \"legendgroup\": \"\", \"marker\": {\"color\": [0, 0, 0, 0, 0, 0, 0, 0, 0, 0, 0, 0, 0, 0, 0, 0, 0, 0, 1, 0, 0, 0, 0, 0, 0, 2, 0, 3, 2, 0, 2, 3, 2, 4, 5, 3, 2, 4, 0, 0, 3, 1, 3, 0, 5, 2, 2, 0, 1, 0, 1, 0, 1, 1, 1, 1, 1, 0, 3, 0, 2, 0, 0, 1, 1, 0, 0, 1, 0, 0, 1, 0, 0, 1, 2, 0, 1, 1, 1, 0, 0, 1, 0, 0, 1, 0, 0, 0, 0, 0, 0, 0, 0, 0, 0, 0, 0, 0, 0, 1, 0, 0, 0], \"coloraxis\": \"coloraxis\"}, \"name\": \"\", \"offsetgroup\": \"\", \"orientation\": \"v\", \"showlegend\": false, \"textposition\": \"auto\", \"type\": \"bar\", \"x\": [\"2020-04-02T00:00:00\", \"2020-04-19T00:00:00\", \"2020-04-18T00:00:00\", \"2020-04-17T00:00:00\", \"2020-04-16T00:00:00\", \"2020-04-15T00:00:00\", \"2020-04-14T00:00:00\", \"2020-04-13T00:00:00\", \"2020-04-11T00:00:00\", \"2020-04-12T00:00:00\", \"2020-04-09T00:00:00\", \"2020-04-08T00:00:00\", \"2020-04-07T00:00:00\", \"2020-04-06T00:00:00\", \"2020-04-05T00:00:00\", \"2020-04-04T00:00:00\", \"2020-04-03T00:00:00\", \"2020-04-10T00:00:00\", \"2020-04-24T00:00:00\", \"2020-04-25T00:00:00\", \"2020-04-23T00:00:00\", \"2020-04-26T00:00:00\", \"2020-04-21T00:00:00\", \"2020-04-20T00:00:00\", \"2020-04-22T00:00:00\", \"2020-04-27T00:00:00\", \"2020-04-28T00:00:00\", \"2020-04-29T00:00:00\", \"2020-04-30T00:00:00\", \"2020-05-01T00:00:00\", \"2020-05-02T00:00:00\", \"2020-05-03T00:00:00\", \"2020-05-04T00:00:00\", \"2020-05-05T00:00:00\", \"2020-05-06T00:00:00\", \"2020-05-07T00:00:00\", \"2020-05-08T00:00:00\", \"2020-05-09T00:00:00\", \"2020-05-10T00:00:00\", \"2020-05-11T00:00:00\", \"2020-05-12T00:00:00\", \"2020-05-13T00:00:00\", \"2020-05-14T00:00:00\", \"2020-05-15T00:00:00\", \"2020-05-16T00:00:00\", \"2020-05-17T00:00:00\", \"2020-05-18T00:00:00\", \"2020-05-19T00:00:00\", \"2020-05-20T00:00:00\", \"2020-05-21T00:00:00\", \"2020-05-23T00:00:00\", \"2020-05-22T00:00:00\", \"2020-05-24T00:00:00\", \"2020-05-25T00:00:00\", \"2020-05-26T00:00:00\", \"2020-05-27T00:00:00\", \"2020-05-28T00:00:00\", \"2020-05-29T00:00:00\", \"2020-05-30T00:00:00\", \"2020-05-31T00:00:00\", \"2020-06-01T00:00:00\", \"2020-06-02T00:00:00\", \"2020-06-03T00:00:00\", \"2020-06-04T00:00:00\", \"2020-06-05T00:00:00\", \"2020-06-06T00:00:00\", \"2020-06-07T00:00:00\", \"2020-06-08T00:00:00\", \"2020-06-09T00:00:00\", \"2020-06-10T00:00:00\", \"2020-06-11T00:00:00\", \"2020-06-12T00:00:00\", \"2020-06-13T00:00:00\", \"2020-06-14T00:00:00\", \"2020-06-15T00:00:00\", \"2020-06-16T00:00:00\", \"2020-06-17T00:00:00\", \"2020-06-18T00:00:00\", \"2020-06-19T00:00:00\", \"2020-06-20T00:00:00\", \"2020-06-21T00:00:00\", \"2020-06-22T00:00:00\", \"2020-06-23T00:00:00\", \"2020-06-24T00:00:00\", \"2020-07-08T00:00:00\", \"2020-07-07T00:00:00\", \"2020-07-06T00:00:00\", \"2020-07-05T00:00:00\", \"2020-07-04T00:00:00\", \"2020-07-03T00:00:00\", \"2020-07-02T00:00:00\", \"2020-06-29T00:00:00\", \"2020-06-30T00:00:00\", \"2020-07-09T00:00:00\", \"2020-06-28T00:00:00\", \"2020-06-27T00:00:00\", \"2020-06-26T00:00:00\", \"2020-06-25T00:00:00\", \"2020-07-01T00:00:00\", \"2020-07-11T00:00:00\", \"2020-07-12T00:00:00\", \"2020-07-10T00:00:00\", \"2020-07-13T00:00:00\"], \"xaxis\": \"x\", \"y\": [0, 0, 0, 0, 0, 0, 0, 0, 0, 0, 0, 0, 0, 0, 0, 0, 0, 0, 1, 0, 0, 0, 0, 0, 0, 2, 0, 3, 2, 0, 2, 3, 2, 4, 5, 3, 2, 4, 0, 0, 3, 1, 3, 0, 5, 2, 2, 0, 1, 0, 1, 0, 1, 1, 1, 1, 1, 0, 3, 0, 2, 0, 0, 1, 1, 0, 0, 1, 0, 0, 1, 0, 0, 1, 2, 0, 1, 1, 1, 0, 0, 1, 0, 0, 1, 0, 0, 0, 0, 0, 0, 0, 0, 0, 0, 0, 0, 0, 0, 1, 0, 0, 0], \"yaxis\": \"y\"}],\n",
              "                        {\"barmode\": \"relative\", \"coloraxis\": {\"colorbar\": {\"title\": {\"text\": \"DAILY DEATHS\"}}, \"colorscale\": [[0.0, \"#0d0887\"], [0.1111111111111111, \"#46039f\"], [0.2222222222222222, \"#7201a8\"], [0.3333333333333333, \"#9c179e\"], [0.4444444444444444, \"#bd3786\"], [0.5555555555555556, \"#d8576b\"], [0.6666666666666666, \"#ed7953\"], [0.7777777777777778, \"#fb9f3a\"], [0.8888888888888888, \"#fdca26\"], [1.0, \"#f0f921\"]]}, \"height\": 500, \"legend\": {\"tracegroupgap\": 0}, \"margin\": {\"t\": 60}, \"template\": {\"data\": {\"bar\": [{\"error_x\": {\"color\": \"#2a3f5f\"}, \"error_y\": {\"color\": \"#2a3f5f\"}, \"marker\": {\"line\": {\"color\": \"#E5ECF6\", \"width\": 0.5}}, \"type\": \"bar\"}], \"barpolar\": [{\"marker\": {\"line\": {\"color\": \"#E5ECF6\", \"width\": 0.5}}, \"type\": \"barpolar\"}], \"carpet\": [{\"aaxis\": {\"endlinecolor\": \"#2a3f5f\", \"gridcolor\": \"white\", \"linecolor\": \"white\", \"minorgridcolor\": \"white\", \"startlinecolor\": \"#2a3f5f\"}, \"baxis\": {\"endlinecolor\": \"#2a3f5f\", \"gridcolor\": \"white\", \"linecolor\": \"white\", \"minorgridcolor\": \"white\", \"startlinecolor\": \"#2a3f5f\"}, \"type\": \"carpet\"}], \"choropleth\": [{\"colorbar\": {\"outlinewidth\": 0, \"ticks\": \"\"}, \"type\": \"choropleth\"}], \"contour\": [{\"colorbar\": {\"outlinewidth\": 0, \"ticks\": \"\"}, \"colorscale\": [[0.0, \"#0d0887\"], [0.1111111111111111, \"#46039f\"], [0.2222222222222222, \"#7201a8\"], [0.3333333333333333, \"#9c179e\"], [0.4444444444444444, \"#bd3786\"], [0.5555555555555556, \"#d8576b\"], [0.6666666666666666, \"#ed7953\"], [0.7777777777777778, \"#fb9f3a\"], [0.8888888888888888, \"#fdca26\"], [1.0, \"#f0f921\"]], \"type\": \"contour\"}], \"contourcarpet\": [{\"colorbar\": {\"outlinewidth\": 0, \"ticks\": \"\"}, \"type\": \"contourcarpet\"}], \"heatmap\": [{\"colorbar\": {\"outlinewidth\": 0, \"ticks\": \"\"}, \"colorscale\": [[0.0, \"#0d0887\"], [0.1111111111111111, \"#46039f\"], [0.2222222222222222, \"#7201a8\"], [0.3333333333333333, \"#9c179e\"], [0.4444444444444444, \"#bd3786\"], [0.5555555555555556, \"#d8576b\"], [0.6666666666666666, \"#ed7953\"], [0.7777777777777778, \"#fb9f3a\"], [0.8888888888888888, \"#fdca26\"], [1.0, \"#f0f921\"]], \"type\": \"heatmap\"}], \"heatmapgl\": [{\"colorbar\": {\"outlinewidth\": 0, \"ticks\": \"\"}, \"colorscale\": [[0.0, \"#0d0887\"], [0.1111111111111111, \"#46039f\"], [0.2222222222222222, \"#7201a8\"], [0.3333333333333333, \"#9c179e\"], [0.4444444444444444, \"#bd3786\"], [0.5555555555555556, \"#d8576b\"], [0.6666666666666666, \"#ed7953\"], [0.7777777777777778, \"#fb9f3a\"], [0.8888888888888888, \"#fdca26\"], [1.0, \"#f0f921\"]], \"type\": \"heatmapgl\"}], \"histogram\": [{\"marker\": {\"colorbar\": {\"outlinewidth\": 0, \"ticks\": \"\"}}, \"type\": \"histogram\"}], \"histogram2d\": [{\"colorbar\": {\"outlinewidth\": 0, \"ticks\": \"\"}, \"colorscale\": [[0.0, \"#0d0887\"], [0.1111111111111111, \"#46039f\"], [0.2222222222222222, \"#7201a8\"], [0.3333333333333333, \"#9c179e\"], [0.4444444444444444, \"#bd3786\"], [0.5555555555555556, \"#d8576b\"], [0.6666666666666666, \"#ed7953\"], [0.7777777777777778, \"#fb9f3a\"], [0.8888888888888888, \"#fdca26\"], [1.0, \"#f0f921\"]], \"type\": \"histogram2d\"}], \"histogram2dcontour\": [{\"colorbar\": {\"outlinewidth\": 0, \"ticks\": \"\"}, \"colorscale\": [[0.0, \"#0d0887\"], [0.1111111111111111, \"#46039f\"], [0.2222222222222222, \"#7201a8\"], [0.3333333333333333, \"#9c179e\"], [0.4444444444444444, \"#bd3786\"], [0.5555555555555556, \"#d8576b\"], [0.6666666666666666, \"#ed7953\"], [0.7777777777777778, \"#fb9f3a\"], [0.8888888888888888, \"#fdca26\"], [1.0, \"#f0f921\"]], \"type\": \"histogram2dcontour\"}], \"mesh3d\": [{\"colorbar\": {\"outlinewidth\": 0, \"ticks\": \"\"}, \"type\": \"mesh3d\"}], \"parcoords\": [{\"line\": {\"colorbar\": {\"outlinewidth\": 0, \"ticks\": \"\"}}, \"type\": \"parcoords\"}], \"pie\": [{\"automargin\": true, \"type\": \"pie\"}], \"scatter\": [{\"marker\": {\"colorbar\": {\"outlinewidth\": 0, \"ticks\": \"\"}}, \"type\": \"scatter\"}], \"scatter3d\": [{\"line\": {\"colorbar\": {\"outlinewidth\": 0, \"ticks\": \"\"}}, \"marker\": {\"colorbar\": {\"outlinewidth\": 0, \"ticks\": \"\"}}, \"type\": \"scatter3d\"}], \"scattercarpet\": [{\"marker\": {\"colorbar\": {\"outlinewidth\": 0, \"ticks\": \"\"}}, \"type\": \"scattercarpet\"}], \"scattergeo\": [{\"marker\": {\"colorbar\": {\"outlinewidth\": 0, \"ticks\": \"\"}}, \"type\": \"scattergeo\"}], \"scattergl\": [{\"marker\": {\"colorbar\": {\"outlinewidth\": 0, \"ticks\": \"\"}}, \"type\": \"scattergl\"}], \"scattermapbox\": [{\"marker\": {\"colorbar\": {\"outlinewidth\": 0, \"ticks\": \"\"}}, \"type\": \"scattermapbox\"}], \"scatterpolar\": [{\"marker\": {\"colorbar\": {\"outlinewidth\": 0, \"ticks\": \"\"}}, \"type\": \"scatterpolar\"}], \"scatterpolargl\": [{\"marker\": {\"colorbar\": {\"outlinewidth\": 0, \"ticks\": \"\"}}, \"type\": \"scatterpolargl\"}], \"scatterternary\": [{\"marker\": {\"colorbar\": {\"outlinewidth\": 0, \"ticks\": \"\"}}, \"type\": \"scatterternary\"}], \"surface\": [{\"colorbar\": {\"outlinewidth\": 0, \"ticks\": \"\"}, \"colorscale\": [[0.0, \"#0d0887\"], [0.1111111111111111, \"#46039f\"], [0.2222222222222222, \"#7201a8\"], [0.3333333333333333, \"#9c179e\"], [0.4444444444444444, \"#bd3786\"], [0.5555555555555556, \"#d8576b\"], [0.6666666666666666, \"#ed7953\"], [0.7777777777777778, \"#fb9f3a\"], [0.8888888888888888, \"#fdca26\"], [1.0, \"#f0f921\"]], \"type\": \"surface\"}], \"table\": [{\"cells\": {\"fill\": {\"color\": \"#EBF0F8\"}, \"line\": {\"color\": \"white\"}}, \"header\": {\"fill\": {\"color\": \"#C8D4E3\"}, \"line\": {\"color\": \"white\"}}, \"type\": \"table\"}]}, \"layout\": {\"annotationdefaults\": {\"arrowcolor\": \"#2a3f5f\", \"arrowhead\": 0, \"arrowwidth\": 1}, \"coloraxis\": {\"colorbar\": {\"outlinewidth\": 0, \"ticks\": \"\"}}, \"colorscale\": {\"diverging\": [[0, \"#8e0152\"], [0.1, \"#c51b7d\"], [0.2, \"#de77ae\"], [0.3, \"#f1b6da\"], [0.4, \"#fde0ef\"], [0.5, \"#f7f7f7\"], [0.6, \"#e6f5d0\"], [0.7, \"#b8e186\"], [0.8, \"#7fbc41\"], [0.9, \"#4d9221\"], [1, \"#276419\"]], \"sequential\": [[0.0, \"#0d0887\"], [0.1111111111111111, \"#46039f\"], [0.2222222222222222, \"#7201a8\"], [0.3333333333333333, \"#9c179e\"], [0.4444444444444444, \"#bd3786\"], [0.5555555555555556, \"#d8576b\"], [0.6666666666666666, \"#ed7953\"], [0.7777777777777778, \"#fb9f3a\"], [0.8888888888888888, \"#fdca26\"], [1.0, \"#f0f921\"]], \"sequentialminus\": [[0.0, \"#0d0887\"], [0.1111111111111111, \"#46039f\"], [0.2222222222222222, \"#7201a8\"], [0.3333333333333333, \"#9c179e\"], [0.4444444444444444, \"#bd3786\"], [0.5555555555555556, \"#d8576b\"], [0.6666666666666666, \"#ed7953\"], [0.7777777777777778, \"#fb9f3a\"], [0.8888888888888888, \"#fdca26\"], [1.0, \"#f0f921\"]]}, \"colorway\": [\"#636efa\", \"#EF553B\", \"#00cc96\", \"#ab63fa\", \"#FFA15A\", \"#19d3f3\", \"#FF6692\", \"#B6E880\", \"#FF97FF\", \"#FECB52\"], \"font\": {\"color\": \"#2a3f5f\"}, \"geo\": {\"bgcolor\": \"white\", \"lakecolor\": \"white\", \"landcolor\": \"#E5ECF6\", \"showlakes\": true, \"showland\": true, \"subunitcolor\": \"white\"}, \"hoverlabel\": {\"align\": \"left\"}, \"hovermode\": \"closest\", \"mapbox\": {\"style\": \"light\"}, \"paper_bgcolor\": \"white\", \"plot_bgcolor\": \"#E5ECF6\", \"polar\": {\"angularaxis\": {\"gridcolor\": \"white\", \"linecolor\": \"white\", \"ticks\": \"\"}, \"bgcolor\": \"#E5ECF6\", \"radialaxis\": {\"gridcolor\": \"white\", \"linecolor\": \"white\", \"ticks\": \"\"}}, \"scene\": {\"xaxis\": {\"backgroundcolor\": \"#E5ECF6\", \"gridcolor\": \"white\", \"gridwidth\": 2, \"linecolor\": \"white\", \"showbackground\": true, \"ticks\": \"\", \"zerolinecolor\": \"white\"}, \"yaxis\": {\"backgroundcolor\": \"#E5ECF6\", \"gridcolor\": \"white\", \"gridwidth\": 2, \"linecolor\": \"white\", \"showbackground\": true, \"ticks\": \"\", \"zerolinecolor\": \"white\"}, \"zaxis\": {\"backgroundcolor\": \"#E5ECF6\", \"gridcolor\": \"white\", \"gridwidth\": 2, \"linecolor\": \"white\", \"showbackground\": true, \"ticks\": \"\", \"zerolinecolor\": \"white\"}}, \"shapedefaults\": {\"line\": {\"color\": \"#2a3f5f\"}}, \"ternary\": {\"aaxis\": {\"gridcolor\": \"white\", \"linecolor\": \"white\", \"ticks\": \"\"}, \"baxis\": {\"gridcolor\": \"white\", \"linecolor\": \"white\", \"ticks\": \"\"}, \"bgcolor\": \"#E5ECF6\", \"caxis\": {\"gridcolor\": \"white\", \"linecolor\": \"white\", \"ticks\": \"\"}}, \"title\": {\"x\": 0.05}, \"xaxis\": {\"automargin\": true, \"gridcolor\": \"white\", \"linecolor\": \"white\", \"ticks\": \"\", \"title\": {\"standoff\": 15}, \"zerolinecolor\": \"white\", \"zerolinewidth\": 2}, \"yaxis\": {\"automargin\": true, \"gridcolor\": \"white\", \"linecolor\": \"white\", \"ticks\": \"\", \"title\": {\"standoff\": 15}, \"zerolinecolor\": \"white\", \"zerolinewidth\": 2}}}, \"title\": {\"text\": \"DAILY DEATHS IN BREVES\"}, \"xaxis\": {\"anchor\": \"y\", \"domain\": [0.0, 1.0], \"title\": {\"text\": \"Date\"}}, \"yaxis\": {\"anchor\": \"x\", \"domain\": [0.0, 1.0], \"title\": {\"text\": \"DAILY DEATHS\"}}},\n",
              "                        {\"responsive\": true}\n",
              "                    ).then(function(){\n",
              "                            \n",
              "var gd = document.getElementById('8bad9a62-aef3-4b80-aeb6-ad1089ef05bc');\n",
              "var x = new MutationObserver(function (mutations, observer) {{\n",
              "        var display = window.getComputedStyle(gd).display;\n",
              "        if (!display || display === 'none') {{\n",
              "            console.log([gd, 'removed!']);\n",
              "            Plotly.purge(gd);\n",
              "            observer.disconnect();\n",
              "        }}\n",
              "}});\n",
              "\n",
              "// Listen for the removal of the full notebook cells\n",
              "var notebookContainer = gd.closest('#notebook-container');\n",
              "if (notebookContainer) {{\n",
              "    x.observe(notebookContainer, {childList: true});\n",
              "}}\n",
              "\n",
              "// Listen for the clearing of the current output cell\n",
              "var outputEl = gd.closest('.output');\n",
              "if (outputEl) {{\n",
              "    x.observe(outputEl, {childList: true});\n",
              "}}\n",
              "\n",
              "                        })\n",
              "                };\n",
              "                });\n",
              "            </script>\n",
              "        </div>"
            ]
          },
          "metadata": {
            "tags": []
          }
        }
      ]
    },
    {
      "cell_type": "code",
      "metadata": {
        "id": "XXKYxLMrcw64",
        "colab_type": "code",
        "colab": {},
        "outputId": "c4e8cdc1-837b-48d2-f731-83ee747665cb"
      },
      "source": [
        "#Recovery Rate\n",
        "carona_data = df_breves.groupby(['Date'])['Confirmed','Active Cases','Recovered'].sum().reset_index().sort_values('Date',ascending=False)\n",
        "carona_data['Recovery Rate'] = ((carona_data['Recovered']/carona_data['Confirmed'])*100)\n",
        "\n",
        "fig = go.Figure()\n",
        "fig.add_trace(go.Scatter(x=carona_data['Date'], y=carona_data['Recovery Rate'],\n",
        "                    mode='lines+markers',name='Cases',marker_color='green'))\n",
        "fig.update_layout(title_text='COVID-19 Recovery Rate in BREVES',plot_bgcolor='rgb(225,230,255)')\n",
        "fig.show()"
      ],
      "execution_count": null,
      "outputs": [
        {
          "output_type": "display_data",
          "data": {
            "application/vnd.plotly.v1+json": {
              "config": {
                "plotlyServerURL": "https://plot.ly"
              },
              "data": [
                {
                  "marker": {
                    "color": "green"
                  },
                  "mode": "lines+markers",
                  "name": "Cases",
                  "type": "scatter",
                  "x": [
                    "2020-07-13T00:00:00",
                    "2020-07-12T00:00:00",
                    "2020-07-11T00:00:00",
                    "2020-07-10T00:00:00",
                    "2020-07-09T00:00:00",
                    "2020-07-08T00:00:00",
                    "2020-07-07T00:00:00",
                    "2020-07-06T00:00:00",
                    "2020-07-05T00:00:00",
                    "2020-07-04T00:00:00",
                    "2020-07-03T00:00:00",
                    "2020-07-02T00:00:00",
                    "2020-07-01T00:00:00",
                    "2020-06-30T00:00:00",
                    "2020-06-29T00:00:00",
                    "2020-06-28T00:00:00",
                    "2020-06-27T00:00:00",
                    "2020-06-26T00:00:00",
                    "2020-06-25T00:00:00",
                    "2020-06-24T00:00:00",
                    "2020-06-23T00:00:00",
                    "2020-06-22T00:00:00",
                    "2020-06-21T00:00:00",
                    "2020-06-20T00:00:00",
                    "2020-06-19T00:00:00",
                    "2020-06-18T00:00:00",
                    "2020-06-17T00:00:00",
                    "2020-06-16T00:00:00",
                    "2020-06-15T00:00:00",
                    "2020-06-14T00:00:00",
                    "2020-06-13T00:00:00",
                    "2020-06-12T00:00:00",
                    "2020-06-11T00:00:00",
                    "2020-06-10T00:00:00",
                    "2020-06-09T00:00:00",
                    "2020-06-08T00:00:00",
                    "2020-06-07T00:00:00",
                    "2020-06-06T00:00:00",
                    "2020-06-05T00:00:00",
                    "2020-06-04T00:00:00",
                    "2020-06-03T00:00:00",
                    "2020-06-02T00:00:00",
                    "2020-06-01T00:00:00",
                    "2020-05-31T00:00:00",
                    "2020-05-30T00:00:00",
                    "2020-05-29T00:00:00",
                    "2020-05-28T00:00:00",
                    "2020-05-27T00:00:00",
                    "2020-05-26T00:00:00",
                    "2020-05-25T00:00:00",
                    "2020-05-24T00:00:00",
                    "2020-05-23T00:00:00",
                    "2020-05-22T00:00:00",
                    "2020-05-21T00:00:00",
                    "2020-05-20T00:00:00",
                    "2020-05-19T00:00:00",
                    "2020-05-18T00:00:00",
                    "2020-05-17T00:00:00",
                    "2020-05-16T00:00:00",
                    "2020-05-15T00:00:00",
                    "2020-05-14T00:00:00",
                    "2020-05-13T00:00:00",
                    "2020-05-12T00:00:00",
                    "2020-05-11T00:00:00",
                    "2020-05-10T00:00:00",
                    "2020-05-09T00:00:00",
                    "2020-05-08T00:00:00",
                    "2020-05-07T00:00:00",
                    "2020-05-06T00:00:00",
                    "2020-05-05T00:00:00",
                    "2020-05-04T00:00:00",
                    "2020-05-03T00:00:00",
                    "2020-05-02T00:00:00",
                    "2020-05-01T00:00:00",
                    "2020-04-30T00:00:00",
                    "2020-04-29T00:00:00",
                    "2020-04-28T00:00:00",
                    "2020-04-27T00:00:00",
                    "2020-04-26T00:00:00",
                    "2020-04-25T00:00:00",
                    "2020-04-24T00:00:00",
                    "2020-04-23T00:00:00",
                    "2020-04-22T00:00:00",
                    "2020-04-21T00:00:00",
                    "2020-04-20T00:00:00",
                    "2020-04-19T00:00:00",
                    "2020-04-18T00:00:00",
                    "2020-04-17T00:00:00",
                    "2020-04-16T00:00:00",
                    "2020-04-15T00:00:00",
                    "2020-04-14T00:00:00",
                    "2020-04-13T00:00:00",
                    "2020-04-12T00:00:00",
                    "2020-04-11T00:00:00",
                    "2020-04-10T00:00:00",
                    "2020-04-09T00:00:00",
                    "2020-04-08T00:00:00",
                    "2020-04-07T00:00:00",
                    "2020-04-06T00:00:00",
                    "2020-04-05T00:00:00",
                    "2020-04-04T00:00:00",
                    "2020-04-03T00:00:00",
                    "2020-04-02T00:00:00"
                  ],
                  "y": [
                    76.12456747404845,
                    75.60975609756098,
                    75.35112359550563,
                    74.822695035461,
                    74.56896551724138,
                    74.43718228031953,
                    74.34017595307918,
                    73.94833948339483,
                    73.19970304380104,
                    72.45508982035929,
                    71.69954476479515,
                    71.5057915057915,
                    71.17046347211313,
                    70.74340527577938,
                    71.13821138211382,
                    71.52317880794702,
                    70.93802345058626,
                    70.11884550084889,
                    70.03454231433506,
                    69.24444444444444,
                    67.61467889908258,
                    69.26108374384236,
                    70.70393374741201,
                    70.96092925026399,
                    70.7395498392283,
                    70.72905331882481,
                    70.1212789415656,
                    68.7005649717514,
                    67.67091541135574,
                    69.02439024390243,
                    69.06832298136646,
                    68.38790931989924,
                    67.13554987212275,
                    65.70680628272252,
                    62.88798920377868,
                    62.76445698166432,
                    63.8728323699422,
                    66.15620214395099,
                    63.910969793322735,
                    65.47008547008546,
                    63.13932980599647,
                    62.25045372050817,
                    62.01117318435754,
                    61.376673040152966,
                    61.01364522417154,
                    61.49193548387096,
                    60.45081967213115,
                    59.09090909090909,
                    58.22784810126582,
                    57.9520697167756,
                    57.27069351230425,
                    56.30630630630631,
                    55.96330275229357,
                    53.88235294117647,
                    51.06888361045131,
                    49.877149877149876,
                    48.18652849740933,
                    47.05882352941176,
                    47.97687861271676,
                    46.98795180722892,
                    41.509433962264154,
                    40.33898305084746,
                    32.720588235294116,
                    30.991735537190085,
                    23.423423423423422,
                    25.49019607843137,
                    28.160919540229884,
                    24.666666666666668,
                    16.19718309859155,
                    9.482758620689655,
                    6.60377358490566,
                    6.666666666666667,
                    5.405405405405405,
                    4.477611940298507,
                    5.660377358490567,
                    8.108108108108109,
                    6.25,
                    7.4074074074074066,
                    5.88235294117647,
                    7.6923076923076925,
                    0,
                    0,
                    0,
                    0,
                    0,
                    0,
                    0,
                    null,
                    null,
                    null,
                    null,
                    null,
                    null,
                    null,
                    null,
                    null,
                    null,
                    null,
                    null,
                    null,
                    null,
                    null,
                    null
                  ]
                }
              ],
              "layout": {
                "plot_bgcolor": "rgb(225,230,255)",
                "template": {
                  "data": {
                    "bar": [
                      {
                        "error_x": {
                          "color": "#2a3f5f"
                        },
                        "error_y": {
                          "color": "#2a3f5f"
                        },
                        "marker": {
                          "line": {
                            "color": "#E5ECF6",
                            "width": 0.5
                          }
                        },
                        "type": "bar"
                      }
                    ],
                    "barpolar": [
                      {
                        "marker": {
                          "line": {
                            "color": "#E5ECF6",
                            "width": 0.5
                          }
                        },
                        "type": "barpolar"
                      }
                    ],
                    "carpet": [
                      {
                        "aaxis": {
                          "endlinecolor": "#2a3f5f",
                          "gridcolor": "white",
                          "linecolor": "white",
                          "minorgridcolor": "white",
                          "startlinecolor": "#2a3f5f"
                        },
                        "baxis": {
                          "endlinecolor": "#2a3f5f",
                          "gridcolor": "white",
                          "linecolor": "white",
                          "minorgridcolor": "white",
                          "startlinecolor": "#2a3f5f"
                        },
                        "type": "carpet"
                      }
                    ],
                    "choropleth": [
                      {
                        "colorbar": {
                          "outlinewidth": 0,
                          "ticks": ""
                        },
                        "type": "choropleth"
                      }
                    ],
                    "contour": [
                      {
                        "colorbar": {
                          "outlinewidth": 0,
                          "ticks": ""
                        },
                        "colorscale": [
                          [
                            0,
                            "#0d0887"
                          ],
                          [
                            0.1111111111111111,
                            "#46039f"
                          ],
                          [
                            0.2222222222222222,
                            "#7201a8"
                          ],
                          [
                            0.3333333333333333,
                            "#9c179e"
                          ],
                          [
                            0.4444444444444444,
                            "#bd3786"
                          ],
                          [
                            0.5555555555555556,
                            "#d8576b"
                          ],
                          [
                            0.6666666666666666,
                            "#ed7953"
                          ],
                          [
                            0.7777777777777778,
                            "#fb9f3a"
                          ],
                          [
                            0.8888888888888888,
                            "#fdca26"
                          ],
                          [
                            1,
                            "#f0f921"
                          ]
                        ],
                        "type": "contour"
                      }
                    ],
                    "contourcarpet": [
                      {
                        "colorbar": {
                          "outlinewidth": 0,
                          "ticks": ""
                        },
                        "type": "contourcarpet"
                      }
                    ],
                    "heatmap": [
                      {
                        "colorbar": {
                          "outlinewidth": 0,
                          "ticks": ""
                        },
                        "colorscale": [
                          [
                            0,
                            "#0d0887"
                          ],
                          [
                            0.1111111111111111,
                            "#46039f"
                          ],
                          [
                            0.2222222222222222,
                            "#7201a8"
                          ],
                          [
                            0.3333333333333333,
                            "#9c179e"
                          ],
                          [
                            0.4444444444444444,
                            "#bd3786"
                          ],
                          [
                            0.5555555555555556,
                            "#d8576b"
                          ],
                          [
                            0.6666666666666666,
                            "#ed7953"
                          ],
                          [
                            0.7777777777777778,
                            "#fb9f3a"
                          ],
                          [
                            0.8888888888888888,
                            "#fdca26"
                          ],
                          [
                            1,
                            "#f0f921"
                          ]
                        ],
                        "type": "heatmap"
                      }
                    ],
                    "heatmapgl": [
                      {
                        "colorbar": {
                          "outlinewidth": 0,
                          "ticks": ""
                        },
                        "colorscale": [
                          [
                            0,
                            "#0d0887"
                          ],
                          [
                            0.1111111111111111,
                            "#46039f"
                          ],
                          [
                            0.2222222222222222,
                            "#7201a8"
                          ],
                          [
                            0.3333333333333333,
                            "#9c179e"
                          ],
                          [
                            0.4444444444444444,
                            "#bd3786"
                          ],
                          [
                            0.5555555555555556,
                            "#d8576b"
                          ],
                          [
                            0.6666666666666666,
                            "#ed7953"
                          ],
                          [
                            0.7777777777777778,
                            "#fb9f3a"
                          ],
                          [
                            0.8888888888888888,
                            "#fdca26"
                          ],
                          [
                            1,
                            "#f0f921"
                          ]
                        ],
                        "type": "heatmapgl"
                      }
                    ],
                    "histogram": [
                      {
                        "marker": {
                          "colorbar": {
                            "outlinewidth": 0,
                            "ticks": ""
                          }
                        },
                        "type": "histogram"
                      }
                    ],
                    "histogram2d": [
                      {
                        "colorbar": {
                          "outlinewidth": 0,
                          "ticks": ""
                        },
                        "colorscale": [
                          [
                            0,
                            "#0d0887"
                          ],
                          [
                            0.1111111111111111,
                            "#46039f"
                          ],
                          [
                            0.2222222222222222,
                            "#7201a8"
                          ],
                          [
                            0.3333333333333333,
                            "#9c179e"
                          ],
                          [
                            0.4444444444444444,
                            "#bd3786"
                          ],
                          [
                            0.5555555555555556,
                            "#d8576b"
                          ],
                          [
                            0.6666666666666666,
                            "#ed7953"
                          ],
                          [
                            0.7777777777777778,
                            "#fb9f3a"
                          ],
                          [
                            0.8888888888888888,
                            "#fdca26"
                          ],
                          [
                            1,
                            "#f0f921"
                          ]
                        ],
                        "type": "histogram2d"
                      }
                    ],
                    "histogram2dcontour": [
                      {
                        "colorbar": {
                          "outlinewidth": 0,
                          "ticks": ""
                        },
                        "colorscale": [
                          [
                            0,
                            "#0d0887"
                          ],
                          [
                            0.1111111111111111,
                            "#46039f"
                          ],
                          [
                            0.2222222222222222,
                            "#7201a8"
                          ],
                          [
                            0.3333333333333333,
                            "#9c179e"
                          ],
                          [
                            0.4444444444444444,
                            "#bd3786"
                          ],
                          [
                            0.5555555555555556,
                            "#d8576b"
                          ],
                          [
                            0.6666666666666666,
                            "#ed7953"
                          ],
                          [
                            0.7777777777777778,
                            "#fb9f3a"
                          ],
                          [
                            0.8888888888888888,
                            "#fdca26"
                          ],
                          [
                            1,
                            "#f0f921"
                          ]
                        ],
                        "type": "histogram2dcontour"
                      }
                    ],
                    "mesh3d": [
                      {
                        "colorbar": {
                          "outlinewidth": 0,
                          "ticks": ""
                        },
                        "type": "mesh3d"
                      }
                    ],
                    "parcoords": [
                      {
                        "line": {
                          "colorbar": {
                            "outlinewidth": 0,
                            "ticks": ""
                          }
                        },
                        "type": "parcoords"
                      }
                    ],
                    "pie": [
                      {
                        "automargin": true,
                        "type": "pie"
                      }
                    ],
                    "scatter": [
                      {
                        "marker": {
                          "colorbar": {
                            "outlinewidth": 0,
                            "ticks": ""
                          }
                        },
                        "type": "scatter"
                      }
                    ],
                    "scatter3d": [
                      {
                        "line": {
                          "colorbar": {
                            "outlinewidth": 0,
                            "ticks": ""
                          }
                        },
                        "marker": {
                          "colorbar": {
                            "outlinewidth": 0,
                            "ticks": ""
                          }
                        },
                        "type": "scatter3d"
                      }
                    ],
                    "scattercarpet": [
                      {
                        "marker": {
                          "colorbar": {
                            "outlinewidth": 0,
                            "ticks": ""
                          }
                        },
                        "type": "scattercarpet"
                      }
                    ],
                    "scattergeo": [
                      {
                        "marker": {
                          "colorbar": {
                            "outlinewidth": 0,
                            "ticks": ""
                          }
                        },
                        "type": "scattergeo"
                      }
                    ],
                    "scattergl": [
                      {
                        "marker": {
                          "colorbar": {
                            "outlinewidth": 0,
                            "ticks": ""
                          }
                        },
                        "type": "scattergl"
                      }
                    ],
                    "scattermapbox": [
                      {
                        "marker": {
                          "colorbar": {
                            "outlinewidth": 0,
                            "ticks": ""
                          }
                        },
                        "type": "scattermapbox"
                      }
                    ],
                    "scatterpolar": [
                      {
                        "marker": {
                          "colorbar": {
                            "outlinewidth": 0,
                            "ticks": ""
                          }
                        },
                        "type": "scatterpolar"
                      }
                    ],
                    "scatterpolargl": [
                      {
                        "marker": {
                          "colorbar": {
                            "outlinewidth": 0,
                            "ticks": ""
                          }
                        },
                        "type": "scatterpolargl"
                      }
                    ],
                    "scatterternary": [
                      {
                        "marker": {
                          "colorbar": {
                            "outlinewidth": 0,
                            "ticks": ""
                          }
                        },
                        "type": "scatterternary"
                      }
                    ],
                    "surface": [
                      {
                        "colorbar": {
                          "outlinewidth": 0,
                          "ticks": ""
                        },
                        "colorscale": [
                          [
                            0,
                            "#0d0887"
                          ],
                          [
                            0.1111111111111111,
                            "#46039f"
                          ],
                          [
                            0.2222222222222222,
                            "#7201a8"
                          ],
                          [
                            0.3333333333333333,
                            "#9c179e"
                          ],
                          [
                            0.4444444444444444,
                            "#bd3786"
                          ],
                          [
                            0.5555555555555556,
                            "#d8576b"
                          ],
                          [
                            0.6666666666666666,
                            "#ed7953"
                          ],
                          [
                            0.7777777777777778,
                            "#fb9f3a"
                          ],
                          [
                            0.8888888888888888,
                            "#fdca26"
                          ],
                          [
                            1,
                            "#f0f921"
                          ]
                        ],
                        "type": "surface"
                      }
                    ],
                    "table": [
                      {
                        "cells": {
                          "fill": {
                            "color": "#EBF0F8"
                          },
                          "line": {
                            "color": "white"
                          }
                        },
                        "header": {
                          "fill": {
                            "color": "#C8D4E3"
                          },
                          "line": {
                            "color": "white"
                          }
                        },
                        "type": "table"
                      }
                    ]
                  },
                  "layout": {
                    "annotationdefaults": {
                      "arrowcolor": "#2a3f5f",
                      "arrowhead": 0,
                      "arrowwidth": 1
                    },
                    "coloraxis": {
                      "colorbar": {
                        "outlinewidth": 0,
                        "ticks": ""
                      }
                    },
                    "colorscale": {
                      "diverging": [
                        [
                          0,
                          "#8e0152"
                        ],
                        [
                          0.1,
                          "#c51b7d"
                        ],
                        [
                          0.2,
                          "#de77ae"
                        ],
                        [
                          0.3,
                          "#f1b6da"
                        ],
                        [
                          0.4,
                          "#fde0ef"
                        ],
                        [
                          0.5,
                          "#f7f7f7"
                        ],
                        [
                          0.6,
                          "#e6f5d0"
                        ],
                        [
                          0.7,
                          "#b8e186"
                        ],
                        [
                          0.8,
                          "#7fbc41"
                        ],
                        [
                          0.9,
                          "#4d9221"
                        ],
                        [
                          1,
                          "#276419"
                        ]
                      ],
                      "sequential": [
                        [
                          0,
                          "#0d0887"
                        ],
                        [
                          0.1111111111111111,
                          "#46039f"
                        ],
                        [
                          0.2222222222222222,
                          "#7201a8"
                        ],
                        [
                          0.3333333333333333,
                          "#9c179e"
                        ],
                        [
                          0.4444444444444444,
                          "#bd3786"
                        ],
                        [
                          0.5555555555555556,
                          "#d8576b"
                        ],
                        [
                          0.6666666666666666,
                          "#ed7953"
                        ],
                        [
                          0.7777777777777778,
                          "#fb9f3a"
                        ],
                        [
                          0.8888888888888888,
                          "#fdca26"
                        ],
                        [
                          1,
                          "#f0f921"
                        ]
                      ],
                      "sequentialminus": [
                        [
                          0,
                          "#0d0887"
                        ],
                        [
                          0.1111111111111111,
                          "#46039f"
                        ],
                        [
                          0.2222222222222222,
                          "#7201a8"
                        ],
                        [
                          0.3333333333333333,
                          "#9c179e"
                        ],
                        [
                          0.4444444444444444,
                          "#bd3786"
                        ],
                        [
                          0.5555555555555556,
                          "#d8576b"
                        ],
                        [
                          0.6666666666666666,
                          "#ed7953"
                        ],
                        [
                          0.7777777777777778,
                          "#fb9f3a"
                        ],
                        [
                          0.8888888888888888,
                          "#fdca26"
                        ],
                        [
                          1,
                          "#f0f921"
                        ]
                      ]
                    },
                    "colorway": [
                      "#636efa",
                      "#EF553B",
                      "#00cc96",
                      "#ab63fa",
                      "#FFA15A",
                      "#19d3f3",
                      "#FF6692",
                      "#B6E880",
                      "#FF97FF",
                      "#FECB52"
                    ],
                    "font": {
                      "color": "#2a3f5f"
                    },
                    "geo": {
                      "bgcolor": "white",
                      "lakecolor": "white",
                      "landcolor": "#E5ECF6",
                      "showlakes": true,
                      "showland": true,
                      "subunitcolor": "white"
                    },
                    "hoverlabel": {
                      "align": "left"
                    },
                    "hovermode": "closest",
                    "mapbox": {
                      "style": "light"
                    },
                    "paper_bgcolor": "white",
                    "plot_bgcolor": "#E5ECF6",
                    "polar": {
                      "angularaxis": {
                        "gridcolor": "white",
                        "linecolor": "white",
                        "ticks": ""
                      },
                      "bgcolor": "#E5ECF6",
                      "radialaxis": {
                        "gridcolor": "white",
                        "linecolor": "white",
                        "ticks": ""
                      }
                    },
                    "scene": {
                      "xaxis": {
                        "backgroundcolor": "#E5ECF6",
                        "gridcolor": "white",
                        "gridwidth": 2,
                        "linecolor": "white",
                        "showbackground": true,
                        "ticks": "",
                        "zerolinecolor": "white"
                      },
                      "yaxis": {
                        "backgroundcolor": "#E5ECF6",
                        "gridcolor": "white",
                        "gridwidth": 2,
                        "linecolor": "white",
                        "showbackground": true,
                        "ticks": "",
                        "zerolinecolor": "white"
                      },
                      "zaxis": {
                        "backgroundcolor": "#E5ECF6",
                        "gridcolor": "white",
                        "gridwidth": 2,
                        "linecolor": "white",
                        "showbackground": true,
                        "ticks": "",
                        "zerolinecolor": "white"
                      }
                    },
                    "shapedefaults": {
                      "line": {
                        "color": "#2a3f5f"
                      }
                    },
                    "ternary": {
                      "aaxis": {
                        "gridcolor": "white",
                        "linecolor": "white",
                        "ticks": ""
                      },
                      "baxis": {
                        "gridcolor": "white",
                        "linecolor": "white",
                        "ticks": ""
                      },
                      "bgcolor": "#E5ECF6",
                      "caxis": {
                        "gridcolor": "white",
                        "linecolor": "white",
                        "ticks": ""
                      }
                    },
                    "title": {
                      "x": 0.05
                    },
                    "xaxis": {
                      "automargin": true,
                      "gridcolor": "white",
                      "linecolor": "white",
                      "ticks": "",
                      "title": {
                        "standoff": 15
                      },
                      "zerolinecolor": "white",
                      "zerolinewidth": 2
                    },
                    "yaxis": {
                      "automargin": true,
                      "gridcolor": "white",
                      "linecolor": "white",
                      "ticks": "",
                      "title": {
                        "standoff": 15
                      },
                      "zerolinecolor": "white",
                      "zerolinewidth": 2
                    }
                  }
                },
                "title": {
                  "text": "COVID-19 Recovery Rate in BREVES"
                }
              }
            },
            "text/html": [
              "<div>\n",
              "        \n",
              "        \n",
              "            <div id=\"d479ce17-62f8-4f83-96d2-43593b014faf\" class=\"plotly-graph-div\" style=\"height:525px; width:100%;\"></div>\n",
              "            <script type=\"text/javascript\">\n",
              "                require([\"plotly\"], function(Plotly) {\n",
              "                    window.PLOTLYENV=window.PLOTLYENV || {};\n",
              "                    \n",
              "                if (document.getElementById(\"d479ce17-62f8-4f83-96d2-43593b014faf\")) {\n",
              "                    Plotly.newPlot(\n",
              "                        'd479ce17-62f8-4f83-96d2-43593b014faf',\n",
              "                        [{\"marker\": {\"color\": \"green\"}, \"mode\": \"lines+markers\", \"name\": \"Cases\", \"type\": \"scatter\", \"x\": [\"2020-07-13T00:00:00\", \"2020-07-12T00:00:00\", \"2020-07-11T00:00:00\", \"2020-07-10T00:00:00\", \"2020-07-09T00:00:00\", \"2020-07-08T00:00:00\", \"2020-07-07T00:00:00\", \"2020-07-06T00:00:00\", \"2020-07-05T00:00:00\", \"2020-07-04T00:00:00\", \"2020-07-03T00:00:00\", \"2020-07-02T00:00:00\", \"2020-07-01T00:00:00\", \"2020-06-30T00:00:00\", \"2020-06-29T00:00:00\", \"2020-06-28T00:00:00\", \"2020-06-27T00:00:00\", \"2020-06-26T00:00:00\", \"2020-06-25T00:00:00\", \"2020-06-24T00:00:00\", \"2020-06-23T00:00:00\", \"2020-06-22T00:00:00\", \"2020-06-21T00:00:00\", \"2020-06-20T00:00:00\", \"2020-06-19T00:00:00\", \"2020-06-18T00:00:00\", \"2020-06-17T00:00:00\", \"2020-06-16T00:00:00\", \"2020-06-15T00:00:00\", \"2020-06-14T00:00:00\", \"2020-06-13T00:00:00\", \"2020-06-12T00:00:00\", \"2020-06-11T00:00:00\", \"2020-06-10T00:00:00\", \"2020-06-09T00:00:00\", \"2020-06-08T00:00:00\", \"2020-06-07T00:00:00\", \"2020-06-06T00:00:00\", \"2020-06-05T00:00:00\", \"2020-06-04T00:00:00\", \"2020-06-03T00:00:00\", \"2020-06-02T00:00:00\", \"2020-06-01T00:00:00\", \"2020-05-31T00:00:00\", \"2020-05-30T00:00:00\", \"2020-05-29T00:00:00\", \"2020-05-28T00:00:00\", \"2020-05-27T00:00:00\", \"2020-05-26T00:00:00\", \"2020-05-25T00:00:00\", \"2020-05-24T00:00:00\", \"2020-05-23T00:00:00\", \"2020-05-22T00:00:00\", \"2020-05-21T00:00:00\", \"2020-05-20T00:00:00\", \"2020-05-19T00:00:00\", \"2020-05-18T00:00:00\", \"2020-05-17T00:00:00\", \"2020-05-16T00:00:00\", \"2020-05-15T00:00:00\", \"2020-05-14T00:00:00\", \"2020-05-13T00:00:00\", \"2020-05-12T00:00:00\", \"2020-05-11T00:00:00\", \"2020-05-10T00:00:00\", \"2020-05-09T00:00:00\", \"2020-05-08T00:00:00\", \"2020-05-07T00:00:00\", \"2020-05-06T00:00:00\", \"2020-05-05T00:00:00\", \"2020-05-04T00:00:00\", \"2020-05-03T00:00:00\", \"2020-05-02T00:00:00\", \"2020-05-01T00:00:00\", \"2020-04-30T00:00:00\", \"2020-04-29T00:00:00\", \"2020-04-28T00:00:00\", \"2020-04-27T00:00:00\", \"2020-04-26T00:00:00\", \"2020-04-25T00:00:00\", \"2020-04-24T00:00:00\", \"2020-04-23T00:00:00\", \"2020-04-22T00:00:00\", \"2020-04-21T00:00:00\", \"2020-04-20T00:00:00\", \"2020-04-19T00:00:00\", \"2020-04-18T00:00:00\", \"2020-04-17T00:00:00\", \"2020-04-16T00:00:00\", \"2020-04-15T00:00:00\", \"2020-04-14T00:00:00\", \"2020-04-13T00:00:00\", \"2020-04-12T00:00:00\", \"2020-04-11T00:00:00\", \"2020-04-10T00:00:00\", \"2020-04-09T00:00:00\", \"2020-04-08T00:00:00\", \"2020-04-07T00:00:00\", \"2020-04-06T00:00:00\", \"2020-04-05T00:00:00\", \"2020-04-04T00:00:00\", \"2020-04-03T00:00:00\", \"2020-04-02T00:00:00\"], \"y\": [76.12456747404845, 75.60975609756098, 75.35112359550563, 74.822695035461, 74.56896551724138, 74.43718228031953, 74.34017595307918, 73.94833948339483, 73.19970304380104, 72.45508982035929, 71.69954476479515, 71.5057915057915, 71.17046347211313, 70.74340527577938, 71.13821138211382, 71.52317880794702, 70.93802345058626, 70.11884550084889, 70.03454231433506, 69.24444444444444, 67.61467889908258, 69.26108374384236, 70.70393374741201, 70.96092925026399, 70.7395498392283, 70.72905331882481, 70.1212789415656, 68.7005649717514, 67.67091541135574, 69.02439024390243, 69.06832298136646, 68.38790931989924, 67.13554987212275, 65.70680628272252, 62.88798920377868, 62.76445698166432, 63.8728323699422, 66.15620214395099, 63.910969793322735, 65.47008547008546, 63.13932980599647, 62.25045372050817, 62.01117318435754, 61.376673040152966, 61.01364522417154, 61.49193548387096, 60.45081967213115, 59.09090909090909, 58.22784810126582, 57.9520697167756, 57.27069351230425, 56.30630630630631, 55.96330275229357, 53.88235294117647, 51.06888361045131, 49.877149877149876, 48.18652849740933, 47.05882352941176, 47.97687861271676, 46.98795180722892, 41.509433962264154, 40.33898305084746, 32.720588235294116, 30.991735537190085, 23.423423423423422, 25.49019607843137, 28.160919540229884, 24.666666666666668, 16.19718309859155, 9.482758620689655, 6.60377358490566, 6.666666666666667, 5.405405405405405, 4.477611940298507, 5.660377358490567, 8.108108108108109, 6.25, 7.4074074074074066, 5.88235294117647, 7.6923076923076925, 0.0, 0.0, 0.0, 0.0, 0.0, 0.0, 0.0, null, null, null, null, null, null, null, null, null, null, null, null, null, null, null, null]}],\n",
              "                        {\"plot_bgcolor\": \"rgb(225,230,255)\", \"template\": {\"data\": {\"bar\": [{\"error_x\": {\"color\": \"#2a3f5f\"}, \"error_y\": {\"color\": \"#2a3f5f\"}, \"marker\": {\"line\": {\"color\": \"#E5ECF6\", \"width\": 0.5}}, \"type\": \"bar\"}], \"barpolar\": [{\"marker\": {\"line\": {\"color\": \"#E5ECF6\", \"width\": 0.5}}, \"type\": \"barpolar\"}], \"carpet\": [{\"aaxis\": {\"endlinecolor\": \"#2a3f5f\", \"gridcolor\": \"white\", \"linecolor\": \"white\", \"minorgridcolor\": \"white\", \"startlinecolor\": \"#2a3f5f\"}, \"baxis\": {\"endlinecolor\": \"#2a3f5f\", \"gridcolor\": \"white\", \"linecolor\": \"white\", \"minorgridcolor\": \"white\", \"startlinecolor\": \"#2a3f5f\"}, \"type\": \"carpet\"}], \"choropleth\": [{\"colorbar\": {\"outlinewidth\": 0, \"ticks\": \"\"}, \"type\": \"choropleth\"}], \"contour\": [{\"colorbar\": {\"outlinewidth\": 0, \"ticks\": \"\"}, \"colorscale\": [[0.0, \"#0d0887\"], [0.1111111111111111, \"#46039f\"], [0.2222222222222222, \"#7201a8\"], [0.3333333333333333, \"#9c179e\"], [0.4444444444444444, \"#bd3786\"], [0.5555555555555556, \"#d8576b\"], [0.6666666666666666, \"#ed7953\"], [0.7777777777777778, \"#fb9f3a\"], [0.8888888888888888, \"#fdca26\"], [1.0, \"#f0f921\"]], \"type\": \"contour\"}], \"contourcarpet\": [{\"colorbar\": {\"outlinewidth\": 0, \"ticks\": \"\"}, \"type\": \"contourcarpet\"}], \"heatmap\": [{\"colorbar\": {\"outlinewidth\": 0, \"ticks\": \"\"}, \"colorscale\": [[0.0, \"#0d0887\"], [0.1111111111111111, \"#46039f\"], [0.2222222222222222, \"#7201a8\"], [0.3333333333333333, \"#9c179e\"], [0.4444444444444444, \"#bd3786\"], [0.5555555555555556, \"#d8576b\"], [0.6666666666666666, \"#ed7953\"], [0.7777777777777778, \"#fb9f3a\"], [0.8888888888888888, \"#fdca26\"], [1.0, \"#f0f921\"]], \"type\": \"heatmap\"}], \"heatmapgl\": [{\"colorbar\": {\"outlinewidth\": 0, \"ticks\": \"\"}, \"colorscale\": [[0.0, \"#0d0887\"], [0.1111111111111111, \"#46039f\"], [0.2222222222222222, \"#7201a8\"], [0.3333333333333333, \"#9c179e\"], [0.4444444444444444, \"#bd3786\"], [0.5555555555555556, \"#d8576b\"], [0.6666666666666666, \"#ed7953\"], [0.7777777777777778, \"#fb9f3a\"], [0.8888888888888888, \"#fdca26\"], [1.0, \"#f0f921\"]], \"type\": \"heatmapgl\"}], \"histogram\": [{\"marker\": {\"colorbar\": {\"outlinewidth\": 0, \"ticks\": \"\"}}, \"type\": \"histogram\"}], \"histogram2d\": [{\"colorbar\": {\"outlinewidth\": 0, \"ticks\": \"\"}, \"colorscale\": [[0.0, \"#0d0887\"], [0.1111111111111111, \"#46039f\"], [0.2222222222222222, \"#7201a8\"], [0.3333333333333333, \"#9c179e\"], [0.4444444444444444, \"#bd3786\"], [0.5555555555555556, \"#d8576b\"], [0.6666666666666666, \"#ed7953\"], [0.7777777777777778, \"#fb9f3a\"], [0.8888888888888888, \"#fdca26\"], [1.0, \"#f0f921\"]], \"type\": \"histogram2d\"}], \"histogram2dcontour\": [{\"colorbar\": {\"outlinewidth\": 0, \"ticks\": \"\"}, \"colorscale\": [[0.0, \"#0d0887\"], [0.1111111111111111, \"#46039f\"], [0.2222222222222222, \"#7201a8\"], [0.3333333333333333, \"#9c179e\"], [0.4444444444444444, \"#bd3786\"], [0.5555555555555556, \"#d8576b\"], [0.6666666666666666, \"#ed7953\"], [0.7777777777777778, \"#fb9f3a\"], [0.8888888888888888, \"#fdca26\"], [1.0, \"#f0f921\"]], \"type\": \"histogram2dcontour\"}], \"mesh3d\": [{\"colorbar\": {\"outlinewidth\": 0, \"ticks\": \"\"}, \"type\": \"mesh3d\"}], \"parcoords\": [{\"line\": {\"colorbar\": {\"outlinewidth\": 0, \"ticks\": \"\"}}, \"type\": \"parcoords\"}], \"pie\": [{\"automargin\": true, \"type\": \"pie\"}], \"scatter\": [{\"marker\": {\"colorbar\": {\"outlinewidth\": 0, \"ticks\": \"\"}}, \"type\": \"scatter\"}], \"scatter3d\": [{\"line\": {\"colorbar\": {\"outlinewidth\": 0, \"ticks\": \"\"}}, \"marker\": {\"colorbar\": {\"outlinewidth\": 0, \"ticks\": \"\"}}, \"type\": \"scatter3d\"}], \"scattercarpet\": [{\"marker\": {\"colorbar\": {\"outlinewidth\": 0, \"ticks\": \"\"}}, \"type\": \"scattercarpet\"}], \"scattergeo\": [{\"marker\": {\"colorbar\": {\"outlinewidth\": 0, \"ticks\": \"\"}}, \"type\": \"scattergeo\"}], \"scattergl\": [{\"marker\": {\"colorbar\": {\"outlinewidth\": 0, \"ticks\": \"\"}}, \"type\": \"scattergl\"}], \"scattermapbox\": [{\"marker\": {\"colorbar\": {\"outlinewidth\": 0, \"ticks\": \"\"}}, \"type\": \"scattermapbox\"}], \"scatterpolar\": [{\"marker\": {\"colorbar\": {\"outlinewidth\": 0, \"ticks\": \"\"}}, \"type\": \"scatterpolar\"}], \"scatterpolargl\": [{\"marker\": {\"colorbar\": {\"outlinewidth\": 0, \"ticks\": \"\"}}, \"type\": \"scatterpolargl\"}], \"scatterternary\": [{\"marker\": {\"colorbar\": {\"outlinewidth\": 0, \"ticks\": \"\"}}, \"type\": \"scatterternary\"}], \"surface\": [{\"colorbar\": {\"outlinewidth\": 0, \"ticks\": \"\"}, \"colorscale\": [[0.0, \"#0d0887\"], [0.1111111111111111, \"#46039f\"], [0.2222222222222222, \"#7201a8\"], [0.3333333333333333, \"#9c179e\"], [0.4444444444444444, \"#bd3786\"], [0.5555555555555556, \"#d8576b\"], [0.6666666666666666, \"#ed7953\"], [0.7777777777777778, \"#fb9f3a\"], [0.8888888888888888, \"#fdca26\"], [1.0, \"#f0f921\"]], \"type\": \"surface\"}], \"table\": [{\"cells\": {\"fill\": {\"color\": \"#EBF0F8\"}, \"line\": {\"color\": \"white\"}}, \"header\": {\"fill\": {\"color\": \"#C8D4E3\"}, \"line\": {\"color\": \"white\"}}, \"type\": \"table\"}]}, \"layout\": {\"annotationdefaults\": {\"arrowcolor\": \"#2a3f5f\", \"arrowhead\": 0, \"arrowwidth\": 1}, \"coloraxis\": {\"colorbar\": {\"outlinewidth\": 0, \"ticks\": \"\"}}, \"colorscale\": {\"diverging\": [[0, \"#8e0152\"], [0.1, \"#c51b7d\"], [0.2, \"#de77ae\"], [0.3, \"#f1b6da\"], [0.4, \"#fde0ef\"], [0.5, \"#f7f7f7\"], [0.6, \"#e6f5d0\"], [0.7, \"#b8e186\"], [0.8, \"#7fbc41\"], [0.9, \"#4d9221\"], [1, \"#276419\"]], \"sequential\": [[0.0, \"#0d0887\"], [0.1111111111111111, \"#46039f\"], [0.2222222222222222, \"#7201a8\"], [0.3333333333333333, \"#9c179e\"], [0.4444444444444444, \"#bd3786\"], [0.5555555555555556, \"#d8576b\"], [0.6666666666666666, \"#ed7953\"], [0.7777777777777778, \"#fb9f3a\"], [0.8888888888888888, \"#fdca26\"], [1.0, \"#f0f921\"]], \"sequentialminus\": [[0.0, \"#0d0887\"], [0.1111111111111111, \"#46039f\"], [0.2222222222222222, \"#7201a8\"], [0.3333333333333333, \"#9c179e\"], [0.4444444444444444, \"#bd3786\"], [0.5555555555555556, \"#d8576b\"], [0.6666666666666666, \"#ed7953\"], [0.7777777777777778, \"#fb9f3a\"], [0.8888888888888888, \"#fdca26\"], [1.0, \"#f0f921\"]]}, \"colorway\": [\"#636efa\", \"#EF553B\", \"#00cc96\", \"#ab63fa\", \"#FFA15A\", \"#19d3f3\", \"#FF6692\", \"#B6E880\", \"#FF97FF\", \"#FECB52\"], \"font\": {\"color\": \"#2a3f5f\"}, \"geo\": {\"bgcolor\": \"white\", \"lakecolor\": \"white\", \"landcolor\": \"#E5ECF6\", \"showlakes\": true, \"showland\": true, \"subunitcolor\": \"white\"}, \"hoverlabel\": {\"align\": \"left\"}, \"hovermode\": \"closest\", \"mapbox\": {\"style\": \"light\"}, \"paper_bgcolor\": \"white\", \"plot_bgcolor\": \"#E5ECF6\", \"polar\": {\"angularaxis\": {\"gridcolor\": \"white\", \"linecolor\": \"white\", \"ticks\": \"\"}, \"bgcolor\": \"#E5ECF6\", \"radialaxis\": {\"gridcolor\": \"white\", \"linecolor\": \"white\", \"ticks\": \"\"}}, \"scene\": {\"xaxis\": {\"backgroundcolor\": \"#E5ECF6\", \"gridcolor\": \"white\", \"gridwidth\": 2, \"linecolor\": \"white\", \"showbackground\": true, \"ticks\": \"\", \"zerolinecolor\": \"white\"}, \"yaxis\": {\"backgroundcolor\": \"#E5ECF6\", \"gridcolor\": \"white\", \"gridwidth\": 2, \"linecolor\": \"white\", \"showbackground\": true, \"ticks\": \"\", \"zerolinecolor\": \"white\"}, \"zaxis\": {\"backgroundcolor\": \"#E5ECF6\", \"gridcolor\": \"white\", \"gridwidth\": 2, \"linecolor\": \"white\", \"showbackground\": true, \"ticks\": \"\", \"zerolinecolor\": \"white\"}}, \"shapedefaults\": {\"line\": {\"color\": \"#2a3f5f\"}}, \"ternary\": {\"aaxis\": {\"gridcolor\": \"white\", \"linecolor\": \"white\", \"ticks\": \"\"}, \"baxis\": {\"gridcolor\": \"white\", \"linecolor\": \"white\", \"ticks\": \"\"}, \"bgcolor\": \"#E5ECF6\", \"caxis\": {\"gridcolor\": \"white\", \"linecolor\": \"white\", \"ticks\": \"\"}}, \"title\": {\"x\": 0.05}, \"xaxis\": {\"automargin\": true, \"gridcolor\": \"white\", \"linecolor\": \"white\", \"ticks\": \"\", \"title\": {\"standoff\": 15}, \"zerolinecolor\": \"white\", \"zerolinewidth\": 2}, \"yaxis\": {\"automargin\": true, \"gridcolor\": \"white\", \"linecolor\": \"white\", \"ticks\": \"\", \"title\": {\"standoff\": 15}, \"zerolinecolor\": \"white\", \"zerolinewidth\": 2}}}, \"title\": {\"text\": \"COVID-19 Recovery Rate in BREVES\"}},\n",
              "                        {\"responsive\": true}\n",
              "                    ).then(function(){\n",
              "                            \n",
              "var gd = document.getElementById('d479ce17-62f8-4f83-96d2-43593b014faf');\n",
              "var x = new MutationObserver(function (mutations, observer) {{\n",
              "        var display = window.getComputedStyle(gd).display;\n",
              "        if (!display || display === 'none') {{\n",
              "            console.log([gd, 'removed!']);\n",
              "            Plotly.purge(gd);\n",
              "            observer.disconnect();\n",
              "        }}\n",
              "}});\n",
              "\n",
              "// Listen for the removal of the full notebook cells\n",
              "var notebookContainer = gd.closest('#notebook-container');\n",
              "if (notebookContainer) {{\n",
              "    x.observe(notebookContainer, {childList: true});\n",
              "}}\n",
              "\n",
              "// Listen for the clearing of the current output cell\n",
              "var outputEl = gd.closest('.output');\n",
              "if (outputEl) {{\n",
              "    x.observe(outputEl, {childList: true});\n",
              "}}\n",
              "\n",
              "                        })\n",
              "                };\n",
              "                });\n",
              "            </script>\n",
              "        </div>"
            ]
          },
          "metadata": {
            "tags": []
          }
        }
      ]
    },
    {
      "cell_type": "code",
      "metadata": {
        "id": "-_wGmWOAcw68",
        "colab_type": "code",
        "colab": {},
        "outputId": "9bab57ef-1278-4981-a51a-3e8784406603"
      },
      "source": [
        "#DAILY Recovery IN BREVES\n",
        "carona_data =  df_breves.groupby(['Date'])['Recovered'].sum().reset_index().sort_values('Recovered',ascending = True)\n",
        "carona_data['DAILY RECOVERY'] = carona_data['Recovered'].sub(carona_data['Recovered'].shift())\n",
        "carona_data['DAILY RECOVERY'].iloc[0] = carona_data['Recovered'].iloc[0]\n",
        "carona_data['DAILY RECOVERY'] = carona_data['DAILY RECOVERY'].astype(int)\n",
        "fig = px.bar(carona_data, y='DAILY RECOVERY', x='Date',hover_data =['DAILY RECOVERY'], color='DAILY RECOVERY', height=500)\n",
        "fig.update_layout(\n",
        "    title='DAILY RECOVERY IN BREVES')\n",
        "fig.show()"
      ],
      "execution_count": null,
      "outputs": [
        {
          "output_type": "display_data",
          "data": {
            "application/vnd.plotly.v1+json": {
              "config": {
                "plotlyServerURL": "https://plot.ly"
              },
              "data": [
                {
                  "alignmentgroup": "True",
                  "customdata": [
                    [
                      0
                    ],
                    [
                      0
                    ],
                    [
                      0
                    ],
                    [
                      0
                    ],
                    [
                      0
                    ],
                    [
                      0
                    ],
                    [
                      0
                    ],
                    [
                      0
                    ],
                    [
                      0
                    ],
                    [
                      0
                    ],
                    [
                      0
                    ],
                    [
                      0
                    ],
                    [
                      0
                    ],
                    [
                      0
                    ],
                    [
                      0
                    ],
                    [
                      0
                    ],
                    [
                      0
                    ],
                    [
                      0
                    ],
                    [
                      0
                    ],
                    [
                      0
                    ],
                    [
                      0
                    ],
                    [
                      0
                    ],
                    [
                      0
                    ],
                    [
                      1
                    ],
                    [
                      0
                    ],
                    [
                      1
                    ],
                    [
                      0
                    ],
                    [
                      1
                    ],
                    [
                      0
                    ],
                    [
                      0
                    ],
                    [
                      1
                    ],
                    [
                      2
                    ],
                    [
                      1
                    ],
                    [
                      4
                    ],
                    [
                      12
                    ],
                    [
                      14
                    ],
                    [
                      12
                    ],
                    [
                      3
                    ],
                    [
                      0
                    ],
                    [
                      23
                    ],
                    [
                      14
                    ],
                    [
                      30
                    ],
                    [
                      13
                    ],
                    [
                      24
                    ],
                    [
                      10
                    ],
                    [
                      10
                    ],
                    [
                      10
                    ],
                    [
                      17
                    ],
                    [
                      12
                    ],
                    [
                      14
                    ],
                    [
                      15
                    ],
                    [
                      6
                    ],
                    [
                      6
                    ],
                    [
                      10
                    ],
                    [
                      10
                    ],
                    [
                      10
                    ],
                    [
                      9
                    ],
                    [
                      10
                    ],
                    [
                      8
                    ],
                    [
                      8
                    ],
                    [
                      12
                    ],
                    [
                      10
                    ],
                    [
                      15
                    ],
                    [
                      25
                    ],
                    [
                      19
                    ],
                    [
                      30
                    ],
                    [
                      10
                    ],
                    [
                      3
                    ],
                    [
                      21
                    ],
                    [
                      36
                    ],
                    [
                      23
                    ],
                    [
                      18
                    ],
                    [
                      13
                    ],
                    [
                      10
                    ],
                    [
                      18
                    ],
                    [
                      24
                    ],
                    [
                      28
                    ],
                    [
                      14
                    ],
                    [
                      10
                    ],
                    [
                      12
                    ],
                    [
                      11
                    ],
                    [
                      20
                    ],
                    [
                      34
                    ],
                    [
                      42
                    ],
                    [
                      32
                    ],
                    [
                      15
                    ],
                    [
                      21
                    ],
                    [
                      17
                    ],
                    [
                      11
                    ],
                    [
                      10
                    ],
                    [
                      21
                    ],
                    [
                      20
                    ],
                    [
                      19
                    ],
                    [
                      23
                    ],
                    [
                      18
                    ],
                    [
                      16
                    ],
                    [
                      12
                    ],
                    [
                      11
                    ],
                    [
                      13
                    ],
                    [
                      17
                    ],
                    [
                      18
                    ],
                    [
                      12
                    ],
                    [
                      15
                    ]
                  ],
                  "hovertemplate": "Date=%{x}<br>DAILY RECOVERY=%{marker.color}<extra></extra>",
                  "legendgroup": "",
                  "marker": {
                    "color": [
                      0,
                      0,
                      0,
                      0,
                      0,
                      0,
                      0,
                      0,
                      0,
                      0,
                      0,
                      0,
                      0,
                      0,
                      0,
                      0,
                      0,
                      0,
                      0,
                      0,
                      0,
                      0,
                      0,
                      1,
                      0,
                      1,
                      0,
                      1,
                      0,
                      0,
                      1,
                      2,
                      1,
                      4,
                      12,
                      14,
                      12,
                      3,
                      0,
                      23,
                      14,
                      30,
                      13,
                      24,
                      10,
                      10,
                      10,
                      17,
                      12,
                      14,
                      15,
                      6,
                      6,
                      10,
                      10,
                      10,
                      9,
                      10,
                      8,
                      8,
                      12,
                      10,
                      15,
                      25,
                      19,
                      30,
                      10,
                      3,
                      21,
                      36,
                      23,
                      18,
                      13,
                      10,
                      18,
                      24,
                      28,
                      14,
                      10,
                      12,
                      11,
                      20,
                      34,
                      42,
                      32,
                      15,
                      21,
                      17,
                      11,
                      10,
                      21,
                      20,
                      19,
                      23,
                      18,
                      16,
                      12,
                      11,
                      13,
                      17,
                      18,
                      12,
                      15
                    ],
                    "coloraxis": "coloraxis"
                  },
                  "name": "",
                  "offsetgroup": "",
                  "orientation": "v",
                  "showlegend": false,
                  "textposition": "auto",
                  "type": "bar",
                  "x": [
                    "2020-04-02T00:00:00",
                    "2020-04-24T00:00:00",
                    "2020-04-23T00:00:00",
                    "2020-04-22T00:00:00",
                    "2020-04-21T00:00:00",
                    "2020-04-20T00:00:00",
                    "2020-04-19T00:00:00",
                    "2020-04-18T00:00:00",
                    "2020-04-17T00:00:00",
                    "2020-04-16T00:00:00",
                    "2020-04-15T00:00:00",
                    "2020-04-14T00:00:00",
                    "2020-04-12T00:00:00",
                    "2020-04-11T00:00:00",
                    "2020-04-10T00:00:00",
                    "2020-04-09T00:00:00",
                    "2020-04-08T00:00:00",
                    "2020-04-07T00:00:00",
                    "2020-04-06T00:00:00",
                    "2020-04-05T00:00:00",
                    "2020-04-04T00:00:00",
                    "2020-04-03T00:00:00",
                    "2020-04-13T00:00:00",
                    "2020-04-26T00:00:00",
                    "2020-04-25T00:00:00",
                    "2020-04-28T00:00:00",
                    "2020-04-27T00:00:00",
                    "2020-04-29T00:00:00",
                    "2020-04-30T00:00:00",
                    "2020-05-01T00:00:00",
                    "2020-05-02T00:00:00",
                    "2020-05-03T00:00:00",
                    "2020-05-04T00:00:00",
                    "2020-05-05T00:00:00",
                    "2020-05-06T00:00:00",
                    "2020-05-07T00:00:00",
                    "2020-05-08T00:00:00",
                    "2020-05-10T00:00:00",
                    "2020-05-09T00:00:00",
                    "2020-05-11T00:00:00",
                    "2020-05-12T00:00:00",
                    "2020-05-13T00:00:00",
                    "2020-05-14T00:00:00",
                    "2020-05-15T00:00:00",
                    "2020-05-16T00:00:00",
                    "2020-05-17T00:00:00",
                    "2020-05-18T00:00:00",
                    "2020-05-19T00:00:00",
                    "2020-05-20T00:00:00",
                    "2020-05-21T00:00:00",
                    "2020-05-22T00:00:00",
                    "2020-05-23T00:00:00",
                    "2020-05-24T00:00:00",
                    "2020-05-25T00:00:00",
                    "2020-05-26T00:00:00",
                    "2020-05-27T00:00:00",
                    "2020-05-28T00:00:00",
                    "2020-05-29T00:00:00",
                    "2020-05-30T00:00:00",
                    "2020-05-31T00:00:00",
                    "2020-06-01T00:00:00",
                    "2020-06-02T00:00:00",
                    "2020-06-03T00:00:00",
                    "2020-06-04T00:00:00",
                    "2020-06-05T00:00:00",
                    "2020-06-06T00:00:00",
                    "2020-06-07T00:00:00",
                    "2020-06-08T00:00:00",
                    "2020-06-09T00:00:00",
                    "2020-06-10T00:00:00",
                    "2020-06-11T00:00:00",
                    "2020-06-12T00:00:00",
                    "2020-06-13T00:00:00",
                    "2020-06-14T00:00:00",
                    "2020-06-15T00:00:00",
                    "2020-06-16T00:00:00",
                    "2020-06-17T00:00:00",
                    "2020-06-18T00:00:00",
                    "2020-06-19T00:00:00",
                    "2020-06-20T00:00:00",
                    "2020-06-21T00:00:00",
                    "2020-06-22T00:00:00",
                    "2020-06-23T00:00:00",
                    "2020-06-24T00:00:00",
                    "2020-06-25T00:00:00",
                    "2020-06-26T00:00:00",
                    "2020-06-27T00:00:00",
                    "2020-06-28T00:00:00",
                    "2020-06-29T00:00:00",
                    "2020-06-30T00:00:00",
                    "2020-07-01T00:00:00",
                    "2020-07-02T00:00:00",
                    "2020-07-03T00:00:00",
                    "2020-07-04T00:00:00",
                    "2020-07-05T00:00:00",
                    "2020-07-06T00:00:00",
                    "2020-07-07T00:00:00",
                    "2020-07-08T00:00:00",
                    "2020-07-09T00:00:00",
                    "2020-07-10T00:00:00",
                    "2020-07-11T00:00:00",
                    "2020-07-12T00:00:00",
                    "2020-07-13T00:00:00"
                  ],
                  "xaxis": "x",
                  "y": [
                    0,
                    0,
                    0,
                    0,
                    0,
                    0,
                    0,
                    0,
                    0,
                    0,
                    0,
                    0,
                    0,
                    0,
                    0,
                    0,
                    0,
                    0,
                    0,
                    0,
                    0,
                    0,
                    0,
                    1,
                    0,
                    1,
                    0,
                    1,
                    0,
                    0,
                    1,
                    2,
                    1,
                    4,
                    12,
                    14,
                    12,
                    3,
                    0,
                    23,
                    14,
                    30,
                    13,
                    24,
                    10,
                    10,
                    10,
                    17,
                    12,
                    14,
                    15,
                    6,
                    6,
                    10,
                    10,
                    10,
                    9,
                    10,
                    8,
                    8,
                    12,
                    10,
                    15,
                    25,
                    19,
                    30,
                    10,
                    3,
                    21,
                    36,
                    23,
                    18,
                    13,
                    10,
                    18,
                    24,
                    28,
                    14,
                    10,
                    12,
                    11,
                    20,
                    34,
                    42,
                    32,
                    15,
                    21,
                    17,
                    11,
                    10,
                    21,
                    20,
                    19,
                    23,
                    18,
                    16,
                    12,
                    11,
                    13,
                    17,
                    18,
                    12,
                    15
                  ],
                  "yaxis": "y"
                }
              ],
              "layout": {
                "barmode": "relative",
                "coloraxis": {
                  "colorbar": {
                    "title": {
                      "text": "DAILY RECOVERY"
                    }
                  },
                  "colorscale": [
                    [
                      0,
                      "#0d0887"
                    ],
                    [
                      0.1111111111111111,
                      "#46039f"
                    ],
                    [
                      0.2222222222222222,
                      "#7201a8"
                    ],
                    [
                      0.3333333333333333,
                      "#9c179e"
                    ],
                    [
                      0.4444444444444444,
                      "#bd3786"
                    ],
                    [
                      0.5555555555555556,
                      "#d8576b"
                    ],
                    [
                      0.6666666666666666,
                      "#ed7953"
                    ],
                    [
                      0.7777777777777778,
                      "#fb9f3a"
                    ],
                    [
                      0.8888888888888888,
                      "#fdca26"
                    ],
                    [
                      1,
                      "#f0f921"
                    ]
                  ]
                },
                "height": 500,
                "legend": {
                  "tracegroupgap": 0
                },
                "margin": {
                  "t": 60
                },
                "template": {
                  "data": {
                    "bar": [
                      {
                        "error_x": {
                          "color": "#2a3f5f"
                        },
                        "error_y": {
                          "color": "#2a3f5f"
                        },
                        "marker": {
                          "line": {
                            "color": "#E5ECF6",
                            "width": 0.5
                          }
                        },
                        "type": "bar"
                      }
                    ],
                    "barpolar": [
                      {
                        "marker": {
                          "line": {
                            "color": "#E5ECF6",
                            "width": 0.5
                          }
                        },
                        "type": "barpolar"
                      }
                    ],
                    "carpet": [
                      {
                        "aaxis": {
                          "endlinecolor": "#2a3f5f",
                          "gridcolor": "white",
                          "linecolor": "white",
                          "minorgridcolor": "white",
                          "startlinecolor": "#2a3f5f"
                        },
                        "baxis": {
                          "endlinecolor": "#2a3f5f",
                          "gridcolor": "white",
                          "linecolor": "white",
                          "minorgridcolor": "white",
                          "startlinecolor": "#2a3f5f"
                        },
                        "type": "carpet"
                      }
                    ],
                    "choropleth": [
                      {
                        "colorbar": {
                          "outlinewidth": 0,
                          "ticks": ""
                        },
                        "type": "choropleth"
                      }
                    ],
                    "contour": [
                      {
                        "colorbar": {
                          "outlinewidth": 0,
                          "ticks": ""
                        },
                        "colorscale": [
                          [
                            0,
                            "#0d0887"
                          ],
                          [
                            0.1111111111111111,
                            "#46039f"
                          ],
                          [
                            0.2222222222222222,
                            "#7201a8"
                          ],
                          [
                            0.3333333333333333,
                            "#9c179e"
                          ],
                          [
                            0.4444444444444444,
                            "#bd3786"
                          ],
                          [
                            0.5555555555555556,
                            "#d8576b"
                          ],
                          [
                            0.6666666666666666,
                            "#ed7953"
                          ],
                          [
                            0.7777777777777778,
                            "#fb9f3a"
                          ],
                          [
                            0.8888888888888888,
                            "#fdca26"
                          ],
                          [
                            1,
                            "#f0f921"
                          ]
                        ],
                        "type": "contour"
                      }
                    ],
                    "contourcarpet": [
                      {
                        "colorbar": {
                          "outlinewidth": 0,
                          "ticks": ""
                        },
                        "type": "contourcarpet"
                      }
                    ],
                    "heatmap": [
                      {
                        "colorbar": {
                          "outlinewidth": 0,
                          "ticks": ""
                        },
                        "colorscale": [
                          [
                            0,
                            "#0d0887"
                          ],
                          [
                            0.1111111111111111,
                            "#46039f"
                          ],
                          [
                            0.2222222222222222,
                            "#7201a8"
                          ],
                          [
                            0.3333333333333333,
                            "#9c179e"
                          ],
                          [
                            0.4444444444444444,
                            "#bd3786"
                          ],
                          [
                            0.5555555555555556,
                            "#d8576b"
                          ],
                          [
                            0.6666666666666666,
                            "#ed7953"
                          ],
                          [
                            0.7777777777777778,
                            "#fb9f3a"
                          ],
                          [
                            0.8888888888888888,
                            "#fdca26"
                          ],
                          [
                            1,
                            "#f0f921"
                          ]
                        ],
                        "type": "heatmap"
                      }
                    ],
                    "heatmapgl": [
                      {
                        "colorbar": {
                          "outlinewidth": 0,
                          "ticks": ""
                        },
                        "colorscale": [
                          [
                            0,
                            "#0d0887"
                          ],
                          [
                            0.1111111111111111,
                            "#46039f"
                          ],
                          [
                            0.2222222222222222,
                            "#7201a8"
                          ],
                          [
                            0.3333333333333333,
                            "#9c179e"
                          ],
                          [
                            0.4444444444444444,
                            "#bd3786"
                          ],
                          [
                            0.5555555555555556,
                            "#d8576b"
                          ],
                          [
                            0.6666666666666666,
                            "#ed7953"
                          ],
                          [
                            0.7777777777777778,
                            "#fb9f3a"
                          ],
                          [
                            0.8888888888888888,
                            "#fdca26"
                          ],
                          [
                            1,
                            "#f0f921"
                          ]
                        ],
                        "type": "heatmapgl"
                      }
                    ],
                    "histogram": [
                      {
                        "marker": {
                          "colorbar": {
                            "outlinewidth": 0,
                            "ticks": ""
                          }
                        },
                        "type": "histogram"
                      }
                    ],
                    "histogram2d": [
                      {
                        "colorbar": {
                          "outlinewidth": 0,
                          "ticks": ""
                        },
                        "colorscale": [
                          [
                            0,
                            "#0d0887"
                          ],
                          [
                            0.1111111111111111,
                            "#46039f"
                          ],
                          [
                            0.2222222222222222,
                            "#7201a8"
                          ],
                          [
                            0.3333333333333333,
                            "#9c179e"
                          ],
                          [
                            0.4444444444444444,
                            "#bd3786"
                          ],
                          [
                            0.5555555555555556,
                            "#d8576b"
                          ],
                          [
                            0.6666666666666666,
                            "#ed7953"
                          ],
                          [
                            0.7777777777777778,
                            "#fb9f3a"
                          ],
                          [
                            0.8888888888888888,
                            "#fdca26"
                          ],
                          [
                            1,
                            "#f0f921"
                          ]
                        ],
                        "type": "histogram2d"
                      }
                    ],
                    "histogram2dcontour": [
                      {
                        "colorbar": {
                          "outlinewidth": 0,
                          "ticks": ""
                        },
                        "colorscale": [
                          [
                            0,
                            "#0d0887"
                          ],
                          [
                            0.1111111111111111,
                            "#46039f"
                          ],
                          [
                            0.2222222222222222,
                            "#7201a8"
                          ],
                          [
                            0.3333333333333333,
                            "#9c179e"
                          ],
                          [
                            0.4444444444444444,
                            "#bd3786"
                          ],
                          [
                            0.5555555555555556,
                            "#d8576b"
                          ],
                          [
                            0.6666666666666666,
                            "#ed7953"
                          ],
                          [
                            0.7777777777777778,
                            "#fb9f3a"
                          ],
                          [
                            0.8888888888888888,
                            "#fdca26"
                          ],
                          [
                            1,
                            "#f0f921"
                          ]
                        ],
                        "type": "histogram2dcontour"
                      }
                    ],
                    "mesh3d": [
                      {
                        "colorbar": {
                          "outlinewidth": 0,
                          "ticks": ""
                        },
                        "type": "mesh3d"
                      }
                    ],
                    "parcoords": [
                      {
                        "line": {
                          "colorbar": {
                            "outlinewidth": 0,
                            "ticks": ""
                          }
                        },
                        "type": "parcoords"
                      }
                    ],
                    "pie": [
                      {
                        "automargin": true,
                        "type": "pie"
                      }
                    ],
                    "scatter": [
                      {
                        "marker": {
                          "colorbar": {
                            "outlinewidth": 0,
                            "ticks": ""
                          }
                        },
                        "type": "scatter"
                      }
                    ],
                    "scatter3d": [
                      {
                        "line": {
                          "colorbar": {
                            "outlinewidth": 0,
                            "ticks": ""
                          }
                        },
                        "marker": {
                          "colorbar": {
                            "outlinewidth": 0,
                            "ticks": ""
                          }
                        },
                        "type": "scatter3d"
                      }
                    ],
                    "scattercarpet": [
                      {
                        "marker": {
                          "colorbar": {
                            "outlinewidth": 0,
                            "ticks": ""
                          }
                        },
                        "type": "scattercarpet"
                      }
                    ],
                    "scattergeo": [
                      {
                        "marker": {
                          "colorbar": {
                            "outlinewidth": 0,
                            "ticks": ""
                          }
                        },
                        "type": "scattergeo"
                      }
                    ],
                    "scattergl": [
                      {
                        "marker": {
                          "colorbar": {
                            "outlinewidth": 0,
                            "ticks": ""
                          }
                        },
                        "type": "scattergl"
                      }
                    ],
                    "scattermapbox": [
                      {
                        "marker": {
                          "colorbar": {
                            "outlinewidth": 0,
                            "ticks": ""
                          }
                        },
                        "type": "scattermapbox"
                      }
                    ],
                    "scatterpolar": [
                      {
                        "marker": {
                          "colorbar": {
                            "outlinewidth": 0,
                            "ticks": ""
                          }
                        },
                        "type": "scatterpolar"
                      }
                    ],
                    "scatterpolargl": [
                      {
                        "marker": {
                          "colorbar": {
                            "outlinewidth": 0,
                            "ticks": ""
                          }
                        },
                        "type": "scatterpolargl"
                      }
                    ],
                    "scatterternary": [
                      {
                        "marker": {
                          "colorbar": {
                            "outlinewidth": 0,
                            "ticks": ""
                          }
                        },
                        "type": "scatterternary"
                      }
                    ],
                    "surface": [
                      {
                        "colorbar": {
                          "outlinewidth": 0,
                          "ticks": ""
                        },
                        "colorscale": [
                          [
                            0,
                            "#0d0887"
                          ],
                          [
                            0.1111111111111111,
                            "#46039f"
                          ],
                          [
                            0.2222222222222222,
                            "#7201a8"
                          ],
                          [
                            0.3333333333333333,
                            "#9c179e"
                          ],
                          [
                            0.4444444444444444,
                            "#bd3786"
                          ],
                          [
                            0.5555555555555556,
                            "#d8576b"
                          ],
                          [
                            0.6666666666666666,
                            "#ed7953"
                          ],
                          [
                            0.7777777777777778,
                            "#fb9f3a"
                          ],
                          [
                            0.8888888888888888,
                            "#fdca26"
                          ],
                          [
                            1,
                            "#f0f921"
                          ]
                        ],
                        "type": "surface"
                      }
                    ],
                    "table": [
                      {
                        "cells": {
                          "fill": {
                            "color": "#EBF0F8"
                          },
                          "line": {
                            "color": "white"
                          }
                        },
                        "header": {
                          "fill": {
                            "color": "#C8D4E3"
                          },
                          "line": {
                            "color": "white"
                          }
                        },
                        "type": "table"
                      }
                    ]
                  },
                  "layout": {
                    "annotationdefaults": {
                      "arrowcolor": "#2a3f5f",
                      "arrowhead": 0,
                      "arrowwidth": 1
                    },
                    "coloraxis": {
                      "colorbar": {
                        "outlinewidth": 0,
                        "ticks": ""
                      }
                    },
                    "colorscale": {
                      "diverging": [
                        [
                          0,
                          "#8e0152"
                        ],
                        [
                          0.1,
                          "#c51b7d"
                        ],
                        [
                          0.2,
                          "#de77ae"
                        ],
                        [
                          0.3,
                          "#f1b6da"
                        ],
                        [
                          0.4,
                          "#fde0ef"
                        ],
                        [
                          0.5,
                          "#f7f7f7"
                        ],
                        [
                          0.6,
                          "#e6f5d0"
                        ],
                        [
                          0.7,
                          "#b8e186"
                        ],
                        [
                          0.8,
                          "#7fbc41"
                        ],
                        [
                          0.9,
                          "#4d9221"
                        ],
                        [
                          1,
                          "#276419"
                        ]
                      ],
                      "sequential": [
                        [
                          0,
                          "#0d0887"
                        ],
                        [
                          0.1111111111111111,
                          "#46039f"
                        ],
                        [
                          0.2222222222222222,
                          "#7201a8"
                        ],
                        [
                          0.3333333333333333,
                          "#9c179e"
                        ],
                        [
                          0.4444444444444444,
                          "#bd3786"
                        ],
                        [
                          0.5555555555555556,
                          "#d8576b"
                        ],
                        [
                          0.6666666666666666,
                          "#ed7953"
                        ],
                        [
                          0.7777777777777778,
                          "#fb9f3a"
                        ],
                        [
                          0.8888888888888888,
                          "#fdca26"
                        ],
                        [
                          1,
                          "#f0f921"
                        ]
                      ],
                      "sequentialminus": [
                        [
                          0,
                          "#0d0887"
                        ],
                        [
                          0.1111111111111111,
                          "#46039f"
                        ],
                        [
                          0.2222222222222222,
                          "#7201a8"
                        ],
                        [
                          0.3333333333333333,
                          "#9c179e"
                        ],
                        [
                          0.4444444444444444,
                          "#bd3786"
                        ],
                        [
                          0.5555555555555556,
                          "#d8576b"
                        ],
                        [
                          0.6666666666666666,
                          "#ed7953"
                        ],
                        [
                          0.7777777777777778,
                          "#fb9f3a"
                        ],
                        [
                          0.8888888888888888,
                          "#fdca26"
                        ],
                        [
                          1,
                          "#f0f921"
                        ]
                      ]
                    },
                    "colorway": [
                      "#636efa",
                      "#EF553B",
                      "#00cc96",
                      "#ab63fa",
                      "#FFA15A",
                      "#19d3f3",
                      "#FF6692",
                      "#B6E880",
                      "#FF97FF",
                      "#FECB52"
                    ],
                    "font": {
                      "color": "#2a3f5f"
                    },
                    "geo": {
                      "bgcolor": "white",
                      "lakecolor": "white",
                      "landcolor": "#E5ECF6",
                      "showlakes": true,
                      "showland": true,
                      "subunitcolor": "white"
                    },
                    "hoverlabel": {
                      "align": "left"
                    },
                    "hovermode": "closest",
                    "mapbox": {
                      "style": "light"
                    },
                    "paper_bgcolor": "white",
                    "plot_bgcolor": "#E5ECF6",
                    "polar": {
                      "angularaxis": {
                        "gridcolor": "white",
                        "linecolor": "white",
                        "ticks": ""
                      },
                      "bgcolor": "#E5ECF6",
                      "radialaxis": {
                        "gridcolor": "white",
                        "linecolor": "white",
                        "ticks": ""
                      }
                    },
                    "scene": {
                      "xaxis": {
                        "backgroundcolor": "#E5ECF6",
                        "gridcolor": "white",
                        "gridwidth": 2,
                        "linecolor": "white",
                        "showbackground": true,
                        "ticks": "",
                        "zerolinecolor": "white"
                      },
                      "yaxis": {
                        "backgroundcolor": "#E5ECF6",
                        "gridcolor": "white",
                        "gridwidth": 2,
                        "linecolor": "white",
                        "showbackground": true,
                        "ticks": "",
                        "zerolinecolor": "white"
                      },
                      "zaxis": {
                        "backgroundcolor": "#E5ECF6",
                        "gridcolor": "white",
                        "gridwidth": 2,
                        "linecolor": "white",
                        "showbackground": true,
                        "ticks": "",
                        "zerolinecolor": "white"
                      }
                    },
                    "shapedefaults": {
                      "line": {
                        "color": "#2a3f5f"
                      }
                    },
                    "ternary": {
                      "aaxis": {
                        "gridcolor": "white",
                        "linecolor": "white",
                        "ticks": ""
                      },
                      "baxis": {
                        "gridcolor": "white",
                        "linecolor": "white",
                        "ticks": ""
                      },
                      "bgcolor": "#E5ECF6",
                      "caxis": {
                        "gridcolor": "white",
                        "linecolor": "white",
                        "ticks": ""
                      }
                    },
                    "title": {
                      "x": 0.05
                    },
                    "xaxis": {
                      "automargin": true,
                      "gridcolor": "white",
                      "linecolor": "white",
                      "ticks": "",
                      "title": {
                        "standoff": 15
                      },
                      "zerolinecolor": "white",
                      "zerolinewidth": 2
                    },
                    "yaxis": {
                      "automargin": true,
                      "gridcolor": "white",
                      "linecolor": "white",
                      "ticks": "",
                      "title": {
                        "standoff": 15
                      },
                      "zerolinecolor": "white",
                      "zerolinewidth": 2
                    }
                  }
                },
                "title": {
                  "text": "DAILY RECOVERY IN BREVES"
                },
                "xaxis": {
                  "anchor": "y",
                  "domain": [
                    0,
                    1
                  ],
                  "title": {
                    "text": "Date"
                  }
                },
                "yaxis": {
                  "anchor": "x",
                  "domain": [
                    0,
                    1
                  ],
                  "title": {
                    "text": "DAILY RECOVERY"
                  }
                }
              }
            },
            "text/html": [
              "<div>\n",
              "        \n",
              "        \n",
              "            <div id=\"b52786b0-fbc2-4724-b4bc-d3bae4392162\" class=\"plotly-graph-div\" style=\"height:500px; width:100%;\"></div>\n",
              "            <script type=\"text/javascript\">\n",
              "                require([\"plotly\"], function(Plotly) {\n",
              "                    window.PLOTLYENV=window.PLOTLYENV || {};\n",
              "                    \n",
              "                if (document.getElementById(\"b52786b0-fbc2-4724-b4bc-d3bae4392162\")) {\n",
              "                    Plotly.newPlot(\n",
              "                        'b52786b0-fbc2-4724-b4bc-d3bae4392162',\n",
              "                        [{\"alignmentgroup\": \"True\", \"customdata\": [[0], [0], [0], [0], [0], [0], [0], [0], [0], [0], [0], [0], [0], [0], [0], [0], [0], [0], [0], [0], [0], [0], [0], [1], [0], [1], [0], [1], [0], [0], [1], [2], [1], [4], [12], [14], [12], [3], [0], [23], [14], [30], [13], [24], [10], [10], [10], [17], [12], [14], [15], [6], [6], [10], [10], [10], [9], [10], [8], [8], [12], [10], [15], [25], [19], [30], [10], [3], [21], [36], [23], [18], [13], [10], [18], [24], [28], [14], [10], [12], [11], [20], [34], [42], [32], [15], [21], [17], [11], [10], [21], [20], [19], [23], [18], [16], [12], [11], [13], [17], [18], [12], [15]], \"hovertemplate\": \"Date=%{x}<br>DAILY RECOVERY=%{marker.color}<extra></extra>\", \"legendgroup\": \"\", \"marker\": {\"color\": [0, 0, 0, 0, 0, 0, 0, 0, 0, 0, 0, 0, 0, 0, 0, 0, 0, 0, 0, 0, 0, 0, 0, 1, 0, 1, 0, 1, 0, 0, 1, 2, 1, 4, 12, 14, 12, 3, 0, 23, 14, 30, 13, 24, 10, 10, 10, 17, 12, 14, 15, 6, 6, 10, 10, 10, 9, 10, 8, 8, 12, 10, 15, 25, 19, 30, 10, 3, 21, 36, 23, 18, 13, 10, 18, 24, 28, 14, 10, 12, 11, 20, 34, 42, 32, 15, 21, 17, 11, 10, 21, 20, 19, 23, 18, 16, 12, 11, 13, 17, 18, 12, 15], \"coloraxis\": \"coloraxis\"}, \"name\": \"\", \"offsetgroup\": \"\", \"orientation\": \"v\", \"showlegend\": false, \"textposition\": \"auto\", \"type\": \"bar\", \"x\": [\"2020-04-02T00:00:00\", \"2020-04-24T00:00:00\", \"2020-04-23T00:00:00\", \"2020-04-22T00:00:00\", \"2020-04-21T00:00:00\", \"2020-04-20T00:00:00\", \"2020-04-19T00:00:00\", \"2020-04-18T00:00:00\", \"2020-04-17T00:00:00\", \"2020-04-16T00:00:00\", \"2020-04-15T00:00:00\", \"2020-04-14T00:00:00\", \"2020-04-12T00:00:00\", \"2020-04-11T00:00:00\", \"2020-04-10T00:00:00\", \"2020-04-09T00:00:00\", \"2020-04-08T00:00:00\", \"2020-04-07T00:00:00\", \"2020-04-06T00:00:00\", \"2020-04-05T00:00:00\", \"2020-04-04T00:00:00\", \"2020-04-03T00:00:00\", \"2020-04-13T00:00:00\", \"2020-04-26T00:00:00\", \"2020-04-25T00:00:00\", \"2020-04-28T00:00:00\", \"2020-04-27T00:00:00\", \"2020-04-29T00:00:00\", \"2020-04-30T00:00:00\", \"2020-05-01T00:00:00\", \"2020-05-02T00:00:00\", \"2020-05-03T00:00:00\", \"2020-05-04T00:00:00\", \"2020-05-05T00:00:00\", \"2020-05-06T00:00:00\", \"2020-05-07T00:00:00\", \"2020-05-08T00:00:00\", \"2020-05-10T00:00:00\", \"2020-05-09T00:00:00\", \"2020-05-11T00:00:00\", \"2020-05-12T00:00:00\", \"2020-05-13T00:00:00\", \"2020-05-14T00:00:00\", \"2020-05-15T00:00:00\", \"2020-05-16T00:00:00\", \"2020-05-17T00:00:00\", \"2020-05-18T00:00:00\", \"2020-05-19T00:00:00\", \"2020-05-20T00:00:00\", \"2020-05-21T00:00:00\", \"2020-05-22T00:00:00\", \"2020-05-23T00:00:00\", \"2020-05-24T00:00:00\", \"2020-05-25T00:00:00\", \"2020-05-26T00:00:00\", \"2020-05-27T00:00:00\", \"2020-05-28T00:00:00\", \"2020-05-29T00:00:00\", \"2020-05-30T00:00:00\", \"2020-05-31T00:00:00\", \"2020-06-01T00:00:00\", \"2020-06-02T00:00:00\", \"2020-06-03T00:00:00\", \"2020-06-04T00:00:00\", \"2020-06-05T00:00:00\", \"2020-06-06T00:00:00\", \"2020-06-07T00:00:00\", \"2020-06-08T00:00:00\", \"2020-06-09T00:00:00\", \"2020-06-10T00:00:00\", \"2020-06-11T00:00:00\", \"2020-06-12T00:00:00\", \"2020-06-13T00:00:00\", \"2020-06-14T00:00:00\", \"2020-06-15T00:00:00\", \"2020-06-16T00:00:00\", \"2020-06-17T00:00:00\", \"2020-06-18T00:00:00\", \"2020-06-19T00:00:00\", \"2020-06-20T00:00:00\", \"2020-06-21T00:00:00\", \"2020-06-22T00:00:00\", \"2020-06-23T00:00:00\", \"2020-06-24T00:00:00\", \"2020-06-25T00:00:00\", \"2020-06-26T00:00:00\", \"2020-06-27T00:00:00\", \"2020-06-28T00:00:00\", \"2020-06-29T00:00:00\", \"2020-06-30T00:00:00\", \"2020-07-01T00:00:00\", \"2020-07-02T00:00:00\", \"2020-07-03T00:00:00\", \"2020-07-04T00:00:00\", \"2020-07-05T00:00:00\", \"2020-07-06T00:00:00\", \"2020-07-07T00:00:00\", \"2020-07-08T00:00:00\", \"2020-07-09T00:00:00\", \"2020-07-10T00:00:00\", \"2020-07-11T00:00:00\", \"2020-07-12T00:00:00\", \"2020-07-13T00:00:00\"], \"xaxis\": \"x\", \"y\": [0, 0, 0, 0, 0, 0, 0, 0, 0, 0, 0, 0, 0, 0, 0, 0, 0, 0, 0, 0, 0, 0, 0, 1, 0, 1, 0, 1, 0, 0, 1, 2, 1, 4, 12, 14, 12, 3, 0, 23, 14, 30, 13, 24, 10, 10, 10, 17, 12, 14, 15, 6, 6, 10, 10, 10, 9, 10, 8, 8, 12, 10, 15, 25, 19, 30, 10, 3, 21, 36, 23, 18, 13, 10, 18, 24, 28, 14, 10, 12, 11, 20, 34, 42, 32, 15, 21, 17, 11, 10, 21, 20, 19, 23, 18, 16, 12, 11, 13, 17, 18, 12, 15], \"yaxis\": \"y\"}],\n",
              "                        {\"barmode\": \"relative\", \"coloraxis\": {\"colorbar\": {\"title\": {\"text\": \"DAILY RECOVERY\"}}, \"colorscale\": [[0.0, \"#0d0887\"], [0.1111111111111111, \"#46039f\"], [0.2222222222222222, \"#7201a8\"], [0.3333333333333333, \"#9c179e\"], [0.4444444444444444, \"#bd3786\"], [0.5555555555555556, \"#d8576b\"], [0.6666666666666666, \"#ed7953\"], [0.7777777777777778, \"#fb9f3a\"], [0.8888888888888888, \"#fdca26\"], [1.0, \"#f0f921\"]]}, \"height\": 500, \"legend\": {\"tracegroupgap\": 0}, \"margin\": {\"t\": 60}, \"template\": {\"data\": {\"bar\": [{\"error_x\": {\"color\": \"#2a3f5f\"}, \"error_y\": {\"color\": \"#2a3f5f\"}, \"marker\": {\"line\": {\"color\": \"#E5ECF6\", \"width\": 0.5}}, \"type\": \"bar\"}], \"barpolar\": [{\"marker\": {\"line\": {\"color\": \"#E5ECF6\", \"width\": 0.5}}, \"type\": \"barpolar\"}], \"carpet\": [{\"aaxis\": {\"endlinecolor\": \"#2a3f5f\", \"gridcolor\": \"white\", \"linecolor\": \"white\", \"minorgridcolor\": \"white\", \"startlinecolor\": \"#2a3f5f\"}, \"baxis\": {\"endlinecolor\": \"#2a3f5f\", \"gridcolor\": \"white\", \"linecolor\": \"white\", \"minorgridcolor\": \"white\", \"startlinecolor\": \"#2a3f5f\"}, \"type\": \"carpet\"}], \"choropleth\": [{\"colorbar\": {\"outlinewidth\": 0, \"ticks\": \"\"}, \"type\": \"choropleth\"}], \"contour\": [{\"colorbar\": {\"outlinewidth\": 0, \"ticks\": \"\"}, \"colorscale\": [[0.0, \"#0d0887\"], [0.1111111111111111, \"#46039f\"], [0.2222222222222222, \"#7201a8\"], [0.3333333333333333, \"#9c179e\"], [0.4444444444444444, \"#bd3786\"], [0.5555555555555556, \"#d8576b\"], [0.6666666666666666, \"#ed7953\"], [0.7777777777777778, \"#fb9f3a\"], [0.8888888888888888, \"#fdca26\"], [1.0, \"#f0f921\"]], \"type\": \"contour\"}], \"contourcarpet\": [{\"colorbar\": {\"outlinewidth\": 0, \"ticks\": \"\"}, \"type\": \"contourcarpet\"}], \"heatmap\": [{\"colorbar\": {\"outlinewidth\": 0, \"ticks\": \"\"}, \"colorscale\": [[0.0, \"#0d0887\"], [0.1111111111111111, \"#46039f\"], [0.2222222222222222, \"#7201a8\"], [0.3333333333333333, \"#9c179e\"], [0.4444444444444444, \"#bd3786\"], [0.5555555555555556, \"#d8576b\"], [0.6666666666666666, \"#ed7953\"], [0.7777777777777778, \"#fb9f3a\"], [0.8888888888888888, \"#fdca26\"], [1.0, \"#f0f921\"]], \"type\": \"heatmap\"}], \"heatmapgl\": [{\"colorbar\": {\"outlinewidth\": 0, \"ticks\": \"\"}, \"colorscale\": [[0.0, \"#0d0887\"], [0.1111111111111111, \"#46039f\"], [0.2222222222222222, \"#7201a8\"], [0.3333333333333333, \"#9c179e\"], [0.4444444444444444, \"#bd3786\"], [0.5555555555555556, \"#d8576b\"], [0.6666666666666666, \"#ed7953\"], [0.7777777777777778, \"#fb9f3a\"], [0.8888888888888888, \"#fdca26\"], [1.0, \"#f0f921\"]], \"type\": \"heatmapgl\"}], \"histogram\": [{\"marker\": {\"colorbar\": {\"outlinewidth\": 0, \"ticks\": \"\"}}, \"type\": \"histogram\"}], \"histogram2d\": [{\"colorbar\": {\"outlinewidth\": 0, \"ticks\": \"\"}, \"colorscale\": [[0.0, \"#0d0887\"], [0.1111111111111111, \"#46039f\"], [0.2222222222222222, \"#7201a8\"], [0.3333333333333333, \"#9c179e\"], [0.4444444444444444, \"#bd3786\"], [0.5555555555555556, \"#d8576b\"], [0.6666666666666666, \"#ed7953\"], [0.7777777777777778, \"#fb9f3a\"], [0.8888888888888888, \"#fdca26\"], [1.0, \"#f0f921\"]], \"type\": \"histogram2d\"}], \"histogram2dcontour\": [{\"colorbar\": {\"outlinewidth\": 0, \"ticks\": \"\"}, \"colorscale\": [[0.0, \"#0d0887\"], [0.1111111111111111, \"#46039f\"], [0.2222222222222222, \"#7201a8\"], [0.3333333333333333, \"#9c179e\"], [0.4444444444444444, \"#bd3786\"], [0.5555555555555556, \"#d8576b\"], [0.6666666666666666, \"#ed7953\"], [0.7777777777777778, \"#fb9f3a\"], [0.8888888888888888, \"#fdca26\"], [1.0, \"#f0f921\"]], \"type\": \"histogram2dcontour\"}], \"mesh3d\": [{\"colorbar\": {\"outlinewidth\": 0, \"ticks\": \"\"}, \"type\": \"mesh3d\"}], \"parcoords\": [{\"line\": {\"colorbar\": {\"outlinewidth\": 0, \"ticks\": \"\"}}, \"type\": \"parcoords\"}], \"pie\": [{\"automargin\": true, \"type\": \"pie\"}], \"scatter\": [{\"marker\": {\"colorbar\": {\"outlinewidth\": 0, \"ticks\": \"\"}}, \"type\": \"scatter\"}], \"scatter3d\": [{\"line\": {\"colorbar\": {\"outlinewidth\": 0, \"ticks\": \"\"}}, \"marker\": {\"colorbar\": {\"outlinewidth\": 0, \"ticks\": \"\"}}, \"type\": \"scatter3d\"}], \"scattercarpet\": [{\"marker\": {\"colorbar\": {\"outlinewidth\": 0, \"ticks\": \"\"}}, \"type\": \"scattercarpet\"}], \"scattergeo\": [{\"marker\": {\"colorbar\": {\"outlinewidth\": 0, \"ticks\": \"\"}}, \"type\": \"scattergeo\"}], \"scattergl\": [{\"marker\": {\"colorbar\": {\"outlinewidth\": 0, \"ticks\": \"\"}}, \"type\": \"scattergl\"}], \"scattermapbox\": [{\"marker\": {\"colorbar\": {\"outlinewidth\": 0, \"ticks\": \"\"}}, \"type\": \"scattermapbox\"}], \"scatterpolar\": [{\"marker\": {\"colorbar\": {\"outlinewidth\": 0, \"ticks\": \"\"}}, \"type\": \"scatterpolar\"}], \"scatterpolargl\": [{\"marker\": {\"colorbar\": {\"outlinewidth\": 0, \"ticks\": \"\"}}, \"type\": \"scatterpolargl\"}], \"scatterternary\": [{\"marker\": {\"colorbar\": {\"outlinewidth\": 0, \"ticks\": \"\"}}, \"type\": \"scatterternary\"}], \"surface\": [{\"colorbar\": {\"outlinewidth\": 0, \"ticks\": \"\"}, \"colorscale\": [[0.0, \"#0d0887\"], [0.1111111111111111, \"#46039f\"], [0.2222222222222222, \"#7201a8\"], [0.3333333333333333, \"#9c179e\"], [0.4444444444444444, \"#bd3786\"], [0.5555555555555556, \"#d8576b\"], [0.6666666666666666, \"#ed7953\"], [0.7777777777777778, \"#fb9f3a\"], [0.8888888888888888, \"#fdca26\"], [1.0, \"#f0f921\"]], \"type\": \"surface\"}], \"table\": [{\"cells\": {\"fill\": {\"color\": \"#EBF0F8\"}, \"line\": {\"color\": \"white\"}}, \"header\": {\"fill\": {\"color\": \"#C8D4E3\"}, \"line\": {\"color\": \"white\"}}, \"type\": \"table\"}]}, \"layout\": {\"annotationdefaults\": {\"arrowcolor\": \"#2a3f5f\", \"arrowhead\": 0, \"arrowwidth\": 1}, \"coloraxis\": {\"colorbar\": {\"outlinewidth\": 0, \"ticks\": \"\"}}, \"colorscale\": {\"diverging\": [[0, \"#8e0152\"], [0.1, \"#c51b7d\"], [0.2, \"#de77ae\"], [0.3, \"#f1b6da\"], [0.4, \"#fde0ef\"], [0.5, \"#f7f7f7\"], [0.6, \"#e6f5d0\"], [0.7, \"#b8e186\"], [0.8, \"#7fbc41\"], [0.9, \"#4d9221\"], [1, \"#276419\"]], \"sequential\": [[0.0, \"#0d0887\"], [0.1111111111111111, \"#46039f\"], [0.2222222222222222, \"#7201a8\"], [0.3333333333333333, \"#9c179e\"], [0.4444444444444444, \"#bd3786\"], [0.5555555555555556, \"#d8576b\"], [0.6666666666666666, \"#ed7953\"], [0.7777777777777778, \"#fb9f3a\"], [0.8888888888888888, \"#fdca26\"], [1.0, \"#f0f921\"]], \"sequentialminus\": [[0.0, \"#0d0887\"], [0.1111111111111111, \"#46039f\"], [0.2222222222222222, \"#7201a8\"], [0.3333333333333333, \"#9c179e\"], [0.4444444444444444, \"#bd3786\"], [0.5555555555555556, \"#d8576b\"], [0.6666666666666666, \"#ed7953\"], [0.7777777777777778, \"#fb9f3a\"], [0.8888888888888888, \"#fdca26\"], [1.0, \"#f0f921\"]]}, \"colorway\": [\"#636efa\", \"#EF553B\", \"#00cc96\", \"#ab63fa\", \"#FFA15A\", \"#19d3f3\", \"#FF6692\", \"#B6E880\", \"#FF97FF\", \"#FECB52\"], \"font\": {\"color\": \"#2a3f5f\"}, \"geo\": {\"bgcolor\": \"white\", \"lakecolor\": \"white\", \"landcolor\": \"#E5ECF6\", \"showlakes\": true, \"showland\": true, \"subunitcolor\": \"white\"}, \"hoverlabel\": {\"align\": \"left\"}, \"hovermode\": \"closest\", \"mapbox\": {\"style\": \"light\"}, \"paper_bgcolor\": \"white\", \"plot_bgcolor\": \"#E5ECF6\", \"polar\": {\"angularaxis\": {\"gridcolor\": \"white\", \"linecolor\": \"white\", \"ticks\": \"\"}, \"bgcolor\": \"#E5ECF6\", \"radialaxis\": {\"gridcolor\": \"white\", \"linecolor\": \"white\", \"ticks\": \"\"}}, \"scene\": {\"xaxis\": {\"backgroundcolor\": \"#E5ECF6\", \"gridcolor\": \"white\", \"gridwidth\": 2, \"linecolor\": \"white\", \"showbackground\": true, \"ticks\": \"\", \"zerolinecolor\": \"white\"}, \"yaxis\": {\"backgroundcolor\": \"#E5ECF6\", \"gridcolor\": \"white\", \"gridwidth\": 2, \"linecolor\": \"white\", \"showbackground\": true, \"ticks\": \"\", \"zerolinecolor\": \"white\"}, \"zaxis\": {\"backgroundcolor\": \"#E5ECF6\", \"gridcolor\": \"white\", \"gridwidth\": 2, \"linecolor\": \"white\", \"showbackground\": true, \"ticks\": \"\", \"zerolinecolor\": \"white\"}}, \"shapedefaults\": {\"line\": {\"color\": \"#2a3f5f\"}}, \"ternary\": {\"aaxis\": {\"gridcolor\": \"white\", \"linecolor\": \"white\", \"ticks\": \"\"}, \"baxis\": {\"gridcolor\": \"white\", \"linecolor\": \"white\", \"ticks\": \"\"}, \"bgcolor\": \"#E5ECF6\", \"caxis\": {\"gridcolor\": \"white\", \"linecolor\": \"white\", \"ticks\": \"\"}}, \"title\": {\"x\": 0.05}, \"xaxis\": {\"automargin\": true, \"gridcolor\": \"white\", \"linecolor\": \"white\", \"ticks\": \"\", \"title\": {\"standoff\": 15}, \"zerolinecolor\": \"white\", \"zerolinewidth\": 2}, \"yaxis\": {\"automargin\": true, \"gridcolor\": \"white\", \"linecolor\": \"white\", \"ticks\": \"\", \"title\": {\"standoff\": 15}, \"zerolinecolor\": \"white\", \"zerolinewidth\": 2}}}, \"title\": {\"text\": \"DAILY RECOVERY IN BREVES\"}, \"xaxis\": {\"anchor\": \"y\", \"domain\": [0.0, 1.0], \"title\": {\"text\": \"Date\"}}, \"yaxis\": {\"anchor\": \"x\", \"domain\": [0.0, 1.0], \"title\": {\"text\": \"DAILY RECOVERY\"}}},\n",
              "                        {\"responsive\": true}\n",
              "                    ).then(function(){\n",
              "                            \n",
              "var gd = document.getElementById('b52786b0-fbc2-4724-b4bc-d3bae4392162');\n",
              "var x = new MutationObserver(function (mutations, observer) {{\n",
              "        var display = window.getComputedStyle(gd).display;\n",
              "        if (!display || display === 'none') {{\n",
              "            console.log([gd, 'removed!']);\n",
              "            Plotly.purge(gd);\n",
              "            observer.disconnect();\n",
              "        }}\n",
              "}});\n",
              "\n",
              "// Listen for the removal of the full notebook cells\n",
              "var notebookContainer = gd.closest('#notebook-container');\n",
              "if (notebookContainer) {{\n",
              "    x.observe(notebookContainer, {childList: true});\n",
              "}}\n",
              "\n",
              "// Listen for the clearing of the current output cell\n",
              "var outputEl = gd.closest('.output');\n",
              "if (outputEl) {{\n",
              "    x.observe(outputEl, {childList: true});\n",
              "}}\n",
              "\n",
              "                        })\n",
              "                };\n",
              "                });\n",
              "            </script>\n",
              "        </div>"
            ]
          },
          "metadata": {
            "tags": []
          }
        }
      ]
    },
    {
      "cell_type": "code",
      "metadata": {
        "id": "rmgO5gWBcw6_",
        "colab_type": "code",
        "colab": {},
        "outputId": "4abb5242-f01c-4dd2-a111-55ecd7c53cd6"
      },
      "source": [
        "#Total Cases,Active Cases,Cured,Deaths from Corona Virus in Breves\n",
        "carona_data = df_breves.groupby(['Date'])['Confirmed','Active Cases','Recovered','Deaths'].sum().reset_index().sort_values('Date',ascending=False)\n",
        "fig = go.Figure()\n",
        "fig.add_trace(go.Scatter(x=carona_data['Date'], y=carona_data['Confirmed'],\n",
        "                    mode='lines+markers',name='Confirmed'))\n",
        "fig.add_trace(go.Scatter(x=carona_data['Date'], y=carona_data['Active Cases'], \n",
        "                mode='lines+markers',name='Active Cases'))\n",
        "fig.add_trace(go.Scatter(x=carona_data['Date'], y=carona_data['Recovered'], \n",
        "                mode='lines+markers',name='Recovered'))\n",
        "fig.add_trace(go.Scatter(x=carona_data['Date'], y=carona_data['Deaths'], \n",
        "                mode='lines+markers',name='Deaths'))\n",
        "fig.update_layout(title_text='Curve Showing Different Cases from COVID-19 in Breves',plot_bgcolor='rgb(225,230,255)')\n",
        "fig.show()"
      ],
      "execution_count": null,
      "outputs": [
        {
          "output_type": "display_data",
          "data": {
            "application/vnd.plotly.v1+json": {
              "config": {
                "plotlyServerURL": "https://plot.ly"
              },
              "data": [
                {
                  "mode": "lines+markers",
                  "name": "Confirmed",
                  "type": "scatter",
                  "x": [
                    "2020-07-13T00:00:00",
                    "2020-07-12T00:00:00",
                    "2020-07-11T00:00:00",
                    "2020-07-10T00:00:00",
                    "2020-07-09T00:00:00",
                    "2020-07-08T00:00:00",
                    "2020-07-07T00:00:00",
                    "2020-07-06T00:00:00",
                    "2020-07-05T00:00:00",
                    "2020-07-04T00:00:00",
                    "2020-07-03T00:00:00",
                    "2020-07-02T00:00:00",
                    "2020-07-01T00:00:00",
                    "2020-06-30T00:00:00",
                    "2020-06-29T00:00:00",
                    "2020-06-28T00:00:00",
                    "2020-06-27T00:00:00",
                    "2020-06-26T00:00:00",
                    "2020-06-25T00:00:00",
                    "2020-06-24T00:00:00",
                    "2020-06-23T00:00:00",
                    "2020-06-22T00:00:00",
                    "2020-06-21T00:00:00",
                    "2020-06-20T00:00:00",
                    "2020-06-19T00:00:00",
                    "2020-06-18T00:00:00",
                    "2020-06-17T00:00:00",
                    "2020-06-16T00:00:00",
                    "2020-06-15T00:00:00",
                    "2020-06-14T00:00:00",
                    "2020-06-13T00:00:00",
                    "2020-06-12T00:00:00",
                    "2020-06-11T00:00:00",
                    "2020-06-10T00:00:00",
                    "2020-06-09T00:00:00",
                    "2020-06-08T00:00:00",
                    "2020-06-07T00:00:00",
                    "2020-06-06T00:00:00",
                    "2020-06-05T00:00:00",
                    "2020-06-04T00:00:00",
                    "2020-06-03T00:00:00",
                    "2020-06-02T00:00:00",
                    "2020-06-01T00:00:00",
                    "2020-05-31T00:00:00",
                    "2020-05-30T00:00:00",
                    "2020-05-29T00:00:00",
                    "2020-05-28T00:00:00",
                    "2020-05-27T00:00:00",
                    "2020-05-26T00:00:00",
                    "2020-05-25T00:00:00",
                    "2020-05-24T00:00:00",
                    "2020-05-23T00:00:00",
                    "2020-05-22T00:00:00",
                    "2020-05-21T00:00:00",
                    "2020-05-20T00:00:00",
                    "2020-05-19T00:00:00",
                    "2020-05-18T00:00:00",
                    "2020-05-17T00:00:00",
                    "2020-05-16T00:00:00",
                    "2020-05-15T00:00:00",
                    "2020-05-14T00:00:00",
                    "2020-05-13T00:00:00",
                    "2020-05-12T00:00:00",
                    "2020-05-11T00:00:00",
                    "2020-05-10T00:00:00",
                    "2020-05-09T00:00:00",
                    "2020-05-08T00:00:00",
                    "2020-05-07T00:00:00",
                    "2020-05-06T00:00:00",
                    "2020-05-05T00:00:00",
                    "2020-05-04T00:00:00",
                    "2020-05-03T00:00:00",
                    "2020-05-02T00:00:00",
                    "2020-05-01T00:00:00",
                    "2020-04-30T00:00:00",
                    "2020-04-29T00:00:00",
                    "2020-04-28T00:00:00",
                    "2020-04-27T00:00:00",
                    "2020-04-26T00:00:00",
                    "2020-04-25T00:00:00",
                    "2020-04-24T00:00:00",
                    "2020-04-23T00:00:00",
                    "2020-04-22T00:00:00",
                    "2020-04-21T00:00:00",
                    "2020-04-20T00:00:00",
                    "2020-04-19T00:00:00",
                    "2020-04-18T00:00:00",
                    "2020-04-17T00:00:00",
                    "2020-04-16T00:00:00",
                    "2020-04-15T00:00:00",
                    "2020-04-14T00:00:00",
                    "2020-04-13T00:00:00",
                    "2020-04-12T00:00:00",
                    "2020-04-11T00:00:00",
                    "2020-04-10T00:00:00",
                    "2020-04-09T00:00:00",
                    "2020-04-08T00:00:00",
                    "2020-04-07T00:00:00",
                    "2020-04-06T00:00:00",
                    "2020-04-05T00:00:00",
                    "2020-04-04T00:00:00",
                    "2020-04-03T00:00:00",
                    "2020-04-02T00:00:00"
                  ],
                  "y": [
                    1445,
                    1435,
                    1424,
                    1410,
                    1392,
                    1377,
                    1364,
                    1355,
                    1347,
                    1336,
                    1318,
                    1295,
                    1273,
                    1251,
                    1230,
                    1208,
                    1194,
                    1178,
                    1158,
                    1125,
                    1090,
                    1015,
                    966,
                    947,
                    933,
                    919,
                    907,
                    885,
                    863,
                    820,
                    805,
                    794,
                    782,
                    764,
                    741,
                    709,
                    692,
                    653,
                    629,
                    585,
                    567,
                    551,
                    537,
                    523,
                    513,
                    496,
                    488,
                    484,
                    474,
                    459,
                    447,
                    444,
                    436,
                    425,
                    421,
                    407,
                    386,
                    374,
                    346,
                    332,
                    318,
                    295,
                    272,
                    242,
                    222,
                    204,
                    174,
                    150,
                    142,
                    116,
                    106,
                    90,
                    74,
                    67,
                    53,
                    37,
                    32,
                    27,
                    17,
                    13,
                    13,
                    9,
                    7,
                    2,
                    2,
                    2,
                    2,
                    0,
                    0,
                    0,
                    0,
                    0,
                    0,
                    0,
                    0,
                    0,
                    0,
                    0,
                    0,
                    0,
                    0,
                    0,
                    0
                  ]
                },
                {
                  "mode": "lines+markers",
                  "name": "Active Cases",
                  "type": "scatter",
                  "x": [
                    "2020-07-13T00:00:00",
                    "2020-07-12T00:00:00",
                    "2020-07-11T00:00:00",
                    "2020-07-10T00:00:00",
                    "2020-07-09T00:00:00",
                    "2020-07-08T00:00:00",
                    "2020-07-07T00:00:00",
                    "2020-07-06T00:00:00",
                    "2020-07-05T00:00:00",
                    "2020-07-04T00:00:00",
                    "2020-07-03T00:00:00",
                    "2020-07-02T00:00:00",
                    "2020-07-01T00:00:00",
                    "2020-06-30T00:00:00",
                    "2020-06-29T00:00:00",
                    "2020-06-28T00:00:00",
                    "2020-06-27T00:00:00",
                    "2020-06-26T00:00:00",
                    "2020-06-25T00:00:00",
                    "2020-06-24T00:00:00",
                    "2020-06-23T00:00:00",
                    "2020-06-22T00:00:00",
                    "2020-06-21T00:00:00",
                    "2020-06-20T00:00:00",
                    "2020-06-19T00:00:00",
                    "2020-06-18T00:00:00",
                    "2020-06-17T00:00:00",
                    "2020-06-16T00:00:00",
                    "2020-06-15T00:00:00",
                    "2020-06-14T00:00:00",
                    "2020-06-13T00:00:00",
                    "2020-06-12T00:00:00",
                    "2020-06-11T00:00:00",
                    "2020-06-10T00:00:00",
                    "2020-06-09T00:00:00",
                    "2020-06-08T00:00:00",
                    "2020-06-07T00:00:00",
                    "2020-06-06T00:00:00",
                    "2020-06-05T00:00:00",
                    "2020-06-04T00:00:00",
                    "2020-06-03T00:00:00",
                    "2020-06-02T00:00:00",
                    "2020-06-01T00:00:00",
                    "2020-05-31T00:00:00",
                    "2020-05-30T00:00:00",
                    "2020-05-29T00:00:00",
                    "2020-05-28T00:00:00",
                    "2020-05-27T00:00:00",
                    "2020-05-26T00:00:00",
                    "2020-05-25T00:00:00",
                    "2020-05-24T00:00:00",
                    "2020-05-23T00:00:00",
                    "2020-05-22T00:00:00",
                    "2020-05-21T00:00:00",
                    "2020-05-20T00:00:00",
                    "2020-05-19T00:00:00",
                    "2020-05-18T00:00:00",
                    "2020-05-17T00:00:00",
                    "2020-05-16T00:00:00",
                    "2020-05-15T00:00:00",
                    "2020-05-14T00:00:00",
                    "2020-05-13T00:00:00",
                    "2020-05-12T00:00:00",
                    "2020-05-11T00:00:00",
                    "2020-05-10T00:00:00",
                    "2020-05-09T00:00:00",
                    "2020-05-08T00:00:00",
                    "2020-05-07T00:00:00",
                    "2020-05-06T00:00:00",
                    "2020-05-05T00:00:00",
                    "2020-05-04T00:00:00",
                    "2020-05-03T00:00:00",
                    "2020-05-02T00:00:00",
                    "2020-05-01T00:00:00",
                    "2020-04-30T00:00:00",
                    "2020-04-29T00:00:00",
                    "2020-04-28T00:00:00",
                    "2020-04-27T00:00:00",
                    "2020-04-26T00:00:00",
                    "2020-04-25T00:00:00",
                    "2020-04-24T00:00:00",
                    "2020-04-23T00:00:00",
                    "2020-04-22T00:00:00",
                    "2020-04-21T00:00:00",
                    "2020-04-20T00:00:00",
                    "2020-04-19T00:00:00",
                    "2020-04-18T00:00:00",
                    "2020-04-17T00:00:00",
                    "2020-04-16T00:00:00",
                    "2020-04-15T00:00:00",
                    "2020-04-14T00:00:00",
                    "2020-04-13T00:00:00",
                    "2020-04-12T00:00:00",
                    "2020-04-11T00:00:00",
                    "2020-04-10T00:00:00",
                    "2020-04-09T00:00:00",
                    "2020-04-08T00:00:00",
                    "2020-04-07T00:00:00",
                    "2020-04-06T00:00:00",
                    "2020-04-05T00:00:00",
                    "2020-04-04T00:00:00",
                    "2020-04-03T00:00:00",
                    "2020-04-02T00:00:00"
                  ],
                  "y": [
                    271,
                    276,
                    277,
                    281,
                    281,
                    279,
                    277,
                    280,
                    288,
                    295,
                    300,
                    296,
                    294,
                    293,
                    282,
                    271,
                    274,
                    279,
                    274,
                    274,
                    281,
                    240,
                    212,
                    204,
                    202,
                    199,
                    202,
                    209,
                    211,
                    188,
                    184,
                    186,
                    192,
                    198,
                    211,
                    200,
                    187,
                    158,
                    164,
                    140,
                    148,
                    147,
                    143,
                    143,
                    141,
                    135,
                    137,
                    143,
                    144,
                    140,
                    139,
                    143,
                    141,
                    146,
                    156,
                    155,
                    151,
                    151,
                    135,
                    136,
                    146,
                    139,
                    147,
                    134,
                    137,
                    119,
                    96,
                    86,
                    95,
                    86,
                    84,
                    71,
                    60,
                    56,
                    42,
                    28,
                    27,
                    22,
                    15,
                    11,
                    12,
                    8,
                    6,
                    1,
                    1,
                    2,
                    2,
                    0,
                    0,
                    0,
                    0,
                    0,
                    0,
                    0,
                    0,
                    0,
                    0,
                    0,
                    0,
                    0,
                    0,
                    0,
                    0
                  ]
                },
                {
                  "mode": "lines+markers",
                  "name": "Recovered",
                  "type": "scatter",
                  "x": [
                    "2020-07-13T00:00:00",
                    "2020-07-12T00:00:00",
                    "2020-07-11T00:00:00",
                    "2020-07-10T00:00:00",
                    "2020-07-09T00:00:00",
                    "2020-07-08T00:00:00",
                    "2020-07-07T00:00:00",
                    "2020-07-06T00:00:00",
                    "2020-07-05T00:00:00",
                    "2020-07-04T00:00:00",
                    "2020-07-03T00:00:00",
                    "2020-07-02T00:00:00",
                    "2020-07-01T00:00:00",
                    "2020-06-30T00:00:00",
                    "2020-06-29T00:00:00",
                    "2020-06-28T00:00:00",
                    "2020-06-27T00:00:00",
                    "2020-06-26T00:00:00",
                    "2020-06-25T00:00:00",
                    "2020-06-24T00:00:00",
                    "2020-06-23T00:00:00",
                    "2020-06-22T00:00:00",
                    "2020-06-21T00:00:00",
                    "2020-06-20T00:00:00",
                    "2020-06-19T00:00:00",
                    "2020-06-18T00:00:00",
                    "2020-06-17T00:00:00",
                    "2020-06-16T00:00:00",
                    "2020-06-15T00:00:00",
                    "2020-06-14T00:00:00",
                    "2020-06-13T00:00:00",
                    "2020-06-12T00:00:00",
                    "2020-06-11T00:00:00",
                    "2020-06-10T00:00:00",
                    "2020-06-09T00:00:00",
                    "2020-06-08T00:00:00",
                    "2020-06-07T00:00:00",
                    "2020-06-06T00:00:00",
                    "2020-06-05T00:00:00",
                    "2020-06-04T00:00:00",
                    "2020-06-03T00:00:00",
                    "2020-06-02T00:00:00",
                    "2020-06-01T00:00:00",
                    "2020-05-31T00:00:00",
                    "2020-05-30T00:00:00",
                    "2020-05-29T00:00:00",
                    "2020-05-28T00:00:00",
                    "2020-05-27T00:00:00",
                    "2020-05-26T00:00:00",
                    "2020-05-25T00:00:00",
                    "2020-05-24T00:00:00",
                    "2020-05-23T00:00:00",
                    "2020-05-22T00:00:00",
                    "2020-05-21T00:00:00",
                    "2020-05-20T00:00:00",
                    "2020-05-19T00:00:00",
                    "2020-05-18T00:00:00",
                    "2020-05-17T00:00:00",
                    "2020-05-16T00:00:00",
                    "2020-05-15T00:00:00",
                    "2020-05-14T00:00:00",
                    "2020-05-13T00:00:00",
                    "2020-05-12T00:00:00",
                    "2020-05-11T00:00:00",
                    "2020-05-10T00:00:00",
                    "2020-05-09T00:00:00",
                    "2020-05-08T00:00:00",
                    "2020-05-07T00:00:00",
                    "2020-05-06T00:00:00",
                    "2020-05-05T00:00:00",
                    "2020-05-04T00:00:00",
                    "2020-05-03T00:00:00",
                    "2020-05-02T00:00:00",
                    "2020-05-01T00:00:00",
                    "2020-04-30T00:00:00",
                    "2020-04-29T00:00:00",
                    "2020-04-28T00:00:00",
                    "2020-04-27T00:00:00",
                    "2020-04-26T00:00:00",
                    "2020-04-25T00:00:00",
                    "2020-04-24T00:00:00",
                    "2020-04-23T00:00:00",
                    "2020-04-22T00:00:00",
                    "2020-04-21T00:00:00",
                    "2020-04-20T00:00:00",
                    "2020-04-19T00:00:00",
                    "2020-04-18T00:00:00",
                    "2020-04-17T00:00:00",
                    "2020-04-16T00:00:00",
                    "2020-04-15T00:00:00",
                    "2020-04-14T00:00:00",
                    "2020-04-13T00:00:00",
                    "2020-04-12T00:00:00",
                    "2020-04-11T00:00:00",
                    "2020-04-10T00:00:00",
                    "2020-04-09T00:00:00",
                    "2020-04-08T00:00:00",
                    "2020-04-07T00:00:00",
                    "2020-04-06T00:00:00",
                    "2020-04-05T00:00:00",
                    "2020-04-04T00:00:00",
                    "2020-04-03T00:00:00",
                    "2020-04-02T00:00:00"
                  ],
                  "y": [
                    1100,
                    1085,
                    1073,
                    1055,
                    1038,
                    1025,
                    1014,
                    1002,
                    986,
                    968,
                    945,
                    926,
                    906,
                    885,
                    875,
                    864,
                    847,
                    826,
                    811,
                    779,
                    737,
                    703,
                    683,
                    672,
                    660,
                    650,
                    636,
                    608,
                    584,
                    566,
                    556,
                    543,
                    525,
                    502,
                    466,
                    445,
                    442,
                    432,
                    402,
                    383,
                    358,
                    343,
                    333,
                    321,
                    313,
                    305,
                    295,
                    286,
                    276,
                    266,
                    256,
                    250,
                    244,
                    229,
                    215,
                    203,
                    186,
                    176,
                    166,
                    156,
                    132,
                    119,
                    89,
                    75,
                    52,
                    52,
                    49,
                    37,
                    23,
                    11,
                    7,
                    6,
                    4,
                    3,
                    3,
                    3,
                    2,
                    2,
                    1,
                    1,
                    0,
                    0,
                    0,
                    0,
                    0,
                    0,
                    0,
                    0,
                    0,
                    0,
                    0,
                    0,
                    0,
                    0,
                    0,
                    0,
                    0,
                    0,
                    0,
                    0,
                    0,
                    0,
                    0
                  ]
                },
                {
                  "mode": "lines+markers",
                  "name": "Deaths",
                  "type": "scatter",
                  "x": [
                    "2020-07-13T00:00:00",
                    "2020-07-12T00:00:00",
                    "2020-07-11T00:00:00",
                    "2020-07-10T00:00:00",
                    "2020-07-09T00:00:00",
                    "2020-07-08T00:00:00",
                    "2020-07-07T00:00:00",
                    "2020-07-06T00:00:00",
                    "2020-07-05T00:00:00",
                    "2020-07-04T00:00:00",
                    "2020-07-03T00:00:00",
                    "2020-07-02T00:00:00",
                    "2020-07-01T00:00:00",
                    "2020-06-30T00:00:00",
                    "2020-06-29T00:00:00",
                    "2020-06-28T00:00:00",
                    "2020-06-27T00:00:00",
                    "2020-06-26T00:00:00",
                    "2020-06-25T00:00:00",
                    "2020-06-24T00:00:00",
                    "2020-06-23T00:00:00",
                    "2020-06-22T00:00:00",
                    "2020-06-21T00:00:00",
                    "2020-06-20T00:00:00",
                    "2020-06-19T00:00:00",
                    "2020-06-18T00:00:00",
                    "2020-06-17T00:00:00",
                    "2020-06-16T00:00:00",
                    "2020-06-15T00:00:00",
                    "2020-06-14T00:00:00",
                    "2020-06-13T00:00:00",
                    "2020-06-12T00:00:00",
                    "2020-06-11T00:00:00",
                    "2020-06-10T00:00:00",
                    "2020-06-09T00:00:00",
                    "2020-06-08T00:00:00",
                    "2020-06-07T00:00:00",
                    "2020-06-06T00:00:00",
                    "2020-06-05T00:00:00",
                    "2020-06-04T00:00:00",
                    "2020-06-03T00:00:00",
                    "2020-06-02T00:00:00",
                    "2020-06-01T00:00:00",
                    "2020-05-31T00:00:00",
                    "2020-05-30T00:00:00",
                    "2020-05-29T00:00:00",
                    "2020-05-28T00:00:00",
                    "2020-05-27T00:00:00",
                    "2020-05-26T00:00:00",
                    "2020-05-25T00:00:00",
                    "2020-05-24T00:00:00",
                    "2020-05-23T00:00:00",
                    "2020-05-22T00:00:00",
                    "2020-05-21T00:00:00",
                    "2020-05-20T00:00:00",
                    "2020-05-19T00:00:00",
                    "2020-05-18T00:00:00",
                    "2020-05-17T00:00:00",
                    "2020-05-16T00:00:00",
                    "2020-05-15T00:00:00",
                    "2020-05-14T00:00:00",
                    "2020-05-13T00:00:00",
                    "2020-05-12T00:00:00",
                    "2020-05-11T00:00:00",
                    "2020-05-10T00:00:00",
                    "2020-05-09T00:00:00",
                    "2020-05-08T00:00:00",
                    "2020-05-07T00:00:00",
                    "2020-05-06T00:00:00",
                    "2020-05-05T00:00:00",
                    "2020-05-04T00:00:00",
                    "2020-05-03T00:00:00",
                    "2020-05-02T00:00:00",
                    "2020-05-01T00:00:00",
                    "2020-04-30T00:00:00",
                    "2020-04-29T00:00:00",
                    "2020-04-28T00:00:00",
                    "2020-04-27T00:00:00",
                    "2020-04-26T00:00:00",
                    "2020-04-25T00:00:00",
                    "2020-04-24T00:00:00",
                    "2020-04-23T00:00:00",
                    "2020-04-22T00:00:00",
                    "2020-04-21T00:00:00",
                    "2020-04-20T00:00:00",
                    "2020-04-19T00:00:00",
                    "2020-04-18T00:00:00",
                    "2020-04-17T00:00:00",
                    "2020-04-16T00:00:00",
                    "2020-04-15T00:00:00",
                    "2020-04-14T00:00:00",
                    "2020-04-13T00:00:00",
                    "2020-04-12T00:00:00",
                    "2020-04-11T00:00:00",
                    "2020-04-10T00:00:00",
                    "2020-04-09T00:00:00",
                    "2020-04-08T00:00:00",
                    "2020-04-07T00:00:00",
                    "2020-04-06T00:00:00",
                    "2020-04-05T00:00:00",
                    "2020-04-04T00:00:00",
                    "2020-04-03T00:00:00",
                    "2020-04-02T00:00:00"
                  ],
                  "y": [
                    74,
                    74,
                    74,
                    74,
                    73,
                    73,
                    73,
                    73,
                    73,
                    73,
                    73,
                    73,
                    73,
                    73,
                    73,
                    73,
                    73,
                    73,
                    73,
                    72,
                    72,
                    72,
                    71,
                    71,
                    71,
                    70,
                    69,
                    68,
                    68,
                    66,
                    65,
                    65,
                    65,
                    64,
                    64,
                    64,
                    63,
                    63,
                    63,
                    62,
                    61,
                    61,
                    61,
                    59,
                    59,
                    56,
                    56,
                    55,
                    54,
                    53,
                    52,
                    51,
                    51,
                    50,
                    50,
                    49,
                    49,
                    47,
                    45,
                    40,
                    40,
                    37,
                    36,
                    33,
                    33,
                    33,
                    29,
                    27,
                    24,
                    19,
                    15,
                    13,
                    10,
                    8,
                    8,
                    6,
                    3,
                    3,
                    1,
                    1,
                    1,
                    1,
                    1,
                    1,
                    1,
                    0,
                    0,
                    0,
                    0,
                    0,
                    0,
                    0,
                    0,
                    0,
                    0,
                    0,
                    0,
                    0,
                    0,
                    0,
                    0,
                    0,
                    0
                  ]
                }
              ],
              "layout": {
                "plot_bgcolor": "rgb(225,230,255)",
                "template": {
                  "data": {
                    "bar": [
                      {
                        "error_x": {
                          "color": "#2a3f5f"
                        },
                        "error_y": {
                          "color": "#2a3f5f"
                        },
                        "marker": {
                          "line": {
                            "color": "#E5ECF6",
                            "width": 0.5
                          }
                        },
                        "type": "bar"
                      }
                    ],
                    "barpolar": [
                      {
                        "marker": {
                          "line": {
                            "color": "#E5ECF6",
                            "width": 0.5
                          }
                        },
                        "type": "barpolar"
                      }
                    ],
                    "carpet": [
                      {
                        "aaxis": {
                          "endlinecolor": "#2a3f5f",
                          "gridcolor": "white",
                          "linecolor": "white",
                          "minorgridcolor": "white",
                          "startlinecolor": "#2a3f5f"
                        },
                        "baxis": {
                          "endlinecolor": "#2a3f5f",
                          "gridcolor": "white",
                          "linecolor": "white",
                          "minorgridcolor": "white",
                          "startlinecolor": "#2a3f5f"
                        },
                        "type": "carpet"
                      }
                    ],
                    "choropleth": [
                      {
                        "colorbar": {
                          "outlinewidth": 0,
                          "ticks": ""
                        },
                        "type": "choropleth"
                      }
                    ],
                    "contour": [
                      {
                        "colorbar": {
                          "outlinewidth": 0,
                          "ticks": ""
                        },
                        "colorscale": [
                          [
                            0,
                            "#0d0887"
                          ],
                          [
                            0.1111111111111111,
                            "#46039f"
                          ],
                          [
                            0.2222222222222222,
                            "#7201a8"
                          ],
                          [
                            0.3333333333333333,
                            "#9c179e"
                          ],
                          [
                            0.4444444444444444,
                            "#bd3786"
                          ],
                          [
                            0.5555555555555556,
                            "#d8576b"
                          ],
                          [
                            0.6666666666666666,
                            "#ed7953"
                          ],
                          [
                            0.7777777777777778,
                            "#fb9f3a"
                          ],
                          [
                            0.8888888888888888,
                            "#fdca26"
                          ],
                          [
                            1,
                            "#f0f921"
                          ]
                        ],
                        "type": "contour"
                      }
                    ],
                    "contourcarpet": [
                      {
                        "colorbar": {
                          "outlinewidth": 0,
                          "ticks": ""
                        },
                        "type": "contourcarpet"
                      }
                    ],
                    "heatmap": [
                      {
                        "colorbar": {
                          "outlinewidth": 0,
                          "ticks": ""
                        },
                        "colorscale": [
                          [
                            0,
                            "#0d0887"
                          ],
                          [
                            0.1111111111111111,
                            "#46039f"
                          ],
                          [
                            0.2222222222222222,
                            "#7201a8"
                          ],
                          [
                            0.3333333333333333,
                            "#9c179e"
                          ],
                          [
                            0.4444444444444444,
                            "#bd3786"
                          ],
                          [
                            0.5555555555555556,
                            "#d8576b"
                          ],
                          [
                            0.6666666666666666,
                            "#ed7953"
                          ],
                          [
                            0.7777777777777778,
                            "#fb9f3a"
                          ],
                          [
                            0.8888888888888888,
                            "#fdca26"
                          ],
                          [
                            1,
                            "#f0f921"
                          ]
                        ],
                        "type": "heatmap"
                      }
                    ],
                    "heatmapgl": [
                      {
                        "colorbar": {
                          "outlinewidth": 0,
                          "ticks": ""
                        },
                        "colorscale": [
                          [
                            0,
                            "#0d0887"
                          ],
                          [
                            0.1111111111111111,
                            "#46039f"
                          ],
                          [
                            0.2222222222222222,
                            "#7201a8"
                          ],
                          [
                            0.3333333333333333,
                            "#9c179e"
                          ],
                          [
                            0.4444444444444444,
                            "#bd3786"
                          ],
                          [
                            0.5555555555555556,
                            "#d8576b"
                          ],
                          [
                            0.6666666666666666,
                            "#ed7953"
                          ],
                          [
                            0.7777777777777778,
                            "#fb9f3a"
                          ],
                          [
                            0.8888888888888888,
                            "#fdca26"
                          ],
                          [
                            1,
                            "#f0f921"
                          ]
                        ],
                        "type": "heatmapgl"
                      }
                    ],
                    "histogram": [
                      {
                        "marker": {
                          "colorbar": {
                            "outlinewidth": 0,
                            "ticks": ""
                          }
                        },
                        "type": "histogram"
                      }
                    ],
                    "histogram2d": [
                      {
                        "colorbar": {
                          "outlinewidth": 0,
                          "ticks": ""
                        },
                        "colorscale": [
                          [
                            0,
                            "#0d0887"
                          ],
                          [
                            0.1111111111111111,
                            "#46039f"
                          ],
                          [
                            0.2222222222222222,
                            "#7201a8"
                          ],
                          [
                            0.3333333333333333,
                            "#9c179e"
                          ],
                          [
                            0.4444444444444444,
                            "#bd3786"
                          ],
                          [
                            0.5555555555555556,
                            "#d8576b"
                          ],
                          [
                            0.6666666666666666,
                            "#ed7953"
                          ],
                          [
                            0.7777777777777778,
                            "#fb9f3a"
                          ],
                          [
                            0.8888888888888888,
                            "#fdca26"
                          ],
                          [
                            1,
                            "#f0f921"
                          ]
                        ],
                        "type": "histogram2d"
                      }
                    ],
                    "histogram2dcontour": [
                      {
                        "colorbar": {
                          "outlinewidth": 0,
                          "ticks": ""
                        },
                        "colorscale": [
                          [
                            0,
                            "#0d0887"
                          ],
                          [
                            0.1111111111111111,
                            "#46039f"
                          ],
                          [
                            0.2222222222222222,
                            "#7201a8"
                          ],
                          [
                            0.3333333333333333,
                            "#9c179e"
                          ],
                          [
                            0.4444444444444444,
                            "#bd3786"
                          ],
                          [
                            0.5555555555555556,
                            "#d8576b"
                          ],
                          [
                            0.6666666666666666,
                            "#ed7953"
                          ],
                          [
                            0.7777777777777778,
                            "#fb9f3a"
                          ],
                          [
                            0.8888888888888888,
                            "#fdca26"
                          ],
                          [
                            1,
                            "#f0f921"
                          ]
                        ],
                        "type": "histogram2dcontour"
                      }
                    ],
                    "mesh3d": [
                      {
                        "colorbar": {
                          "outlinewidth": 0,
                          "ticks": ""
                        },
                        "type": "mesh3d"
                      }
                    ],
                    "parcoords": [
                      {
                        "line": {
                          "colorbar": {
                            "outlinewidth": 0,
                            "ticks": ""
                          }
                        },
                        "type": "parcoords"
                      }
                    ],
                    "pie": [
                      {
                        "automargin": true,
                        "type": "pie"
                      }
                    ],
                    "scatter": [
                      {
                        "marker": {
                          "colorbar": {
                            "outlinewidth": 0,
                            "ticks": ""
                          }
                        },
                        "type": "scatter"
                      }
                    ],
                    "scatter3d": [
                      {
                        "line": {
                          "colorbar": {
                            "outlinewidth": 0,
                            "ticks": ""
                          }
                        },
                        "marker": {
                          "colorbar": {
                            "outlinewidth": 0,
                            "ticks": ""
                          }
                        },
                        "type": "scatter3d"
                      }
                    ],
                    "scattercarpet": [
                      {
                        "marker": {
                          "colorbar": {
                            "outlinewidth": 0,
                            "ticks": ""
                          }
                        },
                        "type": "scattercarpet"
                      }
                    ],
                    "scattergeo": [
                      {
                        "marker": {
                          "colorbar": {
                            "outlinewidth": 0,
                            "ticks": ""
                          }
                        },
                        "type": "scattergeo"
                      }
                    ],
                    "scattergl": [
                      {
                        "marker": {
                          "colorbar": {
                            "outlinewidth": 0,
                            "ticks": ""
                          }
                        },
                        "type": "scattergl"
                      }
                    ],
                    "scattermapbox": [
                      {
                        "marker": {
                          "colorbar": {
                            "outlinewidth": 0,
                            "ticks": ""
                          }
                        },
                        "type": "scattermapbox"
                      }
                    ],
                    "scatterpolar": [
                      {
                        "marker": {
                          "colorbar": {
                            "outlinewidth": 0,
                            "ticks": ""
                          }
                        },
                        "type": "scatterpolar"
                      }
                    ],
                    "scatterpolargl": [
                      {
                        "marker": {
                          "colorbar": {
                            "outlinewidth": 0,
                            "ticks": ""
                          }
                        },
                        "type": "scatterpolargl"
                      }
                    ],
                    "scatterternary": [
                      {
                        "marker": {
                          "colorbar": {
                            "outlinewidth": 0,
                            "ticks": ""
                          }
                        },
                        "type": "scatterternary"
                      }
                    ],
                    "surface": [
                      {
                        "colorbar": {
                          "outlinewidth": 0,
                          "ticks": ""
                        },
                        "colorscale": [
                          [
                            0,
                            "#0d0887"
                          ],
                          [
                            0.1111111111111111,
                            "#46039f"
                          ],
                          [
                            0.2222222222222222,
                            "#7201a8"
                          ],
                          [
                            0.3333333333333333,
                            "#9c179e"
                          ],
                          [
                            0.4444444444444444,
                            "#bd3786"
                          ],
                          [
                            0.5555555555555556,
                            "#d8576b"
                          ],
                          [
                            0.6666666666666666,
                            "#ed7953"
                          ],
                          [
                            0.7777777777777778,
                            "#fb9f3a"
                          ],
                          [
                            0.8888888888888888,
                            "#fdca26"
                          ],
                          [
                            1,
                            "#f0f921"
                          ]
                        ],
                        "type": "surface"
                      }
                    ],
                    "table": [
                      {
                        "cells": {
                          "fill": {
                            "color": "#EBF0F8"
                          },
                          "line": {
                            "color": "white"
                          }
                        },
                        "header": {
                          "fill": {
                            "color": "#C8D4E3"
                          },
                          "line": {
                            "color": "white"
                          }
                        },
                        "type": "table"
                      }
                    ]
                  },
                  "layout": {
                    "annotationdefaults": {
                      "arrowcolor": "#2a3f5f",
                      "arrowhead": 0,
                      "arrowwidth": 1
                    },
                    "coloraxis": {
                      "colorbar": {
                        "outlinewidth": 0,
                        "ticks": ""
                      }
                    },
                    "colorscale": {
                      "diverging": [
                        [
                          0,
                          "#8e0152"
                        ],
                        [
                          0.1,
                          "#c51b7d"
                        ],
                        [
                          0.2,
                          "#de77ae"
                        ],
                        [
                          0.3,
                          "#f1b6da"
                        ],
                        [
                          0.4,
                          "#fde0ef"
                        ],
                        [
                          0.5,
                          "#f7f7f7"
                        ],
                        [
                          0.6,
                          "#e6f5d0"
                        ],
                        [
                          0.7,
                          "#b8e186"
                        ],
                        [
                          0.8,
                          "#7fbc41"
                        ],
                        [
                          0.9,
                          "#4d9221"
                        ],
                        [
                          1,
                          "#276419"
                        ]
                      ],
                      "sequential": [
                        [
                          0,
                          "#0d0887"
                        ],
                        [
                          0.1111111111111111,
                          "#46039f"
                        ],
                        [
                          0.2222222222222222,
                          "#7201a8"
                        ],
                        [
                          0.3333333333333333,
                          "#9c179e"
                        ],
                        [
                          0.4444444444444444,
                          "#bd3786"
                        ],
                        [
                          0.5555555555555556,
                          "#d8576b"
                        ],
                        [
                          0.6666666666666666,
                          "#ed7953"
                        ],
                        [
                          0.7777777777777778,
                          "#fb9f3a"
                        ],
                        [
                          0.8888888888888888,
                          "#fdca26"
                        ],
                        [
                          1,
                          "#f0f921"
                        ]
                      ],
                      "sequentialminus": [
                        [
                          0,
                          "#0d0887"
                        ],
                        [
                          0.1111111111111111,
                          "#46039f"
                        ],
                        [
                          0.2222222222222222,
                          "#7201a8"
                        ],
                        [
                          0.3333333333333333,
                          "#9c179e"
                        ],
                        [
                          0.4444444444444444,
                          "#bd3786"
                        ],
                        [
                          0.5555555555555556,
                          "#d8576b"
                        ],
                        [
                          0.6666666666666666,
                          "#ed7953"
                        ],
                        [
                          0.7777777777777778,
                          "#fb9f3a"
                        ],
                        [
                          0.8888888888888888,
                          "#fdca26"
                        ],
                        [
                          1,
                          "#f0f921"
                        ]
                      ]
                    },
                    "colorway": [
                      "#636efa",
                      "#EF553B",
                      "#00cc96",
                      "#ab63fa",
                      "#FFA15A",
                      "#19d3f3",
                      "#FF6692",
                      "#B6E880",
                      "#FF97FF",
                      "#FECB52"
                    ],
                    "font": {
                      "color": "#2a3f5f"
                    },
                    "geo": {
                      "bgcolor": "white",
                      "lakecolor": "white",
                      "landcolor": "#E5ECF6",
                      "showlakes": true,
                      "showland": true,
                      "subunitcolor": "white"
                    },
                    "hoverlabel": {
                      "align": "left"
                    },
                    "hovermode": "closest",
                    "mapbox": {
                      "style": "light"
                    },
                    "paper_bgcolor": "white",
                    "plot_bgcolor": "#E5ECF6",
                    "polar": {
                      "angularaxis": {
                        "gridcolor": "white",
                        "linecolor": "white",
                        "ticks": ""
                      },
                      "bgcolor": "#E5ECF6",
                      "radialaxis": {
                        "gridcolor": "white",
                        "linecolor": "white",
                        "ticks": ""
                      }
                    },
                    "scene": {
                      "xaxis": {
                        "backgroundcolor": "#E5ECF6",
                        "gridcolor": "white",
                        "gridwidth": 2,
                        "linecolor": "white",
                        "showbackground": true,
                        "ticks": "",
                        "zerolinecolor": "white"
                      },
                      "yaxis": {
                        "backgroundcolor": "#E5ECF6",
                        "gridcolor": "white",
                        "gridwidth": 2,
                        "linecolor": "white",
                        "showbackground": true,
                        "ticks": "",
                        "zerolinecolor": "white"
                      },
                      "zaxis": {
                        "backgroundcolor": "#E5ECF6",
                        "gridcolor": "white",
                        "gridwidth": 2,
                        "linecolor": "white",
                        "showbackground": true,
                        "ticks": "",
                        "zerolinecolor": "white"
                      }
                    },
                    "shapedefaults": {
                      "line": {
                        "color": "#2a3f5f"
                      }
                    },
                    "ternary": {
                      "aaxis": {
                        "gridcolor": "white",
                        "linecolor": "white",
                        "ticks": ""
                      },
                      "baxis": {
                        "gridcolor": "white",
                        "linecolor": "white",
                        "ticks": ""
                      },
                      "bgcolor": "#E5ECF6",
                      "caxis": {
                        "gridcolor": "white",
                        "linecolor": "white",
                        "ticks": ""
                      }
                    },
                    "title": {
                      "x": 0.05
                    },
                    "xaxis": {
                      "automargin": true,
                      "gridcolor": "white",
                      "linecolor": "white",
                      "ticks": "",
                      "title": {
                        "standoff": 15
                      },
                      "zerolinecolor": "white",
                      "zerolinewidth": 2
                    },
                    "yaxis": {
                      "automargin": true,
                      "gridcolor": "white",
                      "linecolor": "white",
                      "ticks": "",
                      "title": {
                        "standoff": 15
                      },
                      "zerolinecolor": "white",
                      "zerolinewidth": 2
                    }
                  }
                },
                "title": {
                  "text": "Curve Showing Different Cases from COVID-19 in Breves"
                }
              }
            },
            "text/html": [
              "<div>\n",
              "        \n",
              "        \n",
              "            <div id=\"784364de-963f-4998-81c1-b0108a0e8f14\" class=\"plotly-graph-div\" style=\"height:525px; width:100%;\"></div>\n",
              "            <script type=\"text/javascript\">\n",
              "                require([\"plotly\"], function(Plotly) {\n",
              "                    window.PLOTLYENV=window.PLOTLYENV || {};\n",
              "                    \n",
              "                if (document.getElementById(\"784364de-963f-4998-81c1-b0108a0e8f14\")) {\n",
              "                    Plotly.newPlot(\n",
              "                        '784364de-963f-4998-81c1-b0108a0e8f14',\n",
              "                        [{\"mode\": \"lines+markers\", \"name\": \"Confirmed\", \"type\": \"scatter\", \"x\": [\"2020-07-13T00:00:00\", \"2020-07-12T00:00:00\", \"2020-07-11T00:00:00\", \"2020-07-10T00:00:00\", \"2020-07-09T00:00:00\", \"2020-07-08T00:00:00\", \"2020-07-07T00:00:00\", \"2020-07-06T00:00:00\", \"2020-07-05T00:00:00\", \"2020-07-04T00:00:00\", \"2020-07-03T00:00:00\", \"2020-07-02T00:00:00\", \"2020-07-01T00:00:00\", \"2020-06-30T00:00:00\", \"2020-06-29T00:00:00\", \"2020-06-28T00:00:00\", \"2020-06-27T00:00:00\", \"2020-06-26T00:00:00\", \"2020-06-25T00:00:00\", \"2020-06-24T00:00:00\", \"2020-06-23T00:00:00\", \"2020-06-22T00:00:00\", \"2020-06-21T00:00:00\", \"2020-06-20T00:00:00\", \"2020-06-19T00:00:00\", \"2020-06-18T00:00:00\", \"2020-06-17T00:00:00\", \"2020-06-16T00:00:00\", \"2020-06-15T00:00:00\", \"2020-06-14T00:00:00\", \"2020-06-13T00:00:00\", \"2020-06-12T00:00:00\", \"2020-06-11T00:00:00\", \"2020-06-10T00:00:00\", \"2020-06-09T00:00:00\", \"2020-06-08T00:00:00\", \"2020-06-07T00:00:00\", \"2020-06-06T00:00:00\", \"2020-06-05T00:00:00\", \"2020-06-04T00:00:00\", \"2020-06-03T00:00:00\", \"2020-06-02T00:00:00\", \"2020-06-01T00:00:00\", \"2020-05-31T00:00:00\", \"2020-05-30T00:00:00\", \"2020-05-29T00:00:00\", \"2020-05-28T00:00:00\", \"2020-05-27T00:00:00\", \"2020-05-26T00:00:00\", \"2020-05-25T00:00:00\", \"2020-05-24T00:00:00\", \"2020-05-23T00:00:00\", \"2020-05-22T00:00:00\", \"2020-05-21T00:00:00\", \"2020-05-20T00:00:00\", \"2020-05-19T00:00:00\", \"2020-05-18T00:00:00\", \"2020-05-17T00:00:00\", \"2020-05-16T00:00:00\", \"2020-05-15T00:00:00\", \"2020-05-14T00:00:00\", \"2020-05-13T00:00:00\", \"2020-05-12T00:00:00\", \"2020-05-11T00:00:00\", \"2020-05-10T00:00:00\", \"2020-05-09T00:00:00\", \"2020-05-08T00:00:00\", \"2020-05-07T00:00:00\", \"2020-05-06T00:00:00\", \"2020-05-05T00:00:00\", \"2020-05-04T00:00:00\", \"2020-05-03T00:00:00\", \"2020-05-02T00:00:00\", \"2020-05-01T00:00:00\", \"2020-04-30T00:00:00\", \"2020-04-29T00:00:00\", \"2020-04-28T00:00:00\", \"2020-04-27T00:00:00\", \"2020-04-26T00:00:00\", \"2020-04-25T00:00:00\", \"2020-04-24T00:00:00\", \"2020-04-23T00:00:00\", \"2020-04-22T00:00:00\", \"2020-04-21T00:00:00\", \"2020-04-20T00:00:00\", \"2020-04-19T00:00:00\", \"2020-04-18T00:00:00\", \"2020-04-17T00:00:00\", \"2020-04-16T00:00:00\", \"2020-04-15T00:00:00\", \"2020-04-14T00:00:00\", \"2020-04-13T00:00:00\", \"2020-04-12T00:00:00\", \"2020-04-11T00:00:00\", \"2020-04-10T00:00:00\", \"2020-04-09T00:00:00\", \"2020-04-08T00:00:00\", \"2020-04-07T00:00:00\", \"2020-04-06T00:00:00\", \"2020-04-05T00:00:00\", \"2020-04-04T00:00:00\", \"2020-04-03T00:00:00\", \"2020-04-02T00:00:00\"], \"y\": [1445, 1435, 1424, 1410, 1392, 1377, 1364, 1355, 1347, 1336, 1318, 1295, 1273, 1251, 1230, 1208, 1194, 1178, 1158, 1125, 1090, 1015, 966, 947, 933, 919, 907, 885, 863, 820, 805, 794, 782, 764, 741, 709, 692, 653, 629, 585, 567, 551, 537, 523, 513, 496, 488, 484, 474, 459, 447, 444, 436, 425, 421, 407, 386, 374, 346, 332, 318, 295, 272, 242, 222, 204, 174, 150, 142, 116, 106, 90, 74, 67, 53, 37, 32, 27, 17, 13, 13, 9, 7, 2, 2, 2, 2, 0, 0, 0, 0, 0, 0, 0, 0, 0, 0, 0, 0, 0, 0, 0, 0]}, {\"mode\": \"lines+markers\", \"name\": \"Active Cases\", \"type\": \"scatter\", \"x\": [\"2020-07-13T00:00:00\", \"2020-07-12T00:00:00\", \"2020-07-11T00:00:00\", \"2020-07-10T00:00:00\", \"2020-07-09T00:00:00\", \"2020-07-08T00:00:00\", \"2020-07-07T00:00:00\", \"2020-07-06T00:00:00\", \"2020-07-05T00:00:00\", \"2020-07-04T00:00:00\", \"2020-07-03T00:00:00\", \"2020-07-02T00:00:00\", \"2020-07-01T00:00:00\", \"2020-06-30T00:00:00\", \"2020-06-29T00:00:00\", \"2020-06-28T00:00:00\", \"2020-06-27T00:00:00\", \"2020-06-26T00:00:00\", \"2020-06-25T00:00:00\", \"2020-06-24T00:00:00\", \"2020-06-23T00:00:00\", \"2020-06-22T00:00:00\", \"2020-06-21T00:00:00\", \"2020-06-20T00:00:00\", \"2020-06-19T00:00:00\", \"2020-06-18T00:00:00\", \"2020-06-17T00:00:00\", \"2020-06-16T00:00:00\", \"2020-06-15T00:00:00\", \"2020-06-14T00:00:00\", \"2020-06-13T00:00:00\", \"2020-06-12T00:00:00\", \"2020-06-11T00:00:00\", \"2020-06-10T00:00:00\", \"2020-06-09T00:00:00\", \"2020-06-08T00:00:00\", \"2020-06-07T00:00:00\", \"2020-06-06T00:00:00\", \"2020-06-05T00:00:00\", \"2020-06-04T00:00:00\", \"2020-06-03T00:00:00\", \"2020-06-02T00:00:00\", \"2020-06-01T00:00:00\", \"2020-05-31T00:00:00\", \"2020-05-30T00:00:00\", \"2020-05-29T00:00:00\", \"2020-05-28T00:00:00\", \"2020-05-27T00:00:00\", \"2020-05-26T00:00:00\", \"2020-05-25T00:00:00\", \"2020-05-24T00:00:00\", \"2020-05-23T00:00:00\", \"2020-05-22T00:00:00\", \"2020-05-21T00:00:00\", \"2020-05-20T00:00:00\", \"2020-05-19T00:00:00\", \"2020-05-18T00:00:00\", \"2020-05-17T00:00:00\", \"2020-05-16T00:00:00\", \"2020-05-15T00:00:00\", \"2020-05-14T00:00:00\", \"2020-05-13T00:00:00\", \"2020-05-12T00:00:00\", \"2020-05-11T00:00:00\", \"2020-05-10T00:00:00\", \"2020-05-09T00:00:00\", \"2020-05-08T00:00:00\", \"2020-05-07T00:00:00\", \"2020-05-06T00:00:00\", \"2020-05-05T00:00:00\", \"2020-05-04T00:00:00\", \"2020-05-03T00:00:00\", \"2020-05-02T00:00:00\", \"2020-05-01T00:00:00\", \"2020-04-30T00:00:00\", \"2020-04-29T00:00:00\", \"2020-04-28T00:00:00\", \"2020-04-27T00:00:00\", \"2020-04-26T00:00:00\", \"2020-04-25T00:00:00\", \"2020-04-24T00:00:00\", \"2020-04-23T00:00:00\", \"2020-04-22T00:00:00\", \"2020-04-21T00:00:00\", \"2020-04-20T00:00:00\", \"2020-04-19T00:00:00\", \"2020-04-18T00:00:00\", \"2020-04-17T00:00:00\", \"2020-04-16T00:00:00\", \"2020-04-15T00:00:00\", \"2020-04-14T00:00:00\", \"2020-04-13T00:00:00\", \"2020-04-12T00:00:00\", \"2020-04-11T00:00:00\", \"2020-04-10T00:00:00\", \"2020-04-09T00:00:00\", \"2020-04-08T00:00:00\", \"2020-04-07T00:00:00\", \"2020-04-06T00:00:00\", \"2020-04-05T00:00:00\", \"2020-04-04T00:00:00\", \"2020-04-03T00:00:00\", \"2020-04-02T00:00:00\"], \"y\": [271, 276, 277, 281, 281, 279, 277, 280, 288, 295, 300, 296, 294, 293, 282, 271, 274, 279, 274, 274, 281, 240, 212, 204, 202, 199, 202, 209, 211, 188, 184, 186, 192, 198, 211, 200, 187, 158, 164, 140, 148, 147, 143, 143, 141, 135, 137, 143, 144, 140, 139, 143, 141, 146, 156, 155, 151, 151, 135, 136, 146, 139, 147, 134, 137, 119, 96, 86, 95, 86, 84, 71, 60, 56, 42, 28, 27, 22, 15, 11, 12, 8, 6, 1, 1, 2, 2, 0, 0, 0, 0, 0, 0, 0, 0, 0, 0, 0, 0, 0, 0, 0, 0]}, {\"mode\": \"lines+markers\", \"name\": \"Recovered\", \"type\": \"scatter\", \"x\": [\"2020-07-13T00:00:00\", \"2020-07-12T00:00:00\", \"2020-07-11T00:00:00\", \"2020-07-10T00:00:00\", \"2020-07-09T00:00:00\", \"2020-07-08T00:00:00\", \"2020-07-07T00:00:00\", \"2020-07-06T00:00:00\", \"2020-07-05T00:00:00\", \"2020-07-04T00:00:00\", \"2020-07-03T00:00:00\", \"2020-07-02T00:00:00\", \"2020-07-01T00:00:00\", \"2020-06-30T00:00:00\", \"2020-06-29T00:00:00\", \"2020-06-28T00:00:00\", \"2020-06-27T00:00:00\", \"2020-06-26T00:00:00\", \"2020-06-25T00:00:00\", \"2020-06-24T00:00:00\", \"2020-06-23T00:00:00\", \"2020-06-22T00:00:00\", \"2020-06-21T00:00:00\", \"2020-06-20T00:00:00\", \"2020-06-19T00:00:00\", \"2020-06-18T00:00:00\", \"2020-06-17T00:00:00\", \"2020-06-16T00:00:00\", \"2020-06-15T00:00:00\", \"2020-06-14T00:00:00\", \"2020-06-13T00:00:00\", \"2020-06-12T00:00:00\", \"2020-06-11T00:00:00\", \"2020-06-10T00:00:00\", \"2020-06-09T00:00:00\", \"2020-06-08T00:00:00\", \"2020-06-07T00:00:00\", \"2020-06-06T00:00:00\", \"2020-06-05T00:00:00\", \"2020-06-04T00:00:00\", \"2020-06-03T00:00:00\", \"2020-06-02T00:00:00\", \"2020-06-01T00:00:00\", \"2020-05-31T00:00:00\", \"2020-05-30T00:00:00\", \"2020-05-29T00:00:00\", \"2020-05-28T00:00:00\", \"2020-05-27T00:00:00\", \"2020-05-26T00:00:00\", \"2020-05-25T00:00:00\", \"2020-05-24T00:00:00\", \"2020-05-23T00:00:00\", \"2020-05-22T00:00:00\", \"2020-05-21T00:00:00\", \"2020-05-20T00:00:00\", \"2020-05-19T00:00:00\", \"2020-05-18T00:00:00\", \"2020-05-17T00:00:00\", \"2020-05-16T00:00:00\", \"2020-05-15T00:00:00\", \"2020-05-14T00:00:00\", \"2020-05-13T00:00:00\", \"2020-05-12T00:00:00\", \"2020-05-11T00:00:00\", \"2020-05-10T00:00:00\", \"2020-05-09T00:00:00\", \"2020-05-08T00:00:00\", \"2020-05-07T00:00:00\", \"2020-05-06T00:00:00\", \"2020-05-05T00:00:00\", \"2020-05-04T00:00:00\", \"2020-05-03T00:00:00\", \"2020-05-02T00:00:00\", \"2020-05-01T00:00:00\", \"2020-04-30T00:00:00\", \"2020-04-29T00:00:00\", \"2020-04-28T00:00:00\", \"2020-04-27T00:00:00\", \"2020-04-26T00:00:00\", \"2020-04-25T00:00:00\", \"2020-04-24T00:00:00\", \"2020-04-23T00:00:00\", \"2020-04-22T00:00:00\", \"2020-04-21T00:00:00\", \"2020-04-20T00:00:00\", \"2020-04-19T00:00:00\", \"2020-04-18T00:00:00\", \"2020-04-17T00:00:00\", \"2020-04-16T00:00:00\", \"2020-04-15T00:00:00\", \"2020-04-14T00:00:00\", \"2020-04-13T00:00:00\", \"2020-04-12T00:00:00\", \"2020-04-11T00:00:00\", \"2020-04-10T00:00:00\", \"2020-04-09T00:00:00\", \"2020-04-08T00:00:00\", \"2020-04-07T00:00:00\", \"2020-04-06T00:00:00\", \"2020-04-05T00:00:00\", \"2020-04-04T00:00:00\", \"2020-04-03T00:00:00\", \"2020-04-02T00:00:00\"], \"y\": [1100, 1085, 1073, 1055, 1038, 1025, 1014, 1002, 986, 968, 945, 926, 906, 885, 875, 864, 847, 826, 811, 779, 737, 703, 683, 672, 660, 650, 636, 608, 584, 566, 556, 543, 525, 502, 466, 445, 442, 432, 402, 383, 358, 343, 333, 321, 313, 305, 295, 286, 276, 266, 256, 250, 244, 229, 215, 203, 186, 176, 166, 156, 132, 119, 89, 75, 52, 52, 49, 37, 23, 11, 7, 6, 4, 3, 3, 3, 2, 2, 1, 1, 0, 0, 0, 0, 0, 0, 0, 0, 0, 0, 0, 0, 0, 0, 0, 0, 0, 0, 0, 0, 0, 0, 0]}, {\"mode\": \"lines+markers\", \"name\": \"Deaths\", \"type\": \"scatter\", \"x\": [\"2020-07-13T00:00:00\", \"2020-07-12T00:00:00\", \"2020-07-11T00:00:00\", \"2020-07-10T00:00:00\", \"2020-07-09T00:00:00\", \"2020-07-08T00:00:00\", \"2020-07-07T00:00:00\", \"2020-07-06T00:00:00\", \"2020-07-05T00:00:00\", \"2020-07-04T00:00:00\", \"2020-07-03T00:00:00\", \"2020-07-02T00:00:00\", \"2020-07-01T00:00:00\", \"2020-06-30T00:00:00\", \"2020-06-29T00:00:00\", \"2020-06-28T00:00:00\", \"2020-06-27T00:00:00\", \"2020-06-26T00:00:00\", \"2020-06-25T00:00:00\", \"2020-06-24T00:00:00\", \"2020-06-23T00:00:00\", \"2020-06-22T00:00:00\", \"2020-06-21T00:00:00\", \"2020-06-20T00:00:00\", \"2020-06-19T00:00:00\", \"2020-06-18T00:00:00\", \"2020-06-17T00:00:00\", \"2020-06-16T00:00:00\", \"2020-06-15T00:00:00\", \"2020-06-14T00:00:00\", \"2020-06-13T00:00:00\", \"2020-06-12T00:00:00\", \"2020-06-11T00:00:00\", \"2020-06-10T00:00:00\", \"2020-06-09T00:00:00\", \"2020-06-08T00:00:00\", \"2020-06-07T00:00:00\", \"2020-06-06T00:00:00\", \"2020-06-05T00:00:00\", \"2020-06-04T00:00:00\", \"2020-06-03T00:00:00\", \"2020-06-02T00:00:00\", \"2020-06-01T00:00:00\", \"2020-05-31T00:00:00\", \"2020-05-30T00:00:00\", \"2020-05-29T00:00:00\", \"2020-05-28T00:00:00\", \"2020-05-27T00:00:00\", \"2020-05-26T00:00:00\", \"2020-05-25T00:00:00\", \"2020-05-24T00:00:00\", \"2020-05-23T00:00:00\", \"2020-05-22T00:00:00\", \"2020-05-21T00:00:00\", \"2020-05-20T00:00:00\", \"2020-05-19T00:00:00\", \"2020-05-18T00:00:00\", \"2020-05-17T00:00:00\", \"2020-05-16T00:00:00\", \"2020-05-15T00:00:00\", \"2020-05-14T00:00:00\", \"2020-05-13T00:00:00\", \"2020-05-12T00:00:00\", \"2020-05-11T00:00:00\", \"2020-05-10T00:00:00\", \"2020-05-09T00:00:00\", \"2020-05-08T00:00:00\", \"2020-05-07T00:00:00\", \"2020-05-06T00:00:00\", \"2020-05-05T00:00:00\", \"2020-05-04T00:00:00\", \"2020-05-03T00:00:00\", \"2020-05-02T00:00:00\", \"2020-05-01T00:00:00\", \"2020-04-30T00:00:00\", \"2020-04-29T00:00:00\", \"2020-04-28T00:00:00\", \"2020-04-27T00:00:00\", \"2020-04-26T00:00:00\", \"2020-04-25T00:00:00\", \"2020-04-24T00:00:00\", \"2020-04-23T00:00:00\", \"2020-04-22T00:00:00\", \"2020-04-21T00:00:00\", \"2020-04-20T00:00:00\", \"2020-04-19T00:00:00\", \"2020-04-18T00:00:00\", \"2020-04-17T00:00:00\", \"2020-04-16T00:00:00\", \"2020-04-15T00:00:00\", \"2020-04-14T00:00:00\", \"2020-04-13T00:00:00\", \"2020-04-12T00:00:00\", \"2020-04-11T00:00:00\", \"2020-04-10T00:00:00\", \"2020-04-09T00:00:00\", \"2020-04-08T00:00:00\", \"2020-04-07T00:00:00\", \"2020-04-06T00:00:00\", \"2020-04-05T00:00:00\", \"2020-04-04T00:00:00\", \"2020-04-03T00:00:00\", \"2020-04-02T00:00:00\"], \"y\": [74, 74, 74, 74, 73, 73, 73, 73, 73, 73, 73, 73, 73, 73, 73, 73, 73, 73, 73, 72, 72, 72, 71, 71, 71, 70, 69, 68, 68, 66, 65, 65, 65, 64, 64, 64, 63, 63, 63, 62, 61, 61, 61, 59, 59, 56, 56, 55, 54, 53, 52, 51, 51, 50, 50, 49, 49, 47, 45, 40, 40, 37, 36, 33, 33, 33, 29, 27, 24, 19, 15, 13, 10, 8, 8, 6, 3, 3, 1, 1, 1, 1, 1, 1, 1, 0, 0, 0, 0, 0, 0, 0, 0, 0, 0, 0, 0, 0, 0, 0, 0, 0, 0]}],\n",
              "                        {\"plot_bgcolor\": \"rgb(225,230,255)\", \"template\": {\"data\": {\"bar\": [{\"error_x\": {\"color\": \"#2a3f5f\"}, \"error_y\": {\"color\": \"#2a3f5f\"}, \"marker\": {\"line\": {\"color\": \"#E5ECF6\", \"width\": 0.5}}, \"type\": \"bar\"}], \"barpolar\": [{\"marker\": {\"line\": {\"color\": \"#E5ECF6\", \"width\": 0.5}}, \"type\": \"barpolar\"}], \"carpet\": [{\"aaxis\": {\"endlinecolor\": \"#2a3f5f\", \"gridcolor\": \"white\", \"linecolor\": \"white\", \"minorgridcolor\": \"white\", \"startlinecolor\": \"#2a3f5f\"}, \"baxis\": {\"endlinecolor\": \"#2a3f5f\", \"gridcolor\": \"white\", \"linecolor\": \"white\", \"minorgridcolor\": \"white\", \"startlinecolor\": \"#2a3f5f\"}, \"type\": \"carpet\"}], \"choropleth\": [{\"colorbar\": {\"outlinewidth\": 0, \"ticks\": \"\"}, \"type\": \"choropleth\"}], \"contour\": [{\"colorbar\": {\"outlinewidth\": 0, \"ticks\": \"\"}, \"colorscale\": [[0.0, \"#0d0887\"], [0.1111111111111111, \"#46039f\"], [0.2222222222222222, \"#7201a8\"], [0.3333333333333333, \"#9c179e\"], [0.4444444444444444, \"#bd3786\"], [0.5555555555555556, \"#d8576b\"], [0.6666666666666666, \"#ed7953\"], [0.7777777777777778, \"#fb9f3a\"], [0.8888888888888888, \"#fdca26\"], [1.0, \"#f0f921\"]], \"type\": \"contour\"}], \"contourcarpet\": [{\"colorbar\": {\"outlinewidth\": 0, \"ticks\": \"\"}, \"type\": \"contourcarpet\"}], \"heatmap\": [{\"colorbar\": {\"outlinewidth\": 0, \"ticks\": \"\"}, \"colorscale\": [[0.0, \"#0d0887\"], [0.1111111111111111, \"#46039f\"], [0.2222222222222222, \"#7201a8\"], [0.3333333333333333, \"#9c179e\"], [0.4444444444444444, \"#bd3786\"], [0.5555555555555556, \"#d8576b\"], [0.6666666666666666, \"#ed7953\"], [0.7777777777777778, \"#fb9f3a\"], [0.8888888888888888, \"#fdca26\"], [1.0, \"#f0f921\"]], \"type\": \"heatmap\"}], \"heatmapgl\": [{\"colorbar\": {\"outlinewidth\": 0, \"ticks\": \"\"}, \"colorscale\": [[0.0, \"#0d0887\"], [0.1111111111111111, \"#46039f\"], [0.2222222222222222, \"#7201a8\"], [0.3333333333333333, \"#9c179e\"], [0.4444444444444444, \"#bd3786\"], [0.5555555555555556, \"#d8576b\"], [0.6666666666666666, \"#ed7953\"], [0.7777777777777778, \"#fb9f3a\"], [0.8888888888888888, \"#fdca26\"], [1.0, \"#f0f921\"]], \"type\": \"heatmapgl\"}], \"histogram\": [{\"marker\": {\"colorbar\": {\"outlinewidth\": 0, \"ticks\": \"\"}}, \"type\": \"histogram\"}], \"histogram2d\": [{\"colorbar\": {\"outlinewidth\": 0, \"ticks\": \"\"}, \"colorscale\": [[0.0, \"#0d0887\"], [0.1111111111111111, \"#46039f\"], [0.2222222222222222, \"#7201a8\"], [0.3333333333333333, \"#9c179e\"], [0.4444444444444444, \"#bd3786\"], [0.5555555555555556, \"#d8576b\"], [0.6666666666666666, \"#ed7953\"], [0.7777777777777778, \"#fb9f3a\"], [0.8888888888888888, \"#fdca26\"], [1.0, \"#f0f921\"]], \"type\": \"histogram2d\"}], \"histogram2dcontour\": [{\"colorbar\": {\"outlinewidth\": 0, \"ticks\": \"\"}, \"colorscale\": [[0.0, \"#0d0887\"], [0.1111111111111111, \"#46039f\"], [0.2222222222222222, \"#7201a8\"], [0.3333333333333333, \"#9c179e\"], [0.4444444444444444, \"#bd3786\"], [0.5555555555555556, \"#d8576b\"], [0.6666666666666666, \"#ed7953\"], [0.7777777777777778, \"#fb9f3a\"], [0.8888888888888888, \"#fdca26\"], [1.0, \"#f0f921\"]], \"type\": \"histogram2dcontour\"}], \"mesh3d\": [{\"colorbar\": {\"outlinewidth\": 0, \"ticks\": \"\"}, \"type\": \"mesh3d\"}], \"parcoords\": [{\"line\": {\"colorbar\": {\"outlinewidth\": 0, \"ticks\": \"\"}}, \"type\": \"parcoords\"}], \"pie\": [{\"automargin\": true, \"type\": \"pie\"}], \"scatter\": [{\"marker\": {\"colorbar\": {\"outlinewidth\": 0, \"ticks\": \"\"}}, \"type\": \"scatter\"}], \"scatter3d\": [{\"line\": {\"colorbar\": {\"outlinewidth\": 0, \"ticks\": \"\"}}, \"marker\": {\"colorbar\": {\"outlinewidth\": 0, \"ticks\": \"\"}}, \"type\": \"scatter3d\"}], \"scattercarpet\": [{\"marker\": {\"colorbar\": {\"outlinewidth\": 0, \"ticks\": \"\"}}, \"type\": \"scattercarpet\"}], \"scattergeo\": [{\"marker\": {\"colorbar\": {\"outlinewidth\": 0, \"ticks\": \"\"}}, \"type\": \"scattergeo\"}], \"scattergl\": [{\"marker\": {\"colorbar\": {\"outlinewidth\": 0, \"ticks\": \"\"}}, \"type\": \"scattergl\"}], \"scattermapbox\": [{\"marker\": {\"colorbar\": {\"outlinewidth\": 0, \"ticks\": \"\"}}, \"type\": \"scattermapbox\"}], \"scatterpolar\": [{\"marker\": {\"colorbar\": {\"outlinewidth\": 0, \"ticks\": \"\"}}, \"type\": \"scatterpolar\"}], \"scatterpolargl\": [{\"marker\": {\"colorbar\": {\"outlinewidth\": 0, \"ticks\": \"\"}}, \"type\": \"scatterpolargl\"}], \"scatterternary\": [{\"marker\": {\"colorbar\": {\"outlinewidth\": 0, \"ticks\": \"\"}}, \"type\": \"scatterternary\"}], \"surface\": [{\"colorbar\": {\"outlinewidth\": 0, \"ticks\": \"\"}, \"colorscale\": [[0.0, \"#0d0887\"], [0.1111111111111111, \"#46039f\"], [0.2222222222222222, \"#7201a8\"], [0.3333333333333333, \"#9c179e\"], [0.4444444444444444, \"#bd3786\"], [0.5555555555555556, \"#d8576b\"], [0.6666666666666666, \"#ed7953\"], [0.7777777777777778, \"#fb9f3a\"], [0.8888888888888888, \"#fdca26\"], [1.0, \"#f0f921\"]], \"type\": \"surface\"}], \"table\": [{\"cells\": {\"fill\": {\"color\": \"#EBF0F8\"}, \"line\": {\"color\": \"white\"}}, \"header\": {\"fill\": {\"color\": \"#C8D4E3\"}, \"line\": {\"color\": \"white\"}}, \"type\": \"table\"}]}, \"layout\": {\"annotationdefaults\": {\"arrowcolor\": \"#2a3f5f\", \"arrowhead\": 0, \"arrowwidth\": 1}, \"coloraxis\": {\"colorbar\": {\"outlinewidth\": 0, \"ticks\": \"\"}}, \"colorscale\": {\"diverging\": [[0, \"#8e0152\"], [0.1, \"#c51b7d\"], [0.2, \"#de77ae\"], [0.3, \"#f1b6da\"], [0.4, \"#fde0ef\"], [0.5, \"#f7f7f7\"], [0.6, \"#e6f5d0\"], [0.7, \"#b8e186\"], [0.8, \"#7fbc41\"], [0.9, \"#4d9221\"], [1, \"#276419\"]], \"sequential\": [[0.0, \"#0d0887\"], [0.1111111111111111, \"#46039f\"], [0.2222222222222222, \"#7201a8\"], [0.3333333333333333, \"#9c179e\"], [0.4444444444444444, \"#bd3786\"], [0.5555555555555556, \"#d8576b\"], [0.6666666666666666, \"#ed7953\"], [0.7777777777777778, \"#fb9f3a\"], [0.8888888888888888, \"#fdca26\"], [1.0, \"#f0f921\"]], \"sequentialminus\": [[0.0, \"#0d0887\"], [0.1111111111111111, \"#46039f\"], [0.2222222222222222, \"#7201a8\"], [0.3333333333333333, \"#9c179e\"], [0.4444444444444444, \"#bd3786\"], [0.5555555555555556, \"#d8576b\"], [0.6666666666666666, \"#ed7953\"], [0.7777777777777778, \"#fb9f3a\"], [0.8888888888888888, \"#fdca26\"], [1.0, \"#f0f921\"]]}, \"colorway\": [\"#636efa\", \"#EF553B\", \"#00cc96\", \"#ab63fa\", \"#FFA15A\", \"#19d3f3\", \"#FF6692\", \"#B6E880\", \"#FF97FF\", \"#FECB52\"], \"font\": {\"color\": \"#2a3f5f\"}, \"geo\": {\"bgcolor\": \"white\", \"lakecolor\": \"white\", \"landcolor\": \"#E5ECF6\", \"showlakes\": true, \"showland\": true, \"subunitcolor\": \"white\"}, \"hoverlabel\": {\"align\": \"left\"}, \"hovermode\": \"closest\", \"mapbox\": {\"style\": \"light\"}, \"paper_bgcolor\": \"white\", \"plot_bgcolor\": \"#E5ECF6\", \"polar\": {\"angularaxis\": {\"gridcolor\": \"white\", \"linecolor\": \"white\", \"ticks\": \"\"}, \"bgcolor\": \"#E5ECF6\", \"radialaxis\": {\"gridcolor\": \"white\", \"linecolor\": \"white\", \"ticks\": \"\"}}, \"scene\": {\"xaxis\": {\"backgroundcolor\": \"#E5ECF6\", \"gridcolor\": \"white\", \"gridwidth\": 2, \"linecolor\": \"white\", \"showbackground\": true, \"ticks\": \"\", \"zerolinecolor\": \"white\"}, \"yaxis\": {\"backgroundcolor\": \"#E5ECF6\", \"gridcolor\": \"white\", \"gridwidth\": 2, \"linecolor\": \"white\", \"showbackground\": true, \"ticks\": \"\", \"zerolinecolor\": \"white\"}, \"zaxis\": {\"backgroundcolor\": \"#E5ECF6\", \"gridcolor\": \"white\", \"gridwidth\": 2, \"linecolor\": \"white\", \"showbackground\": true, \"ticks\": \"\", \"zerolinecolor\": \"white\"}}, \"shapedefaults\": {\"line\": {\"color\": \"#2a3f5f\"}}, \"ternary\": {\"aaxis\": {\"gridcolor\": \"white\", \"linecolor\": \"white\", \"ticks\": \"\"}, \"baxis\": {\"gridcolor\": \"white\", \"linecolor\": \"white\", \"ticks\": \"\"}, \"bgcolor\": \"#E5ECF6\", \"caxis\": {\"gridcolor\": \"white\", \"linecolor\": \"white\", \"ticks\": \"\"}}, \"title\": {\"x\": 0.05}, \"xaxis\": {\"automargin\": true, \"gridcolor\": \"white\", \"linecolor\": \"white\", \"ticks\": \"\", \"title\": {\"standoff\": 15}, \"zerolinecolor\": \"white\", \"zerolinewidth\": 2}, \"yaxis\": {\"automargin\": true, \"gridcolor\": \"white\", \"linecolor\": \"white\", \"ticks\": \"\", \"title\": {\"standoff\": 15}, \"zerolinecolor\": \"white\", \"zerolinewidth\": 2}}}, \"title\": {\"text\": \"Curve Showing Different Cases from COVID-19 in Breves\"}},\n",
              "                        {\"responsive\": true}\n",
              "                    ).then(function(){\n",
              "                            \n",
              "var gd = document.getElementById('784364de-963f-4998-81c1-b0108a0e8f14');\n",
              "var x = new MutationObserver(function (mutations, observer) {{\n",
              "        var display = window.getComputedStyle(gd).display;\n",
              "        if (!display || display === 'none') {{\n",
              "            console.log([gd, 'removed!']);\n",
              "            Plotly.purge(gd);\n",
              "            observer.disconnect();\n",
              "        }}\n",
              "}});\n",
              "\n",
              "// Listen for the removal of the full notebook cells\n",
              "var notebookContainer = gd.closest('#notebook-container');\n",
              "if (notebookContainer) {{\n",
              "    x.observe(notebookContainer, {childList: true});\n",
              "}}\n",
              "\n",
              "// Listen for the clearing of the current output cell\n",
              "var outputEl = gd.closest('.output');\n",
              "if (outputEl) {{\n",
              "    x.observe(outputEl, {childList: true});\n",
              "}}\n",
              "\n",
              "                        })\n",
              "                };\n",
              "                });\n",
              "            </script>\n",
              "        </div>"
            ]
          },
          "metadata": {
            "tags": []
          }
        }
      ]
    },
    {
      "cell_type": "markdown",
      "metadata": {
        "id": "UmEYVbpBcw7D",
        "colab_type": "text"
      },
      "source": [
        "### 3 - Predicting the future with Facebook Prophet"
      ]
    },
    {
      "cell_type": "markdown",
      "metadata": {
        "id": "ojSbk4Qocw7E",
        "colab_type": "text"
      },
      "source": [
        "Existem alguns métodos diferentes para prever tendências futuras, por exemplo [ARIMA](https://en.wikipedia.org/wiki/Autoregressive_integrated_moving_average), [ARCH](https://en.wikipedia.org/wiki/Autoregressive_conditional_heteroskedasticity), [regressive models](https://en.wikipedia.org/wiki/Autoregressive_model), [neural networks](https://medium.com/machine-learning-world/neural-networks-for-algorithmic-trading-1-2-correct-time-series-forecasting-backtesting-9776bfd9e589).\n",
        "\n",
        "Neste trabalho, veremos o [Prophet] (https://facebook.github.io/prophet/), uma biblioteca para previsão de séries temporais lançada pelo Facebook e de código aberto em 23 de fevereiro de 2017. Também tentaremos no problema de prever o número de casos confirmados e mortes por COVID-19 em Breves/Pa.\n"
      ]
    },
    {
      "cell_type": "markdown",
      "metadata": {
        "id": "wIcJTuLxcw7E",
        "colab_type": "text"
      },
      "source": [
        "Agora, vamos dar uma olhada em como o Prophet funciona. Em sua essência, esta biblioteca utiliza o [additive regression model](https://en.wikipedia.org/wiki/Additive_model) $y(t)$ compreendendo os seguintes componentes:\n",
        "\n",
        "$$y(t) = g(t) + s(t) + h(t) + \\epsilon_{t},$$\n",
        "\n",
        "\n",
        "onde:\n",
        "* Tendência $g(t)$ mudanças não periódica.\n",
        "* Sazonalidade $s(t)$ representa a mudança periódica.\n",
        "* Components de feriados $h(t)$ contribui com informações sobre feriados e eventos.\n",
        "\n",
        "Below, we will consider some important properties of these model components."
      ]
    },
    {
      "cell_type": "markdown",
      "metadata": {
        "id": "xFZ0HVsZcw7F",
        "colab_type": "text"
      },
      "source": [
        "### Trend\n",
        "\n",
        "The Prophet library implements two possible trend models for $g(t)$.\n",
        "\n",
        "The first one is called *Nonlinear, Saturating Growth*. It is represented in the form of the [logistic growth model](https://en.wikipedia.org/wiki/Logistic_function):\n",
        "\n",
        "$$g(t) = \\frac{C}{1+e^{-k(t - m)}},$$\n",
        "\n",
        "where:\n",
        "* $C$ is the carrying capacity (that is the curve's maximum value).\n",
        "* $k$ is the growth rate (which represents \"the steepness\" of the curve).\n",
        "* $m$ is an offset parameter.\n",
        "\n",
        "This logistic equation allows modelling non-linear growth with saturation, that is when the growth rate of a value decreases with its growth. One of the typical examples would be representing the growth of the audience of an application or a website.\n",
        "\n",
        "Actually, $C$ and $k$ are not necessarily constants and may vary over time. Prophet supports both automatic and manual tuning of their variability. The library can itself choose optimal points of trend changes by fitting the supplied historical data. \n",
        "\n",
        "Also, Prophet allows analysts to manually set changepoints of the growth rate and capacity values at different points in time. For instance, analysts may have insights about dates of past releases that prominently influenced some key product indicators.\n",
        "\n",
        "The second trend model is a simple *Piecewise Linear Model* with a constant rate of growth. It is best suited for problems without saturating growth."
      ]
    },
    {
      "cell_type": "markdown",
      "metadata": {
        "id": "3omCOYT-cw7F",
        "colab_type": "text"
      },
      "source": [
        "### Seasonality\n",
        "\n",
        "The seasonal component $s(t)$ provides a flexible model of periodic changes due to weekly and yearly seasonality.\n",
        "\n",
        "Weekly seasonal data is modeled with dummy variables. Six new variables are added: `monday`, `tuesday`, `wednesday`, `thursday`, `friday`, `saturday`, which take values 0 or 1 depending on the day of the week. The feature `sunday` is not added because it would be a linear combination of the other days of the week, and this fact would have an adverse effect on the model.\n",
        "\n",
        "Yearly seasonality model in Prophet relies on Fourier series.\n",
        "\n",
        "Since [version 0.2](https://github.com/facebook/prophet) you can also use *sub-daily time series* and make *sub-daily forecasts* as well as employ the new *daily seasonality* feature."
      ]
    },
    {
      "cell_type": "markdown",
      "metadata": {
        "id": "4JzNNBYvcw7G",
        "colab_type": "text"
      },
      "source": [
        "### Holidays and Events\n",
        "\n",
        "The component $h(t)$ represents predictable abnormal days of the year including those on irregular schedules, e.g., Black Fridays.\n",
        "\n",
        "To utilize this feature, the analyst needs to provide a custom list of events."
      ]
    },
    {
      "cell_type": "markdown",
      "metadata": {
        "id": "9gmS7dptcw7G",
        "colab_type": "text"
      },
      "source": [
        "### Error\n",
        "\n",
        "The error term $\\epsilon(t)$ represents information that was not reflected in the model. Usually it is modeled as normally distributed noise."
      ]
    },
    {
      "cell_type": "markdown",
      "metadata": {
        "id": "or6Ggllpcw7G",
        "colab_type": "text"
      },
      "source": [
        "### 4 - SIMULAÇÃO PROPHET"
      ]
    },
    {
      "cell_type": "code",
      "metadata": {
        "id": "-cu5ZQdmcw7H",
        "colab_type": "code",
        "colab": {},
        "outputId": "17ba6d23-8a8b-4fde-99bd-42ec4d9cca10"
      },
      "source": [
        "#Forecasting of Total Cases for Next 30 Days\n",
        "df = df_breves.groupby('Date')['Confirmed'].sum().reset_index()\n",
        "df.columns = ['ds','y']\n",
        "df['ds'] = pd.to_datetime(df['ds'])\n",
        "m = Prophet()\n",
        "m.fit(df)\n",
        "future = m.make_future_dataframe(periods=30)\n",
        "forecast = m.predict(future)\n",
        "fig = go.Figure()\n",
        "fig.add_trace(go.Scatter(x=forecast['ds'], y=forecast['yhat'],\n",
        "                    mode='lines+markers',name='Predicted Cases',marker_color='Black'))\n",
        "fig.add_trace(go.Scatter(x=df['ds'], y=df['y'],\n",
        "                    mode='lines+markers',name='Actual Cases',marker_color='red'))\n",
        "fig.update_layout(\n",
        "    title='Forecasting of Confirmed Cases in BREVES for Next 30 Days')\n",
        "fig.show()"
      ],
      "execution_count": null,
      "outputs": [
        {
          "output_type": "stream",
          "text": [
            "INFO:fbprophet:Disabling yearly seasonality. Run prophet with yearly_seasonality=True to override this.\n",
            "INFO:fbprophet:Disabling daily seasonality. Run prophet with daily_seasonality=True to override this.\n"
          ],
          "name": "stderr"
        },
        {
          "output_type": "display_data",
          "data": {
            "application/vnd.plotly.v1+json": {
              "config": {
                "plotlyServerURL": "https://plot.ly"
              },
              "data": [
                {
                  "marker": {
                    "color": "Black"
                  },
                  "mode": "lines+markers",
                  "name": "Predicted Cases",
                  "type": "scatter",
                  "x": [
                    "2020-04-02T00:00:00",
                    "2020-04-03T00:00:00",
                    "2020-04-04T00:00:00",
                    "2020-04-05T00:00:00",
                    "2020-04-06T00:00:00",
                    "2020-04-07T00:00:00",
                    "2020-04-08T00:00:00",
                    "2020-04-09T00:00:00",
                    "2020-04-10T00:00:00",
                    "2020-04-11T00:00:00",
                    "2020-04-12T00:00:00",
                    "2020-04-13T00:00:00",
                    "2020-04-14T00:00:00",
                    "2020-04-15T00:00:00",
                    "2020-04-16T00:00:00",
                    "2020-04-17T00:00:00",
                    "2020-04-18T00:00:00",
                    "2020-04-19T00:00:00",
                    "2020-04-20T00:00:00",
                    "2020-04-21T00:00:00",
                    "2020-04-22T00:00:00",
                    "2020-04-23T00:00:00",
                    "2020-04-24T00:00:00",
                    "2020-04-25T00:00:00",
                    "2020-04-26T00:00:00",
                    "2020-04-27T00:00:00",
                    "2020-04-28T00:00:00",
                    "2020-04-29T00:00:00",
                    "2020-04-30T00:00:00",
                    "2020-05-01T00:00:00",
                    "2020-05-02T00:00:00",
                    "2020-05-03T00:00:00",
                    "2020-05-04T00:00:00",
                    "2020-05-05T00:00:00",
                    "2020-05-06T00:00:00",
                    "2020-05-07T00:00:00",
                    "2020-05-08T00:00:00",
                    "2020-05-09T00:00:00",
                    "2020-05-10T00:00:00",
                    "2020-05-11T00:00:00",
                    "2020-05-12T00:00:00",
                    "2020-05-13T00:00:00",
                    "2020-05-14T00:00:00",
                    "2020-05-15T00:00:00",
                    "2020-05-16T00:00:00",
                    "2020-05-17T00:00:00",
                    "2020-05-18T00:00:00",
                    "2020-05-19T00:00:00",
                    "2020-05-20T00:00:00",
                    "2020-05-21T00:00:00",
                    "2020-05-22T00:00:00",
                    "2020-05-23T00:00:00",
                    "2020-05-24T00:00:00",
                    "2020-05-25T00:00:00",
                    "2020-05-26T00:00:00",
                    "2020-05-27T00:00:00",
                    "2020-05-28T00:00:00",
                    "2020-05-29T00:00:00",
                    "2020-05-30T00:00:00",
                    "2020-05-31T00:00:00",
                    "2020-06-01T00:00:00",
                    "2020-06-02T00:00:00",
                    "2020-06-03T00:00:00",
                    "2020-06-04T00:00:00",
                    "2020-06-05T00:00:00",
                    "2020-06-06T00:00:00",
                    "2020-06-07T00:00:00",
                    "2020-06-08T00:00:00",
                    "2020-06-09T00:00:00",
                    "2020-06-10T00:00:00",
                    "2020-06-11T00:00:00",
                    "2020-06-12T00:00:00",
                    "2020-06-13T00:00:00",
                    "2020-06-14T00:00:00",
                    "2020-06-15T00:00:00",
                    "2020-06-16T00:00:00",
                    "2020-06-17T00:00:00",
                    "2020-06-18T00:00:00",
                    "2020-06-19T00:00:00",
                    "2020-06-20T00:00:00",
                    "2020-06-21T00:00:00",
                    "2020-06-22T00:00:00",
                    "2020-06-23T00:00:00",
                    "2020-06-24T00:00:00",
                    "2020-06-25T00:00:00",
                    "2020-06-26T00:00:00",
                    "2020-06-27T00:00:00",
                    "2020-06-28T00:00:00",
                    "2020-06-29T00:00:00",
                    "2020-06-30T00:00:00",
                    "2020-07-01T00:00:00",
                    "2020-07-02T00:00:00",
                    "2020-07-03T00:00:00",
                    "2020-07-04T00:00:00",
                    "2020-07-05T00:00:00",
                    "2020-07-06T00:00:00",
                    "2020-07-07T00:00:00",
                    "2020-07-08T00:00:00",
                    "2020-07-09T00:00:00",
                    "2020-07-10T00:00:00",
                    "2020-07-11T00:00:00",
                    "2020-07-12T00:00:00",
                    "2020-07-13T00:00:00",
                    "2020-07-14T00:00:00",
                    "2020-07-15T00:00:00",
                    "2020-07-16T00:00:00",
                    "2020-07-17T00:00:00",
                    "2020-07-18T00:00:00",
                    "2020-07-19T00:00:00",
                    "2020-07-20T00:00:00",
                    "2020-07-21T00:00:00",
                    "2020-07-22T00:00:00",
                    "2020-07-23T00:00:00",
                    "2020-07-24T00:00:00",
                    "2020-07-25T00:00:00",
                    "2020-07-26T00:00:00",
                    "2020-07-27T00:00:00",
                    "2020-07-28T00:00:00",
                    "2020-07-29T00:00:00",
                    "2020-07-30T00:00:00",
                    "2020-07-31T00:00:00",
                    "2020-08-01T00:00:00",
                    "2020-08-02T00:00:00",
                    "2020-08-03T00:00:00",
                    "2020-08-04T00:00:00",
                    "2020-08-05T00:00:00",
                    "2020-08-06T00:00:00",
                    "2020-08-07T00:00:00",
                    "2020-08-08T00:00:00",
                    "2020-08-09T00:00:00",
                    "2020-08-10T00:00:00",
                    "2020-08-11T00:00:00",
                    "2020-08-12T00:00:00"
                  ],
                  "y": [
                    -6.52442892253811,
                    -6.333377925268624,
                    -8.48429101770266,
                    -10.29281043283644,
                    -8.952959044652578,
                    -0.5133218533073669,
                    0.675762582245973,
                    -0.8953258165594207,
                    -0.7042746898062715,
                    -2.85518765277066,
                    -4.663706938428648,
                    -3.3238553849174988,
                    5.115781971751177,
                    6.304866572625148,
                    4.734315802278158,
                    4.92590455747373,
                    2.7755292229586273,
                    0.9687899988655859,
                    2.3104214594506636,
                    10.751838723164777,
                    14.016566322611236,
                    14.521121076868312,
                    16.78781535666426,
                    16.712545546754654,
                    20.68872873678103,
                    27.813282611468995,
                    42.03762228932826,
                    53.959890610869834,
                    63.12198608722207,
                    74.04622108911988,
                    86.76207888427322,
                    99.8203303567174,
                    116.02695251384246,
                    140.70264689206735,
                    158.1277885145042,
                    172.79275729175907,
                    189.21986559455587,
                    203.3050098462418,
                    217.73254777521402,
                    235.30845638887246,
                    259.9841508215378,
                    277.40929249841423,
                    292.0742613300964,
                    308.4130129279846,
                    322.4098004361606,
                    336.74898162163527,
                    352.01122033888356,
                    374.3732448593295,
                    389.48471662395656,
                    401.83601554339333,
                    415.94876235338353,
                    427.71954507365723,
                    439.8327214712379,
                    455.09426852892744,
                    477.45560138981824,
                    492.56638149488685,
                    504.916988769665,
                    519.029735569985,
                    530.8005182805933,
                    544.1972594929989,
                    560.7423713900662,
                    584.3872690903273,
                    600.7816140347602,
                    619.1707913235301,
                    639.3221081378487,
                    657.1314608624489,
                    678.1533861610536,
                    702.3236821443201,
                    733.5937639307531,
                    757.6132929703492,
                    778.8726491647517,
                    801.8941448847032,
                    822.5736765130546,
                    843.5956018187308,
                    867.7658978090612,
                    899.0359796025617,
                    923.0555086671486,
                    944.3148648865557,
                    967.3363606315129,
                    988.0158921287767,
                    1009.0378173033417,
                    1033.2081131625762,
                    1063.1319203189905,
                    1085.8051747196043,
                    1105.7182562750543,
                    1127.3934773560388,
                    1146.726734347314,
                    1166.4023850158965,
                    1189.2264063691548,
                    1219.1502135255703,
                    1241.8234679261861,
                    1261.7365494816258,
                    1283.4117705626086,
                    1302.7450275538845,
                    1322.420678222468,
                    1345.24469957571,
                    1375.1685067321466,
                    1397.8417611327593,
                    1417.754842688202,
                    1439.4300637691877,
                    1458.7633207604576,
                    1478.4389714290419,
                    1501.2629927822882,
                    1531.1867999387234,
                    1553.860054339333,
                    1573.773135894778,
                    1595.4483569757604,
                    1614.7816139670442,
                    1634.4572646356137,
                    1657.2812859888652,
                    1687.2050931453,
                    1709.8783475459097,
                    1729.7914291013442,
                    1751.4666501823347,
                    1770.7999071736142,
                    1790.475557842186,
                    1813.2995791954443,
                    1843.2233863518604,
                    1865.896640752488,
                    1885.809722307921,
                    1907.484943388909,
                    1926.8182003801849,
                    1946.4938510487655,
                    1969.3178724020213,
                    1999.241679558437,
                    2021.9149339590567,
                    2041.8280155144919,
                    2063.5032365954835,
                    2082.8364935867585,
                    2102.512144255339,
                    2125.3361656085995,
                    2155.259972765014,
                    2177.933227165631
                  ]
                },
                {
                  "marker": {
                    "color": "red"
                  },
                  "mode": "lines+markers",
                  "name": "Actual Cases",
                  "type": "scatter",
                  "x": [
                    "2020-04-02T00:00:00",
                    "2020-04-03T00:00:00",
                    "2020-04-04T00:00:00",
                    "2020-04-05T00:00:00",
                    "2020-04-06T00:00:00",
                    "2020-04-07T00:00:00",
                    "2020-04-08T00:00:00",
                    "2020-04-09T00:00:00",
                    "2020-04-10T00:00:00",
                    "2020-04-11T00:00:00",
                    "2020-04-12T00:00:00",
                    "2020-04-13T00:00:00",
                    "2020-04-14T00:00:00",
                    "2020-04-15T00:00:00",
                    "2020-04-16T00:00:00",
                    "2020-04-17T00:00:00",
                    "2020-04-18T00:00:00",
                    "2020-04-19T00:00:00",
                    "2020-04-20T00:00:00",
                    "2020-04-21T00:00:00",
                    "2020-04-22T00:00:00",
                    "2020-04-23T00:00:00",
                    "2020-04-24T00:00:00",
                    "2020-04-25T00:00:00",
                    "2020-04-26T00:00:00",
                    "2020-04-27T00:00:00",
                    "2020-04-28T00:00:00",
                    "2020-04-29T00:00:00",
                    "2020-04-30T00:00:00",
                    "2020-05-01T00:00:00",
                    "2020-05-02T00:00:00",
                    "2020-05-03T00:00:00",
                    "2020-05-04T00:00:00",
                    "2020-05-05T00:00:00",
                    "2020-05-06T00:00:00",
                    "2020-05-07T00:00:00",
                    "2020-05-08T00:00:00",
                    "2020-05-09T00:00:00",
                    "2020-05-10T00:00:00",
                    "2020-05-11T00:00:00",
                    "2020-05-12T00:00:00",
                    "2020-05-13T00:00:00",
                    "2020-05-14T00:00:00",
                    "2020-05-15T00:00:00",
                    "2020-05-16T00:00:00",
                    "2020-05-17T00:00:00",
                    "2020-05-18T00:00:00",
                    "2020-05-19T00:00:00",
                    "2020-05-20T00:00:00",
                    "2020-05-21T00:00:00",
                    "2020-05-22T00:00:00",
                    "2020-05-23T00:00:00",
                    "2020-05-24T00:00:00",
                    "2020-05-25T00:00:00",
                    "2020-05-26T00:00:00",
                    "2020-05-27T00:00:00",
                    "2020-05-28T00:00:00",
                    "2020-05-29T00:00:00",
                    "2020-05-30T00:00:00",
                    "2020-05-31T00:00:00",
                    "2020-06-01T00:00:00",
                    "2020-06-02T00:00:00",
                    "2020-06-03T00:00:00",
                    "2020-06-04T00:00:00",
                    "2020-06-05T00:00:00",
                    "2020-06-06T00:00:00",
                    "2020-06-07T00:00:00",
                    "2020-06-08T00:00:00",
                    "2020-06-09T00:00:00",
                    "2020-06-10T00:00:00",
                    "2020-06-11T00:00:00",
                    "2020-06-12T00:00:00",
                    "2020-06-13T00:00:00",
                    "2020-06-14T00:00:00",
                    "2020-06-15T00:00:00",
                    "2020-06-16T00:00:00",
                    "2020-06-17T00:00:00",
                    "2020-06-18T00:00:00",
                    "2020-06-19T00:00:00",
                    "2020-06-20T00:00:00",
                    "2020-06-21T00:00:00",
                    "2020-06-22T00:00:00",
                    "2020-06-23T00:00:00",
                    "2020-06-24T00:00:00",
                    "2020-06-25T00:00:00",
                    "2020-06-26T00:00:00",
                    "2020-06-27T00:00:00",
                    "2020-06-28T00:00:00",
                    "2020-06-29T00:00:00",
                    "2020-06-30T00:00:00",
                    "2020-07-01T00:00:00",
                    "2020-07-02T00:00:00",
                    "2020-07-03T00:00:00",
                    "2020-07-04T00:00:00",
                    "2020-07-05T00:00:00",
                    "2020-07-06T00:00:00",
                    "2020-07-07T00:00:00",
                    "2020-07-08T00:00:00",
                    "2020-07-09T00:00:00",
                    "2020-07-10T00:00:00",
                    "2020-07-11T00:00:00",
                    "2020-07-12T00:00:00",
                    "2020-07-13T00:00:00"
                  ],
                  "y": [
                    0,
                    0,
                    0,
                    0,
                    0,
                    0,
                    0,
                    0,
                    0,
                    0,
                    0,
                    0,
                    0,
                    0,
                    0,
                    0,
                    2,
                    2,
                    2,
                    2,
                    7,
                    9,
                    13,
                    13,
                    17,
                    27,
                    32,
                    37,
                    53,
                    67,
                    74,
                    90,
                    106,
                    116,
                    142,
                    150,
                    174,
                    204,
                    222,
                    242,
                    272,
                    295,
                    318,
                    332,
                    346,
                    374,
                    386,
                    407,
                    421,
                    425,
                    436,
                    444,
                    447,
                    459,
                    474,
                    484,
                    488,
                    496,
                    513,
                    523,
                    537,
                    551,
                    567,
                    585,
                    629,
                    653,
                    692,
                    709,
                    741,
                    764,
                    782,
                    794,
                    805,
                    820,
                    863,
                    885,
                    907,
                    919,
                    933,
                    947,
                    966,
                    1015,
                    1090,
                    1125,
                    1158,
                    1178,
                    1194,
                    1208,
                    1230,
                    1251,
                    1273,
                    1295,
                    1318,
                    1336,
                    1347,
                    1355,
                    1364,
                    1377,
                    1392,
                    1410,
                    1424,
                    1435,
                    1445
                  ]
                }
              ],
              "layout": {
                "template": {
                  "data": {
                    "bar": [
                      {
                        "error_x": {
                          "color": "#2a3f5f"
                        },
                        "error_y": {
                          "color": "#2a3f5f"
                        },
                        "marker": {
                          "line": {
                            "color": "#E5ECF6",
                            "width": 0.5
                          }
                        },
                        "type": "bar"
                      }
                    ],
                    "barpolar": [
                      {
                        "marker": {
                          "line": {
                            "color": "#E5ECF6",
                            "width": 0.5
                          }
                        },
                        "type": "barpolar"
                      }
                    ],
                    "carpet": [
                      {
                        "aaxis": {
                          "endlinecolor": "#2a3f5f",
                          "gridcolor": "white",
                          "linecolor": "white",
                          "minorgridcolor": "white",
                          "startlinecolor": "#2a3f5f"
                        },
                        "baxis": {
                          "endlinecolor": "#2a3f5f",
                          "gridcolor": "white",
                          "linecolor": "white",
                          "minorgridcolor": "white",
                          "startlinecolor": "#2a3f5f"
                        },
                        "type": "carpet"
                      }
                    ],
                    "choropleth": [
                      {
                        "colorbar": {
                          "outlinewidth": 0,
                          "ticks": ""
                        },
                        "type": "choropleth"
                      }
                    ],
                    "contour": [
                      {
                        "colorbar": {
                          "outlinewidth": 0,
                          "ticks": ""
                        },
                        "colorscale": [
                          [
                            0,
                            "#0d0887"
                          ],
                          [
                            0.1111111111111111,
                            "#46039f"
                          ],
                          [
                            0.2222222222222222,
                            "#7201a8"
                          ],
                          [
                            0.3333333333333333,
                            "#9c179e"
                          ],
                          [
                            0.4444444444444444,
                            "#bd3786"
                          ],
                          [
                            0.5555555555555556,
                            "#d8576b"
                          ],
                          [
                            0.6666666666666666,
                            "#ed7953"
                          ],
                          [
                            0.7777777777777778,
                            "#fb9f3a"
                          ],
                          [
                            0.8888888888888888,
                            "#fdca26"
                          ],
                          [
                            1,
                            "#f0f921"
                          ]
                        ],
                        "type": "contour"
                      }
                    ],
                    "contourcarpet": [
                      {
                        "colorbar": {
                          "outlinewidth": 0,
                          "ticks": ""
                        },
                        "type": "contourcarpet"
                      }
                    ],
                    "heatmap": [
                      {
                        "colorbar": {
                          "outlinewidth": 0,
                          "ticks": ""
                        },
                        "colorscale": [
                          [
                            0,
                            "#0d0887"
                          ],
                          [
                            0.1111111111111111,
                            "#46039f"
                          ],
                          [
                            0.2222222222222222,
                            "#7201a8"
                          ],
                          [
                            0.3333333333333333,
                            "#9c179e"
                          ],
                          [
                            0.4444444444444444,
                            "#bd3786"
                          ],
                          [
                            0.5555555555555556,
                            "#d8576b"
                          ],
                          [
                            0.6666666666666666,
                            "#ed7953"
                          ],
                          [
                            0.7777777777777778,
                            "#fb9f3a"
                          ],
                          [
                            0.8888888888888888,
                            "#fdca26"
                          ],
                          [
                            1,
                            "#f0f921"
                          ]
                        ],
                        "type": "heatmap"
                      }
                    ],
                    "heatmapgl": [
                      {
                        "colorbar": {
                          "outlinewidth": 0,
                          "ticks": ""
                        },
                        "colorscale": [
                          [
                            0,
                            "#0d0887"
                          ],
                          [
                            0.1111111111111111,
                            "#46039f"
                          ],
                          [
                            0.2222222222222222,
                            "#7201a8"
                          ],
                          [
                            0.3333333333333333,
                            "#9c179e"
                          ],
                          [
                            0.4444444444444444,
                            "#bd3786"
                          ],
                          [
                            0.5555555555555556,
                            "#d8576b"
                          ],
                          [
                            0.6666666666666666,
                            "#ed7953"
                          ],
                          [
                            0.7777777777777778,
                            "#fb9f3a"
                          ],
                          [
                            0.8888888888888888,
                            "#fdca26"
                          ],
                          [
                            1,
                            "#f0f921"
                          ]
                        ],
                        "type": "heatmapgl"
                      }
                    ],
                    "histogram": [
                      {
                        "marker": {
                          "colorbar": {
                            "outlinewidth": 0,
                            "ticks": ""
                          }
                        },
                        "type": "histogram"
                      }
                    ],
                    "histogram2d": [
                      {
                        "colorbar": {
                          "outlinewidth": 0,
                          "ticks": ""
                        },
                        "colorscale": [
                          [
                            0,
                            "#0d0887"
                          ],
                          [
                            0.1111111111111111,
                            "#46039f"
                          ],
                          [
                            0.2222222222222222,
                            "#7201a8"
                          ],
                          [
                            0.3333333333333333,
                            "#9c179e"
                          ],
                          [
                            0.4444444444444444,
                            "#bd3786"
                          ],
                          [
                            0.5555555555555556,
                            "#d8576b"
                          ],
                          [
                            0.6666666666666666,
                            "#ed7953"
                          ],
                          [
                            0.7777777777777778,
                            "#fb9f3a"
                          ],
                          [
                            0.8888888888888888,
                            "#fdca26"
                          ],
                          [
                            1,
                            "#f0f921"
                          ]
                        ],
                        "type": "histogram2d"
                      }
                    ],
                    "histogram2dcontour": [
                      {
                        "colorbar": {
                          "outlinewidth": 0,
                          "ticks": ""
                        },
                        "colorscale": [
                          [
                            0,
                            "#0d0887"
                          ],
                          [
                            0.1111111111111111,
                            "#46039f"
                          ],
                          [
                            0.2222222222222222,
                            "#7201a8"
                          ],
                          [
                            0.3333333333333333,
                            "#9c179e"
                          ],
                          [
                            0.4444444444444444,
                            "#bd3786"
                          ],
                          [
                            0.5555555555555556,
                            "#d8576b"
                          ],
                          [
                            0.6666666666666666,
                            "#ed7953"
                          ],
                          [
                            0.7777777777777778,
                            "#fb9f3a"
                          ],
                          [
                            0.8888888888888888,
                            "#fdca26"
                          ],
                          [
                            1,
                            "#f0f921"
                          ]
                        ],
                        "type": "histogram2dcontour"
                      }
                    ],
                    "mesh3d": [
                      {
                        "colorbar": {
                          "outlinewidth": 0,
                          "ticks": ""
                        },
                        "type": "mesh3d"
                      }
                    ],
                    "parcoords": [
                      {
                        "line": {
                          "colorbar": {
                            "outlinewidth": 0,
                            "ticks": ""
                          }
                        },
                        "type": "parcoords"
                      }
                    ],
                    "pie": [
                      {
                        "automargin": true,
                        "type": "pie"
                      }
                    ],
                    "scatter": [
                      {
                        "marker": {
                          "colorbar": {
                            "outlinewidth": 0,
                            "ticks": ""
                          }
                        },
                        "type": "scatter"
                      }
                    ],
                    "scatter3d": [
                      {
                        "line": {
                          "colorbar": {
                            "outlinewidth": 0,
                            "ticks": ""
                          }
                        },
                        "marker": {
                          "colorbar": {
                            "outlinewidth": 0,
                            "ticks": ""
                          }
                        },
                        "type": "scatter3d"
                      }
                    ],
                    "scattercarpet": [
                      {
                        "marker": {
                          "colorbar": {
                            "outlinewidth": 0,
                            "ticks": ""
                          }
                        },
                        "type": "scattercarpet"
                      }
                    ],
                    "scattergeo": [
                      {
                        "marker": {
                          "colorbar": {
                            "outlinewidth": 0,
                            "ticks": ""
                          }
                        },
                        "type": "scattergeo"
                      }
                    ],
                    "scattergl": [
                      {
                        "marker": {
                          "colorbar": {
                            "outlinewidth": 0,
                            "ticks": ""
                          }
                        },
                        "type": "scattergl"
                      }
                    ],
                    "scattermapbox": [
                      {
                        "marker": {
                          "colorbar": {
                            "outlinewidth": 0,
                            "ticks": ""
                          }
                        },
                        "type": "scattermapbox"
                      }
                    ],
                    "scatterpolar": [
                      {
                        "marker": {
                          "colorbar": {
                            "outlinewidth": 0,
                            "ticks": ""
                          }
                        },
                        "type": "scatterpolar"
                      }
                    ],
                    "scatterpolargl": [
                      {
                        "marker": {
                          "colorbar": {
                            "outlinewidth": 0,
                            "ticks": ""
                          }
                        },
                        "type": "scatterpolargl"
                      }
                    ],
                    "scatterternary": [
                      {
                        "marker": {
                          "colorbar": {
                            "outlinewidth": 0,
                            "ticks": ""
                          }
                        },
                        "type": "scatterternary"
                      }
                    ],
                    "surface": [
                      {
                        "colorbar": {
                          "outlinewidth": 0,
                          "ticks": ""
                        },
                        "colorscale": [
                          [
                            0,
                            "#0d0887"
                          ],
                          [
                            0.1111111111111111,
                            "#46039f"
                          ],
                          [
                            0.2222222222222222,
                            "#7201a8"
                          ],
                          [
                            0.3333333333333333,
                            "#9c179e"
                          ],
                          [
                            0.4444444444444444,
                            "#bd3786"
                          ],
                          [
                            0.5555555555555556,
                            "#d8576b"
                          ],
                          [
                            0.6666666666666666,
                            "#ed7953"
                          ],
                          [
                            0.7777777777777778,
                            "#fb9f3a"
                          ],
                          [
                            0.8888888888888888,
                            "#fdca26"
                          ],
                          [
                            1,
                            "#f0f921"
                          ]
                        ],
                        "type": "surface"
                      }
                    ],
                    "table": [
                      {
                        "cells": {
                          "fill": {
                            "color": "#EBF0F8"
                          },
                          "line": {
                            "color": "white"
                          }
                        },
                        "header": {
                          "fill": {
                            "color": "#C8D4E3"
                          },
                          "line": {
                            "color": "white"
                          }
                        },
                        "type": "table"
                      }
                    ]
                  },
                  "layout": {
                    "annotationdefaults": {
                      "arrowcolor": "#2a3f5f",
                      "arrowhead": 0,
                      "arrowwidth": 1
                    },
                    "coloraxis": {
                      "colorbar": {
                        "outlinewidth": 0,
                        "ticks": ""
                      }
                    },
                    "colorscale": {
                      "diverging": [
                        [
                          0,
                          "#8e0152"
                        ],
                        [
                          0.1,
                          "#c51b7d"
                        ],
                        [
                          0.2,
                          "#de77ae"
                        ],
                        [
                          0.3,
                          "#f1b6da"
                        ],
                        [
                          0.4,
                          "#fde0ef"
                        ],
                        [
                          0.5,
                          "#f7f7f7"
                        ],
                        [
                          0.6,
                          "#e6f5d0"
                        ],
                        [
                          0.7,
                          "#b8e186"
                        ],
                        [
                          0.8,
                          "#7fbc41"
                        ],
                        [
                          0.9,
                          "#4d9221"
                        ],
                        [
                          1,
                          "#276419"
                        ]
                      ],
                      "sequential": [
                        [
                          0,
                          "#0d0887"
                        ],
                        [
                          0.1111111111111111,
                          "#46039f"
                        ],
                        [
                          0.2222222222222222,
                          "#7201a8"
                        ],
                        [
                          0.3333333333333333,
                          "#9c179e"
                        ],
                        [
                          0.4444444444444444,
                          "#bd3786"
                        ],
                        [
                          0.5555555555555556,
                          "#d8576b"
                        ],
                        [
                          0.6666666666666666,
                          "#ed7953"
                        ],
                        [
                          0.7777777777777778,
                          "#fb9f3a"
                        ],
                        [
                          0.8888888888888888,
                          "#fdca26"
                        ],
                        [
                          1,
                          "#f0f921"
                        ]
                      ],
                      "sequentialminus": [
                        [
                          0,
                          "#0d0887"
                        ],
                        [
                          0.1111111111111111,
                          "#46039f"
                        ],
                        [
                          0.2222222222222222,
                          "#7201a8"
                        ],
                        [
                          0.3333333333333333,
                          "#9c179e"
                        ],
                        [
                          0.4444444444444444,
                          "#bd3786"
                        ],
                        [
                          0.5555555555555556,
                          "#d8576b"
                        ],
                        [
                          0.6666666666666666,
                          "#ed7953"
                        ],
                        [
                          0.7777777777777778,
                          "#fb9f3a"
                        ],
                        [
                          0.8888888888888888,
                          "#fdca26"
                        ],
                        [
                          1,
                          "#f0f921"
                        ]
                      ]
                    },
                    "colorway": [
                      "#636efa",
                      "#EF553B",
                      "#00cc96",
                      "#ab63fa",
                      "#FFA15A",
                      "#19d3f3",
                      "#FF6692",
                      "#B6E880",
                      "#FF97FF",
                      "#FECB52"
                    ],
                    "font": {
                      "color": "#2a3f5f"
                    },
                    "geo": {
                      "bgcolor": "white",
                      "lakecolor": "white",
                      "landcolor": "#E5ECF6",
                      "showlakes": true,
                      "showland": true,
                      "subunitcolor": "white"
                    },
                    "hoverlabel": {
                      "align": "left"
                    },
                    "hovermode": "closest",
                    "mapbox": {
                      "style": "light"
                    },
                    "paper_bgcolor": "white",
                    "plot_bgcolor": "#E5ECF6",
                    "polar": {
                      "angularaxis": {
                        "gridcolor": "white",
                        "linecolor": "white",
                        "ticks": ""
                      },
                      "bgcolor": "#E5ECF6",
                      "radialaxis": {
                        "gridcolor": "white",
                        "linecolor": "white",
                        "ticks": ""
                      }
                    },
                    "scene": {
                      "xaxis": {
                        "backgroundcolor": "#E5ECF6",
                        "gridcolor": "white",
                        "gridwidth": 2,
                        "linecolor": "white",
                        "showbackground": true,
                        "ticks": "",
                        "zerolinecolor": "white"
                      },
                      "yaxis": {
                        "backgroundcolor": "#E5ECF6",
                        "gridcolor": "white",
                        "gridwidth": 2,
                        "linecolor": "white",
                        "showbackground": true,
                        "ticks": "",
                        "zerolinecolor": "white"
                      },
                      "zaxis": {
                        "backgroundcolor": "#E5ECF6",
                        "gridcolor": "white",
                        "gridwidth": 2,
                        "linecolor": "white",
                        "showbackground": true,
                        "ticks": "",
                        "zerolinecolor": "white"
                      }
                    },
                    "shapedefaults": {
                      "line": {
                        "color": "#2a3f5f"
                      }
                    },
                    "ternary": {
                      "aaxis": {
                        "gridcolor": "white",
                        "linecolor": "white",
                        "ticks": ""
                      },
                      "baxis": {
                        "gridcolor": "white",
                        "linecolor": "white",
                        "ticks": ""
                      },
                      "bgcolor": "#E5ECF6",
                      "caxis": {
                        "gridcolor": "white",
                        "linecolor": "white",
                        "ticks": ""
                      }
                    },
                    "title": {
                      "x": 0.05
                    },
                    "xaxis": {
                      "automargin": true,
                      "gridcolor": "white",
                      "linecolor": "white",
                      "ticks": "",
                      "title": {
                        "standoff": 15
                      },
                      "zerolinecolor": "white",
                      "zerolinewidth": 2
                    },
                    "yaxis": {
                      "automargin": true,
                      "gridcolor": "white",
                      "linecolor": "white",
                      "ticks": "",
                      "title": {
                        "standoff": 15
                      },
                      "zerolinecolor": "white",
                      "zerolinewidth": 2
                    }
                  }
                },
                "title": {
                  "text": "Forecasting of Confirmed Cases in BREVES for Next 30 Days"
                }
              }
            },
            "text/html": [
              "<div>\n",
              "        \n",
              "        \n",
              "            <div id=\"3230f2c6-08ea-402a-9525-151e641f2bb4\" class=\"plotly-graph-div\" style=\"height:525px; width:100%;\"></div>\n",
              "            <script type=\"text/javascript\">\n",
              "                require([\"plotly\"], function(Plotly) {\n",
              "                    window.PLOTLYENV=window.PLOTLYENV || {};\n",
              "                    \n",
              "                if (document.getElementById(\"3230f2c6-08ea-402a-9525-151e641f2bb4\")) {\n",
              "                    Plotly.newPlot(\n",
              "                        '3230f2c6-08ea-402a-9525-151e641f2bb4',\n",
              "                        [{\"marker\": {\"color\": \"Black\"}, \"mode\": \"lines+markers\", \"name\": \"Predicted Cases\", \"type\": \"scatter\", \"x\": [\"2020-04-02T00:00:00\", \"2020-04-03T00:00:00\", \"2020-04-04T00:00:00\", \"2020-04-05T00:00:00\", \"2020-04-06T00:00:00\", \"2020-04-07T00:00:00\", \"2020-04-08T00:00:00\", \"2020-04-09T00:00:00\", \"2020-04-10T00:00:00\", \"2020-04-11T00:00:00\", \"2020-04-12T00:00:00\", \"2020-04-13T00:00:00\", \"2020-04-14T00:00:00\", \"2020-04-15T00:00:00\", \"2020-04-16T00:00:00\", \"2020-04-17T00:00:00\", \"2020-04-18T00:00:00\", \"2020-04-19T00:00:00\", \"2020-04-20T00:00:00\", \"2020-04-21T00:00:00\", \"2020-04-22T00:00:00\", \"2020-04-23T00:00:00\", \"2020-04-24T00:00:00\", \"2020-04-25T00:00:00\", \"2020-04-26T00:00:00\", \"2020-04-27T00:00:00\", \"2020-04-28T00:00:00\", \"2020-04-29T00:00:00\", \"2020-04-30T00:00:00\", \"2020-05-01T00:00:00\", \"2020-05-02T00:00:00\", \"2020-05-03T00:00:00\", \"2020-05-04T00:00:00\", \"2020-05-05T00:00:00\", \"2020-05-06T00:00:00\", \"2020-05-07T00:00:00\", \"2020-05-08T00:00:00\", \"2020-05-09T00:00:00\", \"2020-05-10T00:00:00\", \"2020-05-11T00:00:00\", \"2020-05-12T00:00:00\", \"2020-05-13T00:00:00\", \"2020-05-14T00:00:00\", \"2020-05-15T00:00:00\", \"2020-05-16T00:00:00\", \"2020-05-17T00:00:00\", \"2020-05-18T00:00:00\", \"2020-05-19T00:00:00\", \"2020-05-20T00:00:00\", \"2020-05-21T00:00:00\", \"2020-05-22T00:00:00\", \"2020-05-23T00:00:00\", \"2020-05-24T00:00:00\", \"2020-05-25T00:00:00\", \"2020-05-26T00:00:00\", \"2020-05-27T00:00:00\", \"2020-05-28T00:00:00\", \"2020-05-29T00:00:00\", \"2020-05-30T00:00:00\", \"2020-05-31T00:00:00\", \"2020-06-01T00:00:00\", \"2020-06-02T00:00:00\", \"2020-06-03T00:00:00\", \"2020-06-04T00:00:00\", \"2020-06-05T00:00:00\", \"2020-06-06T00:00:00\", \"2020-06-07T00:00:00\", \"2020-06-08T00:00:00\", \"2020-06-09T00:00:00\", \"2020-06-10T00:00:00\", \"2020-06-11T00:00:00\", \"2020-06-12T00:00:00\", \"2020-06-13T00:00:00\", \"2020-06-14T00:00:00\", \"2020-06-15T00:00:00\", \"2020-06-16T00:00:00\", \"2020-06-17T00:00:00\", \"2020-06-18T00:00:00\", \"2020-06-19T00:00:00\", \"2020-06-20T00:00:00\", \"2020-06-21T00:00:00\", \"2020-06-22T00:00:00\", \"2020-06-23T00:00:00\", \"2020-06-24T00:00:00\", \"2020-06-25T00:00:00\", \"2020-06-26T00:00:00\", \"2020-06-27T00:00:00\", \"2020-06-28T00:00:00\", \"2020-06-29T00:00:00\", \"2020-06-30T00:00:00\", \"2020-07-01T00:00:00\", \"2020-07-02T00:00:00\", \"2020-07-03T00:00:00\", \"2020-07-04T00:00:00\", \"2020-07-05T00:00:00\", \"2020-07-06T00:00:00\", \"2020-07-07T00:00:00\", \"2020-07-08T00:00:00\", \"2020-07-09T00:00:00\", \"2020-07-10T00:00:00\", \"2020-07-11T00:00:00\", \"2020-07-12T00:00:00\", \"2020-07-13T00:00:00\", \"2020-07-14T00:00:00\", \"2020-07-15T00:00:00\", \"2020-07-16T00:00:00\", \"2020-07-17T00:00:00\", \"2020-07-18T00:00:00\", \"2020-07-19T00:00:00\", \"2020-07-20T00:00:00\", \"2020-07-21T00:00:00\", \"2020-07-22T00:00:00\", \"2020-07-23T00:00:00\", \"2020-07-24T00:00:00\", \"2020-07-25T00:00:00\", \"2020-07-26T00:00:00\", \"2020-07-27T00:00:00\", \"2020-07-28T00:00:00\", \"2020-07-29T00:00:00\", \"2020-07-30T00:00:00\", \"2020-07-31T00:00:00\", \"2020-08-01T00:00:00\", \"2020-08-02T00:00:00\", \"2020-08-03T00:00:00\", \"2020-08-04T00:00:00\", \"2020-08-05T00:00:00\", \"2020-08-06T00:00:00\", \"2020-08-07T00:00:00\", \"2020-08-08T00:00:00\", \"2020-08-09T00:00:00\", \"2020-08-10T00:00:00\", \"2020-08-11T00:00:00\", \"2020-08-12T00:00:00\"], \"y\": [-6.52442892253811, -6.333377925268624, -8.48429101770266, -10.29281043283644, -8.952959044652578, -0.5133218533073669, 0.675762582245973, -0.8953258165594207, -0.7042746898062715, -2.85518765277066, -4.663706938428648, -3.3238553849174988, 5.115781971751177, 6.304866572625148, 4.734315802278158, 4.92590455747373, 2.7755292229586273, 0.9687899988655859, 2.3104214594506636, 10.751838723164777, 14.016566322611236, 14.521121076868312, 16.78781535666426, 16.712545546754654, 20.68872873678103, 27.813282611468995, 42.03762228932826, 53.959890610869834, 63.12198608722207, 74.04622108911988, 86.76207888427322, 99.8203303567174, 116.02695251384246, 140.70264689206735, 158.1277885145042, 172.79275729175907, 189.21986559455587, 203.3050098462418, 217.73254777521402, 235.30845638887246, 259.9841508215378, 277.40929249841423, 292.0742613300964, 308.4130129279846, 322.4098004361606, 336.74898162163527, 352.01122033888356, 374.3732448593295, 389.48471662395656, 401.83601554339333, 415.94876235338353, 427.71954507365723, 439.8327214712379, 455.09426852892744, 477.45560138981824, 492.56638149488685, 504.916988769665, 519.029735569985, 530.8005182805933, 544.1972594929989, 560.7423713900662, 584.3872690903273, 600.7816140347602, 619.1707913235301, 639.3221081378487, 657.1314608624489, 678.1533861610536, 702.3236821443201, 733.5937639307531, 757.6132929703492, 778.8726491647517, 801.8941448847032, 822.5736765130546, 843.5956018187308, 867.7658978090612, 899.0359796025617, 923.0555086671486, 944.3148648865557, 967.3363606315129, 988.0158921287767, 1009.0378173033417, 1033.2081131625762, 1063.1319203189905, 1085.8051747196043, 1105.7182562750543, 1127.3934773560388, 1146.726734347314, 1166.4023850158965, 1189.2264063691548, 1219.1502135255703, 1241.8234679261861, 1261.7365494816258, 1283.4117705626086, 1302.7450275538845, 1322.420678222468, 1345.24469957571, 1375.1685067321466, 1397.8417611327593, 1417.754842688202, 1439.4300637691877, 1458.7633207604576, 1478.4389714290419, 1501.2629927822882, 1531.1867999387234, 1553.860054339333, 1573.773135894778, 1595.4483569757604, 1614.7816139670442, 1634.4572646356137, 1657.2812859888652, 1687.2050931453, 1709.8783475459097, 1729.7914291013442, 1751.4666501823347, 1770.7999071736142, 1790.475557842186, 1813.2995791954443, 1843.2233863518604, 1865.896640752488, 1885.809722307921, 1907.484943388909, 1926.8182003801849, 1946.4938510487655, 1969.3178724020213, 1999.241679558437, 2021.9149339590567, 2041.8280155144919, 2063.5032365954835, 2082.8364935867585, 2102.512144255339, 2125.3361656085995, 2155.259972765014, 2177.933227165631]}, {\"marker\": {\"color\": \"red\"}, \"mode\": \"lines+markers\", \"name\": \"Actual Cases\", \"type\": \"scatter\", \"x\": [\"2020-04-02T00:00:00\", \"2020-04-03T00:00:00\", \"2020-04-04T00:00:00\", \"2020-04-05T00:00:00\", \"2020-04-06T00:00:00\", \"2020-04-07T00:00:00\", \"2020-04-08T00:00:00\", \"2020-04-09T00:00:00\", \"2020-04-10T00:00:00\", \"2020-04-11T00:00:00\", \"2020-04-12T00:00:00\", \"2020-04-13T00:00:00\", \"2020-04-14T00:00:00\", \"2020-04-15T00:00:00\", \"2020-04-16T00:00:00\", \"2020-04-17T00:00:00\", \"2020-04-18T00:00:00\", \"2020-04-19T00:00:00\", \"2020-04-20T00:00:00\", \"2020-04-21T00:00:00\", \"2020-04-22T00:00:00\", \"2020-04-23T00:00:00\", \"2020-04-24T00:00:00\", \"2020-04-25T00:00:00\", \"2020-04-26T00:00:00\", \"2020-04-27T00:00:00\", \"2020-04-28T00:00:00\", \"2020-04-29T00:00:00\", \"2020-04-30T00:00:00\", \"2020-05-01T00:00:00\", \"2020-05-02T00:00:00\", \"2020-05-03T00:00:00\", \"2020-05-04T00:00:00\", \"2020-05-05T00:00:00\", \"2020-05-06T00:00:00\", \"2020-05-07T00:00:00\", \"2020-05-08T00:00:00\", \"2020-05-09T00:00:00\", \"2020-05-10T00:00:00\", \"2020-05-11T00:00:00\", \"2020-05-12T00:00:00\", \"2020-05-13T00:00:00\", \"2020-05-14T00:00:00\", \"2020-05-15T00:00:00\", \"2020-05-16T00:00:00\", \"2020-05-17T00:00:00\", \"2020-05-18T00:00:00\", \"2020-05-19T00:00:00\", \"2020-05-20T00:00:00\", \"2020-05-21T00:00:00\", \"2020-05-22T00:00:00\", \"2020-05-23T00:00:00\", \"2020-05-24T00:00:00\", \"2020-05-25T00:00:00\", \"2020-05-26T00:00:00\", \"2020-05-27T00:00:00\", \"2020-05-28T00:00:00\", \"2020-05-29T00:00:00\", \"2020-05-30T00:00:00\", \"2020-05-31T00:00:00\", \"2020-06-01T00:00:00\", \"2020-06-02T00:00:00\", \"2020-06-03T00:00:00\", \"2020-06-04T00:00:00\", \"2020-06-05T00:00:00\", \"2020-06-06T00:00:00\", \"2020-06-07T00:00:00\", \"2020-06-08T00:00:00\", \"2020-06-09T00:00:00\", \"2020-06-10T00:00:00\", \"2020-06-11T00:00:00\", \"2020-06-12T00:00:00\", \"2020-06-13T00:00:00\", \"2020-06-14T00:00:00\", \"2020-06-15T00:00:00\", \"2020-06-16T00:00:00\", \"2020-06-17T00:00:00\", \"2020-06-18T00:00:00\", \"2020-06-19T00:00:00\", \"2020-06-20T00:00:00\", \"2020-06-21T00:00:00\", \"2020-06-22T00:00:00\", \"2020-06-23T00:00:00\", \"2020-06-24T00:00:00\", \"2020-06-25T00:00:00\", \"2020-06-26T00:00:00\", \"2020-06-27T00:00:00\", \"2020-06-28T00:00:00\", \"2020-06-29T00:00:00\", \"2020-06-30T00:00:00\", \"2020-07-01T00:00:00\", \"2020-07-02T00:00:00\", \"2020-07-03T00:00:00\", \"2020-07-04T00:00:00\", \"2020-07-05T00:00:00\", \"2020-07-06T00:00:00\", \"2020-07-07T00:00:00\", \"2020-07-08T00:00:00\", \"2020-07-09T00:00:00\", \"2020-07-10T00:00:00\", \"2020-07-11T00:00:00\", \"2020-07-12T00:00:00\", \"2020-07-13T00:00:00\"], \"y\": [0, 0, 0, 0, 0, 0, 0, 0, 0, 0, 0, 0, 0, 0, 0, 0, 2, 2, 2, 2, 7, 9, 13, 13, 17, 27, 32, 37, 53, 67, 74, 90, 106, 116, 142, 150, 174, 204, 222, 242, 272, 295, 318, 332, 346, 374, 386, 407, 421, 425, 436, 444, 447, 459, 474, 484, 488, 496, 513, 523, 537, 551, 567, 585, 629, 653, 692, 709, 741, 764, 782, 794, 805, 820, 863, 885, 907, 919, 933, 947, 966, 1015, 1090, 1125, 1158, 1178, 1194, 1208, 1230, 1251, 1273, 1295, 1318, 1336, 1347, 1355, 1364, 1377, 1392, 1410, 1424, 1435, 1445]}],\n",
              "                        {\"template\": {\"data\": {\"bar\": [{\"error_x\": {\"color\": \"#2a3f5f\"}, \"error_y\": {\"color\": \"#2a3f5f\"}, \"marker\": {\"line\": {\"color\": \"#E5ECF6\", \"width\": 0.5}}, \"type\": \"bar\"}], \"barpolar\": [{\"marker\": {\"line\": {\"color\": \"#E5ECF6\", \"width\": 0.5}}, \"type\": \"barpolar\"}], \"carpet\": [{\"aaxis\": {\"endlinecolor\": \"#2a3f5f\", \"gridcolor\": \"white\", \"linecolor\": \"white\", \"minorgridcolor\": \"white\", \"startlinecolor\": \"#2a3f5f\"}, \"baxis\": {\"endlinecolor\": \"#2a3f5f\", \"gridcolor\": \"white\", \"linecolor\": \"white\", \"minorgridcolor\": \"white\", \"startlinecolor\": \"#2a3f5f\"}, \"type\": \"carpet\"}], \"choropleth\": [{\"colorbar\": {\"outlinewidth\": 0, \"ticks\": \"\"}, \"type\": \"choropleth\"}], \"contour\": [{\"colorbar\": {\"outlinewidth\": 0, \"ticks\": \"\"}, \"colorscale\": [[0.0, \"#0d0887\"], [0.1111111111111111, \"#46039f\"], [0.2222222222222222, \"#7201a8\"], [0.3333333333333333, \"#9c179e\"], [0.4444444444444444, \"#bd3786\"], [0.5555555555555556, \"#d8576b\"], [0.6666666666666666, \"#ed7953\"], [0.7777777777777778, \"#fb9f3a\"], [0.8888888888888888, \"#fdca26\"], [1.0, \"#f0f921\"]], \"type\": \"contour\"}], \"contourcarpet\": [{\"colorbar\": {\"outlinewidth\": 0, \"ticks\": \"\"}, \"type\": \"contourcarpet\"}], \"heatmap\": [{\"colorbar\": {\"outlinewidth\": 0, \"ticks\": \"\"}, \"colorscale\": [[0.0, \"#0d0887\"], [0.1111111111111111, \"#46039f\"], [0.2222222222222222, \"#7201a8\"], [0.3333333333333333, \"#9c179e\"], [0.4444444444444444, \"#bd3786\"], [0.5555555555555556, \"#d8576b\"], [0.6666666666666666, \"#ed7953\"], [0.7777777777777778, \"#fb9f3a\"], [0.8888888888888888, \"#fdca26\"], [1.0, \"#f0f921\"]], \"type\": \"heatmap\"}], \"heatmapgl\": [{\"colorbar\": {\"outlinewidth\": 0, \"ticks\": \"\"}, \"colorscale\": [[0.0, \"#0d0887\"], [0.1111111111111111, \"#46039f\"], [0.2222222222222222, \"#7201a8\"], [0.3333333333333333, \"#9c179e\"], [0.4444444444444444, \"#bd3786\"], [0.5555555555555556, \"#d8576b\"], [0.6666666666666666, \"#ed7953\"], [0.7777777777777778, \"#fb9f3a\"], [0.8888888888888888, \"#fdca26\"], [1.0, \"#f0f921\"]], \"type\": \"heatmapgl\"}], \"histogram\": [{\"marker\": {\"colorbar\": {\"outlinewidth\": 0, \"ticks\": \"\"}}, \"type\": \"histogram\"}], \"histogram2d\": [{\"colorbar\": {\"outlinewidth\": 0, \"ticks\": \"\"}, \"colorscale\": [[0.0, \"#0d0887\"], [0.1111111111111111, \"#46039f\"], [0.2222222222222222, \"#7201a8\"], [0.3333333333333333, \"#9c179e\"], [0.4444444444444444, \"#bd3786\"], [0.5555555555555556, \"#d8576b\"], [0.6666666666666666, \"#ed7953\"], [0.7777777777777778, \"#fb9f3a\"], [0.8888888888888888, \"#fdca26\"], [1.0, \"#f0f921\"]], \"type\": \"histogram2d\"}], \"histogram2dcontour\": [{\"colorbar\": {\"outlinewidth\": 0, \"ticks\": \"\"}, \"colorscale\": [[0.0, \"#0d0887\"], [0.1111111111111111, \"#46039f\"], [0.2222222222222222, \"#7201a8\"], [0.3333333333333333, \"#9c179e\"], [0.4444444444444444, \"#bd3786\"], [0.5555555555555556, \"#d8576b\"], [0.6666666666666666, \"#ed7953\"], [0.7777777777777778, \"#fb9f3a\"], [0.8888888888888888, \"#fdca26\"], [1.0, \"#f0f921\"]], \"type\": \"histogram2dcontour\"}], \"mesh3d\": [{\"colorbar\": {\"outlinewidth\": 0, \"ticks\": \"\"}, \"type\": \"mesh3d\"}], \"parcoords\": [{\"line\": {\"colorbar\": {\"outlinewidth\": 0, \"ticks\": \"\"}}, \"type\": \"parcoords\"}], \"pie\": [{\"automargin\": true, \"type\": \"pie\"}], \"scatter\": [{\"marker\": {\"colorbar\": {\"outlinewidth\": 0, \"ticks\": \"\"}}, \"type\": \"scatter\"}], \"scatter3d\": [{\"line\": {\"colorbar\": {\"outlinewidth\": 0, \"ticks\": \"\"}}, \"marker\": {\"colorbar\": {\"outlinewidth\": 0, \"ticks\": \"\"}}, \"type\": \"scatter3d\"}], \"scattercarpet\": [{\"marker\": {\"colorbar\": {\"outlinewidth\": 0, \"ticks\": \"\"}}, \"type\": \"scattercarpet\"}], \"scattergeo\": [{\"marker\": {\"colorbar\": {\"outlinewidth\": 0, \"ticks\": \"\"}}, \"type\": \"scattergeo\"}], \"scattergl\": [{\"marker\": {\"colorbar\": {\"outlinewidth\": 0, \"ticks\": \"\"}}, \"type\": \"scattergl\"}], \"scattermapbox\": [{\"marker\": {\"colorbar\": {\"outlinewidth\": 0, \"ticks\": \"\"}}, \"type\": \"scattermapbox\"}], \"scatterpolar\": [{\"marker\": {\"colorbar\": {\"outlinewidth\": 0, \"ticks\": \"\"}}, \"type\": \"scatterpolar\"}], \"scatterpolargl\": [{\"marker\": {\"colorbar\": {\"outlinewidth\": 0, \"ticks\": \"\"}}, \"type\": \"scatterpolargl\"}], \"scatterternary\": [{\"marker\": {\"colorbar\": {\"outlinewidth\": 0, \"ticks\": \"\"}}, \"type\": \"scatterternary\"}], \"surface\": [{\"colorbar\": {\"outlinewidth\": 0, \"ticks\": \"\"}, \"colorscale\": [[0.0, \"#0d0887\"], [0.1111111111111111, \"#46039f\"], [0.2222222222222222, \"#7201a8\"], [0.3333333333333333, \"#9c179e\"], [0.4444444444444444, \"#bd3786\"], [0.5555555555555556, \"#d8576b\"], [0.6666666666666666, \"#ed7953\"], [0.7777777777777778, \"#fb9f3a\"], [0.8888888888888888, \"#fdca26\"], [1.0, \"#f0f921\"]], \"type\": \"surface\"}], \"table\": [{\"cells\": {\"fill\": {\"color\": \"#EBF0F8\"}, \"line\": {\"color\": \"white\"}}, \"header\": {\"fill\": {\"color\": \"#C8D4E3\"}, \"line\": {\"color\": \"white\"}}, \"type\": \"table\"}]}, \"layout\": {\"annotationdefaults\": {\"arrowcolor\": \"#2a3f5f\", \"arrowhead\": 0, \"arrowwidth\": 1}, \"coloraxis\": {\"colorbar\": {\"outlinewidth\": 0, \"ticks\": \"\"}}, \"colorscale\": {\"diverging\": [[0, \"#8e0152\"], [0.1, \"#c51b7d\"], [0.2, \"#de77ae\"], [0.3, \"#f1b6da\"], [0.4, \"#fde0ef\"], [0.5, \"#f7f7f7\"], [0.6, \"#e6f5d0\"], [0.7, \"#b8e186\"], [0.8, \"#7fbc41\"], [0.9, \"#4d9221\"], [1, \"#276419\"]], \"sequential\": [[0.0, \"#0d0887\"], [0.1111111111111111, \"#46039f\"], [0.2222222222222222, \"#7201a8\"], [0.3333333333333333, \"#9c179e\"], [0.4444444444444444, \"#bd3786\"], [0.5555555555555556, \"#d8576b\"], [0.6666666666666666, \"#ed7953\"], [0.7777777777777778, \"#fb9f3a\"], [0.8888888888888888, \"#fdca26\"], [1.0, \"#f0f921\"]], \"sequentialminus\": [[0.0, \"#0d0887\"], [0.1111111111111111, \"#46039f\"], [0.2222222222222222, \"#7201a8\"], [0.3333333333333333, \"#9c179e\"], [0.4444444444444444, \"#bd3786\"], [0.5555555555555556, \"#d8576b\"], [0.6666666666666666, \"#ed7953\"], [0.7777777777777778, \"#fb9f3a\"], [0.8888888888888888, \"#fdca26\"], [1.0, \"#f0f921\"]]}, \"colorway\": [\"#636efa\", \"#EF553B\", \"#00cc96\", \"#ab63fa\", \"#FFA15A\", \"#19d3f3\", \"#FF6692\", \"#B6E880\", \"#FF97FF\", \"#FECB52\"], \"font\": {\"color\": \"#2a3f5f\"}, \"geo\": {\"bgcolor\": \"white\", \"lakecolor\": \"white\", \"landcolor\": \"#E5ECF6\", \"showlakes\": true, \"showland\": true, \"subunitcolor\": \"white\"}, \"hoverlabel\": {\"align\": \"left\"}, \"hovermode\": \"closest\", \"mapbox\": {\"style\": \"light\"}, \"paper_bgcolor\": \"white\", \"plot_bgcolor\": \"#E5ECF6\", \"polar\": {\"angularaxis\": {\"gridcolor\": \"white\", \"linecolor\": \"white\", \"ticks\": \"\"}, \"bgcolor\": \"#E5ECF6\", \"radialaxis\": {\"gridcolor\": \"white\", \"linecolor\": \"white\", \"ticks\": \"\"}}, \"scene\": {\"xaxis\": {\"backgroundcolor\": \"#E5ECF6\", \"gridcolor\": \"white\", \"gridwidth\": 2, \"linecolor\": \"white\", \"showbackground\": true, \"ticks\": \"\", \"zerolinecolor\": \"white\"}, \"yaxis\": {\"backgroundcolor\": \"#E5ECF6\", \"gridcolor\": \"white\", \"gridwidth\": 2, \"linecolor\": \"white\", \"showbackground\": true, \"ticks\": \"\", \"zerolinecolor\": \"white\"}, \"zaxis\": {\"backgroundcolor\": \"#E5ECF6\", \"gridcolor\": \"white\", \"gridwidth\": 2, \"linecolor\": \"white\", \"showbackground\": true, \"ticks\": \"\", \"zerolinecolor\": \"white\"}}, \"shapedefaults\": {\"line\": {\"color\": \"#2a3f5f\"}}, \"ternary\": {\"aaxis\": {\"gridcolor\": \"white\", \"linecolor\": \"white\", \"ticks\": \"\"}, \"baxis\": {\"gridcolor\": \"white\", \"linecolor\": \"white\", \"ticks\": \"\"}, \"bgcolor\": \"#E5ECF6\", \"caxis\": {\"gridcolor\": \"white\", \"linecolor\": \"white\", \"ticks\": \"\"}}, \"title\": {\"x\": 0.05}, \"xaxis\": {\"automargin\": true, \"gridcolor\": \"white\", \"linecolor\": \"white\", \"ticks\": \"\", \"title\": {\"standoff\": 15}, \"zerolinecolor\": \"white\", \"zerolinewidth\": 2}, \"yaxis\": {\"automargin\": true, \"gridcolor\": \"white\", \"linecolor\": \"white\", \"ticks\": \"\", \"title\": {\"standoff\": 15}, \"zerolinecolor\": \"white\", \"zerolinewidth\": 2}}}, \"title\": {\"text\": \"Forecasting of Confirmed Cases in BREVES for Next 30 Days\"}},\n",
              "                        {\"responsive\": true}\n",
              "                    ).then(function(){\n",
              "                            \n",
              "var gd = document.getElementById('3230f2c6-08ea-402a-9525-151e641f2bb4');\n",
              "var x = new MutationObserver(function (mutations, observer) {{\n",
              "        var display = window.getComputedStyle(gd).display;\n",
              "        if (!display || display === 'none') {{\n",
              "            console.log([gd, 'removed!']);\n",
              "            Plotly.purge(gd);\n",
              "            observer.disconnect();\n",
              "        }}\n",
              "}});\n",
              "\n",
              "// Listen for the removal of the full notebook cells\n",
              "var notebookContainer = gd.closest('#notebook-container');\n",
              "if (notebookContainer) {{\n",
              "    x.observe(notebookContainer, {childList: true});\n",
              "}}\n",
              "\n",
              "// Listen for the clearing of the current output cell\n",
              "var outputEl = gd.closest('.output');\n",
              "if (outputEl) {{\n",
              "    x.observe(outputEl, {childList: true});\n",
              "}}\n",
              "\n",
              "                        })\n",
              "                };\n",
              "                });\n",
              "            </script>\n",
              "        </div>"
            ]
          },
          "metadata": {
            "tags": []
          }
        }
      ]
    },
    {
      "cell_type": "code",
      "metadata": {
        "id": "ylD4VMTOcw7J",
        "colab_type": "code",
        "colab": {},
        "outputId": "292490c8-5079-4481-fc80-f1169a335c92"
      },
      "source": [
        "#Forecasting of Deaths for Next 30 Days\n",
        "df =df_breves.groupby('Date')['Deaths'].sum().reset_index()\n",
        "df.columns = ['ds','y']\n",
        "df['ds'] = pd.to_datetime(df['ds'])\n",
        "m = Prophet()\n",
        "m.fit(df)\n",
        "future = m.make_future_dataframe(periods=30)\n",
        "forecast = m.predict(future)\n",
        "fig = go.Figure()\n",
        "fig.add_trace(go.Scatter(x=forecast['ds'], y=forecast['yhat'],\n",
        "                    mode='lines+markers',name='Predicted Cases',marker_color='red'))\n",
        "fig.add_trace(go.Scatter(x=df['ds'], y=df['y'],\n",
        "                    mode='lines+markers',name='Actual Cases',marker_color='blue'))\n",
        "fig.update_layout(\n",
        "    title='Forecasting of Deaths in BREVES for Next 30 Days')\n",
        "fig.show()\n"
      ],
      "execution_count": null,
      "outputs": [
        {
          "output_type": "stream",
          "text": [
            "INFO:fbprophet:Disabling yearly seasonality. Run prophet with yearly_seasonality=True to override this.\n",
            "INFO:fbprophet:Disabling daily seasonality. Run prophet with daily_seasonality=True to override this.\n"
          ],
          "name": "stderr"
        },
        {
          "output_type": "display_data",
          "data": {
            "application/vnd.plotly.v1+json": {
              "config": {
                "plotlyServerURL": "https://plot.ly"
              },
              "data": [
                {
                  "marker": {
                    "color": "red"
                  },
                  "mode": "lines+markers",
                  "name": "Predicted Cases",
                  "type": "scatter",
                  "x": [
                    "2020-04-02T00:00:00",
                    "2020-04-03T00:00:00",
                    "2020-04-04T00:00:00",
                    "2020-04-05T00:00:00",
                    "2020-04-06T00:00:00",
                    "2020-04-07T00:00:00",
                    "2020-04-08T00:00:00",
                    "2020-04-09T00:00:00",
                    "2020-04-10T00:00:00",
                    "2020-04-11T00:00:00",
                    "2020-04-12T00:00:00",
                    "2020-04-13T00:00:00",
                    "2020-04-14T00:00:00",
                    "2020-04-15T00:00:00",
                    "2020-04-16T00:00:00",
                    "2020-04-17T00:00:00",
                    "2020-04-18T00:00:00",
                    "2020-04-19T00:00:00",
                    "2020-04-20T00:00:00",
                    "2020-04-21T00:00:00",
                    "2020-04-22T00:00:00",
                    "2020-04-23T00:00:00",
                    "2020-04-24T00:00:00",
                    "2020-04-25T00:00:00",
                    "2020-04-26T00:00:00",
                    "2020-04-27T00:00:00",
                    "2020-04-28T00:00:00",
                    "2020-04-29T00:00:00",
                    "2020-04-30T00:00:00",
                    "2020-05-01T00:00:00",
                    "2020-05-02T00:00:00",
                    "2020-05-03T00:00:00",
                    "2020-05-04T00:00:00",
                    "2020-05-05T00:00:00",
                    "2020-05-06T00:00:00",
                    "2020-05-07T00:00:00",
                    "2020-05-08T00:00:00",
                    "2020-05-09T00:00:00",
                    "2020-05-10T00:00:00",
                    "2020-05-11T00:00:00",
                    "2020-05-12T00:00:00",
                    "2020-05-13T00:00:00",
                    "2020-05-14T00:00:00",
                    "2020-05-15T00:00:00",
                    "2020-05-16T00:00:00",
                    "2020-05-17T00:00:00",
                    "2020-05-18T00:00:00",
                    "2020-05-19T00:00:00",
                    "2020-05-20T00:00:00",
                    "2020-05-21T00:00:00",
                    "2020-05-22T00:00:00",
                    "2020-05-23T00:00:00",
                    "2020-05-24T00:00:00",
                    "2020-05-25T00:00:00",
                    "2020-05-26T00:00:00",
                    "2020-05-27T00:00:00",
                    "2020-05-28T00:00:00",
                    "2020-05-29T00:00:00",
                    "2020-05-30T00:00:00",
                    "2020-05-31T00:00:00",
                    "2020-06-01T00:00:00",
                    "2020-06-02T00:00:00",
                    "2020-06-03T00:00:00",
                    "2020-06-04T00:00:00",
                    "2020-06-05T00:00:00",
                    "2020-06-06T00:00:00",
                    "2020-06-07T00:00:00",
                    "2020-06-08T00:00:00",
                    "2020-06-09T00:00:00",
                    "2020-06-10T00:00:00",
                    "2020-06-11T00:00:00",
                    "2020-06-12T00:00:00",
                    "2020-06-13T00:00:00",
                    "2020-06-14T00:00:00",
                    "2020-06-15T00:00:00",
                    "2020-06-16T00:00:00",
                    "2020-06-17T00:00:00",
                    "2020-06-18T00:00:00",
                    "2020-06-19T00:00:00",
                    "2020-06-20T00:00:00",
                    "2020-06-21T00:00:00",
                    "2020-06-22T00:00:00",
                    "2020-06-23T00:00:00",
                    "2020-06-24T00:00:00",
                    "2020-06-25T00:00:00",
                    "2020-06-26T00:00:00",
                    "2020-06-27T00:00:00",
                    "2020-06-28T00:00:00",
                    "2020-06-29T00:00:00",
                    "2020-06-30T00:00:00",
                    "2020-07-01T00:00:00",
                    "2020-07-02T00:00:00",
                    "2020-07-03T00:00:00",
                    "2020-07-04T00:00:00",
                    "2020-07-05T00:00:00",
                    "2020-07-06T00:00:00",
                    "2020-07-07T00:00:00",
                    "2020-07-08T00:00:00",
                    "2020-07-09T00:00:00",
                    "2020-07-10T00:00:00",
                    "2020-07-11T00:00:00",
                    "2020-07-12T00:00:00",
                    "2020-07-13T00:00:00",
                    "2020-07-14T00:00:00",
                    "2020-07-15T00:00:00",
                    "2020-07-16T00:00:00",
                    "2020-07-17T00:00:00",
                    "2020-07-18T00:00:00",
                    "2020-07-19T00:00:00",
                    "2020-07-20T00:00:00",
                    "2020-07-21T00:00:00",
                    "2020-07-22T00:00:00",
                    "2020-07-23T00:00:00",
                    "2020-07-24T00:00:00",
                    "2020-07-25T00:00:00",
                    "2020-07-26T00:00:00",
                    "2020-07-27T00:00:00",
                    "2020-07-28T00:00:00",
                    "2020-07-29T00:00:00",
                    "2020-07-30T00:00:00",
                    "2020-07-31T00:00:00",
                    "2020-08-01T00:00:00",
                    "2020-08-02T00:00:00",
                    "2020-08-03T00:00:00",
                    "2020-08-04T00:00:00",
                    "2020-08-05T00:00:00",
                    "2020-08-06T00:00:00",
                    "2020-08-07T00:00:00",
                    "2020-08-08T00:00:00",
                    "2020-08-09T00:00:00",
                    "2020-08-10T00:00:00",
                    "2020-08-11T00:00:00",
                    "2020-08-12T00:00:00"
                  ],
                  "y": [
                    -0.3226763588494053,
                    -0.5490261251311076,
                    -0.25756408110409845,
                    -0.48778997286126585,
                    -0.20482987643904088,
                    -0.2587617629380715,
                    -0.12709874710963848,
                    0.10843610529587316,
                    -0.11791364994794615,
                    0.17354840511838598,
                    -0.056677475599468105,
                    0.22628262432619933,
                    0.1723507413301672,
                    0.3040137606615212,
                    0.5397381304147368,
                    0.3135778925182824,
                    0.6052294649315695,
                    0.3754177413067766,
                    0.6587919921447962,
                    0.6052742600612523,
                    0.7447110455847153,
                    0.988019670362478,
                    0.769443687491388,
                    1.0686795149296102,
                    1.775730542229535,
                    2.9959675439918843,
                    3.8793125628322964,
                    5.992957700642645,
                    8.210474677708344,
                    9.966107047124941,
                    12.584198885201351,
                    14.680602787493621,
                    17.290192664247954,
                    19.56289054850457,
                    22.021183335087176,
                    24.58334796092491,
                    26.683627979114398,
                    29.294778647282243,
                    31.384241379666417,
                    33.986890086513064,
                    36.01729383448296,
                    38.23329248478063,
                    40.5531629743338,
                    42.08982985268288,
                    44.14430854134136,
                    45.677099294215665,
                    47.024761538727994,
                    48.035531800319156,
                    49.23189696423846,
                    50.53213396741306,
                    51.084527353432684,
                    52.15473254976222,
                    52.70324981030756,
                    53.76493778302004,
                    54.489733772810375,
                    55.4001246649288,
                    56.41292097858787,
                    56.96383268459811,
                    58.0325562009173,
                    58.47979367462843,
                    59.44021712280176,
                    60.06374858805376,
                    60.87287495563397,
                    61.6333243018158,
                    61.931889040347926,
                    62.748265589189415,
                    63.03911987575383,
                    63.84316013677999,
                    64.31030841488543,
                    64.96305157980234,
                    65.71966658397605,
                    66.01439698049995,
                    66.82693920406105,
                    67.11779349183819,
                    67.9218337540776,
                    68.38898203339555,
                    69.04172521568775,
                    69.79834023723433,
                    70.09307065113146,
                    70.79956459773605,
                    70.98437060855693,
                    71.68236259383963,
                    71.6935686452813,
                    71.89036959905064,
                    72.1910423920742,
                    72.02983057744856,
                    72.38643057313308,
                    72.22134263303343,
                    72.5694406673961,
                    72.58064671883719,
                    72.77744767260681,
                    73.07812046563106,
                    72.91690865100554,
                    73.27350864668973,
                    73.10842070658973,
                    73.45651874095262,
                    73.46772479239414,
                    73.6645257461633,
                    73.96519853918707,
                    73.80398672456158,
                    74.1605867202464,
                    73.995498780147,
                    74.3435968145091,
                    74.35480286595109,
                    74.5516038197198,
                    74.85227661274307,
                    74.69106479811887,
                    75.04766479380316,
                    74.8825768537033,
                    75.23067488806642,
                    75.24188093950804,
                    75.43868189327702,
                    75.73935468630079,
                    75.57814287167541,
                    75.93474286735983,
                    75.76965492726009,
                    76.11775296162203,
                    76.12895901306375,
                    76.32575996683244,
                    76.6264327598568,
                    76.4652209452319,
                    76.82182094091647,
                    76.65673300081637,
                    77.00483103517936,
                    77.01603708662068,
                    77.21283804039,
                    77.51351083341368,
                    77.35229901878843,
                    77.70889901447313,
                    77.54381107437365,
                    77.89190910873671,
                    77.90311516017763,
                    78.0999161139465
                  ]
                },
                {
                  "marker": {
                    "color": "blue"
                  },
                  "mode": "lines+markers",
                  "name": "Actual Cases",
                  "type": "scatter",
                  "x": [
                    "2020-04-02T00:00:00",
                    "2020-04-03T00:00:00",
                    "2020-04-04T00:00:00",
                    "2020-04-05T00:00:00",
                    "2020-04-06T00:00:00",
                    "2020-04-07T00:00:00",
                    "2020-04-08T00:00:00",
                    "2020-04-09T00:00:00",
                    "2020-04-10T00:00:00",
                    "2020-04-11T00:00:00",
                    "2020-04-12T00:00:00",
                    "2020-04-13T00:00:00",
                    "2020-04-14T00:00:00",
                    "2020-04-15T00:00:00",
                    "2020-04-16T00:00:00",
                    "2020-04-17T00:00:00",
                    "2020-04-18T00:00:00",
                    "2020-04-19T00:00:00",
                    "2020-04-20T00:00:00",
                    "2020-04-21T00:00:00",
                    "2020-04-22T00:00:00",
                    "2020-04-23T00:00:00",
                    "2020-04-24T00:00:00",
                    "2020-04-25T00:00:00",
                    "2020-04-26T00:00:00",
                    "2020-04-27T00:00:00",
                    "2020-04-28T00:00:00",
                    "2020-04-29T00:00:00",
                    "2020-04-30T00:00:00",
                    "2020-05-01T00:00:00",
                    "2020-05-02T00:00:00",
                    "2020-05-03T00:00:00",
                    "2020-05-04T00:00:00",
                    "2020-05-05T00:00:00",
                    "2020-05-06T00:00:00",
                    "2020-05-07T00:00:00",
                    "2020-05-08T00:00:00",
                    "2020-05-09T00:00:00",
                    "2020-05-10T00:00:00",
                    "2020-05-11T00:00:00",
                    "2020-05-12T00:00:00",
                    "2020-05-13T00:00:00",
                    "2020-05-14T00:00:00",
                    "2020-05-15T00:00:00",
                    "2020-05-16T00:00:00",
                    "2020-05-17T00:00:00",
                    "2020-05-18T00:00:00",
                    "2020-05-19T00:00:00",
                    "2020-05-20T00:00:00",
                    "2020-05-21T00:00:00",
                    "2020-05-22T00:00:00",
                    "2020-05-23T00:00:00",
                    "2020-05-24T00:00:00",
                    "2020-05-25T00:00:00",
                    "2020-05-26T00:00:00",
                    "2020-05-27T00:00:00",
                    "2020-05-28T00:00:00",
                    "2020-05-29T00:00:00",
                    "2020-05-30T00:00:00",
                    "2020-05-31T00:00:00",
                    "2020-06-01T00:00:00",
                    "2020-06-02T00:00:00",
                    "2020-06-03T00:00:00",
                    "2020-06-04T00:00:00",
                    "2020-06-05T00:00:00",
                    "2020-06-06T00:00:00",
                    "2020-06-07T00:00:00",
                    "2020-06-08T00:00:00",
                    "2020-06-09T00:00:00",
                    "2020-06-10T00:00:00",
                    "2020-06-11T00:00:00",
                    "2020-06-12T00:00:00",
                    "2020-06-13T00:00:00",
                    "2020-06-14T00:00:00",
                    "2020-06-15T00:00:00",
                    "2020-06-16T00:00:00",
                    "2020-06-17T00:00:00",
                    "2020-06-18T00:00:00",
                    "2020-06-19T00:00:00",
                    "2020-06-20T00:00:00",
                    "2020-06-21T00:00:00",
                    "2020-06-22T00:00:00",
                    "2020-06-23T00:00:00",
                    "2020-06-24T00:00:00",
                    "2020-06-25T00:00:00",
                    "2020-06-26T00:00:00",
                    "2020-06-27T00:00:00",
                    "2020-06-28T00:00:00",
                    "2020-06-29T00:00:00",
                    "2020-06-30T00:00:00",
                    "2020-07-01T00:00:00",
                    "2020-07-02T00:00:00",
                    "2020-07-03T00:00:00",
                    "2020-07-04T00:00:00",
                    "2020-07-05T00:00:00",
                    "2020-07-06T00:00:00",
                    "2020-07-07T00:00:00",
                    "2020-07-08T00:00:00",
                    "2020-07-09T00:00:00",
                    "2020-07-10T00:00:00",
                    "2020-07-11T00:00:00",
                    "2020-07-12T00:00:00",
                    "2020-07-13T00:00:00"
                  ],
                  "y": [
                    0,
                    0,
                    0,
                    0,
                    0,
                    0,
                    0,
                    0,
                    0,
                    0,
                    0,
                    0,
                    0,
                    0,
                    0,
                    0,
                    0,
                    0,
                    1,
                    1,
                    1,
                    1,
                    1,
                    1,
                    1,
                    3,
                    3,
                    6,
                    8,
                    8,
                    10,
                    13,
                    15,
                    19,
                    24,
                    27,
                    29,
                    33,
                    33,
                    33,
                    36,
                    37,
                    40,
                    40,
                    45,
                    47,
                    49,
                    49,
                    50,
                    50,
                    51,
                    51,
                    52,
                    53,
                    54,
                    55,
                    56,
                    56,
                    59,
                    59,
                    61,
                    61,
                    61,
                    62,
                    63,
                    63,
                    63,
                    64,
                    64,
                    64,
                    65,
                    65,
                    65,
                    66,
                    68,
                    68,
                    69,
                    70,
                    71,
                    71,
                    71,
                    72,
                    72,
                    72,
                    73,
                    73,
                    73,
                    73,
                    73,
                    73,
                    73,
                    73,
                    73,
                    73,
                    73,
                    73,
                    73,
                    73,
                    73,
                    74,
                    74,
                    74,
                    74
                  ]
                }
              ],
              "layout": {
                "template": {
                  "data": {
                    "bar": [
                      {
                        "error_x": {
                          "color": "#2a3f5f"
                        },
                        "error_y": {
                          "color": "#2a3f5f"
                        },
                        "marker": {
                          "line": {
                            "color": "#E5ECF6",
                            "width": 0.5
                          }
                        },
                        "type": "bar"
                      }
                    ],
                    "barpolar": [
                      {
                        "marker": {
                          "line": {
                            "color": "#E5ECF6",
                            "width": 0.5
                          }
                        },
                        "type": "barpolar"
                      }
                    ],
                    "carpet": [
                      {
                        "aaxis": {
                          "endlinecolor": "#2a3f5f",
                          "gridcolor": "white",
                          "linecolor": "white",
                          "minorgridcolor": "white",
                          "startlinecolor": "#2a3f5f"
                        },
                        "baxis": {
                          "endlinecolor": "#2a3f5f",
                          "gridcolor": "white",
                          "linecolor": "white",
                          "minorgridcolor": "white",
                          "startlinecolor": "#2a3f5f"
                        },
                        "type": "carpet"
                      }
                    ],
                    "choropleth": [
                      {
                        "colorbar": {
                          "outlinewidth": 0,
                          "ticks": ""
                        },
                        "type": "choropleth"
                      }
                    ],
                    "contour": [
                      {
                        "colorbar": {
                          "outlinewidth": 0,
                          "ticks": ""
                        },
                        "colorscale": [
                          [
                            0,
                            "#0d0887"
                          ],
                          [
                            0.1111111111111111,
                            "#46039f"
                          ],
                          [
                            0.2222222222222222,
                            "#7201a8"
                          ],
                          [
                            0.3333333333333333,
                            "#9c179e"
                          ],
                          [
                            0.4444444444444444,
                            "#bd3786"
                          ],
                          [
                            0.5555555555555556,
                            "#d8576b"
                          ],
                          [
                            0.6666666666666666,
                            "#ed7953"
                          ],
                          [
                            0.7777777777777778,
                            "#fb9f3a"
                          ],
                          [
                            0.8888888888888888,
                            "#fdca26"
                          ],
                          [
                            1,
                            "#f0f921"
                          ]
                        ],
                        "type": "contour"
                      }
                    ],
                    "contourcarpet": [
                      {
                        "colorbar": {
                          "outlinewidth": 0,
                          "ticks": ""
                        },
                        "type": "contourcarpet"
                      }
                    ],
                    "heatmap": [
                      {
                        "colorbar": {
                          "outlinewidth": 0,
                          "ticks": ""
                        },
                        "colorscale": [
                          [
                            0,
                            "#0d0887"
                          ],
                          [
                            0.1111111111111111,
                            "#46039f"
                          ],
                          [
                            0.2222222222222222,
                            "#7201a8"
                          ],
                          [
                            0.3333333333333333,
                            "#9c179e"
                          ],
                          [
                            0.4444444444444444,
                            "#bd3786"
                          ],
                          [
                            0.5555555555555556,
                            "#d8576b"
                          ],
                          [
                            0.6666666666666666,
                            "#ed7953"
                          ],
                          [
                            0.7777777777777778,
                            "#fb9f3a"
                          ],
                          [
                            0.8888888888888888,
                            "#fdca26"
                          ],
                          [
                            1,
                            "#f0f921"
                          ]
                        ],
                        "type": "heatmap"
                      }
                    ],
                    "heatmapgl": [
                      {
                        "colorbar": {
                          "outlinewidth": 0,
                          "ticks": ""
                        },
                        "colorscale": [
                          [
                            0,
                            "#0d0887"
                          ],
                          [
                            0.1111111111111111,
                            "#46039f"
                          ],
                          [
                            0.2222222222222222,
                            "#7201a8"
                          ],
                          [
                            0.3333333333333333,
                            "#9c179e"
                          ],
                          [
                            0.4444444444444444,
                            "#bd3786"
                          ],
                          [
                            0.5555555555555556,
                            "#d8576b"
                          ],
                          [
                            0.6666666666666666,
                            "#ed7953"
                          ],
                          [
                            0.7777777777777778,
                            "#fb9f3a"
                          ],
                          [
                            0.8888888888888888,
                            "#fdca26"
                          ],
                          [
                            1,
                            "#f0f921"
                          ]
                        ],
                        "type": "heatmapgl"
                      }
                    ],
                    "histogram": [
                      {
                        "marker": {
                          "colorbar": {
                            "outlinewidth": 0,
                            "ticks": ""
                          }
                        },
                        "type": "histogram"
                      }
                    ],
                    "histogram2d": [
                      {
                        "colorbar": {
                          "outlinewidth": 0,
                          "ticks": ""
                        },
                        "colorscale": [
                          [
                            0,
                            "#0d0887"
                          ],
                          [
                            0.1111111111111111,
                            "#46039f"
                          ],
                          [
                            0.2222222222222222,
                            "#7201a8"
                          ],
                          [
                            0.3333333333333333,
                            "#9c179e"
                          ],
                          [
                            0.4444444444444444,
                            "#bd3786"
                          ],
                          [
                            0.5555555555555556,
                            "#d8576b"
                          ],
                          [
                            0.6666666666666666,
                            "#ed7953"
                          ],
                          [
                            0.7777777777777778,
                            "#fb9f3a"
                          ],
                          [
                            0.8888888888888888,
                            "#fdca26"
                          ],
                          [
                            1,
                            "#f0f921"
                          ]
                        ],
                        "type": "histogram2d"
                      }
                    ],
                    "histogram2dcontour": [
                      {
                        "colorbar": {
                          "outlinewidth": 0,
                          "ticks": ""
                        },
                        "colorscale": [
                          [
                            0,
                            "#0d0887"
                          ],
                          [
                            0.1111111111111111,
                            "#46039f"
                          ],
                          [
                            0.2222222222222222,
                            "#7201a8"
                          ],
                          [
                            0.3333333333333333,
                            "#9c179e"
                          ],
                          [
                            0.4444444444444444,
                            "#bd3786"
                          ],
                          [
                            0.5555555555555556,
                            "#d8576b"
                          ],
                          [
                            0.6666666666666666,
                            "#ed7953"
                          ],
                          [
                            0.7777777777777778,
                            "#fb9f3a"
                          ],
                          [
                            0.8888888888888888,
                            "#fdca26"
                          ],
                          [
                            1,
                            "#f0f921"
                          ]
                        ],
                        "type": "histogram2dcontour"
                      }
                    ],
                    "mesh3d": [
                      {
                        "colorbar": {
                          "outlinewidth": 0,
                          "ticks": ""
                        },
                        "type": "mesh3d"
                      }
                    ],
                    "parcoords": [
                      {
                        "line": {
                          "colorbar": {
                            "outlinewidth": 0,
                            "ticks": ""
                          }
                        },
                        "type": "parcoords"
                      }
                    ],
                    "pie": [
                      {
                        "automargin": true,
                        "type": "pie"
                      }
                    ],
                    "scatter": [
                      {
                        "marker": {
                          "colorbar": {
                            "outlinewidth": 0,
                            "ticks": ""
                          }
                        },
                        "type": "scatter"
                      }
                    ],
                    "scatter3d": [
                      {
                        "line": {
                          "colorbar": {
                            "outlinewidth": 0,
                            "ticks": ""
                          }
                        },
                        "marker": {
                          "colorbar": {
                            "outlinewidth": 0,
                            "ticks": ""
                          }
                        },
                        "type": "scatter3d"
                      }
                    ],
                    "scattercarpet": [
                      {
                        "marker": {
                          "colorbar": {
                            "outlinewidth": 0,
                            "ticks": ""
                          }
                        },
                        "type": "scattercarpet"
                      }
                    ],
                    "scattergeo": [
                      {
                        "marker": {
                          "colorbar": {
                            "outlinewidth": 0,
                            "ticks": ""
                          }
                        },
                        "type": "scattergeo"
                      }
                    ],
                    "scattergl": [
                      {
                        "marker": {
                          "colorbar": {
                            "outlinewidth": 0,
                            "ticks": ""
                          }
                        },
                        "type": "scattergl"
                      }
                    ],
                    "scattermapbox": [
                      {
                        "marker": {
                          "colorbar": {
                            "outlinewidth": 0,
                            "ticks": ""
                          }
                        },
                        "type": "scattermapbox"
                      }
                    ],
                    "scatterpolar": [
                      {
                        "marker": {
                          "colorbar": {
                            "outlinewidth": 0,
                            "ticks": ""
                          }
                        },
                        "type": "scatterpolar"
                      }
                    ],
                    "scatterpolargl": [
                      {
                        "marker": {
                          "colorbar": {
                            "outlinewidth": 0,
                            "ticks": ""
                          }
                        },
                        "type": "scatterpolargl"
                      }
                    ],
                    "scatterternary": [
                      {
                        "marker": {
                          "colorbar": {
                            "outlinewidth": 0,
                            "ticks": ""
                          }
                        },
                        "type": "scatterternary"
                      }
                    ],
                    "surface": [
                      {
                        "colorbar": {
                          "outlinewidth": 0,
                          "ticks": ""
                        },
                        "colorscale": [
                          [
                            0,
                            "#0d0887"
                          ],
                          [
                            0.1111111111111111,
                            "#46039f"
                          ],
                          [
                            0.2222222222222222,
                            "#7201a8"
                          ],
                          [
                            0.3333333333333333,
                            "#9c179e"
                          ],
                          [
                            0.4444444444444444,
                            "#bd3786"
                          ],
                          [
                            0.5555555555555556,
                            "#d8576b"
                          ],
                          [
                            0.6666666666666666,
                            "#ed7953"
                          ],
                          [
                            0.7777777777777778,
                            "#fb9f3a"
                          ],
                          [
                            0.8888888888888888,
                            "#fdca26"
                          ],
                          [
                            1,
                            "#f0f921"
                          ]
                        ],
                        "type": "surface"
                      }
                    ],
                    "table": [
                      {
                        "cells": {
                          "fill": {
                            "color": "#EBF0F8"
                          },
                          "line": {
                            "color": "white"
                          }
                        },
                        "header": {
                          "fill": {
                            "color": "#C8D4E3"
                          },
                          "line": {
                            "color": "white"
                          }
                        },
                        "type": "table"
                      }
                    ]
                  },
                  "layout": {
                    "annotationdefaults": {
                      "arrowcolor": "#2a3f5f",
                      "arrowhead": 0,
                      "arrowwidth": 1
                    },
                    "coloraxis": {
                      "colorbar": {
                        "outlinewidth": 0,
                        "ticks": ""
                      }
                    },
                    "colorscale": {
                      "diverging": [
                        [
                          0,
                          "#8e0152"
                        ],
                        [
                          0.1,
                          "#c51b7d"
                        ],
                        [
                          0.2,
                          "#de77ae"
                        ],
                        [
                          0.3,
                          "#f1b6da"
                        ],
                        [
                          0.4,
                          "#fde0ef"
                        ],
                        [
                          0.5,
                          "#f7f7f7"
                        ],
                        [
                          0.6,
                          "#e6f5d0"
                        ],
                        [
                          0.7,
                          "#b8e186"
                        ],
                        [
                          0.8,
                          "#7fbc41"
                        ],
                        [
                          0.9,
                          "#4d9221"
                        ],
                        [
                          1,
                          "#276419"
                        ]
                      ],
                      "sequential": [
                        [
                          0,
                          "#0d0887"
                        ],
                        [
                          0.1111111111111111,
                          "#46039f"
                        ],
                        [
                          0.2222222222222222,
                          "#7201a8"
                        ],
                        [
                          0.3333333333333333,
                          "#9c179e"
                        ],
                        [
                          0.4444444444444444,
                          "#bd3786"
                        ],
                        [
                          0.5555555555555556,
                          "#d8576b"
                        ],
                        [
                          0.6666666666666666,
                          "#ed7953"
                        ],
                        [
                          0.7777777777777778,
                          "#fb9f3a"
                        ],
                        [
                          0.8888888888888888,
                          "#fdca26"
                        ],
                        [
                          1,
                          "#f0f921"
                        ]
                      ],
                      "sequentialminus": [
                        [
                          0,
                          "#0d0887"
                        ],
                        [
                          0.1111111111111111,
                          "#46039f"
                        ],
                        [
                          0.2222222222222222,
                          "#7201a8"
                        ],
                        [
                          0.3333333333333333,
                          "#9c179e"
                        ],
                        [
                          0.4444444444444444,
                          "#bd3786"
                        ],
                        [
                          0.5555555555555556,
                          "#d8576b"
                        ],
                        [
                          0.6666666666666666,
                          "#ed7953"
                        ],
                        [
                          0.7777777777777778,
                          "#fb9f3a"
                        ],
                        [
                          0.8888888888888888,
                          "#fdca26"
                        ],
                        [
                          1,
                          "#f0f921"
                        ]
                      ]
                    },
                    "colorway": [
                      "#636efa",
                      "#EF553B",
                      "#00cc96",
                      "#ab63fa",
                      "#FFA15A",
                      "#19d3f3",
                      "#FF6692",
                      "#B6E880",
                      "#FF97FF",
                      "#FECB52"
                    ],
                    "font": {
                      "color": "#2a3f5f"
                    },
                    "geo": {
                      "bgcolor": "white",
                      "lakecolor": "white",
                      "landcolor": "#E5ECF6",
                      "showlakes": true,
                      "showland": true,
                      "subunitcolor": "white"
                    },
                    "hoverlabel": {
                      "align": "left"
                    },
                    "hovermode": "closest",
                    "mapbox": {
                      "style": "light"
                    },
                    "paper_bgcolor": "white",
                    "plot_bgcolor": "#E5ECF6",
                    "polar": {
                      "angularaxis": {
                        "gridcolor": "white",
                        "linecolor": "white",
                        "ticks": ""
                      },
                      "bgcolor": "#E5ECF6",
                      "radialaxis": {
                        "gridcolor": "white",
                        "linecolor": "white",
                        "ticks": ""
                      }
                    },
                    "scene": {
                      "xaxis": {
                        "backgroundcolor": "#E5ECF6",
                        "gridcolor": "white",
                        "gridwidth": 2,
                        "linecolor": "white",
                        "showbackground": true,
                        "ticks": "",
                        "zerolinecolor": "white"
                      },
                      "yaxis": {
                        "backgroundcolor": "#E5ECF6",
                        "gridcolor": "white",
                        "gridwidth": 2,
                        "linecolor": "white",
                        "showbackground": true,
                        "ticks": "",
                        "zerolinecolor": "white"
                      },
                      "zaxis": {
                        "backgroundcolor": "#E5ECF6",
                        "gridcolor": "white",
                        "gridwidth": 2,
                        "linecolor": "white",
                        "showbackground": true,
                        "ticks": "",
                        "zerolinecolor": "white"
                      }
                    },
                    "shapedefaults": {
                      "line": {
                        "color": "#2a3f5f"
                      }
                    },
                    "ternary": {
                      "aaxis": {
                        "gridcolor": "white",
                        "linecolor": "white",
                        "ticks": ""
                      },
                      "baxis": {
                        "gridcolor": "white",
                        "linecolor": "white",
                        "ticks": ""
                      },
                      "bgcolor": "#E5ECF6",
                      "caxis": {
                        "gridcolor": "white",
                        "linecolor": "white",
                        "ticks": ""
                      }
                    },
                    "title": {
                      "x": 0.05
                    },
                    "xaxis": {
                      "automargin": true,
                      "gridcolor": "white",
                      "linecolor": "white",
                      "ticks": "",
                      "title": {
                        "standoff": 15
                      },
                      "zerolinecolor": "white",
                      "zerolinewidth": 2
                    },
                    "yaxis": {
                      "automargin": true,
                      "gridcolor": "white",
                      "linecolor": "white",
                      "ticks": "",
                      "title": {
                        "standoff": 15
                      },
                      "zerolinecolor": "white",
                      "zerolinewidth": 2
                    }
                  }
                },
                "title": {
                  "text": "Forecasting of Deaths in BREVES for Next 30 Days"
                }
              }
            },
            "text/html": [
              "<div>\n",
              "        \n",
              "        \n",
              "            <div id=\"d6b80c41-256d-45cf-aecc-221d9dc37e3c\" class=\"plotly-graph-div\" style=\"height:525px; width:100%;\"></div>\n",
              "            <script type=\"text/javascript\">\n",
              "                require([\"plotly\"], function(Plotly) {\n",
              "                    window.PLOTLYENV=window.PLOTLYENV || {};\n",
              "                    \n",
              "                if (document.getElementById(\"d6b80c41-256d-45cf-aecc-221d9dc37e3c\")) {\n",
              "                    Plotly.newPlot(\n",
              "                        'd6b80c41-256d-45cf-aecc-221d9dc37e3c',\n",
              "                        [{\"marker\": {\"color\": \"red\"}, \"mode\": \"lines+markers\", \"name\": \"Predicted Cases\", \"type\": \"scatter\", \"x\": [\"2020-04-02T00:00:00\", \"2020-04-03T00:00:00\", \"2020-04-04T00:00:00\", \"2020-04-05T00:00:00\", \"2020-04-06T00:00:00\", \"2020-04-07T00:00:00\", \"2020-04-08T00:00:00\", \"2020-04-09T00:00:00\", \"2020-04-10T00:00:00\", \"2020-04-11T00:00:00\", \"2020-04-12T00:00:00\", \"2020-04-13T00:00:00\", \"2020-04-14T00:00:00\", \"2020-04-15T00:00:00\", \"2020-04-16T00:00:00\", \"2020-04-17T00:00:00\", \"2020-04-18T00:00:00\", \"2020-04-19T00:00:00\", \"2020-04-20T00:00:00\", \"2020-04-21T00:00:00\", \"2020-04-22T00:00:00\", \"2020-04-23T00:00:00\", \"2020-04-24T00:00:00\", \"2020-04-25T00:00:00\", \"2020-04-26T00:00:00\", \"2020-04-27T00:00:00\", \"2020-04-28T00:00:00\", \"2020-04-29T00:00:00\", \"2020-04-30T00:00:00\", \"2020-05-01T00:00:00\", \"2020-05-02T00:00:00\", \"2020-05-03T00:00:00\", \"2020-05-04T00:00:00\", \"2020-05-05T00:00:00\", \"2020-05-06T00:00:00\", \"2020-05-07T00:00:00\", \"2020-05-08T00:00:00\", \"2020-05-09T00:00:00\", \"2020-05-10T00:00:00\", \"2020-05-11T00:00:00\", \"2020-05-12T00:00:00\", \"2020-05-13T00:00:00\", \"2020-05-14T00:00:00\", \"2020-05-15T00:00:00\", \"2020-05-16T00:00:00\", \"2020-05-17T00:00:00\", \"2020-05-18T00:00:00\", \"2020-05-19T00:00:00\", \"2020-05-20T00:00:00\", \"2020-05-21T00:00:00\", \"2020-05-22T00:00:00\", \"2020-05-23T00:00:00\", \"2020-05-24T00:00:00\", \"2020-05-25T00:00:00\", \"2020-05-26T00:00:00\", \"2020-05-27T00:00:00\", \"2020-05-28T00:00:00\", \"2020-05-29T00:00:00\", \"2020-05-30T00:00:00\", \"2020-05-31T00:00:00\", \"2020-06-01T00:00:00\", \"2020-06-02T00:00:00\", \"2020-06-03T00:00:00\", \"2020-06-04T00:00:00\", \"2020-06-05T00:00:00\", \"2020-06-06T00:00:00\", \"2020-06-07T00:00:00\", \"2020-06-08T00:00:00\", \"2020-06-09T00:00:00\", \"2020-06-10T00:00:00\", \"2020-06-11T00:00:00\", \"2020-06-12T00:00:00\", \"2020-06-13T00:00:00\", \"2020-06-14T00:00:00\", \"2020-06-15T00:00:00\", \"2020-06-16T00:00:00\", \"2020-06-17T00:00:00\", \"2020-06-18T00:00:00\", \"2020-06-19T00:00:00\", \"2020-06-20T00:00:00\", \"2020-06-21T00:00:00\", \"2020-06-22T00:00:00\", \"2020-06-23T00:00:00\", \"2020-06-24T00:00:00\", \"2020-06-25T00:00:00\", \"2020-06-26T00:00:00\", \"2020-06-27T00:00:00\", \"2020-06-28T00:00:00\", \"2020-06-29T00:00:00\", \"2020-06-30T00:00:00\", \"2020-07-01T00:00:00\", \"2020-07-02T00:00:00\", \"2020-07-03T00:00:00\", \"2020-07-04T00:00:00\", \"2020-07-05T00:00:00\", \"2020-07-06T00:00:00\", \"2020-07-07T00:00:00\", \"2020-07-08T00:00:00\", \"2020-07-09T00:00:00\", \"2020-07-10T00:00:00\", \"2020-07-11T00:00:00\", \"2020-07-12T00:00:00\", \"2020-07-13T00:00:00\", \"2020-07-14T00:00:00\", \"2020-07-15T00:00:00\", \"2020-07-16T00:00:00\", \"2020-07-17T00:00:00\", \"2020-07-18T00:00:00\", \"2020-07-19T00:00:00\", \"2020-07-20T00:00:00\", \"2020-07-21T00:00:00\", \"2020-07-22T00:00:00\", \"2020-07-23T00:00:00\", \"2020-07-24T00:00:00\", \"2020-07-25T00:00:00\", \"2020-07-26T00:00:00\", \"2020-07-27T00:00:00\", \"2020-07-28T00:00:00\", \"2020-07-29T00:00:00\", \"2020-07-30T00:00:00\", \"2020-07-31T00:00:00\", \"2020-08-01T00:00:00\", \"2020-08-02T00:00:00\", \"2020-08-03T00:00:00\", \"2020-08-04T00:00:00\", \"2020-08-05T00:00:00\", \"2020-08-06T00:00:00\", \"2020-08-07T00:00:00\", \"2020-08-08T00:00:00\", \"2020-08-09T00:00:00\", \"2020-08-10T00:00:00\", \"2020-08-11T00:00:00\", \"2020-08-12T00:00:00\"], \"y\": [-0.3226763588494053, -0.5490261251311076, -0.25756408110409845, -0.48778997286126585, -0.20482987643904088, -0.2587617629380715, -0.12709874710963848, 0.10843610529587316, -0.11791364994794615, 0.17354840511838598, -0.056677475599468105, 0.22628262432619933, 0.1723507413301672, 0.3040137606615212, 0.5397381304147368, 0.3135778925182824, 0.6052294649315695, 0.3754177413067766, 0.6587919921447962, 0.6052742600612523, 0.7447110455847153, 0.988019670362478, 0.769443687491388, 1.0686795149296102, 1.775730542229535, 2.9959675439918843, 3.8793125628322964, 5.992957700642645, 8.210474677708344, 9.966107047124941, 12.584198885201351, 14.680602787493621, 17.290192664247954, 19.56289054850457, 22.021183335087176, 24.58334796092491, 26.683627979114398, 29.294778647282243, 31.384241379666417, 33.986890086513064, 36.01729383448296, 38.23329248478063, 40.5531629743338, 42.08982985268288, 44.14430854134136, 45.677099294215665, 47.024761538727994, 48.035531800319156, 49.23189696423846, 50.53213396741306, 51.084527353432684, 52.15473254976222, 52.70324981030756, 53.76493778302004, 54.489733772810375, 55.4001246649288, 56.41292097858787, 56.96383268459811, 58.0325562009173, 58.47979367462843, 59.44021712280176, 60.06374858805376, 60.87287495563397, 61.6333243018158, 61.931889040347926, 62.748265589189415, 63.03911987575383, 63.84316013677999, 64.31030841488543, 64.96305157980234, 65.71966658397605, 66.01439698049995, 66.82693920406105, 67.11779349183819, 67.9218337540776, 68.38898203339555, 69.04172521568775, 69.79834023723433, 70.09307065113146, 70.79956459773605, 70.98437060855693, 71.68236259383963, 71.6935686452813, 71.89036959905064, 72.1910423920742, 72.02983057744856, 72.38643057313308, 72.22134263303343, 72.5694406673961, 72.58064671883719, 72.77744767260681, 73.07812046563106, 72.91690865100554, 73.27350864668973, 73.10842070658973, 73.45651874095262, 73.46772479239414, 73.6645257461633, 73.96519853918707, 73.80398672456158, 74.1605867202464, 73.995498780147, 74.3435968145091, 74.35480286595109, 74.5516038197198, 74.85227661274307, 74.69106479811887, 75.04766479380316, 74.8825768537033, 75.23067488806642, 75.24188093950804, 75.43868189327702, 75.73935468630079, 75.57814287167541, 75.93474286735983, 75.76965492726009, 76.11775296162203, 76.12895901306375, 76.32575996683244, 76.6264327598568, 76.4652209452319, 76.82182094091647, 76.65673300081637, 77.00483103517936, 77.01603708662068, 77.21283804039, 77.51351083341368, 77.35229901878843, 77.70889901447313, 77.54381107437365, 77.89190910873671, 77.90311516017763, 78.0999161139465]}, {\"marker\": {\"color\": \"blue\"}, \"mode\": \"lines+markers\", \"name\": \"Actual Cases\", \"type\": \"scatter\", \"x\": [\"2020-04-02T00:00:00\", \"2020-04-03T00:00:00\", \"2020-04-04T00:00:00\", \"2020-04-05T00:00:00\", \"2020-04-06T00:00:00\", \"2020-04-07T00:00:00\", \"2020-04-08T00:00:00\", \"2020-04-09T00:00:00\", \"2020-04-10T00:00:00\", \"2020-04-11T00:00:00\", \"2020-04-12T00:00:00\", \"2020-04-13T00:00:00\", \"2020-04-14T00:00:00\", \"2020-04-15T00:00:00\", \"2020-04-16T00:00:00\", \"2020-04-17T00:00:00\", \"2020-04-18T00:00:00\", \"2020-04-19T00:00:00\", \"2020-04-20T00:00:00\", \"2020-04-21T00:00:00\", \"2020-04-22T00:00:00\", \"2020-04-23T00:00:00\", \"2020-04-24T00:00:00\", \"2020-04-25T00:00:00\", \"2020-04-26T00:00:00\", \"2020-04-27T00:00:00\", \"2020-04-28T00:00:00\", \"2020-04-29T00:00:00\", \"2020-04-30T00:00:00\", \"2020-05-01T00:00:00\", \"2020-05-02T00:00:00\", \"2020-05-03T00:00:00\", \"2020-05-04T00:00:00\", \"2020-05-05T00:00:00\", \"2020-05-06T00:00:00\", \"2020-05-07T00:00:00\", \"2020-05-08T00:00:00\", \"2020-05-09T00:00:00\", \"2020-05-10T00:00:00\", \"2020-05-11T00:00:00\", \"2020-05-12T00:00:00\", \"2020-05-13T00:00:00\", \"2020-05-14T00:00:00\", \"2020-05-15T00:00:00\", \"2020-05-16T00:00:00\", \"2020-05-17T00:00:00\", \"2020-05-18T00:00:00\", \"2020-05-19T00:00:00\", \"2020-05-20T00:00:00\", \"2020-05-21T00:00:00\", \"2020-05-22T00:00:00\", \"2020-05-23T00:00:00\", \"2020-05-24T00:00:00\", \"2020-05-25T00:00:00\", \"2020-05-26T00:00:00\", \"2020-05-27T00:00:00\", \"2020-05-28T00:00:00\", \"2020-05-29T00:00:00\", \"2020-05-30T00:00:00\", \"2020-05-31T00:00:00\", \"2020-06-01T00:00:00\", \"2020-06-02T00:00:00\", \"2020-06-03T00:00:00\", \"2020-06-04T00:00:00\", \"2020-06-05T00:00:00\", \"2020-06-06T00:00:00\", \"2020-06-07T00:00:00\", \"2020-06-08T00:00:00\", \"2020-06-09T00:00:00\", \"2020-06-10T00:00:00\", \"2020-06-11T00:00:00\", \"2020-06-12T00:00:00\", \"2020-06-13T00:00:00\", \"2020-06-14T00:00:00\", \"2020-06-15T00:00:00\", \"2020-06-16T00:00:00\", \"2020-06-17T00:00:00\", \"2020-06-18T00:00:00\", \"2020-06-19T00:00:00\", \"2020-06-20T00:00:00\", \"2020-06-21T00:00:00\", \"2020-06-22T00:00:00\", \"2020-06-23T00:00:00\", \"2020-06-24T00:00:00\", \"2020-06-25T00:00:00\", \"2020-06-26T00:00:00\", \"2020-06-27T00:00:00\", \"2020-06-28T00:00:00\", \"2020-06-29T00:00:00\", \"2020-06-30T00:00:00\", \"2020-07-01T00:00:00\", \"2020-07-02T00:00:00\", \"2020-07-03T00:00:00\", \"2020-07-04T00:00:00\", \"2020-07-05T00:00:00\", \"2020-07-06T00:00:00\", \"2020-07-07T00:00:00\", \"2020-07-08T00:00:00\", \"2020-07-09T00:00:00\", \"2020-07-10T00:00:00\", \"2020-07-11T00:00:00\", \"2020-07-12T00:00:00\", \"2020-07-13T00:00:00\"], \"y\": [0, 0, 0, 0, 0, 0, 0, 0, 0, 0, 0, 0, 0, 0, 0, 0, 0, 0, 1, 1, 1, 1, 1, 1, 1, 3, 3, 6, 8, 8, 10, 13, 15, 19, 24, 27, 29, 33, 33, 33, 36, 37, 40, 40, 45, 47, 49, 49, 50, 50, 51, 51, 52, 53, 54, 55, 56, 56, 59, 59, 61, 61, 61, 62, 63, 63, 63, 64, 64, 64, 65, 65, 65, 66, 68, 68, 69, 70, 71, 71, 71, 72, 72, 72, 73, 73, 73, 73, 73, 73, 73, 73, 73, 73, 73, 73, 73, 73, 73, 74, 74, 74, 74]}],\n",
              "                        {\"template\": {\"data\": {\"bar\": [{\"error_x\": {\"color\": \"#2a3f5f\"}, \"error_y\": {\"color\": \"#2a3f5f\"}, \"marker\": {\"line\": {\"color\": \"#E5ECF6\", \"width\": 0.5}}, \"type\": \"bar\"}], \"barpolar\": [{\"marker\": {\"line\": {\"color\": \"#E5ECF6\", \"width\": 0.5}}, \"type\": \"barpolar\"}], \"carpet\": [{\"aaxis\": {\"endlinecolor\": \"#2a3f5f\", \"gridcolor\": \"white\", \"linecolor\": \"white\", \"minorgridcolor\": \"white\", \"startlinecolor\": \"#2a3f5f\"}, \"baxis\": {\"endlinecolor\": \"#2a3f5f\", \"gridcolor\": \"white\", \"linecolor\": \"white\", \"minorgridcolor\": \"white\", \"startlinecolor\": \"#2a3f5f\"}, \"type\": \"carpet\"}], \"choropleth\": [{\"colorbar\": {\"outlinewidth\": 0, \"ticks\": \"\"}, \"type\": \"choropleth\"}], \"contour\": [{\"colorbar\": {\"outlinewidth\": 0, \"ticks\": \"\"}, \"colorscale\": [[0.0, \"#0d0887\"], [0.1111111111111111, \"#46039f\"], [0.2222222222222222, \"#7201a8\"], [0.3333333333333333, \"#9c179e\"], [0.4444444444444444, \"#bd3786\"], [0.5555555555555556, \"#d8576b\"], [0.6666666666666666, \"#ed7953\"], [0.7777777777777778, \"#fb9f3a\"], [0.8888888888888888, \"#fdca26\"], [1.0, \"#f0f921\"]], \"type\": \"contour\"}], \"contourcarpet\": [{\"colorbar\": {\"outlinewidth\": 0, \"ticks\": \"\"}, \"type\": \"contourcarpet\"}], \"heatmap\": [{\"colorbar\": {\"outlinewidth\": 0, \"ticks\": \"\"}, \"colorscale\": [[0.0, \"#0d0887\"], [0.1111111111111111, \"#46039f\"], [0.2222222222222222, \"#7201a8\"], [0.3333333333333333, \"#9c179e\"], [0.4444444444444444, \"#bd3786\"], [0.5555555555555556, \"#d8576b\"], [0.6666666666666666, \"#ed7953\"], [0.7777777777777778, \"#fb9f3a\"], [0.8888888888888888, \"#fdca26\"], [1.0, \"#f0f921\"]], \"type\": \"heatmap\"}], \"heatmapgl\": [{\"colorbar\": {\"outlinewidth\": 0, \"ticks\": \"\"}, \"colorscale\": [[0.0, \"#0d0887\"], [0.1111111111111111, \"#46039f\"], [0.2222222222222222, \"#7201a8\"], [0.3333333333333333, \"#9c179e\"], [0.4444444444444444, \"#bd3786\"], [0.5555555555555556, \"#d8576b\"], [0.6666666666666666, \"#ed7953\"], [0.7777777777777778, \"#fb9f3a\"], [0.8888888888888888, \"#fdca26\"], [1.0, \"#f0f921\"]], \"type\": \"heatmapgl\"}], \"histogram\": [{\"marker\": {\"colorbar\": {\"outlinewidth\": 0, \"ticks\": \"\"}}, \"type\": \"histogram\"}], \"histogram2d\": [{\"colorbar\": {\"outlinewidth\": 0, \"ticks\": \"\"}, \"colorscale\": [[0.0, \"#0d0887\"], [0.1111111111111111, \"#46039f\"], [0.2222222222222222, \"#7201a8\"], [0.3333333333333333, \"#9c179e\"], [0.4444444444444444, \"#bd3786\"], [0.5555555555555556, \"#d8576b\"], [0.6666666666666666, \"#ed7953\"], [0.7777777777777778, \"#fb9f3a\"], [0.8888888888888888, \"#fdca26\"], [1.0, \"#f0f921\"]], \"type\": \"histogram2d\"}], \"histogram2dcontour\": [{\"colorbar\": {\"outlinewidth\": 0, \"ticks\": \"\"}, \"colorscale\": [[0.0, \"#0d0887\"], [0.1111111111111111, \"#46039f\"], [0.2222222222222222, \"#7201a8\"], [0.3333333333333333, \"#9c179e\"], [0.4444444444444444, \"#bd3786\"], [0.5555555555555556, \"#d8576b\"], [0.6666666666666666, \"#ed7953\"], [0.7777777777777778, \"#fb9f3a\"], [0.8888888888888888, \"#fdca26\"], [1.0, \"#f0f921\"]], \"type\": \"histogram2dcontour\"}], \"mesh3d\": [{\"colorbar\": {\"outlinewidth\": 0, \"ticks\": \"\"}, \"type\": \"mesh3d\"}], \"parcoords\": [{\"line\": {\"colorbar\": {\"outlinewidth\": 0, \"ticks\": \"\"}}, \"type\": \"parcoords\"}], \"pie\": [{\"automargin\": true, \"type\": \"pie\"}], \"scatter\": [{\"marker\": {\"colorbar\": {\"outlinewidth\": 0, \"ticks\": \"\"}}, \"type\": \"scatter\"}], \"scatter3d\": [{\"line\": {\"colorbar\": {\"outlinewidth\": 0, \"ticks\": \"\"}}, \"marker\": {\"colorbar\": {\"outlinewidth\": 0, \"ticks\": \"\"}}, \"type\": \"scatter3d\"}], \"scattercarpet\": [{\"marker\": {\"colorbar\": {\"outlinewidth\": 0, \"ticks\": \"\"}}, \"type\": \"scattercarpet\"}], \"scattergeo\": [{\"marker\": {\"colorbar\": {\"outlinewidth\": 0, \"ticks\": \"\"}}, \"type\": \"scattergeo\"}], \"scattergl\": [{\"marker\": {\"colorbar\": {\"outlinewidth\": 0, \"ticks\": \"\"}}, \"type\": \"scattergl\"}], \"scattermapbox\": [{\"marker\": {\"colorbar\": {\"outlinewidth\": 0, \"ticks\": \"\"}}, \"type\": \"scattermapbox\"}], \"scatterpolar\": [{\"marker\": {\"colorbar\": {\"outlinewidth\": 0, \"ticks\": \"\"}}, \"type\": \"scatterpolar\"}], \"scatterpolargl\": [{\"marker\": {\"colorbar\": {\"outlinewidth\": 0, \"ticks\": \"\"}}, \"type\": \"scatterpolargl\"}], \"scatterternary\": [{\"marker\": {\"colorbar\": {\"outlinewidth\": 0, \"ticks\": \"\"}}, \"type\": \"scatterternary\"}], \"surface\": [{\"colorbar\": {\"outlinewidth\": 0, \"ticks\": \"\"}, \"colorscale\": [[0.0, \"#0d0887\"], [0.1111111111111111, \"#46039f\"], [0.2222222222222222, \"#7201a8\"], [0.3333333333333333, \"#9c179e\"], [0.4444444444444444, \"#bd3786\"], [0.5555555555555556, \"#d8576b\"], [0.6666666666666666, \"#ed7953\"], [0.7777777777777778, \"#fb9f3a\"], [0.8888888888888888, \"#fdca26\"], [1.0, \"#f0f921\"]], \"type\": \"surface\"}], \"table\": [{\"cells\": {\"fill\": {\"color\": \"#EBF0F8\"}, \"line\": {\"color\": \"white\"}}, \"header\": {\"fill\": {\"color\": \"#C8D4E3\"}, \"line\": {\"color\": \"white\"}}, \"type\": \"table\"}]}, \"layout\": {\"annotationdefaults\": {\"arrowcolor\": \"#2a3f5f\", \"arrowhead\": 0, \"arrowwidth\": 1}, \"coloraxis\": {\"colorbar\": {\"outlinewidth\": 0, \"ticks\": \"\"}}, \"colorscale\": {\"diverging\": [[0, \"#8e0152\"], [0.1, \"#c51b7d\"], [0.2, \"#de77ae\"], [0.3, \"#f1b6da\"], [0.4, \"#fde0ef\"], [0.5, \"#f7f7f7\"], [0.6, \"#e6f5d0\"], [0.7, \"#b8e186\"], [0.8, \"#7fbc41\"], [0.9, \"#4d9221\"], [1, \"#276419\"]], \"sequential\": [[0.0, \"#0d0887\"], [0.1111111111111111, \"#46039f\"], [0.2222222222222222, \"#7201a8\"], [0.3333333333333333, \"#9c179e\"], [0.4444444444444444, \"#bd3786\"], [0.5555555555555556, \"#d8576b\"], [0.6666666666666666, \"#ed7953\"], [0.7777777777777778, \"#fb9f3a\"], [0.8888888888888888, \"#fdca26\"], [1.0, \"#f0f921\"]], \"sequentialminus\": [[0.0, \"#0d0887\"], [0.1111111111111111, \"#46039f\"], [0.2222222222222222, \"#7201a8\"], [0.3333333333333333, \"#9c179e\"], [0.4444444444444444, \"#bd3786\"], [0.5555555555555556, \"#d8576b\"], [0.6666666666666666, \"#ed7953\"], [0.7777777777777778, \"#fb9f3a\"], [0.8888888888888888, \"#fdca26\"], [1.0, \"#f0f921\"]]}, \"colorway\": [\"#636efa\", \"#EF553B\", \"#00cc96\", \"#ab63fa\", \"#FFA15A\", \"#19d3f3\", \"#FF6692\", \"#B6E880\", \"#FF97FF\", \"#FECB52\"], \"font\": {\"color\": \"#2a3f5f\"}, \"geo\": {\"bgcolor\": \"white\", \"lakecolor\": \"white\", \"landcolor\": \"#E5ECF6\", \"showlakes\": true, \"showland\": true, \"subunitcolor\": \"white\"}, \"hoverlabel\": {\"align\": \"left\"}, \"hovermode\": \"closest\", \"mapbox\": {\"style\": \"light\"}, \"paper_bgcolor\": \"white\", \"plot_bgcolor\": \"#E5ECF6\", \"polar\": {\"angularaxis\": {\"gridcolor\": \"white\", \"linecolor\": \"white\", \"ticks\": \"\"}, \"bgcolor\": \"#E5ECF6\", \"radialaxis\": {\"gridcolor\": \"white\", \"linecolor\": \"white\", \"ticks\": \"\"}}, \"scene\": {\"xaxis\": {\"backgroundcolor\": \"#E5ECF6\", \"gridcolor\": \"white\", \"gridwidth\": 2, \"linecolor\": \"white\", \"showbackground\": true, \"ticks\": \"\", \"zerolinecolor\": \"white\"}, \"yaxis\": {\"backgroundcolor\": \"#E5ECF6\", \"gridcolor\": \"white\", \"gridwidth\": 2, \"linecolor\": \"white\", \"showbackground\": true, \"ticks\": \"\", \"zerolinecolor\": \"white\"}, \"zaxis\": {\"backgroundcolor\": \"#E5ECF6\", \"gridcolor\": \"white\", \"gridwidth\": 2, \"linecolor\": \"white\", \"showbackground\": true, \"ticks\": \"\", \"zerolinecolor\": \"white\"}}, \"shapedefaults\": {\"line\": {\"color\": \"#2a3f5f\"}}, \"ternary\": {\"aaxis\": {\"gridcolor\": \"white\", \"linecolor\": \"white\", \"ticks\": \"\"}, \"baxis\": {\"gridcolor\": \"white\", \"linecolor\": \"white\", \"ticks\": \"\"}, \"bgcolor\": \"#E5ECF6\", \"caxis\": {\"gridcolor\": \"white\", \"linecolor\": \"white\", \"ticks\": \"\"}}, \"title\": {\"x\": 0.05}, \"xaxis\": {\"automargin\": true, \"gridcolor\": \"white\", \"linecolor\": \"white\", \"ticks\": \"\", \"title\": {\"standoff\": 15}, \"zerolinecolor\": \"white\", \"zerolinewidth\": 2}, \"yaxis\": {\"automargin\": true, \"gridcolor\": \"white\", \"linecolor\": \"white\", \"ticks\": \"\", \"title\": {\"standoff\": 15}, \"zerolinecolor\": \"white\", \"zerolinewidth\": 2}}}, \"title\": {\"text\": \"Forecasting of Deaths in BREVES for Next 30 Days\"}},\n",
              "                        {\"responsive\": true}\n",
              "                    ).then(function(){\n",
              "                            \n",
              "var gd = document.getElementById('d6b80c41-256d-45cf-aecc-221d9dc37e3c');\n",
              "var x = new MutationObserver(function (mutations, observer) {{\n",
              "        var display = window.getComputedStyle(gd).display;\n",
              "        if (!display || display === 'none') {{\n",
              "            console.log([gd, 'removed!']);\n",
              "            Plotly.purge(gd);\n",
              "            observer.disconnect();\n",
              "        }}\n",
              "}});\n",
              "\n",
              "// Listen for the removal of the full notebook cells\n",
              "var notebookContainer = gd.closest('#notebook-container');\n",
              "if (notebookContainer) {{\n",
              "    x.observe(notebookContainer, {childList: true});\n",
              "}}\n",
              "\n",
              "// Listen for the clearing of the current output cell\n",
              "var outputEl = gd.closest('.output');\n",
              "if (outputEl) {{\n",
              "    x.observe(outputEl, {childList: true});\n",
              "}}\n",
              "\n",
              "                        })\n",
              "                };\n",
              "                });\n",
              "            </script>\n",
              "        </div>"
            ]
          },
          "metadata": {
            "tags": []
          }
        }
      ]
    },
    {
      "cell_type": "code",
      "metadata": {
        "id": "QVKpCjvIcw7M",
        "colab_type": "code",
        "colab": {},
        "outputId": "d692de7c-6117-4ea9-c056-c2eeca8ce6e8"
      },
      "source": [
        "#Forecasting of Recovered  for Next 30 Days\n",
        "df = df_breves.groupby('Date')['Recovered'].sum().reset_index()\n",
        "df.columns = ['ds','y']\n",
        "df['ds'] = pd.to_datetime(df['ds'])\n",
        "m = Prophet()\n",
        "m.fit(df)\n",
        "future = m.make_future_dataframe(periods=30)\n",
        "forecast = m.predict(future)\n",
        "fig = go.Figure()\n",
        "fig.add_trace(go.Scatter(x=forecast['ds'], y=forecast['yhat'],\n",
        "                    mode='lines+markers',name='Predicted Cases',marker_color='green'))\n",
        "fig.add_trace(go.Scatter(x=df['ds'], y=df['y'],\n",
        "                    mode='lines+markers',name='Actual Cases',marker_color='yellow'))\n",
        "fig.update_layout(\n",
        "    title='Forecasting of Recovered in BREVES for Next 30 Days')\n",
        "fig.show()"
      ],
      "execution_count": null,
      "outputs": [
        {
          "output_type": "stream",
          "text": [
            "INFO:fbprophet:Disabling yearly seasonality. Run prophet with yearly_seasonality=True to override this.\n",
            "INFO:fbprophet:Disabling daily seasonality. Run prophet with daily_seasonality=True to override this.\n"
          ],
          "name": "stderr"
        },
        {
          "output_type": "display_data",
          "data": {
            "application/vnd.plotly.v1+json": {
              "config": {
                "plotlyServerURL": "https://plot.ly"
              },
              "data": [
                {
                  "marker": {
                    "color": "green"
                  },
                  "mode": "lines+markers",
                  "name": "Predicted Cases",
                  "type": "scatter",
                  "x": [
                    "2020-04-02T00:00:00",
                    "2020-04-03T00:00:00",
                    "2020-04-04T00:00:00",
                    "2020-04-05T00:00:00",
                    "2020-04-06T00:00:00",
                    "2020-04-07T00:00:00",
                    "2020-04-08T00:00:00",
                    "2020-04-09T00:00:00",
                    "2020-04-10T00:00:00",
                    "2020-04-11T00:00:00",
                    "2020-04-12T00:00:00",
                    "2020-04-13T00:00:00",
                    "2020-04-14T00:00:00",
                    "2020-04-15T00:00:00",
                    "2020-04-16T00:00:00",
                    "2020-04-17T00:00:00",
                    "2020-04-18T00:00:00",
                    "2020-04-19T00:00:00",
                    "2020-04-20T00:00:00",
                    "2020-04-21T00:00:00",
                    "2020-04-22T00:00:00",
                    "2020-04-23T00:00:00",
                    "2020-04-24T00:00:00",
                    "2020-04-25T00:00:00",
                    "2020-04-26T00:00:00",
                    "2020-04-27T00:00:00",
                    "2020-04-28T00:00:00",
                    "2020-04-29T00:00:00",
                    "2020-04-30T00:00:00",
                    "2020-05-01T00:00:00",
                    "2020-05-02T00:00:00",
                    "2020-05-03T00:00:00",
                    "2020-05-04T00:00:00",
                    "2020-05-05T00:00:00",
                    "2020-05-06T00:00:00",
                    "2020-05-07T00:00:00",
                    "2020-05-08T00:00:00",
                    "2020-05-09T00:00:00",
                    "2020-05-10T00:00:00",
                    "2020-05-11T00:00:00",
                    "2020-05-12T00:00:00",
                    "2020-05-13T00:00:00",
                    "2020-05-14T00:00:00",
                    "2020-05-15T00:00:00",
                    "2020-05-16T00:00:00",
                    "2020-05-17T00:00:00",
                    "2020-05-18T00:00:00",
                    "2020-05-19T00:00:00",
                    "2020-05-20T00:00:00",
                    "2020-05-21T00:00:00",
                    "2020-05-22T00:00:00",
                    "2020-05-23T00:00:00",
                    "2020-05-24T00:00:00",
                    "2020-05-25T00:00:00",
                    "2020-05-26T00:00:00",
                    "2020-05-27T00:00:00",
                    "2020-05-28T00:00:00",
                    "2020-05-29T00:00:00",
                    "2020-05-30T00:00:00",
                    "2020-05-31T00:00:00",
                    "2020-06-01T00:00:00",
                    "2020-06-02T00:00:00",
                    "2020-06-03T00:00:00",
                    "2020-06-04T00:00:00",
                    "2020-06-05T00:00:00",
                    "2020-06-06T00:00:00",
                    "2020-06-07T00:00:00",
                    "2020-06-08T00:00:00",
                    "2020-06-09T00:00:00",
                    "2020-06-10T00:00:00",
                    "2020-06-11T00:00:00",
                    "2020-06-12T00:00:00",
                    "2020-06-13T00:00:00",
                    "2020-06-14T00:00:00",
                    "2020-06-15T00:00:00",
                    "2020-06-16T00:00:00",
                    "2020-06-17T00:00:00",
                    "2020-06-18T00:00:00",
                    "2020-06-19T00:00:00",
                    "2020-06-20T00:00:00",
                    "2020-06-21T00:00:00",
                    "2020-06-22T00:00:00",
                    "2020-06-23T00:00:00",
                    "2020-06-24T00:00:00",
                    "2020-06-25T00:00:00",
                    "2020-06-26T00:00:00",
                    "2020-06-27T00:00:00",
                    "2020-06-28T00:00:00",
                    "2020-06-29T00:00:00",
                    "2020-06-30T00:00:00",
                    "2020-07-01T00:00:00",
                    "2020-07-02T00:00:00",
                    "2020-07-03T00:00:00",
                    "2020-07-04T00:00:00",
                    "2020-07-05T00:00:00",
                    "2020-07-06T00:00:00",
                    "2020-07-07T00:00:00",
                    "2020-07-08T00:00:00",
                    "2020-07-09T00:00:00",
                    "2020-07-10T00:00:00",
                    "2020-07-11T00:00:00",
                    "2020-07-12T00:00:00",
                    "2020-07-13T00:00:00",
                    "2020-07-14T00:00:00",
                    "2020-07-15T00:00:00",
                    "2020-07-16T00:00:00",
                    "2020-07-17T00:00:00",
                    "2020-07-18T00:00:00",
                    "2020-07-19T00:00:00",
                    "2020-07-20T00:00:00",
                    "2020-07-21T00:00:00",
                    "2020-07-22T00:00:00",
                    "2020-07-23T00:00:00",
                    "2020-07-24T00:00:00",
                    "2020-07-25T00:00:00",
                    "2020-07-26T00:00:00",
                    "2020-07-27T00:00:00",
                    "2020-07-28T00:00:00",
                    "2020-07-29T00:00:00",
                    "2020-07-30T00:00:00",
                    "2020-07-31T00:00:00",
                    "2020-08-01T00:00:00",
                    "2020-08-02T00:00:00",
                    "2020-08-03T00:00:00",
                    "2020-08-04T00:00:00",
                    "2020-08-05T00:00:00",
                    "2020-08-06T00:00:00",
                    "2020-08-07T00:00:00",
                    "2020-08-08T00:00:00",
                    "2020-08-09T00:00:00",
                    "2020-08-10T00:00:00",
                    "2020-08-11T00:00:00",
                    "2020-08-12T00:00:00"
                  ],
                  "y": [
                    1.439408040372247,
                    1.6718503668761469,
                    0.5262341077042263,
                    -3.6590904008476315,
                    -5.394364020151572,
                    -3.814279748646895,
                    0.8629926024360725,
                    2.1681472558923556,
                    2.40058941452987,
                    1.254972987496277,
                    -2.930351688918226,
                    -4.665625364320291,
                    -3.0855411489145856,
                    1.591731146064381,
                    2.896886006443547,
                    3.129328372009859,
                    1.9837121519012468,
                    -2.201612152994721,
                    -3.936885509283292,
                    -2.3568009747789094,
                    2.320472107862476,
                    3.625627601368235,
                    3.8580706000646954,
                    2.7124550130795853,
                    -1.4716377776808294,
                    -3.2056796198301694,
                    -1.6243635711892765,
                    3.108013220462705,
                    4.468272422980017,
                    4.7558191306892645,
                    6.652196519491912,
                    5.508865658893301,
                    6.815585746922229,
                    17.13655200635828,
                    30.554706345389302,
                    40.60074309528328,
                    49.574067350372765,
                    61.8474839937155,
                    71.08119238766352,
                    82.76495173024117,
                    97.7640747865431,
                    115.8603859224244,
                    130.58457946919253,
                    144.23606050907642,
                    156.50948296328787,
                    165.74319716809953,
                    176.68811318143594,
                    190.9483870855611,
                    208.30584906926404,
                    222.29119346385383,
                    233.4636515650546,
                    243.25805108058213,
                    250.01274234673008,
                    259.216155592988,
                    271.7349267300521,
                    287.35088594668895,
                    299.5947274151251,
                    310.7658563887523,
                    320.55892677669675,
                    328.6204414210169,
                    339.1320070139443,
                    352.95893049767807,
                    369.88304206098167,
                    388.1520358078158,
                    405.348317059839,
                    421.1665397261806,
                    436.22265062948134,
                    453.72881248139714,
                    474.5503322241027,
                    498.50817960124914,
                    519.0939093892629,
                    538.6069266824683,
                    556.7418889217296,
                    571.8371429116347,
                    589.3824478501213,
                    610.2431106794152,
                    634.20096161431,
                    654.7866949600678,
                    674.2997158110184,
                    692.4346779482025,
                    707.5299318360051,
                    725.0752366724082,
                    745.292074574272,
                    768.6061005557258,
                    788.5480089480383,
                    807.4172048455486,
                    824.9083421573852,
                    839.3597712198406,
                    856.2612512308988,
                    876.4780891327646,
                    899.7921151142058,
                    919.7340235065301,
                    938.6032194040407,
                    956.0943567158741,
                    970.5457857783292,
                    987.4472657893901,
                    1007.6641036912581,
                    1030.9781296726978,
                    1050.9200380650188,
                    1069.7892339625275,
                    1087.2803712743607,
                    1101.731800336815,
                    1118.6332803478804,
                    1138.8501182497519,
                    1162.1641442311902,
                    1182.1060526235074,
                    1200.975248521022,
                    1218.466385832861,
                    1232.9178148953038,
                    1249.8192949063703,
                    1270.0361328082454,
                    1293.3501587896722,
                    1313.2920671820018,
                    1332.1612630795114,
                    1349.65240039135,
                    1364.1038294537907,
                    1381.0053094648613,
                    1401.2221473667219,
                    1424.5361733481627,
                    1444.4780817404908,
                    1463.3472776380008,
                    1480.8384149498393,
                    1495.2898440122958,
                    1512.1913240233512,
                    1532.4081619252156,
                    1555.722187906657,
                    1575.6640962989825,
                    1594.5332921964903,
                    1612.0244295083255,
                    1626.4758585707814,
                    1643.377338581841,
                    1663.5941764837091,
                    1686.9082024651493
                  ]
                },
                {
                  "marker": {
                    "color": "yellow"
                  },
                  "mode": "lines+markers",
                  "name": "Actual Cases",
                  "type": "scatter",
                  "x": [
                    "2020-04-02T00:00:00",
                    "2020-04-03T00:00:00",
                    "2020-04-04T00:00:00",
                    "2020-04-05T00:00:00",
                    "2020-04-06T00:00:00",
                    "2020-04-07T00:00:00",
                    "2020-04-08T00:00:00",
                    "2020-04-09T00:00:00",
                    "2020-04-10T00:00:00",
                    "2020-04-11T00:00:00",
                    "2020-04-12T00:00:00",
                    "2020-04-13T00:00:00",
                    "2020-04-14T00:00:00",
                    "2020-04-15T00:00:00",
                    "2020-04-16T00:00:00",
                    "2020-04-17T00:00:00",
                    "2020-04-18T00:00:00",
                    "2020-04-19T00:00:00",
                    "2020-04-20T00:00:00",
                    "2020-04-21T00:00:00",
                    "2020-04-22T00:00:00",
                    "2020-04-23T00:00:00",
                    "2020-04-24T00:00:00",
                    "2020-04-25T00:00:00",
                    "2020-04-26T00:00:00",
                    "2020-04-27T00:00:00",
                    "2020-04-28T00:00:00",
                    "2020-04-29T00:00:00",
                    "2020-04-30T00:00:00",
                    "2020-05-01T00:00:00",
                    "2020-05-02T00:00:00",
                    "2020-05-03T00:00:00",
                    "2020-05-04T00:00:00",
                    "2020-05-05T00:00:00",
                    "2020-05-06T00:00:00",
                    "2020-05-07T00:00:00",
                    "2020-05-08T00:00:00",
                    "2020-05-09T00:00:00",
                    "2020-05-10T00:00:00",
                    "2020-05-11T00:00:00",
                    "2020-05-12T00:00:00",
                    "2020-05-13T00:00:00",
                    "2020-05-14T00:00:00",
                    "2020-05-15T00:00:00",
                    "2020-05-16T00:00:00",
                    "2020-05-17T00:00:00",
                    "2020-05-18T00:00:00",
                    "2020-05-19T00:00:00",
                    "2020-05-20T00:00:00",
                    "2020-05-21T00:00:00",
                    "2020-05-22T00:00:00",
                    "2020-05-23T00:00:00",
                    "2020-05-24T00:00:00",
                    "2020-05-25T00:00:00",
                    "2020-05-26T00:00:00",
                    "2020-05-27T00:00:00",
                    "2020-05-28T00:00:00",
                    "2020-05-29T00:00:00",
                    "2020-05-30T00:00:00",
                    "2020-05-31T00:00:00",
                    "2020-06-01T00:00:00",
                    "2020-06-02T00:00:00",
                    "2020-06-03T00:00:00",
                    "2020-06-04T00:00:00",
                    "2020-06-05T00:00:00",
                    "2020-06-06T00:00:00",
                    "2020-06-07T00:00:00",
                    "2020-06-08T00:00:00",
                    "2020-06-09T00:00:00",
                    "2020-06-10T00:00:00",
                    "2020-06-11T00:00:00",
                    "2020-06-12T00:00:00",
                    "2020-06-13T00:00:00",
                    "2020-06-14T00:00:00",
                    "2020-06-15T00:00:00",
                    "2020-06-16T00:00:00",
                    "2020-06-17T00:00:00",
                    "2020-06-18T00:00:00",
                    "2020-06-19T00:00:00",
                    "2020-06-20T00:00:00",
                    "2020-06-21T00:00:00",
                    "2020-06-22T00:00:00",
                    "2020-06-23T00:00:00",
                    "2020-06-24T00:00:00",
                    "2020-06-25T00:00:00",
                    "2020-06-26T00:00:00",
                    "2020-06-27T00:00:00",
                    "2020-06-28T00:00:00",
                    "2020-06-29T00:00:00",
                    "2020-06-30T00:00:00",
                    "2020-07-01T00:00:00",
                    "2020-07-02T00:00:00",
                    "2020-07-03T00:00:00",
                    "2020-07-04T00:00:00",
                    "2020-07-05T00:00:00",
                    "2020-07-06T00:00:00",
                    "2020-07-07T00:00:00",
                    "2020-07-08T00:00:00",
                    "2020-07-09T00:00:00",
                    "2020-07-10T00:00:00",
                    "2020-07-11T00:00:00",
                    "2020-07-12T00:00:00",
                    "2020-07-13T00:00:00"
                  ],
                  "y": [
                    0,
                    0,
                    0,
                    0,
                    0,
                    0,
                    0,
                    0,
                    0,
                    0,
                    0,
                    0,
                    0,
                    0,
                    0,
                    0,
                    0,
                    0,
                    0,
                    0,
                    0,
                    0,
                    0,
                    1,
                    1,
                    2,
                    2,
                    3,
                    3,
                    3,
                    4,
                    6,
                    7,
                    11,
                    23,
                    37,
                    49,
                    52,
                    52,
                    75,
                    89,
                    119,
                    132,
                    156,
                    166,
                    176,
                    186,
                    203,
                    215,
                    229,
                    244,
                    250,
                    256,
                    266,
                    276,
                    286,
                    295,
                    305,
                    313,
                    321,
                    333,
                    343,
                    358,
                    383,
                    402,
                    432,
                    442,
                    445,
                    466,
                    502,
                    525,
                    543,
                    556,
                    566,
                    584,
                    608,
                    636,
                    650,
                    660,
                    672,
                    683,
                    703,
                    737,
                    779,
                    811,
                    826,
                    847,
                    864,
                    875,
                    885,
                    906,
                    926,
                    945,
                    968,
                    986,
                    1002,
                    1014,
                    1025,
                    1038,
                    1055,
                    1073,
                    1085,
                    1100
                  ]
                }
              ],
              "layout": {
                "template": {
                  "data": {
                    "bar": [
                      {
                        "error_x": {
                          "color": "#2a3f5f"
                        },
                        "error_y": {
                          "color": "#2a3f5f"
                        },
                        "marker": {
                          "line": {
                            "color": "#E5ECF6",
                            "width": 0.5
                          }
                        },
                        "type": "bar"
                      }
                    ],
                    "barpolar": [
                      {
                        "marker": {
                          "line": {
                            "color": "#E5ECF6",
                            "width": 0.5
                          }
                        },
                        "type": "barpolar"
                      }
                    ],
                    "carpet": [
                      {
                        "aaxis": {
                          "endlinecolor": "#2a3f5f",
                          "gridcolor": "white",
                          "linecolor": "white",
                          "minorgridcolor": "white",
                          "startlinecolor": "#2a3f5f"
                        },
                        "baxis": {
                          "endlinecolor": "#2a3f5f",
                          "gridcolor": "white",
                          "linecolor": "white",
                          "minorgridcolor": "white",
                          "startlinecolor": "#2a3f5f"
                        },
                        "type": "carpet"
                      }
                    ],
                    "choropleth": [
                      {
                        "colorbar": {
                          "outlinewidth": 0,
                          "ticks": ""
                        },
                        "type": "choropleth"
                      }
                    ],
                    "contour": [
                      {
                        "colorbar": {
                          "outlinewidth": 0,
                          "ticks": ""
                        },
                        "colorscale": [
                          [
                            0,
                            "#0d0887"
                          ],
                          [
                            0.1111111111111111,
                            "#46039f"
                          ],
                          [
                            0.2222222222222222,
                            "#7201a8"
                          ],
                          [
                            0.3333333333333333,
                            "#9c179e"
                          ],
                          [
                            0.4444444444444444,
                            "#bd3786"
                          ],
                          [
                            0.5555555555555556,
                            "#d8576b"
                          ],
                          [
                            0.6666666666666666,
                            "#ed7953"
                          ],
                          [
                            0.7777777777777778,
                            "#fb9f3a"
                          ],
                          [
                            0.8888888888888888,
                            "#fdca26"
                          ],
                          [
                            1,
                            "#f0f921"
                          ]
                        ],
                        "type": "contour"
                      }
                    ],
                    "contourcarpet": [
                      {
                        "colorbar": {
                          "outlinewidth": 0,
                          "ticks": ""
                        },
                        "type": "contourcarpet"
                      }
                    ],
                    "heatmap": [
                      {
                        "colorbar": {
                          "outlinewidth": 0,
                          "ticks": ""
                        },
                        "colorscale": [
                          [
                            0,
                            "#0d0887"
                          ],
                          [
                            0.1111111111111111,
                            "#46039f"
                          ],
                          [
                            0.2222222222222222,
                            "#7201a8"
                          ],
                          [
                            0.3333333333333333,
                            "#9c179e"
                          ],
                          [
                            0.4444444444444444,
                            "#bd3786"
                          ],
                          [
                            0.5555555555555556,
                            "#d8576b"
                          ],
                          [
                            0.6666666666666666,
                            "#ed7953"
                          ],
                          [
                            0.7777777777777778,
                            "#fb9f3a"
                          ],
                          [
                            0.8888888888888888,
                            "#fdca26"
                          ],
                          [
                            1,
                            "#f0f921"
                          ]
                        ],
                        "type": "heatmap"
                      }
                    ],
                    "heatmapgl": [
                      {
                        "colorbar": {
                          "outlinewidth": 0,
                          "ticks": ""
                        },
                        "colorscale": [
                          [
                            0,
                            "#0d0887"
                          ],
                          [
                            0.1111111111111111,
                            "#46039f"
                          ],
                          [
                            0.2222222222222222,
                            "#7201a8"
                          ],
                          [
                            0.3333333333333333,
                            "#9c179e"
                          ],
                          [
                            0.4444444444444444,
                            "#bd3786"
                          ],
                          [
                            0.5555555555555556,
                            "#d8576b"
                          ],
                          [
                            0.6666666666666666,
                            "#ed7953"
                          ],
                          [
                            0.7777777777777778,
                            "#fb9f3a"
                          ],
                          [
                            0.8888888888888888,
                            "#fdca26"
                          ],
                          [
                            1,
                            "#f0f921"
                          ]
                        ],
                        "type": "heatmapgl"
                      }
                    ],
                    "histogram": [
                      {
                        "marker": {
                          "colorbar": {
                            "outlinewidth": 0,
                            "ticks": ""
                          }
                        },
                        "type": "histogram"
                      }
                    ],
                    "histogram2d": [
                      {
                        "colorbar": {
                          "outlinewidth": 0,
                          "ticks": ""
                        },
                        "colorscale": [
                          [
                            0,
                            "#0d0887"
                          ],
                          [
                            0.1111111111111111,
                            "#46039f"
                          ],
                          [
                            0.2222222222222222,
                            "#7201a8"
                          ],
                          [
                            0.3333333333333333,
                            "#9c179e"
                          ],
                          [
                            0.4444444444444444,
                            "#bd3786"
                          ],
                          [
                            0.5555555555555556,
                            "#d8576b"
                          ],
                          [
                            0.6666666666666666,
                            "#ed7953"
                          ],
                          [
                            0.7777777777777778,
                            "#fb9f3a"
                          ],
                          [
                            0.8888888888888888,
                            "#fdca26"
                          ],
                          [
                            1,
                            "#f0f921"
                          ]
                        ],
                        "type": "histogram2d"
                      }
                    ],
                    "histogram2dcontour": [
                      {
                        "colorbar": {
                          "outlinewidth": 0,
                          "ticks": ""
                        },
                        "colorscale": [
                          [
                            0,
                            "#0d0887"
                          ],
                          [
                            0.1111111111111111,
                            "#46039f"
                          ],
                          [
                            0.2222222222222222,
                            "#7201a8"
                          ],
                          [
                            0.3333333333333333,
                            "#9c179e"
                          ],
                          [
                            0.4444444444444444,
                            "#bd3786"
                          ],
                          [
                            0.5555555555555556,
                            "#d8576b"
                          ],
                          [
                            0.6666666666666666,
                            "#ed7953"
                          ],
                          [
                            0.7777777777777778,
                            "#fb9f3a"
                          ],
                          [
                            0.8888888888888888,
                            "#fdca26"
                          ],
                          [
                            1,
                            "#f0f921"
                          ]
                        ],
                        "type": "histogram2dcontour"
                      }
                    ],
                    "mesh3d": [
                      {
                        "colorbar": {
                          "outlinewidth": 0,
                          "ticks": ""
                        },
                        "type": "mesh3d"
                      }
                    ],
                    "parcoords": [
                      {
                        "line": {
                          "colorbar": {
                            "outlinewidth": 0,
                            "ticks": ""
                          }
                        },
                        "type": "parcoords"
                      }
                    ],
                    "pie": [
                      {
                        "automargin": true,
                        "type": "pie"
                      }
                    ],
                    "scatter": [
                      {
                        "marker": {
                          "colorbar": {
                            "outlinewidth": 0,
                            "ticks": ""
                          }
                        },
                        "type": "scatter"
                      }
                    ],
                    "scatter3d": [
                      {
                        "line": {
                          "colorbar": {
                            "outlinewidth": 0,
                            "ticks": ""
                          }
                        },
                        "marker": {
                          "colorbar": {
                            "outlinewidth": 0,
                            "ticks": ""
                          }
                        },
                        "type": "scatter3d"
                      }
                    ],
                    "scattercarpet": [
                      {
                        "marker": {
                          "colorbar": {
                            "outlinewidth": 0,
                            "ticks": ""
                          }
                        },
                        "type": "scattercarpet"
                      }
                    ],
                    "scattergeo": [
                      {
                        "marker": {
                          "colorbar": {
                            "outlinewidth": 0,
                            "ticks": ""
                          }
                        },
                        "type": "scattergeo"
                      }
                    ],
                    "scattergl": [
                      {
                        "marker": {
                          "colorbar": {
                            "outlinewidth": 0,
                            "ticks": ""
                          }
                        },
                        "type": "scattergl"
                      }
                    ],
                    "scattermapbox": [
                      {
                        "marker": {
                          "colorbar": {
                            "outlinewidth": 0,
                            "ticks": ""
                          }
                        },
                        "type": "scattermapbox"
                      }
                    ],
                    "scatterpolar": [
                      {
                        "marker": {
                          "colorbar": {
                            "outlinewidth": 0,
                            "ticks": ""
                          }
                        },
                        "type": "scatterpolar"
                      }
                    ],
                    "scatterpolargl": [
                      {
                        "marker": {
                          "colorbar": {
                            "outlinewidth": 0,
                            "ticks": ""
                          }
                        },
                        "type": "scatterpolargl"
                      }
                    ],
                    "scatterternary": [
                      {
                        "marker": {
                          "colorbar": {
                            "outlinewidth": 0,
                            "ticks": ""
                          }
                        },
                        "type": "scatterternary"
                      }
                    ],
                    "surface": [
                      {
                        "colorbar": {
                          "outlinewidth": 0,
                          "ticks": ""
                        },
                        "colorscale": [
                          [
                            0,
                            "#0d0887"
                          ],
                          [
                            0.1111111111111111,
                            "#46039f"
                          ],
                          [
                            0.2222222222222222,
                            "#7201a8"
                          ],
                          [
                            0.3333333333333333,
                            "#9c179e"
                          ],
                          [
                            0.4444444444444444,
                            "#bd3786"
                          ],
                          [
                            0.5555555555555556,
                            "#d8576b"
                          ],
                          [
                            0.6666666666666666,
                            "#ed7953"
                          ],
                          [
                            0.7777777777777778,
                            "#fb9f3a"
                          ],
                          [
                            0.8888888888888888,
                            "#fdca26"
                          ],
                          [
                            1,
                            "#f0f921"
                          ]
                        ],
                        "type": "surface"
                      }
                    ],
                    "table": [
                      {
                        "cells": {
                          "fill": {
                            "color": "#EBF0F8"
                          },
                          "line": {
                            "color": "white"
                          }
                        },
                        "header": {
                          "fill": {
                            "color": "#C8D4E3"
                          },
                          "line": {
                            "color": "white"
                          }
                        },
                        "type": "table"
                      }
                    ]
                  },
                  "layout": {
                    "annotationdefaults": {
                      "arrowcolor": "#2a3f5f",
                      "arrowhead": 0,
                      "arrowwidth": 1
                    },
                    "coloraxis": {
                      "colorbar": {
                        "outlinewidth": 0,
                        "ticks": ""
                      }
                    },
                    "colorscale": {
                      "diverging": [
                        [
                          0,
                          "#8e0152"
                        ],
                        [
                          0.1,
                          "#c51b7d"
                        ],
                        [
                          0.2,
                          "#de77ae"
                        ],
                        [
                          0.3,
                          "#f1b6da"
                        ],
                        [
                          0.4,
                          "#fde0ef"
                        ],
                        [
                          0.5,
                          "#f7f7f7"
                        ],
                        [
                          0.6,
                          "#e6f5d0"
                        ],
                        [
                          0.7,
                          "#b8e186"
                        ],
                        [
                          0.8,
                          "#7fbc41"
                        ],
                        [
                          0.9,
                          "#4d9221"
                        ],
                        [
                          1,
                          "#276419"
                        ]
                      ],
                      "sequential": [
                        [
                          0,
                          "#0d0887"
                        ],
                        [
                          0.1111111111111111,
                          "#46039f"
                        ],
                        [
                          0.2222222222222222,
                          "#7201a8"
                        ],
                        [
                          0.3333333333333333,
                          "#9c179e"
                        ],
                        [
                          0.4444444444444444,
                          "#bd3786"
                        ],
                        [
                          0.5555555555555556,
                          "#d8576b"
                        ],
                        [
                          0.6666666666666666,
                          "#ed7953"
                        ],
                        [
                          0.7777777777777778,
                          "#fb9f3a"
                        ],
                        [
                          0.8888888888888888,
                          "#fdca26"
                        ],
                        [
                          1,
                          "#f0f921"
                        ]
                      ],
                      "sequentialminus": [
                        [
                          0,
                          "#0d0887"
                        ],
                        [
                          0.1111111111111111,
                          "#46039f"
                        ],
                        [
                          0.2222222222222222,
                          "#7201a8"
                        ],
                        [
                          0.3333333333333333,
                          "#9c179e"
                        ],
                        [
                          0.4444444444444444,
                          "#bd3786"
                        ],
                        [
                          0.5555555555555556,
                          "#d8576b"
                        ],
                        [
                          0.6666666666666666,
                          "#ed7953"
                        ],
                        [
                          0.7777777777777778,
                          "#fb9f3a"
                        ],
                        [
                          0.8888888888888888,
                          "#fdca26"
                        ],
                        [
                          1,
                          "#f0f921"
                        ]
                      ]
                    },
                    "colorway": [
                      "#636efa",
                      "#EF553B",
                      "#00cc96",
                      "#ab63fa",
                      "#FFA15A",
                      "#19d3f3",
                      "#FF6692",
                      "#B6E880",
                      "#FF97FF",
                      "#FECB52"
                    ],
                    "font": {
                      "color": "#2a3f5f"
                    },
                    "geo": {
                      "bgcolor": "white",
                      "lakecolor": "white",
                      "landcolor": "#E5ECF6",
                      "showlakes": true,
                      "showland": true,
                      "subunitcolor": "white"
                    },
                    "hoverlabel": {
                      "align": "left"
                    },
                    "hovermode": "closest",
                    "mapbox": {
                      "style": "light"
                    },
                    "paper_bgcolor": "white",
                    "plot_bgcolor": "#E5ECF6",
                    "polar": {
                      "angularaxis": {
                        "gridcolor": "white",
                        "linecolor": "white",
                        "ticks": ""
                      },
                      "bgcolor": "#E5ECF6",
                      "radialaxis": {
                        "gridcolor": "white",
                        "linecolor": "white",
                        "ticks": ""
                      }
                    },
                    "scene": {
                      "xaxis": {
                        "backgroundcolor": "#E5ECF6",
                        "gridcolor": "white",
                        "gridwidth": 2,
                        "linecolor": "white",
                        "showbackground": true,
                        "ticks": "",
                        "zerolinecolor": "white"
                      },
                      "yaxis": {
                        "backgroundcolor": "#E5ECF6",
                        "gridcolor": "white",
                        "gridwidth": 2,
                        "linecolor": "white",
                        "showbackground": true,
                        "ticks": "",
                        "zerolinecolor": "white"
                      },
                      "zaxis": {
                        "backgroundcolor": "#E5ECF6",
                        "gridcolor": "white",
                        "gridwidth": 2,
                        "linecolor": "white",
                        "showbackground": true,
                        "ticks": "",
                        "zerolinecolor": "white"
                      }
                    },
                    "shapedefaults": {
                      "line": {
                        "color": "#2a3f5f"
                      }
                    },
                    "ternary": {
                      "aaxis": {
                        "gridcolor": "white",
                        "linecolor": "white",
                        "ticks": ""
                      },
                      "baxis": {
                        "gridcolor": "white",
                        "linecolor": "white",
                        "ticks": ""
                      },
                      "bgcolor": "#E5ECF6",
                      "caxis": {
                        "gridcolor": "white",
                        "linecolor": "white",
                        "ticks": ""
                      }
                    },
                    "title": {
                      "x": 0.05
                    },
                    "xaxis": {
                      "automargin": true,
                      "gridcolor": "white",
                      "linecolor": "white",
                      "ticks": "",
                      "title": {
                        "standoff": 15
                      },
                      "zerolinecolor": "white",
                      "zerolinewidth": 2
                    },
                    "yaxis": {
                      "automargin": true,
                      "gridcolor": "white",
                      "linecolor": "white",
                      "ticks": "",
                      "title": {
                        "standoff": 15
                      },
                      "zerolinecolor": "white",
                      "zerolinewidth": 2
                    }
                  }
                },
                "title": {
                  "text": "Forecasting of Recovered in BREVES for Next 30 Days"
                }
              }
            },
            "text/html": [
              "<div>\n",
              "        \n",
              "        \n",
              "            <div id=\"05724b54-ce26-49a9-8800-399993f2bd2e\" class=\"plotly-graph-div\" style=\"height:525px; width:100%;\"></div>\n",
              "            <script type=\"text/javascript\">\n",
              "                require([\"plotly\"], function(Plotly) {\n",
              "                    window.PLOTLYENV=window.PLOTLYENV || {};\n",
              "                    \n",
              "                if (document.getElementById(\"05724b54-ce26-49a9-8800-399993f2bd2e\")) {\n",
              "                    Plotly.newPlot(\n",
              "                        '05724b54-ce26-49a9-8800-399993f2bd2e',\n",
              "                        [{\"marker\": {\"color\": \"green\"}, \"mode\": \"lines+markers\", \"name\": \"Predicted Cases\", \"type\": \"scatter\", \"x\": [\"2020-04-02T00:00:00\", \"2020-04-03T00:00:00\", \"2020-04-04T00:00:00\", \"2020-04-05T00:00:00\", \"2020-04-06T00:00:00\", \"2020-04-07T00:00:00\", \"2020-04-08T00:00:00\", \"2020-04-09T00:00:00\", \"2020-04-10T00:00:00\", \"2020-04-11T00:00:00\", \"2020-04-12T00:00:00\", \"2020-04-13T00:00:00\", \"2020-04-14T00:00:00\", \"2020-04-15T00:00:00\", \"2020-04-16T00:00:00\", \"2020-04-17T00:00:00\", \"2020-04-18T00:00:00\", \"2020-04-19T00:00:00\", \"2020-04-20T00:00:00\", \"2020-04-21T00:00:00\", \"2020-04-22T00:00:00\", \"2020-04-23T00:00:00\", \"2020-04-24T00:00:00\", \"2020-04-25T00:00:00\", \"2020-04-26T00:00:00\", \"2020-04-27T00:00:00\", \"2020-04-28T00:00:00\", \"2020-04-29T00:00:00\", \"2020-04-30T00:00:00\", \"2020-05-01T00:00:00\", \"2020-05-02T00:00:00\", \"2020-05-03T00:00:00\", \"2020-05-04T00:00:00\", \"2020-05-05T00:00:00\", \"2020-05-06T00:00:00\", \"2020-05-07T00:00:00\", \"2020-05-08T00:00:00\", \"2020-05-09T00:00:00\", \"2020-05-10T00:00:00\", \"2020-05-11T00:00:00\", \"2020-05-12T00:00:00\", \"2020-05-13T00:00:00\", \"2020-05-14T00:00:00\", \"2020-05-15T00:00:00\", \"2020-05-16T00:00:00\", \"2020-05-17T00:00:00\", \"2020-05-18T00:00:00\", \"2020-05-19T00:00:00\", \"2020-05-20T00:00:00\", \"2020-05-21T00:00:00\", \"2020-05-22T00:00:00\", \"2020-05-23T00:00:00\", \"2020-05-24T00:00:00\", \"2020-05-25T00:00:00\", \"2020-05-26T00:00:00\", \"2020-05-27T00:00:00\", \"2020-05-28T00:00:00\", \"2020-05-29T00:00:00\", \"2020-05-30T00:00:00\", \"2020-05-31T00:00:00\", \"2020-06-01T00:00:00\", \"2020-06-02T00:00:00\", \"2020-06-03T00:00:00\", \"2020-06-04T00:00:00\", \"2020-06-05T00:00:00\", \"2020-06-06T00:00:00\", \"2020-06-07T00:00:00\", \"2020-06-08T00:00:00\", \"2020-06-09T00:00:00\", \"2020-06-10T00:00:00\", \"2020-06-11T00:00:00\", \"2020-06-12T00:00:00\", \"2020-06-13T00:00:00\", \"2020-06-14T00:00:00\", \"2020-06-15T00:00:00\", \"2020-06-16T00:00:00\", \"2020-06-17T00:00:00\", \"2020-06-18T00:00:00\", \"2020-06-19T00:00:00\", \"2020-06-20T00:00:00\", \"2020-06-21T00:00:00\", \"2020-06-22T00:00:00\", \"2020-06-23T00:00:00\", \"2020-06-24T00:00:00\", \"2020-06-25T00:00:00\", \"2020-06-26T00:00:00\", \"2020-06-27T00:00:00\", \"2020-06-28T00:00:00\", \"2020-06-29T00:00:00\", \"2020-06-30T00:00:00\", \"2020-07-01T00:00:00\", \"2020-07-02T00:00:00\", \"2020-07-03T00:00:00\", \"2020-07-04T00:00:00\", \"2020-07-05T00:00:00\", \"2020-07-06T00:00:00\", \"2020-07-07T00:00:00\", \"2020-07-08T00:00:00\", \"2020-07-09T00:00:00\", \"2020-07-10T00:00:00\", \"2020-07-11T00:00:00\", \"2020-07-12T00:00:00\", \"2020-07-13T00:00:00\", \"2020-07-14T00:00:00\", \"2020-07-15T00:00:00\", \"2020-07-16T00:00:00\", \"2020-07-17T00:00:00\", \"2020-07-18T00:00:00\", \"2020-07-19T00:00:00\", \"2020-07-20T00:00:00\", \"2020-07-21T00:00:00\", \"2020-07-22T00:00:00\", \"2020-07-23T00:00:00\", \"2020-07-24T00:00:00\", \"2020-07-25T00:00:00\", \"2020-07-26T00:00:00\", \"2020-07-27T00:00:00\", \"2020-07-28T00:00:00\", \"2020-07-29T00:00:00\", \"2020-07-30T00:00:00\", \"2020-07-31T00:00:00\", \"2020-08-01T00:00:00\", \"2020-08-02T00:00:00\", \"2020-08-03T00:00:00\", \"2020-08-04T00:00:00\", \"2020-08-05T00:00:00\", \"2020-08-06T00:00:00\", \"2020-08-07T00:00:00\", \"2020-08-08T00:00:00\", \"2020-08-09T00:00:00\", \"2020-08-10T00:00:00\", \"2020-08-11T00:00:00\", \"2020-08-12T00:00:00\"], \"y\": [1.439408040372247, 1.6718503668761469, 0.5262341077042263, -3.6590904008476315, -5.394364020151572, -3.814279748646895, 0.8629926024360725, 2.1681472558923556, 2.40058941452987, 1.254972987496277, -2.930351688918226, -4.665625364320291, -3.0855411489145856, 1.591731146064381, 2.896886006443547, 3.129328372009859, 1.9837121519012468, -2.201612152994721, -3.936885509283292, -2.3568009747789094, 2.320472107862476, 3.625627601368235, 3.8580706000646954, 2.7124550130795853, -1.4716377776808294, -3.2056796198301694, -1.6243635711892765, 3.108013220462705, 4.468272422980017, 4.7558191306892645, 6.652196519491912, 5.508865658893301, 6.815585746922229, 17.13655200635828, 30.554706345389302, 40.60074309528328, 49.574067350372765, 61.8474839937155, 71.08119238766352, 82.76495173024117, 97.7640747865431, 115.8603859224244, 130.58457946919253, 144.23606050907642, 156.50948296328787, 165.74319716809953, 176.68811318143594, 190.9483870855611, 208.30584906926404, 222.29119346385383, 233.4636515650546, 243.25805108058213, 250.01274234673008, 259.216155592988, 271.7349267300521, 287.35088594668895, 299.5947274151251, 310.7658563887523, 320.55892677669675, 328.6204414210169, 339.1320070139443, 352.95893049767807, 369.88304206098167, 388.1520358078158, 405.348317059839, 421.1665397261806, 436.22265062948134, 453.72881248139714, 474.5503322241027, 498.50817960124914, 519.0939093892629, 538.6069266824683, 556.7418889217296, 571.8371429116347, 589.3824478501213, 610.2431106794152, 634.20096161431, 654.7866949600678, 674.2997158110184, 692.4346779482025, 707.5299318360051, 725.0752366724082, 745.292074574272, 768.6061005557258, 788.5480089480383, 807.4172048455486, 824.9083421573852, 839.3597712198406, 856.2612512308988, 876.4780891327646, 899.7921151142058, 919.7340235065301, 938.6032194040407, 956.0943567158741, 970.5457857783292, 987.4472657893901, 1007.6641036912581, 1030.9781296726978, 1050.9200380650188, 1069.7892339625275, 1087.2803712743607, 1101.731800336815, 1118.6332803478804, 1138.8501182497519, 1162.1641442311902, 1182.1060526235074, 1200.975248521022, 1218.466385832861, 1232.9178148953038, 1249.8192949063703, 1270.0361328082454, 1293.3501587896722, 1313.2920671820018, 1332.1612630795114, 1349.65240039135, 1364.1038294537907, 1381.0053094648613, 1401.2221473667219, 1424.5361733481627, 1444.4780817404908, 1463.3472776380008, 1480.8384149498393, 1495.2898440122958, 1512.1913240233512, 1532.4081619252156, 1555.722187906657, 1575.6640962989825, 1594.5332921964903, 1612.0244295083255, 1626.4758585707814, 1643.377338581841, 1663.5941764837091, 1686.9082024651493]}, {\"marker\": {\"color\": \"yellow\"}, \"mode\": \"lines+markers\", \"name\": \"Actual Cases\", \"type\": \"scatter\", \"x\": [\"2020-04-02T00:00:00\", \"2020-04-03T00:00:00\", \"2020-04-04T00:00:00\", \"2020-04-05T00:00:00\", \"2020-04-06T00:00:00\", \"2020-04-07T00:00:00\", \"2020-04-08T00:00:00\", \"2020-04-09T00:00:00\", \"2020-04-10T00:00:00\", \"2020-04-11T00:00:00\", \"2020-04-12T00:00:00\", \"2020-04-13T00:00:00\", \"2020-04-14T00:00:00\", \"2020-04-15T00:00:00\", \"2020-04-16T00:00:00\", \"2020-04-17T00:00:00\", \"2020-04-18T00:00:00\", \"2020-04-19T00:00:00\", \"2020-04-20T00:00:00\", \"2020-04-21T00:00:00\", \"2020-04-22T00:00:00\", \"2020-04-23T00:00:00\", \"2020-04-24T00:00:00\", \"2020-04-25T00:00:00\", \"2020-04-26T00:00:00\", \"2020-04-27T00:00:00\", \"2020-04-28T00:00:00\", \"2020-04-29T00:00:00\", \"2020-04-30T00:00:00\", \"2020-05-01T00:00:00\", \"2020-05-02T00:00:00\", \"2020-05-03T00:00:00\", \"2020-05-04T00:00:00\", \"2020-05-05T00:00:00\", \"2020-05-06T00:00:00\", \"2020-05-07T00:00:00\", \"2020-05-08T00:00:00\", \"2020-05-09T00:00:00\", \"2020-05-10T00:00:00\", \"2020-05-11T00:00:00\", \"2020-05-12T00:00:00\", \"2020-05-13T00:00:00\", \"2020-05-14T00:00:00\", \"2020-05-15T00:00:00\", \"2020-05-16T00:00:00\", \"2020-05-17T00:00:00\", \"2020-05-18T00:00:00\", \"2020-05-19T00:00:00\", \"2020-05-20T00:00:00\", \"2020-05-21T00:00:00\", \"2020-05-22T00:00:00\", \"2020-05-23T00:00:00\", \"2020-05-24T00:00:00\", \"2020-05-25T00:00:00\", \"2020-05-26T00:00:00\", \"2020-05-27T00:00:00\", \"2020-05-28T00:00:00\", \"2020-05-29T00:00:00\", \"2020-05-30T00:00:00\", \"2020-05-31T00:00:00\", \"2020-06-01T00:00:00\", \"2020-06-02T00:00:00\", \"2020-06-03T00:00:00\", \"2020-06-04T00:00:00\", \"2020-06-05T00:00:00\", \"2020-06-06T00:00:00\", \"2020-06-07T00:00:00\", \"2020-06-08T00:00:00\", \"2020-06-09T00:00:00\", \"2020-06-10T00:00:00\", \"2020-06-11T00:00:00\", \"2020-06-12T00:00:00\", \"2020-06-13T00:00:00\", \"2020-06-14T00:00:00\", \"2020-06-15T00:00:00\", \"2020-06-16T00:00:00\", \"2020-06-17T00:00:00\", \"2020-06-18T00:00:00\", \"2020-06-19T00:00:00\", \"2020-06-20T00:00:00\", \"2020-06-21T00:00:00\", \"2020-06-22T00:00:00\", \"2020-06-23T00:00:00\", \"2020-06-24T00:00:00\", \"2020-06-25T00:00:00\", \"2020-06-26T00:00:00\", \"2020-06-27T00:00:00\", \"2020-06-28T00:00:00\", \"2020-06-29T00:00:00\", \"2020-06-30T00:00:00\", \"2020-07-01T00:00:00\", \"2020-07-02T00:00:00\", \"2020-07-03T00:00:00\", \"2020-07-04T00:00:00\", \"2020-07-05T00:00:00\", \"2020-07-06T00:00:00\", \"2020-07-07T00:00:00\", \"2020-07-08T00:00:00\", \"2020-07-09T00:00:00\", \"2020-07-10T00:00:00\", \"2020-07-11T00:00:00\", \"2020-07-12T00:00:00\", \"2020-07-13T00:00:00\"], \"y\": [0, 0, 0, 0, 0, 0, 0, 0, 0, 0, 0, 0, 0, 0, 0, 0, 0, 0, 0, 0, 0, 0, 0, 1, 1, 2, 2, 3, 3, 3, 4, 6, 7, 11, 23, 37, 49, 52, 52, 75, 89, 119, 132, 156, 166, 176, 186, 203, 215, 229, 244, 250, 256, 266, 276, 286, 295, 305, 313, 321, 333, 343, 358, 383, 402, 432, 442, 445, 466, 502, 525, 543, 556, 566, 584, 608, 636, 650, 660, 672, 683, 703, 737, 779, 811, 826, 847, 864, 875, 885, 906, 926, 945, 968, 986, 1002, 1014, 1025, 1038, 1055, 1073, 1085, 1100]}],\n",
              "                        {\"template\": {\"data\": {\"bar\": [{\"error_x\": {\"color\": \"#2a3f5f\"}, \"error_y\": {\"color\": \"#2a3f5f\"}, \"marker\": {\"line\": {\"color\": \"#E5ECF6\", \"width\": 0.5}}, \"type\": \"bar\"}], \"barpolar\": [{\"marker\": {\"line\": {\"color\": \"#E5ECF6\", \"width\": 0.5}}, \"type\": \"barpolar\"}], \"carpet\": [{\"aaxis\": {\"endlinecolor\": \"#2a3f5f\", \"gridcolor\": \"white\", \"linecolor\": \"white\", \"minorgridcolor\": \"white\", \"startlinecolor\": \"#2a3f5f\"}, \"baxis\": {\"endlinecolor\": \"#2a3f5f\", \"gridcolor\": \"white\", \"linecolor\": \"white\", \"minorgridcolor\": \"white\", \"startlinecolor\": \"#2a3f5f\"}, \"type\": \"carpet\"}], \"choropleth\": [{\"colorbar\": {\"outlinewidth\": 0, \"ticks\": \"\"}, \"type\": \"choropleth\"}], \"contour\": [{\"colorbar\": {\"outlinewidth\": 0, \"ticks\": \"\"}, \"colorscale\": [[0.0, \"#0d0887\"], [0.1111111111111111, \"#46039f\"], [0.2222222222222222, \"#7201a8\"], [0.3333333333333333, \"#9c179e\"], [0.4444444444444444, \"#bd3786\"], [0.5555555555555556, \"#d8576b\"], [0.6666666666666666, \"#ed7953\"], [0.7777777777777778, \"#fb9f3a\"], [0.8888888888888888, \"#fdca26\"], [1.0, \"#f0f921\"]], \"type\": \"contour\"}], \"contourcarpet\": [{\"colorbar\": {\"outlinewidth\": 0, \"ticks\": \"\"}, \"type\": \"contourcarpet\"}], \"heatmap\": [{\"colorbar\": {\"outlinewidth\": 0, \"ticks\": \"\"}, \"colorscale\": [[0.0, \"#0d0887\"], [0.1111111111111111, \"#46039f\"], [0.2222222222222222, \"#7201a8\"], [0.3333333333333333, \"#9c179e\"], [0.4444444444444444, \"#bd3786\"], [0.5555555555555556, \"#d8576b\"], [0.6666666666666666, \"#ed7953\"], [0.7777777777777778, \"#fb9f3a\"], [0.8888888888888888, \"#fdca26\"], [1.0, \"#f0f921\"]], \"type\": \"heatmap\"}], \"heatmapgl\": [{\"colorbar\": {\"outlinewidth\": 0, \"ticks\": \"\"}, \"colorscale\": [[0.0, \"#0d0887\"], [0.1111111111111111, \"#46039f\"], [0.2222222222222222, \"#7201a8\"], [0.3333333333333333, \"#9c179e\"], [0.4444444444444444, \"#bd3786\"], [0.5555555555555556, \"#d8576b\"], [0.6666666666666666, \"#ed7953\"], [0.7777777777777778, \"#fb9f3a\"], [0.8888888888888888, \"#fdca26\"], [1.0, \"#f0f921\"]], \"type\": \"heatmapgl\"}], \"histogram\": [{\"marker\": {\"colorbar\": {\"outlinewidth\": 0, \"ticks\": \"\"}}, \"type\": \"histogram\"}], \"histogram2d\": [{\"colorbar\": {\"outlinewidth\": 0, \"ticks\": \"\"}, \"colorscale\": [[0.0, \"#0d0887\"], [0.1111111111111111, \"#46039f\"], [0.2222222222222222, \"#7201a8\"], [0.3333333333333333, \"#9c179e\"], [0.4444444444444444, \"#bd3786\"], [0.5555555555555556, \"#d8576b\"], [0.6666666666666666, \"#ed7953\"], [0.7777777777777778, \"#fb9f3a\"], [0.8888888888888888, \"#fdca26\"], [1.0, \"#f0f921\"]], \"type\": \"histogram2d\"}], \"histogram2dcontour\": [{\"colorbar\": {\"outlinewidth\": 0, \"ticks\": \"\"}, \"colorscale\": [[0.0, \"#0d0887\"], [0.1111111111111111, \"#46039f\"], [0.2222222222222222, \"#7201a8\"], [0.3333333333333333, \"#9c179e\"], [0.4444444444444444, \"#bd3786\"], [0.5555555555555556, \"#d8576b\"], [0.6666666666666666, \"#ed7953\"], [0.7777777777777778, \"#fb9f3a\"], [0.8888888888888888, \"#fdca26\"], [1.0, \"#f0f921\"]], \"type\": \"histogram2dcontour\"}], \"mesh3d\": [{\"colorbar\": {\"outlinewidth\": 0, \"ticks\": \"\"}, \"type\": \"mesh3d\"}], \"parcoords\": [{\"line\": {\"colorbar\": {\"outlinewidth\": 0, \"ticks\": \"\"}}, \"type\": \"parcoords\"}], \"pie\": [{\"automargin\": true, \"type\": \"pie\"}], \"scatter\": [{\"marker\": {\"colorbar\": {\"outlinewidth\": 0, \"ticks\": \"\"}}, \"type\": \"scatter\"}], \"scatter3d\": [{\"line\": {\"colorbar\": {\"outlinewidth\": 0, \"ticks\": \"\"}}, \"marker\": {\"colorbar\": {\"outlinewidth\": 0, \"ticks\": \"\"}}, \"type\": \"scatter3d\"}], \"scattercarpet\": [{\"marker\": {\"colorbar\": {\"outlinewidth\": 0, \"ticks\": \"\"}}, \"type\": \"scattercarpet\"}], \"scattergeo\": [{\"marker\": {\"colorbar\": {\"outlinewidth\": 0, \"ticks\": \"\"}}, \"type\": \"scattergeo\"}], \"scattergl\": [{\"marker\": {\"colorbar\": {\"outlinewidth\": 0, \"ticks\": \"\"}}, \"type\": \"scattergl\"}], \"scattermapbox\": [{\"marker\": {\"colorbar\": {\"outlinewidth\": 0, \"ticks\": \"\"}}, \"type\": \"scattermapbox\"}], \"scatterpolar\": [{\"marker\": {\"colorbar\": {\"outlinewidth\": 0, \"ticks\": \"\"}}, \"type\": \"scatterpolar\"}], \"scatterpolargl\": [{\"marker\": {\"colorbar\": {\"outlinewidth\": 0, \"ticks\": \"\"}}, \"type\": \"scatterpolargl\"}], \"scatterternary\": [{\"marker\": {\"colorbar\": {\"outlinewidth\": 0, \"ticks\": \"\"}}, \"type\": \"scatterternary\"}], \"surface\": [{\"colorbar\": {\"outlinewidth\": 0, \"ticks\": \"\"}, \"colorscale\": [[0.0, \"#0d0887\"], [0.1111111111111111, \"#46039f\"], [0.2222222222222222, \"#7201a8\"], [0.3333333333333333, \"#9c179e\"], [0.4444444444444444, \"#bd3786\"], [0.5555555555555556, \"#d8576b\"], [0.6666666666666666, \"#ed7953\"], [0.7777777777777778, \"#fb9f3a\"], [0.8888888888888888, \"#fdca26\"], [1.0, \"#f0f921\"]], \"type\": \"surface\"}], \"table\": [{\"cells\": {\"fill\": {\"color\": \"#EBF0F8\"}, \"line\": {\"color\": \"white\"}}, \"header\": {\"fill\": {\"color\": \"#C8D4E3\"}, \"line\": {\"color\": \"white\"}}, \"type\": \"table\"}]}, \"layout\": {\"annotationdefaults\": {\"arrowcolor\": \"#2a3f5f\", \"arrowhead\": 0, \"arrowwidth\": 1}, \"coloraxis\": {\"colorbar\": {\"outlinewidth\": 0, \"ticks\": \"\"}}, \"colorscale\": {\"diverging\": [[0, \"#8e0152\"], [0.1, \"#c51b7d\"], [0.2, \"#de77ae\"], [0.3, \"#f1b6da\"], [0.4, \"#fde0ef\"], [0.5, \"#f7f7f7\"], [0.6, \"#e6f5d0\"], [0.7, \"#b8e186\"], [0.8, \"#7fbc41\"], [0.9, \"#4d9221\"], [1, \"#276419\"]], \"sequential\": [[0.0, \"#0d0887\"], [0.1111111111111111, \"#46039f\"], [0.2222222222222222, \"#7201a8\"], [0.3333333333333333, \"#9c179e\"], [0.4444444444444444, \"#bd3786\"], [0.5555555555555556, \"#d8576b\"], [0.6666666666666666, \"#ed7953\"], [0.7777777777777778, \"#fb9f3a\"], [0.8888888888888888, \"#fdca26\"], [1.0, \"#f0f921\"]], \"sequentialminus\": [[0.0, \"#0d0887\"], [0.1111111111111111, \"#46039f\"], [0.2222222222222222, \"#7201a8\"], [0.3333333333333333, \"#9c179e\"], [0.4444444444444444, \"#bd3786\"], [0.5555555555555556, \"#d8576b\"], [0.6666666666666666, \"#ed7953\"], [0.7777777777777778, \"#fb9f3a\"], [0.8888888888888888, \"#fdca26\"], [1.0, \"#f0f921\"]]}, \"colorway\": [\"#636efa\", \"#EF553B\", \"#00cc96\", \"#ab63fa\", \"#FFA15A\", \"#19d3f3\", \"#FF6692\", \"#B6E880\", \"#FF97FF\", \"#FECB52\"], \"font\": {\"color\": \"#2a3f5f\"}, \"geo\": {\"bgcolor\": \"white\", \"lakecolor\": \"white\", \"landcolor\": \"#E5ECF6\", \"showlakes\": true, \"showland\": true, \"subunitcolor\": \"white\"}, \"hoverlabel\": {\"align\": \"left\"}, \"hovermode\": \"closest\", \"mapbox\": {\"style\": \"light\"}, \"paper_bgcolor\": \"white\", \"plot_bgcolor\": \"#E5ECF6\", \"polar\": {\"angularaxis\": {\"gridcolor\": \"white\", \"linecolor\": \"white\", \"ticks\": \"\"}, \"bgcolor\": \"#E5ECF6\", \"radialaxis\": {\"gridcolor\": \"white\", \"linecolor\": \"white\", \"ticks\": \"\"}}, \"scene\": {\"xaxis\": {\"backgroundcolor\": \"#E5ECF6\", \"gridcolor\": \"white\", \"gridwidth\": 2, \"linecolor\": \"white\", \"showbackground\": true, \"ticks\": \"\", \"zerolinecolor\": \"white\"}, \"yaxis\": {\"backgroundcolor\": \"#E5ECF6\", \"gridcolor\": \"white\", \"gridwidth\": 2, \"linecolor\": \"white\", \"showbackground\": true, \"ticks\": \"\", \"zerolinecolor\": \"white\"}, \"zaxis\": {\"backgroundcolor\": \"#E5ECF6\", \"gridcolor\": \"white\", \"gridwidth\": 2, \"linecolor\": \"white\", \"showbackground\": true, \"ticks\": \"\", \"zerolinecolor\": \"white\"}}, \"shapedefaults\": {\"line\": {\"color\": \"#2a3f5f\"}}, \"ternary\": {\"aaxis\": {\"gridcolor\": \"white\", \"linecolor\": \"white\", \"ticks\": \"\"}, \"baxis\": {\"gridcolor\": \"white\", \"linecolor\": \"white\", \"ticks\": \"\"}, \"bgcolor\": \"#E5ECF6\", \"caxis\": {\"gridcolor\": \"white\", \"linecolor\": \"white\", \"ticks\": \"\"}}, \"title\": {\"x\": 0.05}, \"xaxis\": {\"automargin\": true, \"gridcolor\": \"white\", \"linecolor\": \"white\", \"ticks\": \"\", \"title\": {\"standoff\": 15}, \"zerolinecolor\": \"white\", \"zerolinewidth\": 2}, \"yaxis\": {\"automargin\": true, \"gridcolor\": \"white\", \"linecolor\": \"white\", \"ticks\": \"\", \"title\": {\"standoff\": 15}, \"zerolinecolor\": \"white\", \"zerolinewidth\": 2}}}, \"title\": {\"text\": \"Forecasting of Recovered in BREVES for Next 30 Days\"}},\n",
              "                        {\"responsive\": true}\n",
              "                    ).then(function(){\n",
              "                            \n",
              "var gd = document.getElementById('05724b54-ce26-49a9-8800-399993f2bd2e');\n",
              "var x = new MutationObserver(function (mutations, observer) {{\n",
              "        var display = window.getComputedStyle(gd).display;\n",
              "        if (!display || display === 'none') {{\n",
              "            console.log([gd, 'removed!']);\n",
              "            Plotly.purge(gd);\n",
              "            observer.disconnect();\n",
              "        }}\n",
              "}});\n",
              "\n",
              "// Listen for the removal of the full notebook cells\n",
              "var notebookContainer = gd.closest('#notebook-container');\n",
              "if (notebookContainer) {{\n",
              "    x.observe(notebookContainer, {childList: true});\n",
              "}}\n",
              "\n",
              "// Listen for the clearing of the current output cell\n",
              "var outputEl = gd.closest('.output');\n",
              "if (outputEl) {{\n",
              "    x.observe(outputEl, {childList: true});\n",
              "}}\n",
              "\n",
              "                        })\n",
              "                };\n",
              "                });\n",
              "            </script>\n",
              "        </div>"
            ]
          },
          "metadata": {
            "tags": []
          }
        }
      ]
    },
    {
      "cell_type": "markdown",
      "metadata": {
        "id": "7ZgBs5O4cw7P",
        "colab_type": "text"
      },
      "source": [
        "# Referências\n",
        "[COVID-19 BREVES](https://sites.google.com/view/coronavirusbreves/)\n",
        "\n",
        "[Painel Coronavírus](https://covid.saude.gov.br/)\n",
        "\n",
        "[Vigilância Epidemiológica - SESPA](https://www.covid-19.pa.gov.br/#/)\n",
        "\n",
        "[Prophet](https://facebook.github.io/prophet/)\n",
        "\n",
        "[Forecasting at Scale](https://peerj.com/preprints/3190.pdf)\n",
        "\n",
        "[Prophet: forecasting at scale](https://research.fb.com/blog/2017/02/prophet-forecasting-at-scale/)"
      ]
    }
  ]
}